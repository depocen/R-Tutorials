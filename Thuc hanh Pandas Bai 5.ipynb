{
 "cells": [
  {
   "cell_type": "markdown",
   "metadata": {},
   "source": [
    "# Làm quen với pandas \n",
    "\n",
    "## Bài 5: Giới thiệu hàm apply\n",
    "\n",
    "Bs. Lê Ngọc Khả Nhi,\n",
    "03/09/2018.\n",
    "\n",
    "Chào các bạn, trong bài thứ 5 của series \"Làm quen với pandas\", Nhi sẽ giới thiệu về hàm apply trong thư viện pandas. Các bạn  đã từng dùng ngôn ngữ R chắc đã biết về công dụng của nhóm hàm apply, cho phép lặp lại cùng một quy trình cho hàng hay cột trong dataframe. Hàm apply của pandas trong Python cũng hoạt động theo cùng cơ chế này.\n",
    "\n",
    "Chúng ta lấy thí dụ một dataset có nhiều biến (cột) như sau (đây là dữ liệu từ 1 thử nghiệm lâm sàng về bệnh lý ngưng thở khi  ngủ. Để đơn giản, ta chỉ xét 1 vài biến định lượng quan trọng là AHI, RDI, ODI và RERA ở thời điểm Baseline"
   ]
  },
  {
   "cell_type": "code",
   "execution_count": 3,
   "metadata": {},
   "outputs": [],
   "source": [
    "import pandas as pd"
   ]
  },
  {
   "cell_type": "code",
   "execution_count": 9,
   "metadata": {},
   "outputs": [
    {
     "name": "stdout",
     "output_type": "stream",
     "text": [
      "<class 'pandas.core.frame.DataFrame'>\n",
      "RangeIndex: 50 entries, 0 to 49\n",
      "Data columns (total 30 columns):\n",
      "Id                   50 non-null object\n",
      "Time                 50 non-null object\n",
      "TST                  50 non-null int64\n",
      "dtMM                 50 non-null float64\n",
      "dtRERA               50 non-null float64\n",
      "dtAH                 50 non-null float64\n",
      "dtRD                 50 non-null float64\n",
      "Allergy              48 non-null object\n",
      "Snoring              50 non-null object\n",
      "Apnea                50 non-null object\n",
      "Behavor              47 non-null object\n",
      "Daysleep             48 non-null object\n",
      "SchoolPerformance    23 non-null object\n",
      "Sex                  50 non-null object\n",
      "Age                  50 non-null float64\n",
      "Height               50 non-null float64\n",
      "Weight               50 non-null float64\n",
      "BMI                  50 non-null float64\n",
      "nMM                  50 non-null int64\n",
      "nRERA                50 non-null int64\n",
      "nAH                  50 non-null int64\n",
      "nRD                  50 non-null int64\n",
      "nAr                  50 non-null int64\n",
      "nOD                  50 non-null int64\n",
      "ARI                  50 non-null float64\n",
      "AHI                  50 non-null float64\n",
      "RERA                 50 non-null float64\n",
      "RDI                  50 non-null float64\n",
      "ODI                  50 non-null float64\n",
      "MMSI                 50 non-null float64\n",
      "dtypes: float64(14), int64(7), object(9)\n",
      "memory usage: 11.8+ KB\n"
     ]
    }
   ],
   "source": [
    "data=pd.read_csv(\"prepoststudy.csv\",sep=';')\n",
    "\n",
    "data.info()"
   ]
  },
  {
   "cell_type": "code",
   "execution_count": 10,
   "metadata": {},
   "outputs": [
    {
     "data": {
      "text/html": [
       "<div>\n",
       "<style scoped>\n",
       "    .dataframe tbody tr th:only-of-type {\n",
       "        vertical-align: middle;\n",
       "    }\n",
       "\n",
       "    .dataframe tbody tr th {\n",
       "        vertical-align: top;\n",
       "    }\n",
       "\n",
       "    .dataframe thead th {\n",
       "        text-align: right;\n",
       "    }\n",
       "</style>\n",
       "<table border=\"1\" class=\"dataframe\">\n",
       "  <thead>\n",
       "    <tr style=\"text-align: right;\">\n",
       "      <th></th>\n",
       "      <th>Id</th>\n",
       "      <th>Time</th>\n",
       "      <th>TST</th>\n",
       "      <th>dtMM</th>\n",
       "      <th>dtRERA</th>\n",
       "      <th>dtAH</th>\n",
       "      <th>dtRD</th>\n",
       "      <th>Allergy</th>\n",
       "      <th>Snoring</th>\n",
       "      <th>Apnea</th>\n",
       "      <th>...</th>\n",
       "      <th>nAH</th>\n",
       "      <th>nRD</th>\n",
       "      <th>nAr</th>\n",
       "      <th>nOD</th>\n",
       "      <th>ARI</th>\n",
       "      <th>AHI</th>\n",
       "      <th>RERA</th>\n",
       "      <th>RDI</th>\n",
       "      <th>ODI</th>\n",
       "      <th>MMSI</th>\n",
       "    </tr>\n",
       "  </thead>\n",
       "  <tbody>\n",
       "    <tr>\n",
       "      <th>0</th>\n",
       "      <td>s01</td>\n",
       "      <td>Baseline</td>\n",
       "      <td>295</td>\n",
       "      <td>261.510000</td>\n",
       "      <td>40.605000</td>\n",
       "      <td>4.918333</td>\n",
       "      <td>45.523333</td>\n",
       "      <td>Yes</td>\n",
       "      <td>Yes</td>\n",
       "      <td>Yes</td>\n",
       "      <td>...</td>\n",
       "      <td>134</td>\n",
       "      <td>153</td>\n",
       "      <td>118</td>\n",
       "      <td>95</td>\n",
       "      <td>24.000000</td>\n",
       "      <td>27.254237</td>\n",
       "      <td>3.864407</td>\n",
       "      <td>31.118644</td>\n",
       "      <td>19.322034</td>\n",
       "      <td>26.847458</td>\n",
       "    </tr>\n",
       "    <tr>\n",
       "      <th>1</th>\n",
       "      <td>s02</td>\n",
       "      <td>Baseline</td>\n",
       "      <td>395</td>\n",
       "      <td>249.878333</td>\n",
       "      <td>2.365000</td>\n",
       "      <td>200.206667</td>\n",
       "      <td>202.571667</td>\n",
       "      <td>Yes</td>\n",
       "      <td>Yes</td>\n",
       "      <td>Yes</td>\n",
       "      <td>...</td>\n",
       "      <td>166</td>\n",
       "      <td>167</td>\n",
       "      <td>60</td>\n",
       "      <td>402</td>\n",
       "      <td>9.113924</td>\n",
       "      <td>25.215190</td>\n",
       "      <td>0.151899</td>\n",
       "      <td>25.367089</td>\n",
       "      <td>61.063291</td>\n",
       "      <td>22.632911</td>\n",
       "    </tr>\n",
       "    <tr>\n",
       "      <th>2</th>\n",
       "      <td>s03</td>\n",
       "      <td>Baseline</td>\n",
       "      <td>486</td>\n",
       "      <td>129.626667</td>\n",
       "      <td>103.085000</td>\n",
       "      <td>25.788333</td>\n",
       "      <td>128.873333</td>\n",
       "      <td>Yes</td>\n",
       "      <td>Yes</td>\n",
       "      <td>Yes</td>\n",
       "      <td>...</td>\n",
       "      <td>115</td>\n",
       "      <td>126</td>\n",
       "      <td>129</td>\n",
       "      <td>100</td>\n",
       "      <td>15.925926</td>\n",
       "      <td>14.197531</td>\n",
       "      <td>1.358025</td>\n",
       "      <td>15.555556</td>\n",
       "      <td>12.345679</td>\n",
       "      <td>20.123457</td>\n",
       "    </tr>\n",
       "    <tr>\n",
       "      <th>3</th>\n",
       "      <td>s04</td>\n",
       "      <td>Baseline</td>\n",
       "      <td>419</td>\n",
       "      <td>417.578333</td>\n",
       "      <td>4.013333</td>\n",
       "      <td>83.340000</td>\n",
       "      <td>87.353333</td>\n",
       "      <td>No</td>\n",
       "      <td>Yes</td>\n",
       "      <td>Yes</td>\n",
       "      <td>...</td>\n",
       "      <td>223</td>\n",
       "      <td>223</td>\n",
       "      <td>206</td>\n",
       "      <td>190</td>\n",
       "      <td>29.498807</td>\n",
       "      <td>31.933174</td>\n",
       "      <td>0.000000</td>\n",
       "      <td>31.933174</td>\n",
       "      <td>27.207637</td>\n",
       "      <td>22.625298</td>\n",
       "    </tr>\n",
       "    <tr>\n",
       "      <th>4</th>\n",
       "      <td>s05</td>\n",
       "      <td>Baseline</td>\n",
       "      <td>504</td>\n",
       "      <td>69.763333</td>\n",
       "      <td>0.000000</td>\n",
       "      <td>49.123333</td>\n",
       "      <td>49.123333</td>\n",
       "      <td>No</td>\n",
       "      <td>Yes</td>\n",
       "      <td>Yes</td>\n",
       "      <td>...</td>\n",
       "      <td>87</td>\n",
       "      <td>87</td>\n",
       "      <td>127</td>\n",
       "      <td>23</td>\n",
       "      <td>15.119048</td>\n",
       "      <td>10.357143</td>\n",
       "      <td>0.000000</td>\n",
       "      <td>10.357143</td>\n",
       "      <td>2.738095</td>\n",
       "      <td>12.857143</td>\n",
       "    </tr>\n",
       "  </tbody>\n",
       "</table>\n",
       "<p>5 rows × 30 columns</p>\n",
       "</div>"
      ],
      "text/plain": [
       "    Id      Time  TST        dtMM      dtRERA        dtAH        dtRD Allergy  \\\n",
       "0  s01  Baseline  295  261.510000   40.605000    4.918333   45.523333     Yes   \n",
       "1  s02  Baseline  395  249.878333    2.365000  200.206667  202.571667     Yes   \n",
       "2  s03  Baseline  486  129.626667  103.085000   25.788333  128.873333     Yes   \n",
       "3  s04  Baseline  419  417.578333    4.013333   83.340000   87.353333      No   \n",
       "4  s05  Baseline  504   69.763333    0.000000   49.123333   49.123333      No   \n",
       "\n",
       "  Snoring Apnea    ...      nAH  nRD  nAr  nOD        ARI        AHI  \\\n",
       "0     Yes   Yes    ...      134  153  118   95  24.000000  27.254237   \n",
       "1     Yes   Yes    ...      166  167   60  402   9.113924  25.215190   \n",
       "2     Yes   Yes    ...      115  126  129  100  15.925926  14.197531   \n",
       "3     Yes   Yes    ...      223  223  206  190  29.498807  31.933174   \n",
       "4     Yes   Yes    ...       87   87  127   23  15.119048  10.357143   \n",
       "\n",
       "       RERA        RDI        ODI       MMSI  \n",
       "0  3.864407  31.118644  19.322034  26.847458  \n",
       "1  0.151899  25.367089  61.063291  22.632911  \n",
       "2  1.358025  15.555556  12.345679  20.123457  \n",
       "3  0.000000  31.933174  27.207637  22.625298  \n",
       "4  0.000000  10.357143   2.738095  12.857143  \n",
       "\n",
       "[5 rows x 30 columns]"
      ]
     },
     "execution_count": 10,
     "metadata": {},
     "output_type": "execute_result"
    }
   ],
   "source": [
    "baseline_df=data.loc[(data.Time == 'Baseline'),:]\n",
    "\n",
    "baseline_df.head()"
   ]
  },
  {
   "cell_type": "markdown",
   "metadata": {},
   "source": [
    "Trong Python, ta có thể làm 1 phép tính đơn giản, thí dụ bình phương, căn bậc 2, nhân, chia cộng trừ ... cho toàn bộ dataframe mà không cần sử dụng đến vòng lặp, như trong thí dụ sau:"
   ]
  },
  {
   "cell_type": "code",
   "execution_count": 199,
   "metadata": {},
   "outputs": [
    {
     "data": {
      "text/html": [
       "<div>\n",
       "<style scoped>\n",
       "    .dataframe tbody tr th:only-of-type {\n",
       "        vertical-align: middle;\n",
       "    }\n",
       "\n",
       "    .dataframe tbody tr th {\n",
       "        vertical-align: top;\n",
       "    }\n",
       "\n",
       "    .dataframe thead th {\n",
       "        text-align: right;\n",
       "    }\n",
       "</style>\n",
       "<table border=\"1\" class=\"dataframe\">\n",
       "  <thead>\n",
       "    <tr style=\"text-align: right;\">\n",
       "      <th></th>\n",
       "      <th>AHI</th>\n",
       "      <th>ODI</th>\n",
       "    </tr>\n",
       "  </thead>\n",
       "  <tbody>\n",
       "    <tr>\n",
       "      <th>0</th>\n",
       "      <td>5.220559</td>\n",
       "      <td>4.395684</td>\n",
       "    </tr>\n",
       "    <tr>\n",
       "      <th>1</th>\n",
       "      <td>5.021473</td>\n",
       "      <td>7.814300</td>\n",
       "    </tr>\n",
       "    <tr>\n",
       "      <th>2</th>\n",
       "      <td>3.767961</td>\n",
       "      <td>3.513642</td>\n",
       "    </tr>\n",
       "    <tr>\n",
       "      <th>3</th>\n",
       "      <td>5.650945</td>\n",
       "      <td>5.216094</td>\n",
       "    </tr>\n",
       "    <tr>\n",
       "      <th>4</th>\n",
       "      <td>3.218252</td>\n",
       "      <td>1.654719</td>\n",
       "    </tr>\n",
       "    <tr>\n",
       "      <th>5</th>\n",
       "      <td>2.391574</td>\n",
       "      <td>1.059007</td>\n",
       "    </tr>\n",
       "    <tr>\n",
       "      <th>6</th>\n",
       "      <td>3.039662</td>\n",
       "      <td>2.504748</td>\n",
       "    </tr>\n",
       "    <tr>\n",
       "      <th>7</th>\n",
       "      <td>2.407560</td>\n",
       "      <td>1.532928</td>\n",
       "    </tr>\n",
       "    <tr>\n",
       "      <th>8</th>\n",
       "      <td>4.504293</td>\n",
       "      <td>4.161681</td>\n",
       "    </tr>\n",
       "    <tr>\n",
       "      <th>9</th>\n",
       "      <td>3.483508</td>\n",
       "      <td>1.835970</td>\n",
       "    </tr>\n",
       "    <tr>\n",
       "      <th>10</th>\n",
       "      <td>2.205644</td>\n",
       "      <td>4.318408</td>\n",
       "    </tr>\n",
       "    <tr>\n",
       "      <th>11</th>\n",
       "      <td>12.220636</td>\n",
       "      <td>12.038705</td>\n",
       "    </tr>\n",
       "    <tr>\n",
       "      <th>12</th>\n",
       "      <td>1.411276</td>\n",
       "      <td>0.864227</td>\n",
       "    </tr>\n",
       "    <tr>\n",
       "      <th>13</th>\n",
       "      <td>2.195285</td>\n",
       "      <td>0.918354</td>\n",
       "    </tr>\n",
       "    <tr>\n",
       "      <th>14</th>\n",
       "      <td>2.392184</td>\n",
       "      <td>2.666426</td>\n",
       "    </tr>\n",
       "    <tr>\n",
       "      <th>15</th>\n",
       "      <td>1.504710</td>\n",
       "      <td>0.696545</td>\n",
       "    </tr>\n",
       "    <tr>\n",
       "      <th>16</th>\n",
       "      <td>5.361903</td>\n",
       "      <td>0.674200</td>\n",
       "    </tr>\n",
       "    <tr>\n",
       "      <th>17</th>\n",
       "      <td>3.360672</td>\n",
       "      <td>3.105971</td>\n",
       "    </tr>\n",
       "    <tr>\n",
       "      <th>18</th>\n",
       "      <td>3.407771</td>\n",
       "      <td>2.525017</td>\n",
       "    </tr>\n",
       "    <tr>\n",
       "      <th>19</th>\n",
       "      <td>2.236068</td>\n",
       "      <td>1.290994</td>\n",
       "    </tr>\n",
       "    <tr>\n",
       "      <th>20</th>\n",
       "      <td>3.131724</td>\n",
       "      <td>1.358732</td>\n",
       "    </tr>\n",
       "    <tr>\n",
       "      <th>21</th>\n",
       "      <td>5.129551</td>\n",
       "      <td>0.446470</td>\n",
       "    </tr>\n",
       "    <tr>\n",
       "      <th>22</th>\n",
       "      <td>4.949015</td>\n",
       "      <td>3.768673</td>\n",
       "    </tr>\n",
       "    <tr>\n",
       "      <th>23</th>\n",
       "      <td>2.525359</td>\n",
       "      <td>1.908992</td>\n",
       "    </tr>\n",
       "    <tr>\n",
       "      <th>24</th>\n",
       "      <td>4.096298</td>\n",
       "      <td>3.135364</td>\n",
       "    </tr>\n",
       "  </tbody>\n",
       "</table>\n",
       "</div>"
      ],
      "text/plain": [
       "          AHI        ODI\n",
       "0    5.220559   4.395684\n",
       "1    5.021473   7.814300\n",
       "2    3.767961   3.513642\n",
       "3    5.650945   5.216094\n",
       "4    3.218252   1.654719\n",
       "5    2.391574   1.059007\n",
       "6    3.039662   2.504748\n",
       "7    2.407560   1.532928\n",
       "8    4.504293   4.161681\n",
       "9    3.483508   1.835970\n",
       "10   2.205644   4.318408\n",
       "11  12.220636  12.038705\n",
       "12   1.411276   0.864227\n",
       "13   2.195285   0.918354\n",
       "14   2.392184   2.666426\n",
       "15   1.504710   0.696545\n",
       "16   5.361903   0.674200\n",
       "17   3.360672   3.105971\n",
       "18   3.407771   2.525017\n",
       "19   2.236068   1.290994\n",
       "20   3.131724   1.358732\n",
       "21   5.129551   0.446470\n",
       "22   4.949015   3.768673\n",
       "23   2.525359   1.908992\n",
       "24   4.096298   3.135364"
      ]
     },
     "execution_count": 199,
     "metadata": {},
     "output_type": "execute_result"
    }
   ],
   "source": [
    "baseline_df[['AHI','ODI']]**.5"
   ]
  },
  {
   "cell_type": "markdown",
   "metadata": {},
   "source": [
    "Tuy nhiên, cách làm trên chỉ dùng được cho các phép tính đơn giản, một cách làm phổ quát hơn, đó là tạo ra hàm tính toán, rồi áp dụng hàm này kết hợp với apply. Trong thí dụ sau, Nhi tạo ra 1 hàm power với tùy chỉnh n=0.5 tương ứng với căn bậc 2, n=2 tương ứng với bình phương. Dùng hàm apply và hàm power này cho phép ta khai căn hoặc bình phương cho mỗi biến trong dataframe:"
   ]
  },
  {
   "cell_type": "code",
   "execution_count": 210,
   "metadata": {},
   "outputs": [
    {
     "data": {
      "text/html": [
       "<div>\n",
       "<style scoped>\n",
       "    .dataframe tbody tr th:only-of-type {\n",
       "        vertical-align: middle;\n",
       "    }\n",
       "\n",
       "    .dataframe tbody tr th {\n",
       "        vertical-align: top;\n",
       "    }\n",
       "\n",
       "    .dataframe thead th {\n",
       "        text-align: right;\n",
       "    }\n",
       "</style>\n",
       "<table border=\"1\" class=\"dataframe\">\n",
       "  <thead>\n",
       "    <tr style=\"text-align: right;\">\n",
       "      <th></th>\n",
       "      <th>AHI</th>\n",
       "      <th>ODI</th>\n",
       "    </tr>\n",
       "  </thead>\n",
       "  <tbody>\n",
       "    <tr>\n",
       "      <th>0</th>\n",
       "      <td>5.220559</td>\n",
       "      <td>4.395684</td>\n",
       "    </tr>\n",
       "    <tr>\n",
       "      <th>1</th>\n",
       "      <td>5.021473</td>\n",
       "      <td>7.814300</td>\n",
       "    </tr>\n",
       "    <tr>\n",
       "      <th>2</th>\n",
       "      <td>3.767961</td>\n",
       "      <td>3.513642</td>\n",
       "    </tr>\n",
       "    <tr>\n",
       "      <th>3</th>\n",
       "      <td>5.650945</td>\n",
       "      <td>5.216094</td>\n",
       "    </tr>\n",
       "    <tr>\n",
       "      <th>4</th>\n",
       "      <td>3.218252</td>\n",
       "      <td>1.654719</td>\n",
       "    </tr>\n",
       "    <tr>\n",
       "      <th>5</th>\n",
       "      <td>2.391574</td>\n",
       "      <td>1.059007</td>\n",
       "    </tr>\n",
       "    <tr>\n",
       "      <th>6</th>\n",
       "      <td>3.039662</td>\n",
       "      <td>2.504748</td>\n",
       "    </tr>\n",
       "    <tr>\n",
       "      <th>7</th>\n",
       "      <td>2.407560</td>\n",
       "      <td>1.532928</td>\n",
       "    </tr>\n",
       "    <tr>\n",
       "      <th>8</th>\n",
       "      <td>4.504293</td>\n",
       "      <td>4.161681</td>\n",
       "    </tr>\n",
       "    <tr>\n",
       "      <th>9</th>\n",
       "      <td>3.483508</td>\n",
       "      <td>1.835970</td>\n",
       "    </tr>\n",
       "    <tr>\n",
       "      <th>10</th>\n",
       "      <td>2.205644</td>\n",
       "      <td>4.318408</td>\n",
       "    </tr>\n",
       "    <tr>\n",
       "      <th>11</th>\n",
       "      <td>12.220636</td>\n",
       "      <td>12.038705</td>\n",
       "    </tr>\n",
       "    <tr>\n",
       "      <th>12</th>\n",
       "      <td>1.411276</td>\n",
       "      <td>0.864227</td>\n",
       "    </tr>\n",
       "    <tr>\n",
       "      <th>13</th>\n",
       "      <td>2.195285</td>\n",
       "      <td>0.918354</td>\n",
       "    </tr>\n",
       "    <tr>\n",
       "      <th>14</th>\n",
       "      <td>2.392184</td>\n",
       "      <td>2.666426</td>\n",
       "    </tr>\n",
       "    <tr>\n",
       "      <th>15</th>\n",
       "      <td>1.504710</td>\n",
       "      <td>0.696545</td>\n",
       "    </tr>\n",
       "    <tr>\n",
       "      <th>16</th>\n",
       "      <td>5.361903</td>\n",
       "      <td>0.674200</td>\n",
       "    </tr>\n",
       "    <tr>\n",
       "      <th>17</th>\n",
       "      <td>3.360672</td>\n",
       "      <td>3.105971</td>\n",
       "    </tr>\n",
       "    <tr>\n",
       "      <th>18</th>\n",
       "      <td>3.407771</td>\n",
       "      <td>2.525017</td>\n",
       "    </tr>\n",
       "    <tr>\n",
       "      <th>19</th>\n",
       "      <td>2.236068</td>\n",
       "      <td>1.290994</td>\n",
       "    </tr>\n",
       "    <tr>\n",
       "      <th>20</th>\n",
       "      <td>3.131724</td>\n",
       "      <td>1.358732</td>\n",
       "    </tr>\n",
       "    <tr>\n",
       "      <th>21</th>\n",
       "      <td>5.129551</td>\n",
       "      <td>0.446470</td>\n",
       "    </tr>\n",
       "    <tr>\n",
       "      <th>22</th>\n",
       "      <td>4.949015</td>\n",
       "      <td>3.768673</td>\n",
       "    </tr>\n",
       "    <tr>\n",
       "      <th>23</th>\n",
       "      <td>2.525359</td>\n",
       "      <td>1.908992</td>\n",
       "    </tr>\n",
       "    <tr>\n",
       "      <th>24</th>\n",
       "      <td>4.096298</td>\n",
       "      <td>3.135364</td>\n",
       "    </tr>\n",
       "  </tbody>\n",
       "</table>\n",
       "</div>"
      ],
      "text/plain": [
       "          AHI        ODI\n",
       "0    5.220559   4.395684\n",
       "1    5.021473   7.814300\n",
       "2    3.767961   3.513642\n",
       "3    5.650945   5.216094\n",
       "4    3.218252   1.654719\n",
       "5    2.391574   1.059007\n",
       "6    3.039662   2.504748\n",
       "7    2.407560   1.532928\n",
       "8    4.504293   4.161681\n",
       "9    3.483508   1.835970\n",
       "10   2.205644   4.318408\n",
       "11  12.220636  12.038705\n",
       "12   1.411276   0.864227\n",
       "13   2.195285   0.918354\n",
       "14   2.392184   2.666426\n",
       "15   1.504710   0.696545\n",
       "16   5.361903   0.674200\n",
       "17   3.360672   3.105971\n",
       "18   3.407771   2.525017\n",
       "19   2.236068   1.290994\n",
       "20   3.131724   1.358732\n",
       "21   5.129551   0.446470\n",
       "22   4.949015   3.768673\n",
       "23   2.525359   1.908992\n",
       "24   4.096298   3.135364"
      ]
     },
     "execution_count": 210,
     "metadata": {},
     "output_type": "execute_result"
    }
   ],
   "source": [
    "def power(x,n):\n",
    "    return x ** n\n",
    "\n",
    "baseline_df[['AHI','ODI']].apply(power,n=0.5)"
   ]
  },
  {
   "cell_type": "code",
   "execution_count": 211,
   "metadata": {},
   "outputs": [
    {
     "data": {
      "text/html": [
       "<div>\n",
       "<style scoped>\n",
       "    .dataframe tbody tr th:only-of-type {\n",
       "        vertical-align: middle;\n",
       "    }\n",
       "\n",
       "    .dataframe tbody tr th {\n",
       "        vertical-align: top;\n",
       "    }\n",
       "\n",
       "    .dataframe thead th {\n",
       "        text-align: right;\n",
       "    }\n",
       "</style>\n",
       "<table border=\"1\" class=\"dataframe\">\n",
       "  <thead>\n",
       "    <tr style=\"text-align: right;\">\n",
       "      <th></th>\n",
       "      <th>AHI</th>\n",
       "      <th>ODI</th>\n",
       "    </tr>\n",
       "  </thead>\n",
       "  <tbody>\n",
       "    <tr>\n",
       "      <th>0</th>\n",
       "      <td>742.793450</td>\n",
       "      <td>373.340994</td>\n",
       "    </tr>\n",
       "    <tr>\n",
       "      <th>1</th>\n",
       "      <td>635.805800</td>\n",
       "      <td>3728.725525</td>\n",
       "    </tr>\n",
       "    <tr>\n",
       "      <th>2</th>\n",
       "      <td>201.569883</td>\n",
       "      <td>152.415790</td>\n",
       "    </tr>\n",
       "    <tr>\n",
       "      <th>3</th>\n",
       "      <td>1019.727616</td>\n",
       "      <td>740.255524</td>\n",
       "    </tr>\n",
       "    <tr>\n",
       "      <th>4</th>\n",
       "      <td>107.270408</td>\n",
       "      <td>7.497166</td>\n",
       "    </tr>\n",
       "    <tr>\n",
       "      <th>5</th>\n",
       "      <td>32.714124</td>\n",
       "      <td>1.257752</td>\n",
       "    </tr>\n",
       "    <tr>\n",
       "      <th>6</th>\n",
       "      <td>85.369168</td>\n",
       "      <td>39.360118</td>\n",
       "    </tr>\n",
       "    <tr>\n",
       "      <th>7</th>\n",
       "      <td>33.597611</td>\n",
       "      <td>5.521886</td>\n",
       "    </tr>\n",
       "    <tr>\n",
       "      <th>8</th>\n",
       "      <td>411.629716</td>\n",
       "      <td>299.968116</td>\n",
       "    </tr>\n",
       "    <tr>\n",
       "      <th>9</th>\n",
       "      <td>147.254135</td>\n",
       "      <td>11.362202</td>\n",
       "    </tr>\n",
       "    <tr>\n",
       "      <th>10</th>\n",
       "      <td>23.666910</td>\n",
       "      <td>347.772096</td>\n",
       "    </tr>\n",
       "    <tr>\n",
       "      <th>11</th>\n",
       "      <td>22303.611334</td>\n",
       "      <td>21004.825915</td>\n",
       "    </tr>\n",
       "    <tr>\n",
       "      <th>12</th>\n",
       "      <td>3.966874</td>\n",
       "      <td>0.557842</td>\n",
       "    </tr>\n",
       "    <tr>\n",
       "      <th>13</th>\n",
       "      <td>23.225432</td>\n",
       "      <td>0.711279</td>\n",
       "    </tr>\n",
       "    <tr>\n",
       "      <th>14</th>\n",
       "      <td>32.747502</td>\n",
       "      <td>50.549634</td>\n",
       "    </tr>\n",
       "    <tr>\n",
       "      <th>15</th>\n",
       "      <td>5.126379</td>\n",
       "      <td>0.235395</td>\n",
       "    </tr>\n",
       "    <tr>\n",
       "      <th>16</th>\n",
       "      <td>826.562500</td>\n",
       "      <td>0.206612</td>\n",
       "    </tr>\n",
       "    <tr>\n",
       "      <th>17</th>\n",
       "      <td>127.557093</td>\n",
       "      <td>93.065744</td>\n",
       "    </tr>\n",
       "    <tr>\n",
       "      <th>18</th>\n",
       "      <td>134.859521</td>\n",
       "      <td>40.649698</td>\n",
       "    </tr>\n",
       "    <tr>\n",
       "      <th>19</th>\n",
       "      <td>25.000000</td>\n",
       "      <td>2.777778</td>\n",
       "    </tr>\n",
       "    <tr>\n",
       "      <th>20</th>\n",
       "      <td>96.190828</td>\n",
       "      <td>3.408284</td>\n",
       "    </tr>\n",
       "    <tr>\n",
       "      <th>21</th>\n",
       "      <td>692.336729</td>\n",
       "      <td>0.039735</td>\n",
       "    </tr>\n",
       "    <tr>\n",
       "      <th>22</th>\n",
       "      <td>599.894980</td>\n",
       "      <td>201.722327</td>\n",
       "    </tr>\n",
       "    <tr>\n",
       "      <th>23</th>\n",
       "      <td>40.671745</td>\n",
       "      <td>13.280570</td>\n",
       "    </tr>\n",
       "    <tr>\n",
       "      <th>24</th>\n",
       "      <td>281.557024</td>\n",
       "      <td>96.638897</td>\n",
       "    </tr>\n",
       "  </tbody>\n",
       "</table>\n",
       "</div>"
      ],
      "text/plain": [
       "             AHI           ODI\n",
       "0     742.793450    373.340994\n",
       "1     635.805800   3728.725525\n",
       "2     201.569883    152.415790\n",
       "3    1019.727616    740.255524\n",
       "4     107.270408      7.497166\n",
       "5      32.714124      1.257752\n",
       "6      85.369168     39.360118\n",
       "7      33.597611      5.521886\n",
       "8     411.629716    299.968116\n",
       "9     147.254135     11.362202\n",
       "10     23.666910    347.772096\n",
       "11  22303.611334  21004.825915\n",
       "12      3.966874      0.557842\n",
       "13     23.225432      0.711279\n",
       "14     32.747502     50.549634\n",
       "15      5.126379      0.235395\n",
       "16    826.562500      0.206612\n",
       "17    127.557093     93.065744\n",
       "18    134.859521     40.649698\n",
       "19     25.000000      2.777778\n",
       "20     96.190828      3.408284\n",
       "21    692.336729      0.039735\n",
       "22    599.894980    201.722327\n",
       "23     40.671745     13.280570\n",
       "24    281.557024     96.638897"
      ]
     },
     "execution_count": 211,
     "metadata": {},
     "output_type": "execute_result"
    }
   ],
   "source": [
    "baseline_df[['AHI','ODI']].apply(power,n=2)"
   ]
  },
  {
   "cell_type": "markdown",
   "metadata": {},
   "source": [
    "Tương tự, một số phép tính thống kê mô tả đã được hỗ trợ sẵn cho dataframe, ta không cần dùng đến hàm hay vòng lặp để áp dụng chúng cho hàng loạt biến. "
   ]
  },
  {
   "cell_type": "markdown",
   "metadata": {},
   "source": [
    "Nhưng ta hoàn toàn có thể dùng hàm apply nếu thích, thí dụ ta có đến 3 cách khác nhau để tính trung vị (hàm median của numpy) cho mỗi biến (cột), cách thứ nhất là dùng trực tiếp hàm median như 1 method trên dataframe của pandas"
   ]
  },
  {
   "cell_type": "code",
   "execution_count": 18,
   "metadata": {},
   "outputs": [
    {
     "data": {
      "text/plain": [
       "AHI     11.294118\n",
       "RDI     12.470588\n",
       "ODI      6.273764\n",
       "TST    482.000000\n",
       "dtype: float64"
      ]
     },
     "execution_count": 18,
     "metadata": {},
     "output_type": "execute_result"
    }
   ],
   "source": [
    "baseline_df[['AHI','RDI','ODI','TST']].median()"
   ]
  },
  {
   "cell_type": "markdown",
   "metadata": {},
   "source": [
    "Hoặc đưa hàm median (của numpy) vào trong hàm apply"
   ]
  },
  {
   "cell_type": "code",
   "execution_count": 23,
   "metadata": {},
   "outputs": [
    {
     "data": {
      "text/plain": [
       "AHI     11.294118\n",
       "RDI     12.470588\n",
       "ODI      6.273764\n",
       "TST    482.000000\n",
       "dtype: float64"
      ]
     },
     "execution_count": 23,
     "metadata": {},
     "output_type": "execute_result"
    }
   ],
   "source": [
    "import numpy as np\n",
    "\n",
    "baseline_df[['AHI','RDI','ODI','TST']].apply(np.median)"
   ]
  },
  {
   "cell_type": "markdown",
   "metadata": {},
   "source": [
    "Một cách phổ quát, Nhi tạo 1 hàm quantile để tính bách phân vị thứ p cho 1 biến x, sau đó áp dụng hàm này với hàm apply để tính Median với p=0.5"
   ]
  },
  {
   "cell_type": "code",
   "execution_count": 138,
   "metadata": {},
   "outputs": [
    {
     "data": {
      "text/plain": [
       "AHI     11.294118\n",
       "RDI     12.470588\n",
       "ODI      6.273764\n",
       "TST    482.000000\n",
       "dtype: float64"
      ]
     },
     "execution_count": 138,
     "metadata": {},
     "output_type": "execute_result"
    }
   ],
   "source": [
    "def quantile(x, p):\n",
    "    p_index = int(p * len(x))\n",
    "    return sorted(x)[p_index]\n",
    "\n",
    "baseline_df[['AHI','RDI','ODI','TST']].apply(quantile,p=0.5)"
   ]
  },
  {
   "cell_type": "markdown",
   "metadata": {},
   "source": [
    "Đến đây, các bạn đã nhận ra quy tắc sử dụng hàm apply, đó là những tùy chỉnh của hàm cần áp dụng sẽ được đặt nối tiếp nhau, ngay sau tên hàm, thí dụ tùy chỉnh q của hàm quantile của numpy trong thí dụ sau:\n",
    "\n",
    "Kết quả của hàm apply sẽ cho ra 1 bảng mà mỗi hàng tương ứng với q=0.05, 0.5, 0.9 và 0.975:"
   ]
  },
  {
   "cell_type": "code",
   "execution_count": 136,
   "metadata": {},
   "outputs": [
    {
     "data": {
      "text/html": [
       "<div>\n",
       "<style scoped>\n",
       "    .dataframe tbody tr th:only-of-type {\n",
       "        vertical-align: middle;\n",
       "    }\n",
       "\n",
       "    .dataframe tbody tr th {\n",
       "        vertical-align: top;\n",
       "    }\n",
       "\n",
       "    .dataframe thead th {\n",
       "        text-align: right;\n",
       "    }\n",
       "</style>\n",
       "<table border=\"1\" class=\"dataframe\">\n",
       "  <thead>\n",
       "    <tr style=\"text-align: right;\">\n",
       "      <th></th>\n",
       "      <th>AHI</th>\n",
       "      <th>RDI</th>\n",
       "      <th>ODI</th>\n",
       "      <th>TST</th>\n",
       "    </tr>\n",
       "  </thead>\n",
       "  <tbody>\n",
       "    <tr>\n",
       "      <th>0</th>\n",
       "      <td>2.775176</td>\n",
       "      <td>4.330647</td>\n",
       "      <td>0.460671</td>\n",
       "      <td>296.2</td>\n",
       "    </tr>\n",
       "    <tr>\n",
       "      <th>1</th>\n",
       "      <td>11.294118</td>\n",
       "      <td>12.470588</td>\n",
       "      <td>6.273764</td>\n",
       "      <td>482.0</td>\n",
       "    </tr>\n",
       "    <tr>\n",
       "      <th>2</th>\n",
       "      <td>28.151695</td>\n",
       "      <td>30.534823</td>\n",
       "      <td>24.053396</td>\n",
       "      <td>527.6</td>\n",
       "    </tr>\n",
       "    <tr>\n",
       "      <th>3</th>\n",
       "      <td>78.897479</td>\n",
       "      <td>78.897479</td>\n",
       "      <td>94.610142</td>\n",
       "      <td>537.0</td>\n",
       "    </tr>\n",
       "  </tbody>\n",
       "</table>\n",
       "</div>"
      ],
      "text/plain": [
       "         AHI        RDI        ODI    TST\n",
       "0   2.775176   4.330647   0.460671  296.2\n",
       "1  11.294118  12.470588   6.273764  482.0\n",
       "2  28.151695  30.534823  24.053396  527.6\n",
       "3  78.897479  78.897479  94.610142  537.0"
      ]
     },
     "execution_count": 136,
     "metadata": {},
     "output_type": "execute_result"
    }
   ],
   "source": [
    "baseline_df[['AHI','RDI','ODI','TST']].apply(np.quantile,q=[0.05,0.5,0.9,0.975],axis=0)"
   ]
  },
  {
   "cell_type": "markdown",
   "metadata": {},
   "source": [
    "Hàm apply có thể dùng cho hàng/cột tùy thích, với tùy chỉnh axis=0 cho cột, axis=1 cho hàng"
   ]
  },
  {
   "cell_type": "code",
   "execution_count": 30,
   "metadata": {},
   "outputs": [
    {
     "data": {
      "text/plain": [
       "AHI     18.862785\n",
       "RDI     20.613449\n",
       "ODI     14.949748\n",
       "RERA     1.788262\n",
       "dtype: float64"
      ]
     },
     "execution_count": 30,
     "metadata": {},
     "output_type": "execute_result"
    }
   ],
   "source": [
    "baseline_df[['AHI','RDI','ODI','RERA']].apply(np.mean,axis=0)"
   ]
  },
  {
   "cell_type": "code",
   "execution_count": 49,
   "metadata": {},
   "outputs": [
    {
     "data": {
      "text/plain": [
       "0      20.389831\n",
       "1      27.949367\n",
       "2      10.864198\n",
       "3      22.768496\n",
       "4       5.863095\n",
       "5       3.140187\n",
       "6       6.416350\n",
       "7       3.877285\n",
       "8      14.907216\n",
       "9       6.910112\n",
       "10     10.175676\n",
       "11    110.904573\n",
       "12      2.178423\n",
       "13      3.765060\n",
       "14      5.852601\n",
       "15      1.576819\n",
       "16     14.943182\n",
       "17      8.647059\n",
       "18      7.912713\n",
       "19      3.805556\n",
       "20      7.961538\n",
       "21     13.604651\n",
       "22     17.608696\n",
       "23      7.028200\n",
       "24     12.288136\n",
       "dtype: float64"
      ]
     },
     "execution_count": 49,
     "metadata": {},
     "output_type": "execute_result"
    }
   ],
   "source": [
    "baseline_df[['AHI','RDI','ODI','RERA']].apply(np.mean,axis=1)"
   ]
  },
  {
   "cell_type": "markdown",
   "metadata": {},
   "source": [
    "Trong thí dụ sau, Nhi viết 1 hàm cho phép tính hệ số tương quan Pearson giữa 1 biến X và 1 biến đích (target), sau đó dùng hàm apply và hàm correlation này để khảo sát tương quan giữa hàng loạt biến và biến đích, thí dụ BMI:"
   ]
  },
  {
   "cell_type": "code",
   "execution_count": 150,
   "metadata": {},
   "outputs": [
    {
     "data": {
      "text/plain": [
       "AHI     0.658915\n",
       "RDI     0.653782\n",
       "ODI     0.589516\n",
       "RERA   -0.216335\n",
       "dtype: float64"
      ]
     },
     "execution_count": 150,
     "metadata": {},
     "output_type": "execute_result"
    }
   ],
   "source": [
    "def correlation(x,target):\n",
    "    return np.corrcoef(x,target)[1,0]\n",
    "\n",
    "baseline_df[['AHI','RDI','ODI','RERA']].apply(correlation,target=baseline_df['BMI'])"
   ]
  },
  {
   "cell_type": "markdown",
   "metadata": {},
   "source": [
    "Một thí dụ khác, ta tạo ra hàm count_missing để đếm số trường hợp thiếu sót dữ liệu, sau đó dùng apply để áp dụng quy trình này cho toàn bộ dataframe, theo cột (biến) hay hàng (cá thể)"
   ]
  },
  {
   "cell_type": "code",
   "execution_count": 70,
   "metadata": {},
   "outputs": [],
   "source": [
    "def count_missing(vec):\n",
    "    null_vec = pd.isnull(vec) \n",
    "    null_count = np.sum(null_vec) \n",
    "    return null_count"
   ]
  },
  {
   "cell_type": "code",
   "execution_count": 71,
   "metadata": {},
   "outputs": [
    {
     "data": {
      "text/plain": [
       "Id                    0\n",
       "Time                  0\n",
       "TST                   0\n",
       "dtMM                  0\n",
       "dtRERA                0\n",
       "dtAH                  0\n",
       "dtRD                  0\n",
       "Allergy               2\n",
       "Snoring               0\n",
       "Apnea                 0\n",
       "Behavor               3\n",
       "Daysleep              2\n",
       "SchoolPerformance    27\n",
       "Sex                   0\n",
       "Age                   0\n",
       "Height                0\n",
       "Weight                0\n",
       "BMI                   0\n",
       "nMM                   0\n",
       "nRERA                 0\n",
       "nAH                   0\n",
       "nRD                   0\n",
       "nAr                   0\n",
       "nOD                   0\n",
       "ARI                   0\n",
       "AHI                   0\n",
       "RERA                  0\n",
       "RDI                   0\n",
       "ODI                   0\n",
       "MMSI                  0\n",
       "dtype: int64"
      ]
     },
     "execution_count": 71,
     "metadata": {},
     "output_type": "execute_result"
    }
   ],
   "source": [
    "data.apply(count_missing)"
   ]
  },
  {
   "cell_type": "code",
   "execution_count": 74,
   "metadata": {},
   "outputs": [
    {
     "data": {
      "text/plain": [
       "0     1\n",
       "1     1\n",
       "2     1\n",
       "3     1\n",
       "4     1\n",
       "5     1\n",
       "6     1\n",
       "7     2\n",
       "8     1\n",
       "9     1\n",
       "10    1\n",
       "11    1\n",
       "12    1\n",
       "13    1\n",
       "14    1\n",
       "15    1\n",
       "16    1\n",
       "17    1\n",
       "18    1\n",
       "19    1\n",
       "20    1\n",
       "21    1\n",
       "22    1\n",
       "23    3\n",
       "24    1\n",
       "25    0\n",
       "26    1\n",
       "27    3\n",
       "28    0\n",
       "29    0\n",
       "30    0\n",
       "31    0\n",
       "32    1\n",
       "33    0\n",
       "34    0\n",
       "35    0\n",
       "36    0\n",
       "37    0\n",
       "38    0\n",
       "39    0\n",
       "40    1\n",
       "41    0\n",
       "42    0\n",
       "43    0\n",
       "44    0\n",
       "45    0\n",
       "46    0\n",
       "47    0\n",
       "48    0\n",
       "49    0\n",
       "dtype: int64"
      ]
     },
     "execution_count": 74,
     "metadata": {},
     "output_type": "execute_result"
    }
   ],
   "source": [
    "data.apply(count_missing, axis=1)"
   ]
  },
  {
   "cell_type": "markdown",
   "metadata": {},
   "source": [
    "Hàm apply không chỉ dùng được cho những phép tính và xuất kết quả số, nó có thể dùng tốt cho các hàm đồ họa, thí dụ vẽ biểu đồ tuyến kí (chuỗi thời gian), histogram hoặc densityplot cho hàng loạt biến :"
   ]
  },
  {
   "cell_type": "code",
   "execution_count": 92,
   "metadata": {},
   "outputs": [
    {
     "data": {
      "text/plain": [
       "<matplotlib.legend.Legend at 0x1be075dcdd8>"
      ]
     },
     "execution_count": 92,
     "metadata": {},
     "output_type": "execute_result"
    },
    {
     "data": {
      "image/png": "[encoded data removed]",
      "text/plain": [
       "<Figure size 432x288 with 1 Axes>"
      ]
     },
     "metadata": {},
     "output_type": "display_data"
    }
   ],
   "source": [
    "import matplotlib.pyplot as plt\n",
    "\n",
    "baseline_df[['AHI','RDI','ODI','RERA']].apply(plt.plot,axis=0)\n",
    "plt.legend()"
   ]
  },
  {
   "cell_type": "code",
   "execution_count": 215,
   "metadata": {},
   "outputs": [
    {
     "name": "stderr",
     "output_type": "stream",
     "text": [
      "C:\\ProgramData\\Anaconda3\\lib\\site-packages\\scipy\\stats\\stats.py:1713: FutureWarning: Using a non-tuple sequence for multidimensional indexing is deprecated; use `arr[tuple(seq)]` instead of `arr[seq]`. In the future this will be interpreted as an array index, `arr[np.array(seq)]`, which will result either in an error or a different result.\n",
      "  return np.add.reduce(sorted[indexer] * weights, axis=axis) / sumval\n"
     ]
    },
    {
     "data": {
      "text/plain": [
       "AHI    AxesSubplot(0.125,0.125;0.775x0.755)\n",
       "RDI    AxesSubplot(0.125,0.125;0.775x0.755)\n",
       "ODI    AxesSubplot(0.125,0.125;0.775x0.755)\n",
       "dtype: object"
      ]
     },
     "execution_count": 215,
     "metadata": {},
     "output_type": "execute_result"
    },
    {
     "data": {
      "image/png": "[encoded data removed]",
      "text/plain": [
       "<Figure size 432x288 with 1 Axes>"
      ]
     },
     "metadata": {},
     "output_type": "display_data"
    }
   ],
   "source": [
    "import seaborn as sns\n",
    "\n",
    "baseline_df[['AHI','RDI','ODI']].apply(sns.distplot,\n",
    "                                              hist=False,\n",
    "                                              kde=True,\n",
    "                                              axlabel=\"Indices\",\n",
    "                                              axis=0)"
   ]
  },
  {
   "cell_type": "code",
   "execution_count": 214,
   "metadata": {},
   "outputs": [
    {
     "data": {
      "text/plain": [
       "AHI    ([9.0, 6.0, 2.0, 3.0, 3.0, 1.0, 0.0, 0.0, 0.0,...\n",
       "RDI    ([7.0, 7.0, 3.0, 2.0, 5.0, 0.0, 0.0, 0.0, 0.0,...\n",
       "ODI    ([12.0, 5.0, 3.0, 2.0, 1.0, 0.0, 0.0, 0.0, 0.0...\n",
       "dtype: object"
      ]
     },
     "execution_count": 214,
     "metadata": {},
     "output_type": "execute_result"
    },
    {
     "data": {
      "image/png": "[encoded data removed]",
      "text/plain": [
       "<Figure size 432x288 with 1 Axes>"
      ]
     },
     "metadata": {},
     "output_type": "display_data"
    }
   ],
   "source": [
    "baseline_df[['AHI','RDI','ODI']].apply(plt.hist,axis=0,alpha=0.5,bins=25)"
   ]
  },
  {
   "cell_type": "code",
   "execution_count": 218,
   "metadata": {},
   "outputs": [
    {
     "name": "stderr",
     "output_type": "stream",
     "text": [
      "C:\\ProgramData\\Anaconda3\\lib\\site-packages\\scipy\\stats\\stats.py:1713: FutureWarning: Using a non-tuple sequence for multidimensional indexing is deprecated; use `arr[tuple(seq)]` instead of `arr[seq]`. In the future this will be interpreted as an array index, `arr[np.array(seq)]`, which will result either in an error or a different result.\n",
      "  return np.add.reduce(sorted[indexer] * weights, axis=axis) / sumval\n",
      "C:\\ProgramData\\Anaconda3\\lib\\site-packages\\matplotlib\\axes\\_axes.py:6462: UserWarning: The 'normed' kwarg is deprecated, and has been replaced by the 'density' kwarg.\n",
      "  warnings.warn(\"The 'normed' kwarg is deprecated, and has been \"\n",
      "C:\\ProgramData\\Anaconda3\\lib\\site-packages\\matplotlib\\axes\\_axes.py:6462: UserWarning: The 'normed' kwarg is deprecated, and has been replaced by the 'density' kwarg.\n",
      "  warnings.warn(\"The 'normed' kwarg is deprecated, and has been \"\n",
      "C:\\ProgramData\\Anaconda3\\lib\\site-packages\\matplotlib\\axes\\_axes.py:6462: UserWarning: The 'normed' kwarg is deprecated, and has been replaced by the 'density' kwarg.\n",
      "  warnings.warn(\"The 'normed' kwarg is deprecated, and has been \"\n"
     ]
    },
    {
     "data": {
      "text/plain": [
       "AHI    AxesSubplot(0.125,0.125;0.775x0.755)\n",
       "RDI    AxesSubplot(0.125,0.125;0.775x0.755)\n",
       "ODI    AxesSubplot(0.125,0.125;0.775x0.755)\n",
       "dtype: object"
      ]
     },
     "execution_count": 218,
     "metadata": {},
     "output_type": "execute_result"
    },
    {
     "data": {
      "image/png": "[encoded data removed]",
      "text/plain": [
       "<Figure size 432x288 with 1 Axes>"
      ]
     },
     "metadata": {},
     "output_type": "display_data"
    }
   ],
   "source": [
    "baseline_df[['AHI','RDI','ODI']].apply(sns.distplot,\n",
    "                                              hist=True,\n",
    "                                              kde=True,\n",
    "                                              axlabel=\"Indices\",\n",
    "                                              axis=0)"
   ]
  },
  {
   "cell_type": "markdown",
   "metadata": {},
   "source": [
    "Bài thực hành đến đây là hết. Hẹn gặp lại các bạn trong một bài khác."
   ]
  },
  {
   "cell_type": "code",
   "execution_count": null,
   "metadata": {},
   "outputs": [],
   "source": []
  }
 ],
 "metadata": {
  "kernelspec": {
   "display_name": "Python 3",
   "language": "python",
   "name": "python3"
  },
  "language_info": {
   "codemirror_mode": {
    "name": "ipython",
    "version": 3
   },
   "file_extension": ".py",
   "mimetype": "text/x-python",
   "name": "python",
   "nbconvert_exporter": "python",
   "pygments_lexer": "ipython3",
   "version": "3.6.5"
  }
 },
 "nbformat": 4,
 "nbformat_minor": 2
}

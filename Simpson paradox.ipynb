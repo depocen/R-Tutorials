{
 "cells": [
  {
   "cell_type": "markdown",
   "metadata": {},
   "source": [
    "# Thí dụ mô phỏng về nghịch lý Simpson\n",
    "\n",
    "## Bs. Lê Ngọc Khả Nhi\n",
    "\n",
    "\n",
    "# Nhập đề\n",
    "\n",
    "Trong bài này, Nhi dùng một thí dụ mô phỏng đơn giản về hiện tượng \"Nghịch lý Simpson\" khi khảo sát hiệu quả của can thiệp, qua đó giải thích cho các bạn về sự khác biệt giữa quan sát ngẫu nhiên trong quần thể và can thiệp mang tính cưỡng bức trong một thử nghiệm lâm sàng ngẫu nhiên đối chứng (RCT hay A/B test); từ đó thấy được hạn chế của thống kê quy ước trong cả 2 trường hợp, và nhận ra tầm quan trọng của cách tiếp cận Suy luận nhân quả."
   ]
  },
  {
   "cell_type": "code",
   "execution_count": 1,
   "metadata": {},
   "outputs": [],
   "source": [
    "import numpy as np\n",
    "import pandas as pd\n",
    "\n",
    "import matplotlib.pyplot as plt\n",
    "import seaborn as sns\n",
    "\n",
    "sns.set_style(\"whitegrid\")\n",
    "sns.set_palette(\"Set1\")"
   ]
  },
  {
   "cell_type": "markdown",
   "metadata": {},
   "source": [
    "Câu chuyện này giả định xảy ra tại một bệnh viện, có một em bác sĩ nội trú chuyên khoa Ngoại làm luận văn tốt nghiệp Nội trú với đề tài : khảo sát hiệu quả của phương pháp phẫu thuật nội soi mới tên là T; với kết cục là tần suất xảy ra một biến chứng Y. Em thu thập dữ liệu một cách hồi cứu từ hồ sơ bệnh án của khoảng 500 bệnh nhân từng được phẫu thuật bằng phương pháp T, đối chứng với 500 bệnh nhân khác không dùng phương pháp T."
   ]
  },
  {
   "cell_type": "markdown",
   "metadata": {},
   "source": [
    "# Trường hợp 1: Dữ liệu quan sát ngẫu nhiên"
   ]
  },
  {
   "cell_type": "markdown",
   "metadata": {},
   "source": [
    "Nhi tạo một hàm mô phỏng dữ liệu 1000 bệnh nhân này (để đảm bảo bất ngờ đến phút cuối, Nhi chưa giải thích về cơ chế bên trong của hàm này). Chỉ biết rằng em bác sĩ có trong tay một dataframe gồm 2 biến nhị phân T (0 = Không dùng phương pháp mới, 1 = Có dùng phương pháp mới) và Y (0 = không xảy ra biến chứng, 1 = Có xảy ra biến chứng)."
   ]
  },
  {
   "cell_type": "code",
   "execution_count": 2,
   "metadata": {},
   "outputs": [],
   "source": [
    "def simulate_bin(sample_size = 1000, forced_T = None, obs_conf = False):\n",
    "    \"\"\"\n",
    "    Mô phỏng dữ liệu Simpson paradox với Can thiệp nhị phân:\n",
    "    Hệ thống sinh dữ liệu có cấu trúc:\n",
    "    \n",
    "    T = Treatment (binary)\n",
    "    Y = Outcome (binary)\n",
    "    C = Confounder (binary)\n",
    "    \n",
    "    Causal diagram:\n",
    "    Nodes: (C,T,Y)\n",
    "    Edges: (C -> T, C-> Y, T -> Y)\n",
    "    \n",
    "    Args:\n",
    "    sample_size : cỡ mẫu\n",
    "    forced_T : điều kiện cưỡng bức T=1 hay T=0 trong một RCT (forced_T là 1 numpy array 0/1)\n",
    "    obs_conf: ẩn confouder hay không ?\n",
    "    \n",
    "    Return:\n",
    "    \n",
    "    data: 1 panda dataframe gồm 2 cột T,Y (nếu obs_conf = True) hoặc 3 cột C,T,Y (nếu obs_conf = False)\n",
    "    \"\"\"\n",
    "    p_c = 0.5\n",
    "    p_t_c = [0.8, 0.2]\n",
    "    p_y_tc = [0.1, 0.3, 0.7, 0.9]\n",
    "    \n",
    "    c = np.random.binomial(n = 1, \n",
    "                           p = p_c, \n",
    "                           size = sample_size)\n",
    "    \n",
    "    if forced_T is not None:\n",
    "        assert(len(forced_T) == sample_size)\n",
    "        t = forced_T\n",
    "    else:\n",
    "        p_t = np.choose(c, p_t_c)\n",
    "        t = np.random.binomial(n = 1, \n",
    "                               p = p_t, \n",
    "                               size = sample_size)\n",
    "        \n",
    "    p_y = np.choose(t + 2*c, p_y_tc)\n",
    "    \n",
    "    y = np.random.binomial(n = 1, \n",
    "                           p = p_y, \n",
    "                           size = sample_size)\n",
    "    \n",
    "    if obs_conf:\n",
    "        return pd.DataFrame({\"T\":t, \"Y\":y, \"C\":c})\n",
    "    \n",
    "    return pd.DataFrame({\"T\":t, \"Y\":y})"
   ]
  },
  {
   "cell_type": "code",
   "execution_count": 3,
   "metadata": {},
   "outputs": [
    {
     "data": {
      "text/html": [
       "<div>\n",
       "<style scoped>\n",
       "    .dataframe tbody tr th:only-of-type {\n",
       "        vertical-align: middle;\n",
       "    }\n",
       "\n",
       "    .dataframe tbody tr th {\n",
       "        vertical-align: top;\n",
       "    }\n",
       "\n",
       "    .dataframe thead th {\n",
       "        text-align: right;\n",
       "    }\n",
       "</style>\n",
       "<table border=\"1\" class=\"dataframe\">\n",
       "  <thead>\n",
       "    <tr style=\"text-align: right;\">\n",
       "      <th></th>\n",
       "      <th>T</th>\n",
       "      <th>Y</th>\n",
       "    </tr>\n",
       "  </thead>\n",
       "  <tbody>\n",
       "    <tr>\n",
       "      <th>0</th>\n",
       "      <td>1</td>\n",
       "      <td>0</td>\n",
       "    </tr>\n",
       "    <tr>\n",
       "      <th>1</th>\n",
       "      <td>1</td>\n",
       "      <td>0</td>\n",
       "    </tr>\n",
       "    <tr>\n",
       "      <th>2</th>\n",
       "      <td>0</td>\n",
       "      <td>1</td>\n",
       "    </tr>\n",
       "    <tr>\n",
       "      <th>3</th>\n",
       "      <td>1</td>\n",
       "      <td>1</td>\n",
       "    </tr>\n",
       "    <tr>\n",
       "      <th>4</th>\n",
       "      <td>0</td>\n",
       "      <td>1</td>\n",
       "    </tr>\n",
       "  </tbody>\n",
       "</table>\n",
       "</div>"
      ],
      "text/plain": [
       "   T  Y\n",
       "0  1  0\n",
       "1  1  0\n",
       "2  0  1\n",
       "3  1  1\n",
       "4  0  1"
      ]
     },
     "execution_count": 3,
     "metadata": {},
     "output_type": "execute_result"
    }
   ],
   "source": [
    "obs_data = simulate_bin(sample_size = 1000, \n",
    "                        forced_T = None, \n",
    "                        obs_conf = False)\n",
    "\n",
    "obs_data.head()"
   ]
  },
  {
   "cell_type": "markdown",
   "metadata": {},
   "source": [
    "## Thống kê quy ước"
   ]
  },
  {
   "cell_type": "markdown",
   "metadata": {},
   "source": [
    "Như thường lệ, các bạn bác sĩ rất thích dùng bảng chéo để trình bày dữ liệu, nên ta cũng sẽ làm 1 bảng chéo :"
   ]
  },
  {
   "cell_type": "code",
   "execution_count": 6,
   "metadata": {},
   "outputs": [
    {
     "data": {
      "text/html": [
       "<div>\n",
       "<style scoped>\n",
       "    .dataframe tbody tr th:only-of-type {\n",
       "        vertical-align: middle;\n",
       "    }\n",
       "\n",
       "    .dataframe tbody tr th {\n",
       "        vertical-align: top;\n",
       "    }\n",
       "\n",
       "    .dataframe thead th {\n",
       "        text-align: right;\n",
       "    }\n",
       "</style>\n",
       "<table border=\"1\" class=\"dataframe\">\n",
       "  <thead>\n",
       "    <tr style=\"text-align: right;\">\n",
       "      <th>Y</th>\n",
       "      <th>0</th>\n",
       "      <th>1</th>\n",
       "    </tr>\n",
       "    <tr>\n",
       "      <th>T</th>\n",
       "      <th></th>\n",
       "      <th></th>\n",
       "    </tr>\n",
       "  </thead>\n",
       "  <tbody>\n",
       "    <tr>\n",
       "      <th>0</th>\n",
       "      <td>177</td>\n",
       "      <td>292</td>\n",
       "    </tr>\n",
       "    <tr>\n",
       "      <th>1</th>\n",
       "      <td>308</td>\n",
       "      <td>223</td>\n",
       "    </tr>\n",
       "  </tbody>\n",
       "</table>\n",
       "</div>"
      ],
      "text/plain": [
       "Y    0    1\n",
       "T          \n",
       "0  177  292\n",
       "1  308  223"
      ]
     },
     "execution_count": 6,
     "metadata": {},
     "output_type": "execute_result"
    }
   ],
   "source": [
    "xtab = pd.crosstab(obs_data['T'], obs_data['Y'])\n",
    "\n",
    "xtab"
   ]
  },
  {
   "cell_type": "markdown",
   "metadata": {},
   "source": [
    "Bằng một tính toán đơn giản, ta thấy rằng có vẻ như cách mổ nội soi làm giảm tỉ lệ phát sinh biến chứng đến 20.26 %"
   ]
  },
  {
   "cell_type": "code",
   "execution_count": 7,
   "metadata": {},
   "outputs": [
    {
     "data": {
      "text/plain": [
       "T\n",
       "0    62.260128\n",
       "1    41.996234\n",
       "dtype: float64"
      ]
     },
     "execution_count": 7,
     "metadata": {},
     "output_type": "execute_result"
    }
   ],
   "source": [
    "100 *xtab[1]/ xtab.aggregate('sum', axis =1)"
   ]
  },
  {
   "cell_type": "code",
   "execution_count": 9,
   "metadata": {},
   "outputs": [
    {
     "data": {
      "text/plain": [
       "-20.263894"
      ]
     },
     "execution_count": 9,
     "metadata": {},
     "output_type": "execute_result"
    }
   ],
   "source": [
    "41.996234 - 62.260128"
   ]
  },
  {
   "cell_type": "markdown",
   "metadata": {},
   "source": [
    "Một cách chính xác, tỉ lệ bệnh nhân phát sinh biến chứng đã giảm trung bình 20.26 % với 95%CI từ -14.18 đến -26.34 %"
   ]
  },
  {
   "cell_type": "code",
   "execution_count": 27,
   "metadata": {},
   "outputs": [
    {
     "data": {
      "text/plain": [
       "'Hiệu ứng trung bình: -20.263894410112478 % : -26.34204883854331 % đến -14.185739981681644 %'"
      ]
     },
     "execution_count": 27,
     "metadata": {},
     "output_type": "execute_result"
    }
   ],
   "source": [
    "def estimate_effect(ds):\n",
    "\n",
    "    base = ds[ds['T'] == 0]\n",
    "    variant = ds[ds['T'] == 1]\n",
    "    \n",
    "    delta = variant.Y.mean() - base.Y.mean()\n",
    "    \n",
    "    delta_err = 1.96 * np.sqrt(\n",
    "        variant.Y.var() / variant.shape[0] + \n",
    "        base.Y.var() / base.shape[0])\n",
    "    \n",
    "    return f\"Hiệu ứng trung bình: {100*delta} % : {100*(delta - delta_err)} % đến {100*(delta + delta_err)} %\"\n",
    "\n",
    "estimate_effect(obs_data)"
   ]
  },
  {
   "cell_type": "markdown",
   "metadata": {},
   "source": [
    "Dĩ nhiên, bạn bác sĩ không thể báo cáo kết quả này, mà còn phải kiểm định thống kê nữa; và như thường lệ các bạn ấy rất thích dùng Chi squared test; ta cũng sẽ tuân thủ quy trình này với 1 Test chi squared. Thậm chí, Nhi sẽ ấn định một ngưỡng ý nghĩa thống kê rất thấp là 0.001:"
   ]
  },
  {
   "cell_type": "code",
   "execution_count": 16,
   "metadata": {},
   "outputs": [],
   "source": [
    "from scipy.stats import chi2_contingency\n",
    "\n",
    "def chi_square(xtab, thres = 0.001):\n",
    "    chi2_out = chi2_contingency(xtab)\n",
    "    if chi2_out[1] < thres:\n",
    "        print(f'Có liên hệ ý nghĩa giữa T và Y, Chi2 = {chi2_out[0]}, p_value = {chi2_out[1]}')\n",
    "    else:\n",
    "        print(f'T và Y độc lập với nhau, Chi2 = {chi2_out[0]}, p_value = {chi2_out[1]}')"
   ]
  },
  {
   "cell_type": "code",
   "execution_count": 17,
   "metadata": {},
   "outputs": [
    {
     "name": "stdout",
     "output_type": "stream",
     "text": [
      "Có liên hệ ý nghĩa giữa T và Y, Chi2 = 40.1342777651706, p_value = 2.3709200240939966e-10\n"
     ]
    }
   ],
   "source": [
    "chi_square(xtab, thres = 0.001)"
   ]
  },
  {
   "cell_type": "markdown",
   "metadata": {},
   "source": [
    "Kết quả test Chisqured nhìn thích quá phải không các bạn ? Em bác sĩ này rất mãn nguyện và ghi vào luận văn: Có liên hệ ý nghĩa thống kê giữa sự giảm biến chứng hậu phẫu và phương pháp phẫu thuật T (p < 0.001).\n",
    "\n",
    "Thầy giáo hướng dẫn gợi ý thêm: Em làm thêm mô hình logistic để tính Odds_ratio nhé !\n",
    "\n",
    "Chúng ta sẽ làm theo như vậy:"
   ]
  },
  {
   "cell_type": "code",
   "execution_count": 18,
   "metadata": {},
   "outputs": [
    {
     "name": "stdout",
     "output_type": "stream",
     "text": [
      "Optimization terminated successfully.\n",
      "         Current function value: 0.672071\n",
      "         Iterations 4\n"
     ]
    },
    {
     "data": {
      "text/html": [
       "<table class=\"simpletable\">\n",
       "<caption>Logit Regression Results</caption>\n",
       "<tr>\n",
       "  <th>Dep. Variable:</th>           <td>Y</td>        <th>  No. Observations:  </th>  <td>  1000</td>  \n",
       "</tr>\n",
       "<tr>\n",
       "  <th>Model:</th>                 <td>Logit</td>      <th>  Df Residuals:      </th>  <td>   998</td>  \n",
       "</tr>\n",
       "<tr>\n",
       "  <th>Method:</th>                 <td>MLE</td>       <th>  Df Model:          </th>  <td>     1</td>  \n",
       "</tr>\n",
       "<tr>\n",
       "  <th>Date:</th>            <td>Thu, 02 Jan 2020</td> <th>  Pseudo R-squ.:     </th>  <td>0.02978</td> \n",
       "</tr>\n",
       "<tr>\n",
       "  <th>Time:</th>                <td>14:24:38</td>     <th>  Log-Likelihood:    </th> <td> -672.07</td> \n",
       "</tr>\n",
       "<tr>\n",
       "  <th>converged:</th>             <td>True</td>       <th>  LL-Null:           </th> <td> -692.70</td> \n",
       "</tr>\n",
       "<tr>\n",
       "  <th>Covariance Type:</th>     <td>nonrobust</td>    <th>  LLR p-value:       </th> <td>1.338e-10</td>\n",
       "</tr>\n",
       "</table>\n",
       "<table class=\"simpletable\">\n",
       "<tr>\n",
       "      <td></td>         <th>coef</th>     <th>std err</th>      <th>z</th>      <th>P>|z|</th>  <th>[0.025</th>    <th>0.975]</th>  \n",
       "</tr>\n",
       "<tr>\n",
       "  <th>Intercept</th> <td>    0.5006</td> <td>    0.095</td> <td>    5.255</td> <td> 0.000</td> <td>    0.314</td> <td>    0.687</td>\n",
       "</tr>\n",
       "<tr>\n",
       "  <th>T</th>         <td>   -0.8235</td> <td>    0.130</td> <td>   -6.353</td> <td> 0.000</td> <td>   -1.078</td> <td>   -0.569</td>\n",
       "</tr>\n",
       "</table>"
      ],
      "text/plain": [
       "<class 'statsmodels.iolib.summary.Summary'>\n",
       "\"\"\"\n",
       "                           Logit Regression Results                           \n",
       "==============================================================================\n",
       "Dep. Variable:                      Y   No. Observations:                 1000\n",
       "Model:                          Logit   Df Residuals:                      998\n",
       "Method:                           MLE   Df Model:                            1\n",
       "Date:                Thu, 02 Jan 2020   Pseudo R-squ.:                 0.02978\n",
       "Time:                        14:24:38   Log-Likelihood:                -672.07\n",
       "converged:                       True   LL-Null:                       -692.70\n",
       "Covariance Type:            nonrobust   LLR p-value:                 1.338e-10\n",
       "==============================================================================\n",
       "                 coef    std err          z      P>|z|      [0.025      0.975]\n",
       "------------------------------------------------------------------------------\n",
       "Intercept      0.5006      0.095      5.255      0.000       0.314       0.687\n",
       "T             -0.8235      0.130     -6.353      0.000      -1.078      -0.569\n",
       "==============================================================================\n",
       "\"\"\""
      ]
     },
     "execution_count": 18,
     "metadata": {},
     "output_type": "execute_result"
    }
   ],
   "source": [
    "import statsmodels.formula.api as sm\n",
    "\n",
    "model_1 = sm.logit(data = obs_data, formula = 'Y ~ T').fit()\n",
    "\n",
    "model_1.summary()"
   ]
  },
  {
   "cell_type": "code",
   "execution_count": 26,
   "metadata": {},
   "outputs": [
    {
     "name": "stdout",
     "output_type": "stream",
     "text": [
      "0.43889283821461283 0.3402753963403008 0.5660912469952338\n"
     ]
    }
   ],
   "source": [
    "print(f'{np.exp(-0.8235)} {np.exp(-1.078)} {np.exp(-0.569)}')"
   ]
  },
  {
   "cell_type": "markdown",
   "metadata": {},
   "source": [
    "Theo kết quả của mô hình logistic đơn biến, em bác sĩ có thể viết thêm: Nguy cơ xảy ra biến chứng hậu phẫu ở các bệnh nhân được mổ bằng nội soi theo phương pháp T giảm 0.44 lần (0.34 đến 0.57) so với các bệnh nhân không dùng phương pháp T, p < 0.001."
   ]
  },
  {
   "cell_type": "markdown",
   "metadata": {},
   "source": [
    "# Trường hợp 2: Can thiệp cưỡng bức trong RCT\n",
    "\n",
    "Vậy là xong, em bác sĩ trình luận văn tốt nghiệp với kết quả mỹ mãn và ra đi. Tuy nhiên câu chuyện của chúng ta không dừng lại ở đó. Trưởng khoa Ngoại đọc luận văn của em và bị ấn tượng bởi kết quả rất đẹp, ông nghĩ đến chuyện áp dụng thường quy phương pháp T cho tất cả bệnh nhân. Tuy nhiên, một giáo sư trên Sở Y tế can ngăn và khuyên nên thử làm một thử nghiệm lâm sàng đối chứng ngẫu nhiên (RCT) tại 3 bệnh viện khác nhau để kiểm tra lại hiệu quả của phương pháp T này. \n",
    "\n",
    "Họ làm thật, trong 1 năm tiếp theo 3 bệnh viện thực hiện nghiên cứu này, với cùng cỡ mẫu là 1000 bệnh nhân, được phân chia ngẫu nhiên vào 2 phân nhóm (T=1 và T=0). Sau 3 năm, chúng ta có dữ liệu mới như sau:"
   ]
  },
  {
   "cell_type": "code",
   "execution_count": 29,
   "metadata": {},
   "outputs": [
    {
     "data": {
      "text/html": [
       "<div>\n",
       "<style scoped>\n",
       "    .dataframe tbody tr th:only-of-type {\n",
       "        vertical-align: middle;\n",
       "    }\n",
       "\n",
       "    .dataframe tbody tr th {\n",
       "        vertical-align: top;\n",
       "    }\n",
       "\n",
       "    .dataframe thead th {\n",
       "        text-align: right;\n",
       "    }\n",
       "</style>\n",
       "<table border=\"1\" class=\"dataframe\">\n",
       "  <thead>\n",
       "    <tr style=\"text-align: right;\">\n",
       "      <th></th>\n",
       "      <th>T</th>\n",
       "      <th>Y</th>\n",
       "    </tr>\n",
       "  </thead>\n",
       "  <tbody>\n",
       "    <tr>\n",
       "      <th>0</th>\n",
       "      <td>1</td>\n",
       "      <td>0</td>\n",
       "    </tr>\n",
       "    <tr>\n",
       "      <th>1</th>\n",
       "      <td>1</td>\n",
       "      <td>1</td>\n",
       "    </tr>\n",
       "    <tr>\n",
       "      <th>2</th>\n",
       "      <td>1</td>\n",
       "      <td>0</td>\n",
       "    </tr>\n",
       "    <tr>\n",
       "      <th>3</th>\n",
       "      <td>1</td>\n",
       "      <td>1</td>\n",
       "    </tr>\n",
       "    <tr>\n",
       "      <th>4</th>\n",
       "      <td>1</td>\n",
       "      <td>1</td>\n",
       "    </tr>\n",
       "  </tbody>\n",
       "</table>\n",
       "</div>"
      ],
      "text/plain": [
       "   T  Y\n",
       "0  1  0\n",
       "1  1  1\n",
       "2  1  0\n",
       "3  1  1\n",
       "4  1  1"
      ]
     },
     "execution_count": 29,
     "metadata": {},
     "output_type": "execute_result"
    }
   ],
   "source": [
    "def simulate_AB_test(simulate_bin, sample_size =1000):\n",
    "    treat_size = int(sample_size / 2)\n",
    "    control_size = sample_size - treat_size\n",
    "    \n",
    "    forced_T = np.concatenate([np.ones(treat_size), np.zeros(control_size)]).astype('int')\n",
    "    \n",
    "    rct_data = simulate_bin(sample_size = sample_size, forced_T = forced_T)\n",
    "    \n",
    "    return rct_data\n",
    "\n",
    "rct_data = simulate_AB_test(simulate_bin, sample_size =1000)\n",
    "\n",
    "rct_data.head()"
   ]
  },
  {
   "cell_type": "markdown",
   "metadata": {},
   "source": [
    "Các bác sĩ lặp lại quy trình phân tích thống kê trong luận văn, và đây là những gì họ có:"
   ]
  },
  {
   "cell_type": "code",
   "execution_count": 31,
   "metadata": {},
   "outputs": [
    {
     "data": {
      "text/html": [
       "<div>\n",
       "<style scoped>\n",
       "    .dataframe tbody tr th:only-of-type {\n",
       "        vertical-align: middle;\n",
       "    }\n",
       "\n",
       "    .dataframe tbody tr th {\n",
       "        vertical-align: top;\n",
       "    }\n",
       "\n",
       "    .dataframe thead th {\n",
       "        text-align: right;\n",
       "    }\n",
       "</style>\n",
       "<table border=\"1\" class=\"dataframe\">\n",
       "  <thead>\n",
       "    <tr style=\"text-align: right;\">\n",
       "      <th>Y</th>\n",
       "      <th>0</th>\n",
       "      <th>1</th>\n",
       "    </tr>\n",
       "    <tr>\n",
       "      <th>T</th>\n",
       "      <th></th>\n",
       "      <th></th>\n",
       "    </tr>\n",
       "  </thead>\n",
       "  <tbody>\n",
       "    <tr>\n",
       "      <th>0</th>\n",
       "      <td>292</td>\n",
       "      <td>208</td>\n",
       "    </tr>\n",
       "    <tr>\n",
       "      <th>1</th>\n",
       "      <td>195</td>\n",
       "      <td>305</td>\n",
       "    </tr>\n",
       "  </tbody>\n",
       "</table>\n",
       "</div>"
      ],
      "text/plain": [
       "Y    0    1\n",
       "T          \n",
       "0  292  208\n",
       "1  195  305"
      ]
     },
     "execution_count": 31,
     "metadata": {},
     "output_type": "execute_result"
    }
   ],
   "source": [
    "xtab_rct = pd.crosstab(rct_data['T'], rct_data['Y'])\n",
    "\n",
    "xtab_rct"
   ]
  },
  {
   "cell_type": "code",
   "execution_count": 32,
   "metadata": {},
   "outputs": [
    {
     "data": {
      "text/plain": [
       "'Hiệu ứng trung bình: 19.400000000000002 % : 13.315738114332444 % đến 25.484261885667557 %'"
      ]
     },
     "execution_count": 32,
     "metadata": {},
     "output_type": "execute_result"
    }
   ],
   "source": [
    "estimate_effect(rct_data)"
   ]
  },
  {
   "cell_type": "markdown",
   "metadata": {},
   "source": [
    "Ồ ! Ngạc nhiên chưa ? Kết quả hoàn toàn bị ĐẢO NGƯỢC:\n",
    "\n",
    "Khi dùng phương pháp T, tần suất biến chứng hậu phẫu tăng đến 19.4 % (95%CI: 13.3 đến 25.48 %)\n",
    "\n",
    "Kết quả này được chứng thực bởi cả Chi-squared test và logistic model:"
   ]
  },
  {
   "cell_type": "code",
   "execution_count": 33,
   "metadata": {},
   "outputs": [
    {
     "name": "stdout",
     "output_type": "stream",
     "text": [
      "Có liên hệ ý nghĩa giữa T và Y, Chi2 = 36.888936921358834, p_value = 1.2505352631829396e-09\n"
     ]
    }
   ],
   "source": [
    "chi_square(xtab_rct, thres = 0.001)"
   ]
  },
  {
   "cell_type": "code",
   "execution_count": 34,
   "metadata": {},
   "outputs": [
    {
     "name": "stdout",
     "output_type": "stream",
     "text": [
      "Optimization terminated successfully.\n",
      "         Current function value: 0.673858\n",
      "         Iterations 4\n"
     ]
    },
    {
     "data": {
      "text/html": [
       "<table class=\"simpletable\">\n",
       "<caption>Logit Regression Results</caption>\n",
       "<tr>\n",
       "  <th>Dep. Variable:</th>           <td>Y</td>        <th>  No. Observations:  </th>  <td>  1000</td>  \n",
       "</tr>\n",
       "<tr>\n",
       "  <th>Model:</th>                 <td>Logit</td>      <th>  Df Residuals:      </th>  <td>   998</td>  \n",
       "</tr>\n",
       "<tr>\n",
       "  <th>Method:</th>                 <td>MLE</td>       <th>  Df Model:          </th>  <td>     1</td>  \n",
       "</tr>\n",
       "<tr>\n",
       "  <th>Date:</th>            <td>Thu, 02 Jan 2020</td> <th>  Pseudo R-squ.:     </th>  <td>0.02735</td> \n",
       "</tr>\n",
       "<tr>\n",
       "  <th>Time:</th>                <td>14:43:11</td>     <th>  Log-Likelihood:    </th> <td> -673.86</td> \n",
       "</tr>\n",
       "<tr>\n",
       "  <th>converged:</th>             <td>True</td>       <th>  LL-Null:           </th> <td> -692.81</td> \n",
       "</tr>\n",
       "<tr>\n",
       "  <th>Covariance Type:</th>     <td>nonrobust</td>    <th>  LLR p-value:       </th> <td>7.438e-10</td>\n",
       "</tr>\n",
       "</table>\n",
       "<table class=\"simpletable\">\n",
       "<tr>\n",
       "      <td></td>         <th>coef</th>     <th>std err</th>      <th>z</th>      <th>P>|z|</th>  <th>[0.025</th>    <th>0.975]</th>  \n",
       "</tr>\n",
       "<tr>\n",
       "  <th>Intercept</th> <td>   -0.3392</td> <td>    0.091</td> <td>   -3.739</td> <td> 0.000</td> <td>   -0.517</td> <td>   -0.161</td>\n",
       "</tr>\n",
       "<tr>\n",
       "  <th>T</th>         <td>    0.7865</td> <td>    0.129</td> <td>    6.097</td> <td> 0.000</td> <td>    0.534</td> <td>    1.039</td>\n",
       "</tr>\n",
       "</table>"
      ],
      "text/plain": [
       "<class 'statsmodels.iolib.summary.Summary'>\n",
       "\"\"\"\n",
       "                           Logit Regression Results                           \n",
       "==============================================================================\n",
       "Dep. Variable:                      Y   No. Observations:                 1000\n",
       "Model:                          Logit   Df Residuals:                      998\n",
       "Method:                           MLE   Df Model:                            1\n",
       "Date:                Thu, 02 Jan 2020   Pseudo R-squ.:                 0.02735\n",
       "Time:                        14:43:11   Log-Likelihood:                -673.86\n",
       "converged:                       True   LL-Null:                       -692.81\n",
       "Covariance Type:            nonrobust   LLR p-value:                 7.438e-10\n",
       "==============================================================================\n",
       "                 coef    std err          z      P>|z|      [0.025      0.975]\n",
       "------------------------------------------------------------------------------\n",
       "Intercept     -0.3392      0.091     -3.739      0.000      -0.517      -0.161\n",
       "T              0.7865      0.129      6.097      0.000       0.534       1.039\n",
       "==============================================================================\n",
       "\"\"\""
      ]
     },
     "execution_count": 34,
     "metadata": {},
     "output_type": "execute_result"
    }
   ],
   "source": [
    "model_2 = sm.logit(data = rct_data, formula = 'Y ~ T').fit()\n",
    "\n",
    "model_2.summary()"
   ]
  },
  {
   "cell_type": "markdown",
   "metadata": {},
   "source": [
    "# Giải thích"
   ]
  },
  {
   "cell_type": "markdown",
   "metadata": {},
   "source": [
    "Điều gì đã xảy ra ? Tại sao kết quả lại hoàn toàn đảo ngược giữa nghiên cứu quan sát-hồi cứu và nghiên cứu thử nghiệm lâm sàng đối chứng ngẫu nhiên với cùng cỡ mẫu ? \n",
    "\n",
    "Các bạn vừa chứng kiến một trường hợp nghịch lý Simpson, là một cái bẫy nguy hiểm khi làm phân tích thống kê theo cách làm truyền thống. Nguyên nhân dẫn đến nghịch lý này ẩn giấu bên trong nội dung của quy trình mô phỏng dữ liệu, ta sẽ phân tích quy trình này:\n",
    "\n",
    "Trong cả 2 thiết kế nghiên cứu (Quan sát ngẫu nhiên và Can thiệp cưỡng bức), giá trị của T,Y được sinh ra từ một hệ thống có cấu trúc như sau:"
   ]
  },
  {
   "cell_type": "markdown",
   "metadata": {},
   "source": [
    "Xác suất của T=1 (can thiệp bằng phương pháp T) trên thực tế phụ thuộc vào 1 biến Z và biến Z này cũng có liên hệ với kết quả Y (Biến chứng xảy ra hay không).\n",
    "\n",
    "Như vậy Z là 1 confounder làm nhiễu kết quả của hiệu ứng can thiệp delta = Y|(T=1) - Y|(T=0), tuy nhiên không phải lúc nào người ta cũng ý thức về sự tồn tại và bản chất của confouder Z này. Trong thí dụ ta vừa đưa ra, Z bị ẩn đi (không được ghi nhận trong dữ liệu) nhưng nó vẫn luôn đứng đằng sau chi phối T và Y.\n",
    "\n",
    "Trong trường hợp luận văn của em bác sĩ, em ấy dùng dữ liệu quan sát ngẫu nhiên, khi đó cả Y,T và C đều được tự do và mạng lưới liên hệ nhân quả giữa chúng chính là hình ảnh dưới đây:"
   ]
  },
  {
   "cell_type": "code",
   "execution_count": 35,
   "metadata": {},
   "outputs": [
    {
     "data": {
      "image/svg+xml": [
       "<?xml version=\"1.0\" encoding=\"UTF-8\" standalone=\"no\"?>\r\n",
       "<!DOCTYPE svg PUBLIC \"-//W3C//DTD SVG 1.1//EN\"\r\n",
       " \"http://www.w3.org/Graphics/SVG/1.1/DTD/svg11.dtd\">\r\n",
       "<!-- Generated by graphviz version 2.38.0 (20140413.2041)\r\n",
       " -->\r\n",
       "<!-- Title: %3 Pages: 1 -->\r\n",
       "<svg width=\"148pt\" height=\"188pt\"\r\n",
       " viewBox=\"0.00 0.00 148.04 188.00\" xmlns=\"http://www.w3.org/2000/svg\" xmlns:xlink=\"http://www.w3.org/1999/xlink\">\r\n",
       "<g id=\"graph0\" class=\"graph\" transform=\"scale(1 1) rotate(0) translate(4 184)\">\r\n",
       "<title>%3</title>\r\n",
       "<polygon fill=\"white\" stroke=\"none\" points=\"-4,4 -4,-184 144.041,-184 144.041,4 -4,4\"/>\r\n",
       "<!-- Outcome -->\r\n",
       "<g id=\"node1\" class=\"node\"><title>Outcome</title>\r\n",
       "<ellipse fill=\"none\" stroke=\"black\" cx=\"54.5952\" cy=\"-18\" rx=\"44.393\" ry=\"18\"/>\r\n",
       "<text text-anchor=\"middle\" x=\"54.5952\" y=\"-14.3\" font-family=\"Times New Roman,serif\" font-size=\"14.00\">Outcome</text>\r\n",
       "</g>\r\n",
       "<!-- Confounder -->\r\n",
       "<g id=\"node2\" class=\"node\"><title>Confounder</title>\r\n",
       "<ellipse fill=\"none\" stroke=\"black\" cx=\"54.5952\" cy=\"-162\" rx=\"54.6905\" ry=\"18\"/>\r\n",
       "<text text-anchor=\"middle\" x=\"54.5952\" y=\"-158.3\" font-family=\"Times New Roman,serif\" font-size=\"14.00\">Confounder</text>\r\n",
       "</g>\r\n",
       "<!-- Confounder&#45;&gt;Outcome -->\r\n",
       "<g id=\"edge3\" class=\"edge\"><title>Confounder&#45;&gt;Outcome</title>\r\n",
       "<path fill=\"none\" stroke=\"black\" d=\"M47.1155,-143.704C43.1223,-133.522 38.6223,-120.272 36.5952,-108 33.9876,-92.2139 33.9876,-87.7861 36.5952,-72 38.0588,-63.1389 40.8117,-53.768 43.7322,-45.4104\"/>\r\n",
       "<polygon fill=\"black\" stroke=\"black\" points=\"47.0934,-46.4136 47.3023,-35.8208 40.5332,-43.9713 47.0934,-46.4136\"/>\r\n",
       "</g>\r\n",
       "<!-- Treatment -->\r\n",
       "<g id=\"node3\" class=\"node\"><title>Treatment</title>\r\n",
       "<ellipse fill=\"none\" stroke=\"black\" cx=\"92.5952\" cy=\"-90\" rx=\"47.3916\" ry=\"18\"/>\r\n",
       "<text text-anchor=\"middle\" x=\"92.5952\" y=\"-86.3\" font-family=\"Times New Roman,serif\" font-size=\"14.00\">Treatment</text>\r\n",
       "</g>\r\n",
       "<!-- Confounder&#45;&gt;Treatment -->\r\n",
       "<g id=\"edge2\" class=\"edge\"><title>Confounder&#45;&gt;Treatment</title>\r\n",
       "<path fill=\"none\" stroke=\"black\" d=\"M63.7939,-144.055C68.2281,-135.887 73.6432,-125.912 78.5762,-116.824\"/>\r\n",
       "<polygon fill=\"black\" stroke=\"black\" points=\"81.7861,-118.247 83.4811,-107.789 75.6342,-114.908 81.7861,-118.247\"/>\r\n",
       "</g>\r\n",
       "<!-- Treatment&#45;&gt;Outcome -->\r\n",
       "<g id=\"edge1\" class=\"edge\"><title>Treatment&#45;&gt;Outcome</title>\r\n",
       "<path fill=\"none\" stroke=\"black\" d=\"M83.3964,-72.055C78.9622,-63.8866 73.5472,-53.9116 68.6141,-44.8244\"/>\r\n",
       "<polygon fill=\"black\" stroke=\"black\" points=\"71.5561,-42.9077 63.7092,-35.789 65.4042,-46.2474 71.5561,-42.9077\"/>\r\n",
       "</g>\r\n",
       "</g>\r\n",
       "</svg>\r\n"
      ],
      "text/plain": [
       "<graphviz.dot.Digraph at 0x1d226360f08>"
      ]
     },
     "execution_count": 35,
     "metadata": {},
     "output_type": "execute_result"
    }
   ],
   "source": [
    "from causalgraphicalmodels import CausalGraphicalModel\n",
    "\n",
    "model_obs = CausalGraphicalModel(\n",
    "    nodes=[\"Treatment\", \"Outcome\", \"Confounder\",],\n",
    "    edges=[(\"Confounder\", \"Treatment\"), \n",
    "           (\"Confounder\", \"Outcome\"), \n",
    "           (\"Treatment\", \"Outcome\"), ])\n",
    "\n",
    "model_obs.draw()"
   ]
  },
  {
   "cell_type": "markdown",
   "metadata": {},
   "source": [
    "Tuy nhiên, khi người ta cưỡng bức một bệnh nhân bất kì dùng phương pháp phẫu thuật mới (T=1) trong nghiên cứu RCT, sơ đồ nhân quả trở thành như sau: T trở nên độc lập với Z; tuy nhiên Z vẫn ảnh hưởng lên Y. Đáng tiếc là người ta đã không ý thức về sự tồn tại của Z nên đã không quan sát gì đến nó:"
   ]
  },
  {
   "cell_type": "code",
   "execution_count": 37,
   "metadata": {},
   "outputs": [
    {
     "data": {
      "image/svg+xml": [
       "<?xml version=\"1.0\" encoding=\"UTF-8\" standalone=\"no\"?>\r\n",
       "<!DOCTYPE svg PUBLIC \"-//W3C//DTD SVG 1.1//EN\"\r\n",
       " \"http://www.w3.org/Graphics/SVG/1.1/DTD/svg11.dtd\">\r\n",
       "<!-- Generated by graphviz version 2.38.0 (20140413.2041)\r\n",
       " -->\r\n",
       "<!-- Title: %3 Pages: 1 -->\r\n",
       "<svg width=\"238pt\" height=\"124pt\"\r\n",
       " viewBox=\"0.00 0.00 238.04 124.00\" xmlns=\"http://www.w3.org/2000/svg\" xmlns:xlink=\"http://www.w3.org/1999/xlink\">\r\n",
       "<g id=\"graph0\" class=\"graph\" transform=\"scale(1 1) rotate(0) translate(4 120)\">\r\n",
       "<title>%3</title>\r\n",
       "<polygon fill=\"white\" stroke=\"none\" points=\"-4,4 -4,-120 234.041,-120 234.041,4 -4,4\"/>\r\n",
       "<!-- Outcome -->\r\n",
       "<g id=\"node1\" class=\"node\"><title>Outcome</title>\r\n",
       "<ellipse fill=\"none\" stroke=\"black\" cx=\"116.595\" cy=\"-18\" rx=\"44.393\" ry=\"18\"/>\r\n",
       "<text text-anchor=\"middle\" x=\"116.595\" y=\"-14.3\" font-family=\"Times New Roman,serif\" font-size=\"14.00\">Outcome</text>\r\n",
       "</g>\r\n",
       "<!-- Confounder -->\r\n",
       "<g id=\"node2\" class=\"node\"><title>Confounder</title>\r\n",
       "<ellipse fill=\"none\" stroke=\"black\" cx=\"54.5952\" cy=\"-94\" rx=\"54.6905\" ry=\"18\"/>\r\n",
       "<text text-anchor=\"middle\" x=\"54.5952\" y=\"-90.3\" font-family=\"Times New Roman,serif\" font-size=\"14.00\">Confounder</text>\r\n",
       "</g>\r\n",
       "<!-- Confounder&#45;&gt;Outcome -->\r\n",
       "<g id=\"edge1\" class=\"edge\"><title>Confounder&#45;&gt;Outcome</title>\r\n",
       "<path fill=\"none\" stroke=\"black\" d=\"M68.355,-76.577C76.5424,-66.8049 87.0824,-54.2249 96.2209,-43.3176\"/>\r\n",
       "<polygon fill=\"black\" stroke=\"black\" points=\"99.1344,-45.2901 102.874,-35.3771 93.7687,-40.7945 99.1344,-45.2901\"/>\r\n",
       "</g>\r\n",
       "<!-- Treatment -->\r\n",
       "<g id=\"node3\" class=\"node\"><title>Treatment</title>\r\n",
       "<ellipse fill=\"none\" stroke=\"black\" cx=\"178.595\" cy=\"-94\" rx=\"47.3958\" ry=\"18\"/>\r\n",
       "<ellipse fill=\"none\" stroke=\"black\" cx=\"178.595\" cy=\"-94\" rx=\"51.3916\" ry=\"22\"/>\r\n",
       "<text text-anchor=\"middle\" x=\"178.595\" y=\"-90.3\" font-family=\"Times New Roman,serif\" font-size=\"14.00\">Treatment</text>\r\n",
       "</g>\r\n",
       "<!-- Treatment&#45;&gt;Outcome -->\r\n",
       "<g id=\"edge2\" class=\"edge\"><title>Treatment&#45;&gt;Outcome</title>\r\n",
       "<path fill=\"none\" stroke=\"black\" d=\"M161.98,-73.1694C154.246,-63.938 144.977,-52.8746 136.837,-43.1595\"/>\r\n",
       "<polygon fill=\"black\" stroke=\"black\" points=\"139.429,-40.8031 130.324,-35.3857 134.063,-45.2987 139.429,-40.8031\"/>\r\n",
       "</g>\r\n",
       "</g>\r\n",
       "</svg>\r\n"
      ],
      "text/plain": [
       "<graphviz.dot.Digraph at 0x1d2268908c8>"
      ]
     },
     "execution_count": 37,
     "metadata": {},
     "output_type": "execute_result"
    }
   ],
   "source": [
    "model_rct = model_obs.do('Treatment')\n",
    "\n",
    "model_rct.draw()"
   ]
  },
  {
   "cell_type": "markdown",
   "metadata": {},
   "source": [
    "Thí dụ: ta có thể hình dung Confounder Z là Độ nặng hay phân loại bệnh lý; Z cũng có thể là kỹ năng phẫu thuật của phẫu thuật viên hoặc Hoàn cảnh kinh tế của bệnh nhân...\n",
    "\n",
    "Để tìm ra câu trả lời đúng cho câu hỏi: Liệu phương pháp phẫu thuật mới có hiệu quả làm giảm biến chứng hay không ? Ta phải khảo sát Z bằng cách thay đổi tùy chỉnh obs_conf = True trong hàm mô phỏng), và mô phỏng lại dữ liệu cho thí nghiệm RCT:\n",
    "\n",
    "Ở đây giả định confounder Z là 1 biến nhị phân:"
   ]
  },
  {
   "cell_type": "code",
   "execution_count": 98,
   "metadata": {},
   "outputs": [
    {
     "data": {
      "text/html": [
       "<div>\n",
       "<style scoped>\n",
       "    .dataframe tbody tr th:only-of-type {\n",
       "        vertical-align: middle;\n",
       "    }\n",
       "\n",
       "    .dataframe tbody tr th {\n",
       "        vertical-align: top;\n",
       "    }\n",
       "\n",
       "    .dataframe thead th {\n",
       "        text-align: right;\n",
       "    }\n",
       "</style>\n",
       "<table border=\"1\" class=\"dataframe\">\n",
       "  <thead>\n",
       "    <tr style=\"text-align: right;\">\n",
       "      <th></th>\n",
       "      <th>T</th>\n",
       "      <th>Y</th>\n",
       "      <th>C</th>\n",
       "    </tr>\n",
       "  </thead>\n",
       "  <tbody>\n",
       "    <tr>\n",
       "      <th>0</th>\n",
       "      <td>1</td>\n",
       "      <td>1</td>\n",
       "      <td>1</td>\n",
       "    </tr>\n",
       "    <tr>\n",
       "      <th>1</th>\n",
       "      <td>1</td>\n",
       "      <td>1</td>\n",
       "      <td>1</td>\n",
       "    </tr>\n",
       "    <tr>\n",
       "      <th>2</th>\n",
       "      <td>1</td>\n",
       "      <td>0</td>\n",
       "      <td>0</td>\n",
       "    </tr>\n",
       "    <tr>\n",
       "      <th>3</th>\n",
       "      <td>1</td>\n",
       "      <td>0</td>\n",
       "      <td>0</td>\n",
       "    </tr>\n",
       "    <tr>\n",
       "      <th>4</th>\n",
       "      <td>1</td>\n",
       "      <td>1</td>\n",
       "      <td>1</td>\n",
       "    </tr>\n",
       "  </tbody>\n",
       "</table>\n",
       "</div>"
      ],
      "text/plain": [
       "   T  Y  C\n",
       "0  1  1  1\n",
       "1  1  1  1\n",
       "2  1  0  0\n",
       "3  1  0  0\n",
       "4  1  1  1"
      ]
     },
     "execution_count": 98,
     "metadata": {},
     "output_type": "execute_result"
    }
   ],
   "source": [
    "def simulate_AB_test_with_C(simulate_bin, sample_size =1000):\n",
    "    treat_size = int(sample_size / 2)\n",
    "    control_size = sample_size - treat_size\n",
    "    \n",
    "    forced_T = np.concatenate([np.ones(treat_size), np.zeros(control_size)]).astype('int')\n",
    "    \n",
    "    rct_data = simulate_bin(sample_size = sample_size, forced_T = forced_T, obs_conf = True)\n",
    "    \n",
    "    return rct_data\n",
    "\n",
    "rct_with_c_data = simulate_AB_test_with_C(simulate_bin, sample_size =1000)\n",
    "\n",
    "rct_with_c_data.head()"
   ]
  },
  {
   "cell_type": "markdown",
   "metadata": {},
   "source": [
    "Sau đó ta khảo sát riêng 2 trường hợp : C=0 và C=1"
   ]
  },
  {
   "cell_type": "code",
   "execution_count": 99,
   "metadata": {},
   "outputs": [],
   "source": [
    "df_c0 = rct_with_c_data[rct_with_c_data.C == 0]\n",
    "df_c1 = rct_with_c_data[rct_with_c_data.C == 1]"
   ]
  },
  {
   "cell_type": "markdown",
   "metadata": {},
   "source": [
    "ta sẽ thấy rằng trong cả 2 phân nhóm C=0 và C=1, hiệu ứng can thiệp đều > 0, tức là phương pháp phẫu thuật mới thực ra làm tăng nguy cơ biến chứng chứ không phải làm giảm"
   ]
  },
  {
   "cell_type": "code",
   "execution_count": 131,
   "metadata": {},
   "outputs": [
    {
     "data": {
      "text/plain": [
       "'Hiệu ứng trung bình: 16.959977292080612 % : 10.236745766035128 % đến 23.6832088181261 %'"
      ]
     },
     "execution_count": 131,
     "metadata": {},
     "output_type": "execute_result"
    }
   ],
   "source": [
    "estimate_effect(df_c0)"
   ]
  },
  {
   "cell_type": "code",
   "execution_count": 101,
   "metadata": {},
   "outputs": [
    {
     "data": {
      "text/plain": [
       "'Hiệu ứng trung bình: 20.91473224546081 % : 13.845595415229281 % đến 27.983869075692336 %'"
      ]
     },
     "execution_count": 101,
     "metadata": {},
     "output_type": "execute_result"
    }
   ],
   "source": [
    "estimate_effect(df_c1)"
   ]
  },
  {
   "cell_type": "markdown",
   "metadata": {},
   "source": [
    "Kết quả này tương đương với mô hình logistic có xét C + T"
   ]
  },
  {
   "cell_type": "code",
   "execution_count": 102,
   "metadata": {},
   "outputs": [
    {
     "name": "stdout",
     "output_type": "stream",
     "text": [
      "Optimization terminated successfully.\n",
      "         Current function value: 0.456361\n",
      "         Iterations 6\n"
     ]
    },
    {
     "data": {
      "text/html": [
       "<table class=\"simpletable\">\n",
       "<caption>Logit Regression Results</caption>\n",
       "<tr>\n",
       "  <th>Dep. Variable:</th>           <td>Y</td>        <th>  No. Observations:  </th>   <td>  1000</td>  \n",
       "</tr>\n",
       "<tr>\n",
       "  <th>Model:</th>                 <td>Logit</td>      <th>  Df Residuals:      </th>   <td>   997</td>  \n",
       "</tr>\n",
       "<tr>\n",
       "  <th>Method:</th>                 <td>MLE</td>       <th>  Df Model:          </th>   <td>     2</td>  \n",
       "</tr>\n",
       "<tr>\n",
       "  <th>Date:</th>            <td>Thu, 02 Jan 2020</td> <th>  Pseudo R-squ.:     </th>   <td>0.3412</td>  \n",
       "</tr>\n",
       "<tr>\n",
       "  <th>Time:</th>                <td>15:39:38</td>     <th>  Log-Likelihood:    </th>  <td> -456.36</td> \n",
       "</tr>\n",
       "<tr>\n",
       "  <th>converged:</th>             <td>True</td>       <th>  LL-Null:           </th>  <td> -692.70</td> \n",
       "</tr>\n",
       "<tr>\n",
       "  <th>Covariance Type:</th>     <td>nonrobust</td>    <th>  LLR p-value:       </th> <td>2.295e-103</td>\n",
       "</tr>\n",
       "</table>\n",
       "<table class=\"simpletable\">\n",
       "<tr>\n",
       "      <td></td>         <th>coef</th>     <th>std err</th>      <th>z</th>      <th>P>|z|</th>  <th>[0.025</th>    <th>0.975]</th>  \n",
       "</tr>\n",
       "<tr>\n",
       "  <th>Intercept</th> <td>   -2.2552</td> <td>    0.167</td> <td>  -13.481</td> <td> 0.000</td> <td>   -2.583</td> <td>   -1.927</td>\n",
       "</tr>\n",
       "<tr>\n",
       "  <th>T</th>         <td>    1.2843</td> <td>    0.175</td> <td>    7.324</td> <td> 0.000</td> <td>    0.941</td> <td>    1.628</td>\n",
       "</tr>\n",
       "<tr>\n",
       "  <th>C</th>         <td>    3.0608</td> <td>    0.175</td> <td>   17.445</td> <td> 0.000</td> <td>    2.717</td> <td>    3.405</td>\n",
       "</tr>\n",
       "</table>"
      ],
      "text/plain": [
       "<class 'statsmodels.iolib.summary.Summary'>\n",
       "\"\"\"\n",
       "                           Logit Regression Results                           \n",
       "==============================================================================\n",
       "Dep. Variable:                      Y   No. Observations:                 1000\n",
       "Model:                          Logit   Df Residuals:                      997\n",
       "Method:                           MLE   Df Model:                            2\n",
       "Date:                Thu, 02 Jan 2020   Pseudo R-squ.:                  0.3412\n",
       "Time:                        15:39:38   Log-Likelihood:                -456.36\n",
       "converged:                       True   LL-Null:                       -692.70\n",
       "Covariance Type:            nonrobust   LLR p-value:                2.295e-103\n",
       "==============================================================================\n",
       "                 coef    std err          z      P>|z|      [0.025      0.975]\n",
       "------------------------------------------------------------------------------\n",
       "Intercept     -2.2552      0.167    -13.481      0.000      -2.583      -1.927\n",
       "T              1.2843      0.175      7.324      0.000       0.941       1.628\n",
       "C              3.0608      0.175     17.445      0.000       2.717       3.405\n",
       "==============================================================================\n",
       "\"\"\""
      ]
     },
     "execution_count": 102,
     "metadata": {},
     "output_type": "execute_result"
    }
   ],
   "source": [
    "model_3 = sm.logit(data = rct_with_c_data, formula = 'Y ~ T+C').fit()\n",
    "\n",
    "model_3.summary()"
   ]
  },
  {
   "cell_type": "markdown",
   "metadata": {},
   "source": [
    "# Backdoor adjustment với package dowhy"
   ]
  },
  {
   "cell_type": "markdown",
   "metadata": {},
   "source": [
    "Cuối cùng, Nhi dùng phương pháp suy luận nhân quả, sử dụng backdoor adjustment và propensity score stratification với package dowhy:"
   ]
  },
  {
   "cell_type": "code",
   "execution_count": 125,
   "metadata": {},
   "outputs": [],
   "source": [
    "rct_with_c_data['T'] = rct_with_c_data['T'].astype('bool')"
   ]
  },
  {
   "cell_type": "code",
   "execution_count": 126,
   "metadata": {},
   "outputs": [
    {
     "name": "stderr",
     "output_type": "stream",
     "text": [
      "ERROR:dowhy.causal_graph:Error: Pygraphviz cannot be loaded. DLL load failed: %1 n’est pas une application Win32 valide.\n",
      "Trying pydot ...\n",
      "INFO:dowhy.causal_graph:If this is observed data (not from a randomized experiment), there might always be missing confounders. Adding a node named \"Unobserved Confounders\" to reflect this.\n",
      "INFO:dowhy.causal_model:Model to find the causal effect of treatment ['T'] on outcome ['Y']\n"
     ]
    }
   ],
   "source": [
    "dg = 'digraph {T->Y; C->Y; C->T;}'\n",
    "\n",
    "from dowhy import CausalModel\n",
    "\n",
    "model = CausalModel(rct_with_c_data,\n",
    "                    treatment = ['T'],\n",
    "                    outcome = ['Y'],\n",
    "                   graph = dg)"
   ]
  },
  {
   "cell_type": "code",
   "execution_count": 130,
   "metadata": {},
   "outputs": [
    {
     "name": "stderr",
     "output_type": "stream",
     "text": [
      "INFO:dowhy.causal_identifier:Common causes of treatment and outcome:['C', 'U']\n",
      "WARNING:dowhy.causal_identifier:If this is observed data (not from a randomized experiment), there might always be missing confounders. Causal effect cannot be identified perfectly.\n"
     ]
    },
    {
     "name": "stdout",
     "output_type": "stream",
     "text": [
      "WARN: Do you want to continue by ignoring any unobserved confounders? (use proceed_when_unidentifiable=True to disable this prompt) [y/n] y\n"
     ]
    },
    {
     "name": "stderr",
     "output_type": "stream",
     "text": [
      "INFO:dowhy.causal_identifier:Instrumental variables for treatment and outcome:[]\n"
     ]
    }
   ],
   "source": [
    "identified_estimand = model.identify_effect()"
   ]
  },
  {
   "cell_type": "code",
   "execution_count": 129,
   "metadata": {},
   "outputs": [
    {
     "name": "stderr",
     "output_type": "stream",
     "text": [
      "INFO:dowhy.causal_estimator:INFO: Using Propensity Score Stratification Estimator\n",
      "INFO:dowhy.causal_estimator:b: Y~T+C\n"
     ]
    },
    {
     "name": "stdout",
     "output_type": "stream",
     "text": [
      "*** Causal Estimate ***\n",
      "\n",
      "## Target estimand\n",
      "Estimand type: ate\n",
      "### Estimand : 1\n",
      "Estimand name: backdoor\n",
      "Estimand expression:\n",
      "d                   \n",
      "──(Expectation(Y|C))\n",
      "dT                  \n",
      "Estimand assumption 1, Unconfoundedness: If U→T and U→Y then P(Y|T,C,U) = P(Y|T,C)\n",
      "### Estimand : 2\n",
      "Estimand name: iv\n",
      "No such variable found!\n",
      "\n",
      "## Realized estimand\n",
      "b: Y~T+C\n",
      "## Estimate\n",
      "Value: 0.19063906927278879\n",
      "\n",
      "Hiệu ứng can thiệp = 0.19063906927278879\n"
     ]
    },
    {
     "name": "stderr",
     "output_type": "stream",
     "text": [
      "C:\\Users\\bacsi\\Anaconda3\\lib\\site-packages\\sklearn\\utils\\validation.py:744: DataConversionWarning: A column-vector y was passed when a 1d array was expected. Please change the shape of y to (n_samples, ), for example using ravel().\n",
      "  y = column_or_1d(y, warn=True)\n"
     ]
    }
   ],
   "source": [
    "causal_estimate_strat = model.estimate_effect(identified_estimand,\n",
    "                                              method_name=\"backdoor.propensity_score_stratification\",\n",
    "                                              target_units=\"att\")\n",
    "print(causal_estimate_strat)\n",
    "print(\"Hiệu ứng can thiệp = \" + str(causal_estimate_strat.value))"
   ]
  },
  {
   "cell_type": "markdown",
   "metadata": {},
   "source": [
    "Kết quả tương tự, tức là hiệu ứng can thiệp = 0.191 hay +19% > 0;\n",
    "Kết luận cuối cùng là phương pháp mới không làm giảm biến chứng nhưng làm tăng, do đó không tốt hơn phương pháp thông thường.\n",
    "\n",
    "# Kết luận\n",
    "\n",
    "Một số vấn đề có thể rút ra từ thí nghiệm mô phỏng này:\n",
    "\n",
    "1) Bản thân dữ liệu không quan trọng bằng cách thức mà dữ liệu được sinh ra (hệ thống, quy luật);\n",
    "\n",
    "2) Nghiên cứu lâm sàng đối chứng là tốt, tuy nhiên cần chú ý về sự tồn tại của confounders, mặt khác phân bố của hiệu ứng can thiệp mang tính cưỡng bức (áp dụng 1 chính sách can thiệp trên diện rộng) không tương đương với hiệu ứng quan sát ngẫu nhiên. \n",
    "\n",
    "3) Đúng như lời cảnh báo trong thống kê cổ điển: Tương quan không đồng nghĩa với liên hệ nhân quả: Trong cả 2 trường hợp test Chisquare đều cho ra kết quả dương tính về liên hệ có ý nghĩa thống kê\n",
    "\n",
    "4) Nghịch lý Simpson là một trường hợp cực đoan khi mà confounder hoàn toàn không được kiểm soát (vi phạm giả định về tính độc lập có điều kiện của can thiệp). \n",
    "\n",
    "5) Nếu không được dẫn đường bằng lý thuyết và sơ đồ nhân quả, thống kê quy ước rất dễ rơi vào bẫy  nghịch lý, từ đó rút ra những quyết định sai lầm."
   ]
  },
  {
   "cell_type": "code",
   "execution_count": null,
   "metadata": {},
   "outputs": [],
   "source": []
  }
 ],
 "metadata": {
  "hide_input": false,
  "kernelspec": {
   "display_name": "Python 3",
   "language": "python",
   "name": "python3"
  },
  "language_info": {
   "codemirror_mode": {
    "name": "ipython",
    "version": 3
   },
   "file_extension": ".py",
   "mimetype": "text/x-python",
   "name": "python",
   "nbconvert_exporter": "python",
   "pygments_lexer": "ipython3",
   "version": "3.7.4"
  },
  "toc": {
   "base_numbering": 1,
   "nav_menu": {},
   "number_sections": true,
   "sideBar": true,
   "skip_h1_title": false,
   "title_cell": "Table of Contents",
   "title_sidebar": "Contents",
   "toc_cell": false,
   "toc_position": {},
   "toc_section_display": true,
   "toc_window_display": false
  }
 },
 "nbformat": 4,
 "nbformat_minor": 2
}

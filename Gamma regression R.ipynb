{
 "cells": [
  {
   "cell_type": "markdown",
   "metadata": {},
   "source": [
    "# Hồi quy Gamma sử dụng R\n",
    "\n",
    "## Lê Ngọc Khả Nhi\n",
    "\n",
    "\n",
    "# Giới thiệu\n",
    "\n",
    "Trong nghiên cứu y học, phần lớn các đại lượng mà ta khảo sát là biến liên tục, dương và thường có phân phối bất đối xứng. Trong khi đó, những phương pháp thống kê cơ bản mà sinh viên được dạy như t test hay ANOVA đều dựa trên giả định phân phối chuẩn (Gaussian). Đa số nghiên cứu sinh sử dụng một cách máy móc 1 loại kiểm định (thí dụ t test) và bỏ qua bước kiểm tra đặc tính phân bố của dữ liệu. Cách làm này có thể dẫn đến sai lầm trong suy diễn và/hoặc tiên lượng.\n",
    "\n",
    "Ngay cả khi kết quả phản nghiệm bằng p_values có vẻ hợp lý, việc sử dụng giả định phân bố sai vẫn là nguy cơ tiềm ẩn cho sai lầm về tiên lượng hay ước tính hiệu ứng - thí dụ đơn giản nhất : phân phối chuẩn cho phép biến số ngẫu nhiên dao động tự do trên tập R,do đó một mô hình hồi quy tuyến tính có thể cho ra kết quả âm hoặc quá cao, trái với tự nhiên.\n",
    "\n",
    "Mặt khác, nếu cẩn trọng hơn và phát hiện ra vấn đề dữ liệu phân phối lệch, các bạn cũng không có nhiều lựa chọn: những cách làm thông thường là hoán chuyển logarit hoặc dùng kiểm định phi tham số chỉ mang tính đối phó về kỹ thuật nhưng không phải là giải pháp tối ưu.\n",
    "\n",
    "Trong bài thực hành này, Nhi muốn giới thiệu một giải pháp hiệu quả và phổ quát cho suy diễn thống kê trên dữ liệu là biến liên tục và có phân phối lệch dương, đó là mô hình hồi quy tuyến tính với phân bố gamma.\n",
    "\n",
    "# Bước 1: Chuẩn bị dữ liệu\n",
    "\n",
    "Chúng ta bắt đầu câu chuyện bằng một bài toán suy diễn thống kê đơn giản : so sánh nồng độ bilirubin giữa 2 nhóm bệnh nhân mắc bệnh Viêm gan : nhóm thứ nhất bệnh nhẹ hơn và sống sót, nhóm thứ hai nặng hơn và đã tử vong; dựa theo bộ dữ liệu “hepatitis”.\n",
    "\n",
    "Nhi tải dữ liệu từ database openml.org, sau khi loại bỏ missing values,giản lược chúng ta có 149 cases, gồm 119 trường hợp sống sót và 30 trường hợp tử vong. Biến kết quả là BILIRUBIN, phân nhóm là Class"
   ]
  },
  {
   "cell_type": "code",
   "execution_count": 2,
   "metadata": {
    "run_control": {
     "marked": false
    }
   },
   "outputs": [
    {
     "name": "stderr",
     "output_type": "stream",
     "text": [
      "Registered S3 method overwritten by 'rvest':\n",
      "  method            from\n",
      "  read_xml.response xml2\n",
      "-- Attaching packages --------------------------------------- tidyverse 1.2.1 --\n",
      "v ggplot2 3.3.2     v purrr   0.3.2\n",
      "v tibble  3.0.3     v dplyr   1.0.0\n",
      "v tidyr   1.1.0     v stringr 1.4.0\n",
      "v readr   1.3.1     v forcats 0.4.0\n",
      "Warning message:\n",
      "\"package 'ggplot2' was built under R version 3.6.3\"Warning message:\n",
      "\"package 'tibble' was built under R version 3.6.3\"Warning message:\n",
      "\"package 'tidyr' was built under R version 3.6.3\"Warning message:\n",
      "\"package 'dplyr' was built under R version 3.6.3\"-- Conflicts ------------------------------------------ tidyverse_conflicts() --\n",
      "x dplyr::filter() masks stats::filter()\n",
      "x dplyr::lag()    masks stats::lag()\n"
     ]
    }
   ],
   "source": [
    "library(tidyverse)"
   ]
  },
  {
   "cell_type": "code",
   "execution_count": 3,
   "metadata": {},
   "outputs": [
    {
     "name": "stderr",
     "output_type": "stream",
     "text": [
      "Parsed with column specification:\n",
      "cols(\n",
      "  .default = col_character(),\n",
      "  AGE = col_double(),\n",
      "  BILIRUBIN = col_double(),\n",
      "  ALK_PHOSPHATE = col_double(),\n",
      "  SGOT = col_double(),\n",
      "  ALBUMIN = col_double(),\n",
      "  PROTIME = col_double()\n",
      ")\n",
      "See spec(...) for full column specifications.\n"
     ]
    },
    {
     "data": {
      "text/html": [
       "<table>\n",
       "<thead><tr><th scope=col>Class</th><th scope=col>BILIRUBIN</th></tr></thead>\n",
       "<tbody>\n",
       "\t<tr><td>G1_Live</td><td>1.2    </td></tr>\n",
       "\t<tr><td>G2_Die </td><td>4.2    </td></tr>\n",
       "\t<tr><td>G2_Die </td><td>1.7    </td></tr>\n",
       "\t<tr><td>G1_Live</td><td>0.9    </td></tr>\n",
       "\t<tr><td>G1_Live</td><td>0.6    </td></tr>\n",
       "\t<tr><td>G2_Die </td><td>7.6    </td></tr>\n",
       "\t<tr><td>G1_Live</td><td>0.9    </td></tr>\n",
       "\t<tr><td>G1_Live</td><td>0.8    </td></tr>\n",
       "\t<tr><td>G1_Live</td><td>1.5    </td></tr>\n",
       "\t<tr><td>G2_Die </td><td>1.2    </td></tr>\n",
       "</tbody>\n",
       "</table>\n"
      ],
      "text/latex": [
       "\\begin{tabular}{r|ll}\n",
       " Class & BILIRUBIN\\\\\n",
       "\\hline\n",
       "\t G1\\_Live & 1.2      \\\\\n",
       "\t G2\\_Die  & 4.2      \\\\\n",
       "\t G2\\_Die  & 1.7      \\\\\n",
       "\t G1\\_Live & 0.9      \\\\\n",
       "\t G1\\_Live & 0.6      \\\\\n",
       "\t G2\\_Die  & 7.6      \\\\\n",
       "\t G1\\_Live & 0.9      \\\\\n",
       "\t G1\\_Live & 0.8      \\\\\n",
       "\t G1\\_Live & 1.5      \\\\\n",
       "\t G2\\_Die  & 1.2      \\\\\n",
       "\\end{tabular}\n"
      ],
      "text/markdown": [
       "\n",
       "| Class | BILIRUBIN |\n",
       "|---|---|\n",
       "| G1_Live | 1.2     |\n",
       "| G2_Die  | 4.2     |\n",
       "| G2_Die  | 1.7     |\n",
       "| G1_Live | 0.9     |\n",
       "| G1_Live | 0.6     |\n",
       "| G2_Die  | 7.6     |\n",
       "| G1_Live | 0.9     |\n",
       "| G1_Live | 0.8     |\n",
       "| G1_Live | 1.5     |\n",
       "| G2_Die  | 1.2     |\n",
       "\n"
      ],
      "text/plain": [
       "   Class   BILIRUBIN\n",
       "1  G1_Live 1.2      \n",
       "2  G2_Die  4.2      \n",
       "3  G2_Die  1.7      \n",
       "4  G1_Live 0.9      \n",
       "5  G1_Live 0.6      \n",
       "6  G2_Die  7.6      \n",
       "7  G1_Live 0.9      \n",
       "8  G1_Live 0.8      \n",
       "9  G1_Live 1.5      \n",
       "10 G2_Die  1.2      "
      ]
     },
     "metadata": {},
     "output_type": "display_data"
    }
   ],
   "source": [
    "df = read_csv(\"https://www.openml.org/data/get_csv/55/dataset_55_hepatitis.csv\",na = '?')\n",
    "\n",
    "df<-df%>%dplyr::select(Class,BILIRUBIN)%>%na.omit()\n",
    "\n",
    "df$Class = recode(df$Class, `DIE` = \"G2_Die\", `LIVE` = \"G1_Live\")\n",
    "\n",
    "tail(df,10)"
   ]
  },
  {
   "cell_type": "markdown",
   "metadata": {},
   "source": [
    "# Bước 2: mô tả đặc tính phân bố:\n",
    "\n",
    "Tiếp theo, Nhi sử dụng các hàm của package dplyr và e1071 để làm một thống kê mô tả cho biến BILIRUBIN ở từng phân nhóm. Các trị số được tính bao gồm arithmetic mean, median, SD, Skewness, kurtosis, Min và Max"
   ]
  },
  {
   "cell_type": "code",
   "execution_count": 8,
   "metadata": {},
   "outputs": [
    {
     "name": "stderr",
     "output_type": "stream",
     "text": [
      "Warning message:\n",
      "\"funs() is soft deprecated as of dplyr 0.8.0\n",
      "please use list() instead\n",
      "\n",
      "# Before:\n",
      "funs(name = f(.)\n",
      "\n",
      "# After: \n",
      "list(name = ~f(.))\n",
      "This warning is displayed once per session.\""
     ]
    },
    {
     "data": {
      "text/html": [
       "<table>\n",
       "<thead><tr><th scope=col>Class</th><th scope=col>n</th><th scope=col>Mean</th><th scope=col>Median</th><th scope=col>SD</th><th scope=col>Skew</th><th scope=col>Kurt</th><th scope=col>Min</th><th scope=col>Max</th></tr></thead>\n",
       "<tbody>\n",
       "\t<tr><td>G1_Live  </td><td>119      </td><td>1.146218 </td><td>1.00     </td><td>0.7221425</td><td>2.726613 </td><td>8.567268 </td><td>0.3      </td><td>4.6      </td></tr>\n",
       "\t<tr><td>G2_Die   </td><td> 30      </td><td>2.543333 </td><td>1.95     </td><td>1.9400824</td><td>1.266140 </td><td>1.032473 </td><td>0.4      </td><td>8.0      </td></tr>\n",
       "</tbody>\n",
       "</table>\n"
      ],
      "text/latex": [
       "\\begin{tabular}{r|lllllllll}\n",
       " Class & n & Mean & Median & SD & Skew & Kurt & Min & Max\\\\\n",
       "\\hline\n",
       "\t G1\\_Live & 119       & 1.146218  & 1.00      & 0.7221425 & 2.726613  & 8.567268  & 0.3       & 4.6      \\\\\n",
       "\t G2\\_Die  &  30       & 2.543333  & 1.95      & 1.9400824 & 1.266140  & 1.032473  & 0.4       & 8.0      \\\\\n",
       "\\end{tabular}\n"
      ],
      "text/markdown": [
       "\n",
       "| Class | n | Mean | Median | SD | Skew | Kurt | Min | Max |\n",
       "|---|---|---|---|---|---|---|---|---|\n",
       "| G1_Live   | 119       | 1.146218  | 1.00      | 0.7221425 | 2.726613  | 8.567268  | 0.3       | 4.6       |\n",
       "| G2_Die    |  30       | 2.543333  | 1.95      | 1.9400824 | 1.266140  | 1.032473  | 0.4       | 8.0       |\n",
       "\n"
      ],
      "text/plain": [
       "  Class   n   Mean     Median SD        Skew     Kurt     Min Max\n",
       "1 G1_Live 119 1.146218 1.00   0.7221425 2.726613 8.567268 0.3 4.6\n",
       "2 G2_Die   30 2.543333 1.95   1.9400824 1.266140 1.032473 0.4 8.0"
      ]
     },
     "metadata": {},
     "output_type": "display_data"
    }
   ],
   "source": [
    "df%>%group_by(Class)%>%\n",
    "summarise_at('BILIRUBIN', funs(n = length(.),\n",
    "                               Mean=mean,\n",
    "                               Median=median,\n",
    "                                  SD=sd,\n",
    "                                  Skew = e1071::skewness(.),\n",
    "                                  Kurt = e1071::kurtosis(.),\n",
    "                                  Min=min,\n",
    "                                  Max=max\n",
    "                              ))"
   ]
  },
  {
   "cell_type": "markdown",
   "metadata": {},
   "source": [
    "Như ta thấy, Bilirubin (như các đại lượng sinh học khác), có giá trị dương (>0), liên tục và phân phối bất đối xứng (lệch dương).Thang đo của bilirubin trong dữ liệu từ 0.3 đến 8 đơn vị. Hình ảnh phân bố ở mỗi phân nhóm có thể được khảo sát trực quan bằng KDE plot như sau:"
   ]
  },
  {
   "cell_type": "code",
   "execution_count": 9,
   "metadata": {},
   "outputs": [
    {
     "data": {
      "image/png": "[encoded data removed]",
      "text/plain": [
       "plot without title"
      ]
     },
     "metadata": {},
     "output_type": "display_data"
    }
   ],
   "source": [
    "df%>%ggplot()+\n",
    "  geom_density(aes(x=BILIRUBIN,fill=Class),alpha=0.5)+\n",
    "  scale_fill_manual(values=c(\"blue\",\"red\"))+\n",
    "  theme_bw(10)"
   ]
  },
  {
   "cell_type": "markdown",
   "metadata": {},
   "source": [
    "Một chi tiết khác là phân bố của bilirubin hoàn toàn khác biệt (không đồng dạng) giữa 2 phân nhóm, có nghĩa là kiểm định phi tham số như Mann_Whitney U không cho phép chúng ta suy diễn về khác biệt trung vị, mà chỉ có thể suy diễn sự khác biệt chung chung về loại phân phối.\n",
    "\n",
    "Như đã trình bày ở trên, hoán chuyển logarit là một giải pháp thông dụng để đối phó với phân phối lệch dương, sau khi hoán chuyển, phân phối mới trở nên khá đối xứng và gần với phân phối Gaussian, tuy nhiên ta mất đi ý nghĩa của thang đo gốc:"
   ]
  },
  {
   "cell_type": "code",
   "execution_count": 36,
   "metadata": {},
   "outputs": [
    {
     "data": {
      "image/png": "[encoded data removed]",
      "text/plain": [
       "plot without title"
      ]
     },
     "metadata": {},
     "output_type": "display_data"
    }
   ],
   "source": [
    "df%>%ggplot()+\n",
    "  geom_density(aes(x=log(BILIRUBIN),fill=Class),alpha=0.5)+\n",
    "  scale_fill_manual(values=c(\"blue\",\"red\"))+\n",
    "  theme_bw(10)"
   ]
  },
  {
   "cell_type": "markdown",
   "metadata": {},
   "source": [
    "# Bước 3: Suy diễn thống kê\n",
    "\n",
    "Một kiểm định t trên dữ liệu hoán chuyển logarit thường đủ cho việc suy diễn thống kê về so sánh hơn/kém giữa 2 phân nhóm, tuy nhiên do thang đo gốc không còn nữa, ta chỉ có thể ước tính hiệu ứng khác biệt trên thang đo mới là log(bilirubin):"
   ]
  },
  {
   "cell_type": "code",
   "execution_count": 10,
   "metadata": {},
   "outputs": [
    {
     "data": {
      "text/plain": [
       "\n",
       "\tWelch Two Sample t-test\n",
       "\n",
       "data:  log(df$BILIRUBIN) by df$Class\n",
       "t = -4.4108, df = 34.413, p-value = 9.636e-05\n",
       "alternative hypothesis: true difference in means is not equal to 0\n",
       "95 percent confidence interval:\n",
       " -0.9487554 -0.3504332\n",
       "sample estimates:\n",
       "mean in group G1_Live  mean in group G2_Die \n",
       "           0.01132794            0.66092224 \n"
      ]
     },
     "metadata": {},
     "output_type": "display_data"
    }
   ],
   "source": [
    "t.test(log(df$BILIRUBIN) ~ df$Class)"
   ]
  },
  {
   "cell_type": "markdown",
   "metadata": {},
   "source": [
    "Thay vì dùng kiểm định t, chúng ta có thể dùng mô hình hồi quy tuyến tính để suy diễn thống kê, với nhiều ưu điểm hơn như tính phổ quát và cho nhiều thông tin hơn.\n",
    "\n",
    "Để thích nghi mô hình tuyến tính với dữ liệu biến kết quả lệch dương như hiện thời, chúng ta có nhiều giải pháp, thí dụ:\n",
    "\n",
    "Hoán chuyển logarit cho biến kết quả trước khi đưa vào mô hình"
   ]
  },
  {
   "cell_type": "code",
   "execution_count": 11,
   "metadata": {},
   "outputs": [
    {
     "name": "stderr",
     "output_type": "stream",
     "text": [
      "Warning message:\n",
      "\"package 'jtools' was built under R version 3.6.3\""
     ]
    },
    {
     "data": {
      "text/plain": [
       "MODEL INFO:\n",
       "Observations: 149\n",
       "Dependent Variable: log(BILIRUBIN)\n",
       "Type: OLS linear regression \n",
       "\n",
       "MODEL FIT:\n",
       "F(2,147) = 22.657, p = 0.000\n",
       "R² = 0.236\n",
       "Adj. R² = 0.225 \n",
       "\n",
       "Standard errors: OLS\n",
       "------------------------------------------------------------\n",
       "                      Est.     2.5%   97.5%   t val.       p\n",
       "------------------ ------- -------- ------- -------- -------\n",
       "ClassG1_Live         0.011   -0.086   0.109    0.230   0.819\n",
       "ClassG2_Die          0.661    0.467   0.855    6.728   0.000\n",
       "------------------------------------------------------------"
      ]
     },
     "metadata": {},
     "output_type": "display_data"
    }
   ],
   "source": [
    "library(jtools)\n",
    "\n",
    "lm(log(BILIRUBIN) ~ Class-1, data = df)%>%\n",
    "  summ(confint = TRUE, digits = 3)"
   ]
  },
  {
   "cell_type": "markdown",
   "metadata": {},
   "source": [
    "Khi làm theo cách này, ta có 2 hướng diễn giải hiệu ứng của phân nhóm G2 (tử vong): hoặc dùng trực tiếp hệ số hồi quy (0.661) làm tăng trung bình (arithmetic mean) trên thang đo log(Y), hoặc sự thay đổi tỉ lệ thuận geometric mean của Y theo mean ratio = exp(0.661), trên thang đo nguyên thủy.\n",
    "\n",
    "$E[log(Y_i)] = \\beta_0 + \\beta_1X_1$\n",
    "\n",
    "Thí dụ ta có thể diễn giải: bệnh nhân ở phân nhóm tử vong có bilirubin cao hơn 1.94 lần so với phân nhóm sống sót, tức là geometric mean của bilirubin ở các bệnh nhân tử vong ước tính khoảng 1.96 đơn vị\n",
    "\n",
    "Kết quả tiên lượng này không chính xác, thấp hơn so với thống kê mô tả mà ta đã làm bên trên."
   ]
  },
  {
   "cell_type": "code",
   "execution_count": 12,
   "metadata": {},
   "outputs": [
    {
     "data": {
      "text/html": [
       "1.95879130090718"
      ],
      "text/latex": [
       "1.95879130090718"
      ],
      "text/markdown": [
       "1.95879130090718"
      ],
      "text/plain": [
       "[1] 1.958791"
      ]
     },
     "metadata": {},
     "output_type": "display_data"
    }
   ],
   "source": [
    "1.011392 * exp(0.661)"
   ]
  },
  {
   "cell_type": "markdown",
   "metadata": {},
   "source": [
    "Cách làm thứ 2, đó là sử dụng giả định phân bố Gaussian cho kết quả Y trong mô hình tuyến tính, nhưng với link function (hàm liên kết) là logarit. Cách làm này có ưu điểm là chính xác hơn so với việc hoán chuyển trước khi dựng mô hình (Ta cần lưu ý: logarit của trung bình không tương đương với trung bình của logarit )"
   ]
  },
  {
   "cell_type": "code",
   "execution_count": 13,
   "metadata": {},
   "outputs": [
    {
     "data": {
      "text/html": [
       "0.355936416260732"
      ],
      "text/latex": [
       "0.355936416260732"
      ],
      "text/markdown": [
       "0.355936416260732"
      ],
      "text/plain": [
       "[1] 0.3559364"
      ]
     },
     "metadata": {},
     "output_type": "display_data"
    }
   ],
   "source": [
    "log(mean(df$BILIRUBIN)) "
   ]
  },
  {
   "cell_type": "code",
   "execution_count": 14,
   "metadata": {},
   "outputs": [
    {
     "data": {
      "text/html": [
       "0.14211873953415"
      ],
      "text/latex": [
       "0.14211873953415"
      ],
      "text/markdown": [
       "0.14211873953415"
      ],
      "text/plain": [
       "[1] 0.1421187"
      ]
     },
     "metadata": {},
     "output_type": "display_data"
    }
   ],
   "source": [
    "mean(log(df$BILIRUBIN))"
   ]
  },
  {
   "cell_type": "markdown",
   "metadata": {},
   "source": [
    "Mô hình này cũng cho phép diễn giải về hiệu ứng của phân nhóm tử vong theo 2 cách: trực tiếp trên thang đo log(Y) hoặc gián tiếp qua hàm exponential trên thang đo nguyên thủy. Tuy nhiên khác với mô hình 1, ở đây cả 2 suy diễn đều cho arithmetic mean.\n",
    "\n",
    "$E[log(Y_i)] = \\beta_0 + \\beta_1X_1$"
   ]
  },
  {
   "cell_type": "code",
   "execution_count": 15,
   "metadata": {},
   "outputs": [
    {
     "data": {
      "text/plain": [
       "MODEL INFO:\n",
       "Observations: 149\n",
       "Dependent Variable: BILIRUBIN\n",
       "Type: Generalized linear model\n",
       "  Family: gaussian \n",
       "  Link function: log \n",
       "\n",
       "MODEL FIT:\n",
       "<U+03C7>²(1) = 46.768, p = 0.000\n",
       "Pseudo-R² (Cragg-Uhler) = 0.224\n",
       "Pseudo-R² (McFadden) = 0.075\n",
       "AIC = 449.093, BIC = 458.105 \n",
       "\n",
       "Standard errors: MLE\n",
       "-----------------------------------------------------------\n",
       "                     Est.     2.5%   97.5%   t val.       p\n",
       "----------------- ------- -------- ------- -------- -------\n",
       "(Intercept)         0.136   -0.032   0.305    1.583   0.115\n",
       "ClassG2_Die         0.797    0.570   1.024    6.882   0.000\n",
       "-----------------------------------------------------------\n",
       "\n",
       "Estimated dispersion parameter = 1.161 "
      ]
     },
     "metadata": {},
     "output_type": "display_data"
    }
   ],
   "source": [
    "glm(formula =BILIRUBIN ~ Class,\n",
    "                         family = gaussian(link = \"log\"),\n",
    "                         data = df)%>%\n",
    "  summ(confint = TRUE, digits = 3)"
   ]
  },
  {
   "cell_type": "markdown",
   "metadata": {},
   "source": [
    "Thí dụ: ta nói nhóm tử vong có log(bilirubin) tăng 0.797 đơn vị so với phân nhóm sống sót.\n",
    "\n",
    "$E[Y_i] = e^{(\\beta_0 + \\beta_1X_1)}$"
   ]
  },
  {
   "cell_type": "code",
   "execution_count": 16,
   "metadata": {},
   "outputs": [
    {
     "data": {
      "text/plain": [
       "MODEL INFO:\n",
       "Observations: 149\n",
       "Dependent Variable: BILIRUBIN\n",
       "Type: Generalized linear model\n",
       "  Family: gaussian \n",
       "  Link function: log \n",
       "\n",
       "MODEL FIT:\n",
       "<U+03C7>²(1) = 46.768, p = 0.000\n",
       "Pseudo-R² (Cragg-Uhler) = 0.224\n",
       "Pseudo-R² (McFadden) = 0.075\n",
       "AIC = 449.093, BIC = 458.105 \n",
       "\n",
       "Standard errors: MLE\n",
       "--------------------------------------------------------------\n",
       "                    exp(Est.)    2.5%   97.5%   t val.       p\n",
       "----------------- ----------- ------- ------- -------- -------\n",
       "(Intercept)             1.146   0.968   1.357    1.583   0.115\n",
       "ClassG2_Die             2.219   1.768   2.784    6.882   0.000\n",
       "--------------------------------------------------------------\n",
       "\n",
       "Estimated dispersion parameter = 1.161 "
      ]
     },
     "metadata": {},
     "output_type": "display_data"
    }
   ],
   "source": [
    "glm(formula =BILIRUBIN ~ Class,\n",
    "                         family = gaussian(link = \"log\"),\n",
    "                         data = df)%>%\n",
    "  summ(confint = TRUE, digits = 3,exp=T)"
   ]
  },
  {
   "cell_type": "markdown",
   "metadata": {},
   "source": [
    "Sau khi dùng hàm exponential cho intercept và ClassG2, ta có thể nhận ra: exp(b0) chính là arithmetic mean của phân nhóm G1, còn exp(b1) chính là tỉ lệ tăng của arithmetic mean nhóm G1 , cũng là arithmetic mean của nhóm G2.Như vậy phân nhóm G2 có bilirubin tăng 2.219 lần. Kết quả tiên lượng arithmetic mean của G2 cũng phù hợp hơn:"
   ]
  },
  {
   "cell_type": "code",
   "execution_count": 17,
   "metadata": {},
   "outputs": [
    {
     "data": {
      "text/html": [
       "2.543457742"
      ],
      "text/latex": [
       "2.543457742"
      ],
      "text/markdown": [
       "2.543457742"
      ],
      "text/plain": [
       "[1] 2.543458"
      ]
     },
     "metadata": {},
     "output_type": "display_data"
    }
   ],
   "source": [
    "2.219 * 1.146218"
   ]
  },
  {
   "cell_type": "markdown",
   "metadata": {},
   "source": [
    "Cách thứ 3 chính là nội dung của bài thực hành này, đó là Hồi quy Gamma. Ở đây ta có thể đặt giả định là Y được ước lượng bằng 1 biến số ngẫu nhiên có phân phối Gamma, với link function là logarithm."
   ]
  },
  {
   "cell_type": "code",
   "execution_count": 18,
   "metadata": {},
   "outputs": [
    {
     "data": {
      "text/plain": [
       "MODEL INFO:\n",
       "Observations: 149\n",
       "Dependent Variable: BILIRUBIN\n",
       "Type: Generalized linear model\n",
       "  Family: Gamma \n",
       "  Link function: log \n",
       "\n",
       "MODEL FIT:\n",
       "<U+03C7>²(1) = 17.581, p = 0.000\n",
       "Pseudo-R² (Cragg-Uhler) = 0.321\n",
       "Pseudo-R² (McFadden) = 0.146\n",
       "AIC = 304.182, BIC = 313.194 \n",
       "\n",
       "Standard errors: MLE\n",
       "--------------------------------------------------------------\n",
       "                    exp(Est.)    2.5%   97.5%   t val.       p\n",
       "----------------- ----------- ------- ------- -------- -------\n",
       "(Intercept)             1.146   1.018   1.290    2.261   0.025\n",
       "ClassG2_Die             2.219   1.705   2.888    5.926   0.000\n",
       "--------------------------------------------------------------\n",
       "\n",
       "Estimated dispersion parameter = 0.433 "
      ]
     },
     "metadata": {},
     "output_type": "display_data"
    }
   ],
   "source": [
    "glm(formula =BILIRUBIN ~ Class,\n",
    "    family = Gamma(link = \"log\"),\n",
    "    data = df)%>%\n",
    "  summ(confint = TRUE, digits = 3,exp=T)"
   ]
  },
  {
   "cell_type": "markdown",
   "metadata": {},
   "source": [
    "Mô hình hồi quy Gamma này cho ra kết quả tương đương như trên, với khác biệt nhỏ trong khoảng tin cậy và ý nghĩa thống kê của phân nhóm G1 (Intercept). AIC của mô hình gamma thấp hơn so với AIC của mô hình Gaussian (log).\n",
    "\n",
    "Cách diễn giải cho mô hình hồi quy Gamma cũng giống như mô hình Gamma(log), vì chúng đều có hàm liên kết logarit."
   ]
  },
  {
   "cell_type": "code",
   "execution_count": 19,
   "metadata": {},
   "outputs": [
    {
     "data": {
      "text/html": [
       "2.543457742"
      ],
      "text/latex": [
       "2.543457742"
      ],
      "text/markdown": [
       "2.543457742"
      ],
      "text/plain": [
       "[1] 2.543458"
      ]
     },
     "metadata": {},
     "output_type": "display_data"
    }
   ],
   "source": [
    "2.219 * 1.146218"
   ]
  },
  {
   "cell_type": "markdown",
   "metadata": {},
   "source": [
    "Bạn cũng có thể dùng mô hình hồi quy Gamma với link function là Identity thay vì log, mô hình này cho phép suy diễn trực tiếp về hiệu ứng của phân nhóm làm tăng arithmetic mean trên thang đo gốc của Y mà không cần hàm exponential, thí dụ ta có thể ước tính arithmetic của phân nhóm G2 đơn giản bằng cách cộng b0 và b1 = 1.146 + 1.397 = 2.54;"
   ]
  },
  {
   "cell_type": "code",
   "execution_count": 20,
   "metadata": {},
   "outputs": [
    {
     "data": {
      "text/plain": [
       "MODEL INFO:\n",
       "Observations: 149\n",
       "Dependent Variable: BILIRUBIN\n",
       "Type: Generalized linear model\n",
       "  Family: Gamma \n",
       "  Link function: identity \n",
       "\n",
       "MODEL FIT:\n",
       "<U+03C7>²(1) = 17.581, p = 0.000\n",
       "Pseudo-R² (Cragg-Uhler) = 0.321\n",
       "Pseudo-R² (McFadden) = 0.146\n",
       "AIC = 304.182, BIC = 313.194 \n",
       "\n",
       "Standard errors: MLE\n",
       "----------------------------------------------------------\n",
       "                     Est.    2.5%   97.5%   t val.       p\n",
       "----------------- ------- ------- ------- -------- -------\n",
       "(Intercept)         1.146   1.011   1.282   16.570   0.000\n",
       "ClassG2_Die         1.397   0.783   2.011    4.458   0.000\n",
       "----------------------------------------------------------\n",
       "\n",
       "Estimated dispersion parameter = 0.433 "
      ]
     },
     "metadata": {},
     "output_type": "display_data"
    }
   ],
   "source": [
    "glm(formula =BILIRUBIN ~ Class,\n",
    "    family = Gamma(link = \"identity\"),\n",
    "    data = df)%>%\n",
    "  summ(confint = TRUE, digits = 3,exp=F)"
   ]
  },
  {
   "cell_type": "code",
   "execution_count": 21,
   "metadata": {},
   "outputs": [
    {
     "data": {
      "text/html": [
       "2.543218"
      ],
      "text/latex": [
       "2.543218"
      ],
      "text/markdown": [
       "2.543218"
      ],
      "text/plain": [
       "[1] 2.543218"
      ]
     },
     "metadata": {},
     "output_type": "display_data"
    }
   ],
   "source": [
    "1.397 + 1.146218"
   ]
  },
  {
   "cell_type": "markdown",
   "metadata": {},
   "source": [
    "# Hồi quy Gamma sử dụng gamlss\n",
    "\n",
    "Trong phần tiếp theo, Nhi sẽ giới thiệu về mô hình hồi quy Gamma sử dụng package gamlss. Nội dung này là sự nâng cao so với hàm glm cơ bản trong R. Trước hết,package gamlss cho phép ta chứng minh: phân phối Gamma phù hợp hơn cho dữ liệu hiện thời so với phân phối Gaussian: thật vậy, mô hình hồi quy ước tính trung bình của Y sử dụng Gamma có AIC và BIC (SBC) thấp hơn."
   ]
  },
  {
   "cell_type": "code",
   "execution_count": 4,
   "metadata": {},
   "outputs": [
    {
     "name": "stderr",
     "output_type": "stream",
     "text": [
      "Warning message:\n",
      "\"package 'gamlss' was built under R version 3.6.3\"Loading required package: splines\n",
      "Loading required package: gamlss.data\n",
      "\n",
      "Attaching package: 'gamlss.data'\n",
      "\n",
      "The following object is masked from 'package:datasets':\n",
      "\n",
      "    sleep\n",
      "\n",
      "Loading required package: gamlss.dist\n",
      "Warning message:\n",
      "\"package 'gamlss.dist' was built under R version 3.6.3\"Loading required package: MASS\n",
      "\n",
      "Attaching package: 'MASS'\n",
      "\n",
      "The following object is masked from 'package:dplyr':\n",
      "\n",
      "    select\n",
      "\n",
      "Loading required package: nlme\n",
      "\n",
      "Attaching package: 'nlme'\n",
      "\n",
      "The following object is masked from 'package:dplyr':\n",
      "\n",
      "    collapse\n",
      "\n",
      "Loading required package: parallel\n",
      " **********   GAMLSS Version 5.1-7  ********** \n",
      "For more on GAMLSS look at http://www.gamlss.com/\n",
      "Type gamlssNews() to see new features/changes/bug fixes.\n",
      "\n"
     ]
    },
    {
     "data": {
      "text/plain": [
       "\n",
       "Family:  c(\"GA\", \"Gamma\") \n",
       "Fitting method: \"nlminb\" \n",
       "\n",
       "Call:  gamlssML(formula = BILIRUBIN, family = \"GA\", data = df) \n",
       "\n",
       "Mu Coefficients:\n",
       "[1]  0.3559\n",
       "Sigma Coefficients:\n",
       "[1]  -0.4566\n",
       "\n",
       " Degrees of Freedom for the fit: 2 Residual Deg. of Freedom   147 \n",
       "Global Deviance:     348.844 \n",
       "            AIC:     352.844 \n",
       "            SBC:     358.852 "
      ]
     },
     "metadata": {},
     "output_type": "display_data"
    },
    {
     "data": {
      "image/png": "[encoded data removed]",
      "text/plain": [
       "Plot with title \"The BILIRUBIN and the fitted GA distribution\""
      ]
     },
     "metadata": {},
     "output_type": "display_data"
    }
   ],
   "source": [
    "library(gamlss)\n",
    "\n",
    "histDist(data=df,BILIRUBIN,family='GA')"
   ]
  },
  {
   "cell_type": "code",
   "execution_count": 24,
   "metadata": {},
   "outputs": [
    {
     "data": {
      "text/plain": [
       "\n",
       "Family:  c(\"NO\", \"Normal\") \n",
       "Fitting method: \"nlminb\" \n",
       "\n",
       "Call:  gamlssML(formula = BILIRUBIN, family = \"NO\", data = df) \n",
       "\n",
       "Mu Coefficients:\n",
       "[1]  1.428\n",
       "Sigma Coefficients:\n",
       "[1]  0.189\n",
       "\n",
       " Degrees of Freedom for the fit: 2 Residual Deg. of Freedom   147 \n",
       "Global Deviance:     479.174 \n",
       "            AIC:     483.174 \n",
       "            SBC:     489.182 "
      ]
     },
     "metadata": {},
     "output_type": "display_data"
    },
    {
     "data": {
      "image/png": "[encoded data removed]",
      "text/plain": [
       "Plot with title \"The BILIRUBIN and the fitted NO distribution\""
      ]
     },
     "metadata": {},
     "output_type": "display_data"
    }
   ],
   "source": [
    "histDist(data=df,BILIRUBIN,family='NO')"
   ]
  },
  {
   "cell_type": "markdown",
   "metadata": {},
   "source": [
    "Có nhiều cách định nghĩa phân phối Gamma, thông thường ta sử dụng 2 tham số là alpha (shape) và beta (scale), gói R cơ bản sử dụng cách định nghĩa này. Tuy nhiên trong gamlss, phân phối Gamma được xác định bằng cách khác, với 2 tham số là Mu và Sigma.\n",
    "\n",
    "Hàm PDF của phân phối Gamma trong gamlss như sau:\n",
    "\n",
    "$$f(y|\\mu ,\\sigma)=\\frac{1}{\\left ( \\sigma ^{2} \\mu \\right )^{1/\\sigma^{2}}}\\frac{y^{\\frac{1}{\\sigma ^{2}}-1}e^{-y/(\\sigma ^{2}\\mu )}}{\\Gamma \\left ( 1/\\sigma^{2} \\right )}$$\n",
    "\n",
    "gamlss cho phép dựng 2 mô hình riêng biệt cho 2 tham số: Mu và Sigma trong hàm PDF nêu trên. Liên hệ giữa Mu, Sigma và alpha, beta là như sau:\n",
    "\n",
    "$$\\mu = \\alpha * \\beta$$\n",
    "\n",
    "Mu có ý nghĩa như vị trí trung tâm (trung bình) của biến kết quả cần ước lượng, Mu phụ thuộc cả vào alpha và beta.\n",
    "\n",
    "Sigma có quan hệ với alpha:\n",
    "\n",
    "$$\\sigma = \\sqrt{\\frac{1}{\\alpha }}$$\n",
    "\n",
    "Một khi có mu và sigma, có thể ước tính độ lệch chuẩn và phương sai của Y:\n",
    "\n",
    "$$SD = \\sigma * \\mu$$\n",
    "\n",
    "Thí nghiệm mô phỏng sau đây sẽ cho phép hình dung về hiệu ứng lên mu và sigma khi thay đổi 2 tham số scale và shape :\n",
    "\n",
    "Khi giữ nguyên shape = 10 và thay đổi scale ;"
   ]
  },
  {
   "cell_type": "code",
   "execution_count": 25,
   "metadata": {},
   "outputs": [
    {
     "name": "stderr",
     "output_type": "stream",
     "text": [
      "Warning message:\n",
      "\"`data_frame()` is deprecated, use `tibble()`.\n",
      "This warning is displayed once per session.\""
     ]
    },
    {
     "data": {
      "image/png": "[encoded data removed]",
      "text/plain": [
       "plot without title"
      ]
     },
     "metadata": {},
     "output_type": "display_data"
    }
   ],
   "source": [
    "library(gamlss.dist)\n",
    "\n",
    "sim_gamma = function(n,a,b){\n",
    "  mu=a*b\n",
    "  sigma=sqrt(1/a)\n",
    "  sd=sigma*mu\n",
    "  x = rGA(n,mu,sigma)\n",
    "  return(x)\n",
    "}\n",
    "\n",
    "sim_df = data_frame(X=NA,shape=NA,scale=NA)\n",
    "\n",
    "for (i in c(1,2,3,4,5,10,15,20)){\n",
    "  x=sim_gamma(1000,10,i)\n",
    "  temp_df = data_frame(X=x,shape=rep(10,1000),scale=rep(i,1000))\n",
    "  sim_df = rbind(sim_df,temp_df)%>%na.omit()\n",
    "}\n",
    "\n",
    "sim_df$mu=factor(sim_df$shape*sim_df$scale)\n",
    "sim_df%>%ggplot()+geom_density(aes(x=X,fill=mu),alpha=0.5)+theme_bw()"
   ]
  },
  {
   "cell_type": "markdown",
   "metadata": {},
   "source": [
    "Như ta thấy trong hình, Gamma là một phân phối rất linh hoạt và phù hợp một cách tự nhiên với quy luật phân phối của nhiều đại lượng sinh học, với 2 đặc tính: liên tục trong tập hợp R+, và có kiểu hình biến chuyển đa dạng, từ lệch dương cho đến đối xứng.Hình ảnh này phụ thuộc vào tham số alpha (shape)và beta (scale.)\n",
    "\n",
    "Khi giữ nguyên scale = 5 và thay đổi shape"
   ]
  },
  {
   "cell_type": "code",
   "execution_count": 26,
   "metadata": {},
   "outputs": [
    {
     "data": {
      "image/png": "[encoded data removed]",
      "text/plain": [
       "plot without title"
      ]
     },
     "metadata": {},
     "output_type": "display_data"
    }
   ],
   "source": [
    "sim_df = data_frame(X=NA,shape=NA,scale=NA)\n",
    "\n",
    "for (i in c(1,2,3,4,5,10,15,20)){\n",
    "  x=sim_gamma(1000,i,5)\n",
    "  temp_df = data_frame(X=x,shape=rep(i,1000),scale=rep(5,1000))\n",
    "  sim_df = rbind(sim_df,temp_df)%>%na.omit()\n",
    "}\n",
    "\n",
    "sim_df$sigma=factor(sqrt(1/sim_df$shape))\n",
    "sim_df%>%ggplot()+geom_density(aes(x=X,fill=sigma),alpha=0.5)+theme_bw()"
   ]
  },
  {
   "cell_type": "markdown",
   "metadata": {},
   "source": [
    "Tương tác giữa scale và shape,"
   ]
  },
  {
   "cell_type": "code",
   "execution_count": 28,
   "metadata": {},
   "outputs": [
    {
     "data": {
      "image/png": "[encoded data removed]",
      "text/plain": [
       "plot without title"
      ]
     },
     "metadata": {},
     "output_type": "display_data"
    }
   ],
   "source": [
    "sim_df = data_frame(X=NA,shape=NA,scale=NA)\n",
    "\n",
    "for (b in c(1,2,3,4,5,10,15,20)){\n",
    "  for (a in c(1,2,3,4,5,10,15,20)){\n",
    "       x=sim_gamma(1000,a,b)\n",
    "       temp_df = data_frame(X=x,shape=rep(a,1000),scale=rep(b,1000))\n",
    "  sim_df = rbind(sim_df,temp_df)%>%na.omit()\n",
    "  }\n",
    "}\n",
    "\n",
    "sim_df$mu=sim_df$shape*sim_df$scale\n",
    "sim_df$sigma=sqrt(1/sim_df$shape)\n",
    "sim_df$sd=sim_df$mu*sim_df$sigma\n",
    "\n",
    "sim_df%>%ggplot()+geom_path(aes(x=shape,y=mu,col=factor(scale)))+theme_bw()"
   ]
  },
  {
   "cell_type": "code",
   "execution_count": 29,
   "metadata": {},
   "outputs": [
    {
     "data": {
      "image/png": "[encoded data removed]",
      "text/plain": [
       "plot without title"
      ]
     },
     "metadata": {},
     "output_type": "display_data"
    }
   ],
   "source": [
    "sim_df%>%ggplot()+geom_path(aes(x=shape,y=sigma,col=factor(scale)))+facet_wrap(~scale)+theme_bw()"
   ]
  },
  {
   "cell_type": "code",
   "execution_count": 30,
   "metadata": {},
   "outputs": [
    {
     "data": {
      "image/png": "[encoded data removed]",
      "text/plain": [
       "plot without title"
      ]
     },
     "metadata": {},
     "output_type": "display_data"
    }
   ],
   "source": [
    "sim_df%>%ggplot()+geom_path(aes(x=shape,y=sd,col=factor(scale)))+theme_bw()"
   ]
  },
  {
   "cell_type": "code",
   "execution_count": 31,
   "metadata": {},
   "outputs": [
    {
     "data": {
      "image/png": "[encoded data removed]",
      "text/plain": [
       "plot without title"
      ]
     },
     "metadata": {},
     "output_type": "display_data"
    }
   ],
   "source": [
    "sim_df%>%ggplot()+geom_path(aes(x=scale,y=sd,col=factor(shape)))+theme_bw()"
   ]
  },
  {
   "cell_type": "markdown",
   "metadata": {},
   "source": [
    "Bây giờ, Nhi dựng 2 mô hình hồi quy gamma với 2 tham số Mu và Sigma, cả 2 đều có link function (hàm liên kết) là log"
   ]
  },
  {
   "cell_type": "code",
   "execution_count": 5,
   "metadata": {},
   "outputs": [
    {
     "name": "stderr",
     "output_type": "stream",
     "text": [
      "Warning message:\n",
      "\"package 'sjPlot' was built under R version 3.6.3\""
     ]
    },
    {
     "name": "stdout",
     "output_type": "stream",
     "text": [
      "******************************************************************\n",
      "Family:  c(\"GA\", \"Gamma\") \n",
      "\n",
      "Call:  gamlss(formula = BILIRUBIN ~ Class, sigma.formula = ~Class,  \n",
      "    family = GA, data = df, trace = F, parallel = \"multicore\",      ncpus = nC) \n",
      "\n",
      "\n",
      "Fitting method: RS() \n",
      "\n",
      "------------------------------------------------------------------\n",
      "Mu link function:  log\n",
      "Mu Coefficients:\n",
      "            Estimate Std. Error t value Pr(>|t|)    \n",
      "(Intercept)  0.13647    0.04497   3.034  0.00286 ** \n",
      "ClassG2_Die  0.79701    0.13717   5.810  3.8e-08 ***\n",
      "---\n",
      "Signif. codes:  0 '***' 0.001 '**' 0.01 '*' 0.05 '.' 0.1 ' ' 1\n",
      "\n",
      "------------------------------------------------------------------\n",
      "Sigma link function:  log\n",
      "Sigma Coefficients:\n",
      "            Estimate Std. Error t value Pr(>|t|)    \n",
      "(Intercept) -0.71214    0.06239 -11.414  < 2e-16 ***\n",
      "ClassG2_Die  0.36933    0.13511   2.734  0.00704 ** \n",
      "---\n",
      "Signif. codes:  0 '***' 0.001 '**' 0.01 '*' 0.05 '.' 0.1 ' ' 1\n",
      "\n",
      "------------------------------------------------------------------\n",
      "No. of observations in the fit:  149 \n",
      "Degrees of Freedom for the fit:  4\n",
      "      Residual Deg. of Freedom:  145 \n",
      "                      at cycle:  2 \n",
      " \n",
      "Global Deviance:     289.6076 \n",
      "            AIC:     297.6076 \n",
      "            SBC:     309.6234 \n",
      "******************************************************************\n"
     ]
    }
   ],
   "source": [
    "library(broom)\n",
    "library(sjPlot)\n",
    "\n",
    "mod = gamlss(formula = BILIRUBIN ~ Class,\n",
    "             data=df,\n",
    "             sigma.fo = ~ Class,\n",
    "             family = GA,\n",
    "             trace=F,\n",
    "       parallel=\"multicore\",\n",
    "       ncpus = nC)\n",
    "\n",
    "summary(mod)"
   ]
  },
  {
   "cell_type": "code",
   "execution_count": 6,
   "metadata": {},
   "outputs": [
    {
     "name": "stdout",
     "output_type": "stream",
     "text": [
      "******************************************************************\n",
      "\t      Summary of the Quantile Residuals\n",
      "                           mean   =  -0.00909365 \n",
      "                       variance   =  1.003027 \n",
      "               coef. of skewness  =  1.354485 \n",
      "               coef. of kurtosis  =  5.463048 \n",
      "Filliben correlation coefficient  =  0.9447688 \n",
      "******************************************************************\n"
     ]
    },
    {
     "data": {
      "image/png": "[encoded data removed]",
      "text/plain": [
       "Plot with title \"Normal Q-Q Plot\""
      ]
     },
     "metadata": {},
     "output_type": "display_data"
    }
   ],
   "source": [
    "plot(mod)"
   ]
  },
  {
   "cell_type": "markdown",
   "metadata": {},
   "source": [
    "Mô hình có AIC = 297.6 và BIC = 309.6, độ tự do sai số residual ở đây là 145; do chúng ta đã dùng 1 intercept và 1 phân nhóm G2 cho mỗi mô hình Mu và Sigma ((1+1)*2=4)"
   ]
  },
  {
   "cell_type": "code",
   "execution_count": 7,
   "metadata": {},
   "outputs": [
    {
     "data": {
      "text/html": [
       "<table>\n",
       "<thead><tr><th scope=col>df</th><th scope=col>logLik</th><th scope=col>AIC</th><th scope=col>BIC</th><th scope=col>deviance</th><th scope=col>df.residual</th></tr></thead>\n",
       "<tbody>\n",
       "\t<tr><td>0        </td><td>-144.8038</td><td>297.6076 </td><td>309.6234 </td><td>289.6076 </td><td>145      </td></tr>\n",
       "</tbody>\n",
       "</table>\n"
      ],
      "text/latex": [
       "\\begin{tabular}{r|llllll}\n",
       " df & logLik & AIC & BIC & deviance & df.residual\\\\\n",
       "\\hline\n",
       "\t 0         & -144.8038 & 297.6076  & 309.6234  & 289.6076  & 145      \\\\\n",
       "\\end{tabular}\n"
      ],
      "text/markdown": [
       "\n",
       "| df | logLik | AIC | BIC | deviance | df.residual |\n",
       "|---|---|---|---|---|---|\n",
       "| 0         | -144.8038 | 297.6076  | 309.6234  | 289.6076  | 145       |\n",
       "\n"
      ],
      "text/plain": [
       "  df logLik    AIC      BIC      deviance df.residual\n",
       "1 0  -144.8038 297.6076 309.6234 289.6076 145        "
      ]
     },
     "metadata": {},
     "output_type": "display_data"
    }
   ],
   "source": [
    "glance(mod)"
   ]
  },
  {
   "cell_type": "markdown",
   "metadata": {},
   "source": [
    "Sử dụng hàm augment của package broom , ta có thể vẽ biểu đồ khảo sát “marginal effect” của mô hình: lưu ý rằng cần áp dụng hàm exponential trên các hiệu ứng gốc trong mô hình để quy đổi về thang đo nguyên thủy.\n",
    "\n",
    "Khi mô hình trở nên phức tạp, biểu diễn nội dung của nó bằng biểu đồ là một cách để người đọc nắm bắt được thông tin trực quan và đơn giản."
   ]
  },
  {
   "cell_type": "code",
   "execution_count": 8,
   "metadata": {},
   "outputs": [
    {
     "data": {
      "image/png": "[encoded data removed]",
      "text/plain": [
       "plot without title"
      ]
     },
     "metadata": {},
     "output_type": "display_data"
    }
   ],
   "source": [
    "augment(mod)%>%mutate(UL= .fitted +.se.fit*1.96,\n",
    "                      LL=.fitted-.se.fit*1.96)%>%\n",
    "  ggplot()+\n",
    "  geom_jitter(aes(x=Class,y=BILIRUBIN,col=Class),alpha=0.3)+\n",
    "  geom_errorbar(aes(x=Class, ymin=exp(LL), ymax=exp(UL),col=Class),\n",
    "                width=0.2, \n",
    "                size=1) + \n",
    "  geom_point(aes(x=Class, y=exp(.fitted),col=Class), \n",
    "             size=4) +\n",
    "  geom_path(aes(x=Class, y=exp(.fitted)))+\n",
    "  scale_color_manual(values=c(\"red\",\"blue\"))+\n",
    "  theme_bw()  "
   ]
  },
  {
   "cell_type": "markdown",
   "metadata": {},
   "source": [
    "Nội dung của mô hình có thể được diễn giải bằng các arithmetic mean ratio trên một biểu đồ, như đã bàn ở trên; lưu ý rằng mô hình gamlss cho phép suy diễn đồng thời hiệu ứng trên cả 2 tham số Mu (trung bình, vị trí trung tâm) và sigma (kiểu hình của phân bố).\n",
    "\n",
    "Trong dữ liệu hiện thời, hiệu ứng của phân nhóm G1, G2 đều có ý nghĩa trong cả 2 tham số Mu và Sigma. Nói cách khác, khi bệnh viêm gan càng nặng (nguy cơ tử vong cao) thì bilirubin càng phân bố theo khuynh hướng: vị trí trung tâm dịch chuyển sang phải (tăng cao), nhưng sự phân tán cũng cao hơn và hình ảnh phân bố lệch nhiều hơn (skewness tăng)."
   ]
  },
  {
   "cell_type": "code",
   "execution_count": 9,
   "metadata": {},
   "outputs": [
    {
     "data": {
      "image/png": "[encoded data removed]",
      "text/plain": [
       "plot without title"
      ]
     },
     "metadata": {},
     "output_type": "display_data"
    }
   ],
   "source": [
    "tidy(mod)%>%mutate(Ratio=exp(estimate),\n",
    "                   LL=exp(estimate-1.96*std.error),\n",
    "                   UL=exp(estimate+1.96*std.error))%>%\n",
    "  ggplot()+\n",
    "  geom_errorbar(aes(x=term, ymin=LL, ymax=UL,col=parameter),\n",
    "                width=0.2, \n",
    "                size=1) + \n",
    "  geom_point(aes(x=term,y=Ratio,col=parameter), \n",
    "             size=4)+\n",
    "  geom_hline(yintercept=1,linetype=2,col=\"red4\")+\n",
    "  coord_flip()+\n",
    "  facet_wrap(~parameter,ncol=1)+\n",
    "  scale_color_manual(values=c(\"red\",\"blue\"))+\n",
    "  theme_bw()  "
   ]
  },
  {
   "cell_type": "markdown",
   "metadata": {},
   "source": [
    "# Bootstrap mô hình gamlss\n",
    "\n",
    "Ta sẽ nâng cao hơn 1 chút bằng một phân tích hồi quy bootstrap, Nhi dùng hàm bootstraps của package rsample để tạo ra 1000 phiên bản dữ liệu ngẫu nhiên khác nhau (có bảo tồn tỉ lệ 2 phân nhóm), sau đó dựng cùng một mô hình như trên cho mỗi phiên bản dữ liệu; trích xuất kết quả 1000 mô hình này.\n",
    "\n",
    "Đây là dữ liệu kết quả của 1000 mô hình gamma:"
   ]
  },
  {
   "cell_type": "code",
   "execution_count": 11,
   "metadata": {},
   "outputs": [
    {
     "name": "stderr",
     "output_type": "stream",
     "text": [
      "Warning message:\n",
      "\"package 'rsample' was built under R version 3.6.3\"Warning message:\n",
      "\"`data_frame()` is deprecated as of tibble 1.1.0.\n",
      "Please use `tibble()` instead.\n",
      "This warning is displayed once every 8 hours.\n",
      "Call `lifecycle::last_warnings()` to see where this warning was generated.\""
     ]
    }
   ],
   "source": [
    "library(rsample)\n",
    "\n",
    "boot_df <- bootstraps(df, strata = \"Class\", times = 1000)\n",
    "\n",
    "mu_form=as.formula(BILIRUBIN ~ Class)\n",
    "sigma_form=as.formula(~ Class)\n",
    "\n",
    "mod=df%>%gamlss(formula =.$BILIRUBIN ~ .$Class,\n",
    "       sigma.fo = ~ .$Class,\n",
    "       family = GA,\n",
    "       trace=F,\n",
    "       parallel=\"multicore\",\n",
    "       ncpus = nC)\n",
    "\n",
    "model_dev = function(splits,...){\n",
    "  mod = gamlss(..., data=analysis(splits),\n",
    "               family = GA,\n",
    "               trace=F,\n",
    "               parallel=\"multicore\",\n",
    "               ncpus = nC)\n",
    "  \n",
    "  tidy_df=broom::tidy(mod,\n",
    "              conf.int = TRUE, \n",
    "              conf.level = 0.975)\n",
    "  \n",
    "  glance_df = glance(mod)\n",
    "  \n",
    "  tidy_df<-tidy_df%>%mutate(BIC=glance_df$BIC,\n",
    "                   AIC=glance_df$AIC,\n",
    "                   R2=Rsq(mod))\n",
    "  return(tidy_df)\n",
    "  }\n",
    "\n",
    "coef_list <- map(.x = boot_df$splits, \n",
    "             .f = model_dev, \n",
    "             mu_form,\n",
    "             sigma_form)%>%\n",
    "  map_df(~data_frame(Para=.x$parameter,\n",
    "                     Term=.x$term,\n",
    "                     Est=.x$estimate,\n",
    "                     Ratio=exp(.x$estimate),\n",
    "                     t=.x$statistic,\n",
    "                     p_val=.x$p.value,\n",
    "                     BIC=.x$BIC,\n",
    "                     AIC=.x$AIC,\n",
    "                     R2=.x$R2))"
   ]
  },
  {
   "cell_type": "code",
   "execution_count": 15,
   "metadata": {},
   "outputs": [
    {
     "name": "stderr",
     "output_type": "stream",
     "text": [
      "Picking joint bandwidth of 0.0425\n",
      "Picking joint bandwidth of 0.0257\n"
     ]
    },
    {
     "data": {
      "image/png": "[encoded data removed]",
      "text/plain": [
       "plot without title"
      ]
     },
     "metadata": {},
     "output_type": "display_data"
    }
   ],
   "source": [
    "library(ggridges)\n",
    "\n",
    "coef_list%>%\n",
    "  ggplot(aes(y=Term,x=Ratio))+\n",
    "  geom_density_ridges(alpha=0.7,scale=0.85,\n",
    "                      aes(fill=Term),\n",
    "                      show.legend = F)+\n",
    "  scale_y_discrete(expand = c(0.1,0.5))+\n",
    "  geom_vline(xintercept = 1,linetype=2,col=\"red3\")+\n",
    "  theme_bw()+\n",
    "  facet_wrap(~Para,ncol=1,scales = \"free\")"
   ]
  },
  {
   "cell_type": "markdown",
   "metadata": {},
   "source": [
    "Phân tích bootstrap cho phép ta ước tính khoảng tin cậy 97.5% cho tỉ số arithmetic mean ratio của phân nhóm G2 cho Mu, Sigma:"
   ]
  },
  {
   "cell_type": "code",
   "execution_count": 16,
   "metadata": {},
   "outputs": [
    {
     "name": "stderr",
     "output_type": "stream",
     "text": [
      "Warning message:\n",
      "\"`funs()` is deprecated as of dplyr 0.8.0.\n",
      "Please use a list of either functions or lambdas: \n",
      "\n",
      "  # Simple named list: \n",
      "  list(mean = mean, median = median)\n",
      "\n",
      "  # Auto named with `tibble::lst()`: \n",
      "  tibble::lst(mean, median)\n",
      "\n",
      "  # Using lambdas\n",
      "  list(~ mean(., trim = .2), ~ median(., na.rm = TRUE))\n",
      "This warning is displayed once every 8 hours.\n",
      "Call `lifecycle::last_warnings()` to see where this warning was generated.\""
     ]
    },
    {
     "data": {
      "text/html": [
       "<table>\n",
       "<thead><tr><th scope=col>Para</th><th scope=col>Term</th><th scope=col>n</th><th scope=col>Mean</th><th scope=col>Median</th><th scope=col>LL</th><th scope=col>UL</th><th scope=col>Min</th><th scope=col>Max</th></tr></thead>\n",
       "<tbody>\n",
       "\t<tr><td>mu         </td><td>(Intercept)</td><td>1000       </td><td>1.146297   </td><td>1.141176   </td><td>1.0352521  </td><td>1.2865756  </td><td>0.9672269  </td><td>1.3571429  </td></tr>\n",
       "\t<tr><td>mu         </td><td>ClassG2_Die</td><td>1000       </td><td>2.220263   </td><td>2.203297   </td><td>1.6388808  </td><td>2.9185847  </td><td>1.3088394  </td><td>3.6082537  </td></tr>\n",
       "\t<tr><td>sigma      </td><td>(Intercept)</td><td>1000       </td><td>0.485638   </td><td>0.485592   </td><td>0.4020525  </td><td>0.5666852  </td><td>0.3582704  </td><td>0.6025751  </td></tr>\n",
       "\t<tr><td>sigma      </td><td>ClassG2_Die</td><td>1000       </td><td>1.443859   </td><td>1.436207   </td><td>1.0682039  </td><td>1.8873851  </td><td>0.7853665  </td><td>2.1606540  </td></tr>\n",
       "</tbody>\n",
       "</table>\n"
      ],
      "text/latex": [
       "\\begin{tabular}{r|lllllllll}\n",
       " Para & Term & n & Mean & Median & LL & UL & Min & Max\\\\\n",
       "\\hline\n",
       "\t mu          & (Intercept) & 1000        & 1.146297    & 1.141176    & 1.0352521   & 1.2865756   & 0.9672269   & 1.3571429  \\\\\n",
       "\t mu            & ClassG2\\_Die & 1000          & 2.220263      & 2.203297      & 1.6388808     & 2.9185847     & 1.3088394     & 3.6082537    \\\\\n",
       "\t sigma       & (Intercept) & 1000        & 0.485638    & 0.485592    & 0.4020525   & 0.5666852   & 0.3582704   & 0.6025751  \\\\\n",
       "\t sigma         & ClassG2\\_Die & 1000          & 1.443859      & 1.436207      & 1.0682039     & 1.8873851     & 0.7853665     & 2.1606540    \\\\\n",
       "\\end{tabular}\n"
      ],
      "text/markdown": [
       "\n",
       "| Para | Term | n | Mean | Median | LL | UL | Min | Max |\n",
       "|---|---|---|---|---|---|---|---|---|\n",
       "| mu          | (Intercept) | 1000        | 1.146297    | 1.141176    | 1.0352521   | 1.2865756   | 0.9672269   | 1.3571429   |\n",
       "| mu          | ClassG2_Die | 1000        | 2.220263    | 2.203297    | 1.6388808   | 2.9185847   | 1.3088394   | 3.6082537   |\n",
       "| sigma       | (Intercept) | 1000        | 0.485638    | 0.485592    | 0.4020525   | 0.5666852   | 0.3582704   | 0.6025751   |\n",
       "| sigma       | ClassG2_Die | 1000        | 1.443859    | 1.436207    | 1.0682039   | 1.8873851   | 0.7853665   | 2.1606540   |\n",
       "\n"
      ],
      "text/plain": [
       "  Para  Term        n    Mean     Median   LL        UL        Min      \n",
       "1 mu    (Intercept) 1000 1.146297 1.141176 1.0352521 1.2865756 0.9672269\n",
       "2 mu    ClassG2_Die 1000 2.220263 2.203297 1.6388808 2.9185847 1.3088394\n",
       "3 sigma (Intercept) 1000 0.485638 0.485592 0.4020525 0.5666852 0.3582704\n",
       "4 sigma ClassG2_Die 1000 1.443859 1.436207 1.0682039 1.8873851 0.7853665\n",
       "  Max      \n",
       "1 1.3571429\n",
       "2 3.6082537\n",
       "3 0.6025751\n",
       "4 2.1606540"
      ]
     },
     "metadata": {},
     "output_type": "display_data"
    }
   ],
   "source": [
    "coef_list%>%\n",
    "  group_by(Para,Term)%>%\n",
    "    summarise_at(\"Ratio\",funs(n=length(.),\n",
    "                              Mean=mean,\n",
    "                              Median=median,\n",
    "                              LL=quantile(.,0.025),\n",
    "                              UL=quantile(.,0.975),\n",
    "                              Min=min,\n",
    "                              Max=max))"
   ]
  },
  {
   "cell_type": "markdown",
   "metadata": {},
   "source": [
    "Kết quả này khép lại bài thực hành, hy vọng các bạn đã có những giây phút học tập vui vẻ. Như bạn thấy, mô hình hồi quy là một công cụ hữu ích ; hẹn gặp các bạn trong một lần khác."
   ]
  },
  {
   "cell_type": "code",
   "execution_count": null,
   "metadata": {},
   "outputs": [],
   "source": []
  }
 ],
 "metadata": {
  "hide_input": false,
  "kernelspec": {
   "display_name": "R",
   "language": "R",
   "name": "ir"
  },
  "language_info": {
   "codemirror_mode": "r",
   "file_extension": ".r",
   "mimetype": "text/x-r-source",
   "name": "R",
   "pygments_lexer": "r",
   "version": "3.6.1"
  },
  "toc": {
   "base_numbering": 1,
   "nav_menu": {},
   "number_sections": true,
   "sideBar": true,
   "skip_h1_title": false,
   "title_cell": "Table of Contents",
   "title_sidebar": "Contents",
   "toc_cell": false,
   "toc_position": {},
   "toc_section_display": true,
   "toc_window_display": false
  }
 },
 "nbformat": 4,
 "nbformat_minor": 4
}

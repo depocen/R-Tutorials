{
 "cells": [
  {
   "cell_type": "markdown",
   "metadata": {},
   "source": [
    "# Một chút Python - Bài 4: List, chuỗi dữ liệu\n",
    "\n",
    "### BS. Lê Ngọc Khả Nhi\n",
    "\n",
    "## Nhập đề:\n",
    "\n",
    "Chào các bạn, chúng ta lại gặp nhau và tiếp tục tìm hiểu về những cấu trúc dữ liệu cơ bản của Python. Bài hôm nay Nhi sẽ giới thiệu với các bạn về list, cấu trúc dữ liệu dạng chuỗi cơ bản trong ngôn ngữ Python và những method có liên quan. \n",
    "\n",
    "Nếu các bạn đã thực hành về Tuples trong bài 3, thì có thể hình dung đơn giản rằng: Cũng như Tuple, list là một cấu trúc dữ liệu dạng chuỗi, nội dung theo trình tự xác định và có thể lặp lại. Tuy nhiên, đặc tính phân biệt với Tuple, đó là các phần tử bên trong list CÓ THỂ được thay đổi.\n",
    "\n",
    "Lưu ý: với các bạn đã sử dụng R và mới chuyển qua học Python, thuật ngữ List của Python hoàn toàn khác với List của R (Python list tương tự như array trong những ngôn ngữ khác, còn R List thực ra lại tương đương với dictionary của Python). Ta cũng không nên nhầm lẫn giữa Python list (hay tuple) và chuỗi dữ liệu 1 chiều vector trong R. Python list có tính linh động hơn và có nhiều ứng dụng hơn so với cấu trúc vector trong R; thí dụ Python list cho phép chứa nhiều kiểu dữ liệu khác nhau và thậm chí chuỗi objects như ta sẽ thấy trong bài thực hành."
   ]
  },
  {
   "cell_type": "code",
   "execution_count": 1,
   "metadata": {},
   "outputs": [
    {
     "name": "stdout",
     "output_type": "stream",
     "text": [
      "Bài thực hành này sử dụng Python 3.7.4 và numpy 1.17.4\n"
     ]
    }
   ],
   "source": [
    "import numpy as np\n",
    "from platform import python_version\n",
    "\n",
    "print(f'Bài thực hành này sử dụng Python {python_version()} và numpy {np.__version__}')"
   ]
  },
  {
   "cell_type": "markdown",
   "metadata": {},
   "source": [
    "## Tạo list\n",
    "\n",
    "Đầu tiên, có 2 cách để chủ động tạo ra list object: một cách tường minh với hàm list(...), và ngắn gọn bằng ngoặc vuông [...]\n",
    "\n",
    "List đơn giản nhất là list rỗng, không chứa phần tử nào cả, thường được chuẩn bị sẵn như một ngăn chứa để nhận dữ liệu xuất ra từ các vòng lặp hay iterators:\n",
    "\n",
    "### List rỗng"
   ]
  },
  {
   "cell_type": "code",
   "execution_count": 2,
   "metadata": {},
   "outputs": [
    {
     "name": "stdout",
     "output_type": "stream",
     "text": [
      "[]\n"
     ]
    },
    {
     "data": {
      "text/plain": [
       "list"
      ]
     },
     "execution_count": 2,
     "metadata": {},
     "output_type": "execute_result"
    }
   ],
   "source": [
    "lst = list()\n",
    "\n",
    "print(lst)\n",
    "\n",
    "type(lst)"
   ]
  },
  {
   "cell_type": "code",
   "execution_count": 3,
   "metadata": {},
   "outputs": [
    {
     "name": "stdout",
     "output_type": "stream",
     "text": [
      "[]\n"
     ]
    },
    {
     "data": {
      "text/plain": [
       "list"
      ]
     },
     "execution_count": 3,
     "metadata": {},
     "output_type": "execute_result"
    }
   ],
   "source": [
    "lst = []\n",
    "\n",
    "print(lst)\n",
    "\n",
    "type(lst)"
   ]
  },
  {
   "cell_type": "markdown",
   "metadata": {},
   "source": [
    "### Đóng gói dữ liệu vào list\n",
    "\n",
    "Thông thường, ta dùng list để lưu trữ chuỗi dữ liệu cùng bản chất (cùng loại dữ liệu, thang đo, đơn vị đo), giống như công dụng của array 1 chiều hay vector; để đóng gói dữ liệu vào list, ta chỉ cần liệt kê các phần tử theo trình tự xác định bên trong ngoặc vuông [] và một thói quen nhỏ nhưng hữu ích mà Nhi đã nhắc trong bài trước, là luôn đặt một dấu phẩy ',' trước khi đóng list (giống như khi trao đổi điện đài, người ta kết thúc một thông điệp bằng từ \"over\")\n",
    "\n",
    "Thí dụ, một danh sách tên 7 thầy thuốc nổi tiếng là list dữ liệu kiểu string:"
   ]
  },
  {
   "cell_type": "code",
   "execution_count": 19,
   "metadata": {},
   "outputs": [
    {
     "name": "stdout",
     "output_type": "stream",
     "text": [
      "['Edward Jenner', 'Rene Laennec', 'Henry Gray', 'Louis Pasteur', 'Joseph Lister', 'Charles Drew', 'Virginia Apgar']\n",
      "<class 'str'>\n",
      "<class 'str'>\n",
      "<class 'str'>\n",
      "<class 'str'>\n",
      "<class 'str'>\n",
      "<class 'str'>\n",
      "<class 'str'>\n"
     ]
    },
    {
     "data": {
      "text/plain": [
       "list"
      ]
     },
     "execution_count": 19,
     "metadata": {},
     "output_type": "execute_result"
    }
   ],
   "source": [
    "doctors = ['Edward Jenner','Rene Laennec','Henry Gray',\n",
    "           'Louis Pasteur','Joseph Lister',\n",
    "           'Charles Drew','Virginia Apgar',]\n",
    "\n",
    "print(doctors)\n",
    "\n",
    "for doc in doctors:\n",
    "    print(type(doc))\n",
    "    \n",
    "type(doctors)"
   ]
  },
  {
   "cell_type": "markdown",
   "metadata": {},
   "source": [
    "List và Tuple không cho phép dán nhãn tên gọi cho các phần tử như Dictionary, tuy nhiên ta có thể dùng docstring để chú thích (nhớ xuống hàng...), thí dụ như list sau đây dùng dữ liệu string để lưu mã màu hex-color code kèm theo chú thích:"
   ]
  },
  {
   "cell_type": "code",
   "execution_count": 25,
   "metadata": {},
   "outputs": [
    {
     "name": "stdout",
     "output_type": "stream",
     "text": [
      "['#fc0352', '#03b1fc', '#fce303']\n"
     ]
    },
    {
     "data": {
      "text/plain": [
       "list"
      ]
     },
     "execution_count": 25,
     "metadata": {},
     "output_type": "execute_result"
    }
   ],
   "source": [
    "palette = ['#fc0352', #Red\n",
    "           '#03b1fc', #Blue\n",
    "           '#fce303', # Yellow\n",
    "          ]\n",
    "\n",
    "print(palette)\n",
    "\n",
    "type(palette)"
   ]
  },
  {
   "cell_type": "markdown",
   "metadata": {},
   "source": [
    "Một list boolean có thể dùng để lưu chuỗi labels của một mô hình losgictic hay 1 boolean mask để lọc dữ liệu; lưu ý là list cho phép lặp lại nhiều lần ngẫu nhiên 1 giá trị, do đó list có thể dùng như cấu trúc dữ liệu sơ cấp để tính toán cho các trường hợp quan sát độc lập:"
   ]
  },
  {
   "cell_type": "code",
   "execution_count": 16,
   "metadata": {},
   "outputs": [
    {
     "name": "stdout",
     "output_type": "stream",
     "text": [
      "[True, False, False, True, True]\n",
      "<class 'bool'>\n",
      "<class 'bool'>\n",
      "<class 'bool'>\n",
      "<class 'bool'>\n",
      "<class 'bool'>\n"
     ]
    },
    {
     "data": {
      "text/plain": [
       "list"
      ]
     },
     "execution_count": 16,
     "metadata": {},
     "output_type": "execute_result"
    }
   ],
   "source": [
    "diag = [True, False, False, True, True,]\n",
    "\n",
    "print(diag)\n",
    "\n",
    "for d in diag:\n",
    "    print(type(d))\n",
    "    \n",
    "type(diag)"
   ]
  },
  {
   "cell_type": "markdown",
   "metadata": {},
   "source": [
    "Tương tự, ta tạo một list integers để lưu kết quả xét nghiệm marker CPK của 8 bệnh nhân, lưu ý là giá trị 92 lặp lại 2 lần: vì list cho phép điều này:"
   ]
  },
  {
   "cell_type": "code",
   "execution_count": 18,
   "metadata": {},
   "outputs": [
    {
     "name": "stdout",
     "output_type": "stream",
     "text": [
      "[29, 28, 41, 70, 92, 70, 92, 140]\n",
      "<class 'int'>\n",
      "<class 'int'>\n",
      "<class 'int'>\n",
      "<class 'int'>\n",
      "<class 'int'>\n",
      "<class 'int'>\n",
      "<class 'int'>\n",
      "<class 'int'>\n"
     ]
    },
    {
     "data": {
      "text/plain": [
       "list"
      ]
     },
     "execution_count": 18,
     "metadata": {},
     "output_type": "execute_result"
    }
   ],
   "source": [
    "cpk = [29,28,41,70,92,70,92,140,]\n",
    "\n",
    "print(cpk)\n",
    "\n",
    "for c in cpk:\n",
    "    print(type(c))\n",
    "    \n",
    "type(cpk)"
   ]
  },
  {
   "cell_type": "markdown",
   "metadata": {},
   "source": [
    "Theo cùng một cách, ta có thể dùng 1 list float number để lưu kết quả BMI của 5 đối tượng:"
   ]
  },
  {
   "cell_type": "code",
   "execution_count": 26,
   "metadata": {},
   "outputs": [
    {
     "name": "stdout",
     "output_type": "stream",
     "text": [
      "[27.8, 30.5, 31.6, 29.4, 32]\n",
      "<class 'float'>\n",
      "<class 'float'>\n",
      "<class 'float'>\n",
      "<class 'float'>\n",
      "<class 'int'>\n"
     ]
    },
    {
     "data": {
      "text/plain": [
       "list"
      ]
     },
     "execution_count": 26,
     "metadata": {},
     "output_type": "execute_result"
    }
   ],
   "source": [
    "bmi = [27.8, 30.5, 31.6, 29.4, 32, ]\n",
    "\n",
    "print(bmi)\n",
    "\n",
    "for i in bmi:\n",
    "    print(type(i))\n",
    "    \n",
    "type(bmi)"
   ]
  },
  {
   "cell_type": "markdown",
   "metadata": {},
   "source": [
    "Khác với R vector bắt buộc dữ liệu phải cùng kiểu, Python list cho phép trộn nhiều kiểu dữ liệu với nhau trong cùng một list, kể cả missing value (được xem là float), như thí dụ sau:"
   ]
  },
  {
   "cell_type": "code",
   "execution_count": 27,
   "metadata": {},
   "outputs": [
    {
     "name": "stdout",
     "output_type": "stream",
     "text": [
      "[168, 172, nan, 162.5, 170.5]\n",
      "<class 'int'>\n",
      "<class 'int'>\n",
      "<class 'float'>\n",
      "<class 'float'>\n",
      "<class 'float'>\n"
     ]
    },
    {
     "data": {
      "text/plain": [
       "list"
      ]
     },
     "execution_count": 27,
     "metadata": {},
     "output_type": "execute_result"
    }
   ],
   "source": [
    "height = [168, 172, np.nan, 162.5, 170.5, ]\n",
    "\n",
    "print(height)\n",
    "\n",
    "for h in height:\n",
    "    print(type(h))\n",
    "    \n",
    "type(height)"
   ]
  },
  {
   "cell_type": "markdown",
   "metadata": {},
   "source": [
    "Ta có thể đóng gói những object đang tồn tại theo trình tự nhất định vào ngoặc vuông để tạo list"
   ]
  },
  {
   "cell_type": "code",
   "execution_count": 102,
   "metadata": {},
   "outputs": [
    {
     "data": {
      "text/plain": [
       "[0.2, 9.99, 100]"
      ]
     },
     "execution_count": 102,
     "metadata": {},
     "output_type": "execute_result"
    }
   ],
   "source": [
    "s1 = 0.2\n",
    "s2 = 9.99\n",
    "s3 = 100\n",
    "\n",
    "lst = [s1, s2, s3, ]\n",
    "\n",
    "lst"
   ]
  },
  {
   "cell_type": "markdown",
   "metadata": {},
   "source": [
    "### List với cấu trúc phức tạp hơn:\n",
    "\n",
    "Không chỉ lưu trữ được dữ liệu 1 chiều như những 1D array khác, cấu trúc của Python list có thể mở rộng về độ phức tạp, thí dụ ta có thể lồng ghép nhiều list trong list để lưu dữ liệu đa chiều (tương đương matrix, tensor):\n",
    "\n",
    "Thí dụ sau đây: ta lồng 3 list con 5 phần tử vào 1 list để lưu nội dung matrix 5x3"
   ]
  },
  {
   "cell_type": "code",
   "execution_count": 32,
   "metadata": {},
   "outputs": [
    {
     "name": "stdout",
     "output_type": "stream",
     "text": [
      "<class 'list'>\n",
      "<class 'list'>\n",
      "<class 'list'>\n",
      "<class 'list'>\n"
     ]
    },
    {
     "data": {
      "text/plain": [
       "[[-0.8364903833074401,\n",
       "  0.2773584813846664,\n",
       "  0.02181505268001011,\n",
       "  1.5805179068136628,\n",
       "  0.10237802346007963],\n",
       " [0.8414641422330631,\n",
       "  -0.01188269351738565,\n",
       "  -1.2089530693391606,\n",
       "  0.8083900380478812,\n",
       "  -0.6040391570990409],\n",
       " [1.385540480061949,\n",
       "  -0.8614275832520412,\n",
       "  -0.24760337607584265,\n",
       "  -0.3168535239177808,\n",
       "  -1.0742024836287896]]"
      ]
     },
     "execution_count": 32,
     "metadata": {},
     "output_type": "execute_result"
    }
   ],
   "source": [
    "signal = [list(np.random.randn(5)),\n",
    "          list(np.random.randn(5)),\n",
    "          list(np.random.randn(5)),]\n",
    "\n",
    "print(type(signal))\n",
    "\n",
    "for s in signal:\n",
    "    print(type(s))\n",
    "\n",
    "signal"
   ]
  },
  {
   "cell_type": "markdown",
   "metadata": {},
   "source": [
    "Tương tự, ta có thể dùng list lồng ghép 3 tuples bên trong để lưu trữ kết quả huyết áp tâm thu và tâm trương của 3 bệnh nhân:"
   ]
  },
  {
   "cell_type": "code",
   "execution_count": 33,
   "metadata": {},
   "outputs": [
    {
     "name": "stdout",
     "output_type": "stream",
     "text": [
      "[(130, 90), (120, 80), (140, 85)]\n",
      "<class 'list'>\n",
      "<class 'tuple'>\n",
      "<class 'tuple'>\n",
      "<class 'tuple'>\n"
     ]
    }
   ],
   "source": [
    "bp = [(130,90),(120,80),(140,85),]\n",
    "\n",
    "print(bp)\n",
    "\n",
    "print(type(bp))\n",
    "\n",
    "for b in bp:\n",
    "    print(type(b))"
   ]
  },
  {
   "cell_type": "markdown",
   "metadata": {},
   "source": [
    "Một cách tổng quát, list có thể chứa được TẤT CẢ các loại object của Python, thậm chí hàm (function)), điều này cho phép công dụng của list vượt ra khỏi khuôn khổ của một vector dữ liệu 1 chiều đơn giản, và tạo ra những phong cách viết code sáng tạo: thí dụ dùng list functions thay thế cho chuỗi điều kiện if/else, dùng list để đưa arguments vào function, dùng list comprehension thay thế cho vòng lặp ...; Nhi sẽ giới thiệu về những thứ này vào một dịp khác."
   ]
  },
  {
   "cell_type": "code",
   "execution_count": 24,
   "metadata": {},
   "outputs": [
    {
     "name": "stdout",
     "output_type": "stream",
     "text": [
      "['A', 99, 0.05, nan, True, [1, 2, 3], (4, 5, 6), {'A': [1, 2, 3]}, <function func at 0x0000015C71AB4AF8>]\n",
      "<class 'list'>\n"
     ]
    },
    {
     "data": {
      "text/plain": [
       "[str, int, float, float, bool, list, tuple, dict, function]"
      ]
     },
     "execution_count": 24,
     "metadata": {},
     "output_type": "execute_result"
    }
   ],
   "source": [
    "def func():\n",
    "    pass\n",
    "\n",
    "mx_lst = ['A',99, 0.05, np.nan,\n",
    "          True, [1,2,3,],\n",
    "          (4,5,6), {'A':[1,2,3]}, \n",
    "          func, ]\n",
    "\n",
    "print(mx_lst)\n",
    "\n",
    "print(type(mx_lst))\n",
    "\n",
    "[type(i) for i in mx_lst]"
   ]
  },
  {
   "cell_type": "markdown",
   "metadata": {},
   "source": [
    "## Hoán chuyển những data object khác thành list\n",
    "\n",
    "Hàm list( ) hoán chuyển những chuỗi dữ liệu như tuple, string thành list"
   ]
  },
  {
   "cell_type": "code",
   "execution_count": 5,
   "metadata": {},
   "outputs": [
    {
     "name": "stdout",
     "output_type": "stream",
     "text": [
      "<class 'tuple'>\n",
      "(1, 2, 3, 4, 5)\n",
      "<class 'list'>\n",
      "[1, 2, 3, 4, 5]\n"
     ]
    }
   ],
   "source": [
    "t = 1,2,3,4,5,\n",
    "\n",
    "print(type(t))\n",
    "\n",
    "print(t)\n",
    "\n",
    "lst = list(t)\n",
    "\n",
    "print(type(lst))\n",
    "\n",
    "print(lst)"
   ]
  },
  {
   "cell_type": "code",
   "execution_count": 7,
   "metadata": {},
   "outputs": [
    {
     "name": "stdout",
     "output_type": "stream",
     "text": [
      "abcdef\n",
      "<class 'list'>\n",
      "['a', 'b', 'c', 'd', 'e', 'f']\n"
     ]
    }
   ],
   "source": [
    "s = 'abcdef'\n",
    "\n",
    "print(s)\n",
    "\n",
    "lst = list(s)\n",
    "\n",
    "print(type(lst))\n",
    "\n",
    "print(lst)"
   ]
  },
  {
   "cell_type": "markdown",
   "metadata": {},
   "source": [
    "Dictionary có cấu trúc bắt cặp key:value, do đó khi dùng hàm list() cho dict, mặc định sẽ xuất keys chứ không phải values"
   ]
  },
  {
   "cell_type": "code",
   "execution_count": 41,
   "metadata": {},
   "outputs": [
    {
     "data": {
      "text/plain": [
       "['a', 'b']"
      ]
     },
     "execution_count": 41,
     "metadata": {},
     "output_type": "execute_result"
    }
   ],
   "source": [
    "dct = {'a':[1,2,3], 'b':[4,5,6]}\n",
    "\n",
    "list(dct)"
   ]
  },
  {
   "cell_type": "markdown",
   "metadata": {},
   "source": [
    "Để lấy values, ta cần chỉ rõ bằng method values() của dict"
   ]
  },
  {
   "cell_type": "code",
   "execution_count": 47,
   "metadata": {},
   "outputs": [
    {
     "data": {
      "text/plain": [
       "[[1, 2, 3], [4, 5, 6]]"
      ]
     },
     "execution_count": 47,
     "metadata": {},
     "output_type": "execute_result"
    }
   ],
   "source": [
    "dct = {'a':[1,2,3], 'b':[4,5,6]}\n",
    "\n",
    "list(dct.values())"
   ]
  },
  {
   "cell_type": "markdown",
   "metadata": {},
   "source": [
    "Ta cũng có thể chỉ đích danh key cần lấy values"
   ]
  },
  {
   "cell_type": "code",
   "execution_count": 52,
   "metadata": {},
   "outputs": [
    {
     "data": {
      "text/plain": [
       "[1, 2, 3]"
      ]
     },
     "execution_count": 52,
     "metadata": {},
     "output_type": "execute_result"
    }
   ],
   "source": [
    "dct = {'a':[1,2,3], 'b':[4,5,6]}\n",
    "\n",
    "list(dct.get('a'))"
   ]
  },
  {
   "cell_type": "markdown",
   "metadata": {},
   "source": [
    "## Khảo sát cấu trúc list\n",
    "\n",
    "Hàm len() đếm số phần tử trong list"
   ]
  },
  {
   "cell_type": "code",
   "execution_count": 77,
   "metadata": {},
   "outputs": [
    {
     "data": {
      "text/plain": [
       "6"
      ]
     },
     "execution_count": 77,
     "metadata": {},
     "output_type": "execute_result"
    }
   ],
   "source": [
    "cur_lst = [1,2,3,4,5,6,]\n",
    "\n",
    "len(cur_lst)"
   ]
  },
  {
   "cell_type": "markdown",
   "metadata": {},
   "source": [
    "method count() đếm số lần xuất hiện 1 giá trị"
   ]
  },
  {
   "cell_type": "code",
   "execution_count": 82,
   "metadata": {},
   "outputs": [
    {
     "data": {
      "text/plain": [
       "3"
      ]
     },
     "execution_count": 82,
     "metadata": {},
     "output_type": "execute_result"
    }
   ],
   "source": [
    "cur_lst = [2,7,3,2,5,6,2,0,]\n",
    "\n",
    "\n",
    "cur_lst.count(2)"
   ]
  },
  {
   "cell_type": "markdown",
   "metadata": {},
   "source": [
    "Hàm min và max xác định giá trị cao nhất/thấp nhất"
   ]
  },
  {
   "cell_type": "code",
   "execution_count": 83,
   "metadata": {},
   "outputs": [
    {
     "data": {
      "text/plain": [
       "0"
      ]
     },
     "execution_count": 83,
     "metadata": {},
     "output_type": "execute_result"
    }
   ],
   "source": [
    "min(cur_lst)"
   ]
  },
  {
   "cell_type": "code",
   "execution_count": 86,
   "metadata": {},
   "outputs": [
    {
     "data": {
      "text/plain": [
       "7"
      ]
     },
     "execution_count": 86,
     "metadata": {},
     "output_type": "execute_result"
    }
   ],
   "source": [
    "max(cur_lst)"
   ]
  },
  {
   "cell_type": "markdown",
   "metadata": {},
   "source": [
    "## Truy xuất dữ liệu từ list (indexing, slicing)\n",
    "\n",
    "Như tuple và string, list sử dụng hệ thống index; ta có thể truy xuất dữ liệu tại 1 hay nhiều vị trí, liên tục hay ngắt quãng:"
   ]
  },
  {
   "cell_type": "code",
   "execution_count": 91,
   "metadata": {},
   "outputs": [
    {
     "data": {
      "text/plain": [
       "[1, 2, 3, 4, 5, 6]"
      ]
     },
     "execution_count": 91,
     "metadata": {},
     "output_type": "execute_result"
    }
   ],
   "source": [
    "lst = [1,2,3,4,5,6,]\n",
    "\n",
    "lst"
   ]
  },
  {
   "cell_type": "code",
   "execution_count": 93,
   "metadata": {},
   "outputs": [],
   "source": [
    "# Hệ index Python đếm xuôi từ 0 và đếm ngược từ -1\n",
    "\n",
    "#   lst = [1,2,3,4,5,6,]\n",
    " # xuôi:   0 1 2 3 4 5 \n",
    " # ngược: -6-5-4-3-2-1"
   ]
  },
  {
   "cell_type": "code",
   "execution_count": 94,
   "metadata": {},
   "outputs": [
    {
     "data": {
      "text/plain": [
       "1"
      ]
     },
     "execution_count": 94,
     "metadata": {},
     "output_type": "execute_result"
    }
   ],
   "source": [
    "lst[0]"
   ]
  },
  {
   "cell_type": "code",
   "execution_count": 95,
   "metadata": {},
   "outputs": [
    {
     "data": {
      "text/plain": [
       "4"
      ]
     },
     "execution_count": 95,
     "metadata": {},
     "output_type": "execute_result"
    }
   ],
   "source": [
    "lst[3]"
   ]
  },
  {
   "cell_type": "code",
   "execution_count": 96,
   "metadata": {},
   "outputs": [
    {
     "data": {
      "text/plain": [
       "6"
      ]
     },
     "execution_count": 96,
     "metadata": {},
     "output_type": "execute_result"
    }
   ],
   "source": [
    "lst[5]"
   ]
  },
  {
   "cell_type": "code",
   "execution_count": 97,
   "metadata": {},
   "outputs": [
    {
     "data": {
      "text/plain": [
       "6"
      ]
     },
     "execution_count": 97,
     "metadata": {},
     "output_type": "execute_result"
    }
   ],
   "source": [
    "lst[-1]"
   ]
  },
  {
   "cell_type": "code",
   "execution_count": 98,
   "metadata": {},
   "outputs": [
    {
     "data": {
      "text/plain": [
       "1"
      ]
     },
     "execution_count": 98,
     "metadata": {},
     "output_type": "execute_result"
    }
   ],
   "source": [
    "lst[-6]"
   ]
  },
  {
   "cell_type": "code",
   "execution_count": 99,
   "metadata": {},
   "outputs": [
    {
     "data": {
      "text/plain": [
       "5"
      ]
     },
     "execution_count": 99,
     "metadata": {},
     "output_type": "execute_result"
    }
   ],
   "source": [
    "lst[-2]"
   ]
  },
  {
   "cell_type": "markdown",
   "metadata": {},
   "source": [
    "Không thể truy xuất index không tồn tại (quá giới hạn)"
   ]
  },
  {
   "cell_type": "code",
   "execution_count": 102,
   "metadata": {},
   "outputs": [
    {
     "ename": "IndexError",
     "evalue": "list index out of range",
     "output_type": "error",
     "traceback": [
      "\u001b[1;31m---------------------------------------------------------------------------\u001b[0m",
      "\u001b[1;31mIndexError\u001b[0m                                Traceback (most recent call last)",
      "\u001b[1;32m<ipython-input-102-e32b09532113>\u001b[0m in \u001b[0;36m<module>\u001b[1;34m\u001b[0m\n\u001b[1;32m----> 1\u001b[1;33m \u001b[0mlst\u001b[0m\u001b[1;33m[\u001b[0m\u001b[1;36m6\u001b[0m\u001b[1;33m]\u001b[0m\u001b[1;33m\u001b[0m\u001b[1;33m\u001b[0m\u001b[0m\n\u001b[0m",
      "\u001b[1;31mIndexError\u001b[0m: list index out of range"
     ]
    }
   ],
   "source": [
    "lst[6]"
   ]
  },
  {
   "cell_type": "code",
   "execution_count": 101,
   "metadata": {},
   "outputs": [
    {
     "ename": "NameError",
     "evalue": "name 't' is not defined",
     "output_type": "error",
     "traceback": [
      "\u001b[1;31m---------------------------------------------------------------------------\u001b[0m",
      "\u001b[1;31mNameError\u001b[0m                                 Traceback (most recent call last)",
      "\u001b[1;32m<ipython-input-101-3b2451cafe35>\u001b[0m in \u001b[0;36m<module>\u001b[1;34m\u001b[0m\n\u001b[1;32m----> 1\u001b[1;33m \u001b[0mt\u001b[0m\u001b[1;33m[\u001b[0m\u001b[1;33m-\u001b[0m\u001b[1;36m7\u001b[0m\u001b[1;33m]\u001b[0m\u001b[1;33m\u001b[0m\u001b[1;33m\u001b[0m\u001b[0m\n\u001b[0m",
      "\u001b[1;31mNameError\u001b[0m: name 't' is not defined"
     ]
    }
   ],
   "source": [
    "t[-7]"
   ]
  },
  {
   "cell_type": "markdown",
   "metadata": {},
   "source": [
    "[:J] sẽ truy xuất chuỗi, không bao gồm giới hạn J (tính đến j-1), có thể dùng index xuôi ngược đều được:"
   ]
  },
  {
   "cell_type": "code",
   "execution_count": 103,
   "metadata": {},
   "outputs": [
    {
     "data": {
      "text/plain": [
       "[1, 2, 3, 4, 5]"
      ]
     },
     "execution_count": 103,
     "metadata": {},
     "output_type": "execute_result"
    }
   ],
   "source": [
    "lst[:5]"
   ]
  },
  {
   "cell_type": "code",
   "execution_count": 104,
   "metadata": {},
   "outputs": [
    {
     "data": {
      "text/plain": [
       "[1, 2, 3, 4, 5]"
      ]
     },
     "execution_count": 104,
     "metadata": {},
     "output_type": "execute_result"
    }
   ],
   "source": [
    "lst[:-1]"
   ]
  },
  {
   "cell_type": "markdown",
   "metadata": {},
   "source": [
    "[i:j] sẽ truy xuất chuỗi, bao gồm i nhưng không bao gồm j (từ vị trí i đến j-1):"
   ]
  },
  {
   "cell_type": "code",
   "execution_count": 105,
   "metadata": {},
   "outputs": [
    {
     "data": {
      "text/plain": [
       "[1, 2, 3]"
      ]
     },
     "execution_count": 105,
     "metadata": {},
     "output_type": "execute_result"
    }
   ],
   "source": [
    "lst[0:3]"
   ]
  },
  {
   "cell_type": "code",
   "execution_count": 106,
   "metadata": {},
   "outputs": [
    {
     "data": {
      "text/plain": [
       "[2, 3, 4]"
      ]
     },
     "execution_count": 106,
     "metadata": {},
     "output_type": "execute_result"
    }
   ],
   "source": [
    "lst[1:-2]"
   ]
  },
  {
   "cell_type": "code",
   "execution_count": 107,
   "metadata": {},
   "outputs": [
    {
     "data": {
      "text/plain": [
       "[4, 5]"
      ]
     },
     "execution_count": 107,
     "metadata": {},
     "output_type": "execute_result"
    }
   ],
   "source": [
    "lst[-3:-1]"
   ]
  },
  {
   "cell_type": "markdown",
   "metadata": {},
   "source": [
    "[i::n] sẽ trích xuất cho đến hết chuỗi, với cách biệt n phần tử:"
   ]
  },
  {
   "cell_type": "code",
   "execution_count": 108,
   "metadata": {},
   "outputs": [
    {
     "data": {
      "text/plain": [
       "[1, 2, 3, 4, 5, 6]"
      ]
     },
     "execution_count": 108,
     "metadata": {},
     "output_type": "execute_result"
    }
   ],
   "source": [
    "lst[::1]"
   ]
  },
  {
   "cell_type": "code",
   "execution_count": 109,
   "metadata": {},
   "outputs": [
    {
     "data": {
      "text/plain": [
       "[1, 2, 3, 4, 5, 6]"
      ]
     },
     "execution_count": 109,
     "metadata": {},
     "output_type": "execute_result"
    }
   ],
   "source": [
    "lst[0::1]"
   ]
  },
  {
   "cell_type": "markdown",
   "metadata": {},
   "source": [
    "Cách khoảng 1 phần tử: chỉ lấy 1,3,5"
   ]
  },
  {
   "cell_type": "code",
   "execution_count": 110,
   "metadata": {},
   "outputs": [
    {
     "data": {
      "text/plain": [
       "[1, 3, 5]"
      ]
     },
     "execution_count": 110,
     "metadata": {},
     "output_type": "execute_result"
    }
   ],
   "source": [
    "lst[::2]"
   ]
  },
  {
   "cell_type": "code",
   "execution_count": 111,
   "metadata": {},
   "outputs": [
    {
     "data": {
      "text/plain": [
       "[1, 3, 5]"
      ]
     },
     "execution_count": 111,
     "metadata": {},
     "output_type": "execute_result"
    }
   ],
   "source": [
    "lst[0::2]"
   ]
  },
  {
   "cell_type": "code",
   "execution_count": 112,
   "metadata": {},
   "outputs": [
    {
     "data": {
      "text/plain": [
       "[1, 4]"
      ]
     },
     "execution_count": 112,
     "metadata": {},
     "output_type": "execute_result"
    }
   ],
   "source": [
    "lst[0::3]"
   ]
  },
  {
   "cell_type": "code",
   "execution_count": 113,
   "metadata": {},
   "outputs": [
    {
     "data": {
      "text/plain": [
       "[2, 4, 6]"
      ]
     },
     "execution_count": 113,
     "metadata": {},
     "output_type": "execute_result"
    }
   ],
   "source": [
    "lst[1::2]"
   ]
  },
  {
   "cell_type": "markdown",
   "metadata": {},
   "source": [
    "## Có thể dùng indexing hay slicing để thay đổi trình tự của list ?\n",
    "\n",
    "Khi dùng index đếm ngược, ta có thể đảo ngược trình tự của 1 list (lưu ý: đảo ngược về vị trí, không phải về giá trị - để xếp giá trị ta sẽ dùng method sort() )"
   ]
  },
  {
   "cell_type": "code",
   "execution_count": 117,
   "metadata": {},
   "outputs": [
    {
     "name": "stdout",
     "output_type": "stream",
     "text": [
      "[1, 2, 3, 4, 5, 6]\n"
     ]
    },
    {
     "data": {
      "text/plain": [
       "[6, 5, 4, 3, 2, 1]"
      ]
     },
     "execution_count": 117,
     "metadata": {},
     "output_type": "execute_result"
    }
   ],
   "source": [
    "print(lst)\n",
    "\n",
    "lst[::-1]"
   ]
  },
  {
   "cell_type": "markdown",
   "metadata": {},
   "source": [
    "Tuy nhiên ta không thể xáo trộn thứ tự của list chỉ bằng slicing hay indexing, vì index hay slice không cho phép dùng giá trị ngẫu nhiên"
   ]
  },
  {
   "cell_type": "code",
   "execution_count": null,
   "metadata": {},
   "outputs": [],
   "source": []
  },
  {
   "cell_type": "markdown",
   "metadata": {},
   "source": [
    "# Thêm dữ liệu vào list: \n",
    "# Sự khác biệt giữa 3 methods append, insert và extend\n",
    "\n",
    "Ta có thể mở rộng nội dung của list hiện có hay đưa thêm phần tử mới vào list với 3 methods: append, insert và extend; tuy nhiên công dụng của các method này rất khác biệt, sau đây Nhi sẽ giải thích về sự khác biệt giữa chúng:\n",
    "\n",
    "## append() \n",
    "\n",
    "Method append() kéo dài list bằng cách đưa mỗi lần 1 phần tử vào tiếp nối vị trí sau cùng trong list hiện thời"
   ]
  },
  {
   "cell_type": "code",
   "execution_count": 36,
   "metadata": {},
   "outputs": [
    {
     "name": "stdout",
     "output_type": "stream",
     "text": [
      "[1, 2, 3, 4, 5]\n"
     ]
    },
    {
     "data": {
      "text/plain": [
       "[1, 2, 3, 4, 5, 6]"
      ]
     },
     "execution_count": 36,
     "metadata": {},
     "output_type": "execute_result"
    }
   ],
   "source": [
    "cur_lst = [1,2,3,4,5,]\n",
    "\n",
    "print(cur_lst)\n",
    "\n",
    "cur_lst.append(6,)\n",
    "\n",
    "cur_lst"
   ]
  },
  {
   "cell_type": "markdown",
   "metadata": {},
   "source": [
    "Như vậy append không thể đưa 2 phần tử trở lên vào list:"
   ]
  },
  {
   "cell_type": "code",
   "execution_count": 37,
   "metadata": {},
   "outputs": [
    {
     "name": "stdout",
     "output_type": "stream",
     "text": [
      "[1, 2, 3, 4, 5]\n"
     ]
    },
    {
     "ename": "TypeError",
     "evalue": "append() takes exactly one argument (2 given)",
     "output_type": "error",
     "traceback": [
      "\u001b[1;31m---------------------------------------------------------------------------\u001b[0m",
      "\u001b[1;31mTypeError\u001b[0m                                 Traceback (most recent call last)",
      "\u001b[1;32m<ipython-input-37-a5d6081f43cd>\u001b[0m in \u001b[0;36m<module>\u001b[1;34m\u001b[0m\n\u001b[0;32m      3\u001b[0m \u001b[0mprint\u001b[0m\u001b[1;33m(\u001b[0m\u001b[0mcur_lst\u001b[0m\u001b[1;33m)\u001b[0m\u001b[1;33m\u001b[0m\u001b[1;33m\u001b[0m\u001b[0m\n\u001b[0;32m      4\u001b[0m \u001b[1;33m\u001b[0m\u001b[0m\n\u001b[1;32m----> 5\u001b[1;33m \u001b[0mcur_lst\u001b[0m\u001b[1;33m.\u001b[0m\u001b[0mappend\u001b[0m\u001b[1;33m(\u001b[0m\u001b[1;36m6\u001b[0m\u001b[1;33m,\u001b[0m\u001b[1;36m7\u001b[0m\u001b[1;33m,\u001b[0m\u001b[1;33m)\u001b[0m\u001b[1;33m\u001b[0m\u001b[1;33m\u001b[0m\u001b[0m\n\u001b[0m\u001b[0;32m      6\u001b[0m \u001b[1;33m\u001b[0m\u001b[0m\n\u001b[0;32m      7\u001b[0m \u001b[0mcur_lst\u001b[0m\u001b[1;33m\u001b[0m\u001b[1;33m\u001b[0m\u001b[0m\n",
      "\u001b[1;31mTypeError\u001b[0m: append() takes exactly one argument (2 given)"
     ]
    }
   ],
   "source": [
    "cur_lst = [1,2,3,4,5,]\n",
    "\n",
    "print(cur_lst)\n",
    "\n",
    "cur_lst.append(6,7,)\n",
    "\n",
    "cur_lst"
   ]
  },
  {
   "cell_type": "markdown",
   "metadata": {},
   "source": [
    "Nếu ta nghĩ có thể gộp nhiều gá trị đơn vào 1 list con rồi dùng append, điều gì sẽ xảy ra: phần tử (list con) sẽ được đưa vào, nhưng đây không phải là điều ta muốn (chuỗi giá trị đơn)... "
   ]
  },
  {
   "cell_type": "code",
   "execution_count": 38,
   "metadata": {},
   "outputs": [
    {
     "name": "stdout",
     "output_type": "stream",
     "text": [
      "[1, 2, 3, 4, 5]\n"
     ]
    },
    {
     "data": {
      "text/plain": [
       "[1, 2, 3, 4, 5, [6, 7]]"
      ]
     },
     "execution_count": 38,
     "metadata": {},
     "output_type": "execute_result"
    }
   ],
   "source": [
    "cur_lst = [1,2,3,4,5,]\n",
    "\n",
    "print(cur_lst)\n",
    "\n",
    "cur_lst.append([6,7,])\n",
    "\n",
    "cur_lst"
   ]
  },
  {
   "cell_type": "markdown",
   "metadata": {},
   "source": [
    "Nếu muốn dùng append để đưa nhiều giá trị đơn tuần tự, ta bắt buộc phải dùng vòng lặp:\n",
    "Tuy nhiên đây không phải là cách làm tối ưu, trong phần sau ta sẽ thấy tiện ích của list comprehension hơn hẳn vòng lặp."
   ]
  },
  {
   "cell_type": "code",
   "execution_count": 40,
   "metadata": {},
   "outputs": [
    {
     "name": "stdout",
     "output_type": "stream",
     "text": [
      "[1, 2, 3, 4, 5, 6, 7]\n"
     ]
    }
   ],
   "source": [
    "blk_lst = []\n",
    "\n",
    "for i in range(7):\n",
    "    blk_lst.append(i+1)\n",
    "    \n",
    "print(blk_lst)"
   ]
  },
  {
   "cell_type": "markdown",
   "metadata": {},
   "source": [
    "## insert()\n",
    "\n",
    "Method insert() mở rộng list bằng cách đưa mỗi lần 1 phần tử vào list hiện thời, tuy nhiên nó linh động hơn append, vì nó cho phép đặt phần tử mới vào bất cứ vị trí nào tùy thích với cú pháp: list.insert(position, item)\n",
    "\n",
    "Lưu ý: hệ index của Python đếm xuôi từ 0, đếm ngược từ -1"
   ]
  },
  {
   "cell_type": "code",
   "execution_count": 42,
   "metadata": {},
   "outputs": [
    {
     "name": "stdout",
     "output_type": "stream",
     "text": [
      "[1, 2, 3, 4, 5]\n"
     ]
    },
    {
     "data": {
      "text/plain": [
       "[1, 2, 'A', 3, 4, 5]"
      ]
     },
     "execution_count": 42,
     "metadata": {},
     "output_type": "execute_result"
    }
   ],
   "source": [
    "cur_lst = [1,2,3,4,5,]\n",
    "\n",
    "print(cur_lst)\n",
    "\n",
    "cur_lst.insert(2, 'A')\n",
    "\n",
    "cur_lst"
   ]
  },
  {
   "cell_type": "code",
   "execution_count": 43,
   "metadata": {},
   "outputs": [
    {
     "name": "stdout",
     "output_type": "stream",
     "text": [
      "[1, 2, 3, 4, 5]\n"
     ]
    },
    {
     "data": {
      "text/plain": [
       "[1, 2, 'A', 3, 4, 5]"
      ]
     },
     "execution_count": 43,
     "metadata": {},
     "output_type": "execute_result"
    }
   ],
   "source": [
    "cur_lst = [1,2,3,4,5,]\n",
    "\n",
    "print(cur_lst)\n",
    "\n",
    "cur_lst.insert(-3, 'A')\n",
    "\n",
    "cur_lst"
   ]
  },
  {
   "cell_type": "markdown",
   "metadata": {},
   "source": [
    "Khi position >= giới hạn index, phần tử mới sẽ được đặt ở cuối (hay đầu, nếu đếm ngược) list:"
   ]
  },
  {
   "cell_type": "code",
   "execution_count": 47,
   "metadata": {},
   "outputs": [
    {
     "name": "stdout",
     "output_type": "stream",
     "text": [
      "[1, 2, 3, 4, 5]\n"
     ]
    },
    {
     "data": {
      "text/plain": [
       "[1, 2, 3, 4, 5, 'A']"
      ]
     },
     "execution_count": 47,
     "metadata": {},
     "output_type": "execute_result"
    }
   ],
   "source": [
    "cur_lst = [1,2,3,4,5,]\n",
    "\n",
    "print(cur_lst)\n",
    "\n",
    "cur_lst.insert(6, 'A')\n",
    "\n",
    "cur_lst"
   ]
  },
  {
   "cell_type": "code",
   "execution_count": 48,
   "metadata": {},
   "outputs": [
    {
     "name": "stdout",
     "output_type": "stream",
     "text": [
      "[1, 2, 3, 4, 5]\n"
     ]
    },
    {
     "data": {
      "text/plain": [
       "['A', 1, 2, 3, 4, 5]"
      ]
     },
     "execution_count": 48,
     "metadata": {},
     "output_type": "execute_result"
    }
   ],
   "source": [
    "cur_lst = [1,2,3,4,5,]\n",
    "\n",
    "print(cur_lst)\n",
    "\n",
    "cur_lst.insert(-6, 'A')\n",
    "\n",
    "cur_lst"
   ]
  },
  {
   "cell_type": "markdown",
   "metadata": {},
   "source": [
    "Lưu ý: insert không xóa phần tử cũ tại vị trí mà phần tử mới đưa vào, nội dung list chỉ tăng thêm phần tử mới, và index thứ tự thay đổi"
   ]
  },
  {
   "cell_type": "markdown",
   "metadata": {},
   "source": [
    "## extend()\n",
    "\n",
    "Method extend() cho phép đưa nhiều phần tử cùng lúc để nối dài list hiện có, các phần tử này được đóng gói trước vào 1 cấu trúc chuỗi đơn (không lồng ghép), như list, string hoặc tuple:"
   ]
  },
  {
   "cell_type": "code",
   "execution_count": 51,
   "metadata": {},
   "outputs": [
    {
     "name": "stdout",
     "output_type": "stream",
     "text": [
      "[1, 2, 3, 4, 5]\n"
     ]
    },
    {
     "data": {
      "text/plain": [
       "[1, 2, 3, 4, 5, 6, 7, 8, 'A', 'B', 'C']"
      ]
     },
     "execution_count": 51,
     "metadata": {},
     "output_type": "execute_result"
    }
   ],
   "source": [
    "cur_lst = [1,2,3,4,5,]\n",
    "\n",
    "print(cur_lst)\n",
    "\n",
    "cur_lst.extend([6,7,8,'A','B','C',])\n",
    "\n",
    "cur_lst"
   ]
  },
  {
   "cell_type": "markdown",
   "metadata": {},
   "source": [
    "Với string, object sẽ bị cắt thành từng kí tự và đưa vào list"
   ]
  },
  {
   "cell_type": "code",
   "execution_count": 59,
   "metadata": {},
   "outputs": [
    {
     "name": "stdout",
     "output_type": "stream",
     "text": [
      "[1, 2, 3, 4, 5]\n"
     ]
    },
    {
     "data": {
      "text/plain": [
       "[1, 2, 3, 4, 5, 'a', 'b', 'c', 'd', 'e']"
      ]
     },
     "execution_count": 59,
     "metadata": {},
     "output_type": "execute_result"
    }
   ],
   "source": [
    "cur_lst = [1,2,3,4,5,]\n",
    "\n",
    "print(cur_lst)\n",
    "\n",
    "cur_lst.extend('abcde')\n",
    "\n",
    "cur_lst"
   ]
  },
  {
   "cell_type": "markdown",
   "metadata": {},
   "source": [
    "Cách làm này cũng hoạt động với tuple (Nhưng không hoạt động cho dict)"
   ]
  },
  {
   "cell_type": "code",
   "execution_count": 52,
   "metadata": {},
   "outputs": [
    {
     "name": "stdout",
     "output_type": "stream",
     "text": [
      "[1, 2, 3, 4, 5]\n"
     ]
    },
    {
     "data": {
      "text/plain": [
       "[1, 2, 3, 4, 5, 6, 7, 8, 'A', 'B', 'C']"
      ]
     },
     "execution_count": 52,
     "metadata": {},
     "output_type": "execute_result"
    }
   ],
   "source": [
    "cur_lst = [1,2,3,4,5,]\n",
    "\n",
    "print(cur_lst)\n",
    "\n",
    "cur_lst.extend((6,7,8,'A','B','C',))\n",
    "\n",
    "cur_lst"
   ]
  },
  {
   "cell_type": "markdown",
   "metadata": {},
   "source": [
    "## Kết nối list bằng toán tử +\n",
    "\n",
    "Có thể ghép nối nhanh chóng 2 list bằng toán tử +\n",
    "\n",
    "Cách làm này rất tiện lợi khi nối dài list từ kết quả vòng lặp"
   ]
  },
  {
   "cell_type": "code",
   "execution_count": 97,
   "metadata": {},
   "outputs": [
    {
     "data": {
      "text/plain": [
       "[1, 2, 3, 4, 5, 6]"
      ]
     },
     "execution_count": 97,
     "metadata": {},
     "output_type": "execute_result"
    }
   ],
   "source": [
    "lst_1 = [1,2,3,]\n",
    "\n",
    "lst_2 = [4,5,6,]\n",
    "\n",
    "lst_1 + lst_2"
   ]
  },
  {
   "cell_type": "code",
   "execution_count": 96,
   "metadata": {},
   "outputs": [
    {
     "data": {
      "text/plain": [
       "[0, 1, 2, 3, 4, 5]"
      ]
     },
     "execution_count": 96,
     "metadata": {},
     "output_type": "execute_result"
    }
   ],
   "source": [
    "lst = []\n",
    "\n",
    "for i in range(6):\n",
    "    lst += [i]\n",
    "    \n",
    "lst"
   ]
  },
  {
   "cell_type": "markdown",
   "metadata": {},
   "source": [
    "# Xóa phần tử trong list: \n",
    "\n",
    "## remove()\n",
    "\n",
    "Method remove() cho phép xóa bỏ phần tử trong list một cách đích danh\n",
    "\n",
    "Nếu có nhiều giá trị, chỉ có giá trị đầu tiên bị xóa,\n",
    "remove chỉ xóa mỗi lần 1 phần tử, nếu muốn xóa nhiều, ta phải dùng vòng lặp"
   ]
  },
  {
   "cell_type": "code",
   "execution_count": 64,
   "metadata": {},
   "outputs": [
    {
     "name": "stdout",
     "output_type": "stream",
     "text": [
      "[1, 2, 2, 9, 7, 3, 4, 6]\n"
     ]
    },
    {
     "data": {
      "text/plain": [
       "[1, 2, 2, 9, 7, 4, 6]"
      ]
     },
     "execution_count": 64,
     "metadata": {},
     "output_type": "execute_result"
    }
   ],
   "source": [
    "cur_lst = [1,2,2,9,7,3,4,6]\n",
    "\n",
    "print(cur_lst)\n",
    "\n",
    "cur_lst.remove(3)\n",
    "\n",
    "cur_lst"
   ]
  },
  {
   "cell_type": "code",
   "execution_count": 62,
   "metadata": {},
   "outputs": [
    {
     "name": "stdout",
     "output_type": "stream",
     "text": [
      "[1, 2, 2, 9, 7, 3, 4, 6]\n"
     ]
    },
    {
     "ename": "ValueError",
     "evalue": "list.remove(x): x not in list",
     "output_type": "error",
     "traceback": [
      "\u001b[1;31m---------------------------------------------------------------------------\u001b[0m",
      "\u001b[1;31mValueError\u001b[0m                                Traceback (most recent call last)",
      "\u001b[1;32m<ipython-input-62-7f4d4c04b836>\u001b[0m in \u001b[0;36m<module>\u001b[1;34m\u001b[0m\n\u001b[0;32m      3\u001b[0m \u001b[0mprint\u001b[0m\u001b[1;33m(\u001b[0m\u001b[0mcur_lst\u001b[0m\u001b[1;33m)\u001b[0m\u001b[1;33m\u001b[0m\u001b[1;33m\u001b[0m\u001b[0m\n\u001b[0;32m      4\u001b[0m \u001b[1;33m\u001b[0m\u001b[0m\n\u001b[1;32m----> 5\u001b[1;33m \u001b[0mcur_lst\u001b[0m\u001b[1;33m.\u001b[0m\u001b[0mremove\u001b[0m\u001b[1;33m(\u001b[0m\u001b[1;33m[\u001b[0m\u001b[1;36m1\u001b[0m\u001b[1;33m,\u001b[0m\u001b[1;36m3\u001b[0m\u001b[1;33m,\u001b[0m\u001b[1;36m9\u001b[0m\u001b[1;33m]\u001b[0m\u001b[1;33m)\u001b[0m\u001b[1;33m\u001b[0m\u001b[1;33m\u001b[0m\u001b[0m\n\u001b[0m\u001b[0;32m      6\u001b[0m \u001b[1;33m\u001b[0m\u001b[0m\n\u001b[0;32m      7\u001b[0m \u001b[0mcur_lst\u001b[0m\u001b[1;33m\u001b[0m\u001b[1;33m\u001b[0m\u001b[0m\n",
      "\u001b[1;31mValueError\u001b[0m: list.remove(x): x not in list"
     ]
    }
   ],
   "source": [
    "cur_lst = [1,2,2,9,7,3,4,6]\n",
    "\n",
    "print(cur_lst)\n",
    "\n",
    "cur_lst.remove([1,3,9])\n",
    "\n",
    "cur_lst"
   ]
  },
  {
   "cell_type": "code",
   "execution_count": 61,
   "metadata": {},
   "outputs": [
    {
     "name": "stdout",
     "output_type": "stream",
     "text": [
      "[1, 2, 2, 9, 7, 3, 4, 6]\n"
     ]
    },
    {
     "data": {
      "text/plain": [
       "[1, 2, 9, 7, 3, 4, 6]"
      ]
     },
     "execution_count": 61,
     "metadata": {},
     "output_type": "execute_result"
    }
   ],
   "source": [
    "cur_lst = [1,2,2,9,7,3,4,6]\n",
    "\n",
    "print(cur_lst)\n",
    "\n",
    "cur_lst.remove(2)\n",
    "\n",
    "cur_lst"
   ]
  },
  {
   "cell_type": "markdown",
   "metadata": {},
   "source": [
    "## del:\n",
    "\n",
    "method del() cho phép xóa bỏ 1 hay nhiều phần tử trong list, theo vị trí của chúng (index, slices), lưu ý là hệ index của Python đếm từ 0 (bạn cũng có thể dùng index đếm ngược):"
   ]
  },
  {
   "cell_type": "code",
   "execution_count": 56,
   "metadata": {},
   "outputs": [
    {
     "name": "stdout",
     "output_type": "stream",
     "text": [
      "[1, 2, 3, 4, 5, 6]\n"
     ]
    },
    {
     "data": {
      "text/plain": [
       "[1, 2, 3, 5, 6]"
      ]
     },
     "execution_count": 56,
     "metadata": {},
     "output_type": "execute_result"
    }
   ],
   "source": [
    "cur_lst = [1,2,3,4,5,6,]\n",
    "\n",
    "print(cur_lst)\n",
    " \n",
    "del cur_lst[3] # Xóa vị trí 3\n",
    "\n",
    "cur_lst"
   ]
  },
  {
   "cell_type": "code",
   "execution_count": 57,
   "metadata": {},
   "outputs": [
    {
     "name": "stdout",
     "output_type": "stream",
     "text": [
      "[1, 2, 3, 4, 5, 6]\n"
     ]
    },
    {
     "data": {
      "text/plain": [
       "[4, 5, 6]"
      ]
     },
     "execution_count": 57,
     "metadata": {},
     "output_type": "execute_result"
    }
   ],
   "source": [
    "cur_lst = [1,2,3,4,5,6,]\n",
    "\n",
    "print(cur_lst)\n",
    " \n",
    "del cur_lst[0:3] # Xóa vị trí từ 0:3\n",
    "\n",
    "cur_lst"
   ]
  },
  {
   "cell_type": "code",
   "execution_count": 58,
   "metadata": {},
   "outputs": [
    {
     "name": "stdout",
     "output_type": "stream",
     "text": [
      "[1, 2, 3, 4, 5, 6]\n"
     ]
    },
    {
     "data": {
      "text/plain": [
       "[1, 2, 3, 4, 6]"
      ]
     },
     "execution_count": 58,
     "metadata": {},
     "output_type": "execute_result"
    }
   ],
   "source": [
    "cur_lst = [1,2,3,4,5,6,]\n",
    "\n",
    "print(cur_lst)\n",
    " \n",
    "del cur_lst[-2] # Xóa vị trí -2\n",
    "\n",
    "cur_lst"
   ]
  },
  {
   "cell_type": "code",
   "execution_count": 64,
   "metadata": {},
   "outputs": [
    {
     "name": "stdout",
     "output_type": "stream",
     "text": [
      "[1, 2, 3, 4, 5, 6]\n"
     ]
    },
    {
     "data": {
      "text/plain": [
       "[1, 2, 5, 6]"
      ]
     },
     "execution_count": 64,
     "metadata": {},
     "output_type": "execute_result"
    }
   ],
   "source": [
    "cur_lst = [1,2,3,4,5,6,]\n",
    "\n",
    "print(cur_lst)\n",
    " \n",
    "del cur_lst[-4:-2] # Xóa vị trí -4 đến -2 (lưu ý: không thể viết ngược lại : -2:-4 )\n",
    "\n",
    "cur_lst"
   ]
  },
  {
   "cell_type": "code",
   "execution_count": 65,
   "metadata": {},
   "outputs": [
    {
     "name": "stdout",
     "output_type": "stream",
     "text": [
      "[1, 2, 3, 4, 5, 6]\n"
     ]
    },
    {
     "data": {
      "text/plain": [
       "[4, 5, 6]"
      ]
     },
     "execution_count": 65,
     "metadata": {},
     "output_type": "execute_result"
    }
   ],
   "source": [
    "cur_lst = [1,2,3,4,5,6,]\n",
    "\n",
    "print(cur_lst)\n",
    " \n",
    "del cur_lst[:3] # Xóa từ 0:3\n",
    "\n",
    "cur_lst"
   ]
  },
  {
   "cell_type": "code",
   "execution_count": 66,
   "metadata": {},
   "outputs": [
    {
     "name": "stdout",
     "output_type": "stream",
     "text": [
      "[1, 2, 3, 4, 5, 6]\n"
     ]
    },
    {
     "data": {
      "text/plain": [
       "[1, 2, 3]"
      ]
     },
     "execution_count": 66,
     "metadata": {},
     "output_type": "execute_result"
    }
   ],
   "source": [
    "cur_lst = [1,2,3,4,5,6,]\n",
    "\n",
    "print(cur_lst)\n",
    " \n",
    "del cur_lst[3:] # Xóa từ 03 đến hết list\n",
    "\n",
    "cur_lst"
   ]
  },
  {
   "cell_type": "code",
   "execution_count": 69,
   "metadata": {},
   "outputs": [
    {
     "name": "stdout",
     "output_type": "stream",
     "text": [
      "[1, 2, 3, 4, 5, 6]\n"
     ]
    },
    {
     "data": {
      "text/plain": [
       "[]"
      ]
     },
     "execution_count": 69,
     "metadata": {},
     "output_type": "execute_result"
    }
   ],
   "source": [
    "cur_lst = [1,2,3,4,5,6,]\n",
    "\n",
    "print(cur_lst)\n",
    " \n",
    "del cur_lst[:] # Xóa tất cả\n",
    "\n",
    "cur_lst"
   ]
  },
  {
   "cell_type": "code",
   "execution_count": 71,
   "metadata": {},
   "outputs": [
    {
     "name": "stdout",
     "output_type": "stream",
     "text": [
      "[1, 2, 3, 4, 5, 6]\n"
     ]
    },
    {
     "data": {
      "text/plain": [
       "[2, 4, 6]"
      ]
     },
     "execution_count": 71,
     "metadata": {},
     "output_type": "execute_result"
    }
   ],
   "source": [
    "cur_lst = [1,2,3,4,5,6,]\n",
    "\n",
    "print(cur_lst)\n",
    " \n",
    "del cur_lst[::2] # Xóa cách 1 phần tử từ vị trí 1\n",
    "\n",
    "cur_lst"
   ]
  },
  {
   "cell_type": "code",
   "execution_count": 77,
   "metadata": {},
   "outputs": [
    {
     "name": "stdout",
     "output_type": "stream",
     "text": [
      "[1, 2, 3, 4, 5, 6]\n"
     ]
    },
    {
     "data": {
      "text/plain": [
       "[1, 3, 5]"
      ]
     },
     "execution_count": 77,
     "metadata": {},
     "output_type": "execute_result"
    }
   ],
   "source": [
    "cur_lst = [1,2,3,4,5,6,]\n",
    "\n",
    "print(cur_lst)\n",
    " \n",
    "del cur_lst[1::2] # Xóa cách 1 phần tử từ vị trí 2\n",
    "\n",
    "cur_lst"
   ]
  },
  {
   "cell_type": "code",
   "execution_count": 78,
   "metadata": {},
   "outputs": [
    {
     "name": "stdout",
     "output_type": "stream",
     "text": [
      "[1, 2, 3, 4, 5, 6]\n"
     ]
    },
    {
     "data": {
      "text/plain": [
       "[2, 3, 5, 6]"
      ]
     },
     "execution_count": 78,
     "metadata": {},
     "output_type": "execute_result"
    }
   ],
   "source": [
    "cur_lst = [1,2,3,4,5,6,]\n",
    "\n",
    "print(cur_lst)\n",
    " \n",
    "del cur_lst[::3] # Xóa cách 2 phần tử từ vị trí 1\n",
    "\n",
    "cur_lst"
   ]
  },
  {
   "cell_type": "markdown",
   "metadata": {},
   "source": [
    "## pop()\n",
    "\n",
    "Method pop() lấy mỗi lần một phần tử từ list và xuất ra ngoài.\n",
    "\n",
    "Mặc định, đó là phần tử cuối cùng, ta cũng có thể xuất 1 giá trị đích danh\n",
    "Nếu có nhiều phần tử cùng giá trị, pop lấy phần tử đầu tiên"
   ]
  },
  {
   "cell_type": "code",
   "execution_count": 65,
   "metadata": {},
   "outputs": [
    {
     "name": "stdout",
     "output_type": "stream",
     "text": [
      "[1, 2, 2, 9, 7, 3, 4, 6]\n",
      "6\n"
     ]
    },
    {
     "data": {
      "text/plain": [
       "[1, 2, 2, 9, 7, 3, 4]"
      ]
     },
     "execution_count": 65,
     "metadata": {},
     "output_type": "execute_result"
    }
   ],
   "source": [
    "cur_lst = [1,2,2,9,7,3,4,6]\n",
    "\n",
    "print(cur_lst)\n",
    "\n",
    "out = cur_lst.pop()\n",
    "\n",
    "print(out)\n",
    "\n",
    "cur_lst"
   ]
  },
  {
   "cell_type": "code",
   "execution_count": 67,
   "metadata": {},
   "outputs": [
    {
     "name": "stdout",
     "output_type": "stream",
     "text": [
      "[1, 2, 9, 7, 3, 2, 4, 6]\n",
      "9\n"
     ]
    },
    {
     "data": {
      "text/plain": [
       "[1, 2, 7, 3, 2, 4, 6]"
      ]
     },
     "execution_count": 67,
     "metadata": {},
     "output_type": "execute_result"
    }
   ],
   "source": [
    "cur_lst = [1,2,9,7,3,2,4,6]\n",
    "\n",
    "print(cur_lst)\n",
    "\n",
    "out = cur_lst.pop(2)\n",
    "\n",
    "print(out)\n",
    "\n",
    "cur_lst"
   ]
  },
  {
   "cell_type": "markdown",
   "metadata": {},
   "source": [
    "Khi kết hợp với vòng lặp, pop sẽ xuất tuần tự từng phần tử trong nội dung list cho đến khi list trống rỗng:"
   ]
  },
  {
   "cell_type": "code",
   "execution_count": 76,
   "metadata": {},
   "outputs": [
    {
     "name": "stdout",
     "output_type": "stream",
     "text": [
      "Xuất giá trị 6, còn lại 7 phần tử\n",
      "Xuất giá trị 4, còn lại 6 phần tử\n",
      "Xuất giá trị 2, còn lại 5 phần tử\n",
      "Xuất giá trị 3, còn lại 4 phần tử\n",
      "Xuất giá trị 7, còn lại 3 phần tử\n",
      "Xuất giá trị 9, còn lại 2 phần tử\n",
      "Xuất giá trị 2, còn lại 1 phần tử\n",
      "Xuất giá trị 1, còn lại 0 phần tử\n"
     ]
    }
   ],
   "source": [
    "cur_lst = [1,2,9,7,3,2,4,6]\n",
    "\n",
    "for i in range(8):\n",
    "    print(f'Xuất giá trị {cur_lst.pop()}, còn lại {len(cur_lst)} phần tử')"
   ]
  },
  {
   "cell_type": "markdown",
   "metadata": {},
   "source": [
    "## clear()\n",
    "\n",
    "method clear() xóa sạch toàn bộ nội dung list và trả về 1 list rỗng"
   ]
  },
  {
   "cell_type": "code",
   "execution_count": 89,
   "metadata": {},
   "outputs": [
    {
     "data": {
      "text/plain": [
       "[]"
      ]
     },
     "execution_count": 89,
     "metadata": {},
     "output_type": "execute_result"
    }
   ],
   "source": [
    "cur_lst = [1,2,9,7,3,2,4,6]\n",
    "\n",
    "cur_lst.clear()\n",
    "\n",
    "cur_lst"
   ]
  },
  {
   "cell_type": "markdown",
   "metadata": {},
   "source": [
    "# Xếp thứ tự list: method sort( )\n",
    "\n",
    "Method short() cho phép xếp lại thứ tự của list từ thấp đến cao hoặc ngược lại: áp dụng được cho cả số và string"
   ]
  },
  {
   "cell_type": "code",
   "execution_count": 83,
   "metadata": {},
   "outputs": [
    {
     "name": "stdout",
     "output_type": "stream",
     "text": [
      "Trước khi sort:[3, 99, 25, 10, 4, 0, 1]\n",
      "Sau khi sort:[0, 1, 3, 4, 10, 25, 99]\n"
     ]
    }
   ],
   "source": [
    "lst = [3,99,25,10,4,0,1,]\n",
    "\n",
    "print(f'Trước khi sort:{lst}')\n",
    "\n",
    "lst.sort() # mặc định: thấp đến cao\n",
    "\n",
    "print(f'Sau khi sort:{lst}')"
   ]
  },
  {
   "cell_type": "code",
   "execution_count": 82,
   "metadata": {},
   "outputs": [
    {
     "name": "stdout",
     "output_type": "stream",
     "text": [
      "Trước khi sort:[3, 99, 25, 10, 4, 0, 1]\n",
      "Sau khi sort:[99, 25, 10, 4, 3, 1, 0]\n"
     ]
    }
   ],
   "source": [
    "lst = [3,99,25,10,4,0,1,]\n",
    "\n",
    "print(f'Trước khi sort:{lst}')\n",
    "\n",
    "lst.sort(reverse=True) # Cao đến thấp\n",
    "\n",
    "print(f'Sau khi sort:{lst}')"
   ]
  },
  {
   "cell_type": "markdown",
   "metadata": {},
   "source": [
    "Sort method còn có argument key, cho phép tùy chỉnh quy luật sắp xếp; key có bản chất là 1 hàm - thường thì ta sử dụng hàm lambda (hàm vô danh, dùng 1 lần rồi bỏ). \n",
    "\n",
    "Trong thí dụ sau, ta dùng 1 hàm lambda để xếp thứ tự 7 tuples chứa họ tên của các bác sĩ nổi tiếng, theo họ hay tên..."
   ]
  },
  {
   "cell_type": "code",
   "execution_count": 91,
   "metadata": {},
   "outputs": [
    {
     "data": {
      "text/plain": [
       "[('Charles', 'Drew'),\n",
       " ('Edward', 'Jenner'),\n",
       " ('Henry', 'Gray'),\n",
       " ('Joseph', 'Lister'),\n",
       " ('Louis', 'Pasteur'),\n",
       " ('Rene', 'Laennec'),\n",
       " ('Virginia', 'Apgar')]"
      ]
     },
     "execution_count": 91,
     "metadata": {},
     "output_type": "execute_result"
    }
   ],
   "source": [
    "doctors = [('Edward','Jenner'),('Rene', 'Laennec'),('Henry','Gray'),\n",
    "           ('Louis','Pasteur'),('Joseph','Lister'),\n",
    "           ('Charles','Drew'),('Virginia', 'Apgar')]\n",
    "\n",
    "doctors.sort(key = lambda x: x[0]) # Xếp theo tên\n",
    "\n",
    "doctors"
   ]
  },
  {
   "cell_type": "code",
   "execution_count": 92,
   "metadata": {},
   "outputs": [
    {
     "data": {
      "text/plain": [
       "[('Virginia', 'Apgar'),\n",
       " ('Charles', 'Drew'),\n",
       " ('Henry', 'Gray'),\n",
       " ('Edward', 'Jenner'),\n",
       " ('Rene', 'Laennec'),\n",
       " ('Joseph', 'Lister'),\n",
       " ('Louis', 'Pasteur')]"
      ]
     },
     "execution_count": 92,
     "metadata": {},
     "output_type": "execute_result"
    }
   ],
   "source": [
    "doctors = [('Edward','Jenner'),('Rene', 'Laennec'),('Henry','Gray'),\n",
    "           ('Louis','Pasteur'),('Joseph','Lister'),\n",
    "           ('Charles','Drew'),('Virginia', 'Apgar')]\n",
    "\n",
    "doctors.sort(key = lambda x: x[1]) # Xếp theo họ\n",
    "\n",
    "doctors"
   ]
  },
  {
   "cell_type": "markdown",
   "metadata": {},
   "source": [
    "# Đóng gói nhanh : List comprehension\n",
    "\n",
    "Trong 1 thí dụ ở trên, ta thấy có thể dùng list rỗng để nhận kết quả từ các vòng lặp - Tuy nhiên đây là một cách làm \"trái với phong cách Python\", các lập trình viên Python có thể phát hiện một người mới chuyển từ ngôn ngữ khác (thí dụ R) sang Python, qua cách họ đóng gói list và cách họ viết vòng lặp. \n",
    "\n",
    "Để đóng gói list từ generator hay iterator \"đúng phong cách Python\", ta nên dùng tính năng list comprehension, cách làm này ngắn gọn và đơn giản hơn, ta tạm gọi là \"đóng gói nhanh\"\n",
    "\n",
    "Thí dụ: đóng gói giá trị từ hàm range() vào list không cần vòng lặp bằng list comprehension:"
   ]
  },
  {
   "cell_type": "code",
   "execution_count": 107,
   "metadata": {},
   "outputs": [
    {
     "data": {
      "text/plain": [
       "[0, 1, 2, 3, 4, 5]"
      ]
     },
     "execution_count": 107,
     "metadata": {},
     "output_type": "execute_result"
    }
   ],
   "source": [
    "[i for i in range(6)]"
   ]
  },
  {
   "cell_type": "markdown",
   "metadata": {},
   "source": [
    "Ngắn hơn nữa (dấu * dùng để \"mở gói\")"
   ]
  },
  {
   "cell_type": "code",
   "execution_count": 108,
   "metadata": {},
   "outputs": [
    {
     "data": {
      "text/plain": [
       "[0, 1, 2, 3, 4, 5]"
      ]
     },
     "execution_count": 108,
     "metadata": {},
     "output_type": "execute_result"
    }
   ],
   "source": [
    "[*range(6)]"
   ]
  },
  {
   "cell_type": "code",
   "execution_count": 180,
   "metadata": {},
   "outputs": [
    {
     "data": {
      "text/plain": [
       "[0.6690505676610116,\n",
       " 0.9953411822195009,\n",
       " 0.18021189444575314,\n",
       " 0.04189650834364722,\n",
       " 0.9368439980578785,\n",
       " 0.684568322781391,\n",
       " 0.6606155237499198,\n",
       " 0.9563742483782186,\n",
       " 0.39904883418274395,\n",
       " 0.0031131538681352655]"
      ]
     },
     "execution_count": 180,
     "metadata": {},
     "output_type": "execute_result"
    }
   ],
   "source": [
    "[i for i in np.random.rand(10)]"
   ]
  },
  {
   "cell_type": "code",
   "execution_count": 181,
   "metadata": {},
   "outputs": [
    {
     "data": {
      "text/plain": [
       "[0.3493474672882696,\n",
       " 0.6019549567399224,\n",
       " -0.48579114698695197,\n",
       " 0.05378949733138749,\n",
       " 0.9827156188730073,\n",
       " 0.786792484370703,\n",
       " 0.3354968194385089,\n",
       " -1.2895485047044781,\n",
       " 0.16597382002091632,\n",
       " 0.6782762229648979]"
      ]
     },
     "execution_count": 181,
     "metadata": {},
     "output_type": "execute_result"
    }
   ],
   "source": [
    "[*np.random.randn(10)]"
   ]
  },
  {
   "cell_type": "markdown",
   "metadata": {},
   "source": [
    "Không dừng lại ở vòng lặp, list comprehension còn cho phép kết hợp với điều kiện if, như trong thí dụ sau đây ta đóng gói nhanh những số chẵn và chia hết cho 3 từ iterator range():"
   ]
  },
  {
   "cell_type": "code",
   "execution_count": 163,
   "metadata": {},
   "outputs": [
    {
     "data": {
      "text/plain": [
       "[0, 6, 12, 18, 24, 30, 36, 42, 48]"
      ]
     },
     "execution_count": 163,
     "metadata": {},
     "output_type": "execute_result"
    }
   ],
   "source": [
    "[i for i in range(50) if i %2 == 0 and i %3 == 0]"
   ]
  },
  {
   "cell_type": "markdown",
   "metadata": {},
   "source": [
    "Công dụng list comprehension không chỉ để tạo ra list mới từ iterator, mà nó còn cho phép lọc nội dung theo điều kiện trên 1 list hiện có, thí dụ : Ta dùng comprehension 2 lần để:\n",
    "\n",
    "1) Đóng gói 10 giá trị random \n",
    "2) Lọc những giá trị >0 và tính logarit"
   ]
  },
  {
   "cell_type": "code",
   "execution_count": 179,
   "metadata": {},
   "outputs": [
    {
     "name": "stdout",
     "output_type": "stream",
     "text": [
      "[0.5279525547928754, 0.6711693242366326, -0.24400378466329767, -0.2750724688770537, -1.9292216383964498, -0.40645174491671954, -0.7813760247423585, 0.7493356393888791, 1.3800320375168296, -1.0555551953625684]\n"
     ]
    },
    {
     "data": {
      "text/plain": [
       "[-0.27740510420383296,\n",
       " -0.17316790113525887,\n",
       " -0.12532361129373665,\n",
       " 0.13988916868766252]"
      ]
     },
     "execution_count": 179,
     "metadata": {},
     "output_type": "execute_result"
    }
   ],
   "source": [
    "lst = [*np.random.randn(10)]\n",
    "\n",
    "print(lst)\n",
    "\n",
    "[np.log10(i) for i in lst if i>0]"
   ]
  },
  {
   "cell_type": "markdown",
   "metadata": {},
   "source": [
    "Một thí dụ khác áp dụng cho dict"
   ]
  },
  {
   "cell_type": "code",
   "execution_count": 131,
   "metadata": {},
   "outputs": [
    {
     "data": {
      "text/plain": [
       "[[1, 2, 3, 4], [5, 6, 7, 8], [9, 10, 11, 12]]"
      ]
     },
     "execution_count": 131,
     "metadata": {},
     "output_type": "execute_result"
    }
   ],
   "source": [
    "dct = {'A':[1,2,3,4,],\n",
    "      'B':[5,6,7,8,],\n",
    "      'C':[9,10,11,12,],\n",
    "      }\n",
    "\n",
    "[*dct.values()]"
   ]
  },
  {
   "cell_type": "code",
   "execution_count": 160,
   "metadata": {},
   "outputs": [
    {
     "data": {
      "text/plain": [
       "[[1, 2, 3, 4], [5, 6, 7, 8], [9, 10, 11, 12]]"
      ]
     },
     "execution_count": 160,
     "metadata": {},
     "output_type": "execute_result"
    }
   ],
   "source": [
    "list(dct.values())"
   ]
  },
  {
   "cell_type": "markdown",
   "metadata": {},
   "source": [
    "# Bàn luận: khi nào dùng list ?\n",
    "\n",
    "Sau 3 bài vừa qua, các bạn đã biết 3 cấu trúc dữ liệu cơ bản (native) của ngôn ngữ Python là list, tuple và dictionary. Mỗi loại có những ưu thế, nhược điểm riêng và có những method riêng. Khi làm việc trên thực tế, những cấu trúc này sẽ trở thành những công cụ trong tầm tay để vận dụng linh hoạt tùy theo vấn đề và hoàn cảnh. Câu hỏi là khi nào ta nên dùng list ?\n",
    "\n",
    "Tuy list có tính năng như một array (lưu trữ dữ liệu), nhưng việc tính toán trên list có nhiều hạn chế so với numpy array, Pandas series hoặc những cấu trúc tensor dùng GPU như tensorflow, pytorch; do đó trên thực tế ta không dùng list để phân tích dữ liệu, mà chỉ dùng như cấu trúc lưu trữ dữ liệu tạm thời, trung gian, hoặc đáp ứng nhu cầu kỹ thuật (đưa tham số, tùy chỉnh vào hàm, boolean mask lọc dữ liệu, ...). Ta ưu tiên dùng list nếu nội dung cần được lưu trữ có trình tự xác định, ta dự tính sẽ cập nhật và thay đổi nội dung sau đó (trái với tuple), và nhất là khi mục đích chính của object dữ liệu là để làm iteration (lặp lại 1 quy trình).\n",
    "\n",
    "Bài thực hành tạm dừng ở đây, chúc các bạn thực hành vui và hẹn gặp lại :)"
   ]
  }
 ],
 "metadata": {
  "hide_input": false,
  "kernelspec": {
   "display_name": "Python 3",
   "language": "python",
   "name": "python3"
  },
  "language_info": {
   "codemirror_mode": {
    "name": "ipython",
    "version": 3
   },
   "file_extension": ".py",
   "mimetype": "text/x-python",
   "name": "python",
   "nbconvert_exporter": "python",
   "pygments_lexer": "ipython3",
   "version": "3.7.4"
  },
  "toc": {
   "base_numbering": 1,
   "nav_menu": {},
   "number_sections": true,
   "sideBar": true,
   "skip_h1_title": false,
   "title_cell": "Table of Contents",
   "title_sidebar": "Contents",
   "toc_cell": false,
   "toc_position": {},
   "toc_section_display": true,
   "toc_window_display": false
  }
 },
 "nbformat": 4,
 "nbformat_minor": 2
}

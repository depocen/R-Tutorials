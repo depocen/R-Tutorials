{
 "cells": [
  {
   "cell_type": "markdown",
   "metadata": {},
   "source": [
    "# Một ít Python - Bài 2: Kiểu dữ liệu Dictionary\n",
    "\n",
    "**Lê Ngọc Khả Nhi**\n",
    "\n",
    "## Giới thiệu\n",
    "\n",
    "Đây là bài thực hành thứ 2 trong chuyên mục \"Một ít Python\" của group Biomedical datascience initiavites. Trong bài này, chúng ta sẽ tìm hiểu về một kiểu dữ liệu thú vị trong Python, đó là Dictionary. \n",
    "\n",
    "Dictionary là kiểu dữ liệu có cấu trúc bắt cặp: mỗi phần tử (item) trong dictionary là một cặp liên kết giữa 1 key (từ khóa) và một tập hợp giá trị (value) tương ứng. Dictionary mang lại đồng thời sự linh động (nó có thể chứa nhiều kiểu dữ liệu khác nhau, khả năng hoán chuyển, sắp xếp và trích xuất item) và tính chặt chẽ trong cấu trúc (liên hệ key-values, tính chuyên biệt của key). \n",
    "\n",
    "## Dictionary: cấu trúc và ứng dụng của nó\n",
    "\n",
    "Một dictionary object có thể được tạo thành bằng 2 cách: hoặc dùng hàm dict với nội dung là 1 list có cấu trúc:\n",
    "\n",
    "dict_D = dict([(key_1,values_1),(key_2,values_2)])\n",
    "\n",
    "\n",
    "Hoặc đi tắt bằng cách đặt nội dung keys:values vào giữa 2 dấu {}\n",
    "\n",
    "dictionary_D = {key:values}"
   ]
  },
  {
   "cell_type": "code",
   "execution_count": 1,
   "metadata": {},
   "outputs": [
    {
     "data": {
      "text/plain": [
       "dict"
      ]
     },
     "execution_count": 1,
     "metadata": {},
     "output_type": "execute_result"
    }
   ],
   "source": [
    "# dict rỗng\n",
    "\n",
    "d = dict()\n",
    "\n",
    "type(d)"
   ]
  },
  {
   "cell_type": "code",
   "execution_count": 2,
   "metadata": {},
   "outputs": [
    {
     "data": {
      "text/plain": [
       "dict"
      ]
     },
     "execution_count": 2,
     "metadata": {},
     "output_type": "execute_result"
    }
   ],
   "source": [
    "# dict rỗng\n",
    "\n",
    "d = {}\n",
    "\n",
    "type(d)"
   ]
  },
  {
   "cell_type": "code",
   "execution_count": 3,
   "metadata": {},
   "outputs": [
    {
     "data": {
      "text/plain": [
       "{'key_1': 'value_1', 'key_2': 'value_2'}"
      ]
     },
     "execution_count": 3,
     "metadata": {},
     "output_type": "execute_result"
    }
   ],
   "source": [
    "d = {'key_1':'value_1',\n",
    "    'key_2':'value_2'}\n",
    "\n",
    "d"
   ]
  },
  {
   "cell_type": "code",
   "execution_count": 2,
   "metadata": {},
   "outputs": [
    {
     "data": {
      "text/plain": [
       "{'key_1': 'values_1', 'key_2': 'values_2'}"
      ]
     },
     "execution_count": 2,
     "metadata": {},
     "output_type": "execute_result"
    }
   ],
   "source": [
    "d = dict([('key_1','values_1'),\n",
    "          ('key_2','values_2')])\n",
    "\n",
    "d"
   ]
  },
  {
   "cell_type": "markdown",
   "metadata": {},
   "source": [
    "Cấu tạo của dictionary như một quyển từ điển, trong đó key là mục từ, còn values là những nội dung chú giải tương ứng. Dictionary cũng có thể được hình dung như một cái tủ hay kệ có nhiều ngăn, key là nhãn của mỗi ngăn, và bạn có thể bỏ vào trong mỗi ngăn rất nhiều đồ vật tùy thích.\n",
    "\n",
    "Đa số các giáo trình Python trình bày về Dictionary dưới hình thức : keys là các string label có ý nghĩa, values là giá trị đơn (string hoặc numeric), thí dụ 1 hồ sơ cá nhân, danh bạ, bệnh án... \n",
    "Thí dụ sau đây là 1 dict có công dụng như hồ sơ bệnh án"
   ]
  },
  {
   "cell_type": "code",
   "execution_count": 37,
   "metadata": {},
   "outputs": [
    {
     "data": {
      "text/plain": [
       "{'Tên': 'Nguyễn Văn A',\n",
       " 'Mã số': 123456,\n",
       " 'Ngày nhập viện': '2019-09-27',\n",
       " 'Tuổi': 67,\n",
       " 'BMI': 30.2,\n",
       " 'Giới tính': 'Nam',\n",
       " 'Chẩn đoán': ['COPD', 'Cao HA']}"
      ]
     },
     "execution_count": 37,
     "metadata": {},
     "output_type": "execute_result"
    }
   ],
   "source": [
    "import datetime\n",
    "nv = datetime.date(2019,9,27)\n",
    "\n",
    "Benh_an = {\"Tên\" : \"Nguyễn Văn A\",\n",
    "           \"Mã số\": 123456,\n",
    "           \"Ngày nhập viện\": nv.isoformat(),\n",
    "           \"Tuổi\": 67,\n",
    "           \"BMI\" : 30.2,\n",
    "           \"Giới tính\": \"Nam\",\n",
    "           \"Chẩn đoán\": [\"COPD\",\"Cao HA\"]\n",
    "          }\n",
    "\n",
    "Benh_an"
   ]
  },
  {
   "cell_type": "markdown",
   "metadata": {},
   "source": [
    "Tuy nhiên, đó chỉ là 1 dạng đặc biệt của dict; trên thực tế, keys và values đều đa hình vạn trạng; Điều quan trọng nhất ta cần biết, đó là : \n",
    "\n",
    "+ Các item độc lập với nhau\n",
    "+ Key là duy nhất: mỗi key chỉ xuất hiện 1 lần\n",
    "+ Values và Key có liên hệ chặt chẽ với nhau: Trong mỗi item, key đại diện cho Value, Value gắn liền với key\n",
    "\n",
    "**keys** chỉ bị ràng buộc bởi 2 điều kiện: tính độc nhất (1 key chỉ hiện diện 1 lần, không lặp lại) và không thể thay đổi (immutable), nhưng keys có thể là bất cứ thứ gì: string, number, tuple \n",
    "\n",
    "Còn **values** có thể là bất cứ kiểu đữ liệu nào, chữ hay con số, đơn lẻ hay tập hợp"
   ]
  },
  {
   "cell_type": "markdown",
   "metadata": {},
   "source": [
    "Thí dụ sau đây là 1 dict dùng để chứa dữ liệu của 3 kênh tín hiệu ECG của 1 bệnh nhân: 3 Keys là tên 3 chuyển đạo, mỗi key tương ứng với 1 timeseries dưới dạng list:"
   ]
  },
  {
   "cell_type": "code",
   "execution_count": 38,
   "metadata": {},
   "outputs": [
    {
     "data": {
      "text/plain": [
       "{'aVR': array([0.13247699, 0.17344752, 0.00691581, 0.01757802, 0.216445  ,\n",
       "        0.24265952, 0.7700029 , 0.82106147, 0.59494433, 0.81732409,\n",
       "        0.39721437, 0.82438188, 0.1843313 , 0.80471136, 0.65487796,\n",
       "        0.75926421, 0.02139585, 0.40775109, 0.03873609, 0.46856157,\n",
       "        0.22764918, 0.16866347, 0.75189729, 0.15865576, 0.45975871,\n",
       "        0.72640284, 0.39727426, 0.95063893, 0.70602043, 0.5614713 ]),\n",
       " 'I': array([0.93171762, 0.71817355, 0.75268502, 0.92493079, 0.8050968 ,\n",
       "        0.80727027, 0.83809237, 0.03066179, 0.21623918, 0.09522864,\n",
       "        0.39960517, 0.67185735, 0.0399441 , 0.87020225, 0.40367303,\n",
       "        0.03910834, 0.38585028, 0.16129337, 0.27414363, 0.38403624,\n",
       "        0.69647005, 0.2696015 , 0.75490092, 0.30316073, 0.01840763,\n",
       "        0.1944941 , 0.63933013, 0.89010967, 0.77769689, 0.77925388]),\n",
       " 'II': array([0.1140087 , 0.02747007, 0.58671596, 0.97088234, 0.34323126,\n",
       "        0.557746  , 0.12457026, 0.98483878, 0.17420965, 0.64631883,\n",
       "        0.07170885, 0.25648739, 0.80029835, 0.18683993, 0.81233419,\n",
       "        0.65737107, 0.67370372, 0.65120975, 0.7347326 , 0.9952219 ,\n",
       "        0.25729201, 0.90646219, 0.16824335, 0.51227216, 0.59887069,\n",
       "        0.5834198 , 0.65515363, 0.78601916, 0.45954036, 0.45277178])}"
      ]
     },
     "execution_count": 38,
     "metadata": {},
     "output_type": "execute_result"
    }
   ],
   "source": [
    "import numpy as np\n",
    "\n",
    "ECG_signal = {'aVR':np.random.rand(30),\n",
    "             'I':np.random.rand(30),\n",
    "             'II':np.random.rand(30)\n",
    "             }\n",
    "\n",
    "ECG_signal"
   ]
  },
  {
   "cell_type": "markdown",
   "metadata": {},
   "source": [
    "Key không bắt buộc phải là string, nhưng có thể là con số, miễn là có ý nghĩa đại diện:\n",
    "Thí dụ: Dict sau đây có nội dung trạm đầu và cuối của 3 tuyến Metro số 1,2,8 ở Paris:"
   ]
  },
  {
   "cell_type": "code",
   "execution_count": 9,
   "metadata": {},
   "outputs": [
    {
     "data": {
      "text/plain": [
       "{1: ['La Défense', 'Chateau de Vincennes'],\n",
       " 2: ['Porte Dauphine', 'Nation'],\n",
       " 8: ['Ballard', 'Pointe du Lac']}"
      ]
     },
     "execution_count": 9,
     "metadata": {},
     "output_type": "execute_result"
    }
   ],
   "source": [
    "metro = {1:[\"La Défense\",\"Chateau de Vincennes\"],\n",
    "         2:[\"Porte Dauphine\",\"Nation\"],\n",
    "         8:[\"Ballard\",\"Pointe du Lac\"],\n",
    "        }\n",
    "\n",
    "metro"
   ]
  },
  {
   "cell_type": "markdown",
   "metadata": {},
   "source": [
    "Tương tự, dict sau đây có công dụng như một lịch trực bệnh viện, sử dụng ngày tháng làm key, tên bác sĩ làm values:"
   ]
  },
  {
   "cell_type": "code",
   "execution_count": 42,
   "metadata": {},
   "outputs": [
    {
     "data": {
      "text/plain": [
       "{'2019-09-27': 'BS. Nguyen Van A',\n",
       " '2019-09-28': 'BS. Tran Van B',\n",
       " '2019-09-29': 'BS. Nguyen Thi C'}"
      ]
     },
     "execution_count": 42,
     "metadata": {},
     "output_type": "execute_result"
    }
   ],
   "source": [
    "visit = {datetime.date(2019,9,27).isoformat(): 'BS. Nguyen Van A',\n",
    "         datetime.date(2019,9,28).isoformat(): 'BS. Tran Van B',\n",
    "         datetime.date(2019,9,29).isoformat(): 'BS. Nguyen Thi C'\n",
    "        }\n",
    "\n",
    "visit"
   ]
  },
  {
   "cell_type": "markdown",
   "metadata": {},
   "source": [
    "Values có thể là list, tuple, array... như thí dụ sau đây: tọa độ của 3 thành phố:"
   ]
  },
  {
   "cell_type": "code",
   "execution_count": 61,
   "metadata": {},
   "outputs": [
    {
     "name": "stdout",
     "output_type": "stream",
     "text": [
      "{'City': ('Paris', 'Tokyo', 'Hanoi'), 'Latitude': [48.856613, 35.689487, 21.027763], 'Longitude': array([  2.352222, 139.691711, 105.83416 ])}\n"
     ]
    }
   ],
   "source": [
    "Coord_dict = {\"City\":(\"Paris\",\"Tokyo\",\"Hanoi\"),\n",
    "              \"Latitude\":[48.856613,35.689487,21.027763],\n",
    "              \"Longitude\":np.array([2.352222,139.691711,105.834160])\n",
    "             }\n",
    "\n",
    "print(Coord_dict)"
   ]
  },
  {
   "cell_type": "markdown",
   "metadata": {},
   "source": [
    "Keys có thể là tuple: "
   ]
  },
  {
   "cell_type": "code",
   "execution_count": 8,
   "metadata": {},
   "outputs": [
    {
     "data": {
      "text/plain": [
       "{(48.856613, 2.352222): 'Paris',\n",
       " (35.689487, 139.691711): 'Tokyo',\n",
       " (21.027763, 105.83416): 'Hanoi'}"
      ]
     },
     "execution_count": 8,
     "metadata": {},
     "output_type": "execute_result"
    }
   ],
   "source": [
    "Coord_dict = {(48.856613,2.352222):\"Paris\",\n",
    "              (35.689487,139.691711):\"Tokyo\",\n",
    "              (21.027763,105.834160):\"Hanoi\"\n",
    "             }\n",
    "\n",
    "Coord_dict"
   ]
  },
  {
   "cell_type": "markdown",
   "metadata": {},
   "source": [
    "Tuy nhiên keys không thể là list (vì key phải thỏa điều kiện immutable)"
   ]
  },
  {
   "cell_type": "code",
   "execution_count": 14,
   "metadata": {},
   "outputs": [
    {
     "ename": "TypeError",
     "evalue": "unhashable type: 'list'",
     "output_type": "error",
     "traceback": [
      "\u001b[1;31m---------------------------------------------------------------------------\u001b[0m",
      "\u001b[1;31mTypeError\u001b[0m                                 Traceback (most recent call last)",
      "\u001b[1;32m<ipython-input-14-12d70c0bcd7a>\u001b[0m in \u001b[0;36m<module>\u001b[1;34m\u001b[0m\n\u001b[0;32m      1\u001b[0m Coord_dict = {[48.856613,2.352222]:\"Paris\",\n\u001b[0;32m      2\u001b[0m               \u001b[1;33m[\u001b[0m\u001b[1;36m35.689487\u001b[0m\u001b[1;33m,\u001b[0m\u001b[1;36m139.691711\u001b[0m\u001b[1;33m]\u001b[0m\u001b[1;33m:\u001b[0m\u001b[1;34m\"Tokyo\"\u001b[0m\u001b[1;33m,\u001b[0m\u001b[1;33m\u001b[0m\u001b[1;33m\u001b[0m\u001b[0m\n\u001b[1;32m----> 3\u001b[1;33m               \u001b[1;33m[\u001b[0m\u001b[1;36m21.027763\u001b[0m\u001b[1;33m,\u001b[0m\u001b[1;36m105.834160\u001b[0m\u001b[1;33m]\u001b[0m\u001b[1;33m:\u001b[0m\u001b[1;34m\"Hanoi\"\u001b[0m\u001b[1;33m\u001b[0m\u001b[1;33m\u001b[0m\u001b[0m\n\u001b[0m\u001b[0;32m      4\u001b[0m              }\n\u001b[0;32m      5\u001b[0m \u001b[1;33m\u001b[0m\u001b[0m\n",
      "\u001b[1;31mTypeError\u001b[0m: unhashable type: 'list'"
     ]
    }
   ],
   "source": [
    "Coord_dict = {[48.856613,2.352222]:\"Paris\",\n",
    "              [35.689487,139.691711]:\"Tokyo\",\n",
    "              [21.027763,105.834160]:\"Hanoi\"\n",
    "             }\n",
    "\n",
    "Coord_dict"
   ]
  },
  {
   "cell_type": "markdown",
   "metadata": {},
   "source": [
    "Thậm chí có thể lồng ghép dict bên trong dict:"
   ]
  },
  {
   "cell_type": "code",
   "execution_count": 49,
   "metadata": {},
   "outputs": [
    {
     "data": {
      "text/plain": [
       "dict"
      ]
     },
     "execution_count": 49,
     "metadata": {},
     "output_type": "execute_result"
    }
   ],
   "source": [
    "nest_d = {'Patient': 'Patient_A',\n",
    "          'Exams':{'X':(0.2, 1.5, 4.7),\n",
    "                  'Y':(0.02, 0.48, 0.36)}\n",
    "         }\n",
    "\n",
    "type(nest_d['Exams'])"
   ]
  },
  {
   "cell_type": "markdown",
   "metadata": {},
   "source": [
    "Như vậy, có thể thấy Dictionary là kiểu dữ liệu cấp cao, với công dụng kết hợp tất cả những kiểu dữ liệu cấp thấp hơn như list, tuple, array...; Đặc tính này rất gần với bảng dữ liệu có cấu trúc mà ta từng biết - hay dataframe, mỗi cặp key:value có thể xem như 1 cột trong dataframe. Thật vậy, ta có thể tạo dataframe từ dict trong module pandas. Một số module trong Python chấp nhận input data là dict thay vì dataframe"
   ]
  },
  {
   "cell_type": "code",
   "execution_count": 53,
   "metadata": {},
   "outputs": [
    {
     "data": {
      "text/plain": [
       "{'Class': ['Y', 'Y', 'N', 'N', 'N', 'Y', 'N'],\n",
       " 'Var_A': array([0.12322135, 0.46217949, 0.9395644 , 0.6008032 , 0.96536314,\n",
       "        0.6337274 , 0.95361247]),\n",
       " 'Var_B': array([0.00939036, 0.12490545, 0.21425339, 0.45897312, 0.46489476,\n",
       "        0.50165454, 0.19398893])}"
      ]
     },
     "execution_count": 53,
     "metadata": {},
     "output_type": "execute_result"
    }
   ],
   "source": [
    "import numpy as np\n",
    "import pandas as pd\n",
    "\n",
    "d = {'Class':list('YYNNNYN'),\n",
    "     'Var_A': np.random.rand(7),\n",
    "     'Var_B': np.random.rand(7)}\n",
    "\n",
    "d"
   ]
  },
  {
   "cell_type": "code",
   "execution_count": 54,
   "metadata": {},
   "outputs": [
    {
     "data": {
      "text/html": [
       "<div>\n",
       "<style scoped>\n",
       "    .dataframe tbody tr th:only-of-type {\n",
       "        vertical-align: middle;\n",
       "    }\n",
       "\n",
       "    .dataframe tbody tr th {\n",
       "        vertical-align: top;\n",
       "    }\n",
       "\n",
       "    .dataframe thead th {\n",
       "        text-align: right;\n",
       "    }\n",
       "</style>\n",
       "<table border=\"1\" class=\"dataframe\">\n",
       "  <thead>\n",
       "    <tr style=\"text-align: right;\">\n",
       "      <th></th>\n",
       "      <th>Class</th>\n",
       "      <th>Var_A</th>\n",
       "      <th>Var_B</th>\n",
       "    </tr>\n",
       "  </thead>\n",
       "  <tbody>\n",
       "    <tr>\n",
       "      <th>0</th>\n",
       "      <td>Y</td>\n",
       "      <td>0.123221</td>\n",
       "      <td>0.009390</td>\n",
       "    </tr>\n",
       "    <tr>\n",
       "      <th>1</th>\n",
       "      <td>Y</td>\n",
       "      <td>0.462179</td>\n",
       "      <td>0.124905</td>\n",
       "    </tr>\n",
       "    <tr>\n",
       "      <th>2</th>\n",
       "      <td>N</td>\n",
       "      <td>0.939564</td>\n",
       "      <td>0.214253</td>\n",
       "    </tr>\n",
       "    <tr>\n",
       "      <th>3</th>\n",
       "      <td>N</td>\n",
       "      <td>0.600803</td>\n",
       "      <td>0.458973</td>\n",
       "    </tr>\n",
       "    <tr>\n",
       "      <th>4</th>\n",
       "      <td>N</td>\n",
       "      <td>0.965363</td>\n",
       "      <td>0.464895</td>\n",
       "    </tr>\n",
       "    <tr>\n",
       "      <th>5</th>\n",
       "      <td>Y</td>\n",
       "      <td>0.633727</td>\n",
       "      <td>0.501655</td>\n",
       "    </tr>\n",
       "    <tr>\n",
       "      <th>6</th>\n",
       "      <td>N</td>\n",
       "      <td>0.953612</td>\n",
       "      <td>0.193989</td>\n",
       "    </tr>\n",
       "  </tbody>\n",
       "</table>\n",
       "</div>"
      ],
      "text/plain": [
       "  Class     Var_A     Var_B\n",
       "0     Y  0.123221  0.009390\n",
       "1     Y  0.462179  0.124905\n",
       "2     N  0.939564  0.214253\n",
       "3     N  0.600803  0.458973\n",
       "4     N  0.965363  0.464895\n",
       "5     Y  0.633727  0.501655\n",
       "6     N  0.953612  0.193989"
      ]
     },
     "execution_count": 54,
     "metadata": {},
     "output_type": "execute_result"
    }
   ],
   "source": [
    "df = pd.DataFrame(d)\n",
    "\n",
    "df"
   ]
  },
  {
   "cell_type": "markdown",
   "metadata": {},
   "source": [
    "Như đã trình bày, tính chất quan trọng của dữ liệu dictionary đó là mối liên hệ chặt chẽ giữa key và values. Trong trường hợp cả values và keys đều có tính chất chuyên biệt (loại trừ lẫn nhau), vai trò của keys và values có thể hoán chuyển cho nhau:\n",
    "\n",
    "Thí dụ: Dict sau đây có thể dùng để dán nhãn hay encode biến nhị phân và hoán chuyển giữa string Y/N thành giá trị 0/1:"
   ]
  },
  {
   "cell_type": "code",
   "execution_count": 45,
   "metadata": {},
   "outputs": [
    {
     "data": {
      "text/plain": [
       "{'Y': 1, 'N': 0}"
      ]
     },
     "execution_count": 45,
     "metadata": {},
     "output_type": "execute_result"
    }
   ],
   "source": [
    "encode_dict = dict(zip(list(\"YYNNYN\"),[1,1,0,0,1,0]))\n",
    "\n",
    "encode_dict"
   ]
  },
  {
   "cell_type": "markdown",
   "metadata": {},
   "source": [
    "Ta cũng có thể tạo ra dict liên kết giữa Y/N và 0/1 trong đó 0/1 đóng vai trò keys:"
   ]
  },
  {
   "cell_type": "code",
   "execution_count": 44,
   "metadata": {},
   "outputs": [
    {
     "data": {
      "text/plain": [
       "{1: 'Y', 0: 'N'}"
      ]
     },
     "execution_count": 44,
     "metadata": {},
     "output_type": "execute_result"
    }
   ],
   "source": [
    "label_dict = dict(zip([1,1,0,0,1,0],list(\"YYNNYN\")))\n",
    "\n",
    "label_dict"
   ]
  },
  {
   "cell_type": "markdown",
   "metadata": {},
   "source": [
    "Đây là cách thông dụng khi chúng ta cần recode các biến categorical"
   ]
  },
  {
   "cell_type": "markdown",
   "metadata": {},
   "source": [
    "## Khảo sát, trích xuất dữ liệu từ dict object"
   ]
  },
  {
   "cell_type": "markdown",
   "metadata": {},
   "source": [
    "Hàm len() cho biết số cặp key:value trong 1 dict"
   ]
  },
  {
   "cell_type": "code",
   "execution_count": 62,
   "metadata": {},
   "outputs": [
    {
     "data": {
      "text/plain": [
       "3"
      ]
     },
     "execution_count": 62,
     "metadata": {},
     "output_type": "execute_result"
    }
   ],
   "source": [
    "d = {'A':[1,2,3],\n",
    "    'B':[4,5,6],\n",
    "     'C':[7,8,9]\n",
    "    }\n",
    "\n",
    "len(d)"
   ]
  },
  {
   "cell_type": "markdown",
   "metadata": {},
   "source": [
    "Ta có thể truy xuất nội dung của 1 key trong list theo 2 cách: dict[key] hay method dict.get(key)"
   ]
  },
  {
   "cell_type": "code",
   "execution_count": 64,
   "metadata": {},
   "outputs": [
    {
     "data": {
      "text/plain": [
       "[1, 2, 3]"
      ]
     },
     "execution_count": 64,
     "metadata": {},
     "output_type": "execute_result"
    }
   ],
   "source": [
    "d['A']"
   ]
  },
  {
   "cell_type": "markdown",
   "metadata": {},
   "source": [
    "dict[key] ngắn gọn, nhưng nếu key không tồn tại, Python sẽ báo KeyError"
   ]
  },
  {
   "cell_type": "code",
   "execution_count": 65,
   "metadata": {},
   "outputs": [
    {
     "ename": "KeyError",
     "evalue": "'X'",
     "output_type": "error",
     "traceback": [
      "\u001b[1;31m---------------------------------------------------------------------------\u001b[0m",
      "\u001b[1;31mKeyError\u001b[0m                                  Traceback (most recent call last)",
      "\u001b[1;32m<ipython-input-65-bf87cc130030>\u001b[0m in \u001b[0;36m<module>\u001b[1;34m\u001b[0m\n\u001b[1;32m----> 1\u001b[1;33m \u001b[0md\u001b[0m\u001b[1;33m[\u001b[0m\u001b[1;34m'X'\u001b[0m\u001b[1;33m]\u001b[0m\u001b[1;33m\u001b[0m\u001b[1;33m\u001b[0m\u001b[0m\n\u001b[0m",
      "\u001b[1;31mKeyError\u001b[0m: 'X'"
     ]
    }
   ],
   "source": [
    "d['X']"
   ]
  },
  {
   "cell_type": "markdown",
   "metadata": {},
   "source": [
    "Trong khi đó, method get() cho phép ta chọn kết quả xuất ra nếu key không tìm ra: get(key, giá trị mặc định)"
   ]
  },
  {
   "cell_type": "code",
   "execution_count": 66,
   "metadata": {},
   "outputs": [
    {
     "data": {
      "text/plain": [
       "[4, 5, 6]"
      ]
     },
     "execution_count": 66,
     "metadata": {},
     "output_type": "execute_result"
    }
   ],
   "source": [
    "d.get('B')"
   ]
  },
  {
   "cell_type": "code",
   "execution_count": 67,
   "metadata": {},
   "outputs": [
    {
     "data": {
      "text/plain": [
       "'Not found'"
      ]
     },
     "execution_count": 67,
     "metadata": {},
     "output_type": "execute_result"
    }
   ],
   "source": [
    "d.get('X','Not found')"
   ]
  },
  {
   "cell_type": "markdown",
   "metadata": {},
   "source": [
    "Method keys() liệt kê danh sách keys trong dict"
   ]
  },
  {
   "cell_type": "code",
   "execution_count": 68,
   "metadata": {},
   "outputs": [
    {
     "data": {
      "text/plain": [
       "dict_keys(['A', 'B', 'C'])"
      ]
     },
     "execution_count": 68,
     "metadata": {},
     "output_type": "execute_result"
    }
   ],
   "source": [
    "d.keys()"
   ]
  },
  {
   "cell_type": "markdown",
   "metadata": {},
   "source": [
    "Method values() chỉ liệt kê values, không kèm keys"
   ]
  },
  {
   "cell_type": "code",
   "execution_count": 69,
   "metadata": {},
   "outputs": [
    {
     "data": {
      "text/plain": [
       "dict_values([[1, 2, 3], [4, 5, 6], [7, 8, 9]])"
      ]
     },
     "execution_count": 69,
     "metadata": {},
     "output_type": "execute_result"
    }
   ],
   "source": [
    "d.values()"
   ]
  },
  {
   "cell_type": "markdown",
   "metadata": {},
   "source": [
    "Method items() xuất ra toàn bộ nội dung dict, keys và values:"
   ]
  },
  {
   "cell_type": "code",
   "execution_count": 70,
   "metadata": {},
   "outputs": [
    {
     "data": {
      "text/plain": [
       "dict_items([('A', [1, 2, 3]), ('B', [4, 5, 6]), ('C', [7, 8, 9])])"
      ]
     },
     "execution_count": 70,
     "metadata": {},
     "output_type": "execute_result"
    }
   ],
   "source": [
    "d.items()"
   ]
  },
  {
   "cell_type": "markdown",
   "metadata": {},
   "source": [
    "Tùy theo bản chất của values (tuple, dict hay list, string hay numeric), ta có thể khai thác sâu hơn dữ liệu bên trong, thí dụ nếu values là array số, ta có thể khai thác nó bằng các method phù hợp:"
   ]
  },
  {
   "cell_type": "code",
   "execution_count": 77,
   "metadata": {},
   "outputs": [
    {
     "data": {
      "text/plain": [
       "(7,)"
      ]
     },
     "execution_count": 77,
     "metadata": {},
     "output_type": "execute_result"
    }
   ],
   "source": [
    "d = {'Class':list('YYNNNYN'),\n",
    "     'Var_A': np.random.rand(7),\n",
    "     'Var_B': np.random.rand(7)}\n",
    "\n",
    "d['Var_B'].shape"
   ]
  },
  {
   "cell_type": "code",
   "execution_count": 75,
   "metadata": {},
   "outputs": [
    {
     "data": {
      "text/plain": [
       "0.5568998308825247"
      ]
     },
     "execution_count": 75,
     "metadata": {},
     "output_type": "execute_result"
    }
   ],
   "source": [
    "d['Var_B'].mean()"
   ]
  },
  {
   "cell_type": "markdown",
   "metadata": {},
   "source": [
    "## Mở rộng dict\n",
    "\n",
    "Ta có thể tạo thêm các cặp key:values mới trong 1 list sẵn có đơn giản bằng [ ]"
   ]
  },
  {
   "cell_type": "code",
   "execution_count": 358,
   "metadata": {},
   "outputs": [
    {
     "data": {
      "text/plain": [
       "{'A': [1, 2, 3], 'B': [4, 5, 6], 'C': [7, 8, 9]}"
      ]
     },
     "execution_count": 358,
     "metadata": {},
     "output_type": "execute_result"
    }
   ],
   "source": [
    "d = {'A':[1,2,3],\n",
    "    'B':[4,5,6],\n",
    "     'C':[7,8,9]}\n",
    "\n",
    "d"
   ]
  },
  {
   "cell_type": "markdown",
   "metadata": {},
   "source": [
    "Trong thí dụ sau, ta đưa thêm item D vào dict d sẵn có:"
   ]
  },
  {
   "cell_type": "code",
   "execution_count": 360,
   "metadata": {},
   "outputs": [
    {
     "data": {
      "text/plain": [
       "{'A': [1, 2, 3], 'B': [4, 5, 6], 'C': [7, 8, 9], 'D': [0, 0, 0]}"
      ]
     },
     "execution_count": 360,
     "metadata": {},
     "output_type": "execute_result"
    }
   ],
   "source": [
    "d['D'] = [0,0,0]\n",
    "\n",
    "d"
   ]
  },
  {
   "cell_type": "code",
   "execution_count": 361,
   "metadata": {},
   "outputs": [
    {
     "data": {
      "text/plain": [
       "4"
      ]
     },
     "execution_count": 361,
     "metadata": {},
     "output_type": "execute_result"
    }
   ],
   "source": [
    "len(d)"
   ]
  },
  {
   "cell_type": "markdown",
   "metadata": {},
   "source": [
    "Một cách khác, qua method update()"
   ]
  },
  {
   "cell_type": "code",
   "execution_count": 362,
   "metadata": {},
   "outputs": [
    {
     "data": {
      "text/plain": [
       "{'A': [1, 2, 3],\n",
       " 'B': [4, 5, 6],\n",
       " 'C': [7, 8, 9],\n",
       " 'D': [0, 0, 0],\n",
       " 'E': [10, 11, 12]}"
      ]
     },
     "execution_count": 362,
     "metadata": {},
     "output_type": "execute_result"
    }
   ],
   "source": [
    "d.update({'E':[10,11,12]})\n",
    "\n",
    "d"
   ]
  },
  {
   "cell_type": "code",
   "execution_count": 374,
   "metadata": {},
   "outputs": [
    {
     "name": "stdout",
     "output_type": "stream",
     "text": [
      "{'A': [1, 2, 3], 'B': [4, 5, 6]}\n"
     ]
    },
    {
     "data": {
      "text/plain": [
       "{'A': [1, 0, 1], 'B': [4, 5, 6], 'D': [7, 8, 9]}"
      ]
     },
     "execution_count": 374,
     "metadata": {},
     "output_type": "execute_result"
    }
   ],
   "source": [
    "d1 = {'A':[1,2,3],'B':[4,5,6]}\n",
    "\n",
    "print(d1)\n",
    "\n",
    "key_lst = ['A','D']\n",
    "val_lst = [[1,0,1],[7,8,9]]\n",
    "\n",
    "d1.update(zip(key_lst,val_lst))\n",
    "\n",
    "d1"
   ]
  },
  {
   "cell_type": "code",
   "execution_count": 375,
   "metadata": {},
   "outputs": [
    {
     "name": "stdout",
     "output_type": "stream",
     "text": [
      "{'A': [1, 2, 3], 'B': [4, 5, 6]}\n"
     ]
    },
    {
     "data": {
      "text/plain": [
       "{'A': [1, 2, 3], 'B': [7, 8, 9], 'C': [1, 2, 3]}"
      ]
     },
     "execution_count": 375,
     "metadata": {},
     "output_type": "execute_result"
    }
   ],
   "source": [
    "d1 = {'A':[1,2,3],'B':[4,5,6]}\n",
    "\n",
    "print(d1)\n",
    "\n",
    "d1.update(B = [7,8,9], C = [1,2,3])\n",
    "\n",
    "d1"
   ]
  },
  {
   "cell_type": "code",
   "execution_count": 377,
   "metadata": {},
   "outputs": [
    {
     "name": "stdout",
     "output_type": "stream",
     "text": [
      "{'A': [1, 2, 3], 'B': [4, 5, 6]}\n",
      "{'B': [7, 8, 9], 'C': [0, 1, 0]}\n"
     ]
    },
    {
     "data": {
      "text/plain": [
       "{'A': [1, 2, 3], 'B': [7, 8, 9], 'C': [0, 1, 0]}"
      ]
     },
     "execution_count": 377,
     "metadata": {},
     "output_type": "execute_result"
    }
   ],
   "source": [
    "d1 = {'A':[1,2,3],'B':[4,5,6]}\n",
    "d2 = {'B':[7,8,9],'C':[0,1,0]}\n",
    "\n",
    "print(d1)\n",
    "\n",
    "print(d2)\n",
    "\n",
    "d1.update(d2)\n",
    "\n",
    "d1"
   ]
  },
  {
   "cell_type": "markdown",
   "metadata": {},
   "source": [
    "## Thay đổi values trong dict\n",
    "\n",
    "Keys không thể thay đổi (immutable), nhưng ta có thể thay đổi values trong dict:"
   ]
  },
  {
   "cell_type": "code",
   "execution_count": 355,
   "metadata": {},
   "outputs": [
    {
     "name": "stdout",
     "output_type": "stream",
     "text": [
      "{'Set_A': [1, 2, 3], 'Set_B': [4, 5, 6], 'Set_C': [7, 8, 9]}\n"
     ]
    }
   ],
   "source": [
    "d = {'Set_A': [1,2,3], 'Set_B':[4,5,6], 'Set_C':[7,8,9]}\n",
    "\n",
    "print(d)"
   ]
  },
  {
   "cell_type": "code",
   "execution_count": 356,
   "metadata": {},
   "outputs": [
    {
     "name": "stdout",
     "output_type": "stream",
     "text": [
      "{'Set_A': [0, 0, 0], 'Set_B': [4, 5, 6], 'Set_C': [7, 8, 9]}\n"
     ]
    }
   ],
   "source": [
    "d['Set_A'] = [0,0,0]\n",
    "\n",
    "print(d)"
   ]
  },
  {
   "cell_type": "markdown",
   "metadata": {},
   "source": [
    "## Xếp thứ tự keys"
   ]
  },
  {
   "cell_type": "markdown",
   "metadata": {},
   "source": [
    "Với hàm sorted, ta có thể xếp thứ tự cho key trong dict. Tuy nhiên ta không thể xếp thứ tự cho values - để làm việc này ta cần dùng đến Class object, sẽ được giới thiệu một lần khác."
   ]
  },
  {
   "cell_type": "code",
   "execution_count": 99,
   "metadata": {},
   "outputs": [
    {
     "name": "stdout",
     "output_type": "stream",
     "text": [
      "{'C': [1, 2, 3], 'A': [4, 5, 6], 'X': [7, 8, 9]}\n"
     ]
    }
   ],
   "source": [
    "d = {'C':[1,2,3],\n",
    "    'A':[4,5,6],\n",
    "     'X':[7,8,9]}\n",
    "\n",
    "print(d)"
   ]
  },
  {
   "cell_type": "code",
   "execution_count": 100,
   "metadata": {},
   "outputs": [
    {
     "data": {
      "text/plain": [
       "['A', 'C', 'X']"
      ]
     },
     "execution_count": 100,
     "metadata": {},
     "output_type": "execute_result"
    }
   ],
   "source": [
    "sorted(d)"
   ]
  },
  {
   "cell_type": "code",
   "execution_count": 101,
   "metadata": {},
   "outputs": [
    {
     "data": {
      "text/plain": [
       "['X', 'C', 'A']"
      ]
     },
     "execution_count": 101,
     "metadata": {},
     "output_type": "execute_result"
    }
   ],
   "source": [
    "sorted(d, reverse=True)"
   ]
  },
  {
   "cell_type": "markdown",
   "metadata": {},
   "source": [
    "## Dict comprehension"
   ]
  },
  {
   "cell_type": "markdown",
   "metadata": {},
   "source": [
    "Comprehension là một giải pháp giản dị và đẹp mắt nhằm thay thế cho các vòng lặp, ta có thể áp dụng quy trình comprehension cho cả dict và list, tuy nhiên với dict có vẻ hơi phức tạp hơn một chút. Cơ chế của dict comprehension sẽ được trình bày qua các thí dụ cụ thể sau đây.\n",
    "\n",
    "Thí dụ thứ 1: Ta muốn lấy số thứ tự cho 6 bệnh nhân A,B,C,D,E,F tại phòng khám: Tên bệnh nhân là 1 string list:"
   ]
  },
  {
   "cell_type": "code",
   "execution_count": 103,
   "metadata": {},
   "outputs": [],
   "source": [
    "patient_list = ['A', 'B', 'C', 'D', 'E', 'F']"
   ]
  },
  {
   "cell_type": "markdown",
   "metadata": {},
   "source": [
    "Giải pháp dùng vòng lặp for như sau: tạo 1 dict rỗng, rồi chuyển dữ liệu từ patient_list vào dict bằng vòng lặp:"
   ]
  },
  {
   "cell_type": "code",
   "execution_count": 107,
   "metadata": {},
   "outputs": [
    {
     "name": "stdout",
     "output_type": "stream",
     "text": [
      "{1: 'A', 2: 'B', 3: 'C', 4: 'D', 5: 'E', 6: 'F'}\n"
     ]
    }
   ],
   "source": [
    "visit_dict = {}\n",
    "\n",
    "for i in range(len(patient_list)):\n",
    "    visit_dict[i+1] = patient_list[i]\n",
    "\n",
    "print(visit_dict)"
   ]
  },
  {
   "cell_type": "markdown",
   "metadata": {},
   "source": [
    "Tương tự, ta có thể dùng while loop thay vì for loop"
   ]
  },
  {
   "cell_type": "code",
   "execution_count": 112,
   "metadata": {},
   "outputs": [
    {
     "name": "stdout",
     "output_type": "stream",
     "text": [
      "{1: 'A', 2: 'B', 3: 'C', 4: 'D', 5: 'E', 6: 'F'}\n"
     ]
    }
   ],
   "source": [
    "visit_dict = {}\n",
    "\n",
    "i = 0\n",
    "\n",
    "while i < len(patient_list):\n",
    "    visit_dict[i+1] = patient_list[i]\n",
    "    i+=1\n",
    "\n",
    "print(visit_dict)"
   ]
  },
  {
   "cell_type": "markdown",
   "metadata": {},
   "source": [
    "Với dict comprehension, chỉ cần 1 dòng code là ta có thể làm được quy trình trên:"
   ]
  },
  {
   "cell_type": "code",
   "execution_count": 66,
   "metadata": {},
   "outputs": [
    {
     "data": {
      "text/plain": [
       "{1: 'A', 2: 'B', 3: 'C', 4: 'D'}"
      ]
     },
     "execution_count": 66,
     "metadata": {},
     "output_type": "execute_result"
    }
   ],
   "source": [
    "visit_dict = {(i+1):p for i,p in enumerate(patient_list)}\n",
    "\n",
    "visit_dict"
   ]
  },
  {
   "cell_type": "markdown",
   "metadata": {},
   "source": [
    "Thí dụ thứ 2: Tạo 1 dict để dịch tên 5 thuật ngữ chẩn đoán thành Việt ngữ"
   ]
  },
  {
   "cell_type": "code",
   "execution_count": 118,
   "metadata": {},
   "outputs": [],
   "source": [
    "diagnosis = ['PAH', 'COPD', 'CHF', 'TB']\n",
    "translate = ['TAĐMP', 'BPTNMT', 'Suytim', 'Lao']"
   ]
  },
  {
   "cell_type": "markdown",
   "metadata": {},
   "source": [
    "Hàm zip cho phép bắt cặp tuần tự phần tử trong 2 list:"
   ]
  },
  {
   "cell_type": "code",
   "execution_count": 123,
   "metadata": {},
   "outputs": [
    {
     "data": {
      "text/plain": [
       "<zip at 0x17dd1bee848>"
      ]
     },
     "execution_count": 123,
     "metadata": {},
     "output_type": "execute_result"
    }
   ],
   "source": [
    "zip(diagnosis, translate)"
   ]
  },
  {
   "cell_type": "markdown",
   "metadata": {},
   "source": [
    "Nếu sử dụng vòng lặp for, cần 2 câu lệnh để ghép 2 list thành 1 dict:"
   ]
  },
  {
   "cell_type": "code",
   "execution_count": 124,
   "metadata": {},
   "outputs": [
    {
     "data": {
      "text/plain": [
       "{'PAH': 'TAĐMP', 'COPD': 'BPTNMT', 'CHF': 'Suytim', 'TB': 'Lao'}"
      ]
     },
     "execution_count": 124,
     "metadata": {},
     "output_type": "execute_result"
    }
   ],
   "source": [
    "dtrans = {}\n",
    "\n",
    "for dia, trans in zip(diagnosis, translate):\n",
    "    dtrans[dia] = trans\n",
    "\n",
    "dtrans"
   ]
  },
  {
   "cell_type": "markdown",
   "metadata": {},
   "source": [
    "Trong khi đó nếu dùng dict comprehension, chỉ cần 1 dòng:"
   ]
  },
  {
   "cell_type": "code",
   "execution_count": 125,
   "metadata": {},
   "outputs": [
    {
     "name": "stdout",
     "output_type": "stream",
     "text": [
      "{'PAH': 'TAĐMP', 'COPD': 'BPTNMT', 'CHF': 'Suytim', 'TB': 'Lao'}\n"
     ]
    }
   ],
   "source": [
    "dtrans = {dia:trans for dia, trans in zip(diagnosis, translate)}\n",
    "\n",
    "print(dtrans)"
   ]
  },
  {
   "cell_type": "markdown",
   "metadata": {},
   "source": [
    "Bạn cũng có thể dùng dict với cú pháp dict([key,value]) như thí dụ thứ 3 sau:"
   ]
  },
  {
   "cell_type": "code",
   "execution_count": 126,
   "metadata": {},
   "outputs": [
    {
     "name": "stdout",
     "output_type": "stream",
     "text": [
      "{'Y': 1, 'N': 0}\n"
     ]
    }
   ],
   "source": [
    "key = list('YYNYNNN')\n",
    "val = [1,1,0,1,0,0,0]\n",
    "\n",
    "dict_comp = {i:j for i,j in zip(key, val)}\n",
    "\n",
    "print(dict_comp)"
   ]
  },
  {
   "cell_type": "code",
   "execution_count": 127,
   "metadata": {},
   "outputs": [
    {
     "name": "stdout",
     "output_type": "stream",
     "text": [
      "{'Y': 1, 'N': 0}\n"
     ]
    }
   ],
   "source": [
    "dict_comp = dict([(i,j) for i,j in zip(key, val)])\n",
    "\n",
    "print(dict_comp)"
   ]
  },
  {
   "cell_type": "markdown",
   "metadata": {},
   "source": [
    "Câu lệnh comprehension có thể kết hợp thêm điều kiện logic (condition) với if, thí dụ nếu ta chỉ muốn dịch các bệnh lý hô hấp, loại trừ bệnh Suy tim, ta làm như sau:"
   ]
  },
  {
   "cell_type": "code",
   "execution_count": 128,
   "metadata": {},
   "outputs": [
    {
     "name": "stdout",
     "output_type": "stream",
     "text": [
      "{'PAH': 'TAĐMP', 'COPD': 'BPTNMT', 'TB': 'Lao'}\n"
     ]
    }
   ],
   "source": [
    "dtrans = {dia:trans for dia, trans in zip(diagnosis, translate) if dia != 'CHF'}\n",
    "\n",
    "print(dtrans)"
   ]
  },
  {
   "cell_type": "markdown",
   "metadata": {},
   "source": [
    "## Truy xuất dữ liệu: Dict unpacking và iteration"
   ]
  },
  {
   "cell_type": "markdown",
   "metadata": {},
   "source": [
    "Trong bài trước, ta đã biết cách format string bằng {  } để dùng trong hàm print. Ta có thể dùng  string format để in dữ liệu từ dict:\n",
    "\n",
    "Thí dụ ta có 1 dict ghi kết quả xét nghiệm hô hấp ký của 1 bệnh nhân, ta có thể viết công thức báo cáo kết quả bằng 3 cách như sau:"
   ]
  },
  {
   "cell_type": "code",
   "execution_count": 143,
   "metadata": {},
   "outputs": [],
   "source": [
    "hohapky = {'Ten BN':'Nguyễn Văn A',\n",
    "           'FEV1':4.79, \n",
    "           'FVC':5.82, \n",
    "           'FEV1/FVC': 0.823}"
   ]
  },
  {
   "cell_type": "markdown",
   "metadata": {},
   "source": [
    "Cách thứ 1: sử dụng 4 dấu {} và liệt kê dict kèm từng key cụ thể trong format()"
   ]
  },
  {
   "cell_type": "code",
   "execution_count": 180,
   "metadata": {},
   "outputs": [
    {
     "name": "stdout",
     "output_type": "stream",
     "text": [
      "Kết quả hô hấp ký của bệnh nhân Nguyễn Văn A:\n",
      "FEV1 = 4.79 L\n",
      "FVC = 5.82 L\n",
      "FEV1/FVC = 0.823\n"
     ]
    }
   ],
   "source": [
    "print('Kết quả hô hấp ký của bệnh nhân {}:\\nFEV1 = {} L\\nFVC = {} L\\nFEV1/FVC = {}'.format(hohapky['Ten BN'],\n",
    "                                                                                           hohapky['FEV1'],\n",
    "                                                                                             hohapky['FVC'],\n",
    "                                                                                             hohapky['FEV1/FVC']))"
   ]
  },
  {
   "cell_type": "markdown",
   "metadata": {},
   "source": [
    "Một cách làm hay hơn, là đưa tên keys vào trong dấu {}, kèm chỉ mục = 0, như vậy chỉ cần khai báo tên dict 1 lần duy nhất trong format()"
   ]
  },
  {
   "cell_type": "code",
   "execution_count": 179,
   "metadata": {},
   "outputs": [
    {
     "name": "stdout",
     "output_type": "stream",
     "text": [
      "Kết quả hô hấp ký của bệnh nhân Nguyễn Văn A:\n",
      "FEV1 = 4.79 L\n",
      "FVC = 5.82 L\n",
      "FEV1/FVC = 0.823\n"
     ]
    }
   ],
   "source": [
    "print('Kết quả hô hấp ký của bệnh nhân {0[Ten BN]}:\\nFEV1 = {0[FEV1]} L\\nFVC = {0[FVC]} L\\nFEV1/FVC = {0[FEV1/FVC]}'.format(hohapky))"
   ]
  },
  {
   "cell_type": "markdown",
   "metadata": {},
   "source": [
    "Cách thứ 3, ngắn gọn hơn nữa, có tên là dict unpackaging: **Tên dict"
   ]
  },
  {
   "cell_type": "code",
   "execution_count": 181,
   "metadata": {},
   "outputs": [
    {
     "name": "stdout",
     "output_type": "stream",
     "text": [
      "Kết quả hô hấp ký của bệnh nhân Nguyễn Văn A:\n",
      "FEV1 = 4.79 L\n",
      "FVC = 5.82 L\n",
      "FEV1/FVC = 0.823\n"
     ]
    }
   ],
   "source": [
    "print('Kết quả hô hấp ký của bệnh nhân {Ten BN}:\\nFEV1 = {FEV1} L\\nFVC = {FVC} L\\nFEV1/FVC = {FEV1/FVC}'.format(**hohapky))"
   ]
  },
  {
   "cell_type": "markdown",
   "metadata": {},
   "source": [
    "Phương pháp dict unpackaging được sử dụng để đưa các keywords arguments (tùy chỉnh mở rộng có tên gọi) vào 1 function Python, được kí hiệu bằng **kwargs như các bạn thường thấy trong các modules, bản chất của kwargs chính là dict:"
   ]
  },
  {
   "cell_type": "code",
   "execution_count": 184,
   "metadata": {},
   "outputs": [],
   "source": [
    "def function_f(**kwargs):\n",
    "    print(kwargs)\n",
    "    \n",
    "kw_args = {'Arg_1':123, \n",
    "           'Arg_2':['A','B','C'],\n",
    "           'Arg_3':(4,5,6)}"
   ]
  },
  {
   "cell_type": "code",
   "execution_count": 185,
   "metadata": {},
   "outputs": [
    {
     "name": "stdout",
     "output_type": "stream",
     "text": [
      "{'Arg_1': 123, 'Arg_2': ['A', 'B', 'C'], 'Arg_3': (4, 5, 6)}\n"
     ]
    }
   ],
   "source": [
    "function_f(**kw_args)"
   ]
  },
  {
   "cell_type": "markdown",
   "metadata": {},
   "source": [
    "Tiếp theo, chúng ta sẽ làm thủ thuật dict iteration, hay trích xuất tuần tự nội dung 1 dict, thủ thuật này thường dùng trong các vòng lặp:\n",
    "\n",
    "Trong thí dụ sau đây, ta muốn gọi lần lượt 6 bệnh nhân trong visit_dict đến 6 phòng tùy theo số:"
   ]
  },
  {
   "cell_type": "code",
   "execution_count": 189,
   "metadata": {},
   "outputs": [
    {
     "name": "stdout",
     "output_type": "stream",
     "text": [
      "{1: 'A', 2: 'B', 3: 'C', 4: 'D', 5: 'E', 6: 'F'}\n",
      "Mời bệnh nhân A đến quầy số 1\n",
      "Mời bệnh nhân B đến quầy số 2\n",
      "Mời bệnh nhân C đến quầy số 3\n",
      "Mời bệnh nhân D đến quầy số 4\n",
      "Mời bệnh nhân E đến quầy số 5\n",
      "Mời bệnh nhân F đến quầy số 6\n"
     ]
    }
   ],
   "source": [
    "print(visit_dict)\n",
    "\n",
    "for p,i in visit_dict.items():\n",
    "    print(\"Mời bệnh nhân {1} đến quầy số {0}\".format(p,i))"
   ]
  },
  {
   "cell_type": "markdown",
   "metadata": {},
   "source": [
    "Hay ngắn gọn hơn:"
   ]
  },
  {
   "cell_type": "code",
   "execution_count": 190,
   "metadata": {},
   "outputs": [
    {
     "name": "stdout",
     "output_type": "stream",
     "text": [
      "{1: 'A', 2: 'B', 3: 'C', 4: 'D', 5: 'E', 6: 'F'}\n",
      "Mời bệnh nhân A đến quầy số 1\n",
      "Mời bệnh nhân B đến quầy số 2\n",
      "Mời bệnh nhân C đến quầy số 3\n",
      "Mời bệnh nhân D đến quầy số 4\n",
      "Mời bệnh nhân E đến quầy số 5\n",
      "Mời bệnh nhân F đến quầy số 6\n"
     ]
    }
   ],
   "source": [
    "print(visit_dict)\n",
    "\n",
    "for i in visit_dict:\n",
    "    print(\"Mời bệnh nhân {} đến quầy số {}\".format(visit_dict[i], i))"
   ]
  },
  {
   "cell_type": "markdown",
   "metadata": {},
   "source": [
    "Trong thí dụ tiếp theo, ta muốn tính trung bình của lần lượt 3 arrays trong dict ds:"
   ]
  },
  {
   "cell_type": "code",
   "execution_count": 284,
   "metadata": {},
   "outputs": [
    {
     "data": {
      "text/plain": [
       "{'Set_A': array([0.2760696 , 0.63491105, 0.02593781, 0.13880426, 0.55630124,\n",
       "        0.22155874, 0.33977355, 0.89375074, 0.59237015, 0.50222772]),\n",
       " 'Set_B': array([0.25282861, 0.70744077, 0.33412711, 0.41883891, 0.45269084,\n",
       "        0.0840781 , 0.07771668, 0.2694496 , 0.14350787, 0.69199524]),\n",
       " 'Set_C': array([0.48189171, 0.75476711, 0.79252601, 0.00800538, 0.09229926,\n",
       "        0.82096737, 0.999464  , 0.77706924, 0.63934053, 0.33447061])}"
      ]
     },
     "execution_count": 284,
     "metadata": {},
     "output_type": "execute_result"
    }
   ],
   "source": [
    "ds = {'Set_A': np.random.rand(10), \n",
    "      'Set_B': np.random.rand(10), \n",
    "      'Set_C': np.random.rand(10)}\n",
    "\n",
    "ds"
   ]
  },
  {
   "cell_type": "code",
   "execution_count": 307,
   "metadata": {},
   "outputs": [
    {
     "name": "stdout",
     "output_type": "stream",
     "text": [
      "Trung bình của Set_A = 0.4881\n",
      "Trung bình của Set_B = 0.5126\n",
      "Trung bình của Set_C = 0.3811\n"
     ]
    }
   ],
   "source": [
    "ds = {'Set_A': np.random.rand(10), \n",
    "      'Set_B':np.random.rand(10), \n",
    "      'Set_C':np.random.rand(10)}\n",
    "\n",
    "for k in ['Set_A','Set_B','Set_C']:\n",
    "    print('Trung bình của {} = {:.4}'.format(k, ds[k].mean()))"
   ]
  },
  {
   "cell_type": "markdown",
   "metadata": {},
   "source": [
    "Một cách làm khác ngắn gọn hơn: dùng list comprehension :"
   ]
  },
  {
   "cell_type": "markdown",
   "metadata": {},
   "source": [
    "### Rút dần dữ liệu khỏi dict: method pop(  ), popitem(  )\n",
    "\n",
    "pop là một method iteration đặc biệt, vì mỗi item được trích xuất sẽ bị xóa khỏi dict onject gốc, cho đến khi dict này trống rỗng:"
   ]
  },
  {
   "cell_type": "code",
   "execution_count": 102,
   "metadata": {},
   "outputs": [
    {
     "name": "stdout",
     "output_type": "stream",
     "text": [
      "{'Set_A': [1, 2, 3], 'Set_B': [4, 5, 6], 'Set_C': [7, 8, 9]}\n",
      "[4, 5, 6]\n"
     ]
    },
    {
     "data": {
      "text/plain": [
       "{'Set_A': [1, 2, 3], 'Set_C': [7, 8, 9]}"
      ]
     },
     "execution_count": 102,
     "metadata": {},
     "output_type": "execute_result"
    }
   ],
   "source": [
    "dict_line = {'Set_A': [1,2,3], 'Set_B':[4,5,6], 'Set_C':[7,8,9]}\n",
    "\n",
    "print(dict_line)\n",
    "\n",
    "print(dict_line.pop('Set_B'))\n",
    "\n",
    "dict_line"
   ]
  },
  {
   "cell_type": "code",
   "execution_count": 347,
   "metadata": {},
   "outputs": [],
   "source": [
    "ds = {'Set_A': np.random.rand(), \n",
    "      'Set_B':np.random.rand(), \n",
    "      'Set_C':np.random.rand(),\n",
    "      'Set_D': np.random.rand(), \n",
    "      'Set_E':np.random.rand(), \n",
    "      'Set_F':np.random.rand()}"
   ]
  },
  {
   "cell_type": "code",
   "execution_count": 348,
   "metadata": {},
   "outputs": [
    {
     "name": "stdout",
     "output_type": "stream",
     "text": [
      "Đã trích item 0.7030914379664209, còn lại 5 item\n",
      "Đã trích item 0.5252845173905288, còn lại 4 item\n",
      "Đã trích item 0.6279584698158351, còn lại 3 item\n",
      "Đã trích item 0.8751059486179753, còn lại 2 item\n",
      "Đã trích item 0.4081403940386479, còn lại 1 item\n",
      "Đã trích item 0.7300000685740617, còn lại 0 item\n"
     ]
    }
   ],
   "source": [
    "for k in ['Set_A', 'Set_B', 'Set_C', 'Set_D', 'Set_E', 'Set_F']:\n",
    "    print('Đã trích item {}, còn lại {} item'.format(ds.pop(k), len(ds)))"
   ]
  },
  {
   "cell_type": "code",
   "execution_count": 354,
   "metadata": {},
   "outputs": [
    {
     "name": "stdout",
     "output_type": "stream",
     "text": [
      "Đã trích item ('Set_F', 0.32779793499916376), còn lại 5 item\n",
      "Đã trích item ('Set_E', 0.32101491041118624), còn lại 4 item\n",
      "Đã trích item ('Set_D', 0.7769497836989565), còn lại 3 item\n",
      "Đã trích item ('Set_C', 0.7670867670633597), còn lại 2 item\n",
      "Đã trích item ('Set_B', 0.8308208444021853), còn lại 1 item\n",
      "Đã trích item ('Set_A', 0.4447125914430139), còn lại 0 item\n"
     ]
    }
   ],
   "source": [
    "ds = {'Set_A': np.random.rand(), \n",
    "      'Set_B':np.random.rand(), \n",
    "      'Set_C':np.random.rand(),\n",
    "      'Set_D': np.random.rand(), \n",
    "      'Set_E':np.random.rand(), \n",
    "      'Set_F':np.random.rand()}\n",
    "\n",
    "k = 0\n",
    "while k < 6:\n",
    "    print('Đã trích item {}, còn lại {} item'.format(ds.popitem(), len(ds)))\n",
    "    k +=1"
   ]
  },
  {
   "cell_type": "markdown",
   "metadata": {},
   "source": [
    "## Chuyển values từ dict sang list: sử dụng vòng lặp và list comprehension"
   ]
  },
  {
   "cell_type": "code",
   "execution_count": 363,
   "metadata": {},
   "outputs": [
    {
     "data": {
      "text/plain": [
       "{'Set_A': array([0.33457627, 0.84574033, 0.86412997]),\n",
       " 'Set_B': array([0.93310481, 0.60842954, 0.4352757 ]),\n",
       " 'Set_C': array([0.81471152, 0.68422669, 0.00673069])}"
      ]
     },
     "execution_count": 363,
     "metadata": {},
     "output_type": "execute_result"
    }
   ],
   "source": [
    "ds = {'Set_A': np.random.rand(3), \n",
    "      'Set_B': np.random.rand(3), \n",
    "      'Set_C': np.random.rand(3)}\n",
    "\n",
    "ds"
   ]
  },
  {
   "cell_type": "code",
   "execution_count": 364,
   "metadata": {},
   "outputs": [
    {
     "data": {
      "text/plain": [
       "[array([0.33457627, 0.84574033, 0.86412997]),\n",
       " array([0.93310481, 0.60842954, 0.4352757 ]),\n",
       " array([0.81471152, 0.68422669, 0.00673069])]"
      ]
     },
     "execution_count": 364,
     "metadata": {},
     "output_type": "execute_result"
    }
   ],
   "source": [
    "res = []\n",
    "\n",
    "for i in ds:\n",
    "    res.append(ds[i])\n",
    "res"
   ]
  },
  {
   "cell_type": "code",
   "execution_count": 372,
   "metadata": {},
   "outputs": [
    {
     "data": {
      "text/plain": [
       "[array([0.81471152, 0.68422669, 0.00673069]),\n",
       " array([0.81471152, 0.68422669, 0.00673069]),\n",
       " array([0.81471152, 0.68422669, 0.00673069])]"
      ]
     },
     "execution_count": 372,
     "metadata": {},
     "output_type": "execute_result"
    }
   ],
   "source": [
    "res = []\n",
    "k = 0\n",
    "while k < len(ds):\n",
    "    res.append(ds[i])\n",
    "    k +=1\n",
    "\n",
    "res"
   ]
  },
  {
   "cell_type": "code",
   "execution_count": 371,
   "metadata": {},
   "outputs": [
    {
     "data": {
      "text/plain": [
       "[array([0.33457627, 0.84574033, 0.86412997]),\n",
       " array([0.93310481, 0.60842954, 0.4352757 ]),\n",
       " array([0.81471152, 0.68422669, 0.00673069])]"
      ]
     },
     "execution_count": 371,
     "metadata": {},
     "output_type": "execute_result"
    }
   ],
   "source": [
    "res = [ds[k] for k in ds]\n",
    "\n",
    "res"
   ]
  },
  {
   "cell_type": "markdown",
   "metadata": {},
   "source": [
    "Bài thực hành đến đây tạm dừng, hẹn gặp lại các bạn lần sau nhé. Chúc các bạn thực hành vui."
   ]
  },
  {
   "cell_type": "code",
   "execution_count": null,
   "metadata": {},
   "outputs": [],
   "source": []
  }
 ],
 "metadata": {
  "hide_input": false,
  "kernelspec": {
   "display_name": "Python 3",
   "language": "python",
   "name": "python3"
  },
  "language_info": {
   "codemirror_mode": {
    "name": "ipython",
    "version": 3
   },
   "file_extension": ".py",
   "mimetype": "text/x-python",
   "name": "python",
   "nbconvert_exporter": "python",
   "pygments_lexer": "ipython3",
   "version": "3.7.3"
  },
  "toc": {
   "base_numbering": 1,
   "nav_menu": {},
   "number_sections": true,
   "sideBar": true,
   "skip_h1_title": false,
   "title_cell": "Table of Contents",
   "title_sidebar": "Contents",
   "toc_cell": false,
   "toc_position": {},
   "toc_section_display": true,
   "toc_window_display": false
  }
 },
 "nbformat": 4,
 "nbformat_minor": 2
}

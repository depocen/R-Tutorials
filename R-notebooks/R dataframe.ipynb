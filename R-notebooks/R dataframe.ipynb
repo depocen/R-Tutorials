{
 "cells": [
  {
   "cell_type": "markdown",
   "metadata": {},
   "source": [
    "# Lập trình thống kê R - Bài  4: Dataframe \n",
    "\n",
    "### BS.  Lê Ngọc Khả Nhi\n",
    "\n",
    "\n",
    "## Nhập đề\n",
    "\n",
    "Lần trước ở bài 2, chúng ta đã tìm hiểu về matrix và vai trò quan trọng của nó khi làm thống kê bằng ngôn ngữ R. Bài hôm nay sẽ giới thiệu một cấu trúc dữ liệu 2 chiều khác tương tự matrix nhưng với tính năng linh hoạt hơn khi cho phép chứa nhiều kiểu dữ liệu khác nhau - đó là dataframe. \n",
    "\n",
    "Trước khi bắt đầu, Nhi muốn chú thích thêm vài điều. \n",
    "\n",
    "Do R được tạo ra cho ứng dụng thống kê, một cấu trúc tiện lợi như dataframe đã được dọn sẵn ngay từ đầu - nếu bạn làm thống kê bằng ngôn ngữ Python sẽ thấy khoảng cách khá xa giữa những cấu trúc dữ liệu cơ bản cho lập trình (tuple, list, dictionary...) và những cấu trúc cao cấp hơn cho thống kê/tính toán như array của numpy, Series và dataframe của pandas. \n",
    "\n",
    "Dataframe không chỉ đơn giản là một bảng trình bày dữ liệu: Hầu hết các bạn bác sĩ khi tiếp xúc với ngôn ngữ R đều đã sử dụng qua các phần mềm thống kê có giao diện dạng bảng như Excel, SPSS Medcalc..., vì vậy một cách tự nhiên chúng ta quy đồng khái niệm \"dữ liệu\" và hình ảnh \"bảng tính\" - trên cái bảng này chúng ta vừa nhập liệu, vừa tính toán. Thực ra, khi làm việc bằng dòng lệnh với ngôn ngữ R, nội dung dữ liệu không phải luôn được bày ra trước mắt, mà được chứa trong những object khác nhau. Ngay cả khi dùng giao diện Rstudio, object dữ liệu không bắt buộc là bảng, mà có thể là vector, matrix, dataframe hay list.\n",
    "\n",
    "Tuy dataframe thường được R tự động dọn sẵn mỗi khi bạn tải dữ liệu vào R, và đa số trường hợp bạn sẽ làm thống kê, dựng mô hình mà không phải bận tâm về cấu trúc bên dưới; nhưng nếu hiểu rõ bản chất dataframe, ta sẽ kiểm soát object này như một công cụ, chủ động tạo ra nó khi cần, thay đổi và khai thác nó hiệu quả bằng cách viết code, thậm chí không cần nhìn vào bên trong.\n",
    "\n",
    "\n",
    "## Tạo dataframe\n",
    "\n",
    "Để học tốt cấu trúc dữ liệu, ta nên quan tâm đến công dụng thiết thực mà nó mang lại (nó có tính năng gì ? dùng trong hoàn cảnh nào) chứ không phải chỉ thuộc những quy luật máy móc. Ta sẽ đi theo hướng này với dataframe trong R:\n",
    "\n",
    "Giả định ta có 4 vector chứa 4 loại dữ liệu khác nhau : character, integer, float number và Boolean như sau:"
   ]
  },
  {
   "cell_type": "code",
   "execution_count": 1,
   "metadata": {},
   "outputs": [],
   "source": [
    "set.seed(12345)\n",
    "\n",
    "Chr_Var = paste('P',rep(1:20),sep='')\n",
    "Int_Var = sample(50:80,20,replace=T)\n",
    "Float_Var = rnorm(20,5,2)\n",
    "Bool_Var = Float_Var < 6"
   ]
  },
  {
   "cell_type": "markdown",
   "metadata": {},
   "source": [
    "Nếu cần kết hợp 4 vectors này để tạo thành một bảng dữ liệu, ta có thể dùng matrix ? về hình thức thì được, nhưng khi nhìn vào nội dung matrix này, ta sẽ thấy tất cả dữ liệu đều bị chuyển thành kiểu \"character\", tức là hoàn toàn vô dụng vì không thể tính toán:"
   ]
  },
  {
   "cell_type": "code",
   "execution_count": 2,
   "metadata": {},
   "outputs": [
    {
     "data": {
      "text/html": [
       "<table>\n",
       "<tbody>\n",
       "\t<tr><td>P1              </td><td>63              </td><td>8.63462408740843</td><td>FALSE           </td></tr>\n",
       "\t<tr><td>P2              </td><td>68              </td><td>5.74125572851591</td><td>TRUE            </td></tr>\n",
       "\t<tr><td>P3              </td><td>65              </td><td>6.04043291510991</td><td>FALSE           </td></tr>\n",
       "\t<tr><td>P4              </td><td>75              </td><td>3.49893601099534</td><td>TRUE            </td></tr>\n",
       "\t<tr><td>P5              </td><td>77              </td><td>6.63379967904117</td><td>FALSE           </td></tr>\n",
       "\t<tr><td>P6              </td><td>73              </td><td>3.22728495751357</td><td>TRUE            </td></tr>\n",
       "</tbody>\n",
       "</table>\n"
      ],
      "text/latex": [
       "\\begin{tabular}{llll}\n",
       "\t P1               & 63               & 8.63462408740843 & FALSE           \\\\\n",
       "\t P2               & 68               & 5.74125572851591 & TRUE            \\\\\n",
       "\t P3               & 65               & 6.04043291510991 & FALSE           \\\\\n",
       "\t P4               & 75               & 3.49893601099534 & TRUE            \\\\\n",
       "\t P5               & 77               & 6.63379967904117 & FALSE           \\\\\n",
       "\t P6               & 73               & 3.22728495751357 & TRUE            \\\\\n",
       "\\end{tabular}\n"
      ],
      "text/markdown": [
       "\n",
       "| P1               | 63               | 8.63462408740843 | FALSE            |\n",
       "| P2               | 68               | 5.74125572851591 | TRUE             |\n",
       "| P3               | 65               | 6.04043291510991 | FALSE            |\n",
       "| P4               | 75               | 3.49893601099534 | TRUE             |\n",
       "| P5               | 77               | 6.63379967904117 | FALSE            |\n",
       "| P6               | 73               | 3.22728495751357 | TRUE             |\n",
       "\n"
      ],
      "text/plain": [
       "     [,1] [,2] [,3]             [,4] \n",
       "[1,] P1   63   8.63462408740843 FALSE\n",
       "[2,] P2   68   5.74125572851591 TRUE \n",
       "[3,] P3   65   6.04043291510991 FALSE\n",
       "[4,] P4   75   3.49893601099534 TRUE \n",
       "[5,] P5   77   6.63379967904117 FALSE\n",
       "[6,] P6   73   3.22728495751357 TRUE "
      ]
     },
     "metadata": {},
     "output_type": "display_data"
    },
    {
     "data": {
      "text/html": [
       "'matrix'"
      ],
      "text/latex": [
       "'matrix'"
      ],
      "text/markdown": [
       "'matrix'"
      ],
      "text/plain": [
       "[1] \"matrix\""
      ]
     },
     "metadata": {},
     "output_type": "display_data"
    },
    {
     "name": "stdout",
     "output_type": "stream",
     "text": [
      " chr [1:20, 1:4] \"P1\" \"P2\" \"P3\" \"P4\" \"P5\" \"P6\" \"P7\" \"P8\" \"P9\" \"P10\" \"P11\" ...\n"
     ]
    }
   ],
   "source": [
    "m = matrix(c(Chr_Var,Int_Var,Float_Var, Bool_Var),ncol = 4)\n",
    "\n",
    "head(m)\n",
    "\n",
    "class(m)\n",
    "\n",
    "str(m)"
   ]
  },
  {
   "cell_type": "markdown",
   "metadata": {},
   "source": [
    "Chính vì matrix chỉ chứa được 1 kiểu dữ liệu đồng nhất, ta cần một cấu trúc linh hoạt hơn - đó là dataframe. Về hình thức dataframe hoàn toàn tương đương với matrix, nhưng tính năng của nó được mở rộng, cho phép các cột chứa nhiều kiểu dữ liệu khác nhau (dĩ nhiên trong cùng 1 cột vẫn phải đồng nhất).\n",
    "\n",
    "dataframe được tạo ra bằng hàm data.frame(): "
   ]
  },
  {
   "cell_type": "code",
   "execution_count": 3,
   "metadata": {},
   "outputs": [
    {
     "data": {
      "text/html": [
       "'data.frame'"
      ],
      "text/latex": [
       "'data.frame'"
      ],
      "text/markdown": [
       "'data.frame'"
      ],
      "text/plain": [
       "[1] \"data.frame\""
      ]
     },
     "metadata": {},
     "output_type": "display_data"
    },
    {
     "data": {
      "text/html": [
       "<table>\n",
       "<thead><tr><th scope=col>Chr_Var</th><th scope=col>Int_Var</th><th scope=col>Float_Var</th><th scope=col>Bool_Var</th></tr></thead>\n",
       "<tbody>\n",
       "\t<tr><td>P1      </td><td>63      </td><td>8.634624</td><td>FALSE   </td></tr>\n",
       "\t<tr><td>P2      </td><td>68      </td><td>5.741256</td><td> TRUE   </td></tr>\n",
       "\t<tr><td>P3      </td><td>65      </td><td>6.040433</td><td>FALSE   </td></tr>\n",
       "\t<tr><td>P4      </td><td>75      </td><td>3.498936</td><td> TRUE   </td></tr>\n",
       "\t<tr><td>P5      </td><td>77      </td><td>6.633800</td><td>FALSE   </td></tr>\n",
       "\t<tr><td>P6      </td><td>73      </td><td>3.227285</td><td> TRUE   </td></tr>\n",
       "</tbody>\n",
       "</table>\n"
      ],
      "text/latex": [
       "\\begin{tabular}{r|llll}\n",
       " Chr\\_Var & Int\\_Var & Float\\_Var & Bool\\_Var\\\\\n",
       "\\hline\n",
       "\t P1       & 63       & 8.634624 & FALSE   \\\\\n",
       "\t P2       & 68       & 5.741256 &  TRUE   \\\\\n",
       "\t P3       & 65       & 6.040433 & FALSE   \\\\\n",
       "\t P4       & 75       & 3.498936 &  TRUE   \\\\\n",
       "\t P5       & 77       & 6.633800 & FALSE   \\\\\n",
       "\t P6       & 73       & 3.227285 &  TRUE   \\\\\n",
       "\\end{tabular}\n"
      ],
      "text/markdown": [
       "\n",
       "| Chr_Var | Int_Var | Float_Var | Bool_Var |\n",
       "|---|---|---|---|\n",
       "| P1       | 63       | 8.634624 | FALSE    |\n",
       "| P2       | 68       | 5.741256 |  TRUE    |\n",
       "| P3       | 65       | 6.040433 | FALSE    |\n",
       "| P4       | 75       | 3.498936 |  TRUE    |\n",
       "| P5       | 77       | 6.633800 | FALSE    |\n",
       "| P6       | 73       | 3.227285 |  TRUE    |\n",
       "\n"
      ],
      "text/plain": [
       "  Chr_Var Int_Var Float_Var Bool_Var\n",
       "1 P1      63      8.634624  FALSE   \n",
       "2 P2      68      5.741256   TRUE   \n",
       "3 P3      65      6.040433  FALSE   \n",
       "4 P4      75      3.498936   TRUE   \n",
       "5 P5      77      6.633800  FALSE   \n",
       "6 P6      73      3.227285   TRUE   "
      ]
     },
     "metadata": {},
     "output_type": "display_data"
    }
   ],
   "source": [
    "d = data.frame(Chr_Var, Int_Var, Float_Var, Bool_Var)\n",
    "\n",
    "class(d)\n",
    "\n",
    "head(d)"
   ]
  },
  {
   "cell_type": "markdown",
   "metadata": {},
   "source": [
    "##  Dùng factor hay character ?"
   ]
  },
  {
   "cell_type": "markdown",
   "metadata": {},
   "source": [
    "Ở trên Nhi có dùng hàm str() để khảo sát cấu trúc của matrix, đây là một hàm rất hữu ích mà các bạn mới học R cần ghi nhớ, nó áp dụng cho mọi object trong R. Khi dùng str() cho dataframe, kết quả cho ta biết kiểu dữ liệu của từng cột:"
   ]
  },
  {
   "cell_type": "code",
   "execution_count": 10,
   "metadata": {},
   "outputs": [
    {
     "name": "stdout",
     "output_type": "stream",
     "text": [
      "'data.frame':\t20 obs. of  4 variables:\n",
      " $ Chr_Var  : Factor w/ 20 levels \"P1\",\"P10\",\"P11\",..: 1 12 14 15 16 17 18 19 20 2 ...\n",
      " $ Int_Var  : int  63 68 65 75 77 73 75 78 60 73 ...\n",
      " $ Float_Var: num  8.63 5.74 6.04 3.5 6.63 ...\n",
      " $ Bool_Var : logi  FALSE TRUE FALSE TRUE FALSE TRUE ...\n"
     ]
    }
   ],
   "source": [
    "str(d)"
   ]
  },
  {
   "cell_type": "markdown",
   "metadata": {},
   "source": [
    "Ta chú ý một chi tiết ở đây, đó là hàm data.frame đã tự động chuyển vector Chr_Var thành class Factor, đây là tính năng mặc định. Nếu bạn muốn giữ nguyên bản chất character cho dữ liệu, chỉ cần thay đổi argument stringsAsFactors = F:"
   ]
  },
  {
   "cell_type": "code",
   "execution_count": 4,
   "metadata": {},
   "outputs": [
    {
     "name": "stdout",
     "output_type": "stream",
     "text": [
      "'data.frame':\t20 obs. of  4 variables:\n",
      " $ Chr_Var  : chr  \"P1\" \"P2\" \"P3\" \"P4\" ...\n",
      " $ Int_Var  : int  63 68 65 75 77 73 75 78 60 73 ...\n",
      " $ Float_Var: num  8.63 5.74 6.04 3.5 6.63 ...\n",
      " $ Bool_Var : logi  FALSE TRUE FALSE TRUE FALSE TRUE ...\n"
     ]
    }
   ],
   "source": [
    "d = data.frame(Chr_Var, Int_Var, Float_Var, Bool_Var, \n",
    "               stringsAsFactors = F)\n",
    "\n",
    "str(d)"
   ]
  },
  {
   "cell_type": "markdown",
   "metadata": {},
   "source": [
    "## Tên cột (biến) trong dataframe"
   ]
  },
  {
   "cell_type": "markdown",
   "metadata": {},
   "source": [
    "Trong thí dụ trên, chắc bạn có thể hình dung về cơ chế của hàm data.frame: các object (vector) ngăn cách bằng dấu ',' sẽ được sắp xếp vào dataframe theo thứ tự, mỗi object sẽ trở thành 1 cột của dataframe mang tên của object đó. \n",
    "\n",
    "Điều gì sẽ xảy ra khi ta tạo dataframe đồng thời với việc tạo dữ liệu (on the fly) mà không thông qua objects: việc đặt tên cho cột sẽ trở nên máy móc và kết quả không hay chút nào:"
   ]
  },
  {
   "cell_type": "code",
   "execution_count": 5,
   "metadata": {},
   "outputs": [
    {
     "data": {
      "text/html": [
       "<table>\n",
       "<thead><tr><th scope=col>c.1..2..3..4..5.</th><th scope=col>rnorm.5..1..0.5.</th></tr></thead>\n",
       "<tbody>\n",
       "\t<tr><td>1       </td><td>2.098417</td></tr>\n",
       "\t<tr><td>2       </td><td>2.024595</td></tr>\n",
       "\t<tr><td>3       </td><td>1.816223</td></tr>\n",
       "\t<tr><td>4       </td><td>1.127136</td></tr>\n",
       "\t<tr><td>5       </td><td>1.245594</td></tr>\n",
       "</tbody>\n",
       "</table>\n"
      ],
      "text/latex": [
       "\\begin{tabular}{r|ll}\n",
       " c.1..2..3..4..5. & rnorm.5..1..0.5.\\\\\n",
       "\\hline\n",
       "\t 1        & 2.098417\\\\\n",
       "\t 2        & 2.024595\\\\\n",
       "\t 3        & 1.816223\\\\\n",
       "\t 4        & 1.127136\\\\\n",
       "\t 5        & 1.245594\\\\\n",
       "\\end{tabular}\n"
      ],
      "text/markdown": [
       "\n",
       "| c.1..2..3..4..5. | rnorm.5..1..0.5. |\n",
       "|---|---|\n",
       "| 1        | 2.098417 |\n",
       "| 2        | 2.024595 |\n",
       "| 3        | 1.816223 |\n",
       "| 4        | 1.127136 |\n",
       "| 5        | 1.245594 |\n",
       "\n"
      ],
      "text/plain": [
       "  c.1..2..3..4..5. rnorm.5..1..0.5.\n",
       "1 1                2.098417        \n",
       "2 2                2.024595        \n",
       "3 3                1.816223        \n",
       "4 4                1.127136        \n",
       "5 5                1.245594        "
      ]
     },
     "metadata": {},
     "output_type": "display_data"
    }
   ],
   "source": [
    "d = data.frame(c(1,2,3,4,5),\n",
    "               rnorm(5,1,0.5))\n",
    "\n",
    "d"
   ]
  },
  {
   "cell_type": "markdown",
   "metadata": {},
   "source": [
    "Do trên thực tế dataframe được dùng như 1 dữ liệu cấu trúc, trong đó mỗi cột là 1 biến trong bài toán thống kê, và mỗi hàng thường là 1 đơn vị quan sát, nên ta nên tập thói quen chủ động đặt tên cho biến (cột) ngay từ khi tạo ra dataframe, với những cái tên có ý nghĩa, thí dụ:"
   ]
  },
  {
   "cell_type": "code",
   "execution_count": 6,
   "metadata": {},
   "outputs": [
    {
     "data": {
      "text/html": [
       "<table>\n",
       "<thead><tr><th scope=col>Patient</th><th scope=col>Weight</th><th scope=col>Score</th><th scope=col>Diagnosis</th></tr></thead>\n",
       "<tbody>\n",
       "\t<tr><td>P1      </td><td>63      </td><td>8.634624</td><td>FALSE   </td></tr>\n",
       "\t<tr><td>P2      </td><td>68      </td><td>5.741256</td><td> TRUE   </td></tr>\n",
       "\t<tr><td>P3      </td><td>65      </td><td>6.040433</td><td>FALSE   </td></tr>\n",
       "\t<tr><td>P4      </td><td>75      </td><td>3.498936</td><td> TRUE   </td></tr>\n",
       "\t<tr><td>P5      </td><td>77      </td><td>6.633800</td><td>FALSE   </td></tr>\n",
       "\t<tr><td>P6      </td><td>73      </td><td>3.227285</td><td> TRUE   </td></tr>\n",
       "</tbody>\n",
       "</table>\n"
      ],
      "text/latex": [
       "\\begin{tabular}{r|llll}\n",
       " Patient & Weight & Score & Diagnosis\\\\\n",
       "\\hline\n",
       "\t P1       & 63       & 8.634624 & FALSE   \\\\\n",
       "\t P2       & 68       & 5.741256 &  TRUE   \\\\\n",
       "\t P3       & 65       & 6.040433 & FALSE   \\\\\n",
       "\t P4       & 75       & 3.498936 &  TRUE   \\\\\n",
       "\t P5       & 77       & 6.633800 & FALSE   \\\\\n",
       "\t P6       & 73       & 3.227285 &  TRUE   \\\\\n",
       "\\end{tabular}\n"
      ],
      "text/markdown": [
       "\n",
       "| Patient | Weight | Score | Diagnosis |\n",
       "|---|---|---|---|\n",
       "| P1       | 63       | 8.634624 | FALSE    |\n",
       "| P2       | 68       | 5.741256 |  TRUE    |\n",
       "| P3       | 65       | 6.040433 | FALSE    |\n",
       "| P4       | 75       | 3.498936 |  TRUE    |\n",
       "| P5       | 77       | 6.633800 | FALSE    |\n",
       "| P6       | 73       | 3.227285 |  TRUE    |\n",
       "\n"
      ],
      "text/plain": [
       "  Patient Weight Score    Diagnosis\n",
       "1 P1      63     8.634624 FALSE    \n",
       "2 P2      68     5.741256  TRUE    \n",
       "3 P3      65     6.040433 FALSE    \n",
       "4 P4      75     3.498936  TRUE    \n",
       "5 P5      77     6.633800 FALSE    \n",
       "6 P6      73     3.227285  TRUE    "
      ]
     },
     "metadata": {},
     "output_type": "display_data"
    }
   ],
   "source": [
    "d = data.frame(Patient = Chr_Var, \n",
    "               Weight = Int_Var, \n",
    "               Score = Float_Var, \n",
    "               Diagnosis = Bool_Var)\n",
    "\n",
    "head(d)"
   ]
  },
  {
   "cell_type": "markdown",
   "metadata": {},
   "source": [
    "Như vậy ta có thể tạo dataframe \"on the fly\" với tên biến có ý nghĩa:"
   ]
  },
  {
   "cell_type": "code",
   "execution_count": 60,
   "metadata": {},
   "outputs": [
    {
     "data": {
      "text/html": [
       "<table>\n",
       "<thead><tr><th scope=col>Benh_nhan</th><th scope=col>Can_nang</th><th scope=col>Marker_X</th><th scope=col>Chan_doan</th></tr></thead>\n",
       "<tbody>\n",
       "\t<tr><td>P1      </td><td>71      </td><td>5.946097</td><td>FALSE   </td></tr>\n",
       "\t<tr><td>P2      </td><td>52      </td><td>3.161691</td><td> TRUE   </td></tr>\n",
       "\t<tr><td>P3      </td><td>76      </td><td>4.248353</td><td>FALSE   </td></tr>\n",
       "\t<tr><td>P4      </td><td>65      </td><td>1.374332</td><td> TRUE   </td></tr>\n",
       "\t<tr><td>P5      </td><td>57      </td><td>5.577200</td><td>FALSE   </td></tr>\n",
       "\t<tr><td>P6      </td><td>80      </td><td>4.620755</td><td> TRUE   </td></tr>\n",
       "</tbody>\n",
       "</table>\n"
      ],
      "text/latex": [
       "\\begin{tabular}{r|llll}\n",
       " Benh\\_nhan & Can\\_nang & Marker\\_X & Chan\\_doan\\\\\n",
       "\\hline\n",
       "\t P1       & 71       & 5.946097 & FALSE   \\\\\n",
       "\t P2       & 52       & 3.161691 &  TRUE   \\\\\n",
       "\t P3       & 76       & 4.248353 & FALSE   \\\\\n",
       "\t P4       & 65       & 1.374332 &  TRUE   \\\\\n",
       "\t P5       & 57       & 5.577200 & FALSE   \\\\\n",
       "\t P6       & 80       & 4.620755 &  TRUE   \\\\\n",
       "\\end{tabular}\n"
      ],
      "text/markdown": [
       "\n",
       "| Benh_nhan | Can_nang | Marker_X | Chan_doan |\n",
       "|---|---|---|---|\n",
       "| P1       | 71       | 5.946097 | FALSE    |\n",
       "| P2       | 52       | 3.161691 |  TRUE    |\n",
       "| P3       | 76       | 4.248353 | FALSE    |\n",
       "| P4       | 65       | 1.374332 |  TRUE    |\n",
       "| P5       | 57       | 5.577200 | FALSE    |\n",
       "| P6       | 80       | 4.620755 |  TRUE    |\n",
       "\n"
      ],
      "text/plain": [
       "  Benh_nhan Can_nang Marker_X Chan_doan\n",
       "1 P1        71       5.946097 FALSE    \n",
       "2 P2        52       3.161691  TRUE    \n",
       "3 P3        76       4.248353 FALSE    \n",
       "4 P4        65       1.374332  TRUE    \n",
       "5 P5        57       5.577200 FALSE    \n",
       "6 P6        80       4.620755  TRUE    "
      ]
     },
     "metadata": {},
     "output_type": "display_data"
    }
   ],
   "source": [
    "d = data.frame(Benh_nhan = paste('P',rep(1:20),sep=''),\n",
    "               Can_nang = sample(50:80,20,replace=T),\n",
    "               Marker_X = rnorm(20,5,2),\n",
    "               Chan_doan = Float_Var < 6)\n",
    "\n",
    "head(d)"
   ]
  },
  {
   "cell_type": "markdown",
   "metadata": {},
   "source": [
    "Cẩn thận: hàm data.frame không cho phép sử dụng một cách thứ bậc và trực tiếp các object bên trong, trừ khi chúng đã được có sẵn từ trước. Chỉ có hàm data_frame() của tidyverse mới cho phép điều này:"
   ]
  },
  {
   "cell_type": "code",
   "execution_count": 61,
   "metadata": {},
   "outputs": [
    {
     "ename": "ERROR",
     "evalue": "Error in data.frame(Benh_nhan = paste(\"P\", rep(1:20), sep = \"\"), Can_nang = sample(50:80, : objet 'Marker_X' introuvable\n",
     "output_type": "error",
     "traceback": [
      "Error in data.frame(Benh_nhan = paste(\"P\", rep(1:20), sep = \"\"), Can_nang = sample(50:80, : objet 'Marker_X' introuvable\nTraceback:\n",
      "1. data.frame(Benh_nhan = paste(\"P\", rep(1:20), sep = \"\"), Can_nang = sample(50:80, \n .     20, replace = T), Marker_X = rnorm(20, 5, 2), Chan_doan = Marker_X < \n .     6)"
     ]
    }
   ],
   "source": [
    "d = data.frame(Benh_nhan = paste('P',rep(1:20),sep=''),\n",
    "               Can_nang = sample(50:80,20,replace=T),\n",
    "               Marker_X = rnorm(20,5,2),\n",
    "               Chan_doan = Marker_X  < 6)\n",
    "\n",
    "head(d)"
   ]
  },
  {
   "cell_type": "markdown",
   "metadata": {},
   "source": [
    "Hàm colnames() sẽ cho phép liệt kê tất cả tên cột (biến) trong dataframe:"
   ]
  },
  {
   "cell_type": "code",
   "execution_count": 9,
   "metadata": {},
   "outputs": [
    {
     "data": {
      "text/html": [
       "<ol class=list-inline>\n",
       "\t<li>'Benh_nhan'</li>\n",
       "\t<li>'Can_nang'</li>\n",
       "\t<li>'Marker_X'</li>\n",
       "\t<li>'Chan_doan'</li>\n",
       "</ol>\n"
      ],
      "text/latex": [
       "\\begin{enumerate*}\n",
       "\\item 'Benh\\_nhan'\n",
       "\\item 'Can\\_nang'\n",
       "\\item 'Marker\\_X'\n",
       "\\item 'Chan\\_doan'\n",
       "\\end{enumerate*}\n"
      ],
      "text/markdown": [
       "1. 'Benh_nhan'\n",
       "2. 'Can_nang'\n",
       "3. 'Marker_X'\n",
       "4. 'Chan_doan'\n",
       "\n",
       "\n"
      ],
      "text/plain": [
       "[1] \"Benh_nhan\" \"Can_nang\"  \"Marker_X\"  \"Chan_doan\""
      ]
     },
     "metadata": {},
     "output_type": "display_data"
    }
   ],
   "source": [
    "colnames(d)"
   ]
  },
  {
   "cell_type": "markdown",
   "metadata": {},
   "source": [
    "Do đó ta có thể dùng colmanes để đặt lại tên biến sau khi tải dữ liệu vào R:"
   ]
  },
  {
   "cell_type": "code",
   "execution_count": 12,
   "metadata": {},
   "outputs": [
    {
     "data": {
      "text/html": [
       "<table>\n",
       "<thead><tr><th scope=col>ID</th><th scope=col>Weight</th><th scope=col>X</th><th scope=col>Y</th></tr></thead>\n",
       "<tbody>\n",
       "\t<tr><td>P1      </td><td>74      </td><td>2.173802</td><td>FALSE   </td></tr>\n",
       "\t<tr><td>P2      </td><td>73      </td><td>6.134807</td><td> TRUE   </td></tr>\n",
       "\t<tr><td>P3      </td><td>76      </td><td>6.166375</td><td>FALSE   </td></tr>\n",
       "\t<tr><td>P4      </td><td>69      </td><td>2.386402</td><td> TRUE   </td></tr>\n",
       "\t<tr><td>P5      </td><td>51      </td><td>3.919228</td><td>FALSE   </td></tr>\n",
       "\t<tr><td>P6      </td><td>61      </td><td>8.895385</td><td> TRUE   </td></tr>\n",
       "</tbody>\n",
       "</table>\n"
      ],
      "text/latex": [
       "\\begin{tabular}{r|llll}\n",
       " ID & Weight & X & Y\\\\\n",
       "\\hline\n",
       "\t P1       & 74       & 2.173802 & FALSE   \\\\\n",
       "\t P2       & 73       & 6.134807 &  TRUE   \\\\\n",
       "\t P3       & 76       & 6.166375 & FALSE   \\\\\n",
       "\t P4       & 69       & 2.386402 &  TRUE   \\\\\n",
       "\t P5       & 51       & 3.919228 & FALSE   \\\\\n",
       "\t P6       & 61       & 8.895385 &  TRUE   \\\\\n",
       "\\end{tabular}\n"
      ],
      "text/markdown": [
       "\n",
       "| ID | Weight | X | Y |\n",
       "|---|---|---|---|\n",
       "| P1       | 74       | 2.173802 | FALSE    |\n",
       "| P2       | 73       | 6.134807 |  TRUE    |\n",
       "| P3       | 76       | 6.166375 | FALSE    |\n",
       "| P4       | 69       | 2.386402 |  TRUE    |\n",
       "| P5       | 51       | 3.919228 | FALSE    |\n",
       "| P6       | 61       | 8.895385 |  TRUE    |\n",
       "\n"
      ],
      "text/plain": [
       "  ID Weight X        Y    \n",
       "1 P1 74     2.173802 FALSE\n",
       "2 P2 73     6.134807  TRUE\n",
       "3 P3 76     6.166375 FALSE\n",
       "4 P4 69     2.386402  TRUE\n",
       "5 P5 51     3.919228 FALSE\n",
       "6 P6 61     8.895385  TRUE"
      ]
     },
     "metadata": {},
     "output_type": "display_data"
    }
   ],
   "source": [
    "colnames(d) <- c('ID','Weight','X','Y')\n",
    "\n",
    "head(d)"
   ]
  },
  {
   "cell_type": "markdown",
   "metadata": {},
   "source": [
    "# Tương đồng và khác biệt giữa dataframe và matrix\n",
    "\n",
    "## Dataframe và matrix có thể tương đồng, nhưng không tương đương\n",
    "\n",
    "Về hình thức, dataframe rất giống như matrix, và rất nhiều thao tác trên matrix cũng áp dụng được cho dataframe, tuy nhiên dataframe và matrix là 2 cấu trúc hoàn toàn khác nhau về tính năng, chúng không hề tương đương. Sự ngộ nhận về tính tương đương dẫn đến kết quả không mong muốn khi áp dụng trên thực tế.\n",
    "\n",
    "Dataframe tương đồng với matrix khi thỏa 2 điều kiện:\n",
    "\n",
    "1) Toàn bộ dữ liệu bên trong (tất cả các cột) thuộc cùng 1 kiểu (thí dụ đều là numeric, integer, boolean, character hay factor), \n",
    "\n",
    "và 2) có cùng hệ thống index (tên cột, tên hàng)\n",
    "\n",
    "Trong thí dụ sau : dataframe df và matrix mat là tương đương: Lúc này ta có thể dùng hàm as.data.frame() để chuyển matrix thành dataframe:"
   ]
  },
  {
   "cell_type": "code",
   "execution_count": 20,
   "metadata": {},
   "outputs": [
    {
     "data": {
      "text/html": [
       "'matrix'"
      ],
      "text/latex": [
       "'matrix'"
      ],
      "text/markdown": [
       "'matrix'"
      ],
      "text/plain": [
       "[1] \"matrix\""
      ]
     },
     "metadata": {},
     "output_type": "display_data"
    },
    {
     "data": {
      "text/html": [
       "<table>\n",
       "<thead><tr><th scope=col>V1</th><th scope=col>V2</th><th scope=col>V3</th><th scope=col>V4</th><th scope=col>V5</th></tr></thead>\n",
       "<tbody>\n",
       "\t<tr><td>2.412569</td><td>1.905416</td><td>6.096796</td><td>8.398693</td><td>5.606302</td></tr>\n",
       "\t<tr><td>3.810602</td><td>6.699306</td><td>5.390564</td><td>4.311402</td><td>4.516052</td></tr>\n",
       "\t<tr><td>1.998372</td><td>6.792026</td><td>3.387004</td><td>5.135544</td><td>4.036533</td></tr>\n",
       "\t<tr><td>5.031711</td><td>5.277382</td><td>4.782752</td><td>3.698861</td><td>3.016394</td></tr>\n",
       "\t<tr><td>6.080339</td><td>1.761343</td><td>4.498107</td><td>4.024723</td><td>4.438702</td></tr>\n",
       "</tbody>\n",
       "</table>\n"
      ],
      "text/latex": [
       "\\begin{tabular}{r|lllll}\n",
       " V1 & V2 & V3 & V4 & V5\\\\\n",
       "\\hline\n",
       "\t 2.412569 & 1.905416 & 6.096796 & 8.398693 & 5.606302\\\\\n",
       "\t 3.810602 & 6.699306 & 5.390564 & 4.311402 & 4.516052\\\\\n",
       "\t 1.998372 & 6.792026 & 3.387004 & 5.135544 & 4.036533\\\\\n",
       "\t 5.031711 & 5.277382 & 4.782752 & 3.698861 & 3.016394\\\\\n",
       "\t 6.080339 & 1.761343 & 4.498107 & 4.024723 & 4.438702\\\\\n",
       "\\end{tabular}\n"
      ],
      "text/markdown": [
       "\n",
       "| V1 | V2 | V3 | V4 | V5 |\n",
       "|---|---|---|---|---|\n",
       "| 2.412569 | 1.905416 | 6.096796 | 8.398693 | 5.606302 |\n",
       "| 3.810602 | 6.699306 | 5.390564 | 4.311402 | 4.516052 |\n",
       "| 1.998372 | 6.792026 | 3.387004 | 5.135544 | 4.036533 |\n",
       "| 5.031711 | 5.277382 | 4.782752 | 3.698861 | 3.016394 |\n",
       "| 6.080339 | 1.761343 | 4.498107 | 4.024723 | 4.438702 |\n",
       "\n"
      ],
      "text/plain": [
       "         col_names\n",
       "row_names V1       V2       V3       V4       V5      \n",
       "        1 2.412569 1.905416 6.096796 8.398693 5.606302\n",
       "        2 3.810602 6.699306 5.390564 4.311402 4.516052\n",
       "        3 1.998372 6.792026 3.387004 5.135544 4.036533\n",
       "        4 5.031711 5.277382 4.782752 3.698861 3.016394\n",
       "        5 6.080339 1.761343 4.498107 4.024723 4.438702"
      ]
     },
     "metadata": {},
     "output_type": "display_data"
    }
   ],
   "source": [
    "mat = matrix(rnorm(25,5,2),5,5,\n",
    "            dimnames = list(row_names = c(1:5),\n",
    "                col_names = paste('V',c(1:5), sep=''))\n",
    "            )\n",
    "\n",
    "class(mat)\n",
    "\n",
    "mat"
   ]
  },
  {
   "cell_type": "code",
   "execution_count": 21,
   "metadata": {},
   "outputs": [
    {
     "data": {
      "text/html": [
       "'data.frame'"
      ],
      "text/latex": [
       "'data.frame'"
      ],
      "text/markdown": [
       "'data.frame'"
      ],
      "text/plain": [
       "[1] \"data.frame\""
      ]
     },
     "metadata": {},
     "output_type": "display_data"
    },
    {
     "data": {
      "text/html": [
       "<table>\n",
       "<thead><tr><th scope=col>V1</th><th scope=col>V2</th><th scope=col>V3</th><th scope=col>V4</th><th scope=col>V5</th></tr></thead>\n",
       "<tbody>\n",
       "\t<tr><td>2.412569</td><td>1.905416</td><td>6.096796</td><td>8.398693</td><td>5.606302</td></tr>\n",
       "\t<tr><td>3.810602</td><td>6.699306</td><td>5.390564</td><td>4.311402</td><td>4.516052</td></tr>\n",
       "\t<tr><td>1.998372</td><td>6.792026</td><td>3.387004</td><td>5.135544</td><td>4.036533</td></tr>\n",
       "\t<tr><td>5.031711</td><td>5.277382</td><td>4.782752</td><td>3.698861</td><td>3.016394</td></tr>\n",
       "\t<tr><td>6.080339</td><td>1.761343</td><td>4.498107</td><td>4.024723</td><td>4.438702</td></tr>\n",
       "</tbody>\n",
       "</table>\n"
      ],
      "text/latex": [
       "\\begin{tabular}{r|lllll}\n",
       " V1 & V2 & V3 & V4 & V5\\\\\n",
       "\\hline\n",
       "\t 2.412569 & 1.905416 & 6.096796 & 8.398693 & 5.606302\\\\\n",
       "\t 3.810602 & 6.699306 & 5.390564 & 4.311402 & 4.516052\\\\\n",
       "\t 1.998372 & 6.792026 & 3.387004 & 5.135544 & 4.036533\\\\\n",
       "\t 5.031711 & 5.277382 & 4.782752 & 3.698861 & 3.016394\\\\\n",
       "\t 6.080339 & 1.761343 & 4.498107 & 4.024723 & 4.438702\\\\\n",
       "\\end{tabular}\n"
      ],
      "text/markdown": [
       "\n",
       "| V1 | V2 | V3 | V4 | V5 |\n",
       "|---|---|---|---|---|\n",
       "| 2.412569 | 1.905416 | 6.096796 | 8.398693 | 5.606302 |\n",
       "| 3.810602 | 6.699306 | 5.390564 | 4.311402 | 4.516052 |\n",
       "| 1.998372 | 6.792026 | 3.387004 | 5.135544 | 4.036533 |\n",
       "| 5.031711 | 5.277382 | 4.782752 | 3.698861 | 3.016394 |\n",
       "| 6.080339 | 1.761343 | 4.498107 | 4.024723 | 4.438702 |\n",
       "\n"
      ],
      "text/plain": [
       "  V1       V2       V3       V4       V5      \n",
       "1 2.412569 1.905416 6.096796 8.398693 5.606302\n",
       "2 3.810602 6.699306 5.390564 4.311402 4.516052\n",
       "3 1.998372 6.792026 3.387004 5.135544 4.036533\n",
       "4 5.031711 5.277382 4.782752 3.698861 3.016394\n",
       "5 6.080339 1.761343 4.498107 4.024723 4.438702"
      ]
     },
     "metadata": {},
     "output_type": "display_data"
    }
   ],
   "source": [
    "df = as.data.frame(mat)\n",
    "\n",
    "class(df)\n",
    "\n",
    "df"
   ]
  },
  {
   "cell_type": "markdown",
   "metadata": {},
   "source": [
    "Dĩ nhiên ta cũng có thể làm ngược lại: hoán chuyển dataframe thành matrix:"
   ]
  },
  {
   "cell_type": "code",
   "execution_count": 23,
   "metadata": {},
   "outputs": [
    {
     "data": {
      "text/html": [
       "<table>\n",
       "<thead><tr><th scope=col>V1</th><th scope=col>V2</th><th scope=col>V3</th><th scope=col>V4</th><th scope=col>V5</th></tr></thead>\n",
       "<tbody>\n",
       "\t<tr><td>2.412569</td><td>1.905416</td><td>6.096796</td><td>8.398693</td><td>5.606302</td></tr>\n",
       "\t<tr><td>3.810602</td><td>6.699306</td><td>5.390564</td><td>4.311402</td><td>4.516052</td></tr>\n",
       "\t<tr><td>1.998372</td><td>6.792026</td><td>3.387004</td><td>5.135544</td><td>4.036533</td></tr>\n",
       "\t<tr><td>5.031711</td><td>5.277382</td><td>4.782752</td><td>3.698861</td><td>3.016394</td></tr>\n",
       "\t<tr><td>6.080339</td><td>1.761343</td><td>4.498107</td><td>4.024723</td><td>4.438702</td></tr>\n",
       "</tbody>\n",
       "</table>\n"
      ],
      "text/latex": [
       "\\begin{tabular}{r|lllll}\n",
       " V1 & V2 & V3 & V4 & V5\\\\\n",
       "\\hline\n",
       "\t 2.412569 & 1.905416 & 6.096796 & 8.398693 & 5.606302\\\\\n",
       "\t 3.810602 & 6.699306 & 5.390564 & 4.311402 & 4.516052\\\\\n",
       "\t 1.998372 & 6.792026 & 3.387004 & 5.135544 & 4.036533\\\\\n",
       "\t 5.031711 & 5.277382 & 4.782752 & 3.698861 & 3.016394\\\\\n",
       "\t 6.080339 & 1.761343 & 4.498107 & 4.024723 & 4.438702\\\\\n",
       "\\end{tabular}\n"
      ],
      "text/markdown": [
       "\n",
       "| V1 | V2 | V3 | V4 | V5 |\n",
       "|---|---|---|---|---|\n",
       "| 2.412569 | 1.905416 | 6.096796 | 8.398693 | 5.606302 |\n",
       "| 3.810602 | 6.699306 | 5.390564 | 4.311402 | 4.516052 |\n",
       "| 1.998372 | 6.792026 | 3.387004 | 5.135544 | 4.036533 |\n",
       "| 5.031711 | 5.277382 | 4.782752 | 3.698861 | 3.016394 |\n",
       "| 6.080339 | 1.761343 | 4.498107 | 4.024723 | 4.438702 |\n",
       "\n"
      ],
      "text/plain": [
       "  V1       V2       V3       V4       V5      \n",
       "1 2.412569 1.905416 6.096796 8.398693 5.606302\n",
       "2 3.810602 6.699306 5.390564 4.311402 4.516052\n",
       "3 1.998372 6.792026 3.387004 5.135544 4.036533\n",
       "4 5.031711 5.277382 4.782752 3.698861 3.016394\n",
       "5 6.080339 1.761343 4.498107 4.024723 4.438702"
      ]
     },
     "metadata": {},
     "output_type": "display_data"
    }
   ],
   "source": [
    "mat = as.matrix(df)\n",
    "\n",
    "mat"
   ]
  },
  {
   "cell_type": "markdown",
   "metadata": {},
   "source": [
    "Tuy nhiên, ngay cả khi dataframe tương đồng với matrix về mặt hình thức, nội dung, sự tương đồng này chỉ có ý nghĩa 1 chiều: Ta có thể dùng hầu hết (không phải tất cả) method của matrix cho dataframe (trích xuất/thay đổi dữ liệu, khảo sát, tính toán...), nhưng ngược lại thì không: nhiều method dành riêng cho dataframe không thể áp dụng cho matrix. Mặt khác, một số hàm / package quy định input phải là dataframe thì ta không thể dùng matrix\n",
    "\n",
    "Thí dụ, dataframe cho phép trích xuất 1 cột bằng toán tử \"$\", nhưng matrix thì không:"
   ]
  },
  {
   "cell_type": "code",
   "execution_count": 26,
   "metadata": {},
   "outputs": [
    {
     "data": {
      "text/html": [
       "<ol class=list-inline>\n",
       "\t<li>2.41256941993492</li>\n",
       "\t<li>3.81060246185821</li>\n",
       "\t<li>1.99837183955832</li>\n",
       "\t<li>5.03171138613112</li>\n",
       "\t<li>6.08033913538444</li>\n",
       "</ol>\n"
      ],
      "text/latex": [
       "\\begin{enumerate*}\n",
       "\\item 2.41256941993492\n",
       "\\item 3.81060246185821\n",
       "\\item 1.99837183955832\n",
       "\\item 5.03171138613112\n",
       "\\item 6.08033913538444\n",
       "\\end{enumerate*}\n"
      ],
      "text/markdown": [
       "1. 2.41256941993492\n",
       "2. 3.81060246185821\n",
       "3. 1.99837183955832\n",
       "4. 5.03171138613112\n",
       "5. 6.08033913538444\n",
       "\n",
       "\n"
      ],
      "text/plain": [
       "[1] 2.412569 3.810602 1.998372 5.031711 6.080339"
      ]
     },
     "metadata": {},
     "output_type": "display_data"
    }
   ],
   "source": [
    "df$V1"
   ]
  },
  {
   "cell_type": "code",
   "execution_count": 27,
   "metadata": {},
   "outputs": [
    {
     "ename": "ERROR",
     "evalue": "Error in mat$V1: $ operator is invalid for atomic vectors\n",
     "output_type": "error",
     "traceback": [
      "Error in mat$V1: $ operator is invalid for atomic vectors\nTraceback:\n"
     ]
    }
   ],
   "source": [
    "mat$V1"
   ]
  },
  {
   "cell_type": "markdown",
   "metadata": {},
   "source": [
    "Tương tự, ta không thể dùng matrix làm input cho hàm ggplot hay glm"
   ]
  },
  {
   "cell_type": "code",
   "execution_count": 28,
   "metadata": {},
   "outputs": [
    {
     "name": "stderr",
     "output_type": "stream",
     "text": [
      "Registered S3 methods overwritten by 'ggplot2':\n",
      "  method         from \n",
      "  [.quosures     rlang\n",
      "  c.quosures     rlang\n",
      "  print.quosures rlang\n"
     ]
    },
    {
     "ename": "ERROR",
     "evalue": "Error: `data` must be a data frame, or other object coercible by `fortify()`, not a numeric vector\n",
     "output_type": "error",
     "traceback": [
      "Error: `data` must be a data frame, or other object coercible by `fortify()`, not a numeric vector\nTraceback:\n",
      "1. ggplot(data = mat, aes(x = V1, y = V2))",
      "2. ggplot.default(data = mat, aes(x = V1, y = V2))",
      "3. fortify(data, ...)",
      "4. fortify.default(data, ...)",
      "5. stop(msg, call. = FALSE)"
     ]
    }
   ],
   "source": [
    "library(ggplot2)\n",
    "\n",
    "ggplot(data = mat, aes(x = V1, y = V2))+ geom_point()"
   ]
  },
  {
   "cell_type": "code",
   "execution_count": 30,
   "metadata": {},
   "outputs": [
    {
     "ename": "ERROR",
     "evalue": "Error in model.frame.default(formula = V1 ~ ., data = mat, drop.unused.levels = TRUE): 'data' must be a data.frame, not a matrix or an array\n",
     "output_type": "error",
     "traceback": [
      "Error in model.frame.default(formula = V1 ~ ., data = mat, drop.unused.levels = TRUE): 'data' must be a data.frame, not a matrix or an array\nTraceback:\n",
      "1. glm(data = mat, V1 ~ .)",
      "2. eval(mf, parent.frame())",
      "3. eval(mf, parent.frame())",
      "4. stats::model.frame(formula = V1 ~ ., data = mat, drop.unused.levels = TRUE)",
      "5. model.frame.default(formula = V1 ~ ., data = mat, drop.unused.levels = TRUE)",
      "6. stop(\"'data' must be a data.frame, not a matrix or an array\")"
     ]
    }
   ],
   "source": [
    "glm(data = mat, V1 ~ .)"
   ]
  },
  {
   "cell_type": "markdown",
   "metadata": {},
   "source": [
    "## Cẩn  trọng khi dùng cbind và rbind cho dataframe"
   ]
  },
  {
   "cell_type": "markdown",
   "metadata": {},
   "source": [
    "Hàm cbind và rbind là các method của matrix, chúng cũng hoạt động cho dataframe :\n",
    "\n",
    "Khi ghép 1 matrix và 1 dataframe bằng các hàm cbind, rbind, kết quả sẽ là dataframe:"
   ]
  },
  {
   "cell_type": "code",
   "execution_count": 41,
   "metadata": {},
   "outputs": [
    {
     "data": {
      "text/html": [
       "<table>\n",
       "<thead><tr><th scope=col>V1</th><th scope=col>V2</th></tr></thead>\n",
       "<tbody>\n",
       "\t<tr><td>1 </td><td> 6</td></tr>\n",
       "\t<tr><td>2 </td><td> 7</td></tr>\n",
       "\t<tr><td>3 </td><td> 8</td></tr>\n",
       "\t<tr><td>4 </td><td> 9</td></tr>\n",
       "\t<tr><td>5 </td><td>10</td></tr>\n",
       "</tbody>\n",
       "</table>\n"
      ],
      "text/latex": [
       "\\begin{tabular}{ll}\n",
       " V1 & V2\\\\\n",
       "\\hline\n",
       "\t 1  &  6\\\\\n",
       "\t 2  &  7\\\\\n",
       "\t 3  &  8\\\\\n",
       "\t 4  &  9\\\\\n",
       "\t 5  & 10\\\\\n",
       "\\end{tabular}\n"
      ],
      "text/markdown": [
       "\n",
       "| V1 | V2 |\n",
       "|---|---|\n",
       "| 1  |  6 |\n",
       "| 2  |  7 |\n",
       "| 3  |  8 |\n",
       "| 4  |  9 |\n",
       "| 5  | 10 |\n",
       "\n"
      ],
      "text/plain": [
       "     V1 V2\n",
       "[1,] 1   6\n",
       "[2,] 2   7\n",
       "[3,] 3   8\n",
       "[4,] 4   9\n",
       "[5,] 5  10"
      ]
     },
     "metadata": {},
     "output_type": "display_data"
    },
    {
     "data": {
      "text/html": [
       "<table>\n",
       "<thead><tr><th scope=col>V1</th><th scope=col>V2</th></tr></thead>\n",
       "<tbody>\n",
       "\t<tr><td>1 </td><td> 6</td></tr>\n",
       "\t<tr><td>2 </td><td> 7</td></tr>\n",
       "\t<tr><td>3 </td><td> 8</td></tr>\n",
       "\t<tr><td>4 </td><td> 9</td></tr>\n",
       "\t<tr><td>5 </td><td>10</td></tr>\n",
       "</tbody>\n",
       "</table>\n"
      ],
      "text/latex": [
       "\\begin{tabular}{r|ll}\n",
       " V1 & V2\\\\\n",
       "\\hline\n",
       "\t 1  &  6\\\\\n",
       "\t 2  &  7\\\\\n",
       "\t 3  &  8\\\\\n",
       "\t 4  &  9\\\\\n",
       "\t 5  & 10\\\\\n",
       "\\end{tabular}\n"
      ],
      "text/markdown": [
       "\n",
       "| V1 | V2 |\n",
       "|---|---|\n",
       "| 1  |  6 |\n",
       "| 2  |  7 |\n",
       "| 3  |  8 |\n",
       "| 4  |  9 |\n",
       "| 5  | 10 |\n",
       "\n"
      ],
      "text/plain": [
       "  V1 V2\n",
       "1 1   6\n",
       "2 2   7\n",
       "3 3   8\n",
       "4 4   9\n",
       "5 5  10"
      ]
     },
     "metadata": {},
     "output_type": "display_data"
    },
    {
     "data": {
      "text/html": [
       "<table>\n",
       "<thead><tr><th scope=col>V1</th><th scope=col>V2</th><th scope=col>V1</th><th scope=col>V2</th></tr></thead>\n",
       "<tbody>\n",
       "\t<tr><td>1 </td><td> 6</td><td>1 </td><td> 6</td></tr>\n",
       "\t<tr><td>2 </td><td> 7</td><td>2 </td><td> 7</td></tr>\n",
       "\t<tr><td>3 </td><td> 8</td><td>3 </td><td> 8</td></tr>\n",
       "\t<tr><td>4 </td><td> 9</td><td>4 </td><td> 9</td></tr>\n",
       "\t<tr><td>5 </td><td>10</td><td>5 </td><td>10</td></tr>\n",
       "</tbody>\n",
       "</table>\n"
      ],
      "text/latex": [
       "\\begin{tabular}{r|llll}\n",
       " V1 & V2 & V1 & V2\\\\\n",
       "\\hline\n",
       "\t 1  &  6 & 1  &  6\\\\\n",
       "\t 2  &  7 & 2  &  7\\\\\n",
       "\t 3  &  8 & 3  &  8\\\\\n",
       "\t 4  &  9 & 4  &  9\\\\\n",
       "\t 5  & 10 & 5  & 10\\\\\n",
       "\\end{tabular}\n"
      ],
      "text/markdown": [
       "\n",
       "| V1 | V2 | V1 | V2 |\n",
       "|---|---|---|---|\n",
       "| 1  |  6 | 1  |  6 |\n",
       "| 2  |  7 | 2  |  7 |\n",
       "| 3  |  8 | 3  |  8 |\n",
       "| 4  |  9 | 4  |  9 |\n",
       "| 5  | 10 | 5  | 10 |\n",
       "\n"
      ],
      "text/plain": [
       "  V1 V2 V1 V2\n",
       "1 1   6 1   6\n",
       "2 2   7 2   7\n",
       "3 3   8 3   8\n",
       "4 4   9 4   9\n",
       "5 5  10 5  10"
      ]
     },
     "metadata": {},
     "output_type": "display_data"
    },
    {
     "data": {
      "text/html": [
       "'data.frame'"
      ],
      "text/latex": [
       "'data.frame'"
      ],
      "text/markdown": [
       "'data.frame'"
      ],
      "text/plain": [
       "[1] \"data.frame\""
      ]
     },
     "metadata": {},
     "output_type": "display_data"
    },
    {
     "data": {
      "text/html": [
       "<table>\n",
       "<thead><tr><th scope=col>V1</th><th scope=col>V2</th></tr></thead>\n",
       "<tbody>\n",
       "\t<tr><td>1 </td><td> 6</td></tr>\n",
       "\t<tr><td>2 </td><td> 7</td></tr>\n",
       "\t<tr><td>3 </td><td> 8</td></tr>\n",
       "\t<tr><td>4 </td><td> 9</td></tr>\n",
       "\t<tr><td>5 </td><td>10</td></tr>\n",
       "\t<tr><td>1 </td><td> 6</td></tr>\n",
       "\t<tr><td>2 </td><td> 7</td></tr>\n",
       "\t<tr><td>3 </td><td> 8</td></tr>\n",
       "\t<tr><td>4 </td><td> 9</td></tr>\n",
       "\t<tr><td>5 </td><td>10</td></tr>\n",
       "</tbody>\n",
       "</table>\n"
      ],
      "text/latex": [
       "\\begin{tabular}{r|ll}\n",
       " V1 & V2\\\\\n",
       "\\hline\n",
       "\t 1  &  6\\\\\n",
       "\t 2  &  7\\\\\n",
       "\t 3  &  8\\\\\n",
       "\t 4  &  9\\\\\n",
       "\t 5  & 10\\\\\n",
       "\t 1  &  6\\\\\n",
       "\t 2  &  7\\\\\n",
       "\t 3  &  8\\\\\n",
       "\t 4  &  9\\\\\n",
       "\t 5  & 10\\\\\n",
       "\\end{tabular}\n"
      ],
      "text/markdown": [
       "\n",
       "| V1 | V2 |\n",
       "|---|---|\n",
       "| 1  |  6 |\n",
       "| 2  |  7 |\n",
       "| 3  |  8 |\n",
       "| 4  |  9 |\n",
       "| 5  | 10 |\n",
       "| 1  |  6 |\n",
       "| 2  |  7 |\n",
       "| 3  |  8 |\n",
       "| 4  |  9 |\n",
       "| 5  | 10 |\n",
       "\n"
      ],
      "text/plain": [
       "   V1 V2\n",
       "1  1   6\n",
       "2  2   7\n",
       "3  3   8\n",
       "4  4   9\n",
       "5  5  10\n",
       "6  1   6\n",
       "7  2   7\n",
       "8  3   8\n",
       "9  4   9\n",
       "10 5  10"
      ]
     },
     "metadata": {},
     "output_type": "display_data"
    },
    {
     "data": {
      "text/html": [
       "'data.frame'"
      ],
      "text/latex": [
       "'data.frame'"
      ],
      "text/markdown": [
       "'data.frame'"
      ],
      "text/plain": [
       "[1] \"data.frame\""
      ]
     },
     "metadata": {},
     "output_type": "display_data"
    }
   ],
   "source": [
    "m = matrix(c(1:10),5,2)\n",
    "\n",
    "colnames(m) = c('V1','V2')\n",
    "\n",
    "m\n",
    "\n",
    "d = as.data.frame(m)\n",
    "\n",
    "d\n",
    "\n",
    "oc = cbind(m,d)\n",
    "\n",
    "oc\n",
    "\n",
    "class(oc)\n",
    "\n",
    "or = rbind(m,d)\n",
    "\n",
    "or\n",
    "\n",
    "class(or)"
   ]
  },
  {
   "cell_type": "markdown",
   "metadata": {},
   "source": [
    "Tuy nhiên: cần chú ý là hệ thống chỉ mục (tên hàng, cột) trong matrix không chặt chẽ bằng dataframe, ta có thể dùng rbind thoải mái cho 2 matrix khác nhau về tên cột, nhưng không thể làm điều này cho dataframe hay ta cũng không thể ghép dataframe và matrix bằng rbind nếu tên cột khác nhau:"
   ]
  },
  {
   "cell_type": "code",
   "execution_count": 44,
   "metadata": {},
   "outputs": [
    {
     "data": {
      "text/html": [
       "<table>\n",
       "<thead><tr><th scope=col>V1</th><th scope=col>V2</th></tr></thead>\n",
       "<tbody>\n",
       "\t<tr><td>1 </td><td> 6</td></tr>\n",
       "\t<tr><td>2 </td><td> 7</td></tr>\n",
       "\t<tr><td>3 </td><td> 8</td></tr>\n",
       "\t<tr><td>4 </td><td> 9</td></tr>\n",
       "\t<tr><td>5 </td><td>10</td></tr>\n",
       "</tbody>\n",
       "</table>\n"
      ],
      "text/latex": [
       "\\begin{tabular}{ll}\n",
       " V1 & V2\\\\\n",
       "\\hline\n",
       "\t 1  &  6\\\\\n",
       "\t 2  &  7\\\\\n",
       "\t 3  &  8\\\\\n",
       "\t 4  &  9\\\\\n",
       "\t 5  & 10\\\\\n",
       "\\end{tabular}\n"
      ],
      "text/markdown": [
       "\n",
       "| V1 | V2 |\n",
       "|---|---|\n",
       "| 1  |  6 |\n",
       "| 2  |  7 |\n",
       "| 3  |  8 |\n",
       "| 4  |  9 |\n",
       "| 5  | 10 |\n",
       "\n"
      ],
      "text/plain": [
       "     V1 V2\n",
       "[1,] 1   6\n",
       "[2,] 2   7\n",
       "[3,] 3   8\n",
       "[4,] 4   9\n",
       "[5,] 5  10"
      ]
     },
     "metadata": {},
     "output_type": "display_data"
    },
    {
     "data": {
      "text/html": [
       "<table>\n",
       "<thead><tr><th scope=col>V3</th><th scope=col>V4</th></tr></thead>\n",
       "<tbody>\n",
       "\t<tr><td>2.24177504</td><td>0.9754777 </td></tr>\n",
       "\t<tr><td>1.20068249</td><td>0.7973063 </td></tr>\n",
       "\t<tr><td>1.10758859</td><td>1.5651909 </td></tr>\n",
       "\t<tr><td>0.09214382</td><td>1.4077324 </td></tr>\n",
       "\t<tr><td>0.54413029</td><td>1.0382088 </td></tr>\n",
       "</tbody>\n",
       "</table>\n"
      ],
      "text/latex": [
       "\\begin{tabular}{ll}\n",
       " V3 & V4\\\\\n",
       "\\hline\n",
       "\t 2.24177504 & 0.9754777 \\\\\n",
       "\t 1.20068249 & 0.7973063 \\\\\n",
       "\t 1.10758859 & 1.5651909 \\\\\n",
       "\t 0.09214382 & 1.4077324 \\\\\n",
       "\t 0.54413029 & 1.0382088 \\\\\n",
       "\\end{tabular}\n"
      ],
      "text/markdown": [
       "\n",
       "| V3 | V4 |\n",
       "|---|---|\n",
       "| 2.24177504 | 0.9754777  |\n",
       "| 1.20068249 | 0.7973063  |\n",
       "| 1.10758859 | 1.5651909  |\n",
       "| 0.09214382 | 1.4077324  |\n",
       "| 0.54413029 | 1.0382088  |\n",
       "\n"
      ],
      "text/plain": [
       "     V3         V4       \n",
       "[1,] 2.24177504 0.9754777\n",
       "[2,] 1.20068249 0.7973063\n",
       "[3,] 1.10758859 1.5651909\n",
       "[4,] 0.09214382 1.4077324\n",
       "[5,] 0.54413029 1.0382088"
      ]
     },
     "metadata": {},
     "output_type": "display_data"
    },
    {
     "data": {
      "text/html": [
       "<table>\n",
       "<thead><tr><th scope=col>V5</th><th scope=col>V6</th></tr></thead>\n",
       "<tbody>\n",
       "\t<tr><td>1</td><td>a</td></tr>\n",
       "\t<tr><td>2</td><td>b</td></tr>\n",
       "\t<tr><td>3</td><td>c</td></tr>\n",
       "\t<tr><td>4</td><td>d</td></tr>\n",
       "\t<tr><td>5</td><td>e</td></tr>\n",
       "</tbody>\n",
       "</table>\n"
      ],
      "text/latex": [
       "\\begin{tabular}{r|ll}\n",
       " V5 & V6\\\\\n",
       "\\hline\n",
       "\t 1 & a\\\\\n",
       "\t 2 & b\\\\\n",
       "\t 3 & c\\\\\n",
       "\t 4 & d\\\\\n",
       "\t 5 & e\\\\\n",
       "\\end{tabular}\n"
      ],
      "text/markdown": [
       "\n",
       "| V5 | V6 |\n",
       "|---|---|\n",
       "| 1 | a |\n",
       "| 2 | b |\n",
       "| 3 | c |\n",
       "| 4 | d |\n",
       "| 5 | e |\n",
       "\n"
      ],
      "text/plain": [
       "  V5 V6\n",
       "1 1  a \n",
       "2 2  b \n",
       "3 3  c \n",
       "4 4  d \n",
       "5 5  e "
      ]
     },
     "metadata": {},
     "output_type": "display_data"
    },
    {
     "data": {
      "text/html": [
       "<table>\n",
       "<thead><tr><th scope=col>V1</th><th scope=col>V2</th><th scope=col>V3</th><th scope=col>V4</th><th scope=col>V5</th><th scope=col>V6</th></tr></thead>\n",
       "<tbody>\n",
       "\t<tr><td>1         </td><td> 6        </td><td>2.24177504</td><td>0.9754777 </td><td>1         </td><td>a         </td></tr>\n",
       "\t<tr><td>2         </td><td> 7        </td><td>1.20068249</td><td>0.7973063 </td><td>2         </td><td>b         </td></tr>\n",
       "\t<tr><td>3         </td><td> 8        </td><td>1.10758859</td><td>1.5651909 </td><td>3         </td><td>c         </td></tr>\n",
       "\t<tr><td>4         </td><td> 9        </td><td>0.09214382</td><td>1.4077324 </td><td>4         </td><td>d         </td></tr>\n",
       "\t<tr><td>5         </td><td>10        </td><td>0.54413029</td><td>1.0382088 </td><td>5         </td><td>e         </td></tr>\n",
       "</tbody>\n",
       "</table>\n"
      ],
      "text/latex": [
       "\\begin{tabular}{r|llllll}\n",
       " V1 & V2 & V3 & V4 & V5 & V6\\\\\n",
       "\\hline\n",
       "\t 1          &  6         & 2.24177504 & 0.9754777  & 1          & a         \\\\\n",
       "\t 2          &  7         & 1.20068249 & 0.7973063  & 2          & b         \\\\\n",
       "\t 3          &  8         & 1.10758859 & 1.5651909  & 3          & c         \\\\\n",
       "\t 4          &  9         & 0.09214382 & 1.4077324  & 4          & d         \\\\\n",
       "\t 5          & 10         & 0.54413029 & 1.0382088  & 5          & e         \\\\\n",
       "\\end{tabular}\n"
      ],
      "text/markdown": [
       "\n",
       "| V1 | V2 | V3 | V4 | V5 | V6 |\n",
       "|---|---|---|---|---|---|\n",
       "| 1          |  6         | 2.24177504 | 0.9754777  | 1          | a          |\n",
       "| 2          |  7         | 1.20068249 | 0.7973063  | 2          | b          |\n",
       "| 3          |  8         | 1.10758859 | 1.5651909  | 3          | c          |\n",
       "| 4          |  9         | 0.09214382 | 1.4077324  | 4          | d          |\n",
       "| 5          | 10         | 0.54413029 | 1.0382088  | 5          | e          |\n",
       "\n"
      ],
      "text/plain": [
       "  V1 V2 V3         V4        V5 V6\n",
       "1 1   6 2.24177504 0.9754777 1  a \n",
       "2 2   7 1.20068249 0.7973063 2  b \n",
       "3 3   8 1.10758859 1.5651909 3  c \n",
       "4 4   9 0.09214382 1.4077324 4  d \n",
       "5 5  10 0.54413029 1.0382088 5  e "
      ]
     },
     "metadata": {},
     "output_type": "display_data"
    },
    {
     "data": {
      "text/html": [
       "'data.frame'"
      ],
      "text/latex": [
       "'data.frame'"
      ],
      "text/markdown": [
       "'data.frame'"
      ],
      "text/plain": [
       "[1] \"data.frame\""
      ]
     },
     "metadata": {},
     "output_type": "display_data"
    },
    {
     "data": {
      "text/html": [
       "<table>\n",
       "<thead><tr><th scope=col>V1</th><th scope=col>V2</th></tr></thead>\n",
       "<tbody>\n",
       "\t<tr><td>1.00000000</td><td> 6.0000000</td></tr>\n",
       "\t<tr><td>2.00000000</td><td> 7.0000000</td></tr>\n",
       "\t<tr><td>3.00000000</td><td> 8.0000000</td></tr>\n",
       "\t<tr><td>4.00000000</td><td> 9.0000000</td></tr>\n",
       "\t<tr><td>5.00000000</td><td>10.0000000</td></tr>\n",
       "\t<tr><td>2.24177504</td><td> 0.9754777</td></tr>\n",
       "\t<tr><td>1.20068249</td><td> 0.7973063</td></tr>\n",
       "\t<tr><td>1.10758859</td><td> 1.5651909</td></tr>\n",
       "\t<tr><td>0.09214382</td><td> 1.4077324</td></tr>\n",
       "\t<tr><td>0.54413029</td><td> 1.0382088</td></tr>\n",
       "</tbody>\n",
       "</table>\n"
      ],
      "text/latex": [
       "\\begin{tabular}{ll}\n",
       " V1 & V2\\\\\n",
       "\\hline\n",
       "\t 1.00000000 &  6.0000000\\\\\n",
       "\t 2.00000000 &  7.0000000\\\\\n",
       "\t 3.00000000 &  8.0000000\\\\\n",
       "\t 4.00000000 &  9.0000000\\\\\n",
       "\t 5.00000000 & 10.0000000\\\\\n",
       "\t 2.24177504 &  0.9754777\\\\\n",
       "\t 1.20068249 &  0.7973063\\\\\n",
       "\t 1.10758859 &  1.5651909\\\\\n",
       "\t 0.09214382 &  1.4077324\\\\\n",
       "\t 0.54413029 &  1.0382088\\\\\n",
       "\\end{tabular}\n"
      ],
      "text/markdown": [
       "\n",
       "| V1 | V2 |\n",
       "|---|---|\n",
       "| 1.00000000 |  6.0000000 |\n",
       "| 2.00000000 |  7.0000000 |\n",
       "| 3.00000000 |  8.0000000 |\n",
       "| 4.00000000 |  9.0000000 |\n",
       "| 5.00000000 | 10.0000000 |\n",
       "| 2.24177504 |  0.9754777 |\n",
       "| 1.20068249 |  0.7973063 |\n",
       "| 1.10758859 |  1.5651909 |\n",
       "| 0.09214382 |  1.4077324 |\n",
       "| 0.54413029 |  1.0382088 |\n",
       "\n"
      ],
      "text/plain": [
       "      V1         V2        \n",
       " [1,] 1.00000000  6.0000000\n",
       " [2,] 2.00000000  7.0000000\n",
       " [3,] 3.00000000  8.0000000\n",
       " [4,] 4.00000000  9.0000000\n",
       " [5,] 5.00000000 10.0000000\n",
       " [6,] 2.24177504  0.9754777\n",
       " [7,] 1.20068249  0.7973063\n",
       " [8,] 1.10758859  1.5651909\n",
       " [9,] 0.09214382  1.4077324\n",
       "[10,] 0.54413029  1.0382088"
      ]
     },
     "metadata": {},
     "output_type": "display_data"
    },
    {
     "data": {
      "text/html": [
       "'matrix'"
      ],
      "text/latex": [
       "'matrix'"
      ],
      "text/markdown": [
       "'matrix'"
      ],
      "text/plain": [
       "[1] \"matrix\""
      ]
     },
     "metadata": {},
     "output_type": "display_data"
    },
    {
     "ename": "ERROR",
     "evalue": "Error in match.names(clabs, names(xi)): names do not match previous names\n",
     "output_type": "error",
     "traceback": [
      "Error in match.names(clabs, names(xi)): names do not match previous names\nTraceback:\n",
      "1. rbind(m1, m2, d)",
      "2. rbind(deparse.level, ...)",
      "3. match.names(clabs, names(xi))",
      "4. stop(\"names do not match previous names\")"
     ]
    }
   ],
   "source": [
    "m1 = matrix(c(1:10),5,2)\n",
    "\n",
    "colnames(m1) = c('V1','V2')\n",
    "\n",
    "m1\n",
    "\n",
    "m2 = matrix(rnorm(10,1,0.5),5,2)\n",
    "\n",
    "colnames(m2) = c('V3','V4')\n",
    "\n",
    "m2\n",
    "\n",
    "d = data.frame(V5 = c(1:5),\n",
    "               V6 = c('a','b','c','d','e'))\n",
    "\n",
    "d\n",
    "\n",
    "oc = cbind(m1,m2,d)\n",
    "\n",
    "oc\n",
    "\n",
    "class(oc)\n",
    "\n",
    "or_m = rbind(m1,m2)\n",
    "\n",
    "or_m\n",
    "\n",
    "class(or_m)\n",
    "\n",
    "or_d = rbind(m1,m2,d)"
   ]
  },
  {
   "cell_type": "markdown",
   "metadata": {},
   "source": [
    "## Những thao tác trên dataframe như matrix\n",
    "\n",
    "Nhiều method của matrix có thể áp dụng cho dataframe, thí dụ:\n",
    "\n",
    "### Trích xuất dữ liệu:"
   ]
  },
  {
   "cell_type": "code",
   "execution_count": 69,
   "metadata": {},
   "outputs": [
    {
     "data": {
      "text/html": [
       "<table>\n",
       "<thead><tr><th scope=col>V1</th><th scope=col>V2</th><th scope=col>V3</th><th scope=col>V4</th><th scope=col>V5</th></tr></thead>\n",
       "<tbody>\n",
       "\t<tr><td>1 </td><td> 7</td><td>13</td><td>19</td><td>25</td></tr>\n",
       "\t<tr><td>2 </td><td> 8</td><td>14</td><td>20</td><td>26</td></tr>\n",
       "\t<tr><td>3 </td><td> 9</td><td>15</td><td>21</td><td>27</td></tr>\n",
       "\t<tr><td>4 </td><td>10</td><td>16</td><td>22</td><td>28</td></tr>\n",
       "\t<tr><td>5 </td><td>11</td><td>17</td><td>23</td><td>29</td></tr>\n",
       "\t<tr><td>6 </td><td>12</td><td>18</td><td>24</td><td>30</td></tr>\n",
       "</tbody>\n",
       "</table>\n"
      ],
      "text/latex": [
       "\\begin{tabular}{r|lllll}\n",
       " V1 & V2 & V3 & V4 & V5\\\\\n",
       "\\hline\n",
       "\t 1  &  7 & 13 & 19 & 25\\\\\n",
       "\t 2  &  8 & 14 & 20 & 26\\\\\n",
       "\t 3  &  9 & 15 & 21 & 27\\\\\n",
       "\t 4  & 10 & 16 & 22 & 28\\\\\n",
       "\t 5  & 11 & 17 & 23 & 29\\\\\n",
       "\t 6  & 12 & 18 & 24 & 30\\\\\n",
       "\\end{tabular}\n"
      ],
      "text/markdown": [
       "\n",
       "| V1 | V2 | V3 | V4 | V5 |\n",
       "|---|---|---|---|---|\n",
       "| 1  |  7 | 13 | 19 | 25 |\n",
       "| 2  |  8 | 14 | 20 | 26 |\n",
       "| 3  |  9 | 15 | 21 | 27 |\n",
       "| 4  | 10 | 16 | 22 | 28 |\n",
       "| 5  | 11 | 17 | 23 | 29 |\n",
       "| 6  | 12 | 18 | 24 | 30 |\n",
       "\n"
      ],
      "text/plain": [
       "  V1 V2 V3 V4 V5\n",
       "1 1   7 13 19 25\n",
       "2 2   8 14 20 26\n",
       "3 3   9 15 21 27\n",
       "4 4  10 16 22 28\n",
       "5 5  11 17 23 29\n",
       "6 6  12 18 24 30"
      ]
     },
     "metadata": {},
     "output_type": "display_data"
    }
   ],
   "source": [
    "df = as.data.frame(matrix(c(1:30),6,5))\n",
    "\n",
    "df"
   ]
  },
  {
   "cell_type": "markdown",
   "metadata": {},
   "source": [
    "Tương tự matrix, ta sử dụng method [ ] để trích xuất dữ liệu từ dataframe, với 2 tham số: hàng và cột: Hệ thống index của R đếm từ 1, thí dụ df[3,2] là hàng thứ 3 của cột thứ 2. Ta có thể trích xuất tọa độ của 1 ô trong dataframe, nhiều quan sát (hàng) của một biến (cột), nhiều biến (cột) cho 1 cá thể (hàng), liên tục, rải rác hay 1 phần của dataframe."
   ]
  },
  {
   "cell_type": "code",
   "execution_count": 72,
   "metadata": {},
   "outputs": [
    {
     "data": {
      "text/html": [
       "<table>\n",
       "<thead><tr><th></th><th scope=col>V1</th><th scope=col>V2</th><th scope=col>V3</th><th scope=col>V4</th><th scope=col>V5</th></tr></thead>\n",
       "<tbody>\n",
       "\t<tr><th scope=row>2</th><td>2 </td><td>8 </td><td>14</td><td>20</td><td>26</td></tr>\n",
       "</tbody>\n",
       "</table>\n"
      ],
      "text/latex": [
       "\\begin{tabular}{r|lllll}\n",
       "  & V1 & V2 & V3 & V4 & V5\\\\\n",
       "\\hline\n",
       "\t2 & 2  & 8  & 14 & 20 & 26\\\\\n",
       "\\end{tabular}\n"
      ],
      "text/markdown": [
       "\n",
       "| <!--/--> | V1 | V2 | V3 | V4 | V5 |\n",
       "|---|---|---|---|---|---|\n",
       "| 2 | 2  | 8  | 14 | 20 | 26 |\n",
       "\n"
      ],
      "text/plain": [
       "  V1 V2 V3 V4 V5\n",
       "2 2  8  14 20 26"
      ]
     },
     "metadata": {},
     "output_type": "display_data"
    }
   ],
   "source": [
    "df[2,]"
   ]
  },
  {
   "cell_type": "markdown",
   "metadata": {},
   "source": [
    "Lưu ý, nếu không dùng dấu ',' nội dung index sẽ được mặc định hiểu là áp dụng cho cột chứ không phải hàng:"
   ]
  },
  {
   "cell_type": "code",
   "execution_count": 77,
   "metadata": {},
   "outputs": [
    {
     "data": {
      "text/html": [
       "<table>\n",
       "<thead><tr><th scope=col>V2</th></tr></thead>\n",
       "<tbody>\n",
       "\t<tr><td> 7</td></tr>\n",
       "\t<tr><td> 8</td></tr>\n",
       "\t<tr><td> 9</td></tr>\n",
       "\t<tr><td>10</td></tr>\n",
       "\t<tr><td>11</td></tr>\n",
       "\t<tr><td>12</td></tr>\n",
       "</tbody>\n",
       "</table>\n"
      ],
      "text/latex": [
       "\\begin{tabular}{r|l}\n",
       " V2\\\\\n",
       "\\hline\n",
       "\t  7\\\\\n",
       "\t  8\\\\\n",
       "\t  9\\\\\n",
       "\t 10\\\\\n",
       "\t 11\\\\\n",
       "\t 12\\\\\n",
       "\\end{tabular}\n"
      ],
      "text/markdown": [
       "\n",
       "| V2 |\n",
       "|---|\n",
       "|  7 |\n",
       "|  8 |\n",
       "|  9 |\n",
       "| 10 |\n",
       "| 11 |\n",
       "| 12 |\n",
       "\n"
      ],
      "text/plain": [
       "  V2\n",
       "1  7\n",
       "2  8\n",
       "3  9\n",
       "4 10\n",
       "5 11\n",
       "6 12"
      ]
     },
     "metadata": {},
     "output_type": "display_data"
    }
   ],
   "source": [
    "df[2]"
   ]
  },
  {
   "cell_type": "code",
   "execution_count": 74,
   "metadata": {},
   "outputs": [
    {
     "data": {
      "text/html": [
       "<table>\n",
       "<thead><tr><th></th><th scope=col>V1</th><th scope=col>V2</th><th scope=col>V3</th><th scope=col>V4</th><th scope=col>V5</th></tr></thead>\n",
       "<tbody>\n",
       "\t<tr><th scope=row>2</th><td>2 </td><td> 8</td><td>14</td><td>20</td><td>26</td></tr>\n",
       "\t<tr><th scope=row>3</th><td>3 </td><td> 9</td><td>15</td><td>21</td><td>27</td></tr>\n",
       "\t<tr><th scope=row>4</th><td>4 </td><td>10</td><td>16</td><td>22</td><td>28</td></tr>\n",
       "\t<tr><th scope=row>5</th><td>5 </td><td>11</td><td>17</td><td>23</td><td>29</td></tr>\n",
       "</tbody>\n",
       "</table>\n"
      ],
      "text/latex": [
       "\\begin{tabular}{r|lllll}\n",
       "  & V1 & V2 & V3 & V4 & V5\\\\\n",
       "\\hline\n",
       "\t2 & 2  &  8 & 14 & 20 & 26\\\\\n",
       "\t3 & 3  &  9 & 15 & 21 & 27\\\\\n",
       "\t4 & 4  & 10 & 16 & 22 & 28\\\\\n",
       "\t5 & 5  & 11 & 17 & 23 & 29\\\\\n",
       "\\end{tabular}\n"
      ],
      "text/markdown": [
       "\n",
       "| <!--/--> | V1 | V2 | V3 | V4 | V5 |\n",
       "|---|---|---|---|---|---|\n",
       "| 2 | 2  |  8 | 14 | 20 | 26 |\n",
       "| 3 | 3  |  9 | 15 | 21 | 27 |\n",
       "| 4 | 4  | 10 | 16 | 22 | 28 |\n",
       "| 5 | 5  | 11 | 17 | 23 | 29 |\n",
       "\n"
      ],
      "text/plain": [
       "  V1 V2 V3 V4 V5\n",
       "2 2   8 14 20 26\n",
       "3 3   9 15 21 27\n",
       "4 4  10 16 22 28\n",
       "5 5  11 17 23 29"
      ]
     },
     "metadata": {},
     "output_type": "display_data"
    }
   ],
   "source": [
    "df[2:5,]"
   ]
  },
  {
   "cell_type": "markdown",
   "metadata": {},
   "source": [
    "Nếu chỉ trích xuất dữ liệu từ 1 cột (toàn bộ hay 1 phần), kết quả sẽ là vector, trừ khi bạn dùng tùy chỉnh drop = F"
   ]
  },
  {
   "cell_type": "code",
   "execution_count": 91,
   "metadata": {},
   "outputs": [
    {
     "data": {
      "text/html": [
       "<ol class=list-inline>\n",
       "\t<li>7</li>\n",
       "\t<li>8</li>\n",
       "\t<li>9</li>\n",
       "\t<li>10</li>\n",
       "\t<li>11</li>\n",
       "\t<li>12</li>\n",
       "</ol>\n"
      ],
      "text/latex": [
       "\\begin{enumerate*}\n",
       "\\item 7\n",
       "\\item 8\n",
       "\\item 9\n",
       "\\item 10\n",
       "\\item 11\n",
       "\\item 12\n",
       "\\end{enumerate*}\n"
      ],
      "text/markdown": [
       "1. 7\n",
       "2. 8\n",
       "3. 9\n",
       "4. 10\n",
       "5. 11\n",
       "6. 12\n",
       "\n",
       "\n"
      ],
      "text/plain": [
       "[1]  7  8  9 10 11 12"
      ]
     },
     "metadata": {},
     "output_type": "display_data"
    },
    {
     "data": {
      "text/html": [
       "TRUE"
      ],
      "text/latex": [
       "TRUE"
      ],
      "text/markdown": [
       "TRUE"
      ],
      "text/plain": [
       "[1] TRUE"
      ]
     },
     "metadata": {},
     "output_type": "display_data"
    }
   ],
   "source": [
    "df[,2]\n",
    "\n",
    "is.vector(df[,2])"
   ]
  },
  {
   "cell_type": "code",
   "execution_count": 92,
   "metadata": {},
   "outputs": [
    {
     "data": {
      "text/html": [
       "<ol class=list-inline>\n",
       "\t<li>7</li>\n",
       "\t<li>9</li>\n",
       "\t<li>11</li>\n",
       "</ol>\n"
      ],
      "text/latex": [
       "\\begin{enumerate*}\n",
       "\\item 7\n",
       "\\item 9\n",
       "\\item 11\n",
       "\\end{enumerate*}\n"
      ],
      "text/markdown": [
       "1. 7\n",
       "2. 9\n",
       "3. 11\n",
       "\n",
       "\n"
      ],
      "text/plain": [
       "[1]  7  9 11"
      ]
     },
     "metadata": {},
     "output_type": "display_data"
    }
   ],
   "source": [
    "df[c(1,3,5),2]\n"
   ]
  },
  {
   "cell_type": "code",
   "execution_count": 93,
   "metadata": {},
   "outputs": [
    {
     "data": {
      "text/html": [
       "<table>\n",
       "<thead><tr><th></th><th scope=col>V2</th></tr></thead>\n",
       "<tbody>\n",
       "\t<tr><th scope=row>1</th><td> 7</td></tr>\n",
       "\t<tr><th scope=row>3</th><td> 9</td></tr>\n",
       "\t<tr><th scope=row>5</th><td>11</td></tr>\n",
       "</tbody>\n",
       "</table>\n"
      ],
      "text/latex": [
       "\\begin{tabular}{r|l}\n",
       "  & V2\\\\\n",
       "\\hline\n",
       "\t1 &  7\\\\\n",
       "\t3 &  9\\\\\n",
       "\t5 & 11\\\\\n",
       "\\end{tabular}\n"
      ],
      "text/markdown": [
       "\n",
       "| <!--/--> | V2 |\n",
       "|---|---|\n",
       "| 1 |  7 |\n",
       "| 3 |  9 |\n",
       "| 5 | 11 |\n",
       "\n"
      ],
      "text/plain": [
       "  V2\n",
       "1  7\n",
       "3  9\n",
       "5 11"
      ]
     },
     "metadata": {},
     "output_type": "display_data"
    }
   ],
   "source": [
    "df[c(1,3,5),2, drop = F]"
   ]
  },
  {
   "cell_type": "markdown",
   "metadata": {},
   "source": [
    "Dấu '-' có ý nghĩa loại trừ, có thể dùng cách này để loại bỏ hàng và cột từ dataframe"
   ]
  },
  {
   "cell_type": "code",
   "execution_count": 80,
   "metadata": {},
   "outputs": [
    {
     "data": {
      "text/html": [
       "<table>\n",
       "<thead><tr><th scope=col>V1</th><th scope=col>V3</th><th scope=col>V4</th><th scope=col>V5</th></tr></thead>\n",
       "<tbody>\n",
       "\t<tr><td>1 </td><td>13</td><td>19</td><td>25</td></tr>\n",
       "\t<tr><td>2 </td><td>14</td><td>20</td><td>26</td></tr>\n",
       "\t<tr><td>3 </td><td>15</td><td>21</td><td>27</td></tr>\n",
       "\t<tr><td>4 </td><td>16</td><td>22</td><td>28</td></tr>\n",
       "\t<tr><td>5 </td><td>17</td><td>23</td><td>29</td></tr>\n",
       "\t<tr><td>6 </td><td>18</td><td>24</td><td>30</td></tr>\n",
       "</tbody>\n",
       "</table>\n"
      ],
      "text/latex": [
       "\\begin{tabular}{r|llll}\n",
       " V1 & V3 & V4 & V5\\\\\n",
       "\\hline\n",
       "\t 1  & 13 & 19 & 25\\\\\n",
       "\t 2  & 14 & 20 & 26\\\\\n",
       "\t 3  & 15 & 21 & 27\\\\\n",
       "\t 4  & 16 & 22 & 28\\\\\n",
       "\t 5  & 17 & 23 & 29\\\\\n",
       "\t 6  & 18 & 24 & 30\\\\\n",
       "\\end{tabular}\n"
      ],
      "text/markdown": [
       "\n",
       "| V1 | V3 | V4 | V5 |\n",
       "|---|---|---|---|\n",
       "| 1  | 13 | 19 | 25 |\n",
       "| 2  | 14 | 20 | 26 |\n",
       "| 3  | 15 | 21 | 27 |\n",
       "| 4  | 16 | 22 | 28 |\n",
       "| 5  | 17 | 23 | 29 |\n",
       "| 6  | 18 | 24 | 30 |\n",
       "\n"
      ],
      "text/plain": [
       "  V1 V3 V4 V5\n",
       "1 1  13 19 25\n",
       "2 2  14 20 26\n",
       "3 3  15 21 27\n",
       "4 4  16 22 28\n",
       "5 5  17 23 29\n",
       "6 6  18 24 30"
      ]
     },
     "metadata": {},
     "output_type": "display_data"
    }
   ],
   "source": [
    "df[-2]"
   ]
  },
  {
   "cell_type": "code",
   "execution_count": 81,
   "metadata": {},
   "outputs": [
    {
     "data": {
      "text/html": [
       "<table>\n",
       "<thead><tr><th></th><th scope=col>V1</th><th scope=col>V2</th><th scope=col>V3</th><th scope=col>V4</th><th scope=col>V5</th></tr></thead>\n",
       "<tbody>\n",
       "\t<tr><th scope=row>2</th><td>2 </td><td> 8</td><td>14</td><td>20</td><td>26</td></tr>\n",
       "\t<tr><th scope=row>4</th><td>4 </td><td>10</td><td>16</td><td>22</td><td>28</td></tr>\n",
       "\t<tr><th scope=row>5</th><td>5 </td><td>11</td><td>17</td><td>23</td><td>29</td></tr>\n",
       "\t<tr><th scope=row>6</th><td>6 </td><td>12</td><td>18</td><td>24</td><td>30</td></tr>\n",
       "</tbody>\n",
       "</table>\n"
      ],
      "text/latex": [
       "\\begin{tabular}{r|lllll}\n",
       "  & V1 & V2 & V3 & V4 & V5\\\\\n",
       "\\hline\n",
       "\t2 & 2  &  8 & 14 & 20 & 26\\\\\n",
       "\t4 & 4  & 10 & 16 & 22 & 28\\\\\n",
       "\t5 & 5  & 11 & 17 & 23 & 29\\\\\n",
       "\t6 & 6  & 12 & 18 & 24 & 30\\\\\n",
       "\\end{tabular}\n"
      ],
      "text/markdown": [
       "\n",
       "| <!--/--> | V1 | V2 | V3 | V4 | V5 |\n",
       "|---|---|---|---|---|---|\n",
       "| 2 | 2  |  8 | 14 | 20 | 26 |\n",
       "| 4 | 4  | 10 | 16 | 22 | 28 |\n",
       "| 5 | 5  | 11 | 17 | 23 | 29 |\n",
       "| 6 | 6  | 12 | 18 | 24 | 30 |\n",
       "\n"
      ],
      "text/plain": [
       "  V1 V2 V3 V4 V5\n",
       "2 2   8 14 20 26\n",
       "4 4  10 16 22 28\n",
       "5 5  11 17 23 29\n",
       "6 6  12 18 24 30"
      ]
     },
     "metadata": {},
     "output_type": "display_data"
    }
   ],
   "source": [
    "df[-c(1,3),]"
   ]
  },
  {
   "cell_type": "markdown",
   "metadata": {},
   "source": [
    "Khi trích nhiều cột, kết quả xuất ra luôn là dataframe, với hệ thống index hoàn chỉnh, bạn không cần dùng tùy chỉnh \"drop = FALSE\" như matrix:"
   ]
  },
  {
   "cell_type": "code",
   "execution_count": 94,
   "metadata": {},
   "outputs": [
    {
     "data": {
      "text/html": [
       "<table>\n",
       "<thead><tr><th scope=col>V2</th><th scope=col>V3</th><th scope=col>V4</th><th scope=col>V5</th></tr></thead>\n",
       "<tbody>\n",
       "\t<tr><td> 7</td><td>13</td><td>19</td><td>25</td></tr>\n",
       "\t<tr><td> 8</td><td>14</td><td>20</td><td>26</td></tr>\n",
       "\t<tr><td> 9</td><td>15</td><td>21</td><td>27</td></tr>\n",
       "\t<tr><td>10</td><td>16</td><td>22</td><td>28</td></tr>\n",
       "\t<tr><td>11</td><td>17</td><td>23</td><td>29</td></tr>\n",
       "\t<tr><td>12</td><td>18</td><td>24</td><td>30</td></tr>\n",
       "</tbody>\n",
       "</table>\n"
      ],
      "text/latex": [
       "\\begin{tabular}{r|llll}\n",
       " V2 & V3 & V4 & V5\\\\\n",
       "\\hline\n",
       "\t  7 & 13 & 19 & 25\\\\\n",
       "\t  8 & 14 & 20 & 26\\\\\n",
       "\t  9 & 15 & 21 & 27\\\\\n",
       "\t 10 & 16 & 22 & 28\\\\\n",
       "\t 11 & 17 & 23 & 29\\\\\n",
       "\t 12 & 18 & 24 & 30\\\\\n",
       "\\end{tabular}\n"
      ],
      "text/markdown": [
       "\n",
       "| V2 | V3 | V4 | V5 |\n",
       "|---|---|---|---|\n",
       "|  7 | 13 | 19 | 25 |\n",
       "|  8 | 14 | 20 | 26 |\n",
       "|  9 | 15 | 21 | 27 |\n",
       "| 10 | 16 | 22 | 28 |\n",
       "| 11 | 17 | 23 | 29 |\n",
       "| 12 | 18 | 24 | 30 |\n",
       "\n"
      ],
      "text/plain": [
       "  V2 V3 V4 V5\n",
       "1  7 13 19 25\n",
       "2  8 14 20 26\n",
       "3  9 15 21 27\n",
       "4 10 16 22 28\n",
       "5 11 17 23 29\n",
       "6 12 18 24 30"
      ]
     },
     "metadata": {},
     "output_type": "display_data"
    }
   ],
   "source": [
    "df[2:5]"
   ]
  },
  {
   "cell_type": "code",
   "execution_count": 97,
   "metadata": {},
   "outputs": [
    {
     "data": {
      "text/html": [
       "<table>\n",
       "<thead><tr><th scope=col>V1</th><th scope=col>V5</th></tr></thead>\n",
       "<tbody>\n",
       "\t<tr><td>1 </td><td>25</td></tr>\n",
       "\t<tr><td>2 </td><td>26</td></tr>\n",
       "\t<tr><td>3 </td><td>27</td></tr>\n",
       "\t<tr><td>4 </td><td>28</td></tr>\n",
       "\t<tr><td>5 </td><td>29</td></tr>\n",
       "\t<tr><td>6 </td><td>30</td></tr>\n",
       "</tbody>\n",
       "</table>\n"
      ],
      "text/latex": [
       "\\begin{tabular}{r|ll}\n",
       " V1 & V5\\\\\n",
       "\\hline\n",
       "\t 1  & 25\\\\\n",
       "\t 2  & 26\\\\\n",
       "\t 3  & 27\\\\\n",
       "\t 4  & 28\\\\\n",
       "\t 5  & 29\\\\\n",
       "\t 6  & 30\\\\\n",
       "\\end{tabular}\n"
      ],
      "text/markdown": [
       "\n",
       "| V1 | V5 |\n",
       "|---|---|\n",
       "| 1  | 25 |\n",
       "| 2  | 26 |\n",
       "| 3  | 27 |\n",
       "| 4  | 28 |\n",
       "| 5  | 29 |\n",
       "| 6  | 30 |\n",
       "\n"
      ],
      "text/plain": [
       "  V1 V5\n",
       "1 1  25\n",
       "2 2  26\n",
       "3 3  27\n",
       "4 4  28\n",
       "5 5  29\n",
       "6 6  30"
      ]
     },
     "metadata": {},
     "output_type": "display_data"
    }
   ],
   "source": [
    "df[,c(1,5)]"
   ]
  },
  {
   "cell_type": "code",
   "execution_count": 95,
   "metadata": {},
   "outputs": [
    {
     "data": {
      "text/html": [
       "<table>\n",
       "<thead><tr><th scope=col>V1</th><th scope=col>V2</th><th scope=col>V4</th></tr></thead>\n",
       "<tbody>\n",
       "\t<tr><td>1 </td><td> 7</td><td>19</td></tr>\n",
       "\t<tr><td>2 </td><td> 8</td><td>20</td></tr>\n",
       "\t<tr><td>3 </td><td> 9</td><td>21</td></tr>\n",
       "\t<tr><td>4 </td><td>10</td><td>22</td></tr>\n",
       "\t<tr><td>5 </td><td>11</td><td>23</td></tr>\n",
       "\t<tr><td>6 </td><td>12</td><td>24</td></tr>\n",
       "</tbody>\n",
       "</table>\n"
      ],
      "text/latex": [
       "\\begin{tabular}{r|lll}\n",
       " V1 & V2 & V4\\\\\n",
       "\\hline\n",
       "\t 1  &  7 & 19\\\\\n",
       "\t 2  &  8 & 20\\\\\n",
       "\t 3  &  9 & 21\\\\\n",
       "\t 4  & 10 & 22\\\\\n",
       "\t 5  & 11 & 23\\\\\n",
       "\t 6  & 12 & 24\\\\\n",
       "\\end{tabular}\n"
      ],
      "text/markdown": [
       "\n",
       "| V1 | V2 | V4 |\n",
       "|---|---|---|\n",
       "| 1  |  7 | 19 |\n",
       "| 2  |  8 | 20 |\n",
       "| 3  |  9 | 21 |\n",
       "| 4  | 10 | 22 |\n",
       "| 5  | 11 | 23 |\n",
       "| 6  | 12 | 24 |\n",
       "\n"
      ],
      "text/plain": [
       "  V1 V2 V4\n",
       "1 1   7 19\n",
       "2 2   8 20\n",
       "3 3   9 21\n",
       "4 4  10 22\n",
       "5 5  11 23\n",
       "6 6  12 24"
      ]
     },
     "metadata": {},
     "output_type": "display_data"
    }
   ],
   "source": [
    "df[c(1,2,4)]"
   ]
  },
  {
   "cell_type": "code",
   "execution_count": 76,
   "metadata": {},
   "outputs": [
    {
     "data": {
      "text/html": [
       "<table>\n",
       "<thead><tr><th></th><th scope=col>V1</th><th scope=col>V3</th><th scope=col>V5</th></tr></thead>\n",
       "<tbody>\n",
       "\t<tr><th scope=row>1</th><td>1 </td><td>13</td><td>25</td></tr>\n",
       "\t<tr><th scope=row>4</th><td>4 </td><td>16</td><td>28</td></tr>\n",
       "\t<tr><th scope=row>2</th><td>2 </td><td>14</td><td>26</td></tr>\n",
       "</tbody>\n",
       "</table>\n"
      ],
      "text/latex": [
       "\\begin{tabular}{r|lll}\n",
       "  & V1 & V3 & V5\\\\\n",
       "\\hline\n",
       "\t1 & 1  & 13 & 25\\\\\n",
       "\t4 & 4  & 16 & 28\\\\\n",
       "\t2 & 2  & 14 & 26\\\\\n",
       "\\end{tabular}\n"
      ],
      "text/markdown": [
       "\n",
       "| <!--/--> | V1 | V3 | V5 |\n",
       "|---|---|---|---|\n",
       "| 1 | 1  | 13 | 25 |\n",
       "| 4 | 4  | 16 | 28 |\n",
       "| 2 | 2  | 14 | 26 |\n",
       "\n"
      ],
      "text/plain": [
       "  V1 V3 V5\n",
       "1 1  13 25\n",
       "4 4  16 28\n",
       "2 2  14 26"
      ]
     },
     "metadata": {},
     "output_type": "display_data"
    }
   ],
   "source": [
    "df[c(1,4,2),c(1,3,5)]"
   ]
  },
  {
   "cell_type": "markdown",
   "metadata": {},
   "source": [
    "Khi row index không tồn tại, kết quả là NA:"
   ]
  },
  {
   "cell_type": "code",
   "execution_count": 82,
   "metadata": {},
   "outputs": [
    {
     "data": {
      "text/html": [
       "<table>\n",
       "<thead><tr><th></th><th scope=col>V1</th><th scope=col>V2</th><th scope=col>V3</th><th scope=col>V4</th><th scope=col>V5</th></tr></thead>\n",
       "<tbody>\n",
       "\t<tr><th scope=row>NA</th><td>NA</td><td>NA</td><td>NA</td><td>NA</td><td>NA</td></tr>\n",
       "</tbody>\n",
       "</table>\n"
      ],
      "text/latex": [
       "\\begin{tabular}{r|lllll}\n",
       "  & V1 & V2 & V3 & V4 & V5\\\\\n",
       "\\hline\n",
       "\tNA & NA & NA & NA & NA & NA\\\\\n",
       "\\end{tabular}\n"
      ],
      "text/markdown": [
       "\n",
       "| <!--/--> | V1 | V2 | V3 | V4 | V5 |\n",
       "|---|---|---|---|---|---|\n",
       "| NA | NA | NA | NA | NA | NA |\n",
       "\n"
      ],
      "text/plain": [
       "   V1 V2 V3 V4 V5\n",
       "NA NA NA NA NA NA"
      ]
     },
     "metadata": {},
     "output_type": "display_data"
    }
   ],
   "source": [
    "df[7,]"
   ]
  },
  {
   "cell_type": "markdown",
   "metadata": {},
   "source": [
    "Nhưng khi column index không tồn tại, R sẽ báo lỗi và không xuất ra kết quả nào cả:"
   ]
  },
  {
   "cell_type": "code",
   "execution_count": 98,
   "metadata": {},
   "outputs": [
    {
     "ename": "ERROR",
     "evalue": "Error in `[.data.frame`(df, , 6): undefined columns selected\n",
     "output_type": "error",
     "traceback": [
      "Error in `[.data.frame`(df, , 6): undefined columns selected\nTraceback:\n",
      "1. df[, 6]",
      "2. `[.data.frame`(df, , 6)",
      "3. stop(\"undefined columns selected\")"
     ]
    }
   ],
   "source": [
    "df[,6]"
   ]
  },
  {
   "cell_type": "markdown",
   "metadata": {},
   "source": [
    "### Chọn mẫu"
   ]
  },
  {
   "cell_type": "markdown",
   "metadata": {},
   "source": [
    "Method [] cũng có thể dùng để tái chọn mẫu, thí dụ: cắt 1 dataframe thành 2 tập train, test khi làm machine learning:"
   ]
  },
  {
   "cell_type": "code",
   "execution_count": 109,
   "metadata": {},
   "outputs": [
    {
     "data": {
      "text/html": [
       "<table>\n",
       "<thead><tr><th scope=col>Benh_nhan</th><th scope=col>Can_nang</th><th scope=col>Marker_X</th><th scope=col>Chan_doan</th></tr></thead>\n",
       "<tbody>\n",
       "\t<tr><td>P1      </td><td>71      </td><td>5.946097</td><td>FALSE   </td></tr>\n",
       "\t<tr><td>P2      </td><td>52      </td><td>3.161691</td><td> TRUE   </td></tr>\n",
       "\t<tr><td>P3      </td><td>76      </td><td>4.248353</td><td>FALSE   </td></tr>\n",
       "\t<tr><td>P4      </td><td>65      </td><td>1.374332</td><td> TRUE   </td></tr>\n",
       "\t<tr><td>P5      </td><td>57      </td><td>5.577200</td><td>FALSE   </td></tr>\n",
       "\t<tr><td>P6      </td><td>80      </td><td>4.620755</td><td> TRUE   </td></tr>\n",
       "\t<tr><td>P7      </td><td>57      </td><td>5.035720</td><td> TRUE   </td></tr>\n",
       "\t<tr><td>P8      </td><td>57      </td><td>6.300860</td><td>FALSE   </td></tr>\n",
       "\t<tr><td>P9      </td><td>57      </td><td>5.620510</td><td> TRUE   </td></tr>\n",
       "\t<tr><td>P10     </td><td>68      </td><td>8.336714</td><td>FALSE   </td></tr>\n",
       "\t<tr><td>P11     </td><td>63      </td><td>6.345229</td><td>FALSE   </td></tr>\n",
       "\t<tr><td>P12     </td><td>52      </td><td>4.444964</td><td> TRUE   </td></tr>\n",
       "\t<tr><td>P13     </td><td>77      </td><td>4.707947</td><td> TRUE   </td></tr>\n",
       "\t<tr><td>P14     </td><td>63      </td><td>8.402864</td><td> TRUE   </td></tr>\n",
       "\t<tr><td>P15     </td><td>77      </td><td>5.942716</td><td>FALSE   </td></tr>\n",
       "\t<tr><td>P16     </td><td>54      </td><td>6.163400</td><td> TRUE   </td></tr>\n",
       "\t<tr><td>P17     </td><td>71      </td><td>6.332041</td><td>FALSE   </td></tr>\n",
       "\t<tr><td>P18     </td><td>63      </td><td>3.442196</td><td>FALSE   </td></tr>\n",
       "\t<tr><td>P19     </td><td>52      </td><td>7.326650</td><td> TRUE   </td></tr>\n",
       "\t<tr><td>P20     </td><td>60      </td><td>1.070912</td><td>FALSE   </td></tr>\n",
       "</tbody>\n",
       "</table>\n"
      ],
      "text/latex": [
       "\\begin{tabular}{r|llll}\n",
       " Benh\\_nhan & Can\\_nang & Marker\\_X & Chan\\_doan\\\\\n",
       "\\hline\n",
       "\t P1       & 71       & 5.946097 & FALSE   \\\\\n",
       "\t P2       & 52       & 3.161691 &  TRUE   \\\\\n",
       "\t P3       & 76       & 4.248353 & FALSE   \\\\\n",
       "\t P4       & 65       & 1.374332 &  TRUE   \\\\\n",
       "\t P5       & 57       & 5.577200 & FALSE   \\\\\n",
       "\t P6       & 80       & 4.620755 &  TRUE   \\\\\n",
       "\t P7       & 57       & 5.035720 &  TRUE   \\\\\n",
       "\t P8       & 57       & 6.300860 & FALSE   \\\\\n",
       "\t P9       & 57       & 5.620510 &  TRUE   \\\\\n",
       "\t P10      & 68       & 8.336714 & FALSE   \\\\\n",
       "\t P11      & 63       & 6.345229 & FALSE   \\\\\n",
       "\t P12      & 52       & 4.444964 &  TRUE   \\\\\n",
       "\t P13      & 77       & 4.707947 &  TRUE   \\\\\n",
       "\t P14      & 63       & 8.402864 &  TRUE   \\\\\n",
       "\t P15      & 77       & 5.942716 & FALSE   \\\\\n",
       "\t P16      & 54       & 6.163400 &  TRUE   \\\\\n",
       "\t P17      & 71       & 6.332041 & FALSE   \\\\\n",
       "\t P18      & 63       & 3.442196 & FALSE   \\\\\n",
       "\t P19      & 52       & 7.326650 &  TRUE   \\\\\n",
       "\t P20      & 60       & 1.070912 & FALSE   \\\\\n",
       "\\end{tabular}\n"
      ],
      "text/markdown": [
       "\n",
       "| Benh_nhan | Can_nang | Marker_X | Chan_doan |\n",
       "|---|---|---|---|\n",
       "| P1       | 71       | 5.946097 | FALSE    |\n",
       "| P2       | 52       | 3.161691 |  TRUE    |\n",
       "| P3       | 76       | 4.248353 | FALSE    |\n",
       "| P4       | 65       | 1.374332 |  TRUE    |\n",
       "| P5       | 57       | 5.577200 | FALSE    |\n",
       "| P6       | 80       | 4.620755 |  TRUE    |\n",
       "| P7       | 57       | 5.035720 |  TRUE    |\n",
       "| P8       | 57       | 6.300860 | FALSE    |\n",
       "| P9       | 57       | 5.620510 |  TRUE    |\n",
       "| P10      | 68       | 8.336714 | FALSE    |\n",
       "| P11      | 63       | 6.345229 | FALSE    |\n",
       "| P12      | 52       | 4.444964 |  TRUE    |\n",
       "| P13      | 77       | 4.707947 |  TRUE    |\n",
       "| P14      | 63       | 8.402864 |  TRUE    |\n",
       "| P15      | 77       | 5.942716 | FALSE    |\n",
       "| P16      | 54       | 6.163400 |  TRUE    |\n",
       "| P17      | 71       | 6.332041 | FALSE    |\n",
       "| P18      | 63       | 3.442196 | FALSE    |\n",
       "| P19      | 52       | 7.326650 |  TRUE    |\n",
       "| P20      | 60       | 1.070912 | FALSE    |\n",
       "\n"
      ],
      "text/plain": [
       "   Benh_nhan Can_nang Marker_X Chan_doan\n",
       "1  P1        71       5.946097 FALSE    \n",
       "2  P2        52       3.161691  TRUE    \n",
       "3  P3        76       4.248353 FALSE    \n",
       "4  P4        65       1.374332  TRUE    \n",
       "5  P5        57       5.577200 FALSE    \n",
       "6  P6        80       4.620755  TRUE    \n",
       "7  P7        57       5.035720  TRUE    \n",
       "8  P8        57       6.300860 FALSE    \n",
       "9  P9        57       5.620510  TRUE    \n",
       "10 P10       68       8.336714 FALSE    \n",
       "11 P11       63       6.345229 FALSE    \n",
       "12 P12       52       4.444964  TRUE    \n",
       "13 P13       77       4.707947  TRUE    \n",
       "14 P14       63       8.402864  TRUE    \n",
       "15 P15       77       5.942716 FALSE    \n",
       "16 P16       54       6.163400  TRUE    \n",
       "17 P17       71       6.332041 FALSE    \n",
       "18 P18       63       3.442196 FALSE    \n",
       "19 P19       52       7.326650  TRUE    \n",
       "20 P20       60       1.070912 FALSE    "
      ]
     },
     "metadata": {},
     "output_type": "display_data"
    }
   ],
   "source": [
    "d"
   ]
  },
  {
   "cell_type": "code",
   "execution_count": 112,
   "metadata": {},
   "outputs": [
    {
     "data": {
      "text/html": [
       "<ol class=list-inline>\n",
       "\t<li>11</li>\n",
       "\t<li>10</li>\n",
       "\t<li>4</li>\n",
       "\t<li>18</li>\n",
       "\t<li>9</li>\n",
       "\t<li>8</li>\n",
       "\t<li>12</li>\n",
       "\t<li>20</li>\n",
       "\t<li>17</li>\n",
       "\t<li>6</li>\n",
       "</ol>\n"
      ],
      "text/latex": [
       "\\begin{enumerate*}\n",
       "\\item 11\n",
       "\\item 10\n",
       "\\item 4\n",
       "\\item 18\n",
       "\\item 9\n",
       "\\item 8\n",
       "\\item 12\n",
       "\\item 20\n",
       "\\item 17\n",
       "\\item 6\n",
       "\\end{enumerate*}\n"
      ],
      "text/markdown": [
       "1. 11\n",
       "2. 10\n",
       "3. 4\n",
       "4. 18\n",
       "5. 9\n",
       "6. 8\n",
       "7. 12\n",
       "8. 20\n",
       "9. 17\n",
       "10. 6\n",
       "\n",
       "\n"
      ],
      "text/plain": [
       " [1] 11 10  4 18  9  8 12 20 17  6"
      ]
     },
     "metadata": {},
     "output_type": "display_data"
    },
    {
     "data": {
      "text/html": [
       "<table>\n",
       "<thead><tr><th></th><th scope=col>Benh_nhan</th><th scope=col>Can_nang</th><th scope=col>Marker_X</th><th scope=col>Chan_doan</th></tr></thead>\n",
       "<tbody>\n",
       "\t<tr><th scope=row>11</th><td>P11     </td><td>63      </td><td>6.345229</td><td>FALSE   </td></tr>\n",
       "\t<tr><th scope=row>10</th><td>P10     </td><td>68      </td><td>8.336714</td><td>FALSE   </td></tr>\n",
       "\t<tr><th scope=row>4</th><td>P4      </td><td>65      </td><td>1.374332</td><td> TRUE   </td></tr>\n",
       "\t<tr><th scope=row>18</th><td>P18     </td><td>63      </td><td>3.442196</td><td>FALSE   </td></tr>\n",
       "\t<tr><th scope=row>9</th><td>P9      </td><td>57      </td><td>5.620510</td><td> TRUE   </td></tr>\n",
       "\t<tr><th scope=row>8</th><td>P8      </td><td>57      </td><td>6.300860</td><td>FALSE   </td></tr>\n",
       "\t<tr><th scope=row>12</th><td>P12     </td><td>52      </td><td>4.444964</td><td> TRUE   </td></tr>\n",
       "\t<tr><th scope=row>20</th><td>P20     </td><td>60      </td><td>1.070912</td><td>FALSE   </td></tr>\n",
       "\t<tr><th scope=row>17</th><td>P17     </td><td>71      </td><td>6.332041</td><td>FALSE   </td></tr>\n",
       "\t<tr><th scope=row>6</th><td>P6      </td><td>80      </td><td>4.620755</td><td> TRUE   </td></tr>\n",
       "</tbody>\n",
       "</table>\n"
      ],
      "text/latex": [
       "\\begin{tabular}{r|llll}\n",
       "  & Benh\\_nhan & Can\\_nang & Marker\\_X & Chan\\_doan\\\\\n",
       "\\hline\n",
       "\t11 & P11      & 63       & 6.345229 & FALSE   \\\\\n",
       "\t10 & P10      & 68       & 8.336714 & FALSE   \\\\\n",
       "\t4 & P4       & 65       & 1.374332 &  TRUE   \\\\\n",
       "\t18 & P18      & 63       & 3.442196 & FALSE   \\\\\n",
       "\t9 & P9       & 57       & 5.620510 &  TRUE   \\\\\n",
       "\t8 & P8       & 57       & 6.300860 & FALSE   \\\\\n",
       "\t12 & P12      & 52       & 4.444964 &  TRUE   \\\\\n",
       "\t20 & P20      & 60       & 1.070912 & FALSE   \\\\\n",
       "\t17 & P17      & 71       & 6.332041 & FALSE   \\\\\n",
       "\t6 & P6       & 80       & 4.620755 &  TRUE   \\\\\n",
       "\\end{tabular}\n"
      ],
      "text/markdown": [
       "\n",
       "| <!--/--> | Benh_nhan | Can_nang | Marker_X | Chan_doan |\n",
       "|---|---|---|---|---|\n",
       "| 11 | P11      | 63       | 6.345229 | FALSE    |\n",
       "| 10 | P10      | 68       | 8.336714 | FALSE    |\n",
       "| 4 | P4       | 65       | 1.374332 |  TRUE    |\n",
       "| 18 | P18      | 63       | 3.442196 | FALSE    |\n",
       "| 9 | P9       | 57       | 5.620510 |  TRUE    |\n",
       "| 8 | P8       | 57       | 6.300860 | FALSE    |\n",
       "| 12 | P12      | 52       | 4.444964 |  TRUE    |\n",
       "| 20 | P20      | 60       | 1.070912 | FALSE    |\n",
       "| 17 | P17      | 71       | 6.332041 | FALSE    |\n",
       "| 6 | P6       | 80       | 4.620755 |  TRUE    |\n",
       "\n"
      ],
      "text/plain": [
       "   Benh_nhan Can_nang Marker_X Chan_doan\n",
       "11 P11       63       6.345229 FALSE    \n",
       "10 P10       68       8.336714 FALSE    \n",
       "4  P4        65       1.374332  TRUE    \n",
       "18 P18       63       3.442196 FALSE    \n",
       "9  P9        57       5.620510  TRUE    \n",
       "8  P8        57       6.300860 FALSE    \n",
       "12 P12       52       4.444964  TRUE    \n",
       "20 P20       60       1.070912 FALSE    \n",
       "17 P17       71       6.332041 FALSE    \n",
       "6  P6        80       4.620755  TRUE    "
      ]
     },
     "metadata": {},
     "output_type": "display_data"
    },
    {
     "data": {
      "text/html": [
       "<table>\n",
       "<thead><tr><th></th><th scope=col>Benh_nhan</th><th scope=col>Can_nang</th><th scope=col>Marker_X</th><th scope=col>Chan_doan</th></tr></thead>\n",
       "<tbody>\n",
       "\t<tr><th scope=row>1</th><td>P1      </td><td>71      </td><td>5.946097</td><td>FALSE   </td></tr>\n",
       "\t<tr><th scope=row>2</th><td>P2      </td><td>52      </td><td>3.161691</td><td> TRUE   </td></tr>\n",
       "\t<tr><th scope=row>3</th><td>P3      </td><td>76      </td><td>4.248353</td><td>FALSE   </td></tr>\n",
       "\t<tr><th scope=row>5</th><td>P5      </td><td>57      </td><td>5.577200</td><td>FALSE   </td></tr>\n",
       "\t<tr><th scope=row>7</th><td>P7      </td><td>57      </td><td>5.035720</td><td> TRUE   </td></tr>\n",
       "\t<tr><th scope=row>13</th><td>P13     </td><td>77      </td><td>4.707947</td><td> TRUE   </td></tr>\n",
       "\t<tr><th scope=row>14</th><td>P14     </td><td>63      </td><td>8.402864</td><td> TRUE   </td></tr>\n",
       "\t<tr><th scope=row>15</th><td>P15     </td><td>77      </td><td>5.942716</td><td>FALSE   </td></tr>\n",
       "\t<tr><th scope=row>16</th><td>P16     </td><td>54      </td><td>6.163400</td><td> TRUE   </td></tr>\n",
       "\t<tr><th scope=row>19</th><td>P19     </td><td>52      </td><td>7.326650</td><td> TRUE   </td></tr>\n",
       "</tbody>\n",
       "</table>\n"
      ],
      "text/latex": [
       "\\begin{tabular}{r|llll}\n",
       "  & Benh\\_nhan & Can\\_nang & Marker\\_X & Chan\\_doan\\\\\n",
       "\\hline\n",
       "\t1 & P1       & 71       & 5.946097 & FALSE   \\\\\n",
       "\t2 & P2       & 52       & 3.161691 &  TRUE   \\\\\n",
       "\t3 & P3       & 76       & 4.248353 & FALSE   \\\\\n",
       "\t5 & P5       & 57       & 5.577200 & FALSE   \\\\\n",
       "\t7 & P7       & 57       & 5.035720 &  TRUE   \\\\\n",
       "\t13 & P13      & 77       & 4.707947 &  TRUE   \\\\\n",
       "\t14 & P14      & 63       & 8.402864 &  TRUE   \\\\\n",
       "\t15 & P15      & 77       & 5.942716 & FALSE   \\\\\n",
       "\t16 & P16      & 54       & 6.163400 &  TRUE   \\\\\n",
       "\t19 & P19      & 52       & 7.326650 &  TRUE   \\\\\n",
       "\\end{tabular}\n"
      ],
      "text/markdown": [
       "\n",
       "| <!--/--> | Benh_nhan | Can_nang | Marker_X | Chan_doan |\n",
       "|---|---|---|---|---|\n",
       "| 1 | P1       | 71       | 5.946097 | FALSE    |\n",
       "| 2 | P2       | 52       | 3.161691 |  TRUE    |\n",
       "| 3 | P3       | 76       | 4.248353 | FALSE    |\n",
       "| 5 | P5       | 57       | 5.577200 | FALSE    |\n",
       "| 7 | P7       | 57       | 5.035720 |  TRUE    |\n",
       "| 13 | P13      | 77       | 4.707947 |  TRUE    |\n",
       "| 14 | P14      | 63       | 8.402864 |  TRUE    |\n",
       "| 15 | P15      | 77       | 5.942716 | FALSE    |\n",
       "| 16 | P16      | 54       | 6.163400 |  TRUE    |\n",
       "| 19 | P19      | 52       | 7.326650 |  TRUE    |\n",
       "\n"
      ],
      "text/plain": [
       "   Benh_nhan Can_nang Marker_X Chan_doan\n",
       "1  P1        71       5.946097 FALSE    \n",
       "2  P2        52       3.161691  TRUE    \n",
       "3  P3        76       4.248353 FALSE    \n",
       "5  P5        57       5.577200 FALSE    \n",
       "7  P7        57       5.035720  TRUE    \n",
       "13 P13       77       4.707947  TRUE    \n",
       "14 P14       63       8.402864  TRUE    \n",
       "15 P15       77       5.942716 FALSE    \n",
       "16 P16       54       6.163400  TRUE    \n",
       "19 P19       52       7.326650  TRUE    "
      ]
     },
     "metadata": {},
     "output_type": "display_data"
    }
   ],
   "source": [
    "train_idx = sample(1:20,10)\n",
    "\n",
    "train_idx\n",
    "\n",
    "train = d[train_idx,]\n",
    "test = d[-train_idx,]\n",
    "\n",
    "train\n",
    "\n",
    "test"
   ]
  },
  {
   "cell_type": "code",
   "execution_count": null,
   "metadata": {},
   "outputs": [],
   "source": [
    "Tương tự, ta có thể làm bootstrap theo cùng một cách:"
   ]
  },
  {
   "cell_type": "code",
   "execution_count": 117,
   "metadata": {},
   "outputs": [],
   "source": [
    "boot_idx = sample(c(1:20), 100, replace = T)\n",
    "\n",
    "boot_df = d[boot_idx,]"
   ]
  },
  {
   "cell_type": "markdown",
   "metadata": {},
   "source": [
    "### Cập nhật dataframe bằng [indices]"
   ]
  },
  {
   "cell_type": "markdown",
   "metadata": {},
   "source": [
    "Ta có thể dùng method [] để thay đổi nội dung bên trong dataframe: "
   ]
  },
  {
   "cell_type": "code",
   "execution_count": 107,
   "metadata": {},
   "outputs": [
    {
     "data": {
      "text/html": [
       "<table>\n",
       "<thead><tr><th scope=col>V1</th><th scope=col>V2</th><th scope=col>V3</th><th scope=col>V4</th><th scope=col>V5</th></tr></thead>\n",
       "<tbody>\n",
       "\t<tr><td>1 </td><td> 7</td><td>13</td><td>19</td><td>25</td></tr>\n",
       "\t<tr><td>2 </td><td> 8</td><td>14</td><td>20</td><td>26</td></tr>\n",
       "\t<tr><td>3 </td><td> 9</td><td>15</td><td>21</td><td>27</td></tr>\n",
       "\t<tr><td>4 </td><td>10</td><td>16</td><td>22</td><td>28</td></tr>\n",
       "\t<tr><td>5 </td><td>11</td><td>17</td><td>23</td><td>29</td></tr>\n",
       "\t<tr><td>6 </td><td>12</td><td>18</td><td>24</td><td>30</td></tr>\n",
       "</tbody>\n",
       "</table>\n"
      ],
      "text/latex": [
       "\\begin{tabular}{r|lllll}\n",
       " V1 & V2 & V3 & V4 & V5\\\\\n",
       "\\hline\n",
       "\t 1  &  7 & 13 & 19 & 25\\\\\n",
       "\t 2  &  8 & 14 & 20 & 26\\\\\n",
       "\t 3  &  9 & 15 & 21 & 27\\\\\n",
       "\t 4  & 10 & 16 & 22 & 28\\\\\n",
       "\t 5  & 11 & 17 & 23 & 29\\\\\n",
       "\t 6  & 12 & 18 & 24 & 30\\\\\n",
       "\\end{tabular}\n"
      ],
      "text/markdown": [
       "\n",
       "| V1 | V2 | V3 | V4 | V5 |\n",
       "|---|---|---|---|---|\n",
       "| 1  |  7 | 13 | 19 | 25 |\n",
       "| 2  |  8 | 14 | 20 | 26 |\n",
       "| 3  |  9 | 15 | 21 | 27 |\n",
       "| 4  | 10 | 16 | 22 | 28 |\n",
       "| 5  | 11 | 17 | 23 | 29 |\n",
       "| 6  | 12 | 18 | 24 | 30 |\n",
       "\n"
      ],
      "text/plain": [
       "  V1 V2 V3 V4 V5\n",
       "1 1   7 13 19 25\n",
       "2 2   8 14 20 26\n",
       "3 3   9 15 21 27\n",
       "4 4  10 16 22 28\n",
       "5 5  11 17 23 29\n",
       "6 6  12 18 24 30"
      ]
     },
     "metadata": {},
     "output_type": "display_data"
    },
    {
     "data": {
      "text/html": [
       "<table>\n",
       "<thead><tr><th scope=col>V1</th><th scope=col>V2</th><th scope=col>V3</th><th scope=col>V4</th><th scope=col>V5</th></tr></thead>\n",
       "<tbody>\n",
       "\t<tr><td>1 </td><td>0 </td><td>13</td><td>19</td><td>25</td></tr>\n",
       "\t<tr><td>2 </td><td>0 </td><td>14</td><td>20</td><td>26</td></tr>\n",
       "\t<tr><td>3 </td><td>0 </td><td>15</td><td>21</td><td>27</td></tr>\n",
       "\t<tr><td>4 </td><td>0 </td><td>16</td><td>22</td><td>28</td></tr>\n",
       "\t<tr><td>5 </td><td>0 </td><td>17</td><td>23</td><td>29</td></tr>\n",
       "\t<tr><td>6 </td><td>0 </td><td>18</td><td>24</td><td>30</td></tr>\n",
       "</tbody>\n",
       "</table>\n"
      ],
      "text/latex": [
       "\\begin{tabular}{r|lllll}\n",
       " V1 & V2 & V3 & V4 & V5\\\\\n",
       "\\hline\n",
       "\t 1  & 0  & 13 & 19 & 25\\\\\n",
       "\t 2  & 0  & 14 & 20 & 26\\\\\n",
       "\t 3  & 0  & 15 & 21 & 27\\\\\n",
       "\t 4  & 0  & 16 & 22 & 28\\\\\n",
       "\t 5  & 0  & 17 & 23 & 29\\\\\n",
       "\t 6  & 0  & 18 & 24 & 30\\\\\n",
       "\\end{tabular}\n"
      ],
      "text/markdown": [
       "\n",
       "| V1 | V2 | V3 | V4 | V5 |\n",
       "|---|---|---|---|---|\n",
       "| 1  | 0  | 13 | 19 | 25 |\n",
       "| 2  | 0  | 14 | 20 | 26 |\n",
       "| 3  | 0  | 15 | 21 | 27 |\n",
       "| 4  | 0  | 16 | 22 | 28 |\n",
       "| 5  | 0  | 17 | 23 | 29 |\n",
       "| 6  | 0  | 18 | 24 | 30 |\n",
       "\n"
      ],
      "text/plain": [
       "  V1 V2 V3 V4 V5\n",
       "1 1  0  13 19 25\n",
       "2 2  0  14 20 26\n",
       "3 3  0  15 21 27\n",
       "4 4  0  16 22 28\n",
       "5 5  0  17 23 29\n",
       "6 6  0  18 24 30"
      ]
     },
     "metadata": {},
     "output_type": "display_data"
    }
   ],
   "source": [
    "df = as.data.frame(matrix(c(1:30),6,5))\n",
    "\n",
    "df\n",
    "\n",
    "df[2] = rep(0,6)\n",
    "\n",
    "df"
   ]
  },
  {
   "cell_type": "markdown",
   "metadata": {},
   "source": [
    "Ta có thể dùng dataframe rỗng để làm place holder hay object nhận kết quả xuất ra từ các vòng lặp. Điều này sẽ làm tăng đáng kể tốc độ của vòng lặp, so với việc ghép nối thủ công bằng hàm c, cbind hay rbind. \n",
    "\n",
    "Thí dụ sau: Dùng 1 dataframe rỗng sample_df để nhận kết quả chọn mẫu 10 lượt từ 1 population 100 quan sát bằng vòng lặp for:"
   ]
  },
  {
   "cell_type": "code",
   "execution_count": 130,
   "metadata": {},
   "outputs": [
    {
     "data": {
      "text/html": [
       "<table>\n",
       "<thead><tr><th scope=col>Iter</th><th scope=col>V1</th><th scope=col>V2</th></tr></thead>\n",
       "<tbody>\n",
       "\t<tr><td>NA</td><td>NA</td><td>NA</td></tr>\n",
       "\t<tr><td>NA</td><td>NA</td><td>NA</td></tr>\n",
       "\t<tr><td>NA</td><td>NA</td><td>NA</td></tr>\n",
       "\t<tr><td>NA</td><td>NA</td><td>NA</td></tr>\n",
       "\t<tr><td>NA</td><td>NA</td><td>NA</td></tr>\n",
       "\t<tr><td>NA</td><td>NA</td><td>NA</td></tr>\n",
       "\t<tr><td>NA</td><td>NA</td><td>NA</td></tr>\n",
       "\t<tr><td>NA</td><td>NA</td><td>NA</td></tr>\n",
       "\t<tr><td>NA</td><td>NA</td><td>NA</td></tr>\n",
       "\t<tr><td>NA</td><td>NA</td><td>NA</td></tr>\n",
       "</tbody>\n",
       "</table>\n"
      ],
      "text/latex": [
       "\\begin{tabular}{r|lll}\n",
       " Iter & V1 & V2\\\\\n",
       "\\hline\n",
       "\t NA & NA & NA\\\\\n",
       "\t NA & NA & NA\\\\\n",
       "\t NA & NA & NA\\\\\n",
       "\t NA & NA & NA\\\\\n",
       "\t NA & NA & NA\\\\\n",
       "\t NA & NA & NA\\\\\n",
       "\t NA & NA & NA\\\\\n",
       "\t NA & NA & NA\\\\\n",
       "\t NA & NA & NA\\\\\n",
       "\t NA & NA & NA\\\\\n",
       "\\end{tabular}\n"
      ],
      "text/markdown": [
       "\n",
       "| Iter | V1 | V2 |\n",
       "|---|---|---|\n",
       "| NA | NA | NA |\n",
       "| NA | NA | NA |\n",
       "| NA | NA | NA |\n",
       "| NA | NA | NA |\n",
       "| NA | NA | NA |\n",
       "| NA | NA | NA |\n",
       "| NA | NA | NA |\n",
       "| NA | NA | NA |\n",
       "| NA | NA | NA |\n",
       "| NA | NA | NA |\n",
       "\n"
      ],
      "text/plain": [
       "   Iter V1 V2\n",
       "1  NA   NA NA\n",
       "2  NA   NA NA\n",
       "3  NA   NA NA\n",
       "4  NA   NA NA\n",
       "5  NA   NA NA\n",
       "6  NA   NA NA\n",
       "7  NA   NA NA\n",
       "8  NA   NA NA\n",
       "9  NA   NA NA\n",
       "10 NA   NA NA"
      ]
     },
     "metadata": {},
     "output_type": "display_data"
    },
    {
     "data": {
      "text/html": [
       "<table>\n",
       "<thead><tr><th scope=col>Iter</th><th scope=col>V1</th><th scope=col>V2</th></tr></thead>\n",
       "<tbody>\n",
       "\t<tr><td> 1       </td><td> 9.465879</td><td>5.409890 </td></tr>\n",
       "\t<tr><td> 2       </td><td> 7.725251</td><td>4.093446 </td></tr>\n",
       "\t<tr><td> 3       </td><td>10.041294</td><td>4.790085 </td></tr>\n",
       "\t<tr><td> 4       </td><td> 7.639648</td><td>5.496864 </td></tr>\n",
       "\t<tr><td> 5       </td><td> 9.445158</td><td>5.919595 </td></tr>\n",
       "\t<tr><td> 6       </td><td>10.752851</td><td>5.270336 </td></tr>\n",
       "\t<tr><td> 7       </td><td>12.670188</td><td>3.788570 </td></tr>\n",
       "\t<tr><td> 8       </td><td>12.836039</td><td>4.403189 </td></tr>\n",
       "\t<tr><td> 9       </td><td>12.407029</td><td>4.317704 </td></tr>\n",
       "\t<tr><td>10       </td><td>12.175773</td><td>6.812161 </td></tr>\n",
       "</tbody>\n",
       "</table>\n"
      ],
      "text/latex": [
       "\\begin{tabular}{r|lll}\n",
       " Iter & V1 & V2\\\\\n",
       "\\hline\n",
       "\t  1        &  9.465879 & 5.409890 \\\\\n",
       "\t  2        &  7.725251 & 4.093446 \\\\\n",
       "\t  3        & 10.041294 & 4.790085 \\\\\n",
       "\t  4        &  7.639648 & 5.496864 \\\\\n",
       "\t  5        &  9.445158 & 5.919595 \\\\\n",
       "\t  6        & 10.752851 & 5.270336 \\\\\n",
       "\t  7        & 12.670188 & 3.788570 \\\\\n",
       "\t  8        & 12.836039 & 4.403189 \\\\\n",
       "\t  9        & 12.407029 & 4.317704 \\\\\n",
       "\t 10        & 12.175773 & 6.812161 \\\\\n",
       "\\end{tabular}\n"
      ],
      "text/markdown": [
       "\n",
       "| Iter | V1 | V2 |\n",
       "|---|---|---|\n",
       "|  1        |  9.465879 | 5.409890  |\n",
       "|  2        |  7.725251 | 4.093446  |\n",
       "|  3        | 10.041294 | 4.790085  |\n",
       "|  4        |  7.639648 | 5.496864  |\n",
       "|  5        |  9.445158 | 5.919595  |\n",
       "|  6        | 10.752851 | 5.270336  |\n",
       "|  7        | 12.670188 | 3.788570  |\n",
       "|  8        | 12.836039 | 4.403189  |\n",
       "|  9        | 12.407029 | 4.317704  |\n",
       "| 10        | 12.175773 | 6.812161  |\n",
       "\n"
      ],
      "text/plain": [
       "   Iter V1        V2      \n",
       "1   1    9.465879 5.409890\n",
       "2   2    7.725251 4.093446\n",
       "3   3   10.041294 4.790085\n",
       "4   4    7.639648 5.496864\n",
       "5   5    9.445158 5.919595\n",
       "6   6   10.752851 5.270336\n",
       "7   7   12.670188 3.788570\n",
       "8   8   12.836039 4.403189\n",
       "9   9   12.407029 4.317704\n",
       "10 10   12.175773 6.812161"
      ]
     },
     "metadata": {},
     "output_type": "display_data"
    }
   ],
   "source": [
    "population = data.frame('V1' = rnorm(100,10,2),\n",
    "                       'V2' = rnorm(100,5,1))\n",
    "\n",
    "sample_df = data.frame('Iter'=NA,\n",
    "                       'V1'= rep(NA,10),\n",
    "                       'V2' = rep(NA,10))\n",
    "\n",
    "sample_df\n",
    "\n",
    "for (i in 1:10){\n",
    "    sample_df[i,1] = i\n",
    "    sample_df[i,-1] = population[sample(1:100,1),]}\n",
    "\n",
    "sample_df"
   ]
  },
  {
   "cell_type": "markdown",
   "metadata": {},
   "source": [
    "### Hàm upper. và lower.tri"
   ]
  },
  {
   "cell_type": "markdown",
   "metadata": {},
   "source": [
    "Lưu ý: Hàm diag không áp dụng được cho dataframe, nhưng hàm upper.tri và lower.tri thì được:"
   ]
  },
  {
   "cell_type": "code",
   "execution_count": 100,
   "metadata": {},
   "outputs": [
    {
     "ename": "ERROR",
     "evalue": "Error in diag(df): l'objet (list) ne peut être converti automatiquement en un type 'double'\n",
     "output_type": "error",
     "traceback": [
      "Error in diag(df): l'objet (list) ne peut être converti automatiquement en un type 'double'\nTraceback:\n",
      "1. diag(df)"
     ]
    }
   ],
   "source": [
    "diag(df)"
   ]
  },
  {
   "cell_type": "code",
   "execution_count": 101,
   "metadata": {},
   "outputs": [
    {
     "data": {
      "text/html": [
       "<table>\n",
       "<tbody>\n",
       "\t<tr><td>FALSE</td><td> TRUE</td><td> TRUE</td><td> TRUE</td><td> TRUE</td></tr>\n",
       "\t<tr><td>FALSE</td><td>FALSE</td><td> TRUE</td><td> TRUE</td><td> TRUE</td></tr>\n",
       "\t<tr><td>FALSE</td><td>FALSE</td><td>FALSE</td><td> TRUE</td><td> TRUE</td></tr>\n",
       "\t<tr><td>FALSE</td><td>FALSE</td><td>FALSE</td><td>FALSE</td><td> TRUE</td></tr>\n",
       "\t<tr><td>FALSE</td><td>FALSE</td><td>FALSE</td><td>FALSE</td><td>FALSE</td></tr>\n",
       "\t<tr><td>FALSE</td><td>FALSE</td><td>FALSE</td><td>FALSE</td><td>FALSE</td></tr>\n",
       "</tbody>\n",
       "</table>\n"
      ],
      "text/latex": [
       "\\begin{tabular}{lllll}\n",
       "\t FALSE &  TRUE &  TRUE &  TRUE &  TRUE\\\\\n",
       "\t FALSE & FALSE &  TRUE &  TRUE &  TRUE\\\\\n",
       "\t FALSE & FALSE & FALSE &  TRUE &  TRUE\\\\\n",
       "\t FALSE & FALSE & FALSE & FALSE &  TRUE\\\\\n",
       "\t FALSE & FALSE & FALSE & FALSE & FALSE\\\\\n",
       "\t FALSE & FALSE & FALSE & FALSE & FALSE\\\\\n",
       "\\end{tabular}\n"
      ],
      "text/markdown": [
       "\n",
       "| FALSE |  TRUE |  TRUE |  TRUE |  TRUE |\n",
       "| FALSE | FALSE |  TRUE |  TRUE |  TRUE |\n",
       "| FALSE | FALSE | FALSE |  TRUE |  TRUE |\n",
       "| FALSE | FALSE | FALSE | FALSE |  TRUE |\n",
       "| FALSE | FALSE | FALSE | FALSE | FALSE |\n",
       "| FALSE | FALSE | FALSE | FALSE | FALSE |\n",
       "\n"
      ],
      "text/plain": [
       "     [,1]  [,2]  [,3]  [,4]  [,5] \n",
       "[1,] FALSE  TRUE  TRUE  TRUE  TRUE\n",
       "[2,] FALSE FALSE  TRUE  TRUE  TRUE\n",
       "[3,] FALSE FALSE FALSE  TRUE  TRUE\n",
       "[4,] FALSE FALSE FALSE FALSE  TRUE\n",
       "[5,] FALSE FALSE FALSE FALSE FALSE\n",
       "[6,] FALSE FALSE FALSE FALSE FALSE"
      ]
     },
     "metadata": {},
     "output_type": "display_data"
    }
   ],
   "source": [
    "upper.tri(df)"
   ]
  },
  {
   "cell_type": "code",
   "execution_count": 102,
   "metadata": {},
   "outputs": [
    {
     "data": {
      "text/html": [
       "<table>\n",
       "<tbody>\n",
       "\t<tr><td>FALSE</td><td>FALSE</td><td>FALSE</td><td>FALSE</td><td>FALSE</td></tr>\n",
       "\t<tr><td> TRUE</td><td>FALSE</td><td>FALSE</td><td>FALSE</td><td>FALSE</td></tr>\n",
       "\t<tr><td> TRUE</td><td> TRUE</td><td>FALSE</td><td>FALSE</td><td>FALSE</td></tr>\n",
       "\t<tr><td> TRUE</td><td> TRUE</td><td> TRUE</td><td>FALSE</td><td>FALSE</td></tr>\n",
       "\t<tr><td> TRUE</td><td> TRUE</td><td> TRUE</td><td> TRUE</td><td>FALSE</td></tr>\n",
       "\t<tr><td> TRUE</td><td> TRUE</td><td> TRUE</td><td> TRUE</td><td> TRUE</td></tr>\n",
       "</tbody>\n",
       "</table>\n"
      ],
      "text/latex": [
       "\\begin{tabular}{lllll}\n",
       "\t FALSE & FALSE & FALSE & FALSE & FALSE\\\\\n",
       "\t  TRUE & FALSE & FALSE & FALSE & FALSE\\\\\n",
       "\t  TRUE &  TRUE & FALSE & FALSE & FALSE\\\\\n",
       "\t  TRUE &  TRUE &  TRUE & FALSE & FALSE\\\\\n",
       "\t  TRUE &  TRUE &  TRUE &  TRUE & FALSE\\\\\n",
       "\t  TRUE &  TRUE &  TRUE &  TRUE &  TRUE\\\\\n",
       "\\end{tabular}\n"
      ],
      "text/markdown": [
       "\n",
       "| FALSE | FALSE | FALSE | FALSE | FALSE |\n",
       "|  TRUE | FALSE | FALSE | FALSE | FALSE |\n",
       "|  TRUE |  TRUE | FALSE | FALSE | FALSE |\n",
       "|  TRUE |  TRUE |  TRUE | FALSE | FALSE |\n",
       "|  TRUE |  TRUE |  TRUE |  TRUE | FALSE |\n",
       "|  TRUE |  TRUE |  TRUE |  TRUE |  TRUE |\n",
       "\n"
      ],
      "text/plain": [
       "     [,1]  [,2]  [,3]  [,4]  [,5] \n",
       "[1,] FALSE FALSE FALSE FALSE FALSE\n",
       "[2,]  TRUE FALSE FALSE FALSE FALSE\n",
       "[3,]  TRUE  TRUE FALSE FALSE FALSE\n",
       "[4,]  TRUE  TRUE  TRUE FALSE FALSE\n",
       "[5,]  TRUE  TRUE  TRUE  TRUE FALSE\n",
       "[6,]  TRUE  TRUE  TRUE  TRUE  TRUE"
      ]
     },
     "metadata": {},
     "output_type": "display_data"
    }
   ],
   "source": [
    "lower.tri(df)"
   ]
  },
  {
   "cell_type": "markdown",
   "metadata": {},
   "source": [
    "## Khảo sát cấu trúc dataframe"
   ]
  },
  {
   "cell_type": "markdown",
   "metadata": {},
   "source": [
    "Hàm head() và tail() trình bày n hàng đầu và cuối của dataframe (mặc định n = 5)"
   ]
  },
  {
   "cell_type": "code",
   "execution_count": 137,
   "metadata": {},
   "outputs": [
    {
     "data": {
      "text/html": [
       "<table>\n",
       "<thead><tr><th scope=col>Benh_nhan</th><th scope=col>Can_nang</th><th scope=col>Marker_X</th><th scope=col>Chan_doan</th></tr></thead>\n",
       "<tbody>\n",
       "\t<tr><td>P1      </td><td>71      </td><td>5.946097</td><td>FALSE   </td></tr>\n",
       "\t<tr><td>P2      </td><td>52      </td><td>3.161691</td><td> TRUE   </td></tr>\n",
       "\t<tr><td>P3      </td><td>76      </td><td>4.248353</td><td>FALSE   </td></tr>\n",
       "\t<tr><td>P4      </td><td>65      </td><td>1.374332</td><td> TRUE   </td></tr>\n",
       "\t<tr><td>P5      </td><td>57      </td><td>5.577200</td><td>FALSE   </td></tr>\n",
       "\t<tr><td>P6      </td><td>80      </td><td>4.620755</td><td> TRUE   </td></tr>\n",
       "</tbody>\n",
       "</table>\n"
      ],
      "text/latex": [
       "\\begin{tabular}{r|llll}\n",
       " Benh\\_nhan & Can\\_nang & Marker\\_X & Chan\\_doan\\\\\n",
       "\\hline\n",
       "\t P1       & 71       & 5.946097 & FALSE   \\\\\n",
       "\t P2       & 52       & 3.161691 &  TRUE   \\\\\n",
       "\t P3       & 76       & 4.248353 & FALSE   \\\\\n",
       "\t P4       & 65       & 1.374332 &  TRUE   \\\\\n",
       "\t P5       & 57       & 5.577200 & FALSE   \\\\\n",
       "\t P6       & 80       & 4.620755 &  TRUE   \\\\\n",
       "\\end{tabular}\n"
      ],
      "text/markdown": [
       "\n",
       "| Benh_nhan | Can_nang | Marker_X | Chan_doan |\n",
       "|---|---|---|---|\n",
       "| P1       | 71       | 5.946097 | FALSE    |\n",
       "| P2       | 52       | 3.161691 |  TRUE    |\n",
       "| P3       | 76       | 4.248353 | FALSE    |\n",
       "| P4       | 65       | 1.374332 |  TRUE    |\n",
       "| P5       | 57       | 5.577200 | FALSE    |\n",
       "| P6       | 80       | 4.620755 |  TRUE    |\n",
       "\n"
      ],
      "text/plain": [
       "  Benh_nhan Can_nang Marker_X Chan_doan\n",
       "1 P1        71       5.946097 FALSE    \n",
       "2 P2        52       3.161691  TRUE    \n",
       "3 P3        76       4.248353 FALSE    \n",
       "4 P4        65       1.374332  TRUE    \n",
       "5 P5        57       5.577200 FALSE    \n",
       "6 P6        80       4.620755  TRUE    "
      ]
     },
     "metadata": {},
     "output_type": "display_data"
    }
   ],
   "source": [
    "head(d, n = 6)"
   ]
  },
  {
   "cell_type": "code",
   "execution_count": 136,
   "metadata": {},
   "outputs": [
    {
     "data": {
      "text/html": [
       "<table>\n",
       "<thead><tr><th></th><th scope=col>Benh_nhan</th><th scope=col>Can_nang</th><th scope=col>Marker_X</th><th scope=col>Chan_doan</th></tr></thead>\n",
       "<tbody>\n",
       "\t<tr><th scope=row>15</th><td>P15     </td><td>77      </td><td>5.942716</td><td>FALSE   </td></tr>\n",
       "\t<tr><th scope=row>16</th><td>P16     </td><td>54      </td><td>6.163400</td><td> TRUE   </td></tr>\n",
       "\t<tr><th scope=row>17</th><td>P17     </td><td>71      </td><td>6.332041</td><td>FALSE   </td></tr>\n",
       "\t<tr><th scope=row>18</th><td>P18     </td><td>63      </td><td>3.442196</td><td>FALSE   </td></tr>\n",
       "\t<tr><th scope=row>19</th><td>P19     </td><td>52      </td><td>7.326650</td><td> TRUE   </td></tr>\n",
       "\t<tr><th scope=row>20</th><td>P20     </td><td>60      </td><td>1.070912</td><td>FALSE   </td></tr>\n",
       "</tbody>\n",
       "</table>\n"
      ],
      "text/latex": [
       "\\begin{tabular}{r|llll}\n",
       "  & Benh\\_nhan & Can\\_nang & Marker\\_X & Chan\\_doan\\\\\n",
       "\\hline\n",
       "\t15 & P15      & 77       & 5.942716 & FALSE   \\\\\n",
       "\t16 & P16      & 54       & 6.163400 &  TRUE   \\\\\n",
       "\t17 & P17      & 71       & 6.332041 & FALSE   \\\\\n",
       "\t18 & P18      & 63       & 3.442196 & FALSE   \\\\\n",
       "\t19 & P19      & 52       & 7.326650 &  TRUE   \\\\\n",
       "\t20 & P20      & 60       & 1.070912 & FALSE   \\\\\n",
       "\\end{tabular}\n"
      ],
      "text/markdown": [
       "\n",
       "| <!--/--> | Benh_nhan | Can_nang | Marker_X | Chan_doan |\n",
       "|---|---|---|---|---|\n",
       "| 15 | P15      | 77       | 5.942716 | FALSE    |\n",
       "| 16 | P16      | 54       | 6.163400 |  TRUE    |\n",
       "| 17 | P17      | 71       | 6.332041 | FALSE    |\n",
       "| 18 | P18      | 63       | 3.442196 | FALSE    |\n",
       "| 19 | P19      | 52       | 7.326650 |  TRUE    |\n",
       "| 20 | P20      | 60       | 1.070912 | FALSE    |\n",
       "\n"
      ],
      "text/plain": [
       "   Benh_nhan Can_nang Marker_X Chan_doan\n",
       "15 P15       77       5.942716 FALSE    \n",
       "16 P16       54       6.163400  TRUE    \n",
       "17 P17       71       6.332041 FALSE    \n",
       "18 P18       63       3.442196 FALSE    \n",
       "19 P19       52       7.326650  TRUE    \n",
       "20 P20       60       1.070912 FALSE    "
      ]
     },
     "metadata": {},
     "output_type": "display_data"
    }
   ],
   "source": [
    "tail(d, n = 6)"
   ]
  },
  {
   "cell_type": "markdown",
   "metadata": {},
   "source": [
    "Hàm nrow và ncol khảo sát số hàng và cột của dataframe"
   ]
  },
  {
   "cell_type": "code",
   "execution_count": 145,
   "metadata": {},
   "outputs": [
    {
     "data": {
      "text/html": [
       "20"
      ],
      "text/latex": [
       "20"
      ],
      "text/markdown": [
       "20"
      ],
      "text/plain": [
       "[1] 20"
      ]
     },
     "metadata": {},
     "output_type": "display_data"
    }
   ],
   "source": [
    "nrow(d)"
   ]
  },
  {
   "cell_type": "code",
   "execution_count": 146,
   "metadata": {},
   "outputs": [
    {
     "data": {
      "text/html": [
       "4"
      ],
      "text/latex": [
       "4"
      ],
      "text/markdown": [
       "4"
      ],
      "text/plain": [
       "[1] 4"
      ]
     },
     "metadata": {},
     "output_type": "display_data"
    }
   ],
   "source": [
    "ncol(d)"
   ]
  },
  {
   "cell_type": "markdown",
   "metadata": {},
   "source": [
    "Hàm dim khảo sát kích thước của dataframe, kết quả là vector : (nrow, ncol)"
   ]
  },
  {
   "cell_type": "code",
   "execution_count": 147,
   "metadata": {},
   "outputs": [
    {
     "data": {
      "text/html": [
       "<ol class=list-inline>\n",
       "\t<li>20</li>\n",
       "\t<li>4</li>\n",
       "</ol>\n"
      ],
      "text/latex": [
       "\\begin{enumerate*}\n",
       "\\item 20\n",
       "\\item 4\n",
       "\\end{enumerate*}\n"
      ],
      "text/markdown": [
       "1. 20\n",
       "2. 4\n",
       "\n",
       "\n"
      ],
      "text/plain": [
       "[1] 20  4"
      ]
     },
     "metadata": {},
     "output_type": "display_data"
    }
   ],
   "source": [
    "dim(d)"
   ]
  },
  {
   "cell_type": "code",
   "execution_count": 150,
   "metadata": {},
   "outputs": [
    {
     "data": {
      "text/html": [
       "20"
      ],
      "text/latex": [
       "20"
      ],
      "text/markdown": [
       "20"
      ],
      "text/plain": [
       "[1] 20"
      ]
     },
     "metadata": {},
     "output_type": "display_data"
    }
   ],
   "source": [
    "dim(d)[1]"
   ]
  },
  {
   "cell_type": "code",
   "execution_count": 151,
   "metadata": {},
   "outputs": [
    {
     "data": {
      "text/html": [
       "4"
      ],
      "text/latex": [
       "4"
      ],
      "text/markdown": [
       "4"
      ],
      "text/plain": [
       "[1] 4"
      ]
     },
     "metadata": {},
     "output_type": "display_data"
    }
   ],
   "source": [
    "dim(d)[2]"
   ]
  },
  {
   "cell_type": "markdown",
   "metadata": {},
   "source": [
    "Hàm length cho biết số cột của dataframe: Lưu ý - thực ra hàm length khảo sát số phần tử trong 1 object, mà đơn vị phần tử của dataframe là vector (cột), do đó ý nghĩa của hàm length khác nhau tùy vào object được khảo sát."
   ]
  },
  {
   "cell_type": "code",
   "execution_count": 159,
   "metadata": {},
   "outputs": [
    {
     "data": {
      "text/html": [
       "<table>\n",
       "<tbody>\n",
       "\t<tr><td>1 </td><td>3 </td><td>5 </td><td>7 </td><td> 9</td></tr>\n",
       "\t<tr><td>2 </td><td>4 </td><td>6 </td><td>8 </td><td>10</td></tr>\n",
       "</tbody>\n",
       "</table>\n"
      ],
      "text/latex": [
       "\\begin{tabular}{lllll}\n",
       "\t 1  & 3  & 5  & 7  &  9\\\\\n",
       "\t 2  & 4  & 6  & 8  & 10\\\\\n",
       "\\end{tabular}\n"
      ],
      "text/markdown": [
       "\n",
       "| 1  | 3  | 5  | 7  |  9 |\n",
       "| 2  | 4  | 6  | 8  | 10 |\n",
       "\n"
      ],
      "text/plain": [
       "     [,1] [,2] [,3] [,4] [,5]\n",
       "[1,] 1    3    5    7     9  \n",
       "[2,] 2    4    6    8    10  "
      ]
     },
     "metadata": {},
     "output_type": "display_data"
    },
    {
     "data": {
      "text/html": [
       "10"
      ],
      "text/latex": [
       "10"
      ],
      "text/markdown": [
       "10"
      ],
      "text/plain": [
       "[1] 10"
      ]
     },
     "metadata": {},
     "output_type": "display_data"
    }
   ],
   "source": [
    "m = matrix(c(1:10),2,5)\n",
    "\n",
    "m\n",
    "\n",
    "length(m)"
   ]
  },
  {
   "cell_type": "code",
   "execution_count": 165,
   "metadata": {},
   "outputs": [
    {
     "data": {
      "text/html": [
       "<table>\n",
       "<thead><tr><th scope=col>V1</th><th scope=col>V2</th><th scope=col>V3</th><th scope=col>V4</th><th scope=col>V5</th></tr></thead>\n",
       "<tbody>\n",
       "\t<tr><td>1 </td><td>3 </td><td>5 </td><td>7 </td><td> 9</td></tr>\n",
       "\t<tr><td>2 </td><td>4 </td><td>6 </td><td>8 </td><td>10</td></tr>\n",
       "</tbody>\n",
       "</table>\n"
      ],
      "text/latex": [
       "\\begin{tabular}{r|lllll}\n",
       " V1 & V2 & V3 & V4 & V5\\\\\n",
       "\\hline\n",
       "\t 1  & 3  & 5  & 7  &  9\\\\\n",
       "\t 2  & 4  & 6  & 8  & 10\\\\\n",
       "\\end{tabular}\n"
      ],
      "text/markdown": [
       "\n",
       "| V1 | V2 | V3 | V4 | V5 |\n",
       "|---|---|---|---|---|\n",
       "| 1  | 3  | 5  | 7  |  9 |\n",
       "| 2  | 4  | 6  | 8  | 10 |\n",
       "\n"
      ],
      "text/plain": [
       "  V1 V2 V3 V4 V5\n",
       "1 1  3  5  7   9\n",
       "2 2  4  6  8  10"
      ]
     },
     "metadata": {},
     "output_type": "display_data"
    },
    {
     "data": {
      "text/html": [
       "5"
      ],
      "text/latex": [
       "5"
      ],
      "text/markdown": [
       "5"
      ],
      "text/plain": [
       "[1] 5"
      ]
     },
     "metadata": {},
     "output_type": "display_data"
    }
   ],
   "source": [
    "md = as.data.frame(m)\n",
    "\n",
    "md\n",
    "\n",
    "length(md)"
   ]
  },
  {
   "cell_type": "markdown",
   "metadata": {},
   "source": [
    "Hàm attributes mô tả nội dung indices hàng và cột của dataframe:"
   ]
  },
  {
   "cell_type": "code",
   "execution_count": 166,
   "metadata": {},
   "outputs": [
    {
     "data": {
      "text/html": [
       "<dl>\n",
       "\t<dt>$names</dt>\n",
       "\t\t<dd><ol class=list-inline>\n",
       "\t<li>'Benh_nhan'</li>\n",
       "\t<li>'Can_nang'</li>\n",
       "\t<li>'Marker_X'</li>\n",
       "\t<li>'Chan_doan'</li>\n",
       "</ol>\n",
       "</dd>\n",
       "\t<dt>$class</dt>\n",
       "\t\t<dd>'data.frame'</dd>\n",
       "\t<dt>$row.names</dt>\n",
       "\t\t<dd><ol class=list-inline>\n",
       "\t<li>1</li>\n",
       "\t<li>2</li>\n",
       "\t<li>3</li>\n",
       "\t<li>4</li>\n",
       "\t<li>5</li>\n",
       "\t<li>6</li>\n",
       "\t<li>7</li>\n",
       "\t<li>8</li>\n",
       "\t<li>9</li>\n",
       "\t<li>10</li>\n",
       "\t<li>11</li>\n",
       "\t<li>12</li>\n",
       "\t<li>13</li>\n",
       "\t<li>14</li>\n",
       "\t<li>15</li>\n",
       "\t<li>16</li>\n",
       "\t<li>17</li>\n",
       "\t<li>18</li>\n",
       "\t<li>19</li>\n",
       "\t<li>20</li>\n",
       "</ol>\n",
       "</dd>\n",
       "</dl>\n"
      ],
      "text/latex": [
       "\\begin{description}\n",
       "\\item[\\$names] \\begin{enumerate*}\n",
       "\\item 'Benh\\_nhan'\n",
       "\\item 'Can\\_nang'\n",
       "\\item 'Marker\\_X'\n",
       "\\item 'Chan\\_doan'\n",
       "\\end{enumerate*}\n",
       "\n",
       "\\item[\\$class] 'data.frame'\n",
       "\\item[\\$row.names] \\begin{enumerate*}\n",
       "\\item 1\n",
       "\\item 2\n",
       "\\item 3\n",
       "\\item 4\n",
       "\\item 5\n",
       "\\item 6\n",
       "\\item 7\n",
       "\\item 8\n",
       "\\item 9\n",
       "\\item 10\n",
       "\\item 11\n",
       "\\item 12\n",
       "\\item 13\n",
       "\\item 14\n",
       "\\item 15\n",
       "\\item 16\n",
       "\\item 17\n",
       "\\item 18\n",
       "\\item 19\n",
       "\\item 20\n",
       "\\end{enumerate*}\n",
       "\n",
       "\\end{description}\n"
      ],
      "text/markdown": [
       "$names\n",
       ":   1. 'Benh_nhan'\n",
       "2. 'Can_nang'\n",
       "3. 'Marker_X'\n",
       "4. 'Chan_doan'\n",
       "\n",
       "\n",
       "\n",
       "$class\n",
       ":   'data.frame'\n",
       "$row.names\n",
       ":   1. 1\n",
       "2. 2\n",
       "3. 3\n",
       "4. 4\n",
       "5. 5\n",
       "6. 6\n",
       "7. 7\n",
       "8. 8\n",
       "9. 9\n",
       "10. 10\n",
       "11. 11\n",
       "12. 12\n",
       "13. 13\n",
       "14. 14\n",
       "15. 15\n",
       "16. 16\n",
       "17. 17\n",
       "18. 18\n",
       "19. 19\n",
       "20. 20\n",
       "\n",
       "\n",
       "\n",
       "\n",
       "\n"
      ],
      "text/plain": [
       "$names\n",
       "[1] \"Benh_nhan\" \"Can_nang\"  \"Marker_X\"  \"Chan_doan\"\n",
       "\n",
       "$class\n",
       "[1] \"data.frame\"\n",
       "\n",
       "$row.names\n",
       " [1]  1  2  3  4  5  6  7  8  9 10 11 12 13 14 15 16 17 18 19 20\n"
      ]
     },
     "metadata": {},
     "output_type": "display_data"
    }
   ],
   "source": [
    "attributes(d)"
   ]
  },
  {
   "cell_type": "markdown",
   "metadata": {},
   "source": [
    "Hàm str như ta đã biết, mô tả nội dung bên trong dataframe"
   ]
  },
  {
   "cell_type": "code",
   "execution_count": 168,
   "metadata": {},
   "outputs": [
    {
     "name": "stdout",
     "output_type": "stream",
     "text": [
      "'data.frame':\t20 obs. of  4 variables:\n",
      " $ Benh_nhan: Factor w/ 20 levels \"P1\",\"P10\",\"P11\",..: 1 12 14 15 16 17 18 19 20 2 ...\n",
      " $ Can_nang : int  71 52 76 65 57 80 57 57 57 68 ...\n",
      " $ Marker_X : num  5.95 3.16 4.25 1.37 5.58 ...\n",
      " $ Chan_doan: logi  FALSE TRUE FALSE TRUE FALSE TRUE ...\n"
     ]
    }
   ],
   "source": [
    "str(d)"
   ]
  },
  {
   "cell_type": "markdown",
   "metadata": {},
   "source": [
    "# Những thao tác trên dataframe"
   ]
  },
  {
   "cell_type": "markdown",
   "metadata": {},
   "source": [
    "## Truy xuất biến bằng toán tử $\n",
    "\n",
    "$ dùng để truy xuất cột (biến) trong dataframe: kết quả là vector:"
   ]
  },
  {
   "cell_type": "code",
   "execution_count": 175,
   "metadata": {},
   "outputs": [
    {
     "data": {
      "text/html": [
       "<table>\n",
       "<thead><tr><th scope=col>Benh_nhan</th><th scope=col>Can_nang</th><th scope=col>Marker_X</th><th scope=col>Chan_doan</th></tr></thead>\n",
       "<tbody>\n",
       "\t<tr><td>P1      </td><td>71      </td><td>5.946097</td><td>FALSE   </td></tr>\n",
       "\t<tr><td>P2      </td><td>52      </td><td>3.161691</td><td> TRUE   </td></tr>\n",
       "\t<tr><td>P3      </td><td>76      </td><td>4.248353</td><td>FALSE   </td></tr>\n",
       "\t<tr><td>P4      </td><td>65      </td><td>1.374332</td><td> TRUE   </td></tr>\n",
       "\t<tr><td>P5      </td><td>57      </td><td>5.577200</td><td>FALSE   </td></tr>\n",
       "\t<tr><td>P6      </td><td>80      </td><td>4.620755</td><td> TRUE   </td></tr>\n",
       "</tbody>\n",
       "</table>\n"
      ],
      "text/latex": [
       "\\begin{tabular}{r|llll}\n",
       " Benh\\_nhan & Can\\_nang & Marker\\_X & Chan\\_doan\\\\\n",
       "\\hline\n",
       "\t P1       & 71       & 5.946097 & FALSE   \\\\\n",
       "\t P2       & 52       & 3.161691 &  TRUE   \\\\\n",
       "\t P3       & 76       & 4.248353 & FALSE   \\\\\n",
       "\t P4       & 65       & 1.374332 &  TRUE   \\\\\n",
       "\t P5       & 57       & 5.577200 & FALSE   \\\\\n",
       "\t P6       & 80       & 4.620755 &  TRUE   \\\\\n",
       "\\end{tabular}\n"
      ],
      "text/markdown": [
       "\n",
       "| Benh_nhan | Can_nang | Marker_X | Chan_doan |\n",
       "|---|---|---|---|\n",
       "| P1       | 71       | 5.946097 | FALSE    |\n",
       "| P2       | 52       | 3.161691 |  TRUE    |\n",
       "| P3       | 76       | 4.248353 | FALSE    |\n",
       "| P4       | 65       | 1.374332 |  TRUE    |\n",
       "| P5       | 57       | 5.577200 | FALSE    |\n",
       "| P6       | 80       | 4.620755 |  TRUE    |\n",
       "\n"
      ],
      "text/plain": [
       "  Benh_nhan Can_nang Marker_X Chan_doan\n",
       "1 P1        71       5.946097 FALSE    \n",
       "2 P2        52       3.161691  TRUE    \n",
       "3 P3        76       4.248353 FALSE    \n",
       "4 P4        65       1.374332  TRUE    \n",
       "5 P5        57       5.577200 FALSE    \n",
       "6 P6        80       4.620755  TRUE    "
      ]
     },
     "metadata": {},
     "output_type": "display_data"
    }
   ],
   "source": [
    "head(d)"
   ]
  },
  {
   "cell_type": "code",
   "execution_count": 176,
   "metadata": {},
   "outputs": [
    {
     "data": {
      "text/html": [
       "<ol class=list-inline>\n",
       "\t<li>P1</li>\n",
       "\t<li>P2</li>\n",
       "\t<li>P3</li>\n",
       "\t<li>P4</li>\n",
       "\t<li>P5</li>\n",
       "\t<li>P6</li>\n",
       "\t<li>P7</li>\n",
       "\t<li>P8</li>\n",
       "\t<li>P9</li>\n",
       "\t<li>P10</li>\n",
       "\t<li>P11</li>\n",
       "\t<li>P12</li>\n",
       "\t<li>P13</li>\n",
       "\t<li>P14</li>\n",
       "\t<li>P15</li>\n",
       "\t<li>P16</li>\n",
       "\t<li>P17</li>\n",
       "\t<li>P18</li>\n",
       "\t<li>P19</li>\n",
       "\t<li>P20</li>\n",
       "</ol>\n",
       "\n",
       "<details>\n",
       "\t<summary style=display:list-item;cursor:pointer>\n",
       "\t\t<strong>Levels</strong>:\n",
       "\t</summary>\n",
       "\t<ol class=list-inline>\n",
       "\t\t<li>'P1'</li>\n",
       "\t\t<li>'P10'</li>\n",
       "\t\t<li>'P11'</li>\n",
       "\t\t<li>'P12'</li>\n",
       "\t\t<li>'P13'</li>\n",
       "\t\t<li>'P14'</li>\n",
       "\t\t<li>'P15'</li>\n",
       "\t\t<li>'P16'</li>\n",
       "\t\t<li>'P17'</li>\n",
       "\t\t<li>'P18'</li>\n",
       "\t\t<li>'P19'</li>\n",
       "\t\t<li>'P2'</li>\n",
       "\t\t<li>'P20'</li>\n",
       "\t\t<li>'P3'</li>\n",
       "\t\t<li>'P4'</li>\n",
       "\t\t<li>'P5'</li>\n",
       "\t\t<li>'P6'</li>\n",
       "\t\t<li>'P7'</li>\n",
       "\t\t<li>'P8'</li>\n",
       "\t\t<li>'P9'</li>\n",
       "\t</ol>\n",
       "</details>"
      ],
      "text/latex": [
       "\\begin{enumerate*}\n",
       "\\item P1\n",
       "\\item P2\n",
       "\\item P3\n",
       "\\item P4\n",
       "\\item P5\n",
       "\\item P6\n",
       "\\item P7\n",
       "\\item P8\n",
       "\\item P9\n",
       "\\item P10\n",
       "\\item P11\n",
       "\\item P12\n",
       "\\item P13\n",
       "\\item P14\n",
       "\\item P15\n",
       "\\item P16\n",
       "\\item P17\n",
       "\\item P18\n",
       "\\item P19\n",
       "\\item P20\n",
       "\\end{enumerate*}\n",
       "\n",
       "\\emph{Levels}: \\begin{enumerate*}\n",
       "\\item 'P1'\n",
       "\\item 'P10'\n",
       "\\item 'P11'\n",
       "\\item 'P12'\n",
       "\\item 'P13'\n",
       "\\item 'P14'\n",
       "\\item 'P15'\n",
       "\\item 'P16'\n",
       "\\item 'P17'\n",
       "\\item 'P18'\n",
       "\\item 'P19'\n",
       "\\item 'P2'\n",
       "\\item 'P20'\n",
       "\\item 'P3'\n",
       "\\item 'P4'\n",
       "\\item 'P5'\n",
       "\\item 'P6'\n",
       "\\item 'P7'\n",
       "\\item 'P8'\n",
       "\\item 'P9'\n",
       "\\end{enumerate*}\n"
      ],
      "text/markdown": [
       "1. P1\n",
       "2. P2\n",
       "3. P3\n",
       "4. P4\n",
       "5. P5\n",
       "6. P6\n",
       "7. P7\n",
       "8. P8\n",
       "9. P9\n",
       "10. P10\n",
       "11. P11\n",
       "12. P12\n",
       "13. P13\n",
       "14. P14\n",
       "15. P15\n",
       "16. P16\n",
       "17. P17\n",
       "18. P18\n",
       "19. P19\n",
       "20. P20\n",
       "\n",
       "\n",
       "\n",
       "**Levels**: 1. 'P1'\n",
       "2. 'P10'\n",
       "3. 'P11'\n",
       "4. 'P12'\n",
       "5. 'P13'\n",
       "6. 'P14'\n",
       "7. 'P15'\n",
       "8. 'P16'\n",
       "9. 'P17'\n",
       "10. 'P18'\n",
       "11. 'P19'\n",
       "12. 'P2'\n",
       "13. 'P20'\n",
       "14. 'P3'\n",
       "15. 'P4'\n",
       "16. 'P5'\n",
       "17. 'P6'\n",
       "18. 'P7'\n",
       "19. 'P8'\n",
       "20. 'P9'\n",
       "\n",
       "\n"
      ],
      "text/plain": [
       " [1] P1  P2  P3  P4  P5  P6  P7  P8  P9  P10 P11 P12 P13 P14 P15 P16 P17 P18 P19\n",
       "[20] P20\n",
       "20 Levels: P1 P10 P11 P12 P13 P14 P15 P16 P17 P18 P19 P2 P20 P3 P4 P5 P6 ... P9"
      ]
     },
     "metadata": {},
     "output_type": "display_data"
    }
   ],
   "source": [
    "d$Benh_nhan"
   ]
  },
  {
   "cell_type": "code",
   "execution_count": 177,
   "metadata": {},
   "outputs": [
    {
     "data": {
      "text/html": [
       "<ol class=list-inline>\n",
       "\t<li>5.94609652204699</li>\n",
       "\t<li>3.16169054465605</li>\n",
       "\t<li>4.24835312732091</li>\n",
       "\t<li>1.37433247137555</li>\n",
       "\t<li>5.57720042220993</li>\n",
       "\t<li>4.62075483744579</li>\n",
       "\t<li>5.0357204264227</li>\n",
       "\t<li>6.30086048485226</li>\n",
       "\t<li>5.62050997084236</li>\n",
       "\t<li>8.33671433784778</li>\n",
       "\t<li>6.34522906722203</li>\n",
       "\t<li>4.44496402394772</li>\n",
       "\t<li>4.70794721609433</li>\n",
       "\t<li>8.4028636633519</li>\n",
       "\t<li>5.94271576114209</li>\n",
       "\t<li>6.16340015714728</li>\n",
       "\t<li>6.33204139202064</li>\n",
       "\t<li>3.44219554968216</li>\n",
       "\t<li>7.32664969565073</li>\n",
       "\t<li>1.0709116095993</li>\n",
       "</ol>\n"
      ],
      "text/latex": [
       "\\begin{enumerate*}\n",
       "\\item 5.94609652204699\n",
       "\\item 3.16169054465605\n",
       "\\item 4.24835312732091\n",
       "\\item 1.37433247137555\n",
       "\\item 5.57720042220993\n",
       "\\item 4.62075483744579\n",
       "\\item 5.0357204264227\n",
       "\\item 6.30086048485226\n",
       "\\item 5.62050997084236\n",
       "\\item 8.33671433784778\n",
       "\\item 6.34522906722203\n",
       "\\item 4.44496402394772\n",
       "\\item 4.70794721609433\n",
       "\\item 8.4028636633519\n",
       "\\item 5.94271576114209\n",
       "\\item 6.16340015714728\n",
       "\\item 6.33204139202064\n",
       "\\item 3.44219554968216\n",
       "\\item 7.32664969565073\n",
       "\\item 1.0709116095993\n",
       "\\end{enumerate*}\n"
      ],
      "text/markdown": [
       "1. 5.94609652204699\n",
       "2. 3.16169054465605\n",
       "3. 4.24835312732091\n",
       "4. 1.37433247137555\n",
       "5. 5.57720042220993\n",
       "6. 4.62075483744579\n",
       "7. 5.0357204264227\n",
       "8. 6.30086048485226\n",
       "9. 5.62050997084236\n",
       "10. 8.33671433784778\n",
       "11. 6.34522906722203\n",
       "12. 4.44496402394772\n",
       "13. 4.70794721609433\n",
       "14. 8.4028636633519\n",
       "15. 5.94271576114209\n",
       "16. 6.16340015714728\n",
       "17. 6.33204139202064\n",
       "18. 3.44219554968216\n",
       "19. 7.32664969565073\n",
       "20. 1.0709116095993\n",
       "\n",
       "\n"
      ],
      "text/plain": [
       " [1] 5.946097 3.161691 4.248353 1.374332 5.577200 4.620755 5.035720 6.300860\n",
       " [9] 5.620510 8.336714 6.345229 4.444964 4.707947 8.402864 5.942716 6.163400\n",
       "[17] 6.332041 3.442196 7.326650 1.070912"
      ]
     },
     "metadata": {},
     "output_type": "display_data"
    }
   ],
   "source": [
    "d$Marker_X"
   ]
  },
  {
   "cell_type": "code",
   "execution_count": 178,
   "metadata": {},
   "outputs": [
    {
     "data": {
      "text/html": [
       "<ol class=list-inline>\n",
       "\t<li>5.94609652204699</li>\n",
       "\t<li>3.16169054465605</li>\n",
       "\t<li>4.24835312732091</li>\n",
       "\t<li>1.37433247137555</li>\n",
       "\t<li>5.57720042220993</li>\n",
       "</ol>\n"
      ],
      "text/latex": [
       "\\begin{enumerate*}\n",
       "\\item 5.94609652204699\n",
       "\\item 3.16169054465605\n",
       "\\item 4.24835312732091\n",
       "\\item 1.37433247137555\n",
       "\\item 5.57720042220993\n",
       "\\end{enumerate*}\n"
      ],
      "text/markdown": [
       "1. 5.94609652204699\n",
       "2. 3.16169054465605\n",
       "3. 4.24835312732091\n",
       "4. 1.37433247137555\n",
       "5. 5.57720042220993\n",
       "\n",
       "\n"
      ],
      "text/plain": [
       "[1] 5.946097 3.161691 4.248353 1.374332 5.577200"
      ]
     },
     "metadata": {},
     "output_type": "display_data"
    }
   ],
   "source": [
    "d$Marker_X[1:5]"
   ]
  },
  {
   "cell_type": "markdown",
   "metadata": {},
   "source": [
    "## Truy nhập biến bằng hàm with(dataframe)\n",
    "\n",
    "Dùng hàm with(dataframe), ta có thể thao tác trực tiếp trên các biến chỉ bằng tên của chúng. Cách làm này phổ quát và an toàn hơn hàm attach():"
   ]
  },
  {
   "cell_type": "code",
   "execution_count": 211,
   "metadata": {},
   "outputs": [
    {
     "data": {
      "text/html": [
       "<table>\n",
       "<thead><tr><th scope=col>V1</th><th scope=col>V2</th><th scope=col>V3</th><th scope=col>V4</th></tr></thead>\n",
       "<tbody>\n",
       "\t<tr><td>1.4395244</td><td>A        </td><td>23       </td><td> 66      </td></tr>\n",
       "\t<tr><td>1.7698225</td><td>D        </td><td>33       </td><td> 68      </td></tr>\n",
       "\t<tr><td>3.5587083</td><td>A        </td><td>36       </td><td> 69      </td></tr>\n",
       "\t<tr><td>2.0705084</td><td>A        </td><td>30       </td><td> 82      </td></tr>\n",
       "\t<tr><td>2.1292877</td><td>E        </td><td>26       </td><td> 86      </td></tr>\n",
       "\t<tr><td>3.7150650</td><td>C        </td><td>40       </td><td>100      </td></tr>\n",
       "\t<tr><td>2.4609162</td><td>B        </td><td>31       </td><td> 96      </td></tr>\n",
       "\t<tr><td>0.7349388</td><td>B        </td><td>34       </td><td> 91      </td></tr>\n",
       "\t<tr><td>1.3131471</td><td>A        </td><td>29       </td><td> 84      </td></tr>\n",
       "\t<tr><td>1.5543380</td><td>C        </td><td>32       </td><td> 61      </td></tr>\n",
       "</tbody>\n",
       "</table>\n"
      ],
      "text/latex": [
       "\\begin{tabular}{r|llll}\n",
       " V1 & V2 & V3 & V4\\\\\n",
       "\\hline\n",
       "\t 1.4395244 & A         & 23        &  66      \\\\\n",
       "\t 1.7698225 & D         & 33        &  68      \\\\\n",
       "\t 3.5587083 & A         & 36        &  69      \\\\\n",
       "\t 2.0705084 & A         & 30        &  82      \\\\\n",
       "\t 2.1292877 & E         & 26        &  86      \\\\\n",
       "\t 3.7150650 & C         & 40        & 100      \\\\\n",
       "\t 2.4609162 & B         & 31        &  96      \\\\\n",
       "\t 0.7349388 & B         & 34        &  91      \\\\\n",
       "\t 1.3131471 & A         & 29        &  84      \\\\\n",
       "\t 1.5543380 & C         & 32        &  61      \\\\\n",
       "\\end{tabular}\n"
      ],
      "text/markdown": [
       "\n",
       "| V1 | V2 | V3 | V4 |\n",
       "|---|---|---|---|\n",
       "| 1.4395244 | A         | 23        |  66       |\n",
       "| 1.7698225 | D         | 33        |  68       |\n",
       "| 3.5587083 | A         | 36        |  69       |\n",
       "| 2.0705084 | A         | 30        |  82       |\n",
       "| 2.1292877 | E         | 26        |  86       |\n",
       "| 3.7150650 | C         | 40        | 100       |\n",
       "| 2.4609162 | B         | 31        |  96       |\n",
       "| 0.7349388 | B         | 34        |  91       |\n",
       "| 1.3131471 | A         | 29        |  84       |\n",
       "| 1.5543380 | C         | 32        |  61       |\n",
       "\n"
      ],
      "text/plain": [
       "   V1        V2 V3 V4 \n",
       "1  1.4395244 A  23  66\n",
       "2  1.7698225 D  33  68\n",
       "3  3.5587083 A  36  69\n",
       "4  2.0705084 A  30  82\n",
       "5  2.1292877 E  26  86\n",
       "6  3.7150650 C  40 100\n",
       "7  2.4609162 B  31  96\n",
       "8  0.7349388 B  34  91\n",
       "9  1.3131471 A  29  84\n",
       "10 1.5543380 C  32  61"
      ]
     },
     "metadata": {},
     "output_type": "display_data"
    }
   ],
   "source": [
    "set.seed(123)\n",
    "\n",
    "df = data.frame(V1 = rnorm(10,2,1),\n",
    "                V2 = sample(LETTERS[1:5], 10, \n",
    "                           replace=TRUE),\n",
    "               V3 = sample(20:50,10),\n",
    "               V4 = sample(60:100,10)\n",
    "               )\n",
    "\n",
    "df"
   ]
  },
  {
   "cell_type": "code",
   "execution_count": 212,
   "metadata": {},
   "outputs": [
    {
     "data": {
      "text/html": [
       "<ol class=list-inline>\n",
       "\t<li>1.43952435344779</li>\n",
       "\t<li>1.76982251051672</li>\n",
       "\t<li>3.55870831414912</li>\n",
       "\t<li>2.07050839142458</li>\n",
       "\t<li>2.12928773516095</li>\n",
       "\t<li>3.71506498688328</li>\n",
       "\t<li>2.4609162059892</li>\n",
       "\t<li>0.734938765393466</li>\n",
       "\t<li>1.31314714810647</li>\n",
       "\t<li>1.55433802990004</li>\n",
       "</ol>\n"
      ],
      "text/latex": [
       "\\begin{enumerate*}\n",
       "\\item 1.43952435344779\n",
       "\\item 1.76982251051672\n",
       "\\item 3.55870831414912\n",
       "\\item 2.07050839142458\n",
       "\\item 2.12928773516095\n",
       "\\item 3.71506498688328\n",
       "\\item 2.4609162059892\n",
       "\\item 0.734938765393466\n",
       "\\item 1.31314714810647\n",
       "\\item 1.55433802990004\n",
       "\\end{enumerate*}\n"
      ],
      "text/markdown": [
       "1. 1.43952435344779\n",
       "2. 1.76982251051672\n",
       "3. 3.55870831414912\n",
       "4. 2.07050839142458\n",
       "5. 2.12928773516095\n",
       "6. 3.71506498688328\n",
       "7. 2.4609162059892\n",
       "8. 0.734938765393466\n",
       "9. 1.31314714810647\n",
       "10. 1.55433802990004\n",
       "\n",
       "\n"
      ],
      "text/plain": [
       " [1] 1.4395244 1.7698225 3.5587083 2.0705084 2.1292877 3.7150650 2.4609162\n",
       " [8] 0.7349388 1.3131471 1.5543380"
      ]
     },
     "metadata": {},
     "output_type": "display_data"
    }
   ],
   "source": [
    "with(df, V1)"
   ]
  },
  {
   "cell_type": "code",
   "execution_count": 216,
   "metadata": {},
   "outputs": [
    {
     "data": {
      "text/html": [
       "<ol class=list-inline>\n",
       "\t<li>89</li>\n",
       "\t<li>101</li>\n",
       "\t<li>105</li>\n",
       "\t<li>112</li>\n",
       "\t<li>112</li>\n",
       "\t<li>140</li>\n",
       "\t<li>127</li>\n",
       "\t<li>125</li>\n",
       "\t<li>113</li>\n",
       "\t<li>93</li>\n",
       "</ol>\n"
      ],
      "text/latex": [
       "\\begin{enumerate*}\n",
       "\\item 89\n",
       "\\item 101\n",
       "\\item 105\n",
       "\\item 112\n",
       "\\item 112\n",
       "\\item 140\n",
       "\\item 127\n",
       "\\item 125\n",
       "\\item 113\n",
       "\\item 93\n",
       "\\end{enumerate*}\n"
      ],
      "text/markdown": [
       "1. 89\n",
       "2. 101\n",
       "3. 105\n",
       "4. 112\n",
       "5. 112\n",
       "6. 140\n",
       "7. 127\n",
       "8. 125\n",
       "9. 113\n",
       "10. 93\n",
       "\n",
       "\n"
      ],
      "text/plain": [
       " [1]  89 101 105 112 112 140 127 125 113  93"
      ]
     },
     "metadata": {},
     "output_type": "display_data"
    }
   ],
   "source": [
    "with(df, V3 + V4)"
   ]
  },
  {
   "cell_type": "code",
   "execution_count": 219,
   "metadata": {},
   "outputs": [
    {
     "data": {
      "text/plain": [
       "\n",
       "Call:\n",
       "glm(formula = Sepal.Length ~ Sepal.Width)\n",
       "\n",
       "Deviance Residuals: \n",
       "    Min       1Q   Median       3Q      Max  \n",
       "-1.5561  -0.6333  -0.1120   0.5579   2.2226  \n",
       "\n",
       "Coefficients:\n",
       "            Estimate Std. Error t value Pr(>|t|)    \n",
       "(Intercept)   6.5262     0.4789   13.63   <2e-16 ***\n",
       "Sepal.Width  -0.2234     0.1551   -1.44    0.152    \n",
       "---\n",
       "Signif. codes:  0 '***' 0.001 '**' 0.01 '*' 0.05 '.' 0.1 ' ' 1\n",
       "\n",
       "(Dispersion parameter for gaussian family taken to be 0.6807844)\n",
       "\n",
       "    Null deviance: 102.17  on 149  degrees of freedom\n",
       "Residual deviance: 100.76  on 148  degrees of freedom\n",
       "AIC: 371.99\n",
       "\n",
       "Number of Fisher Scoring iterations: 2\n"
      ]
     },
     "metadata": {},
     "output_type": "display_data"
    }
   ],
   "source": [
    "with(iris, summary(glm(Sepal.Length ~ Sepal.Width)))"
   ]
  },
  {
   "cell_type": "code",
   "execution_count": 222,
   "metadata": {},
   "outputs": [
    {
     "data": {
      "text/plain": [
       "[[1]]\n",
       "\n",
       "Call:\n",
       "glm(formula = Sepal.Length ~ Sepal.Width)\n",
       "\n",
       "Deviance Residuals: \n",
       "    Min       1Q   Median       3Q      Max  \n",
       "-1.5561  -0.6333  -0.1120   0.5579   2.2226  \n",
       "\n",
       "Coefficients:\n",
       "            Estimate Std. Error t value Pr(>|t|)    \n",
       "(Intercept)   6.5262     0.4789   13.63   <2e-16 ***\n",
       "Sepal.Width  -0.2234     0.1551   -1.44    0.152    \n",
       "---\n",
       "Signif. codes:  0 '***' 0.001 '**' 0.01 '*' 0.05 '.' 0.1 ' ' 1\n",
       "\n",
       "(Dispersion parameter for gaussian family taken to be 0.6807844)\n",
       "\n",
       "    Null deviance: 102.17  on 149  degrees of freedom\n",
       "Residual deviance: 100.76  on 148  degrees of freedom\n",
       "AIC: 371.99\n",
       "\n",
       "Number of Fisher Scoring iterations: 2\n",
       "\n",
       "\n",
       "[[2]]\n",
       "\n",
       "Call:\n",
       "glm(formula = Sepal.Length ~ Sepal.Width + Petal.Length)\n",
       "\n",
       "Deviance Residuals: \n",
       "     Min        1Q    Median        3Q       Max  \n",
       "-0.96159  -0.23489   0.00077   0.21453   0.78557  \n",
       "\n",
       "Coefficients:\n",
       "             Estimate Std. Error t value Pr(>|t|)    \n",
       "(Intercept)   2.24914    0.24797    9.07 7.04e-16 ***\n",
       "Sepal.Width   0.59552    0.06933    8.59 1.16e-14 ***\n",
       "Petal.Length  0.47192    0.01712   27.57  < 2e-16 ***\n",
       "---\n",
       "Signif. codes:  0 '***' 0.001 '**' 0.01 '*' 0.05 '.' 0.1 ' ' 1\n",
       "\n",
       "(Dispersion parameter for gaussian family taken to be 0.11108)\n",
       "\n",
       "    Null deviance: 102.168  on 149  degrees of freedom\n",
       "Residual deviance:  16.329  on 147  degrees of freedom\n",
       "AIC: 101.03\n",
       "\n",
       "Number of Fisher Scoring iterations: 2\n",
       "\n",
       "\n",
       "[[3]]\n",
       "\n",
       "Call:\n",
       "glm(formula = Sepal.Length ~ Sepal.Width + Petal.Length + Petal.Width)\n",
       "\n",
       "Deviance Residuals: \n",
       "     Min        1Q    Median        3Q       Max  \n",
       "-0.82816  -0.21989   0.01875   0.19709   0.84570  \n",
       "\n",
       "Coefficients:\n",
       "             Estimate Std. Error t value Pr(>|t|)    \n",
       "(Intercept)   1.85600    0.25078   7.401 9.85e-12 ***\n",
       "Sepal.Width   0.65084    0.06665   9.765  < 2e-16 ***\n",
       "Petal.Length  0.70913    0.05672  12.502  < 2e-16 ***\n",
       "Petal.Width  -0.55648    0.12755  -4.363 2.41e-05 ***\n",
       "---\n",
       "Signif. codes:  0 '***' 0.001 '**' 0.01 '*' 0.05 '.' 0.1 ' ' 1\n",
       "\n",
       "(Dispersion parameter for gaussian family taken to be 0.09894113)\n",
       "\n",
       "    Null deviance: 102.168  on 149  degrees of freedom\n",
       "Residual deviance:  14.445  on 146  degrees of freedom\n",
       "AIC: 84.643\n",
       "\n",
       "Number of Fisher Scoring iterations: 2\n",
       "\n"
      ]
     },
     "metadata": {},
     "output_type": "display_data"
    }
   ],
   "source": [
    "with(iris, \n",
    "     list(summary(glm(Sepal.Length ~ Sepal.Width)),\n",
    "          summary(glm(Sepal.Length ~ Sepal.Width + Petal.Length)),\n",
    "          summary(glm(Sepal.Length ~ Sepal.Width + Petal.Length + Petal.Width))\n",
    "         ))"
   ]
  },
  {
   "cell_type": "markdown",
   "metadata": {},
   "source": [
    "## Thêm biến (cột) mới vào dataframe\n",
    "\n",
    "Thông thường nội dung của biến mới này là kết quả phát sinh từ một phép tính hay hoán chuyển dữ liệu trên các biến hiện có. Object được tạo ra là 1 vector, và mục tiêu là đưa vector này vào dataframe hiện có. Ta có nhiều cách để làm điều này:"
   ]
  },
  {
   "cell_type": "code",
   "execution_count": 203,
   "metadata": {},
   "outputs": [
    {
     "data": {
      "text/html": [
       "<table>\n",
       "<thead><tr><th scope=col>V1</th><th scope=col>V2</th><th scope=col>V3</th><th scope=col>V4</th></tr></thead>\n",
       "<tbody>\n",
       "\t<tr><td>1.4395244</td><td>A        </td><td>23       </td><td> 66      </td></tr>\n",
       "\t<tr><td>1.7698225</td><td>D        </td><td>33       </td><td> 68      </td></tr>\n",
       "\t<tr><td>3.5587083</td><td>A        </td><td>36       </td><td> 69      </td></tr>\n",
       "\t<tr><td>2.0705084</td><td>A        </td><td>30       </td><td> 82      </td></tr>\n",
       "\t<tr><td>2.1292877</td><td>E        </td><td>26       </td><td> 86      </td></tr>\n",
       "\t<tr><td>3.7150650</td><td>C        </td><td>40       </td><td>100      </td></tr>\n",
       "\t<tr><td>2.4609162</td><td>B        </td><td>31       </td><td> 96      </td></tr>\n",
       "\t<tr><td>0.7349388</td><td>B        </td><td>34       </td><td> 91      </td></tr>\n",
       "\t<tr><td>1.3131471</td><td>A        </td><td>29       </td><td> 84      </td></tr>\n",
       "\t<tr><td>1.5543380</td><td>C        </td><td>32       </td><td> 61      </td></tr>\n",
       "</tbody>\n",
       "</table>\n"
      ],
      "text/latex": [
       "\\begin{tabular}{r|llll}\n",
       " V1 & V2 & V3 & V4\\\\\n",
       "\\hline\n",
       "\t 1.4395244 & A         & 23        &  66      \\\\\n",
       "\t 1.7698225 & D         & 33        &  68      \\\\\n",
       "\t 3.5587083 & A         & 36        &  69      \\\\\n",
       "\t 2.0705084 & A         & 30        &  82      \\\\\n",
       "\t 2.1292877 & E         & 26        &  86      \\\\\n",
       "\t 3.7150650 & C         & 40        & 100      \\\\\n",
       "\t 2.4609162 & B         & 31        &  96      \\\\\n",
       "\t 0.7349388 & B         & 34        &  91      \\\\\n",
       "\t 1.3131471 & A         & 29        &  84      \\\\\n",
       "\t 1.5543380 & C         & 32        &  61      \\\\\n",
       "\\end{tabular}\n"
      ],
      "text/markdown": [
       "\n",
       "| V1 | V2 | V3 | V4 |\n",
       "|---|---|---|---|\n",
       "| 1.4395244 | A         | 23        |  66       |\n",
       "| 1.7698225 | D         | 33        |  68       |\n",
       "| 3.5587083 | A         | 36        |  69       |\n",
       "| 2.0705084 | A         | 30        |  82       |\n",
       "| 2.1292877 | E         | 26        |  86       |\n",
       "| 3.7150650 | C         | 40        | 100       |\n",
       "| 2.4609162 | B         | 31        |  96       |\n",
       "| 0.7349388 | B         | 34        |  91       |\n",
       "| 1.3131471 | A         | 29        |  84       |\n",
       "| 1.5543380 | C         | 32        |  61       |\n",
       "\n"
      ],
      "text/plain": [
       "   V1        V2 V3 V4 \n",
       "1  1.4395244 A  23  66\n",
       "2  1.7698225 D  33  68\n",
       "3  3.5587083 A  36  69\n",
       "4  2.0705084 A  30  82\n",
       "5  2.1292877 E  26  86\n",
       "6  3.7150650 C  40 100\n",
       "7  2.4609162 B  31  96\n",
       "8  0.7349388 B  34  91\n",
       "9  1.3131471 A  29  84\n",
       "10 1.5543380 C  32  61"
      ]
     },
     "metadata": {},
     "output_type": "display_data"
    }
   ],
   "source": [
    "set.seed(123)\n",
    "\n",
    "df = data.frame(V1 = rnorm(10,2,1),\n",
    "                V2 = sample(LETTERS[1:5], 10, \n",
    "                           replace=TRUE),\n",
    "               V3 = sample(20:50,10),\n",
    "               V4 = sample(60:100,10)\n",
    "               )\n",
    "\n",
    "df"
   ]
  },
  {
   "cell_type": "markdown",
   "metadata": {},
   "source": [
    "Đầu tiên, ta có thể dùng toán tử $ để tạo ra một item mới và gán cho nó vector kết quả:\n",
    "Thí dụ ta tạo ra biến Ratio34 để chứa tỉ lệ % giữa V3 và V4:"
   ]
  },
  {
   "cell_type": "code",
   "execution_count": 205,
   "metadata": {},
   "outputs": [
    {
     "data": {
      "text/html": [
       "<table>\n",
       "<thead><tr><th scope=col>V1</th><th scope=col>V2</th><th scope=col>V3</th><th scope=col>V4</th><th scope=col>Ratio34</th></tr></thead>\n",
       "<tbody>\n",
       "\t<tr><td>1.4395244</td><td>A        </td><td>23       </td><td> 66      </td><td>34.84848 </td></tr>\n",
       "\t<tr><td>1.7698225</td><td>D        </td><td>33       </td><td> 68      </td><td>48.52941 </td></tr>\n",
       "\t<tr><td>3.5587083</td><td>A        </td><td>36       </td><td> 69      </td><td>52.17391 </td></tr>\n",
       "\t<tr><td>2.0705084</td><td>A        </td><td>30       </td><td> 82      </td><td>36.58537 </td></tr>\n",
       "\t<tr><td>2.1292877</td><td>E        </td><td>26       </td><td> 86      </td><td>30.23256 </td></tr>\n",
       "\t<tr><td>3.7150650</td><td>C        </td><td>40       </td><td>100      </td><td>40.00000 </td></tr>\n",
       "\t<tr><td>2.4609162</td><td>B        </td><td>31       </td><td> 96      </td><td>32.29167 </td></tr>\n",
       "\t<tr><td>0.7349388</td><td>B        </td><td>34       </td><td> 91      </td><td>37.36264 </td></tr>\n",
       "\t<tr><td>1.3131471</td><td>A        </td><td>29       </td><td> 84      </td><td>34.52381 </td></tr>\n",
       "\t<tr><td>1.5543380</td><td>C        </td><td>32       </td><td> 61      </td><td>52.45902 </td></tr>\n",
       "</tbody>\n",
       "</table>\n"
      ],
      "text/latex": [
       "\\begin{tabular}{r|lllll}\n",
       " V1 & V2 & V3 & V4 & Ratio34\\\\\n",
       "\\hline\n",
       "\t 1.4395244 & A         & 23        &  66       & 34.84848 \\\\\n",
       "\t 1.7698225 & D         & 33        &  68       & 48.52941 \\\\\n",
       "\t 3.5587083 & A         & 36        &  69       & 52.17391 \\\\\n",
       "\t 2.0705084 & A         & 30        &  82       & 36.58537 \\\\\n",
       "\t 2.1292877 & E         & 26        &  86       & 30.23256 \\\\\n",
       "\t 3.7150650 & C         & 40        & 100       & 40.00000 \\\\\n",
       "\t 2.4609162 & B         & 31        &  96       & 32.29167 \\\\\n",
       "\t 0.7349388 & B         & 34        &  91       & 37.36264 \\\\\n",
       "\t 1.3131471 & A         & 29        &  84       & 34.52381 \\\\\n",
       "\t 1.5543380 & C         & 32        &  61       & 52.45902 \\\\\n",
       "\\end{tabular}\n"
      ],
      "text/markdown": [
       "\n",
       "| V1 | V2 | V3 | V4 | Ratio34 |\n",
       "|---|---|---|---|---|\n",
       "| 1.4395244 | A         | 23        |  66       | 34.84848  |\n",
       "| 1.7698225 | D         | 33        |  68       | 48.52941  |\n",
       "| 3.5587083 | A         | 36        |  69       | 52.17391  |\n",
       "| 2.0705084 | A         | 30        |  82       | 36.58537  |\n",
       "| 2.1292877 | E         | 26        |  86       | 30.23256  |\n",
       "| 3.7150650 | C         | 40        | 100       | 40.00000  |\n",
       "| 2.4609162 | B         | 31        |  96       | 32.29167  |\n",
       "| 0.7349388 | B         | 34        |  91       | 37.36264  |\n",
       "| 1.3131471 | A         | 29        |  84       | 34.52381  |\n",
       "| 1.5543380 | C         | 32        |  61       | 52.45902  |\n",
       "\n"
      ],
      "text/plain": [
       "   V1        V2 V3 V4  Ratio34 \n",
       "1  1.4395244 A  23  66 34.84848\n",
       "2  1.7698225 D  33  68 48.52941\n",
       "3  3.5587083 A  36  69 52.17391\n",
       "4  2.0705084 A  30  82 36.58537\n",
       "5  2.1292877 E  26  86 30.23256\n",
       "6  3.7150650 C  40 100 40.00000\n",
       "7  2.4609162 B  31  96 32.29167\n",
       "8  0.7349388 B  34  91 37.36264\n",
       "9  1.3131471 A  29  84 34.52381\n",
       "10 1.5543380 C  32  61 52.45902"
      ]
     },
     "metadata": {},
     "output_type": "display_data"
    }
   ],
   "source": [
    "set.seed(123)\n",
    "\n",
    "df$Ratio34 = 100*df$V3/df$V4\n",
    "\n",
    "df"
   ]
  },
  {
   "cell_type": "markdown",
   "metadata": {},
   "source": [
    "Ta cũng có thể dùng phương pháp truy nhập dữ liệu [newcolumn] = vector"
   ]
  },
  {
   "cell_type": "code",
   "execution_count": 204,
   "metadata": {},
   "outputs": [
    {
     "data": {
      "text/html": [
       "<table>\n",
       "<thead><tr><th scope=col>V1</th><th scope=col>V2</th><th scope=col>V3</th><th scope=col>V4</th><th scope=col>Ratio34</th></tr></thead>\n",
       "<tbody>\n",
       "\t<tr><td>1.4395244</td><td>A        </td><td>23       </td><td> 66      </td><td>34.84848 </td></tr>\n",
       "\t<tr><td>1.7698225</td><td>D        </td><td>33       </td><td> 68      </td><td>48.52941 </td></tr>\n",
       "\t<tr><td>3.5587083</td><td>A        </td><td>36       </td><td> 69      </td><td>52.17391 </td></tr>\n",
       "\t<tr><td>2.0705084</td><td>A        </td><td>30       </td><td> 82      </td><td>36.58537 </td></tr>\n",
       "\t<tr><td>2.1292877</td><td>E        </td><td>26       </td><td> 86      </td><td>30.23256 </td></tr>\n",
       "\t<tr><td>3.7150650</td><td>C        </td><td>40       </td><td>100      </td><td>40.00000 </td></tr>\n",
       "\t<tr><td>2.4609162</td><td>B        </td><td>31       </td><td> 96      </td><td>32.29167 </td></tr>\n",
       "\t<tr><td>0.7349388</td><td>B        </td><td>34       </td><td> 91      </td><td>37.36264 </td></tr>\n",
       "\t<tr><td>1.3131471</td><td>A        </td><td>29       </td><td> 84      </td><td>34.52381 </td></tr>\n",
       "\t<tr><td>1.5543380</td><td>C        </td><td>32       </td><td> 61      </td><td>52.45902 </td></tr>\n",
       "</tbody>\n",
       "</table>\n"
      ],
      "text/latex": [
       "\\begin{tabular}{r|lllll}\n",
       " V1 & V2 & V3 & V4 & Ratio34\\\\\n",
       "\\hline\n",
       "\t 1.4395244 & A         & 23        &  66       & 34.84848 \\\\\n",
       "\t 1.7698225 & D         & 33        &  68       & 48.52941 \\\\\n",
       "\t 3.5587083 & A         & 36        &  69       & 52.17391 \\\\\n",
       "\t 2.0705084 & A         & 30        &  82       & 36.58537 \\\\\n",
       "\t 2.1292877 & E         & 26        &  86       & 30.23256 \\\\\n",
       "\t 3.7150650 & C         & 40        & 100       & 40.00000 \\\\\n",
       "\t 2.4609162 & B         & 31        &  96       & 32.29167 \\\\\n",
       "\t 0.7349388 & B         & 34        &  91       & 37.36264 \\\\\n",
       "\t 1.3131471 & A         & 29        &  84       & 34.52381 \\\\\n",
       "\t 1.5543380 & C         & 32        &  61       & 52.45902 \\\\\n",
       "\\end{tabular}\n"
      ],
      "text/markdown": [
       "\n",
       "| V1 | V2 | V3 | V4 | Ratio34 |\n",
       "|---|---|---|---|---|\n",
       "| 1.4395244 | A         | 23        |  66       | 34.84848  |\n",
       "| 1.7698225 | D         | 33        |  68       | 48.52941  |\n",
       "| 3.5587083 | A         | 36        |  69       | 52.17391  |\n",
       "| 2.0705084 | A         | 30        |  82       | 36.58537  |\n",
       "| 2.1292877 | E         | 26        |  86       | 30.23256  |\n",
       "| 3.7150650 | C         | 40        | 100       | 40.00000  |\n",
       "| 2.4609162 | B         | 31        |  96       | 32.29167  |\n",
       "| 0.7349388 | B         | 34        |  91       | 37.36264  |\n",
       "| 1.3131471 | A         | 29        |  84       | 34.52381  |\n",
       "| 1.5543380 | C         | 32        |  61       | 52.45902  |\n",
       "\n"
      ],
      "text/plain": [
       "   V1        V2 V3 V4  Ratio34 \n",
       "1  1.4395244 A  23  66 34.84848\n",
       "2  1.7698225 D  33  68 48.52941\n",
       "3  3.5587083 A  36  69 52.17391\n",
       "4  2.0705084 A  30  82 36.58537\n",
       "5  2.1292877 E  26  86 30.23256\n",
       "6  3.7150650 C  40 100 40.00000\n",
       "7  2.4609162 B  31  96 32.29167\n",
       "8  0.7349388 B  34  91 37.36264\n",
       "9  1.3131471 A  29  84 34.52381\n",
       "10 1.5543380 C  32  61 52.45902"
      ]
     },
     "metadata": {},
     "output_type": "display_data"
    }
   ],
   "source": [
    "set.seed(123)\n",
    "\n",
    "df = data.frame(V1 = rnorm(10,2,1),\n",
    "                V2 = sample(LETTERS[1:5], 10, \n",
    "                           replace=TRUE),\n",
    "               V3 = sample(20:50,10),\n",
    "               V4 = sample(60:100,10)\n",
    "               )\n",
    "\n",
    "df['Ratio34'] = 100*df$V3/df$V4\n",
    "\n",
    "df"
   ]
  },
  {
   "cell_type": "markdown",
   "metadata": {},
   "source": [
    "Hoặc dùng [,newcolumn] = vector"
   ]
  },
  {
   "cell_type": "code",
   "execution_count": 206,
   "metadata": {},
   "outputs": [
    {
     "data": {
      "text/html": [
       "<table>\n",
       "<thead><tr><th scope=col>V1</th><th scope=col>V2</th><th scope=col>V3</th><th scope=col>V4</th><th scope=col>Ratio34</th></tr></thead>\n",
       "<tbody>\n",
       "\t<tr><td>1.4395244</td><td>A        </td><td>23       </td><td> 66      </td><td>34.84848 </td></tr>\n",
       "\t<tr><td>1.7698225</td><td>D        </td><td>33       </td><td> 68      </td><td>48.52941 </td></tr>\n",
       "\t<tr><td>3.5587083</td><td>A        </td><td>36       </td><td> 69      </td><td>52.17391 </td></tr>\n",
       "\t<tr><td>2.0705084</td><td>A        </td><td>30       </td><td> 82      </td><td>36.58537 </td></tr>\n",
       "\t<tr><td>2.1292877</td><td>E        </td><td>26       </td><td> 86      </td><td>30.23256 </td></tr>\n",
       "\t<tr><td>3.7150650</td><td>C        </td><td>40       </td><td>100      </td><td>40.00000 </td></tr>\n",
       "\t<tr><td>2.4609162</td><td>B        </td><td>31       </td><td> 96      </td><td>32.29167 </td></tr>\n",
       "\t<tr><td>0.7349388</td><td>B        </td><td>34       </td><td> 91      </td><td>37.36264 </td></tr>\n",
       "\t<tr><td>1.3131471</td><td>A        </td><td>29       </td><td> 84      </td><td>34.52381 </td></tr>\n",
       "\t<tr><td>1.5543380</td><td>C        </td><td>32       </td><td> 61      </td><td>52.45902 </td></tr>\n",
       "</tbody>\n",
       "</table>\n"
      ],
      "text/latex": [
       "\\begin{tabular}{r|lllll}\n",
       " V1 & V2 & V3 & V4 & Ratio34\\\\\n",
       "\\hline\n",
       "\t 1.4395244 & A         & 23        &  66       & 34.84848 \\\\\n",
       "\t 1.7698225 & D         & 33        &  68       & 48.52941 \\\\\n",
       "\t 3.5587083 & A         & 36        &  69       & 52.17391 \\\\\n",
       "\t 2.0705084 & A         & 30        &  82       & 36.58537 \\\\\n",
       "\t 2.1292877 & E         & 26        &  86       & 30.23256 \\\\\n",
       "\t 3.7150650 & C         & 40        & 100       & 40.00000 \\\\\n",
       "\t 2.4609162 & B         & 31        &  96       & 32.29167 \\\\\n",
       "\t 0.7349388 & B         & 34        &  91       & 37.36264 \\\\\n",
       "\t 1.3131471 & A         & 29        &  84       & 34.52381 \\\\\n",
       "\t 1.5543380 & C         & 32        &  61       & 52.45902 \\\\\n",
       "\\end{tabular}\n"
      ],
      "text/markdown": [
       "\n",
       "| V1 | V2 | V3 | V4 | Ratio34 |\n",
       "|---|---|---|---|---|\n",
       "| 1.4395244 | A         | 23        |  66       | 34.84848  |\n",
       "| 1.7698225 | D         | 33        |  68       | 48.52941  |\n",
       "| 3.5587083 | A         | 36        |  69       | 52.17391  |\n",
       "| 2.0705084 | A         | 30        |  82       | 36.58537  |\n",
       "| 2.1292877 | E         | 26        |  86       | 30.23256  |\n",
       "| 3.7150650 | C         | 40        | 100       | 40.00000  |\n",
       "| 2.4609162 | B         | 31        |  96       | 32.29167  |\n",
       "| 0.7349388 | B         | 34        |  91       | 37.36264  |\n",
       "| 1.3131471 | A         | 29        |  84       | 34.52381  |\n",
       "| 1.5543380 | C         | 32        |  61       | 52.45902  |\n",
       "\n"
      ],
      "text/plain": [
       "   V1        V2 V3 V4  Ratio34 \n",
       "1  1.4395244 A  23  66 34.84848\n",
       "2  1.7698225 D  33  68 48.52941\n",
       "3  3.5587083 A  36  69 52.17391\n",
       "4  2.0705084 A  30  82 36.58537\n",
       "5  2.1292877 E  26  86 30.23256\n",
       "6  3.7150650 C  40 100 40.00000\n",
       "7  2.4609162 B  31  96 32.29167\n",
       "8  0.7349388 B  34  91 37.36264\n",
       "9  1.3131471 A  29  84 34.52381\n",
       "10 1.5543380 C  32  61 52.45902"
      ]
     },
     "metadata": {},
     "output_type": "display_data"
    }
   ],
   "source": [
    "set.seed(123)\n",
    "\n",
    "df = data.frame(V1 = rnorm(10,2,1),\n",
    "                V2 = sample(LETTERS[1:5], 10, \n",
    "                           replace=TRUE),\n",
    "               V3 = sample(20:50,10),\n",
    "               V4 = sample(60:100,10)\n",
    "               )\n",
    "\n",
    "df[,'Ratio34'] = 100*df$V3/df$V4\n",
    "\n",
    "df"
   ]
  },
  {
   "cell_type": "markdown",
   "metadata": {},
   "source": [
    "Ta cũng có thể dùng hàm within(dataframe) để có thể thao tác trên các phần tử của dataframe này và lưu lại như một cột mới:"
   ]
  },
  {
   "cell_type": "code",
   "execution_count": 240,
   "metadata": {},
   "outputs": [
    {
     "data": {
      "text/html": [
       "<table>\n",
       "<thead><tr><th scope=col>V1</th><th scope=col>V2</th><th scope=col>V3</th><th scope=col>V4</th><th scope=col>quantile</th></tr></thead>\n",
       "<tbody>\n",
       "\t<tr><td>1.43952435</td><td>B         </td><td>44        </td><td> 84       </td><td>P5        </td></tr>\n",
       "\t<tr><td>1.76982251</td><td>E         </td><td>25        </td><td> 81       </td><td>P25       </td></tr>\n",
       "\t<tr><td>3.55870831</td><td>A         </td><td>40        </td><td>100       </td><td>P75       </td></tr>\n",
       "\t<tr><td>2.07050839</td><td>A         </td><td>34        </td><td> 91       </td><td>P25       </td></tr>\n",
       "\t<tr><td>2.12928774</td><td>B         </td><td>28        </td><td> 98       </td><td>P50       </td></tr>\n",
       "\t<tr><td>3.71506499</td><td>C         </td><td>47        </td><td> 82       </td><td>P75       </td></tr>\n",
       "\t<tr><td>2.46091621</td><td>D         </td><td>35        </td><td> 94       </td><td>P50       </td></tr>\n",
       "\t<tr><td>0.73493877</td><td>E         </td><td>39        </td><td> 89       </td><td>P5        </td></tr>\n",
       "\t<tr><td>1.31314715</td><td>E         </td><td>49        </td><td> 71       </td><td>P5        </td></tr>\n",
       "\t<tr><td>1.55433803</td><td>C         </td><td>30        </td><td> 90       </td><td>P25       </td></tr>\n",
       "\t<tr><td>3.22408180</td><td>A         </td><td>27        </td><td> 96       </td><td>P75       </td></tr>\n",
       "\t<tr><td>2.35981383</td><td>B         </td><td>26        </td><td> 73       </td><td>P50       </td></tr>\n",
       "\t<tr><td>2.40077145</td><td>E         </td><td>50        </td><td> 62       </td><td>P50       </td></tr>\n",
       "\t<tr><td>2.11068272</td><td>E         </td><td>36        </td><td> 93       </td><td>P25       </td></tr>\n",
       "\t<tr><td>1.44415887</td><td>D         </td><td>37        </td><td> 66       </td><td>P5        </td></tr>\n",
       "\t<tr><td>3.78691314</td><td>E         </td><td>21        </td><td> 88       </td><td>P75       </td></tr>\n",
       "\t<tr><td>2.49785048</td><td>B         </td><td>23        </td><td> 95       </td><td>P50       </td></tr>\n",
       "\t<tr><td>0.03338284</td><td>A         </td><td>32        </td><td> 99       </td><td>NA        </td></tr>\n",
       "\t<tr><td>2.70135590</td><td>A         </td><td>24        </td><td> 74       </td><td>P75       </td></tr>\n",
       "\t<tr><td>1.52720859</td><td>C         </td><td>42        </td><td> 80       </td><td>P25       </td></tr>\n",
       "</tbody>\n",
       "</table>\n"
      ],
      "text/latex": [
       "\\begin{tabular}{r|lllll}\n",
       " V1 & V2 & V3 & V4 & quantile\\\\\n",
       "\\hline\n",
       "\t 1.43952435 & B          & 44         &  84        & P5        \\\\\n",
       "\t 1.76982251 & E          & 25         &  81        & P25       \\\\\n",
       "\t 3.55870831 & A          & 40         & 100        & P75       \\\\\n",
       "\t 2.07050839 & A          & 34         &  91        & P25       \\\\\n",
       "\t 2.12928774 & B          & 28         &  98        & P50       \\\\\n",
       "\t 3.71506499 & C          & 47         &  82        & P75       \\\\\n",
       "\t 2.46091621 & D          & 35         &  94        & P50       \\\\\n",
       "\t 0.73493877 & E          & 39         &  89        & P5        \\\\\n",
       "\t 1.31314715 & E          & 49         &  71        & P5        \\\\\n",
       "\t 1.55433803 & C          & 30         &  90        & P25       \\\\\n",
       "\t 3.22408180 & A          & 27         &  96        & P75       \\\\\n",
       "\t 2.35981383 & B          & 26         &  73        & P50       \\\\\n",
       "\t 2.40077145 & E          & 50         &  62        & P50       \\\\\n",
       "\t 2.11068272 & E          & 36         &  93        & P25       \\\\\n",
       "\t 1.44415887 & D          & 37         &  66        & P5        \\\\\n",
       "\t 3.78691314 & E          & 21         &  88        & P75       \\\\\n",
       "\t 2.49785048 & B          & 23         &  95        & P50       \\\\\n",
       "\t 0.03338284 & A          & 32         &  99        & NA        \\\\\n",
       "\t 2.70135590 & A          & 24         &  74        & P75       \\\\\n",
       "\t 1.52720859 & C          & 42         &  80        & P25       \\\\\n",
       "\\end{tabular}\n"
      ],
      "text/markdown": [
       "\n",
       "| V1 | V2 | V3 | V4 | quantile |\n",
       "|---|---|---|---|---|\n",
       "| 1.43952435 | B          | 44         |  84        | P5         |\n",
       "| 1.76982251 | E          | 25         |  81        | P25        |\n",
       "| 3.55870831 | A          | 40         | 100        | P75        |\n",
       "| 2.07050839 | A          | 34         |  91        | P25        |\n",
       "| 2.12928774 | B          | 28         |  98        | P50        |\n",
       "| 3.71506499 | C          | 47         |  82        | P75        |\n",
       "| 2.46091621 | D          | 35         |  94        | P50        |\n",
       "| 0.73493877 | E          | 39         |  89        | P5         |\n",
       "| 1.31314715 | E          | 49         |  71        | P5         |\n",
       "| 1.55433803 | C          | 30         |  90        | P25        |\n",
       "| 3.22408180 | A          | 27         |  96        | P75        |\n",
       "| 2.35981383 | B          | 26         |  73        | P50        |\n",
       "| 2.40077145 | E          | 50         |  62        | P50        |\n",
       "| 2.11068272 | E          | 36         |  93        | P25        |\n",
       "| 1.44415887 | D          | 37         |  66        | P5         |\n",
       "| 3.78691314 | E          | 21         |  88        | P75        |\n",
       "| 2.49785048 | B          | 23         |  95        | P50        |\n",
       "| 0.03338284 | A          | 32         |  99        | NA         |\n",
       "| 2.70135590 | A          | 24         |  74        | P75        |\n",
       "| 1.52720859 | C          | 42         |  80        | P25        |\n",
       "\n"
      ],
      "text/plain": [
       "   V1         V2 V3 V4  quantile\n",
       "1  1.43952435 B  44  84 P5      \n",
       "2  1.76982251 E  25  81 P25     \n",
       "3  3.55870831 A  40 100 P75     \n",
       "4  2.07050839 A  34  91 P25     \n",
       "5  2.12928774 B  28  98 P50     \n",
       "6  3.71506499 C  47  82 P75     \n",
       "7  2.46091621 D  35  94 P50     \n",
       "8  0.73493877 E  39  89 P5      \n",
       "9  1.31314715 E  49  71 P5      \n",
       "10 1.55433803 C  30  90 P25     \n",
       "11 3.22408180 A  27  96 P75     \n",
       "12 2.35981383 B  26  73 P50     \n",
       "13 2.40077145 E  50  62 P50     \n",
       "14 2.11068272 E  36  93 P25     \n",
       "15 1.44415887 D  37  66 P5      \n",
       "16 3.78691314 E  21  88 P75     \n",
       "17 2.49785048 B  23  95 P50     \n",
       "18 0.03338284 A  32  99 NA      \n",
       "19 2.70135590 A  24  74 P75     \n",
       "20 1.52720859 C  42  80 P25     "
      ]
     },
     "metadata": {},
     "output_type": "display_data"
    }
   ],
   "source": [
    "set.seed(123)\n",
    "\n",
    "df = data.frame(V1 = rnorm(20,2,1),\n",
    "                V2 = sample(LETTERS[1:5], 20, \n",
    "                           replace=TRUE),\n",
    "               V3 = sample(20:50,20),\n",
    "               V4 = sample(60:100,20)\n",
    "               )\n",
    "\n",
    "within(df, \n",
    "       quantile <- cut(V1, breaks = quantile(V1),\n",
    "                           labels = c(\"P5\", \"P25\", \"P50\", \"P75\")))"
   ]
  },
  {
   "cell_type": "markdown",
   "metadata": {},
   "source": [
    "## Lọc dữ liệu trong dataframe"
   ]
  },
  {
   "cell_type": "code",
   "execution_count": 241,
   "metadata": {},
   "outputs": [
    {
     "data": {
      "text/html": [
       "<table>\n",
       "<thead><tr><th scope=col>V1</th><th scope=col>V2</th><th scope=col>V3</th><th scope=col>V4</th></tr></thead>\n",
       "<tbody>\n",
       "\t<tr><td>1.4395244</td><td>A        </td><td>23       </td><td> 66      </td></tr>\n",
       "\t<tr><td>1.7698225</td><td>D        </td><td>33       </td><td> 68      </td></tr>\n",
       "\t<tr><td>3.5587083</td><td>A        </td><td>36       </td><td> 69      </td></tr>\n",
       "\t<tr><td>2.0705084</td><td>A        </td><td>30       </td><td> 82      </td></tr>\n",
       "\t<tr><td>2.1292877</td><td>E        </td><td>26       </td><td> 86      </td></tr>\n",
       "\t<tr><td>3.7150650</td><td>C        </td><td>40       </td><td>100      </td></tr>\n",
       "\t<tr><td>2.4609162</td><td>B        </td><td>31       </td><td> 96      </td></tr>\n",
       "\t<tr><td>0.7349388</td><td>B        </td><td>34       </td><td> 91      </td></tr>\n",
       "\t<tr><td>1.3131471</td><td>A        </td><td>29       </td><td> 84      </td></tr>\n",
       "\t<tr><td>1.5543380</td><td>C        </td><td>32       </td><td> 61      </td></tr>\n",
       "</tbody>\n",
       "</table>\n"
      ],
      "text/latex": [
       "\\begin{tabular}{r|llll}\n",
       " V1 & V2 & V3 & V4\\\\\n",
       "\\hline\n",
       "\t 1.4395244 & A         & 23        &  66      \\\\\n",
       "\t 1.7698225 & D         & 33        &  68      \\\\\n",
       "\t 3.5587083 & A         & 36        &  69      \\\\\n",
       "\t 2.0705084 & A         & 30        &  82      \\\\\n",
       "\t 2.1292877 & E         & 26        &  86      \\\\\n",
       "\t 3.7150650 & C         & 40        & 100      \\\\\n",
       "\t 2.4609162 & B         & 31        &  96      \\\\\n",
       "\t 0.7349388 & B         & 34        &  91      \\\\\n",
       "\t 1.3131471 & A         & 29        &  84      \\\\\n",
       "\t 1.5543380 & C         & 32        &  61      \\\\\n",
       "\\end{tabular}\n"
      ],
      "text/markdown": [
       "\n",
       "| V1 | V2 | V3 | V4 |\n",
       "|---|---|---|---|\n",
       "| 1.4395244 | A         | 23        |  66       |\n",
       "| 1.7698225 | D         | 33        |  68       |\n",
       "| 3.5587083 | A         | 36        |  69       |\n",
       "| 2.0705084 | A         | 30        |  82       |\n",
       "| 2.1292877 | E         | 26        |  86       |\n",
       "| 3.7150650 | C         | 40        | 100       |\n",
       "| 2.4609162 | B         | 31        |  96       |\n",
       "| 0.7349388 | B         | 34        |  91       |\n",
       "| 1.3131471 | A         | 29        |  84       |\n",
       "| 1.5543380 | C         | 32        |  61       |\n",
       "\n"
      ],
      "text/plain": [
       "   V1        V2 V3 V4 \n",
       "1  1.4395244 A  23  66\n",
       "2  1.7698225 D  33  68\n",
       "3  3.5587083 A  36  69\n",
       "4  2.0705084 A  30  82\n",
       "5  2.1292877 E  26  86\n",
       "6  3.7150650 C  40 100\n",
       "7  2.4609162 B  31  96\n",
       "8  0.7349388 B  34  91\n",
       "9  1.3131471 A  29  84\n",
       "10 1.5543380 C  32  61"
      ]
     },
     "metadata": {},
     "output_type": "display_data"
    }
   ],
   "source": [
    "set.seed(123)\n",
    "\n",
    "df = data.frame(V1 = rnorm(10,2,1),\n",
    "                V2 = sample(LETTERS[1:5], 10, \n",
    "                           replace=TRUE),\n",
    "               V3 = sample(20:50,10),\n",
    "               V4 = sample(60:100,10)\n",
    "               )\n",
    "\n",
    "df"
   ]
  },
  {
   "cell_type": "markdown",
   "metadata": {},
   "source": [
    "Việc lọc dữ liệu có bản chất là áp dụng một boolean mask trên dataframe và loại bỏ những hàng tương ứng với giá trị FALSE trên mask này. "
   ]
  },
  {
   "cell_type": "markdown",
   "metadata": {},
   "source": [
    "Thí dụ: giữ lại những trường hợp có V1 >2:"
   ]
  },
  {
   "cell_type": "code",
   "execution_count": 246,
   "metadata": {},
   "outputs": [
    {
     "data": {
      "text/html": [
       "<table>\n",
       "<thead><tr><th></th><th scope=col>V1</th><th scope=col>V2</th><th scope=col>V3</th><th scope=col>V4</th></tr></thead>\n",
       "<tbody>\n",
       "\t<tr><th scope=row>3</th><td>3.558708</td><td>A       </td><td>36      </td><td> 69     </td></tr>\n",
       "\t<tr><th scope=row>4</th><td>2.070508</td><td>A       </td><td>30      </td><td> 82     </td></tr>\n",
       "\t<tr><th scope=row>5</th><td>2.129288</td><td>E       </td><td>26      </td><td> 86     </td></tr>\n",
       "\t<tr><th scope=row>6</th><td>3.715065</td><td>C       </td><td>40      </td><td>100     </td></tr>\n",
       "\t<tr><th scope=row>7</th><td>2.460916</td><td>B       </td><td>31      </td><td> 96     </td></tr>\n",
       "</tbody>\n",
       "</table>\n"
      ],
      "text/latex": [
       "\\begin{tabular}{r|llll}\n",
       "  & V1 & V2 & V3 & V4\\\\\n",
       "\\hline\n",
       "\t3 & 3.558708 & A        & 36       &  69     \\\\\n",
       "\t4 & 2.070508 & A        & 30       &  82     \\\\\n",
       "\t5 & 2.129288 & E        & 26       &  86     \\\\\n",
       "\t6 & 3.715065 & C        & 40       & 100     \\\\\n",
       "\t7 & 2.460916 & B        & 31       &  96     \\\\\n",
       "\\end{tabular}\n"
      ],
      "text/markdown": [
       "\n",
       "| <!--/--> | V1 | V2 | V3 | V4 |\n",
       "|---|---|---|---|---|\n",
       "| 3 | 3.558708 | A        | 36       |  69      |\n",
       "| 4 | 2.070508 | A        | 30       |  82      |\n",
       "| 5 | 2.129288 | E        | 26       |  86      |\n",
       "| 6 | 3.715065 | C        | 40       | 100      |\n",
       "| 7 | 2.460916 | B        | 31       |  96      |\n",
       "\n"
      ],
      "text/plain": [
       "  V1       V2 V3 V4 \n",
       "3 3.558708 A  36  69\n",
       "4 2.070508 A  30  82\n",
       "5 2.129288 E  26  86\n",
       "6 3.715065 C  40 100\n",
       "7 2.460916 B  31  96"
      ]
     },
     "metadata": {},
     "output_type": "display_data"
    }
   ],
   "source": [
    "df[df$V1>2, ]"
   ]
  },
  {
   "cell_type": "markdown",
   "metadata": {},
   "source": [
    "Thí dụ 2: giữ lại những trường hợp có V2 là A hoặc E"
   ]
  },
  {
   "cell_type": "code",
   "execution_count": 251,
   "metadata": {},
   "outputs": [
    {
     "data": {
      "text/html": [
       "<table>\n",
       "<thead><tr><th></th><th scope=col>V1</th><th scope=col>V2</th><th scope=col>V3</th><th scope=col>V4</th></tr></thead>\n",
       "<tbody>\n",
       "\t<tr><th scope=row>1</th><td>1.439524</td><td>A       </td><td>23      </td><td>66      </td></tr>\n",
       "\t<tr><th scope=row>3</th><td>3.558708</td><td>A       </td><td>36      </td><td>69      </td></tr>\n",
       "\t<tr><th scope=row>4</th><td>2.070508</td><td>A       </td><td>30      </td><td>82      </td></tr>\n",
       "\t<tr><th scope=row>5</th><td>2.129288</td><td>E       </td><td>26      </td><td>86      </td></tr>\n",
       "\t<tr><th scope=row>9</th><td>1.313147</td><td>A       </td><td>29      </td><td>84      </td></tr>\n",
       "</tbody>\n",
       "</table>\n"
      ],
      "text/latex": [
       "\\begin{tabular}{r|llll}\n",
       "  & V1 & V2 & V3 & V4\\\\\n",
       "\\hline\n",
       "\t1 & 1.439524 & A        & 23       & 66      \\\\\n",
       "\t3 & 3.558708 & A        & 36       & 69      \\\\\n",
       "\t4 & 2.070508 & A        & 30       & 82      \\\\\n",
       "\t5 & 2.129288 & E        & 26       & 86      \\\\\n",
       "\t9 & 1.313147 & A        & 29       & 84      \\\\\n",
       "\\end{tabular}\n"
      ],
      "text/markdown": [
       "\n",
       "| <!--/--> | V1 | V2 | V3 | V4 |\n",
       "|---|---|---|---|---|\n",
       "| 1 | 1.439524 | A        | 23       | 66       |\n",
       "| 3 | 3.558708 | A        | 36       | 69       |\n",
       "| 4 | 2.070508 | A        | 30       | 82       |\n",
       "| 5 | 2.129288 | E        | 26       | 86       |\n",
       "| 9 | 1.313147 | A        | 29       | 84       |\n",
       "\n"
      ],
      "text/plain": [
       "  V1       V2 V3 V4\n",
       "1 1.439524 A  23 66\n",
       "3 3.558708 A  36 69\n",
       "4 2.070508 A  30 82\n",
       "5 2.129288 E  26 86\n",
       "9 1.313147 A  29 84"
      ]
     },
     "metadata": {},
     "output_type": "display_data"
    }
   ],
   "source": [
    "df[df$V2 == 'A' | df$V2 == 'E',]"
   ]
  },
  {
   "cell_type": "markdown",
   "metadata": {},
   "source": [
    "Cách làm khác: sử dụng %in%"
   ]
  },
  {
   "cell_type": "code",
   "execution_count": 248,
   "metadata": {},
   "outputs": [
    {
     "data": {
      "text/html": [
       "<table>\n",
       "<thead><tr><th></th><th scope=col>V1</th><th scope=col>V2</th><th scope=col>V3</th><th scope=col>V4</th></tr></thead>\n",
       "<tbody>\n",
       "\t<tr><th scope=row>1</th><td>1.439524</td><td>A       </td><td>23      </td><td>66      </td></tr>\n",
       "\t<tr><th scope=row>3</th><td>3.558708</td><td>A       </td><td>36      </td><td>69      </td></tr>\n",
       "\t<tr><th scope=row>4</th><td>2.070508</td><td>A       </td><td>30      </td><td>82      </td></tr>\n",
       "\t<tr><th scope=row>5</th><td>2.129288</td><td>E       </td><td>26      </td><td>86      </td></tr>\n",
       "\t<tr><th scope=row>9</th><td>1.313147</td><td>A       </td><td>29      </td><td>84      </td></tr>\n",
       "</tbody>\n",
       "</table>\n"
      ],
      "text/latex": [
       "\\begin{tabular}{r|llll}\n",
       "  & V1 & V2 & V3 & V4\\\\\n",
       "\\hline\n",
       "\t1 & 1.439524 & A        & 23       & 66      \\\\\n",
       "\t3 & 3.558708 & A        & 36       & 69      \\\\\n",
       "\t4 & 2.070508 & A        & 30       & 82      \\\\\n",
       "\t5 & 2.129288 & E        & 26       & 86      \\\\\n",
       "\t9 & 1.313147 & A        & 29       & 84      \\\\\n",
       "\\end{tabular}\n"
      ],
      "text/markdown": [
       "\n",
       "| <!--/--> | V1 | V2 | V3 | V4 |\n",
       "|---|---|---|---|---|\n",
       "| 1 | 1.439524 | A        | 23       | 66       |\n",
       "| 3 | 3.558708 | A        | 36       | 69       |\n",
       "| 4 | 2.070508 | A        | 30       | 82       |\n",
       "| 5 | 2.129288 | E        | 26       | 86       |\n",
       "| 9 | 1.313147 | A        | 29       | 84       |\n",
       "\n"
      ],
      "text/plain": [
       "  V1       V2 V3 V4\n",
       "1 1.439524 A  23 66\n",
       "3 3.558708 A  36 69\n",
       "4 2.070508 A  30 82\n",
       "5 2.129288 E  26 86\n",
       "9 1.313147 A  29 84"
      ]
     },
     "metadata": {},
     "output_type": "display_data"
    }
   ],
   "source": [
    "df[df$V2 %in% c('A','E'),]"
   ]
  },
  {
   "cell_type": "markdown",
   "metadata": {},
   "source": [
    "# Đi xa hơn\n",
    "\n",
    "Nhi tạm khép lại bài thực hành tại đây, tuy nhiên những nội dung trong bài chỉ là những gì cơ bản nhất về dataframe, nhưng chưa phải là tất cả những gì bạn có thể làm với nó. Vì dataframe là cấu trúc dữ liệu thông dụng, phổ biến nhất khi làm việc với R, có hàng trăm thao tác ta có thể làm, thông qua nhiều packages; đặc biệt với sự hỗ trợ của những package như dplyr, tidyr, purrr trong hệ sinh thái tidyverse, bạn có thể tái hiện lại những thao tác trong bài này với phong cách viết R code hoàn toàn mới. \n",
    "\n",
    "Hẹn gặp lại trong bài tiếp theo, chúc các bạn thực hành vui."
   ]
  },
  {
   "cell_type": "code",
   "execution_count": null,
   "metadata": {},
   "outputs": [],
   "source": []
  }
 ],
 "metadata": {
  "hide_input": false,
  "kernelspec": {
   "display_name": "R",
   "language": "R",
   "name": "ir"
  },
  "language_info": {
   "codemirror_mode": "r",
   "file_extension": ".r",
   "mimetype": "text/x-r-source",
   "name": "R",
   "pygments_lexer": "r",
   "version": "3.6.0"
  },
  "toc": {
   "base_numbering": 1,
   "nav_menu": {},
   "number_sections": true,
   "sideBar": true,
   "skip_h1_title": false,
   "title_cell": "Table of Contents",
   "title_sidebar": "Contents",
   "toc_cell": false,
   "toc_position": {},
   "toc_section_display": true,
   "toc_window_display": false
  }
 },
 "nbformat": 4,
 "nbformat_minor": 2
}

{
 "cells": [
  {
   "cell_type": "markdown",
   "metadata": {},
   "source": [
    "# Lập trình Python: Bài 1 - String : Kiểu dữ liệu chuỗi \n",
    "\n",
    "**Lê Ngọc Khả Nhi**\n",
    "\n",
    "Chuyên mục \"Một ít Python\" mở ra nhằm hỗ trợ các bạn bác sĩ đang làm quen với ngôn ngữ lập trình Python. Trong mỗi bài viết Nhi chia sẻ với các bạn những khái niệm cơ bản, thủ thuật cần thiết cho công việc hằng ngày của một người làm thống kê và data science với Python.\n",
    "\n",
    "Bài đầu tiên sẽ giới thiệu về kiểu dữ liệu String (chuỗi). Như ta biết, có 6 kiểu dữ liệu cơ bản trong Python là String, List, Tuple, Dictionary, Array và Set. Ta có thể bắt đầu làm quen với kiểu nào trước cũng được, nhưng Nhi chọn String để giới thiệu trước tiên với các bạn, vì lý do: \n",
    "\n",
    "1) Dữ liệu string là cách lý tưởng để kết nối ngôn ngữ tự nhiên và ngôn ngữ lập trình, thông qua những câu văn có ý nghĩa (thí dụ nghi thức nhập môn \"Hello world !\")\n",
    "\n",
    "2) String data có nhiều ứng dụng thiết thực trong công việc hằng ngày, thí dụ: sử dụng hàm print để báo cáo và theo dõi kết quả khi viết function/vòng lặp, làm việc với đường dẫn file/thư mục, khai thác dữ liệu văn bản, ..."
   ]
  },
  {
   "cell_type": "markdown",
   "metadata": {},
   "source": [
    "## Khởi tạo string data object"
   ]
  },
  {
   "cell_type": "markdown",
   "metadata": {},
   "source": [
    "Trong Python, string là kiểu dữ liệu chuyên biệt cho chuỗi kí tự. Bản chất của string là array lưu trữ bytes dữ liệu mã hóa cho kí tự. Python không có kiểu dữ liệu character, nên mỗi kí tự được xem như 1 string có độ dài bằng 1. Bạn sẽ cần  sử dụng string khi làm việc với thông tin dạng văn bản, nhóm từ, nhãn, file paths... \n",
    "\n",
    "String data có thể được tạo ra bằng nhiều cách, đơn giản nhất là đặt nội dung chuỗi kí tự giữa 2 dấu trích dẫn. \n",
    "\n",
    "Cả 3 loại: trích dẫn đơn (' '), kép (\" \") và (\"\"\"  \"\"\") đều có hiệu quả như nhau:"
   ]
  },
  {
   "cell_type": "code",
   "execution_count": 2,
   "metadata": {},
   "outputs": [
    {
     "name": "stdout",
     "output_type": "stream",
     "text": [
      "Đây là string\n"
     ]
    },
    {
     "data": {
      "text/plain": [
       "str"
      ]
     },
     "execution_count": 2,
     "metadata": {},
     "output_type": "execute_result"
    }
   ],
   "source": [
    "s = 'Đây là string'\n",
    "\n",
    "print(s)\n",
    "\n",
    "type(s)"
   ]
  },
  {
   "cell_type": "code",
   "execution_count": 3,
   "metadata": {},
   "outputs": [
    {
     "name": "stdout",
     "output_type": "stream",
     "text": [
      "Cái này cũng là string\n"
     ]
    },
    {
     "data": {
      "text/plain": [
       "str"
      ]
     },
     "execution_count": 3,
     "metadata": {},
     "output_type": "execute_result"
    }
   ],
   "source": [
    "s = \"Cái này cũng là string\"\n",
    "\n",
    "print(s)\n",
    "\n",
    "type(s)"
   ]
  },
  {
   "cell_type": "code",
   "execution_count": 4,
   "metadata": {},
   "outputs": [
    {
     "name": "stdout",
     "output_type": "stream",
     "text": [
      "Cái này cũng là string luôn\n"
     ]
    },
    {
     "data": {
      "text/plain": [
       "str"
      ]
     },
     "execution_count": 4,
     "metadata": {},
     "output_type": "execute_result"
    }
   ],
   "source": [
    "s = \"\"\"Cái này cũng là string luôn\"\"\"\n",
    "\n",
    "print(s)\n",
    "\n",
    "type(s)"
   ]
  },
  {
   "cell_type": "markdown",
   "metadata": {},
   "source": [
    "Hàm str() cho phép chuyển con số hoặc kết quả thành string, thí dụ:"
   ]
  },
  {
   "cell_type": "code",
   "execution_count": 46,
   "metadata": {},
   "outputs": [
    {
     "name": "stdout",
     "output_type": "stream",
     "text": [
      "1+2*5 = 11\n"
     ]
    },
    {
     "data": {
      "text/plain": [
       "str"
      ]
     },
     "execution_count": 46,
     "metadata": {},
     "output_type": "execute_result"
    }
   ],
   "source": [
    "s = str(1+2*5)\n",
    "\n",
    "print('Kết quả 1+2*5 =', s)\n",
    "\n",
    "type(s)"
   ]
  },
  {
   "cell_type": "markdown",
   "metadata": {},
   "source": [
    "## Khảo sát đặc tính của string\n",
    "\n"
   ]
  },
  {
   "cell_type": "markdown",
   "metadata": {},
   "source": [
    "Hàm len() khảo sát độ dài chuỗi kí tự (lưu ý là khoảng trắng cũng được tính như một kí tự):"
   ]
  },
  {
   "cell_type": "code",
   "execution_count": 62,
   "metadata": {},
   "outputs": [
    {
     "data": {
      "text/plain": [
       "6"
      ]
     },
     "execution_count": 62,
     "metadata": {},
     "output_type": "execute_result"
    }
   ],
   "source": [
    "s = 'abcdef'\n",
    "\n",
    "len(s)"
   ]
  },
  {
   "cell_type": "code",
   "execution_count": 63,
   "metadata": {},
   "outputs": [
    {
     "data": {
      "text/plain": [
       "8"
      ]
     },
     "execution_count": 63,
     "metadata": {},
     "output_type": "execute_result"
    }
   ],
   "source": [
    "s = 'Chào bạn'\n",
    "\n",
    "len(s)"
   ]
  },
  {
   "cell_type": "markdown",
   "metadata": {},
   "source": [
    "Vì mỗi kí tự trong string được mã hóa thành con số, nên ta có thể dùng hàm min, max để xác định thứ tự kí tự \"thấp\" và \"cao\" nhất trong bảng mã. Khoảng trắng được xem là kí tự đầu tiên (thứ tự thấp nhất). Thứ tự số trước chữ sau, chữ in đi trước chữ thường"
   ]
  },
  {
   "cell_type": "code",
   "execution_count": 64,
   "metadata": {},
   "outputs": [
    {
     "data": {
      "text/plain": [
       "' '"
      ]
     },
     "execution_count": 64,
     "metadata": {},
     "output_type": "execute_result"
    }
   ],
   "source": [
    "s = '&~-_*$£@abc ABC0123'\n",
    "min(s)"
   ]
  },
  {
   "cell_type": "code",
   "execution_count": 65,
   "metadata": {},
   "outputs": [
    {
     "data": {
      "text/plain": [
       "'£'"
      ]
     },
     "execution_count": 65,
     "metadata": {},
     "output_type": "execute_result"
    }
   ],
   "source": [
    "s = '&~-_*$£@abc ABC0123'\n",
    "max(s)"
   ]
  },
  {
   "cell_type": "code",
   "execution_count": 66,
   "metadata": {},
   "outputs": [
    {
     "data": {
      "text/plain": [
       "'c'"
      ]
     },
     "execution_count": 66,
     "metadata": {},
     "output_type": "execute_result"
    }
   ],
   "source": [
    "s = 'ABCabc012'\n",
    "max(s)"
   ]
  },
  {
   "cell_type": "code",
   "execution_count": 67,
   "metadata": {},
   "outputs": [
    {
     "data": {
      "text/plain": [
       "'0'"
      ]
     },
     "execution_count": 67,
     "metadata": {},
     "output_type": "execute_result"
    }
   ],
   "source": [
    "s = 'ABCabc012'\n",
    "min(s)"
   ]
  },
  {
   "cell_type": "code",
   "execution_count": 68,
   "metadata": {},
   "outputs": [
    {
     "data": {
      "text/plain": [
       "'c'"
      ]
     },
     "execution_count": 68,
     "metadata": {},
     "output_type": "execute_result"
    }
   ],
   "source": [
    "s = 'ABCabc'\n",
    "max(s)"
   ]
  },
  {
   "cell_type": "code",
   "execution_count": 72,
   "metadata": {},
   "outputs": [
    {
     "data": {
      "text/plain": [
       "'X'"
      ]
     },
     "execution_count": 72,
     "metadata": {},
     "output_type": "execute_result"
    }
   ],
   "source": [
    "s = 'XYZabc'\n",
    "min(s)"
   ]
  },
  {
   "cell_type": "markdown",
   "metadata": {},
   "source": [
    "Ta có thể dùng các toán tử so sánh ==, >, < , lưu ý là ta đang so sánh giá trị chứ không phải kích thước"
   ]
  },
  {
   "cell_type": "code",
   "execution_count": 80,
   "metadata": {},
   "outputs": [
    {
     "data": {
      "text/plain": [
       "False"
      ]
     },
     "execution_count": 80,
     "metadata": {},
     "output_type": "execute_result"
    }
   ],
   "source": [
    "s1 = 'ABCD'\n",
    "s2 = 'abc'\n",
    "\n",
    "string_1 == string_2"
   ]
  },
  {
   "cell_type": "code",
   "execution_count": 81,
   "metadata": {},
   "outputs": [
    {
     "data": {
      "text/plain": [
       "False"
      ]
     },
     "execution_count": 81,
     "metadata": {},
     "output_type": "execute_result"
    }
   ],
   "source": [
    "string_1 > string_2"
   ]
  },
  {
   "cell_type": "code",
   "execution_count": 82,
   "metadata": {},
   "outputs": [
    {
     "data": {
      "text/plain": [
       "True"
      ]
     },
     "execution_count": 82,
     "metadata": {},
     "output_type": "execute_result"
    }
   ],
   "source": [
    "string_1 < string_2"
   ]
  },
  {
   "cell_type": "markdown",
   "metadata": {},
   "source": [
    "## Mã hóa và giải mã Unicode string"
   ]
  },
  {
   "cell_type": "markdown",
   "metadata": {},
   "source": [
    "Như các bạn thấy, Nhi viết tiếng Việt thoải mái trong Jupyter, vì đang sử dụng bộ mã Unicode utf-8"
   ]
  },
  {
   "cell_type": "code",
   "execution_count": 47,
   "metadata": {},
   "outputs": [
    {
     "data": {
      "text/plain": [
       "'utf-8'"
      ]
     },
     "execution_count": 47,
     "metadata": {},
     "output_type": "execute_result"
    }
   ],
   "source": [
    "import sys\n",
    "\n",
    "sys.getdefaultencoding()"
   ]
  },
  {
   "cell_type": "markdown",
   "metadata": {},
   "source": [
    "Method \"encode\" cho phép mã hóa nội dung chuỗi, kết quả xuất ra là 1 string có kèm kí hiệu 'b'"
   ]
  },
  {
   "cell_type": "code",
   "execution_count": 8,
   "metadata": {},
   "outputs": [
    {
     "data": {
      "text/plain": [
       "b'Japanese'"
      ]
     },
     "execution_count": 8,
     "metadata": {},
     "output_type": "execute_result"
    }
   ],
   "source": [
    "s = 'Japanese'.encode('ascii')\n",
    "\n",
    "s"
   ]
  },
  {
   "cell_type": "code",
   "execution_count": 70,
   "metadata": {},
   "outputs": [
    {
     "name": "stdout",
     "output_type": "stream",
     "text": [
      "b'\\xe6\\x97\\xa5\\xe6\\x9c\\xac\\xe8\\xaa\\x9e'\n"
     ]
    }
   ],
   "source": [
    "s = '日本語'.encode('utf-8')\n",
    "\n",
    "print(s)"
   ]
  },
  {
   "cell_type": "markdown",
   "metadata": {},
   "source": [
    "Method \"decode\" sẽ giải mã nội dung chuỗi đã được mã hóa, sử dụng bộ mã tương ứng"
   ]
  },
  {
   "cell_type": "code",
   "execution_count": 10,
   "metadata": {},
   "outputs": [
    {
     "data": {
      "text/plain": [
       "'日本語'"
      ]
     },
     "execution_count": 10,
     "metadata": {},
     "output_type": "execute_result"
    }
   ],
   "source": [
    "s = b'\\xe6\\x97\\xa5\\xe6\\x9c\\xac\\xe8\\xaa\\x9e'\n",
    "\n",
    "s.decode(\"utf-8\")"
   ]
  },
  {
   "cell_type": "markdown",
   "metadata": {},
   "source": [
    "Có thể viết trực tiếp nội dung string với mã utf-8, chỉ cần đặt \"u\" trước dấu trích dẫn:"
   ]
  },
  {
   "cell_type": "code",
   "execution_count": 72,
   "metadata": {},
   "outputs": [
    {
     "data": {
      "text/plain": [
       "'09⽉,26⽇'"
      ]
     },
     "execution_count": 72,
     "metadata": {},
     "output_type": "execute_result"
    }
   ],
   "source": [
    "s = u'09\\u2F49,26\\u2F47'\n",
    "\n",
    "s"
   ]
  },
  {
   "cell_type": "markdown",
   "metadata": {},
   "source": [
    "## Sử dụng dấu backslash (\\)"
   ]
  },
  {
   "cell_type": "markdown",
   "metadata": {},
   "source": [
    "\\ là một kí tự đặc biệt, khi kết hợp với một số kí tự khác liền sau nó, sẽ tạo ra các hiệu ứng mà ta mong muốn, thí dụ \\n dùng để ngắt dòng (xuống hàng), \\b để xóa 1 kí tự liền trước nó (như phím backspace), kí tự \\ không được in ra, nhưng một cặp \\\\ cho phép hiển thị chính bản thân kí tự \\, \\ còn cho phép hiển thị dấu trích dẫn (\", ')..."
   ]
  },
  {
   "cell_type": "markdown",
   "metadata": {},
   "source": [
    "Thí dụ 1: Đưa dấu trích dẫn vào string (và phân biệt với 2 dấu trích dẫn khác đóng khung string)"
   ]
  },
  {
   "cell_type": "code",
   "execution_count": 132,
   "metadata": {},
   "outputs": [
    {
     "data": {
      "text/plain": [
       "\"Đây là chuỗi có chứa dấu ' ' bên trong\""
      ]
     },
     "execution_count": 132,
     "metadata": {},
     "output_type": "execute_result"
    }
   ],
   "source": [
    "s = 'Đây là chuỗi có chứa dấu \\' \\' bên trong'\n",
    "s"
   ]
  },
  {
   "cell_type": "code",
   "execution_count": 138,
   "metadata": {},
   "outputs": [
    {
     "data": {
      "text/plain": [
       "'Georges Box từng nói \"Tất cả mô hình đều sai\" '"
      ]
     },
     "execution_count": 138,
     "metadata": {},
     "output_type": "execute_result"
    }
   ],
   "source": [
    "\"Georges Box từng nói \\\"Tất cả mô hình đều sai\\\" \""
   ]
  },
  {
   "cell_type": "markdown",
   "metadata": {},
   "source": [
    "Dấu \\ có tác dụng trên chính nó, để hiển thị trong kết quả:"
   ]
  },
  {
   "cell_type": "code",
   "execution_count": 6,
   "metadata": {},
   "outputs": [
    {
     "name": "stdout",
     "output_type": "stream",
     "text": [
      " \\ đọc là \" back-slash \" \n"
     ]
    }
   ],
   "source": [
    "print (\" \\\\ đọc là \\\" back-slash \\\" \") "
   ]
  },
  {
   "cell_type": "code",
   "execution_count": 9,
   "metadata": {},
   "outputs": [
    {
     "name": "stdout",
     "output_type": "stream",
     "text": [
      "Hàng thứ 1,\n",
      "Hàng thứ 2,\n",
      "Hàng thứ 3\n"
     ]
    }
   ],
   "source": [
    "print (\"Hàng thứ 1,\\nHàng thứ 2,\\nHàng thứ 3\") "
   ]
  },
  {
   "cell_type": "code",
   "execution_count": 14,
   "metadata": {},
   "outputs": [
    {
     "name": "stdout",
     "output_type": "stream",
     "text": [
      "Chào!\b bạn\n"
     ]
    }
   ],
   "source": [
    "print('Chào!\\b bạn')"
   ]
  },
  {
   "cell_type": "markdown",
   "metadata": {},
   "source": [
    "## Những tùy chỉnh hình thức"
   ]
  },
  {
   "cell_type": "markdown",
   "metadata": {},
   "source": [
    "Một số method cho phép định dạng về hình thức của dữ liệu bên trong string:"
   ]
  },
  {
   "cell_type": "markdown",
   "metadata": {},
   "source": [
    "Thí dụ cho một chuỗi như sau:"
   ]
  },
  {
   "cell_type": "code",
   "execution_count": 148,
   "metadata": {},
   "outputs": [],
   "source": [
    "s = '--ABCD-'"
   ]
  },
  {
   "cell_type": "markdown",
   "metadata": {},
   "source": [
    "Tạo một chuỗi dài tối đa 12 kí tự, đặt nội dung s vào và canh giữa:, những chỗ trống được lấp đầy bằng kí tự '-'"
   ]
  },
  {
   "cell_type": "code",
   "execution_count": 149,
   "metadata": {},
   "outputs": [
    {
     "data": {
      "text/plain": [
       "'----ABCD----'"
      ]
     },
     "execution_count": 149,
     "metadata": {},
     "output_type": "execute_result"
    }
   ],
   "source": [
    "s.center(12,'-')"
   ]
  },
  {
   "cell_type": "markdown",
   "metadata": {},
   "source": [
    "Làm tương tự, nhưng canh lề trái:"
   ]
  },
  {
   "cell_type": "code",
   "execution_count": 150,
   "metadata": {},
   "outputs": [
    {
     "data": {
      "text/plain": [
       "'--ABCD------'"
      ]
     },
     "execution_count": 150,
     "metadata": {},
     "output_type": "execute_result"
    }
   ],
   "source": [
    "s.ljust(12,'-')"
   ]
  },
  {
   "cell_type": "markdown",
   "metadata": {},
   "source": [
    "Canh lề phải:"
   ]
  },
  {
   "cell_type": "code",
   "execution_count": 151,
   "metadata": {},
   "outputs": [
    {
     "data": {
      "text/plain": [
       "'-------ABCD-'"
      ]
     },
     "execution_count": 151,
     "metadata": {},
     "output_type": "execute_result"
    }
   ],
   "source": [
    "s.rjust(12,'-')"
   ]
  },
  {
   "cell_type": "markdown",
   "metadata": {},
   "source": [
    "## Trích xuất các phần tử trong chuỗi \n",
    "\n",
    "Nội dung của string có thể hình dung như một chuỗi n kí tự nối tiếp nhau, bao gồm khoảng trắng. \n",
    "Nếu string không chứa phần tử nào (rỗng), nó sẽ có độ dài = 0.\n",
    "Thứ tự mỗi phần tử được đếm từ trái sang phải, và từ 0 đến giá trị cao nhất = độ dài chuỗi"
   ]
  },
  {
   "cell_type": "code",
   "execution_count": 11,
   "metadata": {},
   "outputs": [
    {
     "data": {
      "text/plain": [
       "0"
      ]
     },
     "execution_count": 11,
     "metadata": {},
     "output_type": "execute_result"
    }
   ],
   "source": [
    "# 1 string rỗng\n",
    "\n",
    "s = ''\n",
    "\n",
    "len(s)"
   ]
  },
  {
   "cell_type": "markdown",
   "metadata": {},
   "source": [
    "Chuỗi sau đây có kích thước n = 29, tức là 29 kí tự; lưu ý là khoảng trắng cũng được tính. Mỗi kí tự được định vị theo hệ thống chỉ mục (index) xuôi từ 0 đến n-1, và ngược từ -1 đến -n. Ta có thể trích xuất các phần tử bằng hệ thống chỉ mục này:"
   ]
  },
  {
   "cell_type": "code",
   "execution_count": 12,
   "metadata": {},
   "outputs": [
    {
     "data": {
      "text/plain": [
       "29"
      ]
     },
     "execution_count": 12,
     "metadata": {},
     "output_type": "execute_result"
    }
   ],
   "source": [
    "s = 'Chào bạn, mình tên là Khả Nhi'\n",
    "\n",
    "len(s)"
   ]
  },
  {
   "cell_type": "markdown",
   "metadata": {},
   "source": [
    "Kí tự đầu tiên, theo chiều xuôi hay ngược:"
   ]
  },
  {
   "cell_type": "code",
   "execution_count": 14,
   "metadata": {},
   "outputs": [
    {
     "data": {
      "text/plain": [
       "'C'"
      ]
     },
     "execution_count": 14,
     "metadata": {},
     "output_type": "execute_result"
    }
   ],
   "source": [
    "s[0]"
   ]
  },
  {
   "cell_type": "code",
   "execution_count": 13,
   "metadata": {},
   "outputs": [
    {
     "data": {
      "text/plain": [
       "'C'"
      ]
     },
     "execution_count": 13,
     "metadata": {},
     "output_type": "execute_result"
    }
   ],
   "source": [
    "s[-29]"
   ]
  },
  {
   "cell_type": "markdown",
   "metadata": {},
   "source": [
    "Kí tự cuối cùng, xuôi và ngược:"
   ]
  },
  {
   "cell_type": "code",
   "execution_count": 16,
   "metadata": {},
   "outputs": [
    {
     "data": {
      "text/plain": [
       "'i'"
      ]
     },
     "execution_count": 16,
     "metadata": {},
     "output_type": "execute_result"
    }
   ],
   "source": [
    "s[28]"
   ]
  },
  {
   "cell_type": "code",
   "execution_count": 75,
   "metadata": {},
   "outputs": [
    {
     "data": {
      "text/plain": [
       "'i'"
      ]
     },
     "execution_count": 75,
     "metadata": {},
     "output_type": "execute_result"
    }
   ],
   "source": [
    "s[-1]"
   ]
  },
  {
   "cell_type": "markdown",
   "metadata": {},
   "source": [
    "Kí tự ở vị trí n=17:"
   ]
  },
  {
   "cell_type": "code",
   "execution_count": 22,
   "metadata": {},
   "outputs": [
    {
     "data": {
      "text/plain": [
       "'ê'"
      ]
     },
     "execution_count": 22,
     "metadata": {},
     "output_type": "execute_result"
    }
   ],
   "source": [
    "s[16]"
   ]
  },
  {
   "cell_type": "markdown",
   "metadata": {},
   "source": [
    "Kí tự từ vị trí 22 đến 29:"
   ]
  },
  {
   "cell_type": "code",
   "execution_count": 25,
   "metadata": {},
   "outputs": [
    {
     "data": {
      "text/plain": [
       "'Khả Nhi'"
      ]
     },
     "execution_count": 25,
     "metadata": {},
     "output_type": "execute_result"
    }
   ],
   "source": [
    "s[22:29]"
   ]
  },
  {
   "cell_type": "markdown",
   "metadata": {},
   "source": [
    "6 kí tự đầu tiên"
   ]
  },
  {
   "cell_type": "code",
   "execution_count": 28,
   "metadata": {},
   "outputs": [
    {
     "data": {
      "text/plain": [
       "'Chào b'"
      ]
     },
     "execution_count": 28,
     "metadata": {},
     "output_type": "execute_result"
    }
   ],
   "source": [
    "s[:6]"
   ]
  },
  {
   "cell_type": "markdown",
   "metadata": {},
   "source": [
    "Tất cả kí tự từ vị trí 11 trở đi:"
   ]
  },
  {
   "cell_type": "code",
   "execution_count": 37,
   "metadata": {},
   "outputs": [
    {
     "name": "stdout",
     "output_type": "stream",
     "text": [
      "m\n",
      "mình tên là Khả Nhi\n"
     ]
    }
   ],
   "source": [
    "print(s[10])\n",
    "\n",
    "print(s[10:])"
   ]
  },
  {
   "cell_type": "markdown",
   "metadata": {},
   "source": [
    "Tất cả kí tự cho đến vị trí áp chót:"
   ]
  },
  {
   "cell_type": "code",
   "execution_count": 38,
   "metadata": {},
   "outputs": [
    {
     "name": "stdout",
     "output_type": "stream",
     "text": [
      "Chào bạn, mình tên là Khả Nh\n"
     ]
    }
   ],
   "source": [
    "print(s[:-1])"
   ]
  },
  {
   "cell_type": "markdown",
   "metadata": {},
   "source": [
    "Cách mỗi 2 kí tự, theo chiều xuôi"
   ]
  },
  {
   "cell_type": "code",
   "execution_count": 42,
   "metadata": {},
   "outputs": [
    {
     "name": "stdout",
     "output_type": "stream",
     "text": [
      "Cà ạ,mn ê àKảNi\n"
     ]
    }
   ],
   "source": [
    "print(s[::2])"
   ]
  },
  {
   "cell_type": "markdown",
   "metadata": {},
   "source": [
    "Cách mỗi 2 kí tự, theo chiều ngược"
   ]
  },
  {
   "cell_type": "code",
   "execution_count": 46,
   "metadata": {},
   "outputs": [
    {
     "name": "stdout",
     "output_type": "stream",
     "text": [
      "iNảKà ê nm,ạ àC\n"
     ]
    }
   ],
   "source": [
    "print(s[::-2])"
   ]
  },
  {
   "cell_type": "markdown",
   "metadata": {},
   "source": [
    "Tóm tắt lại tất cả những gì về chỉ mục:"
   ]
  },
  {
   "cell_type": "code",
   "execution_count": 47,
   "metadata": {},
   "outputs": [
    {
     "name": "stdout",
     "output_type": "stream",
     "text": [
      "c\n",
      "ab\n",
      "j\n",
      "ab\n",
      "abcdefghi\n",
      "acegik\n",
      "kigeca\n"
     ]
    }
   ],
   "source": [
    "s = 'abcdefghijk'\n",
    "\n",
    "print(s[2])\n",
    "print(s[:2])\n",
    "print(s[-2])\n",
    "print(s[:2])\n",
    "print(s[:-2])\n",
    "print(s[::2])\n",
    "print(s[::-2])"
   ]
  },
  {
   "cell_type": "markdown",
   "metadata": {},
   "source": [
    "## Thay đổi nội dung string object\n",
    "\n",
    "String có đặc tính là \"immutable\" (không thể thay đổi), tuy nhiên điều này chỉ có nghĩa là ta không thể dùng phép gán (assignment) dựa vào index. \n",
    "\n",
    "Thí dụ, ta không thể thay thế 1 kí tự này bằng 1 kí tự khác với dấu ="
   ]
  },
  {
   "cell_type": "code",
   "execution_count": 17,
   "metadata": {},
   "outputs": [
    {
     "ename": "TypeError",
     "evalue": "'str' object does not support item assignment",
     "output_type": "error",
     "traceback": [
      "\u001b[1;31m---------------------------------------------------------------------------\u001b[0m",
      "\u001b[1;31mTypeError\u001b[0m                                 Traceback (most recent call last)",
      "\u001b[1;32m<ipython-input-17-192864fa126c>\u001b[0m in \u001b[0;36m<module>\u001b[1;34m()\u001b[0m\n\u001b[0;32m      1\u001b[0m \u001b[0ms\u001b[0m \u001b[1;33m=\u001b[0m \u001b[1;34m'abcdef'\u001b[0m\u001b[1;33m\u001b[0m\u001b[0m\n\u001b[0;32m      2\u001b[0m \u001b[1;33m\u001b[0m\u001b[0m\n\u001b[1;32m----> 3\u001b[1;33m \u001b[0ms\u001b[0m\u001b[1;33m[\u001b[0m\u001b[1;36m3\u001b[0m\u001b[1;33m]\u001b[0m \u001b[1;33m=\u001b[0m \u001b[1;34m'x'\u001b[0m\u001b[1;33m\u001b[0m\u001b[0m\n\u001b[0m",
      "\u001b[1;31mTypeError\u001b[0m: 'str' object does not support item assignment"
     ]
    }
   ],
   "source": [
    "s = 'abcdef'\n",
    "\n",
    "s[3] = 'x'"
   ]
  },
  {
   "cell_type": "markdown",
   "metadata": {},
   "source": [
    "Tuy nhiên, ta có thể hoán chuyển nội dung hoặc định dạng nội dung bên trong string theo một số quy tắc nào đó, có 3 hình thức hoán chuyển phổ biến nhất, là 1)Thay đổi kiểu chữ (chữ in và chữ thường) cho toàn bộ chuỗi, 2) Định dạng theo công thức (formating) và 3) Hoán chuyển (Replacing)."
   ]
  },
  {
   "cell_type": "markdown",
   "metadata": {},
   "source": [
    "###  Chữ in và chữ thường: method upper/lower"
   ]
  },
  {
   "cell_type": "code",
   "execution_count": 16,
   "metadata": {},
   "outputs": [
    {
     "data": {
      "text/plain": [
       "'ABCDEF'"
      ]
     },
     "execution_count": 16,
     "metadata": {},
     "output_type": "execute_result"
    }
   ],
   "source": [
    "s = 'abcdef'\n",
    "\n",
    "s.upper()"
   ]
  },
  {
   "cell_type": "code",
   "execution_count": 15,
   "metadata": {},
   "outputs": [
    {
     "data": {
      "text/plain": [
       "'abcdef'"
      ]
     },
     "execution_count": 15,
     "metadata": {},
     "output_type": "execute_result"
    }
   ],
   "source": [
    "s = 'ABCDEF'\n",
    "\n",
    "s.lower()"
   ]
  },
  {
   "cell_type": "markdown",
   "metadata": {},
   "source": [
    "### Định dạng (format)\n",
    "\n",
    "Công dụng của phương pháp format là tạo ra một công thức, gồm một hay nhiều ngăn chứa rỗng bên trong, mà nội dung của mỗi ngăn có thể được thay đổi. \n",
    "\n",
    "Có hai cách để format nội dung string, cách cũ sử dụng %, gồm %s cho chuỗi kí tự, %f cho số thập phân và %d cho số nguyên, thí dụ đơn giản sau minh họa cho việc dùng %s"
   ]
  },
  {
   "cell_type": "code",
   "execution_count": 40,
   "metadata": {},
   "outputs": [
    {
     "data": {
      "text/plain": [
       "'I am a Vietnamese'"
      ]
     },
     "execution_count": 40,
     "metadata": {},
     "output_type": "execute_result"
    }
   ],
   "source": [
    "nat = 'Vietnamese'\n",
    "\n",
    "'I am a %s' %nat"
   ]
  },
  {
   "cell_type": "markdown",
   "metadata": {},
   "source": [
    "Có thể in n số thập phân bằng format %.nf"
   ]
  },
  {
   "cell_type": "code",
   "execution_count": 30,
   "metadata": {},
   "outputs": [
    {
     "data": {
      "text/plain": [
       "'số pi với độ chính xác 10 số thập phân = 3.1415926536'"
      ]
     },
     "execution_count": 30,
     "metadata": {},
     "output_type": "execute_result"
    }
   ],
   "source": [
    "import numpy as np\n",
    "n = 10\n",
    "p = np.pi\n",
    "\n",
    "\"số pi với độ chính xác %d số thập phân = %.10f\"%(n,p)"
   ]
  },
  {
   "cell_type": "markdown",
   "metadata": {},
   "source": [
    "String format rất hữu ích khi chúng ta viết hàm, vòng lặp và muốn xuất báo cáo kết quả bằng hàm print"
   ]
  },
  {
   "cell_type": "code",
   "execution_count": 70,
   "metadata": {},
   "outputs": [
    {
     "name": "stdout",
     "output_type": "stream",
     "text": [
      "Quy trình đã hoàn tất được 37.5 %\n"
     ]
    }
   ],
   "source": [
    "p = 3/8\n",
    "print('Quy trình đã hoàn tất được %s %%' %str(100*p))"
   ]
  },
  {
   "cell_type": "code",
   "execution_count": 58,
   "metadata": {},
   "outputs": [],
   "source": [
    "def fake_data(row = 20, col = 5, name = 'Input'):\n",
    "    d = np.array(np.random.rand(row*col)).reshape(row,col)\n",
    "    print('Đã tạo dữ liệu %s là array %d chiều, gồm \\n%d hàng và %d cột\\nvới variance = %.4f'%(name, len(d.shape), d.shape[0], d.shape[1],np.var(d)))\n",
    "    return(d)"
   ]
  },
  {
   "cell_type": "code",
   "execution_count": 59,
   "metadata": {},
   "outputs": [
    {
     "name": "stdout",
     "output_type": "stream",
     "text": [
      "Đã tạo dữ liệu Input là array 2 chiều, gồm \n",
      "20 hàng và 5 cột\n",
      "với variance = 0.0808\n"
     ]
    }
   ],
   "source": [
    "d = fake_data()"
   ]
  },
  {
   "cell_type": "code",
   "execution_count": 84,
   "metadata": {},
   "outputs": [
    {
     "name": "stdout",
     "output_type": "stream",
     "text": [
      "Mô hình dự báo chính xác 19.263 % trên block dữ liệu 1\n",
      "Mô hình dự báo chính xác 30.929 % trên block dữ liệu 2\n",
      "Mô hình dự báo chính xác 71.640 % trên block dữ liệu 3\n",
      "Mô hình dự báo chính xác 53.217 % trên block dữ liệu 4\n",
      "Mô hình dự báo chính xác 62.836 % trên block dữ liệu 5\n",
      "Mô hình dự báo chính xác 19.931 % trên block dữ liệu 6\n",
      "Mô hình dự báo chính xác 90.660 % trên block dữ liệu 7\n",
      "Mô hình dự báo chính xác 99.024 % trên block dữ liệu 8\n",
      "Mô hình dự báo chính xác 23.029 % trên block dữ liệu 9\n",
      "Mô hình dự báo chính xác 78.673 % trên block dữ liệu 10\n"
     ]
    }
   ],
   "source": [
    "i = 1\n",
    "while i <= 10:\n",
    "    acc = np.random.rand()\n",
    "    print('Mô hình dự báo chính xác %.3f %% trên block dữ liệu %d' %(100*acc, i))\n",
    "    i = i +1"
   ]
  },
  {
   "cell_type": "code",
   "execution_count": 64,
   "metadata": {},
   "outputs": [
    {
     "name": "stdout",
     "output_type": "stream",
     "text": [
      "Bệnh nhân số 1 đến khoa a\n",
      "Bệnh nhân số 2 đến khoa b\n",
      "Bệnh nhân số 3 đến khoa c\n",
      "Bệnh nhân số 4 đến khoa d\n",
      "Bệnh nhân số 5 đến khoa e\n",
      "Bệnh nhân số 6 đến khoa f\n"
     ]
    }
   ],
   "source": [
    "id_list = range(6)\n",
    "room_list = list('abcdef')\n",
    "\n",
    "for i,j in zip(id_list, room_list):\n",
    "    print('Bệnh nhân số %d đến khoa %s' %(i+1,j))"
   ]
  },
  {
   "cell_type": "markdown",
   "metadata": {},
   "source": [
    "Một cách khác để định dạng là dùng {}, cách này rất đơn giản nên ngày càng thông dụng hơn so với %"
   ]
  },
  {
   "cell_type": "code",
   "execution_count": 87,
   "metadata": {},
   "outputs": [
    {
     "data": {
      "text/plain": [
       "'3 kí tự lần lượt là A B C'"
      ]
     },
     "execution_count": 87,
     "metadata": {},
     "output_type": "execute_result"
    }
   ],
   "source": [
    "\"3 kí tự lần lượt là {} {} {}\".format('A','B','C')"
   ]
  },
  {
   "cell_type": "code",
   "execution_count": 29,
   "metadata": {},
   "outputs": [
    {
     "data": {
      "text/plain": [
       "'3 kí tự được đảo thứ tự 3,2,1 là C B A'"
      ]
     },
     "execution_count": 29,
     "metadata": {},
     "output_type": "execute_result"
    }
   ],
   "source": [
    "\"3 kí tự được đảo thứ tự 3,2,1 là {2} {1} {0}\".format('A','B','C')"
   ]
  },
  {
   "cell_type": "code",
   "execution_count": 92,
   "metadata": {},
   "outputs": [
    {
     "data": {
      "text/plain": [
       "'Bác sĩ C điều trị cho bệnh nhân B mắc bệnh A'"
      ]
     },
     "execution_count": 92,
     "metadata": {},
     "output_type": "execute_result"
    }
   ],
   "source": [
    "\"Bác sĩ {bs} điều trị cho bệnh nhân {bn} mắc bệnh {}\".format('A',bn='B',bs='C')"
   ]
  },
  {
   "cell_type": "code",
   "execution_count": 93,
   "metadata": {},
   "outputs": [
    {
     "data": {
      "text/plain": [
       "'Bệnh nhân X đến bệnh viện ABC để làm phẫu thuật'"
      ]
     },
     "execution_count": 93,
     "metadata": {},
     "output_type": "execute_result"
    }
   ],
   "source": [
    "\"Bệnh nhân {0} đến bệnh viện {bv} để làm {t}\".format('X',t='phẫu thuật',bv='ABC')"
   ]
  },
  {
   "cell_type": "code",
   "execution_count": 2,
   "metadata": {},
   "outputs": [],
   "source": [
    "string_1 = \"Item_ABCDEF\"\n",
    "float_val = 0.0123456789\n",
    "int_val = 12345\n",
    "string_2 = 'Item_XYZ'"
   ]
  },
  {
   "cell_type": "code",
   "execution_count": 95,
   "metadata": {},
   "outputs": [
    {
     "data": {
      "text/plain": [
       "'Nội dung String 1 là Item_ABCDEF'"
      ]
     },
     "execution_count": 95,
     "metadata": {},
     "output_type": "execute_result"
    }
   ],
   "source": [
    "'Nội dung String 1 là {}'.format(string_1)"
   ]
  },
  {
   "cell_type": "code",
   "execution_count": 108,
   "metadata": {},
   "outputs": [
    {
     "name": "stdout",
     "output_type": "stream",
     "text": [
      "String 1 là Item_ABCDEF, string_2 là Item_XYZ\n"
     ]
    }
   ],
   "source": [
    "print('String 1 là {}, string_2 là {}'.format(string_1, string_2))"
   ]
  },
  {
   "cell_type": "code",
   "execution_count": 5,
   "metadata": {},
   "outputs": [
    {
     "name": "stdout",
     "output_type": "stream",
     "text": [
      "5 kí tự đầu của string 1 là \" Item_ \"\n"
     ]
    }
   ],
   "source": [
    "print('5 kí tự đầu của string 1 là \\\" {:.5} \\\"'.format(string_1))"
   ]
  },
  {
   "cell_type": "code",
   "execution_count": 13,
   "metadata": {},
   "outputs": [
    {
     "name": "stdout",
     "output_type": "stream",
     "text": [
      "float_val chính xác đến 3 số lẻ là \" 0.012 \"\n"
     ]
    }
   ],
   "source": [
    "print('float_val chính xác đến 3 số lẻ là \\\" {:.2} \\\"'.format(float_val))"
   ]
  },
  {
   "cell_type": "code",
   "execution_count": 109,
   "metadata": {},
   "outputs": [
    {
     "name": "stdout",
     "output_type": "stream",
     "text": [
      "Value là 0.0123456789, hay 1.2345678900000001 %\n"
     ]
    }
   ],
   "source": [
    "print('Value là {a}, hay {b} %'.format(a = float_val, b = float_val*100))"
   ]
  },
  {
   "cell_type": "code",
   "execution_count": 42,
   "metadata": {},
   "outputs": [],
   "source": [
    "file_list = ['File_'+ str(i) for i in range(1,11)]\n",
    "\n",
    "def load_data(path = None):\n",
    "    print('Xác nhận có {} file cần tải'.format(len(path)))\n",
    "    print('Bắt đầu tải ...')\n",
    "    for name in path:\n",
    "        print('{} đã được tải'.format(name+'.npy'))\n",
    "    print('Đã tải xong')"
   ]
  },
  {
   "cell_type": "code",
   "execution_count": 43,
   "metadata": {},
   "outputs": [
    {
     "name": "stdout",
     "output_type": "stream",
     "text": [
      "Xác nhận có 10 file cần tải\n",
      "Bắt đầu tải ...\n",
      "File_1.npy đã được tải\n",
      "File_2.npy đã được tải\n",
      "File_3.npy đã được tải\n",
      "File_4.npy đã được tải\n",
      "File_5.npy đã được tải\n",
      "File_6.npy đã được tải\n",
      "File_7.npy đã được tải\n",
      "File_8.npy đã được tải\n",
      "File_9.npy đã được tải\n",
      "File_10.npy đã được tải\n",
      "Đã tải xong\n"
     ]
    }
   ],
   "source": [
    "load_data(path = file_list)"
   ]
  },
  {
   "cell_type": "code",
   "execution_count": 126,
   "metadata": {},
   "outputs": [
    {
     "name": "stdout",
     "output_type": "stream",
     "text": [
      "|Lượt    |Giá trị   |\n",
      "----------------------\n",
      "|1       |0.068055707|\n",
      "----------------------\n",
      "|2       |0.39609209|\n",
      "----------------------\n",
      "|3       |0.47893471|\n",
      "----------------------\n",
      "|4       |0.44015545|\n",
      "----------------------\n",
      "|5       |0.29583311|\n",
      "----------------------\n",
      "|6       |0.28570759|\n",
      "----------------------\n",
      "|7       |0.45364605|\n",
      "----------------------\n",
      "|8       |0.18947797|\n",
      "----------------------\n",
      "|9       |0.27585753|\n",
      "----------------------\n",
      "|10      |0.93449099|\n"
     ]
    }
   ],
   "source": [
    "def random_sample(n=10):\n",
    "    print(\"|{:<8}|{:10}|\".format('Lượt','Giá trị'))\n",
    "    for i in range(10):\n",
    "        print('-'*22)\n",
    "        v = np.random.rand()\n",
    "        print(\"|{:<8}|{:.8}|\".format(i+1,v))\n",
    "\n",
    "random_sample(10)"
   ]
  },
  {
   "cell_type": "markdown",
   "metadata": {},
   "source": [
    "### Hoán chuyển phần tử: replace"
   ]
  },
  {
   "cell_type": "code",
   "execution_count": 52,
   "metadata": {},
   "outputs": [
    {
     "name": "stdout",
     "output_type": "stream",
     "text": [
      "I am a normal girl with a normal life\n"
     ]
    },
    {
     "data": {
      "text/plain": [
       "'I am a nice girl with a normal life'"
      ]
     },
     "execution_count": 52,
     "metadata": {},
     "output_type": "execute_result"
    }
   ],
   "source": [
    "s = 'I am a normal girl with a normal life'\n",
    "\n",
    "print(s)\n",
    "s.replace('normal','nice',1)"
   ]
  },
  {
   "cell_type": "code",
   "execution_count": 53,
   "metadata": {},
   "outputs": [
    {
     "name": "stdout",
     "output_type": "stream",
     "text": [
      "I am a normal girl with a normal life\n"
     ]
    },
    {
     "data": {
      "text/plain": [
       "'I am a good girl with a good life'"
      ]
     },
     "execution_count": 53,
     "metadata": {},
     "output_type": "execute_result"
    }
   ],
   "source": [
    "s = 'I am a normal girl with a normal life'\n",
    "\n",
    "print(s)\n",
    "s.replace('normal','good',2)"
   ]
  },
  {
   "cell_type": "markdown",
   "metadata": {},
   "source": [
    "## Một số thao tác trên string"
   ]
  },
  {
   "cell_type": "markdown",
   "metadata": {},
   "source": [
    "### Ghép nối, kéo dài string\n",
    "\n",
    "Một điểm thú vị, đó là Python cho phép ta sử dụng các toán tử + và * trên chuỗi, dĩ nhiên với ý nghĩa khác với phép tính số học. \n",
    "\n",
    "Bạn có thể dùng toán tử '+' để ghép nhiều chuỗi nhỏ với nhau thành một chuỗi dài."
   ]
  },
  {
   "cell_type": "code",
   "execution_count": 49,
   "metadata": {},
   "outputs": [
    {
     "data": {
      "text/plain": [
       "'Biomedical Data Science Group'"
      ]
     },
     "execution_count": 49,
     "metadata": {},
     "output_type": "execute_result"
    }
   ],
   "source": [
    "s1 = 'Biomedical'\n",
    "s2 = 'Data Science'\n",
    "s3 = 'Group'\n",
    "\n",
    "s = s1 + ' ' + s2 + ' ' + s3\n",
    "\n",
    "s"
   ]
  },
  {
   "cell_type": "markdown",
   "metadata": {},
   "source": [
    "Thao tác này rất hữu ích khi làm việc với filepath: thí dụ bạn có thể tạo filepath cho file Case_100.txt nằm trong thư mục \"test_set\":"
   ]
  },
  {
   "cell_type": "code",
   "execution_count": 50,
   "metadata": {},
   "outputs": [
    {
     "name": "stdout",
     "output_type": "stream",
     "text": [
      "../test_set/Case_100.txt\n"
     ]
    }
   ],
   "source": [
    "subset = 'test'\n",
    "\n",
    "path = '../' + subset + '_set/' + 'Case_100.txt'\n",
    "\n",
    "print(path)"
   ]
  },
  {
   "cell_type": "markdown",
   "metadata": {},
   "source": [
    "Đó là cách làm thủ công, có kết quả tương đương với method path.join() của module os"
   ]
  },
  {
   "cell_type": "code",
   "execution_count": 51,
   "metadata": {},
   "outputs": [
    {
     "name": "stdout",
     "output_type": "stream",
     "text": [
      "../test_set/Case_100.txt\n"
     ]
    }
   ],
   "source": [
    "import os\n",
    "\n",
    "print(os.path.join('../test_set/', 'Case_100.txt'))"
   ]
  },
  {
   "cell_type": "markdown",
   "metadata": {},
   "source": [
    "Nối dài trực tiếp 1 string:"
   ]
  },
  {
   "cell_type": "code",
   "execution_count": 89,
   "metadata": {},
   "outputs": [
    {
     "data": {
      "text/plain": [
       "'abcdefg'"
      ]
     },
     "execution_count": 89,
     "metadata": {},
     "output_type": "execute_result"
    }
   ],
   "source": [
    "s = 'abc'\n",
    "\n",
    "s+='defg'\n",
    "\n",
    "s"
   ]
  },
  {
   "cell_type": "markdown",
   "metadata": {},
   "source": [
    "Lưu ý: Tuy string có method join(), nhưng công dụng của nó hoàn toàn khác với việc ghép nối bằng toán tử +, thí dụ sau đây sẽ giúp bạn hình dung về sự khác biệt này.\n",
    "Trên thực tế, cách ghép nối bằng toán tử + được áp dụng nhiều hơn:"
   ]
  },
  {
   "cell_type": "code",
   "execution_count": 66,
   "metadata": {},
   "outputs": [
    {
     "data": {
      "text/plain": [
       "'a-b-c-d'"
      ]
     },
     "execution_count": 66,
     "metadata": {},
     "output_type": "execute_result"
    }
   ],
   "source": [
    "s1 = '-'\n",
    "s2 = 'abcd'\n",
    "\n",
    "s1.join(s2)"
   ]
  },
  {
   "cell_type": "code",
   "execution_count": 60,
   "metadata": {},
   "outputs": [
    {
     "name": "stdout",
     "output_type": "stream",
     "text": [
      "abcdefgh\n",
      "efghabcd\n",
      "eabcdfabcdgabcdh\n",
      "aefghbefghcefghd\n"
     ]
    }
   ],
   "source": [
    "s1 = 'abcd'\n",
    "s2 = 'efgh'\n",
    "\n",
    "print(s1 + s2)\n",
    "\n",
    "print(s2 + s1)\n",
    "\n",
    "print(s1.join(s2))\n",
    "\n",
    "print(s2.join(s1))"
   ]
  },
  {
   "cell_type": "markdown",
   "metadata": {},
   "source": [
    "Bật mí: bạn có thể ghép nhiều phần tử (từ, nhóm kí tự) trong 1 list vào 1 string rỗng hoặc khoảng trắng để tạo ra 1 câu dài (list là 1 kiểu dữ liệu khác trong Python), như sau:"
   ]
  },
  {
   "cell_type": "code",
   "execution_count": 45,
   "metadata": {},
   "outputs": [
    {
     "data": {
      "text/plain": [
       "'em yêu anh nhiều'"
      ]
     },
     "execution_count": 45,
     "metadata": {},
     "output_type": "execute_result"
    }
   ],
   "source": [
    "word_list = ['em', 'yêu', 'anh', 'nhiều']\n",
    "\n",
    "s = ' '.join(word_list)\n",
    "\n",
    "s"
   ]
  },
  {
   "cell_type": "markdown",
   "metadata": {},
   "source": [
    "Tiểu xảo để đảo ngược thứ tự của câu trên:"
   ]
  },
  {
   "cell_type": "code",
   "execution_count": 46,
   "metadata": {},
   "outputs": [
    {
     "data": {
      "text/plain": [
       "'nhiều anh yêu em'"
      ]
     },
     "execution_count": 46,
     "metadata": {},
     "output_type": "execute_result"
    }
   ],
   "source": [
    "' '.join(word_list[::-1])"
   ]
  },
  {
   "cell_type": "markdown",
   "metadata": {},
   "source": [
    "Trong khi đó, toán tử * có ý nghĩa \"lặp lại nhiều lần\" nội dung 1 chuỗi"
   ]
  },
  {
   "cell_type": "code",
   "execution_count": 59,
   "metadata": {},
   "outputs": [
    {
     "name": "stdout",
     "output_type": "stream",
     "text": [
      "--------------------\n"
     ]
    }
   ],
   "source": [
    "print('-'*20)"
   ]
  },
  {
   "cell_type": "code",
   "execution_count": 73,
   "metadata": {},
   "outputs": [
    {
     "name": "stdout",
     "output_type": "stream",
     "text": [
      "ACTGCACTGCACTGCACTGCACTGC\n"
     ]
    }
   ],
   "source": [
    "s = 'ACTGC'\n",
    "\n",
    "print(s*5)"
   ]
  },
  {
   "cell_type": "code",
   "execution_count": 61,
   "metadata": {},
   "outputs": [
    {
     "data": {
      "text/plain": [
       "'0000001234'"
      ]
     },
     "execution_count": 61,
     "metadata": {},
     "output_type": "execute_result"
    }
   ],
   "source": [
    "ID = '1234'\n",
    "\n",
    "ID.zfill(10)"
   ]
  },
  {
   "cell_type": "markdown",
   "metadata": {},
   "source": [
    "### Những kiểm định logic trên string"
   ]
  },
  {
   "cell_type": "markdown",
   "metadata": {},
   "source": [
    "Kiểm tra nội dung của string :\n",
    "\n",
    "Thí dụ: nội dung có phải toàn là con số ?"
   ]
  },
  {
   "cell_type": "code",
   "execution_count": 91,
   "metadata": {},
   "outputs": [
    {
     "data": {
      "text/plain": [
       "True"
      ]
     },
     "execution_count": 91,
     "metadata": {},
     "output_type": "execute_result"
    }
   ],
   "source": [
    "'314'.isdigit()"
   ]
  },
  {
   "cell_type": "markdown",
   "metadata": {},
   "source": [
    "'3.14' có chứa kí tự '.' không phải là con số:"
   ]
  },
  {
   "cell_type": "code",
   "execution_count": 92,
   "metadata": {},
   "outputs": [
    {
     "data": {
      "text/plain": [
       "False"
      ]
     },
     "execution_count": 92,
     "metadata": {},
     "output_type": "execute_result"
    }
   ],
   "source": [
    "'3.14'.isdigit()"
   ]
  },
  {
   "cell_type": "markdown",
   "metadata": {},
   "source": [
    "Nội dung toàn là chữ (không gồm kí tự đặc biệt) "
   ]
  },
  {
   "cell_type": "code",
   "execution_count": 99,
   "metadata": {},
   "outputs": [
    {
     "data": {
      "text/plain": [
       "True"
      ]
     },
     "execution_count": 99,
     "metadata": {},
     "output_type": "execute_result"
    }
   ],
   "source": [
    "'aBéàçùµâôêă'.isalpha()"
   ]
  },
  {
   "cell_type": "code",
   "execution_count": 100,
   "metadata": {},
   "outputs": [
    {
     "data": {
      "text/plain": [
       "False"
      ]
     },
     "execution_count": 100,
     "metadata": {},
     "output_type": "execute_result"
    }
   ],
   "source": [
    "'abc£$!'.isalpha()"
   ]
  },
  {
   "cell_type": "markdown",
   "metadata": {},
   "source": [
    "là chữ Hoặc số:"
   ]
  },
  {
   "cell_type": "code",
   "execution_count": 102,
   "metadata": {},
   "outputs": [
    {
     "data": {
      "text/plain": [
       "True"
      ]
     },
     "execution_count": 102,
     "metadata": {},
     "output_type": "execute_result"
    }
   ],
   "source": [
    "\"abc123\".isalnum()"
   ]
  },
  {
   "cell_type": "markdown",
   "metadata": {},
   "source": [
    "Toàn là chữ in:"
   ]
  },
  {
   "cell_type": "code",
   "execution_count": 103,
   "metadata": {},
   "outputs": [
    {
     "data": {
      "text/plain": [
       "False"
      ]
     },
     "execution_count": 103,
     "metadata": {},
     "output_type": "execute_result"
    }
   ],
   "source": [
    "\"AaBb\".isupper()"
   ]
  },
  {
   "cell_type": "code",
   "execution_count": 106,
   "metadata": {},
   "outputs": [
    {
     "data": {
      "text/plain": [
       "True"
      ]
     },
     "execution_count": 106,
     "metadata": {},
     "output_type": "execute_result"
    }
   ],
   "source": [
    "\"ACTG\".isupper()"
   ]
  },
  {
   "cell_type": "markdown",
   "metadata": {},
   "source": [
    "Toàn là chữ thường"
   ]
  },
  {
   "cell_type": "code",
   "execution_count": 107,
   "metadata": {},
   "outputs": [
    {
     "data": {
      "text/plain": [
       "True"
      ]
     },
     "execution_count": 107,
     "metadata": {},
     "output_type": "execute_result"
    }
   ],
   "source": [
    "\"abcdef\".islower()"
   ]
  },
  {
   "cell_type": "markdown",
   "metadata": {},
   "source": [
    "Chữ đầu tiên in hoa, còn lại là chữ thường (1 tựa đề)"
   ]
  },
  {
   "cell_type": "code",
   "execution_count": 108,
   "metadata": {},
   "outputs": [
    {
     "data": {
      "text/plain": [
       "True"
      ]
     },
     "execution_count": 108,
     "metadata": {},
     "output_type": "execute_result"
    }
   ],
   "source": [
    "\"Abcdef\".istitle()"
   ]
  },
  {
   "cell_type": "markdown",
   "metadata": {},
   "source": [
    "###  Nhận dạng, kiểm tra 1 nội dung trong string:"
   ]
  },
  {
   "cell_type": "markdown",
   "metadata": {},
   "source": [
    "Method find() cho phép định vị sự xuất hiện lần đầu tiên của 1 nhóm kí tự trong một chuỗi, lưu ý kết quả là vị trí của kí tự đầu tiên của lần xuất hiện đầu tiên"
   ]
  },
  {
   "cell_type": "code",
   "execution_count": 116,
   "metadata": {},
   "outputs": [
    {
     "data": {
      "text/plain": [
       "11"
      ]
     },
     "execution_count": 116,
     "metadata": {},
     "output_type": "execute_result"
    }
   ],
   "source": [
    "s = 'Chuyên mục tác giả và tác phẩm'\n",
    "\n",
    "s.find('tác')"
   ]
  },
  {
   "cell_type": "markdown",
   "metadata": {},
   "source": [
    "Nếu không tìm thấy nội dung, kết quả là -1"
   ]
  },
  {
   "cell_type": "code",
   "execution_count": 117,
   "metadata": {},
   "outputs": [
    {
     "data": {
      "text/plain": [
       "-1"
      ]
     },
     "execution_count": 117,
     "metadata": {},
     "output_type": "execute_result"
    }
   ],
   "source": [
    "s = 'Chuyên mục tác giả và tác phẩm'\n",
    "\n",
    "s.find('Tác')"
   ]
  },
  {
   "cell_type": "markdown",
   "metadata": {},
   "source": [
    "Kiểm định logic về sự trùng lắp nội dung giữa các string:"
   ]
  },
  {
   "cell_type": "code",
   "execution_count": 84,
   "metadata": {},
   "outputs": [],
   "source": [
    "s1 = 'ACCG'\n",
    "s2= 'ACCTGACCGT'\n",
    "s3 = 'ATTGCCGAA'"
   ]
  },
  {
   "cell_type": "markdown",
   "metadata": {},
   "source": [
    "chuỗi s2 có chứa nội dung chuỗi s1"
   ]
  },
  {
   "cell_type": "code",
   "execution_count": 85,
   "metadata": {},
   "outputs": [
    {
     "data": {
      "text/plain": [
       "True"
      ]
     },
     "execution_count": 85,
     "metadata": {},
     "output_type": "execute_result"
    }
   ],
   "source": [
    "s1 in s2"
   ]
  },
  {
   "cell_type": "markdown",
   "metadata": {},
   "source": [
    "chuỗi s3 không chứa nội dung chuỗi s1"
   ]
  },
  {
   "cell_type": "code",
   "execution_count": 86,
   "metadata": {},
   "outputs": [
    {
     "data": {
      "text/plain": [
       "False"
      ]
     },
     "execution_count": 86,
     "metadata": {},
     "output_type": "execute_result"
    }
   ],
   "source": [
    "s1 in s3"
   ]
  },
  {
   "cell_type": "code",
   "execution_count": 87,
   "metadata": {},
   "outputs": [
    {
     "data": {
      "text/plain": [
       "True"
      ]
     },
     "execution_count": 87,
     "metadata": {},
     "output_type": "execute_result"
    }
   ],
   "source": [
    "s1 not in s3"
   ]
  },
  {
   "cell_type": "markdown",
   "metadata": {},
   "source": [
    "# Chia cắt nội dung string\n",
    "\n",
    "Ta có thể cắt một chuỗi kí tự dài thành nhiều phần nhỏ bằng method split. Kết quả xuất ra của method split là một list, như vậy ta có thể định vị và trích xuất từng thành tố từ list này cho công việc tiếp theo. "
   ]
  },
  {
   "cell_type": "code",
   "execution_count": 89,
   "metadata": {},
   "outputs": [
    {
     "name": "stdout",
     "output_type": "stream",
     "text": [
      "['A', 'C', 'C', 'G', 'C', 'T', 'G', 'A', 'A', 'C', 'T']\n"
     ]
    }
   ],
   "source": [
    "seq_1 = list('ACCGCTGAACT')\n",
    "\n",
    "print(seq_1)"
   ]
  },
  {
   "cell_type": "code",
   "execution_count": 90,
   "metadata": {},
   "outputs": [
    {
     "name": "stdout",
     "output_type": "stream",
     "text": [
      "A-C-C-G-C-T-G-A-A-C-T\n"
     ]
    }
   ],
   "source": [
    "seq_2 = '-'.join(seq_1)\n",
    "\n",
    "print(seq_2)"
   ]
  },
  {
   "cell_type": "code",
   "execution_count": 91,
   "metadata": {},
   "outputs": [
    {
     "name": "stdout",
     "output_type": "stream",
     "text": [
      "['A', 'C', 'C', 'G', 'C', 'T', 'G', 'A', 'A', 'C', 'T']\n"
     ]
    }
   ],
   "source": [
    "seq_3 = seq_2.split('-')\n",
    "\n",
    "print(seq_3)"
   ]
  },
  {
   "cell_type": "markdown",
   "metadata": {},
   "source": [
    "Ta có thể tùy chỉnh số lần cắt, thí dụ chỉ cắt 5 lần:"
   ]
  },
  {
   "cell_type": "code",
   "execution_count": 92,
   "metadata": {},
   "outputs": [
    {
     "data": {
      "text/plain": [
       "['A', 'C', 'C', 'G', 'C', 'T-G-A-A-C-T']"
      ]
     },
     "execution_count": 92,
     "metadata": {},
     "output_type": "execute_result"
    }
   ],
   "source": [
    "seq_2.split('-',5)"
   ]
  },
  {
   "cell_type": "markdown",
   "metadata": {},
   "source": [
    "Method rsplit cho phép xác định chiều cắt từ phải sang trái:"
   ]
  },
  {
   "cell_type": "code",
   "execution_count": 94,
   "metadata": {},
   "outputs": [
    {
     "data": {
      "text/plain": [
       "['A-C-C-G-C-T-G', 'A', 'A', 'C', 'T']"
      ]
     },
     "execution_count": 94,
     "metadata": {},
     "output_type": "execute_result"
    }
   ],
   "source": [
    "seq_2.rsplit('-',4)"
   ]
  },
  {
   "cell_type": "markdown",
   "metadata": {},
   "source": [
    "Thao tác này rất hữu dụng trong nhiều trường hợp, thí dụ khi ta muốn trích xuất những phần khác nhau từ tên 1 file, thư mục hoặc trích xuất 1 từ trong văn bản, hay thành tố trong từ... và dùng chúng như label hay variable trong các quy trình tiếp theo. \n",
    "\n",
    "Thí dụ, 1 file dữ liệu có tên như sau:"
   ]
  },
  {
   "cell_type": "code",
   "execution_count": 95,
   "metadata": {},
   "outputs": [
    {
     "name": "stdout",
     "output_type": "stream",
     "text": [
      "Group_A_Case_002_Visit_05\n"
     ]
    }
   ],
   "source": [
    "ls = 'Group_A_Case_002_Visit_05'\n",
    "\n",
    "print(ls)"
   ]
  },
  {
   "cell_type": "markdown",
   "metadata": {},
   "source": [
    "Có thể được cắt ra thành 3 thông tin: phân nhóm, mã số bệnh nhân, lượt thăm khám... "
   ]
  },
  {
   "cell_type": "code",
   "execution_count": 96,
   "metadata": {},
   "outputs": [
    {
     "data": {
      "text/plain": [
       "['Group', 'A', 'Case', '002', 'Visit', '05']"
      ]
     },
     "execution_count": 96,
     "metadata": {},
     "output_type": "execute_result"
    }
   ],
   "source": [
    "ls.split('_')"
   ]
  },
  {
   "cell_type": "code",
   "execution_count": 97,
   "metadata": {},
   "outputs": [
    {
     "data": {
      "text/plain": [
       "'A'"
      ]
     },
     "execution_count": 97,
     "metadata": {},
     "output_type": "execute_result"
    }
   ],
   "source": [
    "ls.split('_')[1]"
   ]
  },
  {
   "cell_type": "code",
   "execution_count": 98,
   "metadata": {},
   "outputs": [
    {
     "data": {
      "text/plain": [
       "'002'"
      ]
     },
     "execution_count": 98,
     "metadata": {},
     "output_type": "execute_result"
    }
   ],
   "source": [
    "ls.split('_')[3]"
   ]
  },
  {
   "cell_type": "code",
   "execution_count": 99,
   "metadata": {},
   "outputs": [
    {
     "data": {
      "text/plain": [
       "'05'"
      ]
     },
     "execution_count": 99,
     "metadata": {},
     "output_type": "execute_result"
    }
   ],
   "source": [
    "ls.split('_')[5]"
   ]
  },
  {
   "cell_type": "markdown",
   "metadata": {},
   "source": [
    "Có thể thực hiện split nhiều lần đến khi trích xuất được thông tin cần thiết:"
   ]
  },
  {
   "cell_type": "code",
   "execution_count": 100,
   "metadata": {},
   "outputs": [
    {
     "data": {
      "text/plain": [
       "'A'"
      ]
     },
     "execution_count": 100,
     "metadata": {},
     "output_type": "execute_result"
    }
   ],
   "source": [
    "ls = 'C:\\Group_A\\Case_002_Visit_05.txt'\n",
    "\n",
    "ls.split('\\\\')[1].split('_')[1]"
   ]
  },
  {
   "cell_type": "code",
   "execution_count": 101,
   "metadata": {},
   "outputs": [
    {
     "data": {
      "text/plain": [
       "'05'"
      ]
     },
     "execution_count": 101,
     "metadata": {},
     "output_type": "execute_result"
    }
   ],
   "source": [
    "ls.split('\\\\')[2].split('_')[3].split('.')[0]"
   ]
  },
  {
   "cell_type": "markdown",
   "metadata": {},
   "source": [
    "Ngoài split, ta còn có thể trích prefix và suffix bằng method partition"
   ]
  },
  {
   "cell_type": "code",
   "execution_count": 102,
   "metadata": {},
   "outputs": [
    {
     "data": {
      "text/plain": [
       "'0123'"
      ]
     },
     "execution_count": 102,
     "metadata": {},
     "output_type": "execute_result"
    }
   ],
   "source": [
    "n = 'Case_0123'\n",
    "\n",
    "n.partition('_')[2]"
   ]
  },
  {
   "cell_type": "markdown",
   "metadata": {},
   "source": [
    "## Hoán chuyển giữa string, list và dictionary:"
   ]
  },
  {
   "cell_type": "markdown",
   "metadata": {},
   "source": [
    "Chuyển string thành list:"
   ]
  },
  {
   "cell_type": "code",
   "execution_count": 108,
   "metadata": {},
   "outputs": [
    {
     "name": "stdout",
     "output_type": "stream",
     "text": [
      "['abcdef']\n"
     ]
    }
   ],
   "source": [
    "s = 'abcdef'\n",
    "\n",
    "ls = [s]\n",
    "\n",
    "type(ls)\n",
    "\n",
    "print(ls)"
   ]
  },
  {
   "cell_type": "markdown",
   "metadata": {},
   "source": [
    "Cắt nhỏ string thành  từng kí tự và cho vào list:"
   ]
  },
  {
   "cell_type": "code",
   "execution_count": 109,
   "metadata": {},
   "outputs": [
    {
     "data": {
      "text/plain": [
       "['a', 'b', 'c', 'd', 'e', 'f']"
      ]
     },
     "execution_count": 109,
     "metadata": {},
     "output_type": "execute_result"
    }
   ],
   "source": [
    "list(s)"
   ]
  },
  {
   "cell_type": "code",
   "execution_count": 110,
   "metadata": {},
   "outputs": [
    {
     "data": {
      "text/plain": [
       "['a', 'b', 'c', 'd', 'e', 'f']"
      ]
     },
     "execution_count": 110,
     "metadata": {},
     "output_type": "execute_result"
    }
   ],
   "source": [
    "[*s]"
   ]
  },
  {
   "cell_type": "markdown",
   "metadata": {},
   "source": [
    "Ghép cặp tuần tự 1 prefix/suffix vào mỗi kí tự trong string rồi cho vào list:"
   ]
  },
  {
   "cell_type": "code",
   "execution_count": 112,
   "metadata": {},
   "outputs": [
    {
     "data": {
      "text/plain": [
       "['Item_a', 'Item_b', 'Item_c', 'Item_d', 'Item_e', 'Item_f']"
      ]
     },
     "execution_count": 112,
     "metadata": {},
     "output_type": "execute_result"
    }
   ],
   "source": [
    "['Item_' + i for i in list(s)]"
   ]
  },
  {
   "cell_type": "markdown",
   "metadata": {},
   "source": [
    "Tạo dictionary từ string:"
   ]
  },
  {
   "cell_type": "code",
   "execution_count": 127,
   "metadata": {},
   "outputs": [
    {
     "data": {
      "text/plain": [
       "{'a', 'b', 'c', 'd', 'e', 'f'}"
      ]
     },
     "execution_count": 127,
     "metadata": {},
     "output_type": "execute_result"
    }
   ],
   "source": [
    " {*s}"
   ]
  },
  {
   "cell_type": "code",
   "execution_count": 116,
   "metadata": {},
   "outputs": [
    {
     "data": {
      "text/plain": [
       "{'a': 1, 'b': 2, 'c': 3, 'd': 4, 'e': 5, 'f': 6}"
      ]
     },
     "execution_count": 116,
     "metadata": {},
     "output_type": "execute_result"
    }
   ],
   "source": [
    "dict(zip(s,range(1,7)))"
   ]
  },
  {
   "cell_type": "code",
   "execution_count": 137,
   "metadata": {},
   "outputs": [
    {
     "data": {
      "text/plain": [
       "{'P': 1, 'N': 0}"
      ]
     },
     "execution_count": 137,
     "metadata": {},
     "output_type": "execute_result"
    }
   ],
   "source": [
    "labels = 'PNPPNNNPN'\n",
    "dict(zip(labels, [1,0]))"
   ]
  },
  {
   "cell_type": "code",
   "execution_count": null,
   "metadata": {},
   "outputs": [],
   "source": []
  }
 ],
 "metadata": {
  "hide_input": false,
  "kernelspec": {
   "display_name": "Python 3",
   "language": "python",
   "name": "python3"
  },
  "language_info": {
   "codemirror_mode": {
    "name": "ipython",
    "version": 3
   },
   "file_extension": ".py",
   "mimetype": "text/x-python",
   "name": "python",
   "nbconvert_exporter": "python",
   "pygments_lexer": "ipython3",
   "version": "3.7.3"
  },
  "toc": {
   "base_numbering": 1,
   "nav_menu": {},
   "number_sections": true,
   "sideBar": true,
   "skip_h1_title": false,
   "title_cell": "Table of Contents",
   "title_sidebar": "Contents",
   "toc_cell": false,
   "toc_position": {},
   "toc_section_display": true,
   "toc_window_display": false
  }
 },
 "nbformat": 4,
 "nbformat_minor": 2
}

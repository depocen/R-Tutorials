{
 "cells": [
  {
   "cell_type": "markdown",
   "metadata": {},
   "source": [
    "# Tiếp cận R như ngôn ngữ lập trình\n",
    "\n",
    "## Bài 2: Ma trận - cấu trúc dữ liệu 2 chiều\n",
    "\n",
    "**Bs. Lê Ngọc Khả Nhi**\n",
    "\n"
   ]
  },
  {
   "cell_type": "markdown",
   "metadata": {},
   "source": [
    "## Bản chất của matrix và cách tạo matrix thủ công"
   ]
  },
  {
   "cell_type": "markdown",
   "metadata": {},
   "source": [
    "Trong bài 1 lần trước, chúng ta đã làm quen với Vector, cấu trúc dữ liệu 1 chiều và cơ bản trong R. Matrix (tiếng Việt: ma trận) là một cấu trúc dữ liệu cơ bản khác trong R cho phép lưu trữ và trình bày dữ liệu 2 chiều. Thực ra, bản chất của matrix là một vector, nhưng kèm theo thuộc tính về 2 chiều : hàng (row) và cột (column). \n",
    "\n",
    "Ta có thể tạo R matrix một cách thủ công bằng hàm matrix(), với 5 arguments: nội dung dữ liệu (data), số hàng (nrow), số cột (ncol), định hướng dòng chảy dữ liệu theo hàng hay cột (byrow) và tên của các chiều hàng/cột (dimnames)."
   ]
  },
  {
   "cell_type": "code",
   "execution_count": 11,
   "metadata": {},
   "outputs": [
    {
     "name": "stdout",
     "output_type": "stream",
     "text": [
      "function (data = NA, nrow = 1, ncol = 1, byrow = FALSE, dimnames = NULL)  \n"
     ]
    }
   ],
   "source": [
    "str(matrix)"
   ]
  },
  {
   "cell_type": "markdown",
   "metadata": {},
   "source": [
    "Ta dùng hàm is.matrix(obj) để kiểm tra object có phải là matrix hay không:\n",
    "\n",
    "Matrix đơn giản nhất chỉ có 1 hàng, 1 cột và rỗng, không chứa dữ liệu. "
   ]
  },
  {
   "cell_type": "code",
   "execution_count": 8,
   "metadata": {},
   "outputs": [
    {
     "data": {
      "text/html": [
       "TRUE"
      ],
      "text/latex": [
       "TRUE"
      ],
      "text/markdown": [
       "TRUE"
      ],
      "text/plain": [
       "[1] TRUE"
      ]
     },
     "metadata": {},
     "output_type": "display_data"
    },
    {
     "data": {
      "text/html": [
       "<table>\n",
       "<tbody>\n",
       "\t<tr><td>NA</td></tr>\n",
       "</tbody>\n",
       "</table>\n"
      ],
      "text/latex": [
       "\\begin{tabular}{l}\n",
       "\t NA\\\\\n",
       "\\end{tabular}\n"
      ],
      "text/markdown": [
       "\n",
       "| NA |\n",
       "\n"
      ],
      "text/plain": [
       "     [,1]\n",
       "[1,] NA  "
      ]
     },
     "metadata": {},
     "output_type": "display_data"
    }
   ],
   "source": [
    "m0 = matrix()\n",
    "\n",
    "is.matrix(m0)\n",
    "\n",
    "m0"
   ]
  },
  {
   "cell_type": "markdown",
   "metadata": {},
   "source": [
    "Nếu data rỗng (không có dữ liệu), hàm này xuất ra một matrix rỗng: toàn bộ dữ liệu là NA (và thú vị là matrix đó được định dạng là logical)."
   ]
  },
  {
   "cell_type": "code",
   "execution_count": 20,
   "metadata": {},
   "outputs": [
    {
     "data": {
      "text/html": [
       "<table>\n",
       "<tbody>\n",
       "\t<tr><td>NA</td><td>NA</td><td>NA</td></tr>\n",
       "\t<tr><td>NA</td><td>NA</td><td>NA</td></tr>\n",
       "\t<tr><td>NA</td><td>NA</td><td>NA</td></tr>\n",
       "\t<tr><td>NA</td><td>NA</td><td>NA</td></tr>\n",
       "\t<tr><td>NA</td><td>NA</td><td>NA</td></tr>\n",
       "</tbody>\n",
       "</table>\n"
      ],
      "text/latex": [
       "\\begin{tabular}{lll}\n",
       "\t NA & NA & NA\\\\\n",
       "\t NA & NA & NA\\\\\n",
       "\t NA & NA & NA\\\\\n",
       "\t NA & NA & NA\\\\\n",
       "\t NA & NA & NA\\\\\n",
       "\\end{tabular}\n"
      ],
      "text/markdown": [
       "\n",
       "| NA | NA | NA |\n",
       "| NA | NA | NA |\n",
       "| NA | NA | NA |\n",
       "| NA | NA | NA |\n",
       "| NA | NA | NA |\n",
       "\n"
      ],
      "text/plain": [
       "     [,1] [,2] [,3]\n",
       "[1,] NA   NA   NA  \n",
       "[2,] NA   NA   NA  \n",
       "[3,] NA   NA   NA  \n",
       "[4,] NA   NA   NA  \n",
       "[5,] NA   NA   NA  "
      ]
     },
     "metadata": {},
     "output_type": "display_data"
    },
    {
     "name": "stdout",
     "output_type": "stream",
     "text": [
      " logi [1:5, 1:3] NA NA NA NA NA NA ...\n"
     ]
    }
   ],
   "source": [
    "m = matrix(nrow = 5, ncol = 3)\n",
    "\n",
    "m\n",
    "\n",
    "str(m)"
   ]
  },
  {
   "cell_type": "markdown",
   "metadata": {},
   "source": [
    "Bộ phận data tiếp nhận dữ liệu, bạn có thể hình dung một matrix 8x2 là hộp nước đá có 16 ngăn, chia thành 8 hàng và 2 cột còn data là một khối chất lỏng, sẽ được rót vào từng ngăn. Tùy chỉnh byrow cho phép định hướng, vì ta có thể rót dữ liệu theo hàng (byrow = T), hay theo cột (byrow = F):\n",
    "\n",
    "<img src=\"matrix_icecube_tray.png\">\n",
    "\n",
    "Trong thí dụ sau đây, 1 vector 16 phần tử sẽ được rót vào matrix 8x2 theo hàng, rồi theo cột:"
   ]
  },
  {
   "cell_type": "code",
   "execution_count": 21,
   "metadata": {},
   "outputs": [
    {
     "data": {
      "text/html": [
       "<table>\n",
       "<tbody>\n",
       "\t<tr><td> 1</td><td> 2</td></tr>\n",
       "\t<tr><td> 3</td><td> 4</td></tr>\n",
       "\t<tr><td> 5</td><td> 6</td></tr>\n",
       "\t<tr><td> 7</td><td> 8</td></tr>\n",
       "\t<tr><td> 9</td><td>10</td></tr>\n",
       "\t<tr><td>11</td><td>12</td></tr>\n",
       "\t<tr><td>13</td><td>14</td></tr>\n",
       "\t<tr><td>15</td><td>16</td></tr>\n",
       "</tbody>\n",
       "</table>\n"
      ],
      "text/latex": [
       "\\begin{tabular}{ll}\n",
       "\t  1 &  2\\\\\n",
       "\t  3 &  4\\\\\n",
       "\t  5 &  6\\\\\n",
       "\t  7 &  8\\\\\n",
       "\t  9 & 10\\\\\n",
       "\t 11 & 12\\\\\n",
       "\t 13 & 14\\\\\n",
       "\t 15 & 16\\\\\n",
       "\\end{tabular}\n"
      ],
      "text/markdown": [
       "\n",
       "|  1 |  2 |\n",
       "|  3 |  4 |\n",
       "|  5 |  6 |\n",
       "|  7 |  8 |\n",
       "|  9 | 10 |\n",
       "| 11 | 12 |\n",
       "| 13 | 14 |\n",
       "| 15 | 16 |\n",
       "\n"
      ],
      "text/plain": [
       "     [,1] [,2]\n",
       "[1,]  1    2  \n",
       "[2,]  3    4  \n",
       "[3,]  5    6  \n",
       "[4,]  7    8  \n",
       "[5,]  9   10  \n",
       "[6,] 11   12  \n",
       "[7,] 13   14  \n",
       "[8,] 15   16  "
      ]
     },
     "metadata": {},
     "output_type": "display_data"
    }
   ],
   "source": [
    "box8x2 <- matrix(c(1:16), nrow = 8, ncol = 2, byrow = T)\n",
    "\n",
    "box8x2"
   ]
  },
  {
   "cell_type": "code",
   "execution_count": 23,
   "metadata": {},
   "outputs": [
    {
     "data": {
      "text/html": [
       "<table>\n",
       "<tbody>\n",
       "\t<tr><td>1 </td><td> 9</td></tr>\n",
       "\t<tr><td>2 </td><td>10</td></tr>\n",
       "\t<tr><td>3 </td><td>11</td></tr>\n",
       "\t<tr><td>4 </td><td>12</td></tr>\n",
       "\t<tr><td>5 </td><td>13</td></tr>\n",
       "\t<tr><td>6 </td><td>14</td></tr>\n",
       "\t<tr><td>7 </td><td>15</td></tr>\n",
       "\t<tr><td>8 </td><td>16</td></tr>\n",
       "</tbody>\n",
       "</table>\n"
      ],
      "text/latex": [
       "\\begin{tabular}{ll}\n",
       "\t 1  &  9\\\\\n",
       "\t 2  & 10\\\\\n",
       "\t 3  & 11\\\\\n",
       "\t 4  & 12\\\\\n",
       "\t 5  & 13\\\\\n",
       "\t 6  & 14\\\\\n",
       "\t 7  & 15\\\\\n",
       "\t 8  & 16\\\\\n",
       "\\end{tabular}\n"
      ],
      "text/markdown": [
       "\n",
       "| 1  |  9 |\n",
       "| 2  | 10 |\n",
       "| 3  | 11 |\n",
       "| 4  | 12 |\n",
       "| 5  | 13 |\n",
       "| 6  | 14 |\n",
       "| 7  | 15 |\n",
       "| 8  | 16 |\n",
       "\n"
      ],
      "text/plain": [
       "     [,1] [,2]\n",
       "[1,] 1     9  \n",
       "[2,] 2    10  \n",
       "[3,] 3    11  \n",
       "[4,] 4    12  \n",
       "[5,] 5    13  \n",
       "[6,] 6    14  \n",
       "[7,] 7    15  \n",
       "[8,] 8    16  "
      ]
     },
     "metadata": {},
     "output_type": "display_data"
    }
   ],
   "source": [
    "box8x2 <- matrix(c(1:16), nrow = 8, ncol = 2, byrow = F)\n",
    "\n",
    "box8x2"
   ]
  },
  {
   "cell_type": "markdown",
   "metadata": {},
   "source": [
    "Qua thí dụ trên, bạn đã hiểu được sự quan trọng của định hướng sắp xếp dữ liệu bằng tùy chỉnh byrow. "
   ]
  },
  {
   "cell_type": "markdown",
   "metadata": {},
   "source": [
    "Matrix còn có thể được tạo ra bằng cách ghép nối giữa nhiều hàng (hàm rbind) và nhiều cột (hàm cbind):"
   ]
  },
  {
   "cell_type": "code",
   "execution_count": 227,
   "metadata": {},
   "outputs": [
    {
     "data": {
      "text/html": [
       "<table>\n",
       "<tbody>\n",
       "\t<tr><th scope=row>x1</th><td>-0.38022652</td><td> 0.9189966 </td><td>-0.5753470 </td><td> 0.6079643 </td><td>-1.6178827 </td></tr>\n",
       "\t<tr><th scope=row>x2</th><td>-0.05556197</td><td> 0.5194072 </td><td> 0.3011534 </td><td> 0.1056762 </td><td>-0.6407060 </td></tr>\n",
       "\t<tr><th scope=row>x3</th><td>-0.84970435</td><td>-1.0241288 </td><td> 0.1176466 </td><td>-0.9474746 </td><td>-0.4905574 </td></tr>\n",
       "</tbody>\n",
       "</table>\n"
      ],
      "text/latex": [
       "\\begin{tabular}{r|lllll}\n",
       "\tx1 & -0.38022652 &  0.9189966  & -0.5753470  &  0.6079643  & -1.6178827 \\\\\n",
       "\tx2 & -0.05556197 &  0.5194072  &  0.3011534  &  0.1056762  & -0.6407060 \\\\\n",
       "\tx3 & -0.84970435 & -1.0241288  &  0.1176466  & -0.9474746  & -0.4905574 \\\\\n",
       "\\end{tabular}\n"
      ],
      "text/markdown": [
       "\n",
       "| x1 | -0.38022652 |  0.9189966  | -0.5753470  |  0.6079643  | -1.6178827  |\n",
       "| x2 | -0.05556197 |  0.5194072  |  0.3011534  |  0.1056762  | -0.6407060  |\n",
       "| x3 | -0.84970435 | -1.0241288  |  0.1176466  | -0.9474746  | -0.4905574  |\n",
       "\n"
      ],
      "text/plain": [
       "   [,1]        [,2]       [,3]       [,4]       [,5]      \n",
       "x1 -0.38022652  0.9189966 -0.5753470  0.6079643 -1.6178827\n",
       "x2 -0.05556197  0.5194072  0.3011534  0.1056762 -0.6407060\n",
       "x3 -0.84970435 -1.0241288  0.1176466 -0.9474746 -0.4905574"
      ]
     },
     "metadata": {},
     "output_type": "display_data"
    },
    {
     "data": {
      "text/html": [
       "TRUE"
      ],
      "text/latex": [
       "TRUE"
      ],
      "text/markdown": [
       "TRUE"
      ],
      "text/plain": [
       "[1] TRUE"
      ]
     },
     "metadata": {},
     "output_type": "display_data"
    }
   ],
   "source": [
    "x1 = rnorm(5)\n",
    "x2 = rnorm(5)\n",
    "x3 = rnorm(5)\n",
    "\n",
    "m = rbind(x1,x2,x3)\n",
    "\n",
    "m\n",
    "\n",
    "is.matrix(m)"
   ]
  },
  {
   "cell_type": "code",
   "execution_count": 228,
   "metadata": {},
   "outputs": [
    {
     "data": {
      "text/html": [
       "<table>\n",
       "<thead><tr><th scope=col>x1</th><th scope=col>x2</th><th scope=col>x3</th></tr></thead>\n",
       "<tbody>\n",
       "\t<tr><td>-0.3802265 </td><td>-0.05556197</td><td>-0.8497043 </td></tr>\n",
       "\t<tr><td> 0.9189966 </td><td> 0.51940720</td><td>-1.0241288 </td></tr>\n",
       "\t<tr><td>-0.5753470 </td><td> 0.30115336</td><td> 0.1176466 </td></tr>\n",
       "\t<tr><td> 0.6079643 </td><td> 0.10567619</td><td>-0.9474746 </td></tr>\n",
       "\t<tr><td>-1.6178827 </td><td>-0.64070601</td><td>-0.4905574 </td></tr>\n",
       "</tbody>\n",
       "</table>\n"
      ],
      "text/latex": [
       "\\begin{tabular}{lll}\n",
       " x1 & x2 & x3\\\\\n",
       "\\hline\n",
       "\t -0.3802265  & -0.05556197 & -0.8497043 \\\\\n",
       "\t  0.9189966  &  0.51940720 & -1.0241288 \\\\\n",
       "\t -0.5753470  &  0.30115336 &  0.1176466 \\\\\n",
       "\t  0.6079643  &  0.10567619 & -0.9474746 \\\\\n",
       "\t -1.6178827  & -0.64070601 & -0.4905574 \\\\\n",
       "\\end{tabular}\n"
      ],
      "text/markdown": [
       "\n",
       "| x1 | x2 | x3 |\n",
       "|---|---|---|\n",
       "| -0.3802265  | -0.05556197 | -0.8497043  |\n",
       "|  0.9189966  |  0.51940720 | -1.0241288  |\n",
       "| -0.5753470  |  0.30115336 |  0.1176466  |\n",
       "|  0.6079643  |  0.10567619 | -0.9474746  |\n",
       "| -1.6178827  | -0.64070601 | -0.4905574  |\n",
       "\n"
      ],
      "text/plain": [
       "     x1         x2          x3        \n",
       "[1,] -0.3802265 -0.05556197 -0.8497043\n",
       "[2,]  0.9189966  0.51940720 -1.0241288\n",
       "[3,] -0.5753470  0.30115336  0.1176466\n",
       "[4,]  0.6079643  0.10567619 -0.9474746\n",
       "[5,] -1.6178827 -0.64070601 -0.4905574"
      ]
     },
     "metadata": {},
     "output_type": "display_data"
    },
    {
     "data": {
      "text/html": [
       "TRUE"
      ],
      "text/latex": [
       "TRUE"
      ],
      "text/markdown": [
       "TRUE"
      ],
      "text/plain": [
       "[1] TRUE"
      ]
     },
     "metadata": {},
     "output_type": "display_data"
    }
   ],
   "source": [
    "m = cbind(x1,x2,x3)\n",
    "\n",
    "m\n",
    "\n",
    "is.matrix(m)"
   ]
  },
  {
   "cell_type": "markdown",
   "metadata": {},
   "source": [
    "Đặc điểm của hàm cbind và rbind, đó là kết quả ghép nối dựa trên vector có kích thước dài nhất, phần dữ liệu của các vector ngắn hơn sẽ được lặp lại theo chu kì để lấp đầy khoảng trống, nói chung nên cẩn thận khi ghép nối từ các vector có độ dài khác nhau"
   ]
  },
  {
   "cell_type": "code",
   "execution_count": 233,
   "metadata": {},
   "outputs": [
    {
     "name": "stderr",
     "output_type": "stream",
     "text": [
      "Warning message in rbind(x1, x2, x3):\n",
      "\"number of columns of result is not a multiple of vector length (arg 1)\""
     ]
    },
    {
     "data": {
      "text/html": [
       "<table>\n",
       "<tbody>\n",
       "\t<tr><th scope=row>x1</th><td>1 </td><td>2 </td><td>3 </td><td>4 </td><td>5 </td><td>6 </td><td>1 </td><td>2 </td><td>3 </td><td> 4</td></tr>\n",
       "\t<tr><th scope=row>x2</th><td>1 </td><td>2 </td><td>3 </td><td>4 </td><td>1 </td><td>2 </td><td>3 </td><td>4 </td><td>1 </td><td> 2</td></tr>\n",
       "\t<tr><th scope=row>x3</th><td>1 </td><td>2 </td><td>3 </td><td>4 </td><td>5 </td><td>6 </td><td>7 </td><td>8 </td><td>9 </td><td>10</td></tr>\n",
       "</tbody>\n",
       "</table>\n"
      ],
      "text/latex": [
       "\\begin{tabular}{r|llllllllll}\n",
       "\tx1 & 1  & 2  & 3  & 4  & 5  & 6  & 1  & 2  & 3  &  4\\\\\n",
       "\tx2 & 1  & 2  & 3  & 4  & 1  & 2  & 3  & 4  & 1  &  2\\\\\n",
       "\tx3 & 1  & 2  & 3  & 4  & 5  & 6  & 7  & 8  & 9  & 10\\\\\n",
       "\\end{tabular}\n"
      ],
      "text/markdown": [
       "\n",
       "| x1 | 1  | 2  | 3  | 4  | 5  | 6  | 1  | 2  | 3  |  4 |\n",
       "| x2 | 1  | 2  | 3  | 4  | 1  | 2  | 3  | 4  | 1  |  2 |\n",
       "| x3 | 1  | 2  | 3  | 4  | 5  | 6  | 7  | 8  | 9  | 10 |\n",
       "\n"
      ],
      "text/plain": [
       "   [,1] [,2] [,3] [,4] [,5] [,6] [,7] [,8] [,9] [,10]\n",
       "x1 1    2    3    4    5    6    1    2    3     4   \n",
       "x2 1    2    3    4    1    2    3    4    1     2   \n",
       "x3 1    2    3    4    5    6    7    8    9    10   "
      ]
     },
     "metadata": {},
     "output_type": "display_data"
    }
   ],
   "source": [
    "x1 = c(1:6)\n",
    "x2 = c(1:4)\n",
    "x3 = c(1:10)\n",
    "\n",
    "m = rbind(x1,x2,x3)\n",
    "\n",
    "m"
   ]
  },
  {
   "cell_type": "code",
   "execution_count": 234,
   "metadata": {},
   "outputs": [
    {
     "name": "stderr",
     "output_type": "stream",
     "text": [
      "Warning message in cbind(x1, x2, x3):\n",
      "\"number of rows of result is not a multiple of vector length (arg 1)\""
     ]
    },
    {
     "data": {
      "text/html": [
       "<table>\n",
       "<thead><tr><th scope=col>x1</th><th scope=col>x2</th><th scope=col>x3</th></tr></thead>\n",
       "<tbody>\n",
       "\t<tr><td>1 </td><td>1 </td><td> 1</td></tr>\n",
       "\t<tr><td>2 </td><td>2 </td><td> 2</td></tr>\n",
       "\t<tr><td>3 </td><td>3 </td><td> 3</td></tr>\n",
       "\t<tr><td>4 </td><td>4 </td><td> 4</td></tr>\n",
       "\t<tr><td>5 </td><td>1 </td><td> 5</td></tr>\n",
       "\t<tr><td>6 </td><td>2 </td><td> 6</td></tr>\n",
       "\t<tr><td>1 </td><td>3 </td><td> 7</td></tr>\n",
       "\t<tr><td>2 </td><td>4 </td><td> 8</td></tr>\n",
       "\t<tr><td>3 </td><td>1 </td><td> 9</td></tr>\n",
       "\t<tr><td>4 </td><td>2 </td><td>10</td></tr>\n",
       "</tbody>\n",
       "</table>\n"
      ],
      "text/latex": [
       "\\begin{tabular}{lll}\n",
       " x1 & x2 & x3\\\\\n",
       "\\hline\n",
       "\t 1  & 1  &  1\\\\\n",
       "\t 2  & 2  &  2\\\\\n",
       "\t 3  & 3  &  3\\\\\n",
       "\t 4  & 4  &  4\\\\\n",
       "\t 5  & 1  &  5\\\\\n",
       "\t 6  & 2  &  6\\\\\n",
       "\t 1  & 3  &  7\\\\\n",
       "\t 2  & 4  &  8\\\\\n",
       "\t 3  & 1  &  9\\\\\n",
       "\t 4  & 2  & 10\\\\\n",
       "\\end{tabular}\n"
      ],
      "text/markdown": [
       "\n",
       "| x1 | x2 | x3 |\n",
       "|---|---|---|\n",
       "| 1  | 1  |  1 |\n",
       "| 2  | 2  |  2 |\n",
       "| 3  | 3  |  3 |\n",
       "| 4  | 4  |  4 |\n",
       "| 5  | 1  |  5 |\n",
       "| 6  | 2  |  6 |\n",
       "| 1  | 3  |  7 |\n",
       "| 2  | 4  |  8 |\n",
       "| 3  | 1  |  9 |\n",
       "| 4  | 2  | 10 |\n",
       "\n"
      ],
      "text/plain": [
       "      x1 x2 x3\n",
       " [1,] 1  1   1\n",
       " [2,] 2  2   2\n",
       " [3,] 3  3   3\n",
       " [4,] 4  4   4\n",
       " [5,] 5  1   5\n",
       " [6,] 6  2   6\n",
       " [7,] 1  3   7\n",
       " [8,] 2  4   8\n",
       " [9,] 3  1   9\n",
       "[10,] 4  2  10"
      ]
     },
     "metadata": {},
     "output_type": "display_data"
    }
   ],
   "source": [
    "x1 = c(1:6)\n",
    "x2 = c(1:4)\n",
    "x3 = c(1:10)\n",
    "\n",
    "m = cbind(x1,x2,x3)\n",
    "\n",
    "m"
   ]
  },
  {
   "cell_type": "markdown",
   "metadata": {},
   "source": [
    "## Khảo sát thuộc tính của matrix"
   ]
  },
  {
   "cell_type": "markdown",
   "metadata": {},
   "source": [
    "Hàng và cột là 2 chiều trong matrix, ta có thể khảo sát kích thước của matrix qua số hàng (r), số cột (c) và số phần tử n = r * c\n",
    "\n",
    "Trong thí dụ sau, ta tái cấu trúc một vector 12 phần tử vào 2 matrices 4x3 và 6x2"
   ]
  },
  {
   "cell_type": "code",
   "execution_count": 61,
   "metadata": {},
   "outputs": [
    {
     "data": {
      "text/html": [
       "<ol class=list-inline>\n",
       "\t<li>1</li>\n",
       "\t<li>2</li>\n",
       "\t<li>3</li>\n",
       "\t<li>4</li>\n",
       "\t<li>5</li>\n",
       "\t<li>6</li>\n",
       "\t<li>7</li>\n",
       "\t<li>8</li>\n",
       "\t<li>9</li>\n",
       "\t<li>10</li>\n",
       "\t<li>11</li>\n",
       "\t<li>12</li>\n",
       "</ol>\n"
      ],
      "text/latex": [
       "\\begin{enumerate*}\n",
       "\\item 1\n",
       "\\item 2\n",
       "\\item 3\n",
       "\\item 4\n",
       "\\item 5\n",
       "\\item 6\n",
       "\\item 7\n",
       "\\item 8\n",
       "\\item 9\n",
       "\\item 10\n",
       "\\item 11\n",
       "\\item 12\n",
       "\\end{enumerate*}\n"
      ],
      "text/markdown": [
       "1. 1\n",
       "2. 2\n",
       "3. 3\n",
       "4. 4\n",
       "5. 5\n",
       "6. 6\n",
       "7. 7\n",
       "8. 8\n",
       "9. 9\n",
       "10. 10\n",
       "11. 11\n",
       "12. 12\n",
       "\n",
       "\n"
      ],
      "text/plain": [
       " [1]  1  2  3  4  5  6  7  8  9 10 11 12"
      ]
     },
     "metadata": {},
     "output_type": "display_data"
    },
    {
     "data": {
      "text/html": [
       "<table>\n",
       "<tbody>\n",
       "\t<tr><td>1 </td><td>5 </td><td> 9</td></tr>\n",
       "\t<tr><td>2 </td><td>6 </td><td>10</td></tr>\n",
       "\t<tr><td>3 </td><td>7 </td><td>11</td></tr>\n",
       "\t<tr><td>4 </td><td>8 </td><td>12</td></tr>\n",
       "</tbody>\n",
       "</table>\n"
      ],
      "text/latex": [
       "\\begin{tabular}{lll}\n",
       "\t 1  & 5  &  9\\\\\n",
       "\t 2  & 6  & 10\\\\\n",
       "\t 3  & 7  & 11\\\\\n",
       "\t 4  & 8  & 12\\\\\n",
       "\\end{tabular}\n"
      ],
      "text/markdown": [
       "\n",
       "| 1  | 5  |  9 |\n",
       "| 2  | 6  | 10 |\n",
       "| 3  | 7  | 11 |\n",
       "| 4  | 8  | 12 |\n",
       "\n"
      ],
      "text/plain": [
       "     [,1] [,2] [,3]\n",
       "[1,] 1    5     9  \n",
       "[2,] 2    6    10  \n",
       "[3,] 3    7    11  \n",
       "[4,] 4    8    12  "
      ]
     },
     "metadata": {},
     "output_type": "display_data"
    },
    {
     "data": {
      "text/html": [
       "<table>\n",
       "<tbody>\n",
       "\t<tr><td>1 </td><td> 7</td></tr>\n",
       "\t<tr><td>2 </td><td> 8</td></tr>\n",
       "\t<tr><td>3 </td><td> 9</td></tr>\n",
       "\t<tr><td>4 </td><td>10</td></tr>\n",
       "\t<tr><td>5 </td><td>11</td></tr>\n",
       "\t<tr><td>6 </td><td>12</td></tr>\n",
       "</tbody>\n",
       "</table>\n"
      ],
      "text/latex": [
       "\\begin{tabular}{ll}\n",
       "\t 1  &  7\\\\\n",
       "\t 2  &  8\\\\\n",
       "\t 3  &  9\\\\\n",
       "\t 4  & 10\\\\\n",
       "\t 5  & 11\\\\\n",
       "\t 6  & 12\\\\\n",
       "\\end{tabular}\n"
      ],
      "text/markdown": [
       "\n",
       "| 1  |  7 |\n",
       "| 2  |  8 |\n",
       "| 3  |  9 |\n",
       "| 4  | 10 |\n",
       "| 5  | 11 |\n",
       "| 6  | 12 |\n",
       "\n"
      ],
      "text/plain": [
       "     [,1] [,2]\n",
       "[1,] 1     7  \n",
       "[2,] 2     8  \n",
       "[3,] 3     9  \n",
       "[4,] 4    10  \n",
       "[5,] 5    11  \n",
       "[6,] 6    12  "
      ]
     },
     "metadata": {},
     "output_type": "display_data"
    }
   ],
   "source": [
    "v <- c(1:12)\n",
    "\n",
    "v\n",
    "\n",
    "m4x3 <- matrix(data = v, nrow = 4, ncol = 3)\n",
    "\n",
    "m4x3\n",
    "\n",
    "m6x2 <- matrix(data = v, nrow = 6, ncol = 2)\n",
    "\n",
    "m6x2"
   ]
  },
  {
   "cell_type": "markdown",
   "metadata": {},
   "source": [
    "Hàm nrow, ncol cho biết số hàng và số cột:"
   ]
  },
  {
   "cell_type": "code",
   "execution_count": 62,
   "metadata": {},
   "outputs": [
    {
     "data": {
      "text/html": [
       "4"
      ],
      "text/latex": [
       "4"
      ],
      "text/markdown": [
       "4"
      ],
      "text/plain": [
       "[1] 4"
      ]
     },
     "metadata": {},
     "output_type": "display_data"
    }
   ],
   "source": [
    "nrow(m4x3)"
   ]
  },
  {
   "cell_type": "code",
   "execution_count": 63,
   "metadata": {},
   "outputs": [
    {
     "data": {
      "text/html": [
       "3"
      ],
      "text/latex": [
       "3"
      ],
      "text/markdown": [
       "3"
      ],
      "text/plain": [
       "[1] 3"
      ]
     },
     "metadata": {},
     "output_type": "display_data"
    }
   ],
   "source": [
    "ncol(m4x3)"
   ]
  },
  {
   "cell_type": "markdown",
   "metadata": {},
   "source": [
    "Hàm length cho biết kích thước (số phần tử):"
   ]
  },
  {
   "cell_type": "code",
   "execution_count": 77,
   "metadata": {},
   "outputs": [
    {
     "data": {
      "text/html": [
       "12"
      ],
      "text/latex": [
       "12"
      ],
      "text/markdown": [
       "12"
      ],
      "text/plain": [
       "[1] 12"
      ]
     },
     "metadata": {},
     "output_type": "display_data"
    }
   ],
   "source": [
    "length(m4x3)"
   ]
  },
  {
   "cell_type": "markdown",
   "metadata": {},
   "source": [
    "Hàm attributes mô tả kích thước của hàng và cột:"
   ]
  },
  {
   "cell_type": "code",
   "execution_count": 180,
   "metadata": {},
   "outputs": [
    {
     "data": {
      "text/html": [
       "<strong>$dim</strong> = <ol class=list-inline>\n",
       "\t<li>4</li>\n",
       "\t<li>3</li>\n",
       "</ol>\n"
      ],
      "text/latex": [
       "\\textbf{\\$dim} = \\begin{enumerate*}\n",
       "\\item 4\n",
       "\\item 3\n",
       "\\end{enumerate*}\n"
      ],
      "text/markdown": [
       "**$dim** = 1. 4\n",
       "2. 3\n",
       "\n",
       "\n"
      ],
      "text/plain": [
       "$dim\n",
       "[1] 4 3\n"
      ]
     },
     "metadata": {},
     "output_type": "display_data"
    }
   ],
   "source": [
    "attributes(m4x3)"
   ]
  },
  {
   "cell_type": "markdown",
   "metadata": {},
   "source": [
    "Hàm dim xuất ra kích thước của matrix (kết quả là 1 vector)"
   ]
  },
  {
   "cell_type": "code",
   "execution_count": 69,
   "metadata": {},
   "outputs": [
    {
     "data": {
      "text/html": [
       "<ol class=list-inline>\n",
       "\t<li>4</li>\n",
       "\t<li>3</li>\n",
       "</ol>\n"
      ],
      "text/latex": [
       "\\begin{enumerate*}\n",
       "\\item 4\n",
       "\\item 3\n",
       "\\end{enumerate*}\n"
      ],
      "text/markdown": [
       "1. 4\n",
       "2. 3\n",
       "\n",
       "\n"
      ],
      "text/plain": [
       "[1] 4 3"
      ]
     },
     "metadata": {},
     "output_type": "display_data"
    },
    {
     "data": {
      "text/html": [
       "TRUE"
      ],
      "text/latex": [
       "TRUE"
      ],
      "text/markdown": [
       "TRUE"
      ],
      "text/plain": [
       "[1] TRUE"
      ]
     },
     "metadata": {},
     "output_type": "display_data"
    }
   ],
   "source": [
    "dim(m4x3)\n",
    "\n",
    "is.vector(dim(m4x3))"
   ]
  },
  {
   "cell_type": "markdown",
   "metadata": {},
   "source": [
    "Như vấy nếu muốn xuất và sử dụng số hàng của matrix, ta có 2 cách: dùng dim(matrix)[1] hoặc nrow(matrix)"
   ]
  },
  {
   "cell_type": "code",
   "execution_count": 75,
   "metadata": {},
   "outputs": [
    {
     "data": {
      "text/html": [
       "TRUE"
      ],
      "text/latex": [
       "TRUE"
      ],
      "text/markdown": [
       "TRUE"
      ],
      "text/plain": [
       "[1] TRUE"
      ]
     },
     "metadata": {},
     "output_type": "display_data"
    }
   ],
   "source": [
    "dim(m4x3)[1] == nrow(m4x3)"
   ]
  },
  {
   "cell_type": "markdown",
   "metadata": {},
   "source": [
    "Tương tự, ta xuất số cột của matrix bằng 2 cách: dùng dim(matrix)[2] hoặc ncol(matrix)"
   ]
  },
  {
   "cell_type": "code",
   "execution_count": 76,
   "metadata": {},
   "outputs": [
    {
     "data": {
      "text/html": [
       "TRUE"
      ],
      "text/latex": [
       "TRUE"
      ],
      "text/markdown": [
       "TRUE"
      ],
      "text/plain": [
       "[1] TRUE"
      ]
     },
     "metadata": {},
     "output_type": "display_data"
    }
   ],
   "source": [
    "dim(m4x3)[2] == ncol(m4x3)"
   ]
  },
  {
   "cell_type": "markdown",
   "metadata": {},
   "source": [
    "Một công dụng khác của hàm dim(matrix) đó là thay đổi cấu trúc của matrix (tương tự method reshape trong numpy), thí dụ từ data 16 phần tử, có thể tạo ra nhiều cấu trúc matrix (r x c) khác nhau, và có thể hoán chuyển miễn là r x c = 16, thí dụ: 8x2, 2x8, 16x1, 1x16"
   ]
  },
  {
   "cell_type": "code",
   "execution_count": 80,
   "metadata": {},
   "outputs": [
    {
     "data": {
      "text/html": [
       "<table>\n",
       "<tbody>\n",
       "\t<tr><td>1 </td><td>5 </td><td> 9</td><td>13</td></tr>\n",
       "\t<tr><td>2 </td><td>6 </td><td>10</td><td>14</td></tr>\n",
       "\t<tr><td>3 </td><td>7 </td><td>11</td><td>15</td></tr>\n",
       "\t<tr><td>4 </td><td>8 </td><td>12</td><td>16</td></tr>\n",
       "</tbody>\n",
       "</table>\n"
      ],
      "text/latex": [
       "\\begin{tabular}{llll}\n",
       "\t 1  & 5  &  9 & 13\\\\\n",
       "\t 2  & 6  & 10 & 14\\\\\n",
       "\t 3  & 7  & 11 & 15\\\\\n",
       "\t 4  & 8  & 12 & 16\\\\\n",
       "\\end{tabular}\n"
      ],
      "text/markdown": [
       "\n",
       "| 1  | 5  |  9 | 13 |\n",
       "| 2  | 6  | 10 | 14 |\n",
       "| 3  | 7  | 11 | 15 |\n",
       "| 4  | 8  | 12 | 16 |\n",
       "\n"
      ],
      "text/plain": [
       "     [,1] [,2] [,3] [,4]\n",
       "[1,] 1    5     9   13  \n",
       "[2,] 2    6    10   14  \n",
       "[3,] 3    7    11   15  \n",
       "[4,] 4    8    12   16  "
      ]
     },
     "metadata": {},
     "output_type": "display_data"
    },
    {
     "data": {
      "text/html": [
       "<table>\n",
       "<tbody>\n",
       "\t<tr><td>1 </td><td>3 </td><td>5 </td><td>7 </td><td> 9</td><td>11</td><td>13</td><td>15</td></tr>\n",
       "\t<tr><td>2 </td><td>4 </td><td>6 </td><td>8 </td><td>10</td><td>12</td><td>14</td><td>16</td></tr>\n",
       "</tbody>\n",
       "</table>\n"
      ],
      "text/latex": [
       "\\begin{tabular}{llllllll}\n",
       "\t 1  & 3  & 5  & 7  &  9 & 11 & 13 & 15\\\\\n",
       "\t 2  & 4  & 6  & 8  & 10 & 12 & 14 & 16\\\\\n",
       "\\end{tabular}\n"
      ],
      "text/markdown": [
       "\n",
       "| 1  | 3  | 5  | 7  |  9 | 11 | 13 | 15 |\n",
       "| 2  | 4  | 6  | 8  | 10 | 12 | 14 | 16 |\n",
       "\n"
      ],
      "text/plain": [
       "     [,1] [,2] [,3] [,4] [,5] [,6] [,7] [,8]\n",
       "[1,] 1    3    5    7     9   11   13   15  \n",
       "[2,] 2    4    6    8    10   12   14   16  "
      ]
     },
     "metadata": {},
     "output_type": "display_data"
    },
    {
     "data": {
      "text/html": [
       "<table>\n",
       "<tbody>\n",
       "\t<tr><td>1 </td><td> 9</td></tr>\n",
       "\t<tr><td>2 </td><td>10</td></tr>\n",
       "\t<tr><td>3 </td><td>11</td></tr>\n",
       "\t<tr><td>4 </td><td>12</td></tr>\n",
       "\t<tr><td>5 </td><td>13</td></tr>\n",
       "\t<tr><td>6 </td><td>14</td></tr>\n",
       "\t<tr><td>7 </td><td>15</td></tr>\n",
       "\t<tr><td>8 </td><td>16</td></tr>\n",
       "</tbody>\n",
       "</table>\n"
      ],
      "text/latex": [
       "\\begin{tabular}{ll}\n",
       "\t 1  &  9\\\\\n",
       "\t 2  & 10\\\\\n",
       "\t 3  & 11\\\\\n",
       "\t 4  & 12\\\\\n",
       "\t 5  & 13\\\\\n",
       "\t 6  & 14\\\\\n",
       "\t 7  & 15\\\\\n",
       "\t 8  & 16\\\\\n",
       "\\end{tabular}\n"
      ],
      "text/markdown": [
       "\n",
       "| 1  |  9 |\n",
       "| 2  | 10 |\n",
       "| 3  | 11 |\n",
       "| 4  | 12 |\n",
       "| 5  | 13 |\n",
       "| 6  | 14 |\n",
       "| 7  | 15 |\n",
       "| 8  | 16 |\n",
       "\n"
      ],
      "text/plain": [
       "     [,1] [,2]\n",
       "[1,] 1     9  \n",
       "[2,] 2    10  \n",
       "[3,] 3    11  \n",
       "[4,] 4    12  \n",
       "[5,] 5    13  \n",
       "[6,] 6    14  \n",
       "[7,] 7    15  \n",
       "[8,] 8    16  "
      ]
     },
     "metadata": {},
     "output_type": "display_data"
    },
    {
     "data": {
      "text/html": [
       "<table>\n",
       "<tbody>\n",
       "\t<tr><td> 1</td></tr>\n",
       "\t<tr><td> 2</td></tr>\n",
       "\t<tr><td> 3</td></tr>\n",
       "\t<tr><td> 4</td></tr>\n",
       "\t<tr><td> 5</td></tr>\n",
       "\t<tr><td> 6</td></tr>\n",
       "\t<tr><td> 7</td></tr>\n",
       "\t<tr><td> 8</td></tr>\n",
       "\t<tr><td> 9</td></tr>\n",
       "\t<tr><td>10</td></tr>\n",
       "\t<tr><td>11</td></tr>\n",
       "\t<tr><td>12</td></tr>\n",
       "\t<tr><td>13</td></tr>\n",
       "\t<tr><td>14</td></tr>\n",
       "\t<tr><td>15</td></tr>\n",
       "\t<tr><td>16</td></tr>\n",
       "</tbody>\n",
       "</table>\n"
      ],
      "text/latex": [
       "\\begin{tabular}{l}\n",
       "\t  1\\\\\n",
       "\t  2\\\\\n",
       "\t  3\\\\\n",
       "\t  4\\\\\n",
       "\t  5\\\\\n",
       "\t  6\\\\\n",
       "\t  7\\\\\n",
       "\t  8\\\\\n",
       "\t  9\\\\\n",
       "\t 10\\\\\n",
       "\t 11\\\\\n",
       "\t 12\\\\\n",
       "\t 13\\\\\n",
       "\t 14\\\\\n",
       "\t 15\\\\\n",
       "\t 16\\\\\n",
       "\\end{tabular}\n"
      ],
      "text/markdown": [
       "\n",
       "|  1 |\n",
       "|  2 |\n",
       "|  3 |\n",
       "|  4 |\n",
       "|  5 |\n",
       "|  6 |\n",
       "|  7 |\n",
       "|  8 |\n",
       "|  9 |\n",
       "| 10 |\n",
       "| 11 |\n",
       "| 12 |\n",
       "| 13 |\n",
       "| 14 |\n",
       "| 15 |\n",
       "| 16 |\n",
       "\n"
      ],
      "text/plain": [
       "      [,1]\n",
       " [1,]  1  \n",
       " [2,]  2  \n",
       " [3,]  3  \n",
       " [4,]  4  \n",
       " [5,]  5  \n",
       " [6,]  6  \n",
       " [7,]  7  \n",
       " [8,]  8  \n",
       " [9,]  9  \n",
       "[10,] 10  \n",
       "[11,] 11  \n",
       "[12,] 12  \n",
       "[13,] 13  \n",
       "[14,] 14  \n",
       "[15,] 15  \n",
       "[16,] 16  "
      ]
     },
     "metadata": {},
     "output_type": "display_data"
    },
    {
     "data": {
      "text/html": [
       "<table>\n",
       "<tbody>\n",
       "\t<tr><td>1 </td><td>2 </td><td>3 </td><td>4 </td><td>5 </td><td>6 </td><td>7 </td><td>8 </td><td>9 </td><td>10</td><td>11</td><td>12</td><td>13</td><td>14</td><td>15</td><td>16</td></tr>\n",
       "</tbody>\n",
       "</table>\n"
      ],
      "text/latex": [
       "\\begin{tabular}{llllllllllllllll}\n",
       "\t 1  & 2  & 3  & 4  & 5  & 6  & 7  & 8  & 9  & 10 & 11 & 12 & 13 & 14 & 15 & 16\\\\\n",
       "\\end{tabular}\n"
      ],
      "text/markdown": [
       "\n",
       "| 1  | 2  | 3  | 4  | 5  | 6  | 7  | 8  | 9  | 10 | 11 | 12 | 13 | 14 | 15 | 16 |\n",
       "\n"
      ],
      "text/plain": [
       "     [,1] [,2] [,3] [,4] [,5] [,6] [,7] [,8] [,9] [,10] [,11] [,12] [,13] [,14]\n",
       "[1,] 1    2    3    4    5    6    7    8    9    10    11    12    13    14   \n",
       "     [,15] [,16]\n",
       "[1,] 15    16   "
      ]
     },
     "metadata": {},
     "output_type": "display_data"
    }
   ],
   "source": [
    "m = matrix(seq(16),4,4)\n",
    "\n",
    "m\n",
    "\n",
    "dim(m) <- c(2,8)\n",
    "\n",
    "m\n",
    "\n",
    "dim(m) <- c(8,2)\n",
    "\n",
    "m\n",
    "\n",
    "dim(m) <- c(16,1)\n",
    "\n",
    "m\n",
    "\n",
    "dim(m) <- c(1,16)\n",
    "\n",
    "m"
   ]
  },
  {
   "cell_type": "markdown",
   "metadata": {},
   "source": [
    "Lưu ý: ngay cả khi matrix chỉ có 1 hàng, hay 1 cột, hay thậm chí 1 phần tử, đó vẫn là matrix chứ không phải là vector:"
   ]
  },
  {
   "cell_type": "code",
   "execution_count": 84,
   "metadata": {},
   "outputs": [
    {
     "data": {
      "text/html": [
       "<table>\n",
       "<tbody>\n",
       "\t<tr><td>3.141593</td></tr>\n",
       "</tbody>\n",
       "</table>\n"
      ],
      "text/latex": [
       "\\begin{tabular}{l}\n",
       "\t 3.141593\\\\\n",
       "\\end{tabular}\n"
      ],
      "text/markdown": [
       "\n",
       "| 3.141593 |\n",
       "\n"
      ],
      "text/plain": [
       "     [,1]    \n",
       "[1,] 3.141593"
      ]
     },
     "metadata": {},
     "output_type": "display_data"
    },
    {
     "data": {
      "text/html": [
       "FALSE"
      ],
      "text/latex": [
       "FALSE"
      ],
      "text/markdown": [
       "FALSE"
      ],
      "text/plain": [
       "[1] FALSE"
      ]
     },
     "metadata": {},
     "output_type": "display_data"
    },
    {
     "data": {
      "text/html": [
       "TRUE"
      ],
      "text/latex": [
       "TRUE"
      ],
      "text/markdown": [
       "TRUE"
      ],
      "text/plain": [
       "[1] TRUE"
      ]
     },
     "metadata": {},
     "output_type": "display_data"
    }
   ],
   "source": [
    "m = matrix(pi, 1,1)\n",
    "\n",
    "m\n",
    "\n",
    "is.vector(m)\n",
    "\n",
    "is.matrix(m)"
   ]
  },
  {
   "cell_type": "code",
   "execution_count": 85,
   "metadata": {},
   "outputs": [
    {
     "data": {
      "text/html": [
       "<table>\n",
       "<tbody>\n",
       "\t<tr><td> 1</td></tr>\n",
       "\t<tr><td> 2</td></tr>\n",
       "\t<tr><td> 3</td></tr>\n",
       "\t<tr><td> 4</td></tr>\n",
       "\t<tr><td> 5</td></tr>\n",
       "\t<tr><td> 6</td></tr>\n",
       "\t<tr><td> 7</td></tr>\n",
       "\t<tr><td> 8</td></tr>\n",
       "\t<tr><td> 9</td></tr>\n",
       "\t<tr><td>10</td></tr>\n",
       "</tbody>\n",
       "</table>\n"
      ],
      "text/latex": [
       "\\begin{tabular}{l}\n",
       "\t  1\\\\\n",
       "\t  2\\\\\n",
       "\t  3\\\\\n",
       "\t  4\\\\\n",
       "\t  5\\\\\n",
       "\t  6\\\\\n",
       "\t  7\\\\\n",
       "\t  8\\\\\n",
       "\t  9\\\\\n",
       "\t 10\\\\\n",
       "\\end{tabular}\n"
      ],
      "text/markdown": [
       "\n",
       "|  1 |\n",
       "|  2 |\n",
       "|  3 |\n",
       "|  4 |\n",
       "|  5 |\n",
       "|  6 |\n",
       "|  7 |\n",
       "|  8 |\n",
       "|  9 |\n",
       "| 10 |\n",
       "\n"
      ],
      "text/plain": [
       "      [,1]\n",
       " [1,]  1  \n",
       " [2,]  2  \n",
       " [3,]  3  \n",
       " [4,]  4  \n",
       " [5,]  5  \n",
       " [6,]  6  \n",
       " [7,]  7  \n",
       " [8,]  8  \n",
       " [9,]  9  \n",
       "[10,] 10  "
      ]
     },
     "metadata": {},
     "output_type": "display_data"
    },
    {
     "data": {
      "text/html": [
       "FALSE"
      ],
      "text/latex": [
       "FALSE"
      ],
      "text/markdown": [
       "FALSE"
      ],
      "text/plain": [
       "[1] FALSE"
      ]
     },
     "metadata": {},
     "output_type": "display_data"
    },
    {
     "data": {
      "text/html": [
       "TRUE"
      ],
      "text/latex": [
       "TRUE"
      ],
      "text/markdown": [
       "TRUE"
      ],
      "text/plain": [
       "[1] TRUE"
      ]
     },
     "metadata": {},
     "output_type": "display_data"
    }
   ],
   "source": [
    "m = matrix(seq(10), 10,1)\n",
    "\n",
    "m\n",
    "\n",
    "is.vector(m)\n",
    "\n",
    "is.matrix(m)"
   ]
  },
  {
   "cell_type": "code",
   "execution_count": 86,
   "metadata": {},
   "outputs": [
    {
     "data": {
      "text/html": [
       "<table>\n",
       "<tbody>\n",
       "\t<tr><td>1 </td><td>2 </td><td>3 </td><td>4 </td><td>5 </td><td>6 </td><td>7 </td><td>8 </td><td>9 </td><td>10</td></tr>\n",
       "</tbody>\n",
       "</table>\n"
      ],
      "text/latex": [
       "\\begin{tabular}{llllllllll}\n",
       "\t 1  & 2  & 3  & 4  & 5  & 6  & 7  & 8  & 9  & 10\\\\\n",
       "\\end{tabular}\n"
      ],
      "text/markdown": [
       "\n",
       "| 1  | 2  | 3  | 4  | 5  | 6  | 7  | 8  | 9  | 10 |\n",
       "\n"
      ],
      "text/plain": [
       "     [,1] [,2] [,3] [,4] [,5] [,6] [,7] [,8] [,9] [,10]\n",
       "[1,] 1    2    3    4    5    6    7    8    9    10   "
      ]
     },
     "metadata": {},
     "output_type": "display_data"
    },
    {
     "data": {
      "text/html": [
       "FALSE"
      ],
      "text/latex": [
       "FALSE"
      ],
      "text/markdown": [
       "FALSE"
      ],
      "text/plain": [
       "[1] FALSE"
      ]
     },
     "metadata": {},
     "output_type": "display_data"
    },
    {
     "data": {
      "text/html": [
       "TRUE"
      ],
      "text/latex": [
       "TRUE"
      ],
      "text/markdown": [
       "TRUE"
      ],
      "text/plain": [
       "[1] TRUE"
      ]
     },
     "metadata": {},
     "output_type": "display_data"
    }
   ],
   "source": [
    "m = matrix(seq(10), 1,10)\n",
    "\n",
    "m\n",
    "\n",
    "is.vector(m)\n",
    "\n",
    "is.matrix(m)"
   ]
  },
  {
   "cell_type": "markdown",
   "metadata": {},
   "source": [
    "Hàm class() áp dụng trên matrix chỉ cho biết obj là một matrix, nhưng không mô tả được loại dữ liệu"
   ]
  },
  {
   "cell_type": "code",
   "execution_count": 87,
   "metadata": {},
   "outputs": [
    {
     "data": {
      "text/html": [
       "<table>\n",
       "<tbody>\n",
       "\t<tr><td>-0.36419559</td><td>-0.05362079</td><td>-0.7761307 </td><td>-0.6900138 </td><td>-0.74503581</td></tr>\n",
       "\t<tr><td> 0.76473718</td><td>-0.87696770</td><td>-2.1822020 </td><td> 0.2441188 </td><td> 0.83838269</td></tr>\n",
       "\t<tr><td>-1.00116954</td><td>-0.27330359</td><td>-2.1799438 </td><td> 1.4071528 </td><td>-1.38727634</td></tr>\n",
       "\t<tr><td>-0.05940292</td><td>-1.20567940</td><td> 1.5507955 </td><td>-0.2913902 </td><td>-0.05234778</td></tr>\n",
       "</tbody>\n",
       "</table>\n"
      ],
      "text/latex": [
       "\\begin{tabular}{lllll}\n",
       "\t -0.36419559 & -0.05362079 & -0.7761307  & -0.6900138  & -0.74503581\\\\\n",
       "\t  0.76473718 & -0.87696770 & -2.1822020  &  0.2441188  &  0.83838269\\\\\n",
       "\t -1.00116954 & -0.27330359 & -2.1799438  &  1.4071528  & -1.38727634\\\\\n",
       "\t -0.05940292 & -1.20567940 &  1.5507955  & -0.2913902  & -0.05234778\\\\\n",
       "\\end{tabular}\n"
      ],
      "text/markdown": [
       "\n",
       "| -0.36419559 | -0.05362079 | -0.7761307  | -0.6900138  | -0.74503581 |\n",
       "|  0.76473718 | -0.87696770 | -2.1822020  |  0.2441188  |  0.83838269 |\n",
       "| -1.00116954 | -0.27330359 | -2.1799438  |  1.4071528  | -1.38727634 |\n",
       "| -0.05940292 | -1.20567940 |  1.5507955  | -0.2913902  | -0.05234778 |\n",
       "\n"
      ],
      "text/plain": [
       "     [,1]        [,2]        [,3]       [,4]       [,5]       \n",
       "[1,] -0.36419559 -0.05362079 -0.7761307 -0.6900138 -0.74503581\n",
       "[2,]  0.76473718 -0.87696770 -2.1822020  0.2441188  0.83838269\n",
       "[3,] -1.00116954 -0.27330359 -2.1799438  1.4071528 -1.38727634\n",
       "[4,] -0.05940292 -1.20567940  1.5507955 -0.2913902 -0.05234778"
      ]
     },
     "metadata": {},
     "output_type": "display_data"
    },
    {
     "data": {
      "text/html": [
       "'matrix'"
      ],
      "text/latex": [
       "'matrix'"
      ],
      "text/markdown": [
       "'matrix'"
      ],
      "text/plain": [
       "[1] \"matrix\""
      ]
     },
     "metadata": {},
     "output_type": "display_data"
    }
   ],
   "source": [
    "m = matrix(rnorm(20),4,5)\n",
    "\n",
    "m\n",
    "\n",
    "class(m)"
   ]
  },
  {
   "cell_type": "markdown",
   "metadata": {},
   "source": [
    "Như ta biết, vector chỉ cho phép chứa cùng một định dạng dữ liệu, matrix cũng có đặc tính này. Trong bài trước, ta cũng biết về những định dạng dữ liệu chính như integer, numeric (double), character và factor trong R. "
   ]
  },
  {
   "cell_type": "markdown",
   "metadata": {},
   "source": [
    "Định dạng dữ liệu được mô tả bằng hàm mode(matrix), typeof(matrix) hoặc hàm str(matrix)"
   ]
  },
  {
   "cell_type": "code",
   "execution_count": 172,
   "metadata": {},
   "outputs": [
    {
     "data": {
      "text/html": [
       "<table>\n",
       "<tbody>\n",
       "\t<tr><td> 1.24467685</td><td>-0.51706332</td><td> 0.9881047 </td><td> 1.24467685</td><td>-0.51706332</td></tr>\n",
       "\t<tr><td>-1.86017170</td><td>-0.03662975</td><td> 1.7215888 </td><td>-1.86017170</td><td>-0.03662975</td></tr>\n",
       "\t<tr><td>-0.32555232</td><td> 0.79064154</td><td>-0.4303412 </td><td>-0.32555232</td><td> 0.79064154</td></tr>\n",
       "\t<tr><td> 0.04182119</td><td> 0.92166207</td><td> 0.7506879 </td><td> 0.04182119</td><td> 0.92166207</td></tr>\n",
       "\t<tr><td> 1.00339675</td><td> 1.10462561</td><td> 0.8999915 </td><td> 1.00339675</td><td> 1.10462561</td></tr>\n",
       "</tbody>\n",
       "</table>\n"
      ],
      "text/latex": [
       "\\begin{tabular}{lllll}\n",
       "\t  1.24467685 & -0.51706332 &  0.9881047  &  1.24467685 & -0.51706332\\\\\n",
       "\t -1.86017170 & -0.03662975 &  1.7215888  & -1.86017170 & -0.03662975\\\\\n",
       "\t -0.32555232 &  0.79064154 & -0.4303412  & -0.32555232 &  0.79064154\\\\\n",
       "\t  0.04182119 &  0.92166207 &  0.7506879  &  0.04182119 &  0.92166207\\\\\n",
       "\t  1.00339675 &  1.10462561 &  0.8999915  &  1.00339675 &  1.10462561\\\\\n",
       "\\end{tabular}\n"
      ],
      "text/markdown": [
       "\n",
       "|  1.24467685 | -0.51706332 |  0.9881047  |  1.24467685 | -0.51706332 |\n",
       "| -1.86017170 | -0.03662975 |  1.7215888  | -1.86017170 | -0.03662975 |\n",
       "| -0.32555232 |  0.79064154 | -0.4303412  | -0.32555232 |  0.79064154 |\n",
       "|  0.04182119 |  0.92166207 |  0.7506879  |  0.04182119 |  0.92166207 |\n",
       "|  1.00339675 |  1.10462561 |  0.8999915  |  1.00339675 |  1.10462561 |\n",
       "\n"
      ],
      "text/plain": [
       "     [,1]        [,2]        [,3]       [,4]        [,5]       \n",
       "[1,]  1.24467685 -0.51706332  0.9881047  1.24467685 -0.51706332\n",
       "[2,] -1.86017170 -0.03662975  1.7215888 -1.86017170 -0.03662975\n",
       "[3,] -0.32555232  0.79064154 -0.4303412 -0.32555232  0.79064154\n",
       "[4,]  0.04182119  0.92166207  0.7506879  0.04182119  0.92166207\n",
       "[5,]  1.00339675  1.10462561  0.8999915  1.00339675  1.10462561"
      ]
     },
     "metadata": {},
     "output_type": "display_data"
    },
    {
     "data": {
      "text/html": [
       "'numeric'"
      ],
      "text/latex": [
       "'numeric'"
      ],
      "text/markdown": [
       "'numeric'"
      ],
      "text/plain": [
       "[1] \"numeric\""
      ]
     },
     "metadata": {},
     "output_type": "display_data"
    }
   ],
   "source": [
    "m = matrix(rnorm(15),5,5)\n",
    "\n",
    "m\n",
    "\n",
    "mode(m)"
   ]
  },
  {
   "cell_type": "code",
   "execution_count": 173,
   "metadata": {},
   "outputs": [
    {
     "name": "stdout",
     "output_type": "stream",
     "text": [
      " num [1:5, 1:5] 1.2447 -1.8602 -0.3256 0.0418 1.0034 ...\n"
     ]
    }
   ],
   "source": [
    "str(m)"
   ]
  },
  {
   "cell_type": "code",
   "execution_count": 174,
   "metadata": {},
   "outputs": [
    {
     "data": {
      "text/html": [
       "'double'"
      ],
      "text/latex": [
       "'double'"
      ],
      "text/markdown": [
       "'double'"
      ],
      "text/plain": [
       "[1] \"double\""
      ]
     },
     "metadata": {},
     "output_type": "display_data"
    }
   ],
   "source": [
    "typeof(m)"
   ]
  },
  {
   "cell_type": "markdown",
   "metadata": {},
   "source": [
    "Hàm mode() và str() cho ra kết quả như nhau với định dạng numeric và character"
   ]
  },
  {
   "cell_type": "code",
   "execution_count": 175,
   "metadata": {},
   "outputs": [
    {
     "data": {
      "text/html": [
       "<ol class=list-inline>\n",
       "\t<li>'A'</li>\n",
       "\t<li>'D'</li>\n",
       "\t<li>'C'</li>\n",
       "\t<li>'C'</li>\n",
       "\t<li>'D'</li>\n",
       "\t<li>'D'</li>\n",
       "\t<li>'C'</li>\n",
       "\t<li>'E'</li>\n",
       "\t<li>'E'</li>\n",
       "\t<li>'D'</li>\n",
       "\t<li>'D'</li>\n",
       "\t<li>'D'</li>\n",
       "\t<li>'A'</li>\n",
       "\t<li>'D'</li>\n",
       "\t<li>'A'</li>\n",
       "\t<li>'D'</li>\n",
       "\t<li>'C'</li>\n",
       "\t<li>'D'</li>\n",
       "\t<li>'C'</li>\n",
       "\t<li>'D'</li>\n",
       "</ol>\n"
      ],
      "text/latex": [
       "\\begin{enumerate*}\n",
       "\\item 'A'\n",
       "\\item 'D'\n",
       "\\item 'C'\n",
       "\\item 'C'\n",
       "\\item 'D'\n",
       "\\item 'D'\n",
       "\\item 'C'\n",
       "\\item 'E'\n",
       "\\item 'E'\n",
       "\\item 'D'\n",
       "\\item 'D'\n",
       "\\item 'D'\n",
       "\\item 'A'\n",
       "\\item 'D'\n",
       "\\item 'A'\n",
       "\\item 'D'\n",
       "\\item 'C'\n",
       "\\item 'D'\n",
       "\\item 'C'\n",
       "\\item 'D'\n",
       "\\end{enumerate*}\n"
      ],
      "text/markdown": [
       "1. 'A'\n",
       "2. 'D'\n",
       "3. 'C'\n",
       "4. 'C'\n",
       "5. 'D'\n",
       "6. 'D'\n",
       "7. 'C'\n",
       "8. 'E'\n",
       "9. 'E'\n",
       "10. 'D'\n",
       "11. 'D'\n",
       "12. 'D'\n",
       "13. 'A'\n",
       "14. 'D'\n",
       "15. 'A'\n",
       "16. 'D'\n",
       "17. 'C'\n",
       "18. 'D'\n",
       "19. 'C'\n",
       "20. 'D'\n",
       "\n",
       "\n"
      ],
      "text/plain": [
       " [1] \"A\" \"D\" \"C\" \"C\" \"D\" \"D\" \"C\" \"E\" \"E\" \"D\" \"D\" \"D\" \"A\" \"D\" \"A\" \"D\" \"C\" \"D\" \"C\"\n",
       "[20] \"D\""
      ]
     },
     "metadata": {},
     "output_type": "display_data"
    },
    {
     "data": {
      "text/html": [
       "<table>\n",
       "<tbody>\n",
       "\t<tr><td>A</td><td>D</td><td>E</td><td>A</td><td>C</td></tr>\n",
       "\t<tr><td>D</td><td>D</td><td>D</td><td>D</td><td>D</td></tr>\n",
       "\t<tr><td>C</td><td>C</td><td>D</td><td>A</td><td>C</td></tr>\n",
       "\t<tr><td>C</td><td>E</td><td>D</td><td>D</td><td>D</td></tr>\n",
       "</tbody>\n",
       "</table>\n"
      ],
      "text/latex": [
       "\\begin{tabular}{lllll}\n",
       "\t A & D & E & A & C\\\\\n",
       "\t D & D & D & D & D\\\\\n",
       "\t C & C & D & A & C\\\\\n",
       "\t C & E & D & D & D\\\\\n",
       "\\end{tabular}\n"
      ],
      "text/markdown": [
       "\n",
       "| A | D | E | A | C |\n",
       "| D | D | D | D | D |\n",
       "| C | C | D | A | C |\n",
       "| C | E | D | D | D |\n",
       "\n"
      ],
      "text/plain": [
       "     [,1] [,2] [,3] [,4] [,5]\n",
       "[1,] A    D    E    A    C   \n",
       "[2,] D    D    D    D    D   \n",
       "[3,] C    C    D    A    C   \n",
       "[4,] C    E    D    D    D   "
      ]
     },
     "metadata": {},
     "output_type": "display_data"
    },
    {
     "data": {
      "text/html": [
       "'character'"
      ],
      "text/latex": [
       "'character'"
      ],
      "text/markdown": [
       "'character'"
      ],
      "text/plain": [
       "[1] \"character\""
      ]
     },
     "metadata": {},
     "output_type": "display_data"
    },
    {
     "name": "stdout",
     "output_type": "stream",
     "text": [
      " chr [1:4, 1:5] \"A\" \"D\" \"C\" \"C\" \"D\" \"D\" \"C\" \"E\" \"E\" \"D\" \"D\" \"D\" \"A\" \"D\" \"A\" ...\n"
     ]
    },
    {
     "data": {
      "text/html": [
       "'character'"
      ],
      "text/latex": [
       "'character'"
      ],
      "text/markdown": [
       "'character'"
      ],
      "text/plain": [
       "[1] \"character\""
      ]
     },
     "metadata": {},
     "output_type": "display_data"
    }
   ],
   "source": [
    "c = sample(LETTERS[1:5], 20, replace=TRUE)\n",
    "\n",
    "c\n",
    "\n",
    "m = matrix(c,4,5)\n",
    "\n",
    "m\n",
    "\n",
    "mode(m)\n",
    "\n",
    "str(m)\n",
    "\n",
    "typeof(m)"
   ]
  },
  {
   "cell_type": "markdown",
   "metadata": {},
   "source": [
    "Tuy nhiên, với integer matrix thì khác: kết quả hàm mode() là numeric, nhưng hàm str() và typeof() cho biết cụ thể matrix là loại integer:"
   ]
  },
  {
   "cell_type": "code",
   "execution_count": 176,
   "metadata": {},
   "outputs": [
    {
     "data": {
      "text/html": [
       "<table>\n",
       "<tbody>\n",
       "\t<tr><td>1 </td><td>3 </td><td>5 </td><td>7 </td><td> 9</td></tr>\n",
       "\t<tr><td>2 </td><td>4 </td><td>6 </td><td>8 </td><td>10</td></tr>\n",
       "</tbody>\n",
       "</table>\n"
      ],
      "text/latex": [
       "\\begin{tabular}{lllll}\n",
       "\t 1  & 3  & 5  & 7  &  9\\\\\n",
       "\t 2  & 4  & 6  & 8  & 10\\\\\n",
       "\\end{tabular}\n"
      ],
      "text/markdown": [
       "\n",
       "| 1  | 3  | 5  | 7  |  9 |\n",
       "| 2  | 4  | 6  | 8  | 10 |\n",
       "\n"
      ],
      "text/plain": [
       "     [,1] [,2] [,3] [,4] [,5]\n",
       "[1,] 1    3    5    7     9  \n",
       "[2,] 2    4    6    8    10  "
      ]
     },
     "metadata": {},
     "output_type": "display_data"
    },
    {
     "data": {
      "text/html": [
       "'numeric'"
      ],
      "text/latex": [
       "'numeric'"
      ],
      "text/markdown": [
       "'numeric'"
      ],
      "text/plain": [
       "[1] \"numeric\""
      ]
     },
     "metadata": {},
     "output_type": "display_data"
    },
    {
     "name": "stdout",
     "output_type": "stream",
     "text": [
      " int [1:2, 1:5] 1 2 3 4 5 6 7 8 9 10\n"
     ]
    },
    {
     "data": {
      "text/html": [
       "'integer'"
      ],
      "text/latex": [
       "'integer'"
      ],
      "text/markdown": [
       "'integer'"
      ],
      "text/plain": [
       "[1] \"integer\""
      ]
     },
     "metadata": {},
     "output_type": "display_data"
    }
   ],
   "source": [
    "m = matrix(seq_along(1:10),2,5)\n",
    "\n",
    "m\n",
    "\n",
    "mode(m)\n",
    "\n",
    "str(m)\n",
    "\n",
    "typeof(m)"
   ]
  },
  {
   "cell_type": "markdown",
   "metadata": {},
   "source": [
    "Không có matrix factor, vector định dạng factor khi chuyển thành matrix sẽ có định dạng character"
   ]
  },
  {
   "cell_type": "code",
   "execution_count": 177,
   "metadata": {},
   "outputs": [
    {
     "data": {
      "text/html": [
       "<ol class=list-inline>\n",
       "\t<li>C</li>\n",
       "\t<li>E</li>\n",
       "\t<li>A</li>\n",
       "\t<li>E</li>\n",
       "\t<li>D</li>\n",
       "\t<li>B</li>\n",
       "\t<li>D</li>\n",
       "\t<li>C</li>\n",
       "\t<li>B</li>\n",
       "\t<li>D</li>\n",
       "\t<li>B</li>\n",
       "\t<li>C</li>\n",
       "\t<li>A</li>\n",
       "\t<li>C</li>\n",
       "\t<li>E</li>\n",
       "\t<li>E</li>\n",
       "\t<li>A</li>\n",
       "\t<li>A</li>\n",
       "\t<li>A</li>\n",
       "\t<li>D</li>\n",
       "</ol>\n",
       "\n",
       "<details>\n",
       "\t<summary style=display:list-item;cursor:pointer>\n",
       "\t\t<strong>Levels</strong>:\n",
       "\t</summary>\n",
       "\t<ol class=list-inline>\n",
       "\t\t<li>'A'</li>\n",
       "\t\t<li>'B'</li>\n",
       "\t\t<li>'C'</li>\n",
       "\t\t<li>'D'</li>\n",
       "\t\t<li>'E'</li>\n",
       "\t</ol>\n",
       "</details>"
      ],
      "text/latex": [
       "\\begin{enumerate*}\n",
       "\\item C\n",
       "\\item E\n",
       "\\item A\n",
       "\\item E\n",
       "\\item D\n",
       "\\item B\n",
       "\\item D\n",
       "\\item C\n",
       "\\item B\n",
       "\\item D\n",
       "\\item B\n",
       "\\item C\n",
       "\\item A\n",
       "\\item C\n",
       "\\item E\n",
       "\\item E\n",
       "\\item A\n",
       "\\item A\n",
       "\\item A\n",
       "\\item D\n",
       "\\end{enumerate*}\n",
       "\n",
       "\\emph{Levels}: \\begin{enumerate*}\n",
       "\\item 'A'\n",
       "\\item 'B'\n",
       "\\item 'C'\n",
       "\\item 'D'\n",
       "\\item 'E'\n",
       "\\end{enumerate*}\n"
      ],
      "text/markdown": [
       "1. C\n",
       "2. E\n",
       "3. A\n",
       "4. E\n",
       "5. D\n",
       "6. B\n",
       "7. D\n",
       "8. C\n",
       "9. B\n",
       "10. D\n",
       "11. B\n",
       "12. C\n",
       "13. A\n",
       "14. C\n",
       "15. E\n",
       "16. E\n",
       "17. A\n",
       "18. A\n",
       "19. A\n",
       "20. D\n",
       "\n",
       "\n",
       "\n",
       "**Levels**: 1. 'A'\n",
       "2. 'B'\n",
       "3. 'C'\n",
       "4. 'D'\n",
       "5. 'E'\n",
       "\n",
       "\n"
      ],
      "text/plain": [
       " [1] C E A E D B D C B D B C A C E E A A A D\n",
       "Levels: A B C D E"
      ]
     },
     "metadata": {},
     "output_type": "display_data"
    },
    {
     "data": {
      "text/html": [
       "<table>\n",
       "<tbody>\n",
       "\t<tr><td>C</td><td>D</td><td>B</td><td>A</td><td>A</td></tr>\n",
       "\t<tr><td>E</td><td>B</td><td>D</td><td>C</td><td>A</td></tr>\n",
       "\t<tr><td>A</td><td>D</td><td>B</td><td>E</td><td>A</td></tr>\n",
       "\t<tr><td>E</td><td>C</td><td>C</td><td>E</td><td>D</td></tr>\n",
       "</tbody>\n",
       "</table>\n"
      ],
      "text/latex": [
       "\\begin{tabular}{lllll}\n",
       "\t C & D & B & A & A\\\\\n",
       "\t E & B & D & C & A\\\\\n",
       "\t A & D & B & E & A\\\\\n",
       "\t E & C & C & E & D\\\\\n",
       "\\end{tabular}\n"
      ],
      "text/markdown": [
       "\n",
       "| C | D | B | A | A |\n",
       "| E | B | D | C | A |\n",
       "| A | D | B | E | A |\n",
       "| E | C | C | E | D |\n",
       "\n"
      ],
      "text/plain": [
       "     [,1] [,2] [,3] [,4] [,5]\n",
       "[1,] C    D    B    A    A   \n",
       "[2,] E    B    D    C    A   \n",
       "[3,] A    D    B    E    A   \n",
       "[4,] E    C    C    E    D   "
      ]
     },
     "metadata": {},
     "output_type": "display_data"
    },
    {
     "data": {
      "text/html": [
       "'character'"
      ],
      "text/latex": [
       "'character'"
      ],
      "text/markdown": [
       "'character'"
      ],
      "text/plain": [
       "[1] \"character\""
      ]
     },
     "metadata": {},
     "output_type": "display_data"
    },
    {
     "name": "stdout",
     "output_type": "stream",
     "text": [
      " chr [1:4, 1:5] \"C\" \"E\" \"A\" \"E\" \"D\" \"B\" \"D\" \"C\" \"B\" \"D\" \"B\" \"C\" \"A\" \"C\" \"E\" ...\n"
     ]
    },
    {
     "data": {
      "text/html": [
       "'character'"
      ],
      "text/latex": [
       "'character'"
      ],
      "text/markdown": [
       "'character'"
      ],
      "text/plain": [
       "[1] \"character\""
      ]
     },
     "metadata": {},
     "output_type": "display_data"
    }
   ],
   "source": [
    "c = as.factor(sample(LETTERS[1:5], 20, replace=TRUE))\n",
    "\n",
    "c \n",
    "\n",
    "m = matrix(c,4,5)\n",
    "\n",
    "m\n",
    "\n",
    "mode(m)\n",
    "\n",
    "str(m)\n",
    "\n",
    "typeof(m)"
   ]
  },
  {
   "cell_type": "markdown",
   "metadata": {},
   "source": [
    "Tương tự, nếu bạn đưa dữ liệu pha trộn cả kí tự và số vào matrix, chúng sẽ bị xem là characters:"
   ]
  },
  {
   "cell_type": "code",
   "execution_count": 178,
   "metadata": {},
   "outputs": [
    {
     "data": {
      "text/html": [
       "<table>\n",
       "<tbody>\n",
       "\t<tr><td>a    </td><td>TRUE </td></tr>\n",
       "\t<tr><td>1    </td><td>FALSE</td></tr>\n",
       "\t<tr><td>1.5  </td><td>NA   </td></tr>\n",
       "</tbody>\n",
       "</table>\n"
      ],
      "text/latex": [
       "\\begin{tabular}{ll}\n",
       "\t a     & TRUE \\\\\n",
       "\t 1     & FALSE\\\\\n",
       "\t 1.5   & NA   \\\\\n",
       "\\end{tabular}\n"
      ],
      "text/markdown": [
       "\n",
       "| a     | TRUE  |\n",
       "| 1     | FALSE |\n",
       "| 1.5   | NA    |\n",
       "\n"
      ],
      "text/plain": [
       "     [,1] [,2] \n",
       "[1,] a    TRUE \n",
       "[2,] 1    FALSE\n",
       "[3,] 1.5  NA   "
      ]
     },
     "metadata": {},
     "output_type": "display_data"
    },
    {
     "name": "stdout",
     "output_type": "stream",
     "text": [
      " chr [1:3, 1:2] \"a\" \"1\" \"1.5\" \"TRUE\" \"FALSE\" NA\n"
     ]
    },
    {
     "data": {
      "text/html": [
       "'character'"
      ],
      "text/latex": [
       "'character'"
      ],
      "text/markdown": [
       "'character'"
      ],
      "text/plain": [
       "[1] \"character\""
      ]
     },
     "metadata": {},
     "output_type": "display_data"
    }
   ],
   "source": [
    "m = matrix(c('a',1, 1.5, TRUE, FALSE, NA), 3,2)\n",
    "\n",
    "m\n",
    "\n",
    "str(m)\n",
    "\n",
    "typeof(m)"
   ]
  },
  {
   "cell_type": "markdown",
   "metadata": {},
   "source": [
    "Dữ liệu logic (T,F) sẽ tạo ra logical matrix"
   ]
  },
  {
   "cell_type": "code",
   "execution_count": 179,
   "metadata": {},
   "outputs": [
    {
     "data": {
      "text/html": [
       "<table>\n",
       "<tbody>\n",
       "\t<tr><td> TRUE</td><td>FALSE</td></tr>\n",
       "\t<tr><td>FALSE</td><td> TRUE</td></tr>\n",
       "\t<tr><td>FALSE</td><td> TRUE</td></tr>\n",
       "\t<tr><td> TRUE</td><td> TRUE</td></tr>\n",
       "</tbody>\n",
       "</table>\n"
      ],
      "text/latex": [
       "\\begin{tabular}{ll}\n",
       "\t  TRUE & FALSE\\\\\n",
       "\t FALSE &  TRUE\\\\\n",
       "\t FALSE &  TRUE\\\\\n",
       "\t  TRUE &  TRUE\\\\\n",
       "\\end{tabular}\n"
      ],
      "text/markdown": [
       "\n",
       "|  TRUE | FALSE |\n",
       "| FALSE |  TRUE |\n",
       "| FALSE |  TRUE |\n",
       "|  TRUE |  TRUE |\n",
       "\n"
      ],
      "text/plain": [
       "     [,1]  [,2] \n",
       "[1,]  TRUE FALSE\n",
       "[2,] FALSE  TRUE\n",
       "[3,] FALSE  TRUE\n",
       "[4,]  TRUE  TRUE"
      ]
     },
     "metadata": {},
     "output_type": "display_data"
    },
    {
     "data": {
      "text/html": [
       "'logical'"
      ],
      "text/latex": [
       "'logical'"
      ],
      "text/markdown": [
       "'logical'"
      ],
      "text/plain": [
       "[1] \"logical\""
      ]
     },
     "metadata": {},
     "output_type": "display_data"
    },
    {
     "name": "stdout",
     "output_type": "stream",
     "text": [
      " logi [1:4, 1:2] TRUE FALSE FALSE TRUE FALSE TRUE ...\n"
     ]
    },
    {
     "data": {
      "text/html": [
       "'logical'"
      ],
      "text/latex": [
       "'logical'"
      ],
      "text/markdown": [
       "'logical'"
      ],
      "text/plain": [
       "[1] \"logical\""
      ]
     },
     "metadata": {},
     "output_type": "display_data"
    }
   ],
   "source": [
    "m = matrix(c(T,F,FALSE,T,F,TRUE,T,T),4,2)\n",
    "\n",
    "m\n",
    "\n",
    "mode(m)\n",
    "\n",
    "str(m)\n",
    "\n",
    "typeof(m)"
   ]
  },
  {
   "cell_type": "markdown",
   "metadata": {},
   "source": [
    "Lưu ý: những hàm chuyển dạng như as.numeric, as.factor... không thể áp dụng trên matrix, vì chúng sẽ chuyển matrix trở lại thành vector"
   ]
  },
  {
   "cell_type": "code",
   "execution_count": 112,
   "metadata": {},
   "outputs": [
    {
     "data": {
      "text/html": [
       "<table>\n",
       "<tbody>\n",
       "\t<tr><td>1</td><td>4</td></tr>\n",
       "\t<tr><td>2</td><td>5</td></tr>\n",
       "\t<tr><td>3</td><td>6</td></tr>\n",
       "</tbody>\n",
       "</table>\n"
      ],
      "text/latex": [
       "\\begin{tabular}{ll}\n",
       "\t 1 & 4\\\\\n",
       "\t 2 & 5\\\\\n",
       "\t 3 & 6\\\\\n",
       "\\end{tabular}\n"
      ],
      "text/markdown": [
       "\n",
       "| 1 | 4 |\n",
       "| 2 | 5 |\n",
       "| 3 | 6 |\n",
       "\n"
      ],
      "text/plain": [
       "     [,1] [,2]\n",
       "[1,] 1    4   \n",
       "[2,] 2    5   \n",
       "[3,] 3    6   "
      ]
     },
     "metadata": {},
     "output_type": "display_data"
    },
    {
     "name": "stdout",
     "output_type": "stream",
     "text": [
      " int [1:3, 1:2] 1 2 3 4 5 6\n"
     ]
    },
    {
     "data": {
      "text/html": [
       "<ol class=list-inline>\n",
       "\t<li>1</li>\n",
       "\t<li>2</li>\n",
       "\t<li>3</li>\n",
       "\t<li>4</li>\n",
       "\t<li>5</li>\n",
       "\t<li>6</li>\n",
       "</ol>\n"
      ],
      "text/latex": [
       "\\begin{enumerate*}\n",
       "\\item 1\n",
       "\\item 2\n",
       "\\item 3\n",
       "\\item 4\n",
       "\\item 5\n",
       "\\item 6\n",
       "\\end{enumerate*}\n"
      ],
      "text/markdown": [
       "1. 1\n",
       "2. 2\n",
       "3. 3\n",
       "4. 4\n",
       "5. 5\n",
       "6. 6\n",
       "\n",
       "\n"
      ],
      "text/plain": [
       "[1] 1 2 3 4 5 6"
      ]
     },
     "metadata": {},
     "output_type": "display_data"
    }
   ],
   "source": [
    "m = matrix(c(1L:6L),3,2)\n",
    "\n",
    "m\n",
    "\n",
    "str(m)\n",
    "\n",
    "as.numeric(m)"
   ]
  },
  {
   "cell_type": "code",
   "execution_count": 113,
   "metadata": {},
   "outputs": [
    {
     "data": {
      "text/html": [
       "<table>\n",
       "<tbody>\n",
       "\t<tr><td>B</td><td>D</td><td>A</td><td>A</td><td>B</td></tr>\n",
       "\t<tr><td>B</td><td>C</td><td>C</td><td>B</td><td>C</td></tr>\n",
       "\t<tr><td>E</td><td>B</td><td>C</td><td>C</td><td>E</td></tr>\n",
       "\t<tr><td>A</td><td>E</td><td>B</td><td>D</td><td>B</td></tr>\n",
       "</tbody>\n",
       "</table>\n"
      ],
      "text/latex": [
       "\\begin{tabular}{lllll}\n",
       "\t B & D & A & A & B\\\\\n",
       "\t B & C & C & B & C\\\\\n",
       "\t E & B & C & C & E\\\\\n",
       "\t A & E & B & D & B\\\\\n",
       "\\end{tabular}\n"
      ],
      "text/markdown": [
       "\n",
       "| B | D | A | A | B |\n",
       "| B | C | C | B | C |\n",
       "| E | B | C | C | E |\n",
       "| A | E | B | D | B |\n",
       "\n"
      ],
      "text/plain": [
       "     [,1] [,2] [,3] [,4] [,5]\n",
       "[1,] B    D    A    A    B   \n",
       "[2,] B    C    C    B    C   \n",
       "[3,] E    B    C    C    E   \n",
       "[4,] A    E    B    D    B   "
      ]
     },
     "metadata": {},
     "output_type": "display_data"
    },
    {
     "name": "stdout",
     "output_type": "stream",
     "text": [
      " chr [1:4, 1:5] \"B\" \"B\" \"E\" \"A\" \"D\" \"C\" \"B\" \"E\" \"A\" \"C\" \"C\" \"B\" \"A\" \"B\" \"C\" ...\n"
     ]
    },
    {
     "data": {
      "text/html": [
       "<ol class=list-inline>\n",
       "\t<li>B</li>\n",
       "\t<li>B</li>\n",
       "\t<li>E</li>\n",
       "\t<li>A</li>\n",
       "\t<li>D</li>\n",
       "\t<li>C</li>\n",
       "\t<li>B</li>\n",
       "\t<li>E</li>\n",
       "\t<li>A</li>\n",
       "\t<li>C</li>\n",
       "\t<li>C</li>\n",
       "\t<li>B</li>\n",
       "\t<li>A</li>\n",
       "\t<li>B</li>\n",
       "\t<li>C</li>\n",
       "\t<li>D</li>\n",
       "\t<li>B</li>\n",
       "\t<li>C</li>\n",
       "\t<li>E</li>\n",
       "\t<li>B</li>\n",
       "</ol>\n",
       "\n",
       "<details>\n",
       "\t<summary style=display:list-item;cursor:pointer>\n",
       "\t\t<strong>Levels</strong>:\n",
       "\t</summary>\n",
       "\t<ol class=list-inline>\n",
       "\t\t<li>'A'</li>\n",
       "\t\t<li>'B'</li>\n",
       "\t\t<li>'C'</li>\n",
       "\t\t<li>'D'</li>\n",
       "\t\t<li>'E'</li>\n",
       "\t</ol>\n",
       "</details>"
      ],
      "text/latex": [
       "\\begin{enumerate*}\n",
       "\\item B\n",
       "\\item B\n",
       "\\item E\n",
       "\\item A\n",
       "\\item D\n",
       "\\item C\n",
       "\\item B\n",
       "\\item E\n",
       "\\item A\n",
       "\\item C\n",
       "\\item C\n",
       "\\item B\n",
       "\\item A\n",
       "\\item B\n",
       "\\item C\n",
       "\\item D\n",
       "\\item B\n",
       "\\item C\n",
       "\\item E\n",
       "\\item B\n",
       "\\end{enumerate*}\n",
       "\n",
       "\\emph{Levels}: \\begin{enumerate*}\n",
       "\\item 'A'\n",
       "\\item 'B'\n",
       "\\item 'C'\n",
       "\\item 'D'\n",
       "\\item 'E'\n",
       "\\end{enumerate*}\n"
      ],
      "text/markdown": [
       "1. B\n",
       "2. B\n",
       "3. E\n",
       "4. A\n",
       "5. D\n",
       "6. C\n",
       "7. B\n",
       "8. E\n",
       "9. A\n",
       "10. C\n",
       "11. C\n",
       "12. B\n",
       "13. A\n",
       "14. B\n",
       "15. C\n",
       "16. D\n",
       "17. B\n",
       "18. C\n",
       "19. E\n",
       "20. B\n",
       "\n",
       "\n",
       "\n",
       "**Levels**: 1. 'A'\n",
       "2. 'B'\n",
       "3. 'C'\n",
       "4. 'D'\n",
       "5. 'E'\n",
       "\n",
       "\n"
      ],
      "text/plain": [
       " [1] B B E A D C B E A C C B A B C D B C E B\n",
       "Levels: A B C D E"
      ]
     },
     "metadata": {},
     "output_type": "display_data"
    }
   ],
   "source": [
    "c = sample(LETTERS[1:5], 20, replace=TRUE)\n",
    "\n",
    "m = matrix(c,4,5)\n",
    "\n",
    "m\n",
    "\n",
    "str(m)\n",
    "\n",
    "as.factor(m)"
   ]
  },
  {
   "cell_type": "markdown",
   "metadata": {},
   "source": [
    "Matrix có thể chuyển thành vector bằng hàm as.vector()"
   ]
  },
  {
   "cell_type": "code",
   "execution_count": 116,
   "metadata": {},
   "outputs": [
    {
     "data": {
      "text/html": [
       "<table>\n",
       "<tbody>\n",
       "\t<tr><td>-1.7490933089</td><td> 0.8805499   </td><td>-1.4803952   </td><td>-0.5792106   </td></tr>\n",
       "\t<tr><td>-0.9400597575</td><td> 0.8594554   </td><td>-0.8002429   </td><td> 1.0378668   </td></tr>\n",
       "\t<tr><td> 1.2047626664</td><td>-0.8031060   </td><td> 0.4707900   </td><td> 0.6623026   </td></tr>\n",
       "\t<tr><td>-0.0009651807</td><td> 0.3984526   </td><td> 0.6284736   </td><td>-0.2511473   </td></tr>\n",
       "</tbody>\n",
       "</table>\n"
      ],
      "text/latex": [
       "\\begin{tabular}{llll}\n",
       "\t -1.7490933089 &  0.8805499    & -1.4803952    & -0.5792106   \\\\\n",
       "\t -0.9400597575 &  0.8594554    & -0.8002429    &  1.0378668   \\\\\n",
       "\t  1.2047626664 & -0.8031060    &  0.4707900    &  0.6623026   \\\\\n",
       "\t -0.0009651807 &  0.3984526    &  0.6284736    & -0.2511473   \\\\\n",
       "\\end{tabular}\n"
      ],
      "text/markdown": [
       "\n",
       "| -1.7490933089 |  0.8805499    | -1.4803952    | -0.5792106    |\n",
       "| -0.9400597575 |  0.8594554    | -0.8002429    |  1.0378668    |\n",
       "|  1.2047626664 | -0.8031060    |  0.4707900    |  0.6623026    |\n",
       "| -0.0009651807 |  0.3984526    |  0.6284736    | -0.2511473    |\n",
       "\n"
      ],
      "text/plain": [
       "     [,1]          [,2]       [,3]       [,4]      \n",
       "[1,] -1.7490933089  0.8805499 -1.4803952 -0.5792106\n",
       "[2,] -0.9400597575  0.8594554 -0.8002429  1.0378668\n",
       "[3,]  1.2047626664 -0.8031060  0.4707900  0.6623026\n",
       "[4,] -0.0009651807  0.3984526  0.6284736 -0.2511473"
      ]
     },
     "metadata": {},
     "output_type": "display_data"
    },
    {
     "data": {
      "text/html": [
       "<ol class=list-inline>\n",
       "\t<li>-1.74909330888438</li>\n",
       "\t<li>-0.94005975751921</li>\n",
       "\t<li>1.20476266635447</li>\n",
       "\t<li>-0.00096518067490653</li>\n",
       "\t<li>0.880549908031144</li>\n",
       "\t<li>0.859455441545728</li>\n",
       "\t<li>-0.803106033324711</li>\n",
       "\t<li>0.398452577685207</li>\n",
       "\t<li>-1.48039524370239</li>\n",
       "\t<li>-0.800242905902151</li>\n",
       "\t<li>0.470789998611909</li>\n",
       "\t<li>0.628473584122752</li>\n",
       "\t<li>-0.579210557650086</li>\n",
       "\t<li>1.03786680684279</li>\n",
       "\t<li>0.662302628007589</li>\n",
       "\t<li>-0.251147309341118</li>\n",
       "</ol>\n"
      ],
      "text/latex": [
       "\\begin{enumerate*}\n",
       "\\item -1.74909330888438\n",
       "\\item -0.94005975751921\n",
       "\\item 1.20476266635447\n",
       "\\item -0.00096518067490653\n",
       "\\item 0.880549908031144\n",
       "\\item 0.859455441545728\n",
       "\\item -0.803106033324711\n",
       "\\item 0.398452577685207\n",
       "\\item -1.48039524370239\n",
       "\\item -0.800242905902151\n",
       "\\item 0.470789998611909\n",
       "\\item 0.628473584122752\n",
       "\\item -0.579210557650086\n",
       "\\item 1.03786680684279\n",
       "\\item 0.662302628007589\n",
       "\\item -0.251147309341118\n",
       "\\end{enumerate*}\n"
      ],
      "text/markdown": [
       "1. -1.74909330888438\n",
       "2. -0.94005975751921\n",
       "3. 1.20476266635447\n",
       "4. -0.00096518067490653\n",
       "5. 0.880549908031144\n",
       "6. 0.859455441545728\n",
       "7. -0.803106033324711\n",
       "8. 0.398452577685207\n",
       "9. -1.48039524370239\n",
       "10. -0.800242905902151\n",
       "11. 0.470789998611909\n",
       "12. 0.628473584122752\n",
       "13. -0.579210557650086\n",
       "14. 1.03786680684279\n",
       "15. 0.662302628007589\n",
       "16. -0.251147309341118\n",
       "\n",
       "\n"
      ],
      "text/plain": [
       " [1] -1.7490933089 -0.9400597575  1.2047626664 -0.0009651807  0.8805499080\n",
       " [6]  0.8594554415 -0.8031060333  0.3984525777 -1.4803952437 -0.8002429059\n",
       "[11]  0.4707899986  0.6284735841 -0.5792105577  1.0378668068  0.6623026280\n",
       "[16] -0.2511473093"
      ]
     },
     "metadata": {},
     "output_type": "display_data"
    }
   ],
   "source": [
    "m = matrix(rnorm(16),4,4)\n",
    "\n",
    "m\n",
    "\n",
    "as.vector(m)"
   ]
  },
  {
   "cell_type": "markdown",
   "metadata": {},
   "source": [
    "Chú ý là mỗi chiều hàng/cột là phân biệt và có ý nghĩa khác nhau, ngay cả khi matrix có cấu trúc đối xứng (số hàng và cột như nhau) và nội dung đồng nhất, thì hàng và cột vẫn có ý nghĩa khác nhau. \n",
    "\n",
    "Trong thí dụ sau, ta tạo ra một matrix đối xứng 3x3 chứa toàn giá trị = 1"
   ]
  },
  {
   "cell_type": "code",
   "execution_count": 117,
   "metadata": {},
   "outputs": [
    {
     "data": {
      "text/html": [
       "<table>\n",
       "<tbody>\n",
       "\t<tr><td>1</td><td>1</td><td>1</td></tr>\n",
       "\t<tr><td>1</td><td>1</td><td>1</td></tr>\n",
       "\t<tr><td>1</td><td>1</td><td>1</td></tr>\n",
       "</tbody>\n",
       "</table>\n"
      ],
      "text/latex": [
       "\\begin{tabular}{lll}\n",
       "\t 1 & 1 & 1\\\\\n",
       "\t 1 & 1 & 1\\\\\n",
       "\t 1 & 1 & 1\\\\\n",
       "\\end{tabular}\n"
      ],
      "text/markdown": [
       "\n",
       "| 1 | 1 | 1 |\n",
       "| 1 | 1 | 1 |\n",
       "| 1 | 1 | 1 |\n",
       "\n"
      ],
      "text/plain": [
       "     [,1] [,2] [,3]\n",
       "[1,] 1    1    1   \n",
       "[2,] 1    1    1   \n",
       "[3,] 1    1    1   "
      ]
     },
     "metadata": {},
     "output_type": "display_data"
    }
   ],
   "source": [
    "m3x3 <- matrix(rep(1,9), 3,3)\n",
    "\n",
    "m3x3"
   ]
  },
  {
   "cell_type": "markdown",
   "metadata": {},
   "source": [
    "Khi thực hiện phép cộng giữa matrix này và một vector, ta thấy phép cộng được thực hiện theo cột"
   ]
  },
  {
   "cell_type": "code",
   "execution_count": 118,
   "metadata": {},
   "outputs": [
    {
     "data": {
      "text/html": [
       "<table>\n",
       "<tbody>\n",
       "\t<tr><td>2</td><td>2</td><td>2</td></tr>\n",
       "\t<tr><td>3</td><td>3</td><td>3</td></tr>\n",
       "\t<tr><td>4</td><td>4</td><td>4</td></tr>\n",
       "</tbody>\n",
       "</table>\n"
      ],
      "text/latex": [
       "\\begin{tabular}{lll}\n",
       "\t 2 & 2 & 2\\\\\n",
       "\t 3 & 3 & 3\\\\\n",
       "\t 4 & 4 & 4\\\\\n",
       "\\end{tabular}\n"
      ],
      "text/markdown": [
       "\n",
       "| 2 | 2 | 2 |\n",
       "| 3 | 3 | 3 |\n",
       "| 4 | 4 | 4 |\n",
       "\n"
      ],
      "text/plain": [
       "     [,1] [,2] [,3]\n",
       "[1,] 2    2    2   \n",
       "[2,] 3    3    3   \n",
       "[3,] 4    4    4   "
      ]
     },
     "metadata": {},
     "output_type": "display_data"
    }
   ],
   "source": [
    "m3x3 + c(1,2,3)"
   ]
  },
  {
   "cell_type": "markdown",
   "metadata": {},
   "source": [
    "## Trích xuất dữ liệu, lấy mẫu từ matrix"
   ]
  },
  {
   "cell_type": "markdown",
   "metadata": {},
   "source": [
    "Tương tự vector, ta sử dụng method [] để trích xuất dữ liệu từ matrix, vì matrix có 2 chiều dữ liệu nên ta có 2 tham số: hàng và cột trong []: Hệ thống index của R đếm từ 1, thí dụ m[1,1] là góc trên cùng bên trái của một matrix. Ta có thể trích xuất tọa độ của 1 phần tử, nhiều hàng trên một cột, nhiều cột trên 1 hàng, liên tục hay rải rác nhiều tọa độ hay cả 1 vùng trên matrix"
   ]
  },
  {
   "cell_type": "code",
   "execution_count": 122,
   "metadata": {},
   "outputs": [
    {
     "data": {
      "text/html": [
       "<table>\n",
       "<tbody>\n",
       "\t<tr><td>1 </td><td>10</td><td>19</td><td>28</td><td>37</td><td>46</td><td>55</td></tr>\n",
       "\t<tr><td>2 </td><td>11</td><td>20</td><td>29</td><td>38</td><td>47</td><td>56</td></tr>\n",
       "\t<tr><td>3 </td><td>12</td><td>21</td><td>30</td><td>39</td><td>48</td><td>57</td></tr>\n",
       "\t<tr><td>4 </td><td>13</td><td>22</td><td>31</td><td>40</td><td>49</td><td>58</td></tr>\n",
       "\t<tr><td>5 </td><td>14</td><td>23</td><td>32</td><td>41</td><td>50</td><td>59</td></tr>\n",
       "\t<tr><td>6 </td><td>15</td><td>24</td><td>33</td><td>42</td><td>51</td><td>60</td></tr>\n",
       "\t<tr><td>7 </td><td>16</td><td>25</td><td>34</td><td>43</td><td>52</td><td>61</td></tr>\n",
       "\t<tr><td>8 </td><td>17</td><td>26</td><td>35</td><td>44</td><td>53</td><td>62</td></tr>\n",
       "\t<tr><td>9 </td><td>18</td><td>27</td><td>36</td><td>45</td><td>54</td><td>63</td></tr>\n",
       "</tbody>\n",
       "</table>\n"
      ],
      "text/latex": [
       "\\begin{tabular}{lllllll}\n",
       "\t 1  & 10 & 19 & 28 & 37 & 46 & 55\\\\\n",
       "\t 2  & 11 & 20 & 29 & 38 & 47 & 56\\\\\n",
       "\t 3  & 12 & 21 & 30 & 39 & 48 & 57\\\\\n",
       "\t 4  & 13 & 22 & 31 & 40 & 49 & 58\\\\\n",
       "\t 5  & 14 & 23 & 32 & 41 & 50 & 59\\\\\n",
       "\t 6  & 15 & 24 & 33 & 42 & 51 & 60\\\\\n",
       "\t 7  & 16 & 25 & 34 & 43 & 52 & 61\\\\\n",
       "\t 8  & 17 & 26 & 35 & 44 & 53 & 62\\\\\n",
       "\t 9  & 18 & 27 & 36 & 45 & 54 & 63\\\\\n",
       "\\end{tabular}\n"
      ],
      "text/markdown": [
       "\n",
       "| 1  | 10 | 19 | 28 | 37 | 46 | 55 |\n",
       "| 2  | 11 | 20 | 29 | 38 | 47 | 56 |\n",
       "| 3  | 12 | 21 | 30 | 39 | 48 | 57 |\n",
       "| 4  | 13 | 22 | 31 | 40 | 49 | 58 |\n",
       "| 5  | 14 | 23 | 32 | 41 | 50 | 59 |\n",
       "| 6  | 15 | 24 | 33 | 42 | 51 | 60 |\n",
       "| 7  | 16 | 25 | 34 | 43 | 52 | 61 |\n",
       "| 8  | 17 | 26 | 35 | 44 | 53 | 62 |\n",
       "| 9  | 18 | 27 | 36 | 45 | 54 | 63 |\n",
       "\n"
      ],
      "text/plain": [
       "      [,1] [,2] [,3] [,4] [,5] [,6] [,7]\n",
       " [1,] 1    10   19   28   37   46   55  \n",
       " [2,] 2    11   20   29   38   47   56  \n",
       " [3,] 3    12   21   30   39   48   57  \n",
       " [4,] 4    13   22   31   40   49   58  \n",
       " [5,] 5    14   23   32   41   50   59  \n",
       " [6,] 6    15   24   33   42   51   60  \n",
       " [7,] 7    16   25   34   43   52   61  \n",
       " [8,] 8    17   26   35   44   53   62  \n",
       " [9,] 9    18   27   36   45   54   63  "
      ]
     },
     "metadata": {},
     "output_type": "display_data"
    }
   ],
   "source": [
    "m = matrix(c(1:63),9,7)\n",
    "\n",
    "m"
   ]
  },
  {
   "cell_type": "code",
   "execution_count": 123,
   "metadata": {},
   "outputs": [
    {
     "data": {
      "text/html": [
       "<ol class=list-inline>\n",
       "\t<li>1</li>\n",
       "\t<li>10</li>\n",
       "\t<li>19</li>\n",
       "\t<li>28</li>\n",
       "\t<li>37</li>\n",
       "\t<li>46</li>\n",
       "\t<li>55</li>\n",
       "</ol>\n"
      ],
      "text/latex": [
       "\\begin{enumerate*}\n",
       "\\item 1\n",
       "\\item 10\n",
       "\\item 19\n",
       "\\item 28\n",
       "\\item 37\n",
       "\\item 46\n",
       "\\item 55\n",
       "\\end{enumerate*}\n"
      ],
      "text/markdown": [
       "1. 1\n",
       "2. 10\n",
       "3. 19\n",
       "4. 28\n",
       "5. 37\n",
       "6. 46\n",
       "7. 55\n",
       "\n",
       "\n"
      ],
      "text/plain": [
       "[1]  1 10 19 28 37 46 55"
      ]
     },
     "metadata": {},
     "output_type": "display_data"
    }
   ],
   "source": [
    "m[1,]"
   ]
  },
  {
   "cell_type": "code",
   "execution_count": 124,
   "metadata": {},
   "outputs": [
    {
     "data": {
      "text/html": [
       "<ol class=list-inline>\n",
       "\t<li>19</li>\n",
       "\t<li>20</li>\n",
       "\t<li>21</li>\n",
       "\t<li>22</li>\n",
       "\t<li>23</li>\n",
       "\t<li>24</li>\n",
       "\t<li>25</li>\n",
       "\t<li>26</li>\n",
       "\t<li>27</li>\n",
       "</ol>\n"
      ],
      "text/latex": [
       "\\begin{enumerate*}\n",
       "\\item 19\n",
       "\\item 20\n",
       "\\item 21\n",
       "\\item 22\n",
       "\\item 23\n",
       "\\item 24\n",
       "\\item 25\n",
       "\\item 26\n",
       "\\item 27\n",
       "\\end{enumerate*}\n"
      ],
      "text/markdown": [
       "1. 19\n",
       "2. 20\n",
       "3. 21\n",
       "4. 22\n",
       "5. 23\n",
       "6. 24\n",
       "7. 25\n",
       "8. 26\n",
       "9. 27\n",
       "\n",
       "\n"
      ],
      "text/plain": [
       "[1] 19 20 21 22 23 24 25 26 27"
      ]
     },
     "metadata": {},
     "output_type": "display_data"
    }
   ],
   "source": [
    "m[,3]"
   ]
  },
  {
   "cell_type": "code",
   "execution_count": 125,
   "metadata": {},
   "outputs": [
    {
     "data": {
      "text/html": [
       "<ol class=list-inline>\n",
       "\t<li>13</li>\n",
       "\t<li>22</li>\n",
       "\t<li>31</li>\n",
       "\t<li>40</li>\n",
       "\t<li>49</li>\n",
       "</ol>\n"
      ],
      "text/latex": [
       "\\begin{enumerate*}\n",
       "\\item 13\n",
       "\\item 22\n",
       "\\item 31\n",
       "\\item 40\n",
       "\\item 49\n",
       "\\end{enumerate*}\n"
      ],
      "text/markdown": [
       "1. 13\n",
       "2. 22\n",
       "3. 31\n",
       "4. 40\n",
       "5. 49\n",
       "\n",
       "\n"
      ],
      "text/plain": [
       "[1] 13 22 31 40 49"
      ]
     },
     "metadata": {},
     "output_type": "display_data"
    }
   ],
   "source": [
    "m[4,2:6]"
   ]
  },
  {
   "cell_type": "markdown",
   "metadata": {},
   "source": [
    "m[3:5,2]"
   ]
  },
  {
   "cell_type": "code",
   "execution_count": 128,
   "metadata": {},
   "outputs": [
    {
     "data": {
      "text/html": [
       "<ol class=list-inline>\n",
       "\t<li>28</li>\n",
       "\t<li>30</li>\n",
       "\t<li>32</li>\n",
       "\t<li>34</li>\n",
       "\t<li>36</li>\n",
       "</ol>\n"
      ],
      "text/latex": [
       "\\begin{enumerate*}\n",
       "\\item 28\n",
       "\\item 30\n",
       "\\item 32\n",
       "\\item 34\n",
       "\\item 36\n",
       "\\end{enumerate*}\n"
      ],
      "text/markdown": [
       "1. 28\n",
       "2. 30\n",
       "3. 32\n",
       "4. 34\n",
       "5. 36\n",
       "\n",
       "\n"
      ],
      "text/plain": [
       "[1] 28 30 32 34 36"
      ]
     },
     "metadata": {},
     "output_type": "display_data"
    }
   ],
   "source": [
    "m[c(1,3,5,7,9),4]"
   ]
  },
  {
   "cell_type": "code",
   "execution_count": 132,
   "metadata": {},
   "outputs": [
    {
     "data": {
      "text/html": [
       "<table>\n",
       "<tbody>\n",
       "\t<tr><td>38</td><td>47</td><td>56</td></tr>\n",
       "\t<tr><td>39</td><td>48</td><td>57</td></tr>\n",
       "\t<tr><td>40</td><td>49</td><td>58</td></tr>\n",
       "</tbody>\n",
       "</table>\n"
      ],
      "text/latex": [
       "\\begin{tabular}{lll}\n",
       "\t 38 & 47 & 56\\\\\n",
       "\t 39 & 48 & 57\\\\\n",
       "\t 40 & 49 & 58\\\\\n",
       "\\end{tabular}\n"
      ],
      "text/markdown": [
       "\n",
       "| 38 | 47 | 56 |\n",
       "| 39 | 48 | 57 |\n",
       "| 40 | 49 | 58 |\n",
       "\n"
      ],
      "text/plain": [
       "     [,1] [,2] [,3]\n",
       "[1,] 38   47   56  \n",
       "[2,] 39   48   57  \n",
       "[3,] 40   49   58  "
      ]
     },
     "metadata": {},
     "output_type": "display_data"
    }
   ],
   "source": [
    "m[c(2:4),c(5:7)]"
   ]
  },
  {
   "cell_type": "code",
   "execution_count": 130,
   "metadata": {},
   "outputs": [
    {
     "data": {
      "text/html": [
       "<table>\n",
       "<tbody>\n",
       "\t<tr><td>2 </td><td>20</td><td>38</td><td>56</td></tr>\n",
       "\t<tr><td>4 </td><td>22</td><td>40</td><td>58</td></tr>\n",
       "\t<tr><td>6 </td><td>24</td><td>42</td><td>60</td></tr>\n",
       "\t<tr><td>8 </td><td>26</td><td>44</td><td>62</td></tr>\n",
       "</tbody>\n",
       "</table>\n"
      ],
      "text/latex": [
       "\\begin{tabular}{llll}\n",
       "\t 2  & 20 & 38 & 56\\\\\n",
       "\t 4  & 22 & 40 & 58\\\\\n",
       "\t 6  & 24 & 42 & 60\\\\\n",
       "\t 8  & 26 & 44 & 62\\\\\n",
       "\\end{tabular}\n"
      ],
      "text/markdown": [
       "\n",
       "| 2  | 20 | 38 | 56 |\n",
       "| 4  | 22 | 40 | 58 |\n",
       "| 6  | 24 | 42 | 60 |\n",
       "| 8  | 26 | 44 | 62 |\n",
       "\n"
      ],
      "text/plain": [
       "     [,1] [,2] [,3] [,4]\n",
       "[1,] 2    20   38   56  \n",
       "[2,] 4    22   40   58  \n",
       "[3,] 6    24   42   60  \n",
       "[4,] 8    26   44   62  "
      ]
     },
     "metadata": {},
     "output_type": "display_data"
    }
   ],
   "source": [
    "m[c(2,4,6,8),c(1,3,5,7)]"
   ]
  },
  {
   "cell_type": "markdown",
   "metadata": {},
   "source": [
    "Sử dụng dấu trừ để loại trừ các phần tử từ một matrix:"
   ]
  },
  {
   "cell_type": "code",
   "execution_count": 148,
   "metadata": {},
   "outputs": [
    {
     "data": {
      "text/html": [
       "<table>\n",
       "<tbody>\n",
       "\t<tr><td> 1</td><td>11</td><td>21</td><td>31</td><td>41</td></tr>\n",
       "\t<tr><td> 2</td><td>12</td><td>22</td><td>32</td><td>42</td></tr>\n",
       "\t<tr><td> 3</td><td>13</td><td>23</td><td>33</td><td>43</td></tr>\n",
       "\t<tr><td> 4</td><td>14</td><td>24</td><td>34</td><td>44</td></tr>\n",
       "\t<tr><td> 5</td><td>15</td><td>25</td><td>35</td><td>45</td></tr>\n",
       "\t<tr><td> 6</td><td>16</td><td>26</td><td>36</td><td>46</td></tr>\n",
       "\t<tr><td> 7</td><td>17</td><td>27</td><td>37</td><td>47</td></tr>\n",
       "\t<tr><td> 8</td><td>18</td><td>28</td><td>38</td><td>48</td></tr>\n",
       "\t<tr><td> 9</td><td>19</td><td>29</td><td>39</td><td>49</td></tr>\n",
       "\t<tr><td>10</td><td>20</td><td>30</td><td>40</td><td>50</td></tr>\n",
       "</tbody>\n",
       "</table>\n"
      ],
      "text/latex": [
       "\\begin{tabular}{lllll}\n",
       "\t  1 & 11 & 21 & 31 & 41\\\\\n",
       "\t  2 & 12 & 22 & 32 & 42\\\\\n",
       "\t  3 & 13 & 23 & 33 & 43\\\\\n",
       "\t  4 & 14 & 24 & 34 & 44\\\\\n",
       "\t  5 & 15 & 25 & 35 & 45\\\\\n",
       "\t  6 & 16 & 26 & 36 & 46\\\\\n",
       "\t  7 & 17 & 27 & 37 & 47\\\\\n",
       "\t  8 & 18 & 28 & 38 & 48\\\\\n",
       "\t  9 & 19 & 29 & 39 & 49\\\\\n",
       "\t 10 & 20 & 30 & 40 & 50\\\\\n",
       "\\end{tabular}\n"
      ],
      "text/markdown": [
       "\n",
       "|  1 | 11 | 21 | 31 | 41 |\n",
       "|  2 | 12 | 22 | 32 | 42 |\n",
       "|  3 | 13 | 23 | 33 | 43 |\n",
       "|  4 | 14 | 24 | 34 | 44 |\n",
       "|  5 | 15 | 25 | 35 | 45 |\n",
       "|  6 | 16 | 26 | 36 | 46 |\n",
       "|  7 | 17 | 27 | 37 | 47 |\n",
       "|  8 | 18 | 28 | 38 | 48 |\n",
       "|  9 | 19 | 29 | 39 | 49 |\n",
       "| 10 | 20 | 30 | 40 | 50 |\n",
       "\n"
      ],
      "text/plain": [
       "      [,1] [,2] [,3] [,4] [,5]\n",
       " [1,]  1   11   21   31   41  \n",
       " [2,]  2   12   22   32   42  \n",
       " [3,]  3   13   23   33   43  \n",
       " [4,]  4   14   24   34   44  \n",
       " [5,]  5   15   25   35   45  \n",
       " [6,]  6   16   26   36   46  \n",
       " [7,]  7   17   27   37   47  \n",
       " [8,]  8   18   28   38   48  \n",
       " [9,]  9   19   29   39   49  \n",
       "[10,] 10   20   30   40   50  "
      ]
     },
     "metadata": {},
     "output_type": "display_data"
    }
   ],
   "source": [
    "m = matrix(c(1:50),10,5)\n",
    "\n",
    "m"
   ]
  },
  {
   "cell_type": "code",
   "execution_count": 149,
   "metadata": {},
   "outputs": [
    {
     "data": {
      "text/html": [
       "<table>\n",
       "<tbody>\n",
       "\t<tr><td> 1</td><td>11</td><td>21</td><td>31</td><td>41</td></tr>\n",
       "\t<tr><td> 3</td><td>13</td><td>23</td><td>33</td><td>43</td></tr>\n",
       "\t<tr><td> 5</td><td>15</td><td>25</td><td>35</td><td>45</td></tr>\n",
       "\t<tr><td> 7</td><td>17</td><td>27</td><td>37</td><td>47</td></tr>\n",
       "\t<tr><td> 8</td><td>18</td><td>28</td><td>38</td><td>48</td></tr>\n",
       "\t<tr><td> 9</td><td>19</td><td>29</td><td>39</td><td>49</td></tr>\n",
       "\t<tr><td>10</td><td>20</td><td>30</td><td>40</td><td>50</td></tr>\n",
       "</tbody>\n",
       "</table>\n"
      ],
      "text/latex": [
       "\\begin{tabular}{lllll}\n",
       "\t  1 & 11 & 21 & 31 & 41\\\\\n",
       "\t  3 & 13 & 23 & 33 & 43\\\\\n",
       "\t  5 & 15 & 25 & 35 & 45\\\\\n",
       "\t  7 & 17 & 27 & 37 & 47\\\\\n",
       "\t  8 & 18 & 28 & 38 & 48\\\\\n",
       "\t  9 & 19 & 29 & 39 & 49\\\\\n",
       "\t 10 & 20 & 30 & 40 & 50\\\\\n",
       "\\end{tabular}\n"
      ],
      "text/markdown": [
       "\n",
       "|  1 | 11 | 21 | 31 | 41 |\n",
       "|  3 | 13 | 23 | 33 | 43 |\n",
       "|  5 | 15 | 25 | 35 | 45 |\n",
       "|  7 | 17 | 27 | 37 | 47 |\n",
       "|  8 | 18 | 28 | 38 | 48 |\n",
       "|  9 | 19 | 29 | 39 | 49 |\n",
       "| 10 | 20 | 30 | 40 | 50 |\n",
       "\n"
      ],
      "text/plain": [
       "     [,1] [,2] [,3] [,4] [,5]\n",
       "[1,]  1   11   21   31   41  \n",
       "[2,]  3   13   23   33   43  \n",
       "[3,]  5   15   25   35   45  \n",
       "[4,]  7   17   27   37   47  \n",
       "[5,]  8   18   28   38   48  \n",
       "[6,]  9   19   29   39   49  \n",
       "[7,] 10   20   30   40   50  "
      ]
     },
     "metadata": {},
     "output_type": "display_data"
    }
   ],
   "source": [
    "m[-c(2,4,6),]"
   ]
  },
  {
   "cell_type": "code",
   "execution_count": 151,
   "metadata": {},
   "outputs": [
    {
     "data": {
      "text/html": [
       "<table>\n",
       "<tbody>\n",
       "\t<tr><td>11</td><td>21</td><td>41</td></tr>\n",
       "\t<tr><td>12</td><td>22</td><td>42</td></tr>\n",
       "\t<tr><td>13</td><td>23</td><td>43</td></tr>\n",
       "\t<tr><td>14</td><td>24</td><td>44</td></tr>\n",
       "\t<tr><td>15</td><td>25</td><td>45</td></tr>\n",
       "\t<tr><td>16</td><td>26</td><td>46</td></tr>\n",
       "\t<tr><td>17</td><td>27</td><td>47</td></tr>\n",
       "\t<tr><td>18</td><td>28</td><td>48</td></tr>\n",
       "\t<tr><td>19</td><td>29</td><td>49</td></tr>\n",
       "\t<tr><td>20</td><td>30</td><td>50</td></tr>\n",
       "</tbody>\n",
       "</table>\n"
      ],
      "text/latex": [
       "\\begin{tabular}{lll}\n",
       "\t 11 & 21 & 41\\\\\n",
       "\t 12 & 22 & 42\\\\\n",
       "\t 13 & 23 & 43\\\\\n",
       "\t 14 & 24 & 44\\\\\n",
       "\t 15 & 25 & 45\\\\\n",
       "\t 16 & 26 & 46\\\\\n",
       "\t 17 & 27 & 47\\\\\n",
       "\t 18 & 28 & 48\\\\\n",
       "\t 19 & 29 & 49\\\\\n",
       "\t 20 & 30 & 50\\\\\n",
       "\\end{tabular}\n"
      ],
      "text/markdown": [
       "\n",
       "| 11 | 21 | 41 |\n",
       "| 12 | 22 | 42 |\n",
       "| 13 | 23 | 43 |\n",
       "| 14 | 24 | 44 |\n",
       "| 15 | 25 | 45 |\n",
       "| 16 | 26 | 46 |\n",
       "| 17 | 27 | 47 |\n",
       "| 18 | 28 | 48 |\n",
       "| 19 | 29 | 49 |\n",
       "| 20 | 30 | 50 |\n",
       "\n"
      ],
      "text/plain": [
       "      [,1] [,2] [,3]\n",
       " [1,] 11   21   41  \n",
       " [2,] 12   22   42  \n",
       " [3,] 13   23   43  \n",
       " [4,] 14   24   44  \n",
       " [5,] 15   25   45  \n",
       " [6,] 16   26   46  \n",
       " [7,] 17   27   47  \n",
       " [8,] 18   28   48  \n",
       " [9,] 19   29   49  \n",
       "[10,] 20   30   50  "
      ]
     },
     "metadata": {},
     "output_type": "display_data"
    }
   ],
   "source": [
    "m[,-c(1,4)]"
   ]
  },
  {
   "cell_type": "code",
   "execution_count": 152,
   "metadata": {},
   "outputs": [
    {
     "data": {
      "text/html": [
       "<table>\n",
       "<tbody>\n",
       "\t<tr><td>11</td><td>21</td><td>41</td></tr>\n",
       "\t<tr><td>13</td><td>23</td><td>43</td></tr>\n",
       "\t<tr><td>14</td><td>24</td><td>44</td></tr>\n",
       "\t<tr><td>15</td><td>25</td><td>45</td></tr>\n",
       "\t<tr><td>17</td><td>27</td><td>47</td></tr>\n",
       "\t<tr><td>18</td><td>28</td><td>48</td></tr>\n",
       "\t<tr><td>19</td><td>29</td><td>49</td></tr>\n",
       "\t<tr><td>20</td><td>30</td><td>50</td></tr>\n",
       "</tbody>\n",
       "</table>\n"
      ],
      "text/latex": [
       "\\begin{tabular}{lll}\n",
       "\t 11 & 21 & 41\\\\\n",
       "\t 13 & 23 & 43\\\\\n",
       "\t 14 & 24 & 44\\\\\n",
       "\t 15 & 25 & 45\\\\\n",
       "\t 17 & 27 & 47\\\\\n",
       "\t 18 & 28 & 48\\\\\n",
       "\t 19 & 29 & 49\\\\\n",
       "\t 20 & 30 & 50\\\\\n",
       "\\end{tabular}\n"
      ],
      "text/markdown": [
       "\n",
       "| 11 | 21 | 41 |\n",
       "| 13 | 23 | 43 |\n",
       "| 14 | 24 | 44 |\n",
       "| 15 | 25 | 45 |\n",
       "| 17 | 27 | 47 |\n",
       "| 18 | 28 | 48 |\n",
       "| 19 | 29 | 49 |\n",
       "| 20 | 30 | 50 |\n",
       "\n"
      ],
      "text/plain": [
       "     [,1] [,2] [,3]\n",
       "[1,] 11   21   41  \n",
       "[2,] 13   23   43  \n",
       "[3,] 14   24   44  \n",
       "[4,] 15   25   45  \n",
       "[5,] 17   27   47  \n",
       "[6,] 18   28   48  \n",
       "[7,] 19   29   49  \n",
       "[8,] 20   30   50  "
      ]
     },
     "metadata": {},
     "output_type": "display_data"
    }
   ],
   "source": [
    "m[-c(2,6),-c(1,4)]"
   ]
  },
  {
   "cell_type": "markdown",
   "metadata": {},
   "source": [
    "Một chi tiết thú vị, đó là khi chọn mẫu, kết quả xuất ra có thể là vector hoặc matrix, tùy theo kích thước index 2 chiều trong kết quả, nếu kết quả chỉ có 1 chiều (1 hàng hay 1 cột, nó sẽ tự động chuyển thành vector, nhưng nếu kết quả có 2 chiều thì sẽ hình thành một matrix mới. Khi loại trừ cũng vậy - nếu phần còn lại chỉ có 1 hàng hay 1 cột thì nó cũng bị chuyển thành vector"
   ]
  },
  {
   "cell_type": "code",
   "execution_count": 155,
   "metadata": {},
   "outputs": [
    {
     "data": {
      "text/html": [
       "<ol class=list-inline>\n",
       "\t<li>42</li>\n",
       "\t<li>44</li>\n",
       "\t<li>46</li>\n",
       "\t<li>47</li>\n",
       "\t<li>48</li>\n",
       "\t<li>49</li>\n",
       "\t<li>50</li>\n",
       "</ol>\n"
      ],
      "text/latex": [
       "\\begin{enumerate*}\n",
       "\\item 42\n",
       "\\item 44\n",
       "\\item 46\n",
       "\\item 47\n",
       "\\item 48\n",
       "\\item 49\n",
       "\\item 50\n",
       "\\end{enumerate*}\n"
      ],
      "text/markdown": [
       "1. 42\n",
       "2. 44\n",
       "3. 46\n",
       "4. 47\n",
       "5. 48\n",
       "6. 49\n",
       "7. 50\n",
       "\n",
       "\n"
      ],
      "text/plain": [
       "[1] 42 44 46 47 48 49 50"
      ]
     },
     "metadata": {},
     "output_type": "display_data"
    }
   ],
   "source": [
    "m[-c(1,3,5),-c(1,2,3,4)]"
   ]
  },
  {
   "cell_type": "markdown",
   "metadata": {},
   "source": [
    "Cơ chế của hiện tượng trên nằm ở tùy chỉnh \"drop\", khi drop = FALSE, kết quả xuất ra sẽ luôn là matrix:"
   ]
  },
  {
   "cell_type": "code",
   "execution_count": 97,
   "metadata": {},
   "outputs": [
    {
     "data": {
      "text/html": [
       "<table>\n",
       "<thead><tr><th></th><th scope=col>c1</th><th scope=col>c2</th><th scope=col>c3</th></tr></thead>\n",
       "<tbody>\n",
       "\t<tr><th scope=row>r1</th><td>1</td><td>4</td><td>7</td></tr>\n",
       "\t<tr><th scope=row>r2</th><td>2</td><td>5</td><td>8</td></tr>\n",
       "\t<tr><th scope=row>r3</th><td>3</td><td>6</td><td>9</td></tr>\n",
       "</tbody>\n",
       "</table>\n"
      ],
      "text/latex": [
       "\\begin{tabular}{r|lll}\n",
       "  & c1 & c2 & c3\\\\\n",
       "\\hline\n",
       "\tr1 & 1 & 4 & 7\\\\\n",
       "\tr2 & 2 & 5 & 8\\\\\n",
       "\tr3 & 3 & 6 & 9\\\\\n",
       "\\end{tabular}\n"
      ],
      "text/markdown": [
       "\n",
       "| <!--/--> | c1 | c2 | c3 |\n",
       "|---|---|---|---|\n",
       "| r1 | 1 | 4 | 7 |\n",
       "| r2 | 2 | 5 | 8 |\n",
       "| r3 | 3 | 6 | 9 |\n",
       "\n"
      ],
      "text/plain": [
       "   c1 c2 c3\n",
       "r1 1  4  7 \n",
       "r2 2  5  8 \n",
       "r3 3  6  9 "
      ]
     },
     "metadata": {},
     "output_type": "display_data"
    },
    {
     "data": {
      "text/html": [
       "<dl class=dl-horizontal>\n",
       "\t<dt>c1</dt>\n",
       "\t\t<dd>1</dd>\n",
       "\t<dt>c2</dt>\n",
       "\t\t<dd>4</dd>\n",
       "\t<dt>c3</dt>\n",
       "\t\t<dd>7</dd>\n",
       "</dl>\n"
      ],
      "text/latex": [
       "\\begin{description*}\n",
       "\\item[c1] 1\n",
       "\\item[c2] 4\n",
       "\\item[c3] 7\n",
       "\\end{description*}\n"
      ],
      "text/markdown": [
       "c1\n",
       ":   1c2\n",
       ":   4c3\n",
       ":   7\n",
       "\n"
      ],
      "text/plain": [
       "c1 c2 c3 \n",
       " 1  4  7 "
      ]
     },
     "metadata": {},
     "output_type": "display_data"
    },
    {
     "data": {
      "text/html": [
       "<table>\n",
       "<thead><tr><th></th><th scope=col>c1</th><th scope=col>c2</th><th scope=col>c3</th></tr></thead>\n",
       "<tbody>\n",
       "\t<tr><th scope=row>r1</th><td>1</td><td>4</td><td>7</td></tr>\n",
       "</tbody>\n",
       "</table>\n"
      ],
      "text/latex": [
       "\\begin{tabular}{r|lll}\n",
       "  & c1 & c2 & c3\\\\\n",
       "\\hline\n",
       "\tr1 & 1 & 4 & 7\\\\\n",
       "\\end{tabular}\n"
      ],
      "text/markdown": [
       "\n",
       "| <!--/--> | c1 | c2 | c3 |\n",
       "|---|---|---|---|\n",
       "| r1 | 1 | 4 | 7 |\n",
       "\n"
      ],
      "text/plain": [
       "   c1 c2 c3\n",
       "r1 1  4  7 "
      ]
     },
     "metadata": {},
     "output_type": "display_data"
    },
    {
     "data": {
      "text/html": [
       "<dl class=dl-horizontal>\n",
       "\t<dt>r1</dt>\n",
       "\t\t<dd>4</dd>\n",
       "\t<dt>r2</dt>\n",
       "\t\t<dd>5</dd>\n",
       "\t<dt>r3</dt>\n",
       "\t\t<dd>6</dd>\n",
       "</dl>\n"
      ],
      "text/latex": [
       "\\begin{description*}\n",
       "\\item[r1] 4\n",
       "\\item[r2] 5\n",
       "\\item[r3] 6\n",
       "\\end{description*}\n"
      ],
      "text/markdown": [
       "r1\n",
       ":   4r2\n",
       ":   5r3\n",
       ":   6\n",
       "\n"
      ],
      "text/plain": [
       "r1 r2 r3 \n",
       " 4  5  6 "
      ]
     },
     "metadata": {},
     "output_type": "display_data"
    },
    {
     "data": {
      "text/html": [
       "<table>\n",
       "<thead><tr><th></th><th scope=col>c2</th></tr></thead>\n",
       "<tbody>\n",
       "\t<tr><th scope=row>r1</th><td>4</td></tr>\n",
       "\t<tr><th scope=row>r2</th><td>5</td></tr>\n",
       "\t<tr><th scope=row>r3</th><td>6</td></tr>\n",
       "</tbody>\n",
       "</table>\n"
      ],
      "text/latex": [
       "\\begin{tabular}{r|l}\n",
       "  & c2\\\\\n",
       "\\hline\n",
       "\tr1 & 4\\\\\n",
       "\tr2 & 5\\\\\n",
       "\tr3 & 6\\\\\n",
       "\\end{tabular}\n"
      ],
      "text/markdown": [
       "\n",
       "| <!--/--> | c2 |\n",
       "|---|---|\n",
       "| r1 | 4 |\n",
       "| r2 | 5 |\n",
       "| r3 | 6 |\n",
       "\n"
      ],
      "text/plain": [
       "   c2\n",
       "r1 4 \n",
       "r2 5 \n",
       "r3 6 "
      ]
     },
     "metadata": {},
     "output_type": "display_data"
    }
   ],
   "source": [
    "m = matrix(c(1:9),3,3)\n",
    "\n",
    "colnames(m) = c('c1','c2','c3')\n",
    "rownames(m) = c('r1','r2','r3')\n",
    "\n",
    "m\n",
    "\n",
    "m[1,,drop = T]\n",
    "\n",
    "m[1,,drop = F]\n",
    "\n",
    "m[,2,drop = T]\n",
    "\n",
    "m[,2,drop = F]"
   ]
  },
  {
   "cell_type": "markdown",
   "metadata": {},
   "source": [
    "Ngoài method [] để trích xuất tọa độ, hàng, cột hay vùng, ta còn có 3 hàm chuyên biệt khác dành cho matrix, cho phép trích xuất đường chéo, nửa trên và nửa dưới của matrix:\n",
    "\n",
    "Hàm diag() trích xuất đường chéo:"
   ]
  },
  {
   "cell_type": "code",
   "execution_count": 181,
   "metadata": {},
   "outputs": [
    {
     "data": {
      "text/html": [
       "<table>\n",
       "<tbody>\n",
       "\t<tr><td>1 </td><td>5 </td><td> 9</td><td>13</td></tr>\n",
       "\t<tr><td>2 </td><td>6 </td><td>10</td><td>14</td></tr>\n",
       "\t<tr><td>3 </td><td>7 </td><td>11</td><td>15</td></tr>\n",
       "\t<tr><td>4 </td><td>8 </td><td>12</td><td>16</td></tr>\n",
       "</tbody>\n",
       "</table>\n"
      ],
      "text/latex": [
       "\\begin{tabular}{llll}\n",
       "\t 1  & 5  &  9 & 13\\\\\n",
       "\t 2  & 6  & 10 & 14\\\\\n",
       "\t 3  & 7  & 11 & 15\\\\\n",
       "\t 4  & 8  & 12 & 16\\\\\n",
       "\\end{tabular}\n"
      ],
      "text/markdown": [
       "\n",
       "| 1  | 5  |  9 | 13 |\n",
       "| 2  | 6  | 10 | 14 |\n",
       "| 3  | 7  | 11 | 15 |\n",
       "| 4  | 8  | 12 | 16 |\n",
       "\n"
      ],
      "text/plain": [
       "     [,1] [,2] [,3] [,4]\n",
       "[1,] 1    5     9   13  \n",
       "[2,] 2    6    10   14  \n",
       "[3,] 3    7    11   15  \n",
       "[4,] 4    8    12   16  "
      ]
     },
     "metadata": {},
     "output_type": "display_data"
    },
    {
     "data": {
      "text/html": [
       "<ol class=list-inline>\n",
       "\t<li>1</li>\n",
       "\t<li>6</li>\n",
       "\t<li>11</li>\n",
       "\t<li>16</li>\n",
       "</ol>\n"
      ],
      "text/latex": [
       "\\begin{enumerate*}\n",
       "\\item 1\n",
       "\\item 6\n",
       "\\item 11\n",
       "\\item 16\n",
       "\\end{enumerate*}\n"
      ],
      "text/markdown": [
       "1. 1\n",
       "2. 6\n",
       "3. 11\n",
       "4. 16\n",
       "\n",
       "\n"
      ],
      "text/plain": [
       "[1]  1  6 11 16"
      ]
     },
     "metadata": {},
     "output_type": "display_data"
    }
   ],
   "source": [
    "m = matrix(c(1:16),4,4)\n",
    "\n",
    "m\n",
    "\n",
    "diag(m)"
   ]
  },
  {
   "cell_type": "markdown",
   "metadata": {},
   "source": [
    "Matrix không bắt buộc phải đối xứng để dùng được hàm diag(): đường chéo chỉ là vector phát xuất từ vị trí [1:1], và kết thúc ở cột cuối cùng về bên phải:"
   ]
  },
  {
   "cell_type": "code",
   "execution_count": 183,
   "metadata": {},
   "outputs": [
    {
     "data": {
      "text/html": [
       "<table>\n",
       "<tbody>\n",
       "\t<tr><td>1 </td><td> 7</td><td>13</td></tr>\n",
       "\t<tr><td>2 </td><td> 8</td><td>14</td></tr>\n",
       "\t<tr><td>3 </td><td> 9</td><td>15</td></tr>\n",
       "\t<tr><td>4 </td><td>10</td><td>16</td></tr>\n",
       "\t<tr><td>5 </td><td>11</td><td>17</td></tr>\n",
       "\t<tr><td>6 </td><td>12</td><td>18</td></tr>\n",
       "</tbody>\n",
       "</table>\n"
      ],
      "text/latex": [
       "\\begin{tabular}{lll}\n",
       "\t 1  &  7 & 13\\\\\n",
       "\t 2  &  8 & 14\\\\\n",
       "\t 3  &  9 & 15\\\\\n",
       "\t 4  & 10 & 16\\\\\n",
       "\t 5  & 11 & 17\\\\\n",
       "\t 6  & 12 & 18\\\\\n",
       "\\end{tabular}\n"
      ],
      "text/markdown": [
       "\n",
       "| 1  |  7 | 13 |\n",
       "| 2  |  8 | 14 |\n",
       "| 3  |  9 | 15 |\n",
       "| 4  | 10 | 16 |\n",
       "| 5  | 11 | 17 |\n",
       "| 6  | 12 | 18 |\n",
       "\n"
      ],
      "text/plain": [
       "     [,1] [,2] [,3]\n",
       "[1,] 1     7   13  \n",
       "[2,] 2     8   14  \n",
       "[3,] 3     9   15  \n",
       "[4,] 4    10   16  \n",
       "[5,] 5    11   17  \n",
       "[6,] 6    12   18  "
      ]
     },
     "metadata": {},
     "output_type": "display_data"
    },
    {
     "data": {
      "text/html": [
       "<ol class=list-inline>\n",
       "\t<li>1</li>\n",
       "\t<li>8</li>\n",
       "\t<li>15</li>\n",
       "</ol>\n"
      ],
      "text/latex": [
       "\\begin{enumerate*}\n",
       "\\item 1\n",
       "\\item 8\n",
       "\\item 15\n",
       "\\end{enumerate*}\n"
      ],
      "text/markdown": [
       "1. 1\n",
       "2. 8\n",
       "3. 15\n",
       "\n",
       "\n"
      ],
      "text/plain": [
       "[1]  1  8 15"
      ]
     },
     "metadata": {},
     "output_type": "display_data"
    }
   ],
   "source": [
    "m = matrix(c(1:18),6,3)\n",
    "\n",
    "m\n",
    "\n",
    "diag(m)"
   ]
  },
  {
   "cell_type": "markdown",
   "metadata": {},
   "source": [
    "Hàm upper.tri xác định tọa độ của tất cả phần tử nằm ở nửa trên của matrix, lấy đường chéo làm ranh giới (không bao gồm các phần tử nằm trên đường chéo này)"
   ]
  },
  {
   "cell_type": "code",
   "execution_count": 185,
   "metadata": {},
   "outputs": [
    {
     "data": {
      "text/html": [
       "<table>\n",
       "<tbody>\n",
       "\t<tr><td>1 </td><td>5 </td><td> 9</td><td>13</td></tr>\n",
       "\t<tr><td>2 </td><td>6 </td><td>10</td><td>14</td></tr>\n",
       "\t<tr><td>3 </td><td>7 </td><td>11</td><td>15</td></tr>\n",
       "\t<tr><td>4 </td><td>8 </td><td>12</td><td>16</td></tr>\n",
       "</tbody>\n",
       "</table>\n"
      ],
      "text/latex": [
       "\\begin{tabular}{llll}\n",
       "\t 1  & 5  &  9 & 13\\\\\n",
       "\t 2  & 6  & 10 & 14\\\\\n",
       "\t 3  & 7  & 11 & 15\\\\\n",
       "\t 4  & 8  & 12 & 16\\\\\n",
       "\\end{tabular}\n"
      ],
      "text/markdown": [
       "\n",
       "| 1  | 5  |  9 | 13 |\n",
       "| 2  | 6  | 10 | 14 |\n",
       "| 3  | 7  | 11 | 15 |\n",
       "| 4  | 8  | 12 | 16 |\n",
       "\n"
      ],
      "text/plain": [
       "     [,1] [,2] [,3] [,4]\n",
       "[1,] 1    5     9   13  \n",
       "[2,] 2    6    10   14  \n",
       "[3,] 3    7    11   15  \n",
       "[4,] 4    8    12   16  "
      ]
     },
     "metadata": {},
     "output_type": "display_data"
    },
    {
     "data": {
      "text/html": [
       "<table>\n",
       "<tbody>\n",
       "\t<tr><td>FALSE</td><td> TRUE</td><td> TRUE</td><td> TRUE</td></tr>\n",
       "\t<tr><td>FALSE</td><td>FALSE</td><td> TRUE</td><td> TRUE</td></tr>\n",
       "\t<tr><td>FALSE</td><td>FALSE</td><td>FALSE</td><td> TRUE</td></tr>\n",
       "\t<tr><td>FALSE</td><td>FALSE</td><td>FALSE</td><td>FALSE</td></tr>\n",
       "</tbody>\n",
       "</table>\n"
      ],
      "text/latex": [
       "\\begin{tabular}{llll}\n",
       "\t FALSE &  TRUE &  TRUE &  TRUE\\\\\n",
       "\t FALSE & FALSE &  TRUE &  TRUE\\\\\n",
       "\t FALSE & FALSE & FALSE &  TRUE\\\\\n",
       "\t FALSE & FALSE & FALSE & FALSE\\\\\n",
       "\\end{tabular}\n"
      ],
      "text/markdown": [
       "\n",
       "| FALSE |  TRUE |  TRUE |  TRUE |\n",
       "| FALSE | FALSE |  TRUE |  TRUE |\n",
       "| FALSE | FALSE | FALSE |  TRUE |\n",
       "| FALSE | FALSE | FALSE | FALSE |\n",
       "\n"
      ],
      "text/plain": [
       "     [,1]  [,2]  [,3]  [,4] \n",
       "[1,] FALSE  TRUE  TRUE  TRUE\n",
       "[2,] FALSE FALSE  TRUE  TRUE\n",
       "[3,] FALSE FALSE FALSE  TRUE\n",
       "[4,] FALSE FALSE FALSE FALSE"
      ]
     },
     "metadata": {},
     "output_type": "display_data"
    },
    {
     "data": {
      "text/html": [
       "<ol class=list-inline>\n",
       "\t<li>5</li>\n",
       "\t<li>9</li>\n",
       "\t<li>10</li>\n",
       "\t<li>13</li>\n",
       "\t<li>14</li>\n",
       "\t<li>15</li>\n",
       "</ol>\n"
      ],
      "text/latex": [
       "\\begin{enumerate*}\n",
       "\\item 5\n",
       "\\item 9\n",
       "\\item 10\n",
       "\\item 13\n",
       "\\item 14\n",
       "\\item 15\n",
       "\\end{enumerate*}\n"
      ],
      "text/markdown": [
       "1. 5\n",
       "2. 9\n",
       "3. 10\n",
       "4. 13\n",
       "5. 14\n",
       "6. 15\n",
       "\n",
       "\n"
      ],
      "text/plain": [
       "[1]  5  9 10 13 14 15"
      ]
     },
     "metadata": {},
     "output_type": "display_data"
    }
   ],
   "source": [
    "m = matrix(c(1:16),4,4)\n",
    "\n",
    "m\n",
    "\n",
    "upper.tri(m)\n",
    "\n",
    "m[upper.tri(m)]"
   ]
  },
  {
   "cell_type": "markdown",
   "metadata": {},
   "source": [
    "Tương tự, hàm lower.tri cho phép trích xuất nửa dưới của matrix"
   ]
  },
  {
   "cell_type": "code",
   "execution_count": 186,
   "metadata": {},
   "outputs": [
    {
     "data": {
      "text/html": [
       "<table>\n",
       "<tbody>\n",
       "\t<tr><td>1 </td><td>5 </td><td> 9</td><td>13</td></tr>\n",
       "\t<tr><td>2 </td><td>6 </td><td>10</td><td>14</td></tr>\n",
       "\t<tr><td>3 </td><td>7 </td><td>11</td><td>15</td></tr>\n",
       "\t<tr><td>4 </td><td>8 </td><td>12</td><td>16</td></tr>\n",
       "</tbody>\n",
       "</table>\n"
      ],
      "text/latex": [
       "\\begin{tabular}{llll}\n",
       "\t 1  & 5  &  9 & 13\\\\\n",
       "\t 2  & 6  & 10 & 14\\\\\n",
       "\t 3  & 7  & 11 & 15\\\\\n",
       "\t 4  & 8  & 12 & 16\\\\\n",
       "\\end{tabular}\n"
      ],
      "text/markdown": [
       "\n",
       "| 1  | 5  |  9 | 13 |\n",
       "| 2  | 6  | 10 | 14 |\n",
       "| 3  | 7  | 11 | 15 |\n",
       "| 4  | 8  | 12 | 16 |\n",
       "\n"
      ],
      "text/plain": [
       "     [,1] [,2] [,3] [,4]\n",
       "[1,] 1    5     9   13  \n",
       "[2,] 2    6    10   14  \n",
       "[3,] 3    7    11   15  \n",
       "[4,] 4    8    12   16  "
      ]
     },
     "metadata": {},
     "output_type": "display_data"
    },
    {
     "data": {
      "text/html": [
       "<table>\n",
       "<tbody>\n",
       "\t<tr><td>FALSE</td><td>FALSE</td><td>FALSE</td><td>FALSE</td></tr>\n",
       "\t<tr><td> TRUE</td><td>FALSE</td><td>FALSE</td><td>FALSE</td></tr>\n",
       "\t<tr><td> TRUE</td><td> TRUE</td><td>FALSE</td><td>FALSE</td></tr>\n",
       "\t<tr><td> TRUE</td><td> TRUE</td><td> TRUE</td><td>FALSE</td></tr>\n",
       "</tbody>\n",
       "</table>\n"
      ],
      "text/latex": [
       "\\begin{tabular}{llll}\n",
       "\t FALSE & FALSE & FALSE & FALSE\\\\\n",
       "\t  TRUE & FALSE & FALSE & FALSE\\\\\n",
       "\t  TRUE &  TRUE & FALSE & FALSE\\\\\n",
       "\t  TRUE &  TRUE &  TRUE & FALSE\\\\\n",
       "\\end{tabular}\n"
      ],
      "text/markdown": [
       "\n",
       "| FALSE | FALSE | FALSE | FALSE |\n",
       "|  TRUE | FALSE | FALSE | FALSE |\n",
       "|  TRUE |  TRUE | FALSE | FALSE |\n",
       "|  TRUE |  TRUE |  TRUE | FALSE |\n",
       "\n"
      ],
      "text/plain": [
       "     [,1]  [,2]  [,3]  [,4] \n",
       "[1,] FALSE FALSE FALSE FALSE\n",
       "[2,]  TRUE FALSE FALSE FALSE\n",
       "[3,]  TRUE  TRUE FALSE FALSE\n",
       "[4,]  TRUE  TRUE  TRUE FALSE"
      ]
     },
     "metadata": {},
     "output_type": "display_data"
    },
    {
     "data": {
      "text/html": [
       "<ol class=list-inline>\n",
       "\t<li>2</li>\n",
       "\t<li>3</li>\n",
       "\t<li>4</li>\n",
       "\t<li>7</li>\n",
       "\t<li>8</li>\n",
       "\t<li>12</li>\n",
       "</ol>\n"
      ],
      "text/latex": [
       "\\begin{enumerate*}\n",
       "\\item 2\n",
       "\\item 3\n",
       "\\item 4\n",
       "\\item 7\n",
       "\\item 8\n",
       "\\item 12\n",
       "\\end{enumerate*}\n"
      ],
      "text/markdown": [
       "1. 2\n",
       "2. 3\n",
       "3. 4\n",
       "4. 7\n",
       "5. 8\n",
       "6. 12\n",
       "\n",
       "\n"
      ],
      "text/plain": [
       "[1]  2  3  4  7  8 12"
      ]
     },
     "metadata": {},
     "output_type": "display_data"
    }
   ],
   "source": [
    "m = matrix(c(1:16),4,4)\n",
    "\n",
    "m\n",
    "\n",
    "lower.tri(m)\n",
    "\n",
    "m[lower.tri(m)]"
   ]
  },
  {
   "cell_type": "markdown",
   "metadata": {},
   "source": [
    "## Đặt tên cho hàng và cột\n",
    "\n",
    "Ta có thể đặt tên cho hàng và cột, để tạo ra hệ thống index có ý nghĩa, chúng cũng có thể được dùng để chọn mẫu."
   ]
  },
  {
   "cell_type": "code",
   "execution_count": 194,
   "metadata": {},
   "outputs": [
    {
     "data": {
      "text/html": [
       "<table>\n",
       "<tbody>\n",
       "\t<tr><td>-0.56047565</td><td> 1.2240818 </td><td>-1.0678237 </td><td> 0.42646422</td></tr>\n",
       "\t<tr><td>-0.23017749</td><td> 0.3598138 </td><td>-0.2179749 </td><td>-0.29507148</td></tr>\n",
       "\t<tr><td> 1.55870831</td><td> 0.4007715 </td><td>-1.0260044 </td><td> 0.89512566</td></tr>\n",
       "\t<tr><td> 0.07050839</td><td> 0.1106827 </td><td>-0.7288912 </td><td> 0.87813349</td></tr>\n",
       "\t<tr><td> 0.12928774</td><td>-0.5558411 </td><td>-0.6250393 </td><td> 0.82158108</td></tr>\n",
       "\t<tr><td> 1.71506499</td><td> 1.7869131 </td><td>-1.6866933 </td><td> 0.68864025</td></tr>\n",
       "\t<tr><td> 0.46091621</td><td> 0.4978505 </td><td> 0.8377870 </td><td> 0.55391765</td></tr>\n",
       "\t<tr><td>-1.26506123</td><td>-1.9666172 </td><td> 0.1533731 </td><td>-0.06191171</td></tr>\n",
       "\t<tr><td>-0.68685285</td><td> 0.7013559 </td><td>-1.1381369 </td><td>-0.30596266</td></tr>\n",
       "\t<tr><td>-0.44566197</td><td>-0.4727914 </td><td> 1.2538149 </td><td>-0.38047100</td></tr>\n",
       "</tbody>\n",
       "</table>\n"
      ],
      "text/latex": [
       "\\begin{tabular}{llll}\n",
       "\t -0.56047565 &  1.2240818  & -1.0678237  &  0.42646422\\\\\n",
       "\t -0.23017749 &  0.3598138  & -0.2179749  & -0.29507148\\\\\n",
       "\t  1.55870831 &  0.4007715  & -1.0260044  &  0.89512566\\\\\n",
       "\t  0.07050839 &  0.1106827  & -0.7288912  &  0.87813349\\\\\n",
       "\t  0.12928774 & -0.5558411  & -0.6250393  &  0.82158108\\\\\n",
       "\t  1.71506499 &  1.7869131  & -1.6866933  &  0.68864025\\\\\n",
       "\t  0.46091621 &  0.4978505  &  0.8377870  &  0.55391765\\\\\n",
       "\t -1.26506123 & -1.9666172  &  0.1533731  & -0.06191171\\\\\n",
       "\t -0.68685285 &  0.7013559  & -1.1381369  & -0.30596266\\\\\n",
       "\t -0.44566197 & -0.4727914  &  1.2538149  & -0.38047100\\\\\n",
       "\\end{tabular}\n"
      ],
      "text/markdown": [
       "\n",
       "| -0.56047565 |  1.2240818  | -1.0678237  |  0.42646422 |\n",
       "| -0.23017749 |  0.3598138  | -0.2179749  | -0.29507148 |\n",
       "|  1.55870831 |  0.4007715  | -1.0260044  |  0.89512566 |\n",
       "|  0.07050839 |  0.1106827  | -0.7288912  |  0.87813349 |\n",
       "|  0.12928774 | -0.5558411  | -0.6250393  |  0.82158108 |\n",
       "|  1.71506499 |  1.7869131  | -1.6866933  |  0.68864025 |\n",
       "|  0.46091621 |  0.4978505  |  0.8377870  |  0.55391765 |\n",
       "| -1.26506123 | -1.9666172  |  0.1533731  | -0.06191171 |\n",
       "| -0.68685285 |  0.7013559  | -1.1381369  | -0.30596266 |\n",
       "| -0.44566197 | -0.4727914  |  1.2538149  | -0.38047100 |\n",
       "\n"
      ],
      "text/plain": [
       "      [,1]        [,2]       [,3]       [,4]       \n",
       " [1,] -0.56047565  1.2240818 -1.0678237  0.42646422\n",
       " [2,] -0.23017749  0.3598138 -0.2179749 -0.29507148\n",
       " [3,]  1.55870831  0.4007715 -1.0260044  0.89512566\n",
       " [4,]  0.07050839  0.1106827 -0.7288912  0.87813349\n",
       " [5,]  0.12928774 -0.5558411 -0.6250393  0.82158108\n",
       " [6,]  1.71506499  1.7869131 -1.6866933  0.68864025\n",
       " [7,]  0.46091621  0.4978505  0.8377870  0.55391765\n",
       " [8,] -1.26506123 -1.9666172  0.1533731 -0.06191171\n",
       " [9,] -0.68685285  0.7013559 -1.1381369 -0.30596266\n",
       "[10,] -0.44566197 -0.4727914  1.2538149 -0.38047100"
      ]
     },
     "metadata": {},
     "output_type": "display_data"
    }
   ],
   "source": [
    "set.seed(123)\n",
    "\n",
    "m <- matrix(rnorm(40), 10, 4)\n",
    "\n",
    "m"
   ]
  },
  {
   "cell_type": "markdown",
   "metadata": {},
   "source": [
    "Tên của hàng và cột có thể đặt thủ công ngay từ khi tạo ra matrix: nhưng chỉ có kí tự mới được thể hiện "
   ]
  },
  {
   "cell_type": "code",
   "execution_count": 201,
   "metadata": {},
   "outputs": [
    {
     "data": {
      "text/html": [
       "<table>\n",
       "<thead><tr><th scope=col>col_1</th><th scope=col>col_2</th><th scope=col>col_3</th><th scope=col>col_4</th></tr></thead>\n",
       "<tbody>\n",
       "\t<tr><td>-0.56047565</td><td> 1.2240818 </td><td>-1.0678237 </td><td> 0.42646422</td></tr>\n",
       "\t<tr><td>-0.23017749</td><td> 0.3598138 </td><td>-0.2179749 </td><td>-0.29507148</td></tr>\n",
       "\t<tr><td> 1.55870831</td><td> 0.4007715 </td><td>-1.0260044 </td><td> 0.89512566</td></tr>\n",
       "\t<tr><td> 0.07050839</td><td> 0.1106827 </td><td>-0.7288912 </td><td> 0.87813349</td></tr>\n",
       "\t<tr><td> 0.12928774</td><td>-0.5558411 </td><td>-0.6250393 </td><td> 0.82158108</td></tr>\n",
       "\t<tr><td> 1.71506499</td><td> 1.7869131 </td><td>-1.6866933 </td><td> 0.68864025</td></tr>\n",
       "\t<tr><td> 0.46091621</td><td> 0.4978505 </td><td> 0.8377870 </td><td> 0.55391765</td></tr>\n",
       "\t<tr><td>-1.26506123</td><td>-1.9666172 </td><td> 0.1533731 </td><td>-0.06191171</td></tr>\n",
       "\t<tr><td>-0.68685285</td><td> 0.7013559 </td><td>-1.1381369 </td><td>-0.30596266</td></tr>\n",
       "\t<tr><td>-0.44566197</td><td>-0.4727914 </td><td> 1.2538149 </td><td>-0.38047100</td></tr>\n",
       "</tbody>\n",
       "</table>\n"
      ],
      "text/latex": [
       "\\begin{tabular}{r|llll}\n",
       " col\\_1 & col\\_2 & col\\_3 & col\\_4\\\\\n",
       "\\hline\n",
       "\t -0.56047565 &  1.2240818  & -1.0678237  &  0.42646422\\\\\n",
       "\t -0.23017749 &  0.3598138  & -0.2179749  & -0.29507148\\\\\n",
       "\t  1.55870831 &  0.4007715  & -1.0260044  &  0.89512566\\\\\n",
       "\t  0.07050839 &  0.1106827  & -0.7288912  &  0.87813349\\\\\n",
       "\t  0.12928774 & -0.5558411  & -0.6250393  &  0.82158108\\\\\n",
       "\t  1.71506499 &  1.7869131  & -1.6866933  &  0.68864025\\\\\n",
       "\t  0.46091621 &  0.4978505  &  0.8377870  &  0.55391765\\\\\n",
       "\t -1.26506123 & -1.9666172  &  0.1533731  & -0.06191171\\\\\n",
       "\t -0.68685285 &  0.7013559  & -1.1381369  & -0.30596266\\\\\n",
       "\t -0.44566197 & -0.4727914  &  1.2538149  & -0.38047100\\\\\n",
       "\\end{tabular}\n"
      ],
      "text/markdown": [
       "\n",
       "| col_1 | col_2 | col_3 | col_4 |\n",
       "|---|---|---|---|\n",
       "| -0.56047565 |  1.2240818  | -1.0678237  |  0.42646422 |\n",
       "| -0.23017749 |  0.3598138  | -0.2179749  | -0.29507148 |\n",
       "|  1.55870831 |  0.4007715  | -1.0260044  |  0.89512566 |\n",
       "|  0.07050839 |  0.1106827  | -0.7288912  |  0.87813349 |\n",
       "|  0.12928774 | -0.5558411  | -0.6250393  |  0.82158108 |\n",
       "|  1.71506499 |  1.7869131  | -1.6866933  |  0.68864025 |\n",
       "|  0.46091621 |  0.4978505  |  0.8377870  |  0.55391765 |\n",
       "| -1.26506123 | -1.9666172  |  0.1533731  | -0.06191171 |\n",
       "| -0.68685285 |  0.7013559  | -1.1381369  | -0.30596266 |\n",
       "| -0.44566197 | -0.4727914  |  1.2538149  | -0.38047100 |\n",
       "\n"
      ],
      "text/plain": [
       "         col_names\n",
       "row_names col_1       col_2      col_3      col_4      \n",
       "       1  -0.56047565  1.2240818 -1.0678237  0.42646422\n",
       "       2  -0.23017749  0.3598138 -0.2179749 -0.29507148\n",
       "       3   1.55870831  0.4007715 -1.0260044  0.89512566\n",
       "       4   0.07050839  0.1106827 -0.7288912  0.87813349\n",
       "       5   0.12928774 -0.5558411 -0.6250393  0.82158108\n",
       "       6   1.71506499  1.7869131 -1.6866933  0.68864025\n",
       "       7   0.46091621  0.4978505  0.8377870  0.55391765\n",
       "       8  -1.26506123 -1.9666172  0.1533731 -0.06191171\n",
       "       9  -0.68685285  0.7013559 -1.1381369 -0.30596266\n",
       "       10 -0.44566197 -0.4727914  1.2538149 -0.38047100"
      ]
     },
     "metadata": {},
     "output_type": "display_data"
    }
   ],
   "source": [
    "set.seed(123)\n",
    "\n",
    "m <- matrix(rnorm(40), 10, 4,\n",
    "             dimnames = list(row_names = c(1:10), \n",
    "                             col_names = paste('col',c(1:4), sep =\"_\")))\n",
    "\n",
    "m"
   ]
  },
  {
   "cell_type": "markdown",
   "metadata": {},
   "source": [
    "Hoặc có thể đặt tên sau khi matrix cơ bản đã có:"
   ]
  },
  {
   "cell_type": "code",
   "execution_count": 205,
   "metadata": {},
   "outputs": [
    {
     "data": {
      "text/html": [
       "<table>\n",
       "<tbody>\n",
       "\t<tr><td>-0.56047565</td><td> 1.2240818 </td><td>-1.0678237 </td><td> 0.42646422</td></tr>\n",
       "\t<tr><td>-0.23017749</td><td> 0.3598138 </td><td>-0.2179749 </td><td>-0.29507148</td></tr>\n",
       "\t<tr><td> 1.55870831</td><td> 0.4007715 </td><td>-1.0260044 </td><td> 0.89512566</td></tr>\n",
       "\t<tr><td> 0.07050839</td><td> 0.1106827 </td><td>-0.7288912 </td><td> 0.87813349</td></tr>\n",
       "\t<tr><td> 0.12928774</td><td>-0.5558411 </td><td>-0.6250393 </td><td> 0.82158108</td></tr>\n",
       "\t<tr><td> 1.71506499</td><td> 1.7869131 </td><td>-1.6866933 </td><td> 0.68864025</td></tr>\n",
       "\t<tr><td> 0.46091621</td><td> 0.4978505 </td><td> 0.8377870 </td><td> 0.55391765</td></tr>\n",
       "\t<tr><td>-1.26506123</td><td>-1.9666172 </td><td> 0.1533731 </td><td>-0.06191171</td></tr>\n",
       "\t<tr><td>-0.68685285</td><td> 0.7013559 </td><td>-1.1381369 </td><td>-0.30596266</td></tr>\n",
       "\t<tr><td>-0.44566197</td><td>-0.4727914 </td><td> 1.2538149 </td><td>-0.38047100</td></tr>\n",
       "</tbody>\n",
       "</table>\n"
      ],
      "text/latex": [
       "\\begin{tabular}{llll}\n",
       "\t -0.56047565 &  1.2240818  & -1.0678237  &  0.42646422\\\\\n",
       "\t -0.23017749 &  0.3598138  & -0.2179749  & -0.29507148\\\\\n",
       "\t  1.55870831 &  0.4007715  & -1.0260044  &  0.89512566\\\\\n",
       "\t  0.07050839 &  0.1106827  & -0.7288912  &  0.87813349\\\\\n",
       "\t  0.12928774 & -0.5558411  & -0.6250393  &  0.82158108\\\\\n",
       "\t  1.71506499 &  1.7869131  & -1.6866933  &  0.68864025\\\\\n",
       "\t  0.46091621 &  0.4978505  &  0.8377870  &  0.55391765\\\\\n",
       "\t -1.26506123 & -1.9666172  &  0.1533731  & -0.06191171\\\\\n",
       "\t -0.68685285 &  0.7013559  & -1.1381369  & -0.30596266\\\\\n",
       "\t -0.44566197 & -0.4727914  &  1.2538149  & -0.38047100\\\\\n",
       "\\end{tabular}\n"
      ],
      "text/markdown": [
       "\n",
       "| -0.56047565 |  1.2240818  | -1.0678237  |  0.42646422 |\n",
       "| -0.23017749 |  0.3598138  | -0.2179749  | -0.29507148 |\n",
       "|  1.55870831 |  0.4007715  | -1.0260044  |  0.89512566 |\n",
       "|  0.07050839 |  0.1106827  | -0.7288912  |  0.87813349 |\n",
       "|  0.12928774 | -0.5558411  | -0.6250393  |  0.82158108 |\n",
       "|  1.71506499 |  1.7869131  | -1.6866933  |  0.68864025 |\n",
       "|  0.46091621 |  0.4978505  |  0.8377870  |  0.55391765 |\n",
       "| -1.26506123 | -1.9666172  |  0.1533731  | -0.06191171 |\n",
       "| -0.68685285 |  0.7013559  | -1.1381369  | -0.30596266 |\n",
       "| -0.44566197 | -0.4727914  |  1.2538149  | -0.38047100 |\n",
       "\n"
      ],
      "text/plain": [
       "      [,1]        [,2]       [,3]       [,4]       \n",
       " [1,] -0.56047565  1.2240818 -1.0678237  0.42646422\n",
       " [2,] -0.23017749  0.3598138 -0.2179749 -0.29507148\n",
       " [3,]  1.55870831  0.4007715 -1.0260044  0.89512566\n",
       " [4,]  0.07050839  0.1106827 -0.7288912  0.87813349\n",
       " [5,]  0.12928774 -0.5558411 -0.6250393  0.82158108\n",
       " [6,]  1.71506499  1.7869131 -1.6866933  0.68864025\n",
       " [7,]  0.46091621  0.4978505  0.8377870  0.55391765\n",
       " [8,] -1.26506123 -1.9666172  0.1533731 -0.06191171\n",
       " [9,] -0.68685285  0.7013559 -1.1381369 -0.30596266\n",
       "[10,] -0.44566197 -0.4727914  1.2538149 -0.38047100"
      ]
     },
     "metadata": {},
     "output_type": "display_data"
    },
    {
     "data": {
      "text/html": [
       "<table>\n",
       "<tbody>\n",
       "\t<tr><th scope=row>row_1</th><td>-0.56047565</td><td> 1.2240818 </td><td>-1.0678237 </td><td> 0.42646422</td></tr>\n",
       "\t<tr><th scope=row>row_2</th><td>-0.23017749</td><td> 0.3598138 </td><td>-0.2179749 </td><td>-0.29507148</td></tr>\n",
       "\t<tr><th scope=row>row_3</th><td> 1.55870831</td><td> 0.4007715 </td><td>-1.0260044 </td><td> 0.89512566</td></tr>\n",
       "\t<tr><th scope=row>row_4</th><td> 0.07050839</td><td> 0.1106827 </td><td>-0.7288912 </td><td> 0.87813349</td></tr>\n",
       "\t<tr><th scope=row>row_5</th><td> 0.12928774</td><td>-0.5558411 </td><td>-0.6250393 </td><td> 0.82158108</td></tr>\n",
       "\t<tr><th scope=row>row_6</th><td> 1.71506499</td><td> 1.7869131 </td><td>-1.6866933 </td><td> 0.68864025</td></tr>\n",
       "\t<tr><th scope=row>row_7</th><td> 0.46091621</td><td> 0.4978505 </td><td> 0.8377870 </td><td> 0.55391765</td></tr>\n",
       "\t<tr><th scope=row>row_8</th><td>-1.26506123</td><td>-1.9666172 </td><td> 0.1533731 </td><td>-0.06191171</td></tr>\n",
       "\t<tr><th scope=row>row_9</th><td>-0.68685285</td><td> 0.7013559 </td><td>-1.1381369 </td><td>-0.30596266</td></tr>\n",
       "\t<tr><th scope=row>row_10</th><td>-0.44566197</td><td>-0.4727914 </td><td> 1.2538149 </td><td>-0.38047100</td></tr>\n",
       "</tbody>\n",
       "</table>\n"
      ],
      "text/latex": [
       "\\begin{tabular}{r|llll}\n",
       "\trow\\_1 & -0.56047565 &  1.2240818  & -1.0678237  &  0.42646422\\\\\n",
       "\trow\\_2 & -0.23017749 &  0.3598138  & -0.2179749  & -0.29507148\\\\\n",
       "\trow\\_3 &  1.55870831 &  0.4007715  & -1.0260044  &  0.89512566\\\\\n",
       "\trow\\_4 &  0.07050839 &  0.1106827  & -0.7288912  &  0.87813349\\\\\n",
       "\trow\\_5 &  0.12928774 & -0.5558411  & -0.6250393  &  0.82158108\\\\\n",
       "\trow\\_6 &  1.71506499 &  1.7869131  & -1.6866933  &  0.68864025\\\\\n",
       "\trow\\_7 &  0.46091621 &  0.4978505  &  0.8377870  &  0.55391765\\\\\n",
       "\trow\\_8 & -1.26506123 & -1.9666172  &  0.1533731  & -0.06191171\\\\\n",
       "\trow\\_9 & -0.68685285 &  0.7013559  & -1.1381369  & -0.30596266\\\\\n",
       "\trow\\_10 & -0.44566197 & -0.4727914  &  1.2538149  & -0.38047100\\\\\n",
       "\\end{tabular}\n"
      ],
      "text/markdown": [
       "\n",
       "| row_1 | -0.56047565 |  1.2240818  | -1.0678237  |  0.42646422 |\n",
       "| row_2 | -0.23017749 |  0.3598138  | -0.2179749  | -0.29507148 |\n",
       "| row_3 |  1.55870831 |  0.4007715  | -1.0260044  |  0.89512566 |\n",
       "| row_4 |  0.07050839 |  0.1106827  | -0.7288912  |  0.87813349 |\n",
       "| row_5 |  0.12928774 | -0.5558411  | -0.6250393  |  0.82158108 |\n",
       "| row_6 |  1.71506499 |  1.7869131  | -1.6866933  |  0.68864025 |\n",
       "| row_7 |  0.46091621 |  0.4978505  |  0.8377870  |  0.55391765 |\n",
       "| row_8 | -1.26506123 | -1.9666172  |  0.1533731  | -0.06191171 |\n",
       "| row_9 | -0.68685285 |  0.7013559  | -1.1381369  | -0.30596266 |\n",
       "| row_10 | -0.44566197 | -0.4727914  |  1.2538149  | -0.38047100 |\n",
       "\n"
      ],
      "text/plain": [
       "       [,1]        [,2]       [,3]       [,4]       \n",
       "row_1  -0.56047565  1.2240818 -1.0678237  0.42646422\n",
       "row_2  -0.23017749  0.3598138 -0.2179749 -0.29507148\n",
       "row_3   1.55870831  0.4007715 -1.0260044  0.89512566\n",
       "row_4   0.07050839  0.1106827 -0.7288912  0.87813349\n",
       "row_5   0.12928774 -0.5558411 -0.6250393  0.82158108\n",
       "row_6   1.71506499  1.7869131 -1.6866933  0.68864025\n",
       "row_7   0.46091621  0.4978505  0.8377870  0.55391765\n",
       "row_8  -1.26506123 -1.9666172  0.1533731 -0.06191171\n",
       "row_9  -0.68685285  0.7013559 -1.1381369 -0.30596266\n",
       "row_10 -0.44566197 -0.4727914  1.2538149 -0.38047100"
      ]
     },
     "metadata": {},
     "output_type": "display_data"
    }
   ],
   "source": [
    "set.seed(123)\n",
    "\n",
    "m <- matrix(rnorm(40), 10, 4)\n",
    "\n",
    "m\n",
    "\n",
    "rownames(m) <- paste('row',c(1:10), sep =\"_\")\n",
    "\n",
    "m"
   ]
  },
  {
   "cell_type": "code",
   "execution_count": 206,
   "metadata": {},
   "outputs": [
    {
     "data": {
      "text/html": [
       "<table>\n",
       "<tbody>\n",
       "\t<tr><td>-0.56047565</td><td> 1.2240818 </td><td>-1.0678237 </td><td> 0.42646422</td></tr>\n",
       "\t<tr><td>-0.23017749</td><td> 0.3598138 </td><td>-0.2179749 </td><td>-0.29507148</td></tr>\n",
       "\t<tr><td> 1.55870831</td><td> 0.4007715 </td><td>-1.0260044 </td><td> 0.89512566</td></tr>\n",
       "\t<tr><td> 0.07050839</td><td> 0.1106827 </td><td>-0.7288912 </td><td> 0.87813349</td></tr>\n",
       "\t<tr><td> 0.12928774</td><td>-0.5558411 </td><td>-0.6250393 </td><td> 0.82158108</td></tr>\n",
       "\t<tr><td> 1.71506499</td><td> 1.7869131 </td><td>-1.6866933 </td><td> 0.68864025</td></tr>\n",
       "\t<tr><td> 0.46091621</td><td> 0.4978505 </td><td> 0.8377870 </td><td> 0.55391765</td></tr>\n",
       "\t<tr><td>-1.26506123</td><td>-1.9666172 </td><td> 0.1533731 </td><td>-0.06191171</td></tr>\n",
       "\t<tr><td>-0.68685285</td><td> 0.7013559 </td><td>-1.1381369 </td><td>-0.30596266</td></tr>\n",
       "\t<tr><td>-0.44566197</td><td>-0.4727914 </td><td> 1.2538149 </td><td>-0.38047100</td></tr>\n",
       "</tbody>\n",
       "</table>\n"
      ],
      "text/latex": [
       "\\begin{tabular}{llll}\n",
       "\t -0.56047565 &  1.2240818  & -1.0678237  &  0.42646422\\\\\n",
       "\t -0.23017749 &  0.3598138  & -0.2179749  & -0.29507148\\\\\n",
       "\t  1.55870831 &  0.4007715  & -1.0260044  &  0.89512566\\\\\n",
       "\t  0.07050839 &  0.1106827  & -0.7288912  &  0.87813349\\\\\n",
       "\t  0.12928774 & -0.5558411  & -0.6250393  &  0.82158108\\\\\n",
       "\t  1.71506499 &  1.7869131  & -1.6866933  &  0.68864025\\\\\n",
       "\t  0.46091621 &  0.4978505  &  0.8377870  &  0.55391765\\\\\n",
       "\t -1.26506123 & -1.9666172  &  0.1533731  & -0.06191171\\\\\n",
       "\t -0.68685285 &  0.7013559  & -1.1381369  & -0.30596266\\\\\n",
       "\t -0.44566197 & -0.4727914  &  1.2538149  & -0.38047100\\\\\n",
       "\\end{tabular}\n"
      ],
      "text/markdown": [
       "\n",
       "| -0.56047565 |  1.2240818  | -1.0678237  |  0.42646422 |\n",
       "| -0.23017749 |  0.3598138  | -0.2179749  | -0.29507148 |\n",
       "|  1.55870831 |  0.4007715  | -1.0260044  |  0.89512566 |\n",
       "|  0.07050839 |  0.1106827  | -0.7288912  |  0.87813349 |\n",
       "|  0.12928774 | -0.5558411  | -0.6250393  |  0.82158108 |\n",
       "|  1.71506499 |  1.7869131  | -1.6866933  |  0.68864025 |\n",
       "|  0.46091621 |  0.4978505  |  0.8377870  |  0.55391765 |\n",
       "| -1.26506123 | -1.9666172  |  0.1533731  | -0.06191171 |\n",
       "| -0.68685285 |  0.7013559  | -1.1381369  | -0.30596266 |\n",
       "| -0.44566197 | -0.4727914  |  1.2538149  | -0.38047100 |\n",
       "\n"
      ],
      "text/plain": [
       "      [,1]        [,2]       [,3]       [,4]       \n",
       " [1,] -0.56047565  1.2240818 -1.0678237  0.42646422\n",
       " [2,] -0.23017749  0.3598138 -0.2179749 -0.29507148\n",
       " [3,]  1.55870831  0.4007715 -1.0260044  0.89512566\n",
       " [4,]  0.07050839  0.1106827 -0.7288912  0.87813349\n",
       " [5,]  0.12928774 -0.5558411 -0.6250393  0.82158108\n",
       " [6,]  1.71506499  1.7869131 -1.6866933  0.68864025\n",
       " [7,]  0.46091621  0.4978505  0.8377870  0.55391765\n",
       " [8,] -1.26506123 -1.9666172  0.1533731 -0.06191171\n",
       " [9,] -0.68685285  0.7013559 -1.1381369 -0.30596266\n",
       "[10,] -0.44566197 -0.4727914  1.2538149 -0.38047100"
      ]
     },
     "metadata": {},
     "output_type": "display_data"
    },
    {
     "data": {
      "text/html": [
       "<table>\n",
       "<thead><tr><th scope=col>col_1</th><th scope=col>col_2</th><th scope=col>col_3</th><th scope=col>col_4</th></tr></thead>\n",
       "<tbody>\n",
       "\t<tr><td>-0.56047565</td><td> 1.2240818 </td><td>-1.0678237 </td><td> 0.42646422</td></tr>\n",
       "\t<tr><td>-0.23017749</td><td> 0.3598138 </td><td>-0.2179749 </td><td>-0.29507148</td></tr>\n",
       "\t<tr><td> 1.55870831</td><td> 0.4007715 </td><td>-1.0260044 </td><td> 0.89512566</td></tr>\n",
       "\t<tr><td> 0.07050839</td><td> 0.1106827 </td><td>-0.7288912 </td><td> 0.87813349</td></tr>\n",
       "\t<tr><td> 0.12928774</td><td>-0.5558411 </td><td>-0.6250393 </td><td> 0.82158108</td></tr>\n",
       "\t<tr><td> 1.71506499</td><td> 1.7869131 </td><td>-1.6866933 </td><td> 0.68864025</td></tr>\n",
       "\t<tr><td> 0.46091621</td><td> 0.4978505 </td><td> 0.8377870 </td><td> 0.55391765</td></tr>\n",
       "\t<tr><td>-1.26506123</td><td>-1.9666172 </td><td> 0.1533731 </td><td>-0.06191171</td></tr>\n",
       "\t<tr><td>-0.68685285</td><td> 0.7013559 </td><td>-1.1381369 </td><td>-0.30596266</td></tr>\n",
       "\t<tr><td>-0.44566197</td><td>-0.4727914 </td><td> 1.2538149 </td><td>-0.38047100</td></tr>\n",
       "</tbody>\n",
       "</table>\n"
      ],
      "text/latex": [
       "\\begin{tabular}{llll}\n",
       " col\\_1 & col\\_2 & col\\_3 & col\\_4\\\\\n",
       "\\hline\n",
       "\t -0.56047565 &  1.2240818  & -1.0678237  &  0.42646422\\\\\n",
       "\t -0.23017749 &  0.3598138  & -0.2179749  & -0.29507148\\\\\n",
       "\t  1.55870831 &  0.4007715  & -1.0260044  &  0.89512566\\\\\n",
       "\t  0.07050839 &  0.1106827  & -0.7288912  &  0.87813349\\\\\n",
       "\t  0.12928774 & -0.5558411  & -0.6250393  &  0.82158108\\\\\n",
       "\t  1.71506499 &  1.7869131  & -1.6866933  &  0.68864025\\\\\n",
       "\t  0.46091621 &  0.4978505  &  0.8377870  &  0.55391765\\\\\n",
       "\t -1.26506123 & -1.9666172  &  0.1533731  & -0.06191171\\\\\n",
       "\t -0.68685285 &  0.7013559  & -1.1381369  & -0.30596266\\\\\n",
       "\t -0.44566197 & -0.4727914  &  1.2538149  & -0.38047100\\\\\n",
       "\\end{tabular}\n"
      ],
      "text/markdown": [
       "\n",
       "| col_1 | col_2 | col_3 | col_4 |\n",
       "|---|---|---|---|\n",
       "| -0.56047565 |  1.2240818  | -1.0678237  |  0.42646422 |\n",
       "| -0.23017749 |  0.3598138  | -0.2179749  | -0.29507148 |\n",
       "|  1.55870831 |  0.4007715  | -1.0260044  |  0.89512566 |\n",
       "|  0.07050839 |  0.1106827  | -0.7288912  |  0.87813349 |\n",
       "|  0.12928774 | -0.5558411  | -0.6250393  |  0.82158108 |\n",
       "|  1.71506499 |  1.7869131  | -1.6866933  |  0.68864025 |\n",
       "|  0.46091621 |  0.4978505  |  0.8377870  |  0.55391765 |\n",
       "| -1.26506123 | -1.9666172  |  0.1533731  | -0.06191171 |\n",
       "| -0.68685285 |  0.7013559  | -1.1381369  | -0.30596266 |\n",
       "| -0.44566197 | -0.4727914  |  1.2538149  | -0.38047100 |\n",
       "\n"
      ],
      "text/plain": [
       "      col_1       col_2      col_3      col_4      \n",
       " [1,] -0.56047565  1.2240818 -1.0678237  0.42646422\n",
       " [2,] -0.23017749  0.3598138 -0.2179749 -0.29507148\n",
       " [3,]  1.55870831  0.4007715 -1.0260044  0.89512566\n",
       " [4,]  0.07050839  0.1106827 -0.7288912  0.87813349\n",
       " [5,]  0.12928774 -0.5558411 -0.6250393  0.82158108\n",
       " [6,]  1.71506499  1.7869131 -1.6866933  0.68864025\n",
       " [7,]  0.46091621  0.4978505  0.8377870  0.55391765\n",
       " [8,] -1.26506123 -1.9666172  0.1533731 -0.06191171\n",
       " [9,] -0.68685285  0.7013559 -1.1381369 -0.30596266\n",
       "[10,] -0.44566197 -0.4727914  1.2538149 -0.38047100"
      ]
     },
     "metadata": {},
     "output_type": "display_data"
    }
   ],
   "source": [
    "set.seed(123)\n",
    "\n",
    "m <- matrix(rnorm(40), 10, 4)\n",
    "\n",
    "m\n",
    "\n",
    "colnames(m) <- paste('col',c(1:4), sep =\"_\")\n",
    "\n",
    "m"
   ]
  },
  {
   "cell_type": "code",
   "execution_count": 1,
   "metadata": {},
   "outputs": [
    {
     "data": {
      "text/html": [
       "<table>\n",
       "<thead><tr><th></th><th scope=col>col_1</th><th scope=col>col_2</th><th scope=col>col_3</th><th scope=col>col_4</th></tr></thead>\n",
       "<tbody>\n",
       "\t<tr><th scope=row>row_1</th><td>-0.56047565</td><td> 1.2240818 </td><td>-1.0678237 </td><td> 0.42646422</td></tr>\n",
       "\t<tr><th scope=row>row_2</th><td>-0.23017749</td><td> 0.3598138 </td><td>-0.2179749 </td><td>-0.29507148</td></tr>\n",
       "\t<tr><th scope=row>row_3</th><td> 1.55870831</td><td> 0.4007715 </td><td>-1.0260044 </td><td> 0.89512566</td></tr>\n",
       "\t<tr><th scope=row>row_4</th><td> 0.07050839</td><td> 0.1106827 </td><td>-0.7288912 </td><td> 0.87813349</td></tr>\n",
       "\t<tr><th scope=row>row_5</th><td> 0.12928774</td><td>-0.5558411 </td><td>-0.6250393 </td><td> 0.82158108</td></tr>\n",
       "\t<tr><th scope=row>row_6</th><td> 1.71506499</td><td> 1.7869131 </td><td>-1.6866933 </td><td> 0.68864025</td></tr>\n",
       "\t<tr><th scope=row>row_7</th><td> 0.46091621</td><td> 0.4978505 </td><td> 0.8377870 </td><td> 0.55391765</td></tr>\n",
       "\t<tr><th scope=row>row_8</th><td>-1.26506123</td><td>-1.9666172 </td><td> 0.1533731 </td><td>-0.06191171</td></tr>\n",
       "\t<tr><th scope=row>row_9</th><td>-0.68685285</td><td> 0.7013559 </td><td>-1.1381369 </td><td>-0.30596266</td></tr>\n",
       "\t<tr><th scope=row>row_10</th><td>-0.44566197</td><td>-0.4727914 </td><td> 1.2538149 </td><td>-0.38047100</td></tr>\n",
       "</tbody>\n",
       "</table>\n"
      ],
      "text/latex": [
       "\\begin{tabular}{r|llll}\n",
       "  & col\\_1 & col\\_2 & col\\_3 & col\\_4\\\\\n",
       "\\hline\n",
       "\trow\\_1 & -0.56047565 &  1.2240818  & -1.0678237  &  0.42646422\\\\\n",
       "\trow\\_2 & -0.23017749 &  0.3598138  & -0.2179749  & -0.29507148\\\\\n",
       "\trow\\_3 &  1.55870831 &  0.4007715  & -1.0260044  &  0.89512566\\\\\n",
       "\trow\\_4 &  0.07050839 &  0.1106827  & -0.7288912  &  0.87813349\\\\\n",
       "\trow\\_5 &  0.12928774 & -0.5558411  & -0.6250393  &  0.82158108\\\\\n",
       "\trow\\_6 &  1.71506499 &  1.7869131  & -1.6866933  &  0.68864025\\\\\n",
       "\trow\\_7 &  0.46091621 &  0.4978505  &  0.8377870  &  0.55391765\\\\\n",
       "\trow\\_8 & -1.26506123 & -1.9666172  &  0.1533731  & -0.06191171\\\\\n",
       "\trow\\_9 & -0.68685285 &  0.7013559  & -1.1381369  & -0.30596266\\\\\n",
       "\trow\\_10 & -0.44566197 & -0.4727914  &  1.2538149  & -0.38047100\\\\\n",
       "\\end{tabular}\n"
      ],
      "text/markdown": [
       "\n",
       "| <!--/--> | col_1 | col_2 | col_3 | col_4 |\n",
       "|---|---|---|---|---|\n",
       "| row_1 | -0.56047565 |  1.2240818  | -1.0678237  |  0.42646422 |\n",
       "| row_2 | -0.23017749 |  0.3598138  | -0.2179749  | -0.29507148 |\n",
       "| row_3 |  1.55870831 |  0.4007715  | -1.0260044  |  0.89512566 |\n",
       "| row_4 |  0.07050839 |  0.1106827  | -0.7288912  |  0.87813349 |\n",
       "| row_5 |  0.12928774 | -0.5558411  | -0.6250393  |  0.82158108 |\n",
       "| row_6 |  1.71506499 |  1.7869131  | -1.6866933  |  0.68864025 |\n",
       "| row_7 |  0.46091621 |  0.4978505  |  0.8377870  |  0.55391765 |\n",
       "| row_8 | -1.26506123 | -1.9666172  |  0.1533731  | -0.06191171 |\n",
       "| row_9 | -0.68685285 |  0.7013559  | -1.1381369  | -0.30596266 |\n",
       "| row_10 | -0.44566197 | -0.4727914  |  1.2538149  | -0.38047100 |\n",
       "\n"
      ],
      "text/plain": [
       "         col_names\n",
       "row_names col_1       col_2      col_3      col_4      \n",
       "   row_1  -0.56047565  1.2240818 -1.0678237  0.42646422\n",
       "   row_2  -0.23017749  0.3598138 -0.2179749 -0.29507148\n",
       "   row_3   1.55870831  0.4007715 -1.0260044  0.89512566\n",
       "   row_4   0.07050839  0.1106827 -0.7288912  0.87813349\n",
       "   row_5   0.12928774 -0.5558411 -0.6250393  0.82158108\n",
       "   row_6   1.71506499  1.7869131 -1.6866933  0.68864025\n",
       "   row_7   0.46091621  0.4978505  0.8377870  0.55391765\n",
       "   row_8  -1.26506123 -1.9666172  0.1533731 -0.06191171\n",
       "   row_9  -0.68685285  0.7013559 -1.1381369 -0.30596266\n",
       "   row_10 -0.44566197 -0.4727914  1.2538149 -0.38047100"
      ]
     },
     "metadata": {},
     "output_type": "display_data"
    }
   ],
   "source": [
    "set.seed(123)\n",
    "\n",
    "m <- matrix(rnorm(40), 10, 4,\n",
    "             dimnames = list(row_names = paste('row',c(1:10), sep =\"_\"),\n",
    "                             col_names = paste('col',c(1:4), sep =\"_\")))\n",
    "\n",
    "m"
   ]
  },
  {
   "cell_type": "code",
   "execution_count": 209,
   "metadata": {},
   "outputs": [
    {
     "data": {
      "text/html": [
       "<dl class=dl-horizontal>\n",
       "\t<dt>col_1</dt>\n",
       "\t\t<dd>-0.560475646552213</dd>\n",
       "\t<dt>col_2</dt>\n",
       "\t\t<dd>1.22408179743946</dd>\n",
       "\t<dt>col_3</dt>\n",
       "\t\t<dd>-1.06782370598685</dd>\n",
       "\t<dt>col_4</dt>\n",
       "\t\t<dd>0.426464221476814</dd>\n",
       "</dl>\n"
      ],
      "text/latex": [
       "\\begin{description*}\n",
       "\\item[col\\textbackslash{}\\_1] -0.560475646552213\n",
       "\\item[col\\textbackslash{}\\_2] 1.22408179743946\n",
       "\\item[col\\textbackslash{}\\_3] -1.06782370598685\n",
       "\\item[col\\textbackslash{}\\_4] 0.426464221476814\n",
       "\\end{description*}\n"
      ],
      "text/markdown": [
       "col_1\n",
       ":   -0.560475646552213col_2\n",
       ":   1.22408179743946col_3\n",
       ":   -1.06782370598685col_4\n",
       ":   0.426464221476814\n",
       "\n"
      ],
      "text/plain": [
       "     col_1      col_2      col_3      col_4 \n",
       "-0.5604756  1.2240818 -1.0678237  0.4264642 "
      ]
     },
     "metadata": {},
     "output_type": "display_data"
    }
   ],
   "source": [
    "m['row_1',]"
   ]
  },
  {
   "cell_type": "code",
   "execution_count": 210,
   "metadata": {},
   "outputs": [
    {
     "data": {
      "text/html": [
       "<dl class=dl-horizontal>\n",
       "\t<dt>row_1</dt>\n",
       "\t\t<dd>1.22408179743946</dd>\n",
       "\t<dt>row_2</dt>\n",
       "\t\t<dd>0.359813827057364</dd>\n",
       "\t<dt>row_3</dt>\n",
       "\t\t<dd>0.400771450594052</dd>\n",
       "\t<dt>row_4</dt>\n",
       "\t\t<dd>0.11068271594512</dd>\n",
       "\t<dt>row_5</dt>\n",
       "\t\t<dd>-0.555841134754075</dd>\n",
       "\t<dt>row_6</dt>\n",
       "\t\t<dd>1.78691313680308</dd>\n",
       "\t<dt>row_7</dt>\n",
       "\t\t<dd>0.497850478229239</dd>\n",
       "\t<dt>row_8</dt>\n",
       "\t\t<dd>-1.96661715662964</dd>\n",
       "\t<dt>row_9</dt>\n",
       "\t\t<dd>0.701355901563686</dd>\n",
       "\t<dt>row_10</dt>\n",
       "\t\t<dd>-0.472791407727934</dd>\n",
       "</dl>\n"
      ],
      "text/latex": [
       "\\begin{description*}\n",
       "\\item[row\\textbackslash{}\\_1] 1.22408179743946\n",
       "\\item[row\\textbackslash{}\\_2] 0.359813827057364\n",
       "\\item[row\\textbackslash{}\\_3] 0.400771450594052\n",
       "\\item[row\\textbackslash{}\\_4] 0.11068271594512\n",
       "\\item[row\\textbackslash{}\\_5] -0.555841134754075\n",
       "\\item[row\\textbackslash{}\\_6] 1.78691313680308\n",
       "\\item[row\\textbackslash{}\\_7] 0.497850478229239\n",
       "\\item[row\\textbackslash{}\\_8] -1.96661715662964\n",
       "\\item[row\\textbackslash{}\\_9] 0.701355901563686\n",
       "\\item[row\\textbackslash{}\\_10] -0.472791407727934\n",
       "\\end{description*}\n"
      ],
      "text/markdown": [
       "row_1\n",
       ":   1.22408179743946row_2\n",
       ":   0.359813827057364row_3\n",
       ":   0.400771450594052row_4\n",
       ":   0.11068271594512row_5\n",
       ":   -0.555841134754075row_6\n",
       ":   1.78691313680308row_7\n",
       ":   0.497850478229239row_8\n",
       ":   -1.96661715662964row_9\n",
       ":   0.701355901563686row_10\n",
       ":   -0.472791407727934\n",
       "\n"
      ],
      "text/plain": [
       "     row_1      row_2      row_3      row_4      row_5      row_6      row_7 \n",
       " 1.2240818  0.3598138  0.4007715  0.1106827 -0.5558411  1.7869131  0.4978505 \n",
       "     row_8      row_9     row_10 \n",
       "-1.9666172  0.7013559 -0.4727914 "
      ]
     },
     "metadata": {},
     "output_type": "display_data"
    }
   ],
   "source": [
    "m[,'col_2']"
   ]
  },
  {
   "cell_type": "code",
   "execution_count": 214,
   "metadata": {},
   "outputs": [
    {
     "data": {
      "text/html": [
       "<table>\n",
       "<thead><tr><th></th><th scope=col>col_2</th><th scope=col>col_4</th></tr></thead>\n",
       "<tbody>\n",
       "\t<tr><th scope=row>row_1</th><td>1.2240818</td><td>0.4264642</td></tr>\n",
       "\t<tr><th scope=row>row_3</th><td>0.4007715</td><td>0.8951257</td></tr>\n",
       "</tbody>\n",
       "</table>\n"
      ],
      "text/latex": [
       "\\begin{tabular}{r|ll}\n",
       "  & col\\_2 & col\\_4\\\\\n",
       "\\hline\n",
       "\trow\\_1 & 1.2240818 & 0.4264642\\\\\n",
       "\trow\\_3 & 0.4007715 & 0.8951257\\\\\n",
       "\\end{tabular}\n"
      ],
      "text/markdown": [
       "\n",
       "| <!--/--> | col_2 | col_4 |\n",
       "|---|---|---|\n",
       "| row_1 | 1.2240818 | 0.4264642 |\n",
       "| row_3 | 0.4007715 | 0.8951257 |\n",
       "\n"
      ],
      "text/plain": [
       "         col_names\n",
       "row_names col_2     col_4    \n",
       "    row_1 1.2240818 0.4264642\n",
       "    row_3 0.4007715 0.8951257"
      ]
     },
     "metadata": {},
     "output_type": "display_data"
    }
   ],
   "source": [
    "m[c('row_1','row_3'),c('col_2','col_4')]"
   ]
  },
  {
   "cell_type": "code",
   "execution_count": 215,
   "metadata": {},
   "outputs": [
    {
     "data": {
      "text/html": [
       "<table>\n",
       "<thead><tr><th></th><th scope=col>col_2</th><th scope=col>col_4</th></tr></thead>\n",
       "<tbody>\n",
       "\t<tr><th scope=row>row_2</th><td> 0.3598138 </td><td>-0.29507148</td></tr>\n",
       "\t<tr><th scope=row>row_4</th><td> 0.1106827 </td><td> 0.87813349</td></tr>\n",
       "\t<tr><th scope=row>row_6</th><td> 1.7869131 </td><td> 0.68864025</td></tr>\n",
       "\t<tr><th scope=row>row_8</th><td>-1.9666172 </td><td>-0.06191171</td></tr>\n",
       "\t<tr><th scope=row>row_10</th><td>-0.4727914 </td><td>-0.38047100</td></tr>\n",
       "</tbody>\n",
       "</table>\n"
      ],
      "text/latex": [
       "\\begin{tabular}{r|ll}\n",
       "  & col\\_2 & col\\_4\\\\\n",
       "\\hline\n",
       "\trow\\_2 &  0.3598138  & -0.29507148\\\\\n",
       "\trow\\_4 &  0.1106827  &  0.87813349\\\\\n",
       "\trow\\_6 &  1.7869131  &  0.68864025\\\\\n",
       "\trow\\_8 & -1.9666172  & -0.06191171\\\\\n",
       "\trow\\_10 & -0.4727914  & -0.38047100\\\\\n",
       "\\end{tabular}\n"
      ],
      "text/markdown": [
       "\n",
       "| <!--/--> | col_2 | col_4 |\n",
       "|---|---|---|\n",
       "| row_2 |  0.3598138  | -0.29507148 |\n",
       "| row_4 |  0.1106827  |  0.87813349 |\n",
       "| row_6 |  1.7869131  |  0.68864025 |\n",
       "| row_8 | -1.9666172  | -0.06191171 |\n",
       "| row_10 | -0.4727914  | -0.38047100 |\n",
       "\n"
      ],
      "text/plain": [
       "         col_names\n",
       "row_names col_2      col_4      \n",
       "   row_2   0.3598138 -0.29507148\n",
       "   row_4   0.1106827  0.87813349\n",
       "   row_6   1.7869131  0.68864025\n",
       "   row_8  -1.9666172 -0.06191171\n",
       "   row_10 -0.4727914 -0.38047100"
      ]
     },
     "metadata": {},
     "output_type": "display_data"
    }
   ],
   "source": [
    "m[c(2,4,6,8,10),c('col_2','col_4')]"
   ]
  },
  {
   "cell_type": "markdown",
   "metadata": {},
   "source": [
    "Lưu ý: Hệ thống dimnames indices (rownames và colnames) chỉ cho phép lựa chọn, nhưng không cho phép loại trừ, hạn chế này giống như ở vector. Bạn chỉ có thể loại trừ với hệ thống indices số thứ tự."
   ]
  },
  {
   "cell_type": "code",
   "execution_count": 3,
   "metadata": {},
   "outputs": [
    {
     "ename": "ERROR",
     "evalue": "Error in -c(\"col_2\"): argument incorrect pour un opérateur unitaire\n",
     "output_type": "error",
     "traceback": [
      "Error in -c(\"col_2\"): argument incorrect pour un opérateur unitaire\nTraceback:\n"
     ]
    }
   ],
   "source": [
    "m[-c('col_2')]"
   ]
  },
  {
   "cell_type": "markdown",
   "metadata": {},
   "source": [
    "## Thay đổi / cập nhật giá trị của matrix\n",
    "\n",
    "Method [] ngoài công dụng trích xuất dữ liệu, tái chọn mẫu, loại trừ... còn giúp ta thay đổi những giá trị trong matrix tại vị trí xác định: Thí dụ bắt đầu từ matrix rỗng, ta có thể đưa dữ liệu vào các vị trí tùy chọn:"
   ]
  },
  {
   "cell_type": "code",
   "execution_count": 162,
   "metadata": {},
   "outputs": [
    {
     "data": {
      "text/html": [
       "<table>\n",
       "<tbody>\n",
       "\t<tr><td>NA</td><td>NA</td><td>NA</td><td>NA</td><td>NA</td></tr>\n",
       "\t<tr><td>NA</td><td>NA</td><td>NA</td><td>NA</td><td>NA</td></tr>\n",
       "\t<tr><td>NA</td><td>NA</td><td>NA</td><td>NA</td><td>NA</td></tr>\n",
       "\t<tr><td>NA</td><td>NA</td><td>NA</td><td>NA</td><td>NA</td></tr>\n",
       "\t<tr><td>NA</td><td>NA</td><td>NA</td><td>NA</td><td>NA</td></tr>\n",
       "</tbody>\n",
       "</table>\n"
      ],
      "text/latex": [
       "\\begin{tabular}{lllll}\n",
       "\t NA & NA & NA & NA & NA\\\\\n",
       "\t NA & NA & NA & NA & NA\\\\\n",
       "\t NA & NA & NA & NA & NA\\\\\n",
       "\t NA & NA & NA & NA & NA\\\\\n",
       "\t NA & NA & NA & NA & NA\\\\\n",
       "\\end{tabular}\n"
      ],
      "text/markdown": [
       "\n",
       "| NA | NA | NA | NA | NA |\n",
       "| NA | NA | NA | NA | NA |\n",
       "| NA | NA | NA | NA | NA |\n",
       "| NA | NA | NA | NA | NA |\n",
       "| NA | NA | NA | NA | NA |\n",
       "\n"
      ],
      "text/plain": [
       "     [,1] [,2] [,3] [,4] [,5]\n",
       "[1,] NA   NA   NA   NA   NA  \n",
       "[2,] NA   NA   NA   NA   NA  \n",
       "[3,] NA   NA   NA   NA   NA  \n",
       "[4,] NA   NA   NA   NA   NA  \n",
       "[5,] NA   NA   NA   NA   NA  "
      ]
     },
     "metadata": {},
     "output_type": "display_data"
    }
   ],
   "source": [
    "m = matrix(nrow = 5, ncol = 5)\n",
    "\n",
    "m"
   ]
  },
  {
   "cell_type": "code",
   "execution_count": 163,
   "metadata": {},
   "outputs": [
    {
     "data": {
      "text/html": [
       "<table>\n",
       "<tbody>\n",
       "\t<tr><td> 1</td><td>NA</td><td>NA</td><td>NA</td><td>NA</td></tr>\n",
       "\t<tr><td>NA</td><td>NA</td><td>NA</td><td>NA</td><td>NA</td></tr>\n",
       "\t<tr><td>NA</td><td>NA</td><td>NA</td><td>NA</td><td>NA</td></tr>\n",
       "\t<tr><td>NA</td><td>NA</td><td>NA</td><td>NA</td><td>NA</td></tr>\n",
       "\t<tr><td>NA</td><td>NA</td><td>NA</td><td>NA</td><td>NA</td></tr>\n",
       "</tbody>\n",
       "</table>\n"
      ],
      "text/latex": [
       "\\begin{tabular}{lllll}\n",
       "\t  1 & NA & NA & NA & NA\\\\\n",
       "\t NA & NA & NA & NA & NA\\\\\n",
       "\t NA & NA & NA & NA & NA\\\\\n",
       "\t NA & NA & NA & NA & NA\\\\\n",
       "\t NA & NA & NA & NA & NA\\\\\n",
       "\\end{tabular}\n"
      ],
      "text/markdown": [
       "\n",
       "|  1 | NA | NA | NA | NA |\n",
       "| NA | NA | NA | NA | NA |\n",
       "| NA | NA | NA | NA | NA |\n",
       "| NA | NA | NA | NA | NA |\n",
       "| NA | NA | NA | NA | NA |\n",
       "\n"
      ],
      "text/plain": [
       "     [,1] [,2] [,3] [,4] [,5]\n",
       "[1,]  1   NA   NA   NA   NA  \n",
       "[2,] NA   NA   NA   NA   NA  \n",
       "[3,] NA   NA   NA   NA   NA  \n",
       "[4,] NA   NA   NA   NA   NA  \n",
       "[5,] NA   NA   NA   NA   NA  "
      ]
     },
     "metadata": {},
     "output_type": "display_data"
    }
   ],
   "source": [
    "m[1,1] = 1\n",
    "\n",
    "m"
   ]
  },
  {
   "cell_type": "code",
   "execution_count": 167,
   "metadata": {},
   "outputs": [
    {
     "data": {
      "text/html": [
       "<table>\n",
       "<tbody>\n",
       "\t<tr><td> 1</td><td>NA</td><td>NA</td><td>NA</td><td>NA</td></tr>\n",
       "\t<tr><td>NA</td><td>NA</td><td>NA</td><td>NA</td><td>NA</td></tr>\n",
       "\t<tr><td> 3</td><td>NA</td><td> 3</td><td>NA</td><td> 3</td></tr>\n",
       "\t<tr><td>NA</td><td>NA</td><td>NA</td><td>NA</td><td>NA</td></tr>\n",
       "\t<tr><td>NA</td><td>NA</td><td>NA</td><td>NA</td><td>NA</td></tr>\n",
       "</tbody>\n",
       "</table>\n"
      ],
      "text/latex": [
       "\\begin{tabular}{lllll}\n",
       "\t  1 & NA & NA & NA & NA\\\\\n",
       "\t NA & NA & NA & NA & NA\\\\\n",
       "\t  3 & NA &  3 & NA &  3\\\\\n",
       "\t NA & NA & NA & NA & NA\\\\\n",
       "\t NA & NA & NA & NA & NA\\\\\n",
       "\\end{tabular}\n"
      ],
      "text/markdown": [
       "\n",
       "|  1 | NA | NA | NA | NA |\n",
       "| NA | NA | NA | NA | NA |\n",
       "|  3 | NA |  3 | NA |  3 |\n",
       "| NA | NA | NA | NA | NA |\n",
       "| NA | NA | NA | NA | NA |\n",
       "\n"
      ],
      "text/plain": [
       "     [,1] [,2] [,3] [,4] [,5]\n",
       "[1,]  1   NA   NA   NA   NA  \n",
       "[2,] NA   NA   NA   NA   NA  \n",
       "[3,]  3   NA    3   NA    3  \n",
       "[4,] NA   NA   NA   NA   NA  \n",
       "[5,] NA   NA   NA   NA   NA  "
      ]
     },
     "metadata": {},
     "output_type": "display_data"
    }
   ],
   "source": [
    "m[3,c(1,3,5)] = 3\n",
    "\n",
    "m"
   ]
  },
  {
   "cell_type": "code",
   "execution_count": 168,
   "metadata": {},
   "outputs": [
    {
     "data": {
      "text/html": [
       "<table>\n",
       "<tbody>\n",
       "\t<tr><td> 1</td><td>99</td><td>NA</td><td>99</td><td>NA</td></tr>\n",
       "\t<tr><td>NA</td><td>99</td><td>NA</td><td>99</td><td>NA</td></tr>\n",
       "\t<tr><td> 3</td><td>NA</td><td> 3</td><td>NA</td><td> 3</td></tr>\n",
       "\t<tr><td>NA</td><td>99</td><td>NA</td><td>99</td><td>NA</td></tr>\n",
       "\t<tr><td>NA</td><td>NA</td><td>NA</td><td>NA</td><td>NA</td></tr>\n",
       "</tbody>\n",
       "</table>\n"
      ],
      "text/latex": [
       "\\begin{tabular}{lllll}\n",
       "\t  1 & 99 & NA & 99 & NA\\\\\n",
       "\t NA & 99 & NA & 99 & NA\\\\\n",
       "\t  3 & NA &  3 & NA &  3\\\\\n",
       "\t NA & 99 & NA & 99 & NA\\\\\n",
       "\t NA & NA & NA & NA & NA\\\\\n",
       "\\end{tabular}\n"
      ],
      "text/markdown": [
       "\n",
       "|  1 | 99 | NA | 99 | NA |\n",
       "| NA | 99 | NA | 99 | NA |\n",
       "|  3 | NA |  3 | NA |  3 |\n",
       "| NA | 99 | NA | 99 | NA |\n",
       "| NA | NA | NA | NA | NA |\n",
       "\n"
      ],
      "text/plain": [
       "     [,1] [,2] [,3] [,4] [,5]\n",
       "[1,]  1   99   NA   99   NA  \n",
       "[2,] NA   99   NA   99   NA  \n",
       "[3,]  3   NA    3   NA    3  \n",
       "[4,] NA   99   NA   99   NA  \n",
       "[5,] NA   NA   NA   NA   NA  "
      ]
     },
     "metadata": {},
     "output_type": "display_data"
    }
   ],
   "source": [
    "m[c(1,2,4),c(2,4)] = 99\n",
    "\n",
    "m"
   ]
  },
  {
   "cell_type": "markdown",
   "metadata": {},
   "source": [
    "Ta có thể dùng matrix rỗng để làm place holder hay object nhận kết quả xuất ra từ các vòng lặp. Việc dùng matrix rỗng hay vector rỗng và rót dữ liệu dần sẽ làm tăng đáng kể tốc độ của vòng lặp, so với việc ghép nối thủ công bằng hàm c, cbind hay rbind. "
   ]
  },
  {
   "cell_type": "markdown",
   "metadata": {},
   "source": [
    "Thí dụ: rót dữ liệu vào matrix rỗng 5x3 với vòng lặp for:"
   ]
  },
  {
   "cell_type": "code",
   "execution_count": 170,
   "metadata": {},
   "outputs": [
    {
     "data": {
      "text/html": [
       "<table>\n",
       "<tbody>\n",
       "\t<tr><td>NA</td><td>NA</td><td>NA</td></tr>\n",
       "\t<tr><td>NA</td><td>NA</td><td>NA</td></tr>\n",
       "\t<tr><td>NA</td><td>NA</td><td>NA</td></tr>\n",
       "\t<tr><td>NA</td><td>NA</td><td>NA</td></tr>\n",
       "\t<tr><td>NA</td><td>NA</td><td>NA</td></tr>\n",
       "</tbody>\n",
       "</table>\n"
      ],
      "text/latex": [
       "\\begin{tabular}{lll}\n",
       "\t NA & NA & NA\\\\\n",
       "\t NA & NA & NA\\\\\n",
       "\t NA & NA & NA\\\\\n",
       "\t NA & NA & NA\\\\\n",
       "\t NA & NA & NA\\\\\n",
       "\\end{tabular}\n"
      ],
      "text/markdown": [
       "\n",
       "| NA | NA | NA |\n",
       "| NA | NA | NA |\n",
       "| NA | NA | NA |\n",
       "| NA | NA | NA |\n",
       "| NA | NA | NA |\n",
       "\n"
      ],
      "text/plain": [
       "     [,1] [,2] [,3]\n",
       "[1,] NA   NA   NA  \n",
       "[2,] NA   NA   NA  \n",
       "[3,] NA   NA   NA  \n",
       "[4,] NA   NA   NA  \n",
       "[5,] NA   NA   NA  "
      ]
     },
     "metadata": {},
     "output_type": "display_data"
    },
    {
     "data": {
      "text/html": [
       "<table>\n",
       "<tbody>\n",
       "\t<tr><td> 0.05861767</td><td> 0.3501046 </td><td>-0.02048723</td></tr>\n",
       "\t<tr><td> 0.72058554</td><td>-1.8405775 </td><td>-0.43330886</td></tr>\n",
       "\t<tr><td>-0.14418073</td><td> 0.8289448 </td><td>-0.14571407</td></tr>\n",
       "\t<tr><td> 2.23884000</td><td>-0.3025331 </td><td>-0.26100815</td></tr>\n",
       "\t<tr><td> 1.26414070</td><td>-0.3944662 </td><td> 0.19097657</td></tr>\n",
       "</tbody>\n",
       "</table>\n"
      ],
      "text/latex": [
       "\\begin{tabular}{lll}\n",
       "\t  0.05861767 &  0.3501046  & -0.02048723\\\\\n",
       "\t  0.72058554 & -1.8405775  & -0.43330886\\\\\n",
       "\t -0.14418073 &  0.8289448  & -0.14571407\\\\\n",
       "\t  2.23884000 & -0.3025331  & -0.26100815\\\\\n",
       "\t  1.26414070 & -0.3944662  &  0.19097657\\\\\n",
       "\\end{tabular}\n"
      ],
      "text/markdown": [
       "\n",
       "|  0.05861767 |  0.3501046  | -0.02048723 |\n",
       "|  0.72058554 | -1.8405775  | -0.43330886 |\n",
       "| -0.14418073 |  0.8289448  | -0.14571407 |\n",
       "|  2.23884000 | -0.3025331  | -0.26100815 |\n",
       "|  1.26414070 | -0.3944662  |  0.19097657 |\n",
       "\n"
      ],
      "text/plain": [
       "     [,1]        [,2]       [,3]       \n",
       "[1,]  0.05861767  0.3501046 -0.02048723\n",
       "[2,]  0.72058554 -1.8405775 -0.43330886\n",
       "[3,] -0.14418073  0.8289448 -0.14571407\n",
       "[4,]  2.23884000 -0.3025331 -0.26100815\n",
       "[5,]  1.26414070 -0.3944662  0.19097657"
      ]
     },
     "metadata": {},
     "output_type": "display_data"
    },
    {
     "name": "stdout",
     "output_type": "stream",
     "text": [
      " num [1:5, 1:3] 0.0586 0.7206 -0.1442 2.2388 1.2641 ...\n"
     ]
    }
   ],
   "source": [
    "m = matrix(nrow = 5, ncol = 3)\n",
    "\n",
    "m\n",
    "\n",
    "for (i in 1:5){ m[i,] <- rnorm(3)}\n",
    "\n",
    "m\n",
    "\n",
    "str(m)"
   ]
  },
  {
   "cell_type": "markdown",
   "metadata": {},
   "source": [
    "Chúng ta làm quen với 1 hàm mới là sample(), nó cho phép chọn mẫu ngẫu nhiên, có hay không lặp lại từ tập hợp n phần tử. Đây là cơ sở của việc tái chọn mẫu, phân chia và bootstrap trên matrix:\n",
    "\n",
    "Thí dụ 1: Chọn ngẫu nhiên 10 hàng từ matrix 20x3 (hay chia matrix ngẫu nhiên gốc thành 2 phần trainset và testset):"
   ]
  },
  {
   "cell_type": "code",
   "execution_count": 145,
   "metadata": {},
   "outputs": [
    {
     "data": {
      "text/html": [
       "<table>\n",
       "<tbody>\n",
       "\t<tr><td> 0.0507075269</td><td>-0.1947750095</td><td> 0.1709067   </td></tr>\n",
       "\t<tr><td>-0.9812011724</td><td> 0.5928191512</td><td>-2.2516112   </td></tr>\n",
       "\t<tr><td> 0.6940828216</td><td> 0.8428478830</td><td> 0.3572931   </td></tr>\n",
       "\t<tr><td>-0.5811695637</td><td>-0.0004618632</td><td> 0.4803047   </td></tr>\n",
       "\t<tr><td>-1.0213640541</td><td>-0.3189985462</td><td>-0.6931989   </td></tr>\n",
       "\t<tr><td> 0.3514801109</td><td>-0.0980633188</td><td> 1.0095001   </td></tr>\n",
       "\t<tr><td> 0.0006197855</td><td>-1.6439891986</td><td>-1.7724997   </td></tr>\n",
       "\t<tr><td>-0.1051041286</td><td> 0.9246962998</td><td> 2.2321932   </td></tr>\n",
       "\t<tr><td> 1.9727930103</td><td>-2.4073106610</td><td> 0.4939881   </td></tr>\n",
       "\t<tr><td> 0.2089191602</td><td>-1.4434873353</td><td>-0.8130472   </td></tr>\n",
       "\t<tr><td>-0.1147325439</td><td>-0.2138912254</td><td> 1.3621735   </td></tr>\n",
       "\t<tr><td>-0.4171889431</td><td> 0.5249555391</td><td>-0.3869068   </td></tr>\n",
       "\t<tr><td>-0.4300414472</td><td> 0.7553186564</td><td> 0.7214037   </td></tr>\n",
       "\t<tr><td>-0.3645207033</td><td> 1.4754639170</td><td> 0.3817956   </td></tr>\n",
       "\t<tr><td>-0.5681754721</td><td> 0.3961607956</td><td>-1.3050276   </td></tr>\n",
       "\t<tr><td>-1.6031064643</td><td>-2.1443099559</td><td> 1.9257416   </td></tr>\n",
       "\t<tr><td> 1.4366416664</td><td>-1.4662129312</td><td> 0.5505636   </td></tr>\n",
       "\t<tr><td> 0.0301936656</td><td> 0.6808379633</td><td>-0.4236207   </td></tr>\n",
       "\t<tr><td>-0.1046480233</td><td>-0.7314293495</td><td> 0.7532712   </td></tr>\n",
       "\t<tr><td>-0.8653138300</td><td> 1.8903278629</td><td>-0.4690059   </td></tr>\n",
       "</tbody>\n",
       "</table>\n"
      ],
      "text/latex": [
       "\\begin{tabular}{lll}\n",
       "\t  0.0507075269 & -0.1947750095 &  0.1709067   \\\\\n",
       "\t -0.9812011724 &  0.5928191512 & -2.2516112   \\\\\n",
       "\t  0.6940828216 &  0.8428478830 &  0.3572931   \\\\\n",
       "\t -0.5811695637 & -0.0004618632 &  0.4803047   \\\\\n",
       "\t -1.0213640541 & -0.3189985462 & -0.6931989   \\\\\n",
       "\t  0.3514801109 & -0.0980633188 &  1.0095001   \\\\\n",
       "\t  0.0006197855 & -1.6439891986 & -1.7724997   \\\\\n",
       "\t -0.1051041286 &  0.9246962998 &  2.2321932   \\\\\n",
       "\t  1.9727930103 & -2.4073106610 &  0.4939881   \\\\\n",
       "\t  0.2089191602 & -1.4434873353 & -0.8130472   \\\\\n",
       "\t -0.1147325439 & -0.2138912254 &  1.3621735   \\\\\n",
       "\t -0.4171889431 &  0.5249555391 & -0.3869068   \\\\\n",
       "\t -0.4300414472 &  0.7553186564 &  0.7214037   \\\\\n",
       "\t -0.3645207033 &  1.4754639170 &  0.3817956   \\\\\n",
       "\t -0.5681754721 &  0.3961607956 & -1.3050276   \\\\\n",
       "\t -1.6031064643 & -2.1443099559 &  1.9257416   \\\\\n",
       "\t  1.4366416664 & -1.4662129312 &  0.5505636   \\\\\n",
       "\t  0.0301936656 &  0.6808379633 & -0.4236207   \\\\\n",
       "\t -0.1046480233 & -0.7314293495 &  0.7532712   \\\\\n",
       "\t -0.8653138300 &  1.8903278629 & -0.4690059   \\\\\n",
       "\\end{tabular}\n"
      ],
      "text/markdown": [
       "\n",
       "|  0.0507075269 | -0.1947750095 |  0.1709067    |\n",
       "| -0.9812011724 |  0.5928191512 | -2.2516112    |\n",
       "|  0.6940828216 |  0.8428478830 |  0.3572931    |\n",
       "| -0.5811695637 | -0.0004618632 |  0.4803047    |\n",
       "| -1.0213640541 | -0.3189985462 | -0.6931989    |\n",
       "|  0.3514801109 | -0.0980633188 |  1.0095001    |\n",
       "|  0.0006197855 | -1.6439891986 | -1.7724997    |\n",
       "| -0.1051041286 |  0.9246962998 |  2.2321932    |\n",
       "|  1.9727930103 | -2.4073106610 |  0.4939881    |\n",
       "|  0.2089191602 | -1.4434873353 | -0.8130472    |\n",
       "| -0.1147325439 | -0.2138912254 |  1.3621735    |\n",
       "| -0.4171889431 |  0.5249555391 | -0.3869068    |\n",
       "| -0.4300414472 |  0.7553186564 |  0.7214037    |\n",
       "| -0.3645207033 |  1.4754639170 |  0.3817956    |\n",
       "| -0.5681754721 |  0.3961607956 | -1.3050276    |\n",
       "| -1.6031064643 | -2.1443099559 |  1.9257416    |\n",
       "|  1.4366416664 | -1.4662129312 |  0.5505636    |\n",
       "|  0.0301936656 |  0.6808379633 | -0.4236207    |\n",
       "| -0.1046480233 | -0.7314293495 |  0.7532712    |\n",
       "| -0.8653138300 |  1.8903278629 | -0.4690059    |\n",
       "\n"
      ],
      "text/plain": [
       "      [,1]          [,2]          [,3]      \n",
       " [1,]  0.0507075269 -0.1947750095  0.1709067\n",
       " [2,] -0.9812011724  0.5928191512 -2.2516112\n",
       " [3,]  0.6940828216  0.8428478830  0.3572931\n",
       " [4,] -0.5811695637 -0.0004618632  0.4803047\n",
       " [5,] -1.0213640541 -0.3189985462 -0.6931989\n",
       " [6,]  0.3514801109 -0.0980633188  1.0095001\n",
       " [7,]  0.0006197855 -1.6439891986 -1.7724997\n",
       " [8,] -0.1051041286  0.9246962998  2.2321932\n",
       " [9,]  1.9727930103 -2.4073106610  0.4939881\n",
       "[10,]  0.2089191602 -1.4434873353 -0.8130472\n",
       "[11,] -0.1147325439 -0.2138912254  1.3621735\n",
       "[12,] -0.4171889431  0.5249555391 -0.3869068\n",
       "[13,] -0.4300414472  0.7553186564  0.7214037\n",
       "[14,] -0.3645207033  1.4754639170  0.3817956\n",
       "[15,] -0.5681754721  0.3961607956 -1.3050276\n",
       "[16,] -1.6031064643 -2.1443099559  1.9257416\n",
       "[17,]  1.4366416664 -1.4662129312  0.5505636\n",
       "[18,]  0.0301936656  0.6808379633 -0.4236207\n",
       "[19,] -0.1046480233 -0.7314293495  0.7532712\n",
       "[20,] -0.8653138300  1.8903278629 -0.4690059"
      ]
     },
     "metadata": {},
     "output_type": "display_data"
    },
    {
     "data": {
      "text/html": [
       "20"
      ],
      "text/latex": [
       "20"
      ],
      "text/markdown": [
       "20"
      ],
      "text/plain": [
       "[1] 20"
      ]
     },
     "metadata": {},
     "output_type": "display_data"
    }
   ],
   "source": [
    "m = matrix(rnorm(60),20,3)\n",
    "\n",
    "m\n",
    "\n",
    "nrow(m)"
   ]
  },
  {
   "cell_type": "code",
   "execution_count": 147,
   "metadata": {},
   "outputs": [
    {
     "data": {
      "text/html": [
       "<ol class=list-inline>\n",
       "\t<li>5</li>\n",
       "\t<li>3</li>\n",
       "\t<li>15</li>\n",
       "\t<li>10</li>\n",
       "\t<li>7</li>\n",
       "\t<li>18</li>\n",
       "\t<li>9</li>\n",
       "\t<li>16</li>\n",
       "\t<li>19</li>\n",
       "\t<li>4</li>\n",
       "</ol>\n"
      ],
      "text/latex": [
       "\\begin{enumerate*}\n",
       "\\item 5\n",
       "\\item 3\n",
       "\\item 15\n",
       "\\item 10\n",
       "\\item 7\n",
       "\\item 18\n",
       "\\item 9\n",
       "\\item 16\n",
       "\\item 19\n",
       "\\item 4\n",
       "\\end{enumerate*}\n"
      ],
      "text/markdown": [
       "1. 5\n",
       "2. 3\n",
       "3. 15\n",
       "4. 10\n",
       "5. 7\n",
       "6. 18\n",
       "7. 9\n",
       "8. 16\n",
       "9. 19\n",
       "10. 4\n",
       "\n",
       "\n"
      ],
      "text/plain": [
       " [1]  5  3 15 10  7 18  9 16 19  4"
      ]
     },
     "metadata": {},
     "output_type": "display_data"
    },
    {
     "data": {
      "text/html": [
       "<table>\n",
       "<tbody>\n",
       "\t<tr><td>-1.0213640541</td><td>-0.3189985462</td><td>-0.6931989   </td></tr>\n",
       "\t<tr><td> 0.6940828216</td><td> 0.8428478830</td><td> 0.3572931   </td></tr>\n",
       "\t<tr><td>-0.5681754721</td><td> 0.3961607956</td><td>-1.3050276   </td></tr>\n",
       "\t<tr><td> 0.2089191602</td><td>-1.4434873353</td><td>-0.8130472   </td></tr>\n",
       "\t<tr><td> 0.0006197855</td><td>-1.6439891986</td><td>-1.7724997   </td></tr>\n",
       "\t<tr><td> 0.0301936656</td><td> 0.6808379633</td><td>-0.4236207   </td></tr>\n",
       "\t<tr><td> 1.9727930103</td><td>-2.4073106610</td><td> 0.4939881   </td></tr>\n",
       "\t<tr><td>-1.6031064643</td><td>-2.1443099559</td><td> 1.9257416   </td></tr>\n",
       "\t<tr><td>-0.1046480233</td><td>-0.7314293495</td><td> 0.7532712   </td></tr>\n",
       "\t<tr><td>-0.5811695637</td><td>-0.0004618632</td><td> 0.4803047   </td></tr>\n",
       "</tbody>\n",
       "</table>\n"
      ],
      "text/latex": [
       "\\begin{tabular}{lll}\n",
       "\t -1.0213640541 & -0.3189985462 & -0.6931989   \\\\\n",
       "\t  0.6940828216 &  0.8428478830 &  0.3572931   \\\\\n",
       "\t -0.5681754721 &  0.3961607956 & -1.3050276   \\\\\n",
       "\t  0.2089191602 & -1.4434873353 & -0.8130472   \\\\\n",
       "\t  0.0006197855 & -1.6439891986 & -1.7724997   \\\\\n",
       "\t  0.0301936656 &  0.6808379633 & -0.4236207   \\\\\n",
       "\t  1.9727930103 & -2.4073106610 &  0.4939881   \\\\\n",
       "\t -1.6031064643 & -2.1443099559 &  1.9257416   \\\\\n",
       "\t -0.1046480233 & -0.7314293495 &  0.7532712   \\\\\n",
       "\t -0.5811695637 & -0.0004618632 &  0.4803047   \\\\\n",
       "\\end{tabular}\n"
      ],
      "text/markdown": [
       "\n",
       "| -1.0213640541 | -0.3189985462 | -0.6931989    |\n",
       "|  0.6940828216 |  0.8428478830 |  0.3572931    |\n",
       "| -0.5681754721 |  0.3961607956 | -1.3050276    |\n",
       "|  0.2089191602 | -1.4434873353 | -0.8130472    |\n",
       "|  0.0006197855 | -1.6439891986 | -1.7724997    |\n",
       "|  0.0301936656 |  0.6808379633 | -0.4236207    |\n",
       "|  1.9727930103 | -2.4073106610 |  0.4939881    |\n",
       "| -1.6031064643 | -2.1443099559 |  1.9257416    |\n",
       "| -0.1046480233 | -0.7314293495 |  0.7532712    |\n",
       "| -0.5811695637 | -0.0004618632 |  0.4803047    |\n",
       "\n"
      ],
      "text/plain": [
       "      [,1]          [,2]          [,3]      \n",
       " [1,] -1.0213640541 -0.3189985462 -0.6931989\n",
       " [2,]  0.6940828216  0.8428478830  0.3572931\n",
       " [3,] -0.5681754721  0.3961607956 -1.3050276\n",
       " [4,]  0.2089191602 -1.4434873353 -0.8130472\n",
       " [5,]  0.0006197855 -1.6439891986 -1.7724997\n",
       " [6,]  0.0301936656  0.6808379633 -0.4236207\n",
       " [7,]  1.9727930103 -2.4073106610  0.4939881\n",
       " [8,] -1.6031064643 -2.1443099559  1.9257416\n",
       " [9,] -0.1046480233 -0.7314293495  0.7532712\n",
       "[10,] -0.5811695637 -0.0004618632  0.4803047"
      ]
     },
     "metadata": {},
     "output_type": "display_data"
    },
    {
     "data": {
      "text/html": [
       "<table>\n",
       "<tbody>\n",
       "\t<tr><td> 0.05070753</td><td>-0.19477501</td><td> 0.1709067 </td></tr>\n",
       "\t<tr><td>-0.98120117</td><td> 0.59281915</td><td>-2.2516112 </td></tr>\n",
       "\t<tr><td> 0.35148011</td><td>-0.09806332</td><td> 1.0095001 </td></tr>\n",
       "\t<tr><td>-0.10510413</td><td> 0.92469630</td><td> 2.2321932 </td></tr>\n",
       "\t<tr><td>-0.11473254</td><td>-0.21389123</td><td> 1.3621735 </td></tr>\n",
       "\t<tr><td>-0.41718894</td><td> 0.52495554</td><td>-0.3869068 </td></tr>\n",
       "\t<tr><td>-0.43004145</td><td> 0.75531866</td><td> 0.7214037 </td></tr>\n",
       "\t<tr><td>-0.36452070</td><td> 1.47546392</td><td> 0.3817956 </td></tr>\n",
       "\t<tr><td> 1.43664167</td><td>-1.46621293</td><td> 0.5505636 </td></tr>\n",
       "\t<tr><td>-0.86531383</td><td> 1.89032786</td><td>-0.4690059 </td></tr>\n",
       "</tbody>\n",
       "</table>\n"
      ],
      "text/latex": [
       "\\begin{tabular}{lll}\n",
       "\t  0.05070753 & -0.19477501 &  0.1709067 \\\\\n",
       "\t -0.98120117 &  0.59281915 & -2.2516112 \\\\\n",
       "\t  0.35148011 & -0.09806332 &  1.0095001 \\\\\n",
       "\t -0.10510413 &  0.92469630 &  2.2321932 \\\\\n",
       "\t -0.11473254 & -0.21389123 &  1.3621735 \\\\\n",
       "\t -0.41718894 &  0.52495554 & -0.3869068 \\\\\n",
       "\t -0.43004145 &  0.75531866 &  0.7214037 \\\\\n",
       "\t -0.36452070 &  1.47546392 &  0.3817956 \\\\\n",
       "\t  1.43664167 & -1.46621293 &  0.5505636 \\\\\n",
       "\t -0.86531383 &  1.89032786 & -0.4690059 \\\\\n",
       "\\end{tabular}\n"
      ],
      "text/markdown": [
       "\n",
       "|  0.05070753 | -0.19477501 |  0.1709067  |\n",
       "| -0.98120117 |  0.59281915 | -2.2516112  |\n",
       "|  0.35148011 | -0.09806332 |  1.0095001  |\n",
       "| -0.10510413 |  0.92469630 |  2.2321932  |\n",
       "| -0.11473254 | -0.21389123 |  1.3621735  |\n",
       "| -0.41718894 |  0.52495554 | -0.3869068  |\n",
       "| -0.43004145 |  0.75531866 |  0.7214037  |\n",
       "| -0.36452070 |  1.47546392 |  0.3817956  |\n",
       "|  1.43664167 | -1.46621293 |  0.5505636  |\n",
       "| -0.86531383 |  1.89032786 | -0.4690059  |\n",
       "\n"
      ],
      "text/plain": [
       "      [,1]        [,2]        [,3]      \n",
       " [1,]  0.05070753 -0.19477501  0.1709067\n",
       " [2,] -0.98120117  0.59281915 -2.2516112\n",
       " [3,]  0.35148011 -0.09806332  1.0095001\n",
       " [4,] -0.10510413  0.92469630  2.2321932\n",
       " [5,] -0.11473254 -0.21389123  1.3621735\n",
       " [6,] -0.41718894  0.52495554 -0.3869068\n",
       " [7,] -0.43004145  0.75531866  0.7214037\n",
       " [8,] -0.36452070  1.47546392  0.3817956\n",
       " [9,]  1.43664167 -1.46621293  0.5505636\n",
       "[10,] -0.86531383  1.89032786 -0.4690059"
      ]
     },
     "metadata": {},
     "output_type": "display_data"
    }
   ],
   "source": [
    "res_id = sample(c(1:nrow(m)), size=10, replace = F)\n",
    "\n",
    "res_id \n",
    "\n",
    "trainset = m[res_id,]\n",
    "\n",
    "trainset\n",
    "\n",
    "testset = m[-res_id,]\n",
    "\n",
    "testset"
   ]
  },
  {
   "cell_type": "markdown",
   "metadata": {},
   "source": [
    "Thí dụ 2: Bootstrap 100 lượt từ matrix chỉ có 10 hàng:"
   ]
  },
  {
   "cell_type": "code",
   "execution_count": 157,
   "metadata": {},
   "outputs": [
    {
     "data": {
      "text/html": [
       "<table>\n",
       "<tbody>\n",
       "\t<tr><td> 0.30697499</td><td>-0.7426558 </td></tr>\n",
       "\t<tr><td>-0.32416399</td><td>-0.9787761 </td></tr>\n",
       "\t<tr><td>-0.01260183</td><td> 0.2254312 </td></tr>\n",
       "\t<tr><td>-1.59619964</td><td>-1.9024903 </td></tr>\n",
       "\t<tr><td>-1.50581191</td><td> 0.9453488 </td></tr>\n",
       "\t<tr><td>-0.44302387</td><td>-1.1362416 </td></tr>\n",
       "\t<tr><td>-0.20053721</td><td> 0.9668532 </td></tr>\n",
       "\t<tr><td> 0.90340616</td><td> 0.2462159 </td></tr>\n",
       "\t<tr><td>-1.05925239</td><td>-0.4765329 </td></tr>\n",
       "\t<tr><td> 0.27911277</td><td>-0.1127716 </td></tr>\n",
       "</tbody>\n",
       "</table>\n"
      ],
      "text/latex": [
       "\\begin{tabular}{ll}\n",
       "\t  0.30697499 & -0.7426558 \\\\\n",
       "\t -0.32416399 & -0.9787761 \\\\\n",
       "\t -0.01260183 &  0.2254312 \\\\\n",
       "\t -1.59619964 & -1.9024903 \\\\\n",
       "\t -1.50581191 &  0.9453488 \\\\\n",
       "\t -0.44302387 & -1.1362416 \\\\\n",
       "\t -0.20053721 &  0.9668532 \\\\\n",
       "\t  0.90340616 &  0.2462159 \\\\\n",
       "\t -1.05925239 & -0.4765329 \\\\\n",
       "\t  0.27911277 & -0.1127716 \\\\\n",
       "\\end{tabular}\n"
      ],
      "text/markdown": [
       "\n",
       "|  0.30697499 | -0.7426558  |\n",
       "| -0.32416399 | -0.9787761  |\n",
       "| -0.01260183 |  0.2254312  |\n",
       "| -1.59619964 | -1.9024903  |\n",
       "| -1.50581191 |  0.9453488  |\n",
       "| -0.44302387 | -1.1362416  |\n",
       "| -0.20053721 |  0.9668532  |\n",
       "|  0.90340616 |  0.2462159  |\n",
       "| -1.05925239 | -0.4765329  |\n",
       "|  0.27911277 | -0.1127716  |\n",
       "\n"
      ],
      "text/plain": [
       "      [,1]        [,2]      \n",
       " [1,]  0.30697499 -0.7426558\n",
       " [2,] -0.32416399 -0.9787761\n",
       " [3,] -0.01260183  0.2254312\n",
       " [4,] -1.59619964 -1.9024903\n",
       " [5,] -1.50581191  0.9453488\n",
       " [6,] -0.44302387 -1.1362416\n",
       " [7,] -0.20053721  0.9668532\n",
       " [8,]  0.90340616  0.2462159\n",
       " [9,] -1.05925239 -0.4765329\n",
       "[10,]  0.27911277 -0.1127716"
      ]
     },
     "metadata": {},
     "output_type": "display_data"
    },
    {
     "data": {
      "text/html": [
       "10"
      ],
      "text/latex": [
       "10"
      ],
      "text/markdown": [
       "10"
      ],
      "text/plain": [
       "[1] 10"
      ]
     },
     "metadata": {},
     "output_type": "display_data"
    }
   ],
   "source": [
    "m = matrix(rnorm(20),10,2)\n",
    "\n",
    "m\n",
    "\n",
    "nrow(m)"
   ]
  },
  {
   "cell_type": "code",
   "execution_count": 158,
   "metadata": {},
   "outputs": [
    {
     "data": {
      "text/html": [
       "<ol class=list-inline>\n",
       "\t<li>3</li>\n",
       "\t<li>5</li>\n",
       "\t<li>9</li>\n",
       "\t<li>2</li>\n",
       "\t<li>7</li>\n",
       "\t<li>3</li>\n",
       "\t<li>3</li>\n",
       "\t<li>10</li>\n",
       "\t<li>2</li>\n",
       "\t<li>2</li>\n",
       "\t<li>10</li>\n",
       "\t<li>7</li>\n",
       "\t<li>8</li>\n",
       "\t<li>8</li>\n",
       "\t<li>6</li>\n",
       "\t<li>4</li>\n",
       "\t<li>9</li>\n",
       "\t<li>5</li>\n",
       "\t<li>6</li>\n",
       "\t<li>5</li>\n",
       "\t<li>3</li>\n",
       "\t<li>4</li>\n",
       "\t<li>9</li>\n",
       "\t<li>6</li>\n",
       "\t<li>5</li>\n",
       "\t<li>7</li>\n",
       "\t<li>5</li>\n",
       "\t<li>9</li>\n",
       "\t<li>1</li>\n",
       "\t<li>4</li>\n",
       "\t<li>10</li>\n",
       "\t<li>6</li>\n",
       "\t<li>7</li>\n",
       "\t<li>10</li>\n",
       "\t<li>7</li>\n",
       "\t<li>6</li>\n",
       "\t<li>9</li>\n",
       "\t<li>4</li>\n",
       "\t<li>9</li>\n",
       "\t<li>9</li>\n",
       "\t<li>7</li>\n",
       "\t<li>1</li>\n",
       "\t<li>3</li>\n",
       "\t<li>1</li>\n",
       "\t<li>3</li>\n",
       "\t<li>2</li>\n",
       "\t<li>4</li>\n",
       "\t<li>7</li>\n",
       "\t<li>4</li>\n",
       "\t<li>7</li>\n",
       "\t<li>7</li>\n",
       "\t<li>5</li>\n",
       "\t<li>8</li>\n",
       "\t<li>8</li>\n",
       "\t<li>3</li>\n",
       "\t<li>6</li>\n",
       "\t<li>6</li>\n",
       "\t<li>8</li>\n",
       "\t<li>6</li>\n",
       "\t<li>5</li>\n",
       "\t<li>10</li>\n",
       "\t<li>2</li>\n",
       "\t<li>2</li>\n",
       "\t<li>6</li>\n",
       "\t<li>7</li>\n",
       "\t<li>8</li>\n",
       "\t<li>3</li>\n",
       "\t<li>6</li>\n",
       "\t<li>1</li>\n",
       "\t<li>7</li>\n",
       "\t<li>10</li>\n",
       "\t<li>4</li>\n",
       "\t<li>6</li>\n",
       "\t<li>1</li>\n",
       "\t<li>10</li>\n",
       "\t<li>7</li>\n",
       "\t<li>10</li>\n",
       "\t<li>3</li>\n",
       "\t<li>5</li>\n",
       "\t<li>5</li>\n",
       "\t<li>3</li>\n",
       "\t<li>9</li>\n",
       "\t<li>2</li>\n",
       "\t<li>1</li>\n",
       "\t<li>3</li>\n",
       "\t<li>5</li>\n",
       "\t<li>9</li>\n",
       "\t<li>7</li>\n",
       "\t<li>7</li>\n",
       "\t<li>3</li>\n",
       "\t<li>3</li>\n",
       "\t<li>5</li>\n",
       "\t<li>9</li>\n",
       "\t<li>8</li>\n",
       "\t<li>3</li>\n",
       "\t<li>5</li>\n",
       "\t<li>8</li>\n",
       "\t<li>1</li>\n",
       "\t<li>2</li>\n",
       "\t<li>7</li>\n",
       "</ol>\n"
      ],
      "text/latex": [
       "\\begin{enumerate*}\n",
       "\\item 3\n",
       "\\item 5\n",
       "\\item 9\n",
       "\\item 2\n",
       "\\item 7\n",
       "\\item 3\n",
       "\\item 3\n",
       "\\item 10\n",
       "\\item 2\n",
       "\\item 2\n",
       "\\item 10\n",
       "\\item 7\n",
       "\\item 8\n",
       "\\item 8\n",
       "\\item 6\n",
       "\\item 4\n",
       "\\item 9\n",
       "\\item 5\n",
       "\\item 6\n",
       "\\item 5\n",
       "\\item 3\n",
       "\\item 4\n",
       "\\item 9\n",
       "\\item 6\n",
       "\\item 5\n",
       "\\item 7\n",
       "\\item 5\n",
       "\\item 9\n",
       "\\item 1\n",
       "\\item 4\n",
       "\\item 10\n",
       "\\item 6\n",
       "\\item 7\n",
       "\\item 10\n",
       "\\item 7\n",
       "\\item 6\n",
       "\\item 9\n",
       "\\item 4\n",
       "\\item 9\n",
       "\\item 9\n",
       "\\item 7\n",
       "\\item 1\n",
       "\\item 3\n",
       "\\item 1\n",
       "\\item 3\n",
       "\\item 2\n",
       "\\item 4\n",
       "\\item 7\n",
       "\\item 4\n",
       "\\item 7\n",
       "\\item 7\n",
       "\\item 5\n",
       "\\item 8\n",
       "\\item 8\n",
       "\\item 3\n",
       "\\item 6\n",
       "\\item 6\n",
       "\\item 8\n",
       "\\item 6\n",
       "\\item 5\n",
       "\\item 10\n",
       "\\item 2\n",
       "\\item 2\n",
       "\\item 6\n",
       "\\item 7\n",
       "\\item 8\n",
       "\\item 3\n",
       "\\item 6\n",
       "\\item 1\n",
       "\\item 7\n",
       "\\item 10\n",
       "\\item 4\n",
       "\\item 6\n",
       "\\item 1\n",
       "\\item 10\n",
       "\\item 7\n",
       "\\item 10\n",
       "\\item 3\n",
       "\\item 5\n",
       "\\item 5\n",
       "\\item 3\n",
       "\\item 9\n",
       "\\item 2\n",
       "\\item 1\n",
       "\\item 3\n",
       "\\item 5\n",
       "\\item 9\n",
       "\\item 7\n",
       "\\item 7\n",
       "\\item 3\n",
       "\\item 3\n",
       "\\item 5\n",
       "\\item 9\n",
       "\\item 8\n",
       "\\item 3\n",
       "\\item 5\n",
       "\\item 8\n",
       "\\item 1\n",
       "\\item 2\n",
       "\\item 7\n",
       "\\end{enumerate*}\n"
      ],
      "text/markdown": [
       "1. 3\n",
       "2. 5\n",
       "3. 9\n",
       "4. 2\n",
       "5. 7\n",
       "6. 3\n",
       "7. 3\n",
       "8. 10\n",
       "9. 2\n",
       "10. 2\n",
       "11. 10\n",
       "12. 7\n",
       "13. 8\n",
       "14. 8\n",
       "15. 6\n",
       "16. 4\n",
       "17. 9\n",
       "18. 5\n",
       "19. 6\n",
       "20. 5\n",
       "21. 3\n",
       "22. 4\n",
       "23. 9\n",
       "24. 6\n",
       "25. 5\n",
       "26. 7\n",
       "27. 5\n",
       "28. 9\n",
       "29. 1\n",
       "30. 4\n",
       "31. 10\n",
       "32. 6\n",
       "33. 7\n",
       "34. 10\n",
       "35. 7\n",
       "36. 6\n",
       "37. 9\n",
       "38. 4\n",
       "39. 9\n",
       "40. 9\n",
       "41. 7\n",
       "42. 1\n",
       "43. 3\n",
       "44. 1\n",
       "45. 3\n",
       "46. 2\n",
       "47. 4\n",
       "48. 7\n",
       "49. 4\n",
       "50. 7\n",
       "51. 7\n",
       "52. 5\n",
       "53. 8\n",
       "54. 8\n",
       "55. 3\n",
       "56. 6\n",
       "57. 6\n",
       "58. 8\n",
       "59. 6\n",
       "60. 5\n",
       "61. 10\n",
       "62. 2\n",
       "63. 2\n",
       "64. 6\n",
       "65. 7\n",
       "66. 8\n",
       "67. 3\n",
       "68. 6\n",
       "69. 1\n",
       "70. 7\n",
       "71. 10\n",
       "72. 4\n",
       "73. 6\n",
       "74. 1\n",
       "75. 10\n",
       "76. 7\n",
       "77. 10\n",
       "78. 3\n",
       "79. 5\n",
       "80. 5\n",
       "81. 3\n",
       "82. 9\n",
       "83. 2\n",
       "84. 1\n",
       "85. 3\n",
       "86. 5\n",
       "87. 9\n",
       "88. 7\n",
       "89. 7\n",
       "90. 3\n",
       "91. 3\n",
       "92. 5\n",
       "93. 9\n",
       "94. 8\n",
       "95. 3\n",
       "96. 5\n",
       "97. 8\n",
       "98. 1\n",
       "99. 2\n",
       "100. 7\n",
       "\n",
       "\n"
      ],
      "text/plain": [
       "  [1]  3  5  9  2  7  3  3 10  2  2 10  7  8  8  6  4  9  5  6  5  3  4  9  6  5\n",
       " [26]  7  5  9  1  4 10  6  7 10  7  6  9  4  9  9  7  1  3  1  3  2  4  7  4  7\n",
       " [51]  7  5  8  8  3  6  6  8  6  5 10  2  2  6  7  8  3  6  1  7 10  4  6  1 10\n",
       " [76]  7 10  3  5  5  3  9  2  1  3  5  9  7  7  3  3  5  9  8  3  5  8  1  2  7"
      ]
     },
     "metadata": {},
     "output_type": "display_data"
    }
   ],
   "source": [
    "boot_id = sample(c(1:nrow(m)), size=100, replace = T)\n",
    "\n",
    "boot_id"
   ]
  },
  {
   "cell_type": "code",
   "execution_count": 161,
   "metadata": {},
   "outputs": [
    {
     "data": {
      "text/html": [
       "<ol class=list-inline>\n",
       "\t<li>100</li>\n",
       "\t<li>2</li>\n",
       "</ol>\n"
      ],
      "text/latex": [
       "\\begin{enumerate*}\n",
       "\\item 100\n",
       "\\item 2\n",
       "\\end{enumerate*}\n"
      ],
      "text/markdown": [
       "1. 100\n",
       "2. 2\n",
       "\n",
       "\n"
      ],
      "text/plain": [
       "[1] 100   2"
      ]
     },
     "metadata": {},
     "output_type": "display_data"
    },
    {
     "data": {
      "text/html": [
       "<table>\n",
       "<tbody>\n",
       "\t<tr><td>-0.01260183</td><td> 0.2254312 </td></tr>\n",
       "\t<tr><td>-1.50581191</td><td> 0.9453488 </td></tr>\n",
       "\t<tr><td>-1.05925239</td><td>-0.4765329 </td></tr>\n",
       "\t<tr><td>-0.32416399</td><td>-0.9787761 </td></tr>\n",
       "\t<tr><td>-0.20053721</td><td> 0.9668532 </td></tr>\n",
       "\t<tr><td>-0.01260183</td><td> 0.2254312 </td></tr>\n",
       "</tbody>\n",
       "</table>\n"
      ],
      "text/latex": [
       "\\begin{tabular}{ll}\n",
       "\t -0.01260183 &  0.2254312 \\\\\n",
       "\t -1.50581191 &  0.9453488 \\\\\n",
       "\t -1.05925239 & -0.4765329 \\\\\n",
       "\t -0.32416399 & -0.9787761 \\\\\n",
       "\t -0.20053721 &  0.9668532 \\\\\n",
       "\t -0.01260183 &  0.2254312 \\\\\n",
       "\\end{tabular}\n"
      ],
      "text/markdown": [
       "\n",
       "| -0.01260183 |  0.2254312  |\n",
       "| -1.50581191 |  0.9453488  |\n",
       "| -1.05925239 | -0.4765329  |\n",
       "| -0.32416399 | -0.9787761  |\n",
       "| -0.20053721 |  0.9668532  |\n",
       "| -0.01260183 |  0.2254312  |\n",
       "\n"
      ],
      "text/plain": [
       "     [,1]        [,2]      \n",
       "[1,] -0.01260183  0.2254312\n",
       "[2,] -1.50581191  0.9453488\n",
       "[3,] -1.05925239 -0.4765329\n",
       "[4,] -0.32416399 -0.9787761\n",
       "[5,] -0.20053721  0.9668532\n",
       "[6,] -0.01260183  0.2254312"
      ]
     },
     "metadata": {},
     "output_type": "display_data"
    }
   ],
   "source": [
    "m_boot = m[boot_id,]\n",
    "\n",
    "dim(m_boot)\n",
    "\n",
    "head(m_boot)"
   ]
  },
  {
   "cell_type": "markdown",
   "metadata": {},
   "source": [
    "## Một vài ứng dụng của matrix trong R"
   ]
  },
  {
   "cell_type": "markdown",
   "metadata": {},
   "source": [
    "### Một chút đại số tuyến tính:\n",
    "\n",
    "Ta có thể thực hiện một số thao tác, phép tính trên matrix, thí dụ:"
   ]
  },
  {
   "cell_type": "markdown",
   "metadata": {},
   "source": [
    "**Transposition**"
   ]
  },
  {
   "cell_type": "code",
   "execution_count": 20,
   "metadata": {},
   "outputs": [
    {
     "data": {
      "text/html": [
       "<table>\n",
       "<tbody>\n",
       "\t<tr><td>1</td><td>5</td></tr>\n",
       "\t<tr><td>2</td><td>6</td></tr>\n",
       "\t<tr><td>3</td><td>7</td></tr>\n",
       "\t<tr><td>4</td><td>8</td></tr>\n",
       "</tbody>\n",
       "</table>\n"
      ],
      "text/latex": [
       "\\begin{tabular}{ll}\n",
       "\t 1 & 5\\\\\n",
       "\t 2 & 6\\\\\n",
       "\t 3 & 7\\\\\n",
       "\t 4 & 8\\\\\n",
       "\\end{tabular}\n"
      ],
      "text/markdown": [
       "\n",
       "| 1 | 5 |\n",
       "| 2 | 6 |\n",
       "| 3 | 7 |\n",
       "| 4 | 8 |\n",
       "\n"
      ],
      "text/plain": [
       "     [,1] [,2]\n",
       "[1,] 1    5   \n",
       "[2,] 2    6   \n",
       "[3,] 3    7   \n",
       "[4,] 4    8   "
      ]
     },
     "metadata": {},
     "output_type": "display_data"
    },
    {
     "data": {
      "text/html": [
       "<table>\n",
       "<tbody>\n",
       "\t<tr><td>1</td><td>2</td><td>3</td><td>4</td></tr>\n",
       "\t<tr><td>5</td><td>6</td><td>7</td><td>8</td></tr>\n",
       "</tbody>\n",
       "</table>\n"
      ],
      "text/latex": [
       "\\begin{tabular}{llll}\n",
       "\t 1 & 2 & 3 & 4\\\\\n",
       "\t 5 & 6 & 7 & 8\\\\\n",
       "\\end{tabular}\n"
      ],
      "text/markdown": [
       "\n",
       "| 1 | 2 | 3 | 4 |\n",
       "| 5 | 6 | 7 | 8 |\n",
       "\n"
      ],
      "text/plain": [
       "     [,1] [,2] [,3] [,4]\n",
       "[1,] 1    2    3    4   \n",
       "[2,] 5    6    7    8   "
      ]
     },
     "metadata": {},
     "output_type": "display_data"
    }
   ],
   "source": [
    "x = matrix(c(1:8),4,2, byrow = F)\n",
    "\n",
    "x\n",
    "\n",
    "t(x)"
   ]
  },
  {
   "cell_type": "markdown",
   "metadata": {},
   "source": [
    "**Nhân matrix với scalar**"
   ]
  },
  {
   "cell_type": "code",
   "execution_count": 22,
   "metadata": {},
   "outputs": [
    {
     "data": {
      "text/html": [
       "<table>\n",
       "<tbody>\n",
       "\t<tr><td>1.2</td><td>6.0</td></tr>\n",
       "\t<tr><td>2.4</td><td>7.2</td></tr>\n",
       "\t<tr><td>3.6</td><td>8.4</td></tr>\n",
       "\t<tr><td>4.8</td><td>9.6</td></tr>\n",
       "</tbody>\n",
       "</table>\n"
      ],
      "text/latex": [
       "\\begin{tabular}{ll}\n",
       "\t 1.2 & 6.0\\\\\n",
       "\t 2.4 & 7.2\\\\\n",
       "\t 3.6 & 8.4\\\\\n",
       "\t 4.8 & 9.6\\\\\n",
       "\\end{tabular}\n"
      ],
      "text/markdown": [
       "\n",
       "| 1.2 | 6.0 |\n",
       "| 2.4 | 7.2 |\n",
       "| 3.6 | 8.4 |\n",
       "| 4.8 | 9.6 |\n",
       "\n"
      ],
      "text/plain": [
       "     [,1] [,2]\n",
       "[1,] 1.2  6.0 \n",
       "[2,] 2.4  7.2 \n",
       "[3,] 3.6  8.4 \n",
       "[4,] 4.8  9.6 "
      ]
     },
     "metadata": {},
     "output_type": "display_data"
    }
   ],
   "source": [
    "x * 1.2"
   ]
  },
  {
   "cell_type": "markdown",
   "metadata": {},
   "source": [
    "**Cộng matrix**"
   ]
  },
  {
   "cell_type": "code",
   "execution_count": 23,
   "metadata": {},
   "outputs": [
    {
     "data": {
      "text/html": [
       "<table>\n",
       "<tbody>\n",
       "\t<tr><td>1</td><td>4</td><td>7</td></tr>\n",
       "\t<tr><td>2</td><td>5</td><td>8</td></tr>\n",
       "\t<tr><td>3</td><td>6</td><td>9</td></tr>\n",
       "</tbody>\n",
       "</table>\n"
      ],
      "text/latex": [
       "\\begin{tabular}{lll}\n",
       "\t 1 & 4 & 7\\\\\n",
       "\t 2 & 5 & 8\\\\\n",
       "\t 3 & 6 & 9\\\\\n",
       "\\end{tabular}\n"
      ],
      "text/markdown": [
       "\n",
       "| 1 | 4 | 7 |\n",
       "| 2 | 5 | 8 |\n",
       "| 3 | 6 | 9 |\n",
       "\n"
      ],
      "text/plain": [
       "     [,1] [,2] [,3]\n",
       "[1,] 1    4    7   \n",
       "[2,] 2    5    8   \n",
       "[3,] 3    6    9   "
      ]
     },
     "metadata": {},
     "output_type": "display_data"
    }
   ],
   "source": [
    "x = matrix(c(1:9),3,3, byrow = F)\n",
    "\n",
    "x"
   ]
  },
  {
   "cell_type": "code",
   "execution_count": 24,
   "metadata": {},
   "outputs": [
    {
     "data": {
      "text/html": [
       "<table>\n",
       "<tbody>\n",
       "\t<tr><td>2 </td><td> 8</td><td>14</td></tr>\n",
       "\t<tr><td>4 </td><td>10</td><td>16</td></tr>\n",
       "\t<tr><td>6 </td><td>12</td><td>18</td></tr>\n",
       "</tbody>\n",
       "</table>\n"
      ],
      "text/latex": [
       "\\begin{tabular}{lll}\n",
       "\t 2  &  8 & 14\\\\\n",
       "\t 4  & 10 & 16\\\\\n",
       "\t 6  & 12 & 18\\\\\n",
       "\\end{tabular}\n"
      ],
      "text/markdown": [
       "\n",
       "| 2  |  8 | 14 |\n",
       "| 4  | 10 | 16 |\n",
       "| 6  | 12 | 18 |\n",
       "\n"
      ],
      "text/plain": [
       "     [,1] [,2] [,3]\n",
       "[1,] 2     8   14  \n",
       "[2,] 4    10   16  \n",
       "[3,] 6    12   18  "
      ]
     },
     "metadata": {},
     "output_type": "display_data"
    }
   ],
   "source": [
    "x + x"
   ]
  },
  {
   "cell_type": "markdown",
   "metadata": {},
   "source": [
    "**Phép nhân ma trận**"
   ]
  },
  {
   "cell_type": "code",
   "execution_count": 25,
   "metadata": {},
   "outputs": [
    {
     "data": {
      "text/html": [
       "<table>\n",
       "<tbody>\n",
       "\t<tr><td>30 </td><td>66 </td><td>102</td></tr>\n",
       "\t<tr><td>36 </td><td>81 </td><td>126</td></tr>\n",
       "\t<tr><td>42 </td><td>96 </td><td>150</td></tr>\n",
       "</tbody>\n",
       "</table>\n"
      ],
      "text/latex": [
       "\\begin{tabular}{lll}\n",
       "\t 30  & 66  & 102\\\\\n",
       "\t 36  & 81  & 126\\\\\n",
       "\t 42  & 96  & 150\\\\\n",
       "\\end{tabular}\n"
      ],
      "text/markdown": [
       "\n",
       "| 30  | 66  | 102 |\n",
       "| 36  | 81  | 126 |\n",
       "| 42  | 96  | 150 |\n",
       "\n"
      ],
      "text/plain": [
       "     [,1] [,2] [,3]\n",
       "[1,] 30   66   102 \n",
       "[2,] 36   81   126 \n",
       "[3,] 42   96   150 "
      ]
     },
     "metadata": {},
     "output_type": "display_data"
    }
   ],
   "source": [
    "x%*%x"
   ]
  },
  {
   "cell_type": "markdown",
   "metadata": {},
   "source": [
    "### Ứng dụng ma trận vào thống kê\n",
    "\n",
    "#### Design matrix và liên hệ với thống kê cổ điển"
   ]
  },
  {
   "cell_type": "markdown",
   "metadata": {},
   "source": [
    "Khả năng thao tác và tính toán trên matrix đã góp phần rất quan trọng tạo nên sức mạnh của R như một công cụ thống kê. Hầu như tất cả các phương pháp thống kê cổ điển đều có liên quan đến ma trận, trong bài này Nhi chỉ đề cập đến 2 ứng dụng nổi bật nhất của matrix, đó là hồi quy tuyến tính và phân tích tương quan.\n",
    "\n",
    "Trước hết, ta tạo dữ liệu mô phỏng gồm 2 biến categorical: Phân nhóm (F1) và Điều trị (F2), cùng 3 biến định lượng liên tục X1, X2, X3. Với hàm cbind, ta tạo ra 1 ma trận dữ liệu 10x5 chứa toàn số.\n",
    "\n",
    "Bước tiếp theo, ta sẽ bàn về design (model) matrix trong mô hình tuyến tính và cách tạo ra design matrix trong R:"
   ]
  },
  {
   "cell_type": "code",
   "execution_count": 28,
   "metadata": {},
   "outputs": [
    {
     "data": {
      "text/html": [
       "TRUE"
      ],
      "text/latex": [
       "TRUE"
      ],
      "text/markdown": [
       "TRUE"
      ],
      "text/plain": [
       "[1] TRUE"
      ]
     },
     "metadata": {},
     "output_type": "display_data"
    },
    {
     "data": {
      "text/html": [
       "<table>\n",
       "<thead><tr><th scope=col>F1</th><th scope=col>F2</th><th scope=col>X1</th><th scope=col>X2</th><th scope=col>X3</th></tr></thead>\n",
       "<tbody>\n",
       "\t<tr><td>1         </td><td>1         </td><td> 8.879049 </td><td>3.400771  </td><td>-0.6250393</td></tr>\n",
       "\t<tr><td>2         </td><td>1         </td><td> 9.539645 </td><td>3.110683  </td><td>-1.6866933</td></tr>\n",
       "\t<tr><td>1         </td><td>2         </td><td>13.117417 </td><td>2.444159  </td><td> 0.8377870</td></tr>\n",
       "\t<tr><td>2         </td><td>2         </td><td>10.141017 </td><td>4.786913  </td><td> 0.1533731</td></tr>\n",
       "\t<tr><td>1         </td><td>3         </td><td>10.258575 </td><td>3.497850  </td><td>-1.1381369</td></tr>\n",
       "\t<tr><td>2         </td><td>3         </td><td>13.430130 </td><td>1.033383  </td><td> 1.2538149</td></tr>\n",
       "\t<tr><td>1         </td><td>1         </td><td>10.921832 </td><td>3.701356  </td><td> 0.4264642</td></tr>\n",
       "\t<tr><td>2         </td><td>1         </td><td> 7.469878 </td><td>2.527209  </td><td>-0.2950715</td></tr>\n",
       "\t<tr><td>1         </td><td>2         </td><td> 8.626294 </td><td>1.932176  </td><td> 0.8951257</td></tr>\n",
       "\t<tr><td>2         </td><td>2         </td><td> 9.108676 </td><td>2.782025  </td><td> 0.8781335</td></tr>\n",
       "\t<tr><td>1         </td><td>3         </td><td>12.448164 </td><td>1.973996  </td><td> 0.8215811</td></tr>\n",
       "\t<tr><td>2         </td><td>3         </td><td>10.719628 </td><td>2.271109  </td><td> 0.6886403</td></tr>\n",
       "</tbody>\n",
       "</table>\n"
      ],
      "text/latex": [
       "\\begin{tabular}{lllll}\n",
       " F1 & F2 & X1 & X2 & X3\\\\\n",
       "\\hline\n",
       "\t 1          & 1          &  8.879049  & 3.400771   & -0.6250393\\\\\n",
       "\t 2          & 1          &  9.539645  & 3.110683   & -1.6866933\\\\\n",
       "\t 1          & 2          & 13.117417  & 2.444159   &  0.8377870\\\\\n",
       "\t 2          & 2          & 10.141017  & 4.786913   &  0.1533731\\\\\n",
       "\t 1          & 3          & 10.258575  & 3.497850   & -1.1381369\\\\\n",
       "\t 2          & 3          & 13.430130  & 1.033383   &  1.2538149\\\\\n",
       "\t 1          & 1          & 10.921832  & 3.701356   &  0.4264642\\\\\n",
       "\t 2          & 1          &  7.469878  & 2.527209   & -0.2950715\\\\\n",
       "\t 1          & 2          &  8.626294  & 1.932176   &  0.8951257\\\\\n",
       "\t 2          & 2          &  9.108676  & 2.782025   &  0.8781335\\\\\n",
       "\t 1          & 3          & 12.448164  & 1.973996   &  0.8215811\\\\\n",
       "\t 2          & 3          & 10.719628  & 2.271109   &  0.6886403\\\\\n",
       "\\end{tabular}\n"
      ],
      "text/markdown": [
       "\n",
       "| F1 | F2 | X1 | X2 | X3 |\n",
       "|---|---|---|---|---|\n",
       "| 1          | 1          |  8.879049  | 3.400771   | -0.6250393 |\n",
       "| 2          | 1          |  9.539645  | 3.110683   | -1.6866933 |\n",
       "| 1          | 2          | 13.117417  | 2.444159   |  0.8377870 |\n",
       "| 2          | 2          | 10.141017  | 4.786913   |  0.1533731 |\n",
       "| 1          | 3          | 10.258575  | 3.497850   | -1.1381369 |\n",
       "| 2          | 3          | 13.430130  | 1.033383   |  1.2538149 |\n",
       "| 1          | 1          | 10.921832  | 3.701356   |  0.4264642 |\n",
       "| 2          | 1          |  7.469878  | 2.527209   | -0.2950715 |\n",
       "| 1          | 2          |  8.626294  | 1.932176   |  0.8951257 |\n",
       "| 2          | 2          |  9.108676  | 2.782025   |  0.8781335 |\n",
       "| 1          | 3          | 12.448164  | 1.973996   |  0.8215811 |\n",
       "| 2          | 3          | 10.719628  | 2.271109   |  0.6886403 |\n",
       "\n"
      ],
      "text/plain": [
       "      F1 F2 X1        X2       X3        \n",
       " [1,] 1  1   8.879049 3.400771 -0.6250393\n",
       " [2,] 2  1   9.539645 3.110683 -1.6866933\n",
       " [3,] 1  2  13.117417 2.444159  0.8377870\n",
       " [4,] 2  2  10.141017 4.786913  0.1533731\n",
       " [5,] 1  3  10.258575 3.497850 -1.1381369\n",
       " [6,] 2  3  13.430130 1.033383  1.2538149\n",
       " [7,] 1  1  10.921832 3.701356  0.4264642\n",
       " [8,] 2  1   7.469878 2.527209 -0.2950715\n",
       " [9,] 1  2   8.626294 1.932176  0.8951257\n",
       "[10,] 2  2   9.108676 2.782025  0.8781335\n",
       "[11,] 1  3  12.448164 1.973996  0.8215811\n",
       "[12,] 2  3  10.719628 2.271109  0.6886403"
      ]
     },
     "metadata": {},
     "output_type": "display_data"
    },
    {
     "data": {
      "text/html": [
       "'double'"
      ],
      "text/latex": [
       "'double'"
      ],
      "text/markdown": [
       "'double'"
      ],
      "text/plain": [
       "[1] \"double\""
      ]
     },
     "metadata": {},
     "output_type": "display_data"
    }
   ],
   "source": [
    "set.seed(123)\n",
    "\n",
    "n = 12\n",
    "\n",
    "F1=gl(2,1,n)\n",
    "levels(F1)=c(\"Group1\", \"Group2\")\n",
    "\n",
    "F2=gl(3,2,n)\n",
    "levels(F2)=c(\"Placebo\",\"Drug_A\", \"Drug_B\")\n",
    "\n",
    "X1=rnorm(n,10,2)\n",
    "\n",
    "X2=rnorm(n, 3, 1)\n",
    "\n",
    "X3=rnorm(n)\n",
    "\n",
    "data = cbind(F1,F2,X1,X2,X3)\n",
    "\n",
    "is.matrix(data)\n",
    "\n",
    "data\n",
    "\n",
    "typeof(data)"
   ]
  },
  {
   "cell_type": "markdown",
   "metadata": {},
   "source": [
    "**Thành phần tuyến tính trong design matrix, công thức và toán tử**\n",
    "\n",
    "Trong mô hình tuyến tính Y ~ X, ta có 1 vector Y chứa biến kết quả (outcome) và một ma trận chứa dữ liệu đầu vào X, gọi là model matrix hay design matrix. Khi làm việc với R, các thành phần tuyến tính (factors, predictors, covariates...) được đưa vào model matrix X thông qua công thức (formula) và liên kết với nhau bằng 2 toán tử : cộng thêm (+) và tương tác (*). \n",
    "\n",
    "Hai toán tử này được đề xuất bởi Wilkinson và Rogers từ năm 1973 và đưa vào ngôn ngữ lập trình thống kê S (là tiền thân của R) bởi Chambers và Hastie năm 1992. Do được quy ước sẵn trong R nên hầu hết (không phải tất cả) các package hồi quy sử dụng formula đều dùng + và * với ý nghĩa như nhau. Các bạn từng làm ANOVA hay hồi quy với hàm glm() hoặc lm() đều quen thuộc với công thức và 2 toán tử +, * ,  nhưng ở đây Nhi sẽ nhắc lại về cú pháp của công thức hồi quy cho các bạn mới làm quen với R :\n",
    "\n",
    "**Toán tử +**\n",
    "\n",
    "Toán tử + có công dụng kết hợp 2 tham số hồi quy (predictors) với nhau bằng phép cộng : \n",
    "\n",
    "Thí dụ : Y ~ X1 + X2 + … Xn\n",
    "\n",
    "Nếu Xi là 1 biến liên tục, toán tử + sẽ ghép vector Xi vào matrix của mô hình hồi quy (cộng thêm 1 cột Xi). Với 2 predictors X1+X2, một mặt phẳng hồi quy sẽ được tạo ra.\n",
    "\n",
    "Nếu ta đưa vào 1 yếu tố (factor) F với nhiều level, R tự động cắt F thành nhiều biến giả (dummy variable) được mã hóa bằng giá trị 0 và 1, mỗi cột dummy variable tương ứng với 1 level.\n",
    "\n",
    "Khi mô hình có chứa intercept, và ta muốn khảo sát một yếu tố F có k levels thì chỉ có (k-1) level được mã hóa theo dạng dummy variable, level đầu tiên của F sẽ bị giản lược và không được trình bày trong mô hình sau cùng."
   ]
  },
  {
   "cell_type": "markdown",
   "metadata": {},
   "source": [
    "**Liên hệ giữa mô hình tuyến tính và phân tích định lượng**\n",
    "\n",
    "Như chúng ta đã biết, hầu hết các phương pháp thống kê cổ điển đều dựa trên nền tảng là mô hình tuyến tính, và các thiết kế nghiên cứu có thể được biểu diễn thông qua mô hình, thí dụ :\n",
    "\n",
    "Y ~ 1 là một mô hình chỉ chứa intercept, nó tương đương với việc khảo sát giá trị trung bình của Y, \n",
    "\n",
    "Y ~ X với X là 1 biến liên tục : tương đương với hồi quy đơn biến hay khảo sát tương quan tuyến tính giữa Y và X\n",
    "\n",
    "Y ~ X1 + X2 : tương đương với khảo sát quan hệ riêng phần giữa Y,X1 và X2\n",
    "\n",
    "Y ~ F với F là 1 factor có 2 level: tương đương với Student' independent sample t test\n",
    "\n",
    "Y ~ F với F là 1 factor từ 2 level trở lên : tương đương với One way ANOVA (phân tích phương sai 1 yếu tố).\n",
    "\n",
    "Y ~ X*F : tương đương với ANCOVA\n",
    "\n",
    "Y ~ F1*F2…Fn : tương đương với n ways ANOVA"
   ]
  },
  {
   "cell_type": "code",
   "execution_count": 258,
   "metadata": {},
   "outputs": [
    {
     "data": {
      "text/html": [
       "<table>\n",
       "<thead><tr><th scope=col>(Intercept)</th></tr></thead>\n",
       "<tbody>\n",
       "</tbody>\n",
       "</table>\n"
      ],
      "text/latex": [
       "\\begin{tabular}{l}\n",
       " (Intercept)\\\\\n",
       "\\hline\n",
       "\\end{tabular}\n"
      ],
      "text/markdown": [
       "\n",
       "| (Intercept) |\n",
       "|---|\n",
       "\n"
      ],
      "text/plain": [
       "     (Intercept)"
      ]
     },
     "metadata": {},
     "output_type": "display_data"
    }
   ],
   "source": [
    "model.matrix(~1)"
   ]
  },
  {
   "cell_type": "code",
   "execution_count": 29,
   "metadata": {},
   "outputs": [
    {
     "data": {
      "text/html": [
       "<table>\n",
       "<thead><tr><th scope=col>(Intercept)</th><th scope=col>X2</th></tr></thead>\n",
       "<tbody>\n",
       "\t<tr><td>1       </td><td>3.400771</td></tr>\n",
       "\t<tr><td>1       </td><td>3.110683</td></tr>\n",
       "\t<tr><td>1       </td><td>2.444159</td></tr>\n",
       "\t<tr><td>1       </td><td>4.786913</td></tr>\n",
       "\t<tr><td>1       </td><td>3.497850</td></tr>\n",
       "\t<tr><td>1       </td><td>1.033383</td></tr>\n",
       "\t<tr><td>1       </td><td>3.701356</td></tr>\n",
       "\t<tr><td>1       </td><td>2.527209</td></tr>\n",
       "\t<tr><td>1       </td><td>1.932176</td></tr>\n",
       "\t<tr><td>1       </td><td>2.782025</td></tr>\n",
       "\t<tr><td>1       </td><td>1.973996</td></tr>\n",
       "\t<tr><td>1       </td><td>2.271109</td></tr>\n",
       "</tbody>\n",
       "</table>\n"
      ],
      "text/latex": [
       "\\begin{tabular}{r|ll}\n",
       " (Intercept) & X2\\\\\n",
       "\\hline\n",
       "\t 1        & 3.400771\\\\\n",
       "\t 1        & 3.110683\\\\\n",
       "\t 1        & 2.444159\\\\\n",
       "\t 1        & 4.786913\\\\\n",
       "\t 1        & 3.497850\\\\\n",
       "\t 1        & 1.033383\\\\\n",
       "\t 1        & 3.701356\\\\\n",
       "\t 1        & 2.527209\\\\\n",
       "\t 1        & 1.932176\\\\\n",
       "\t 1        & 2.782025\\\\\n",
       "\t 1        & 1.973996\\\\\n",
       "\t 1        & 2.271109\\\\\n",
       "\\end{tabular}\n"
      ],
      "text/markdown": [
       "\n",
       "| (Intercept) | X2 |\n",
       "|---|---|\n",
       "| 1        | 3.400771 |\n",
       "| 1        | 3.110683 |\n",
       "| 1        | 2.444159 |\n",
       "| 1        | 4.786913 |\n",
       "| 1        | 3.497850 |\n",
       "| 1        | 1.033383 |\n",
       "| 1        | 3.701356 |\n",
       "| 1        | 2.527209 |\n",
       "| 1        | 1.932176 |\n",
       "| 1        | 2.782025 |\n",
       "| 1        | 1.973996 |\n",
       "| 1        | 2.271109 |\n",
       "\n"
      ],
      "text/plain": [
       "   (Intercept) X2      \n",
       "1  1           3.400771\n",
       "2  1           3.110683\n",
       "3  1           2.444159\n",
       "4  1           4.786913\n",
       "5  1           3.497850\n",
       "6  1           1.033383\n",
       "7  1           3.701356\n",
       "8  1           2.527209\n",
       "9  1           1.932176\n",
       "10 1           2.782025\n",
       "11 1           1.973996\n",
       "12 1           2.271109"
      ]
     },
     "metadata": {},
     "output_type": "display_data"
    }
   ],
   "source": [
    "model.matrix(~X2)"
   ]
  },
  {
   "cell_type": "code",
   "execution_count": 260,
   "metadata": {},
   "outputs": [
    {
     "data": {
      "text/html": [
       "<table>\n",
       "<thead><tr><th scope=col>(Intercept)</th><th scope=col>F1Group2</th></tr></thead>\n",
       "<tbody>\n",
       "\t<tr><td>1</td><td>0</td></tr>\n",
       "\t<tr><td>1</td><td>1</td></tr>\n",
       "\t<tr><td>1</td><td>0</td></tr>\n",
       "\t<tr><td>1</td><td>1</td></tr>\n",
       "\t<tr><td>1</td><td>0</td></tr>\n",
       "\t<tr><td>1</td><td>1</td></tr>\n",
       "\t<tr><td>1</td><td>0</td></tr>\n",
       "\t<tr><td>1</td><td>1</td></tr>\n",
       "\t<tr><td>1</td><td>0</td></tr>\n",
       "\t<tr><td>1</td><td>1</td></tr>\n",
       "\t<tr><td>1</td><td>0</td></tr>\n",
       "\t<tr><td>1</td><td>1</td></tr>\n",
       "</tbody>\n",
       "</table>\n"
      ],
      "text/latex": [
       "\\begin{tabular}{r|ll}\n",
       " (Intercept) & F1Group2\\\\\n",
       "\\hline\n",
       "\t 1 & 0\\\\\n",
       "\t 1 & 1\\\\\n",
       "\t 1 & 0\\\\\n",
       "\t 1 & 1\\\\\n",
       "\t 1 & 0\\\\\n",
       "\t 1 & 1\\\\\n",
       "\t 1 & 0\\\\\n",
       "\t 1 & 1\\\\\n",
       "\t 1 & 0\\\\\n",
       "\t 1 & 1\\\\\n",
       "\t 1 & 0\\\\\n",
       "\t 1 & 1\\\\\n",
       "\\end{tabular}\n"
      ],
      "text/markdown": [
       "\n",
       "| (Intercept) | F1Group2 |\n",
       "|---|---|\n",
       "| 1 | 0 |\n",
       "| 1 | 1 |\n",
       "| 1 | 0 |\n",
       "| 1 | 1 |\n",
       "| 1 | 0 |\n",
       "| 1 | 1 |\n",
       "| 1 | 0 |\n",
       "| 1 | 1 |\n",
       "| 1 | 0 |\n",
       "| 1 | 1 |\n",
       "| 1 | 0 |\n",
       "| 1 | 1 |\n",
       "\n"
      ],
      "text/plain": [
       "   (Intercept) F1Group2\n",
       "1  1           0       \n",
       "2  1           1       \n",
       "3  1           0       \n",
       "4  1           1       \n",
       "5  1           0       \n",
       "6  1           1       \n",
       "7  1           0       \n",
       "8  1           1       \n",
       "9  1           0       \n",
       "10 1           1       \n",
       "11 1           0       \n",
       "12 1           1       "
      ]
     },
     "metadata": {},
     "output_type": "display_data"
    }
   ],
   "source": [
    "model.matrix(~F1)"
   ]
  },
  {
   "cell_type": "code",
   "execution_count": 31,
   "metadata": {},
   "outputs": [
    {
     "data": {
      "text/html": [
       "<table>\n",
       "<thead><tr><th scope=col>F1Group1</th><th scope=col>F1Group2</th></tr></thead>\n",
       "<tbody>\n",
       "\t<tr><td>1</td><td>0</td></tr>\n",
       "\t<tr><td>0</td><td>1</td></tr>\n",
       "\t<tr><td>1</td><td>0</td></tr>\n",
       "\t<tr><td>0</td><td>1</td></tr>\n",
       "\t<tr><td>1</td><td>0</td></tr>\n",
       "\t<tr><td>0</td><td>1</td></tr>\n",
       "\t<tr><td>1</td><td>0</td></tr>\n",
       "\t<tr><td>0</td><td>1</td></tr>\n",
       "\t<tr><td>1</td><td>0</td></tr>\n",
       "\t<tr><td>0</td><td>1</td></tr>\n",
       "\t<tr><td>1</td><td>0</td></tr>\n",
       "\t<tr><td>0</td><td>1</td></tr>\n",
       "</tbody>\n",
       "</table>\n"
      ],
      "text/latex": [
       "\\begin{tabular}{r|ll}\n",
       " F1Group1 & F1Group2\\\\\n",
       "\\hline\n",
       "\t 1 & 0\\\\\n",
       "\t 0 & 1\\\\\n",
       "\t 1 & 0\\\\\n",
       "\t 0 & 1\\\\\n",
       "\t 1 & 0\\\\\n",
       "\t 0 & 1\\\\\n",
       "\t 1 & 0\\\\\n",
       "\t 0 & 1\\\\\n",
       "\t 1 & 0\\\\\n",
       "\t 0 & 1\\\\\n",
       "\t 1 & 0\\\\\n",
       "\t 0 & 1\\\\\n",
       "\\end{tabular}\n"
      ],
      "text/markdown": [
       "\n",
       "| F1Group1 | F1Group2 |\n",
       "|---|---|\n",
       "| 1 | 0 |\n",
       "| 0 | 1 |\n",
       "| 1 | 0 |\n",
       "| 0 | 1 |\n",
       "| 1 | 0 |\n",
       "| 0 | 1 |\n",
       "| 1 | 0 |\n",
       "| 0 | 1 |\n",
       "| 1 | 0 |\n",
       "| 0 | 1 |\n",
       "| 1 | 0 |\n",
       "| 0 | 1 |\n",
       "\n"
      ],
      "text/plain": [
       "   F1Group1 F1Group2\n",
       "1  1        0       \n",
       "2  0        1       \n",
       "3  1        0       \n",
       "4  0        1       \n",
       "5  1        0       \n",
       "6  0        1       \n",
       "7  1        0       \n",
       "8  0        1       \n",
       "9  1        0       \n",
       "10 0        1       \n",
       "11 1        0       \n",
       "12 0        1       "
      ]
     },
     "metadata": {},
     "output_type": "display_data"
    }
   ],
   "source": [
    "model.matrix(~F1 - 1)"
   ]
  },
  {
   "cell_type": "code",
   "execution_count": 30,
   "metadata": {},
   "outputs": [
    {
     "data": {
      "text/html": [
       "<table>\n",
       "<thead><tr><th scope=col>(Intercept)</th><th scope=col>F2Drug_A</th><th scope=col>F2Drug_B</th></tr></thead>\n",
       "<tbody>\n",
       "\t<tr><td>1</td><td>0</td><td>0</td></tr>\n",
       "\t<tr><td>1</td><td>0</td><td>0</td></tr>\n",
       "\t<tr><td>1</td><td>1</td><td>0</td></tr>\n",
       "\t<tr><td>1</td><td>1</td><td>0</td></tr>\n",
       "\t<tr><td>1</td><td>0</td><td>1</td></tr>\n",
       "\t<tr><td>1</td><td>0</td><td>1</td></tr>\n",
       "\t<tr><td>1</td><td>0</td><td>0</td></tr>\n",
       "\t<tr><td>1</td><td>0</td><td>0</td></tr>\n",
       "\t<tr><td>1</td><td>1</td><td>0</td></tr>\n",
       "\t<tr><td>1</td><td>1</td><td>0</td></tr>\n",
       "\t<tr><td>1</td><td>0</td><td>1</td></tr>\n",
       "\t<tr><td>1</td><td>0</td><td>1</td></tr>\n",
       "</tbody>\n",
       "</table>\n"
      ],
      "text/latex": [
       "\\begin{tabular}{r|lll}\n",
       " (Intercept) & F2Drug\\_A & F2Drug\\_B\\\\\n",
       "\\hline\n",
       "\t 1 & 0 & 0\\\\\n",
       "\t 1 & 0 & 0\\\\\n",
       "\t 1 & 1 & 0\\\\\n",
       "\t 1 & 1 & 0\\\\\n",
       "\t 1 & 0 & 1\\\\\n",
       "\t 1 & 0 & 1\\\\\n",
       "\t 1 & 0 & 0\\\\\n",
       "\t 1 & 0 & 0\\\\\n",
       "\t 1 & 1 & 0\\\\\n",
       "\t 1 & 1 & 0\\\\\n",
       "\t 1 & 0 & 1\\\\\n",
       "\t 1 & 0 & 1\\\\\n",
       "\\end{tabular}\n"
      ],
      "text/markdown": [
       "\n",
       "| (Intercept) | F2Drug_A | F2Drug_B |\n",
       "|---|---|---|\n",
       "| 1 | 0 | 0 |\n",
       "| 1 | 0 | 0 |\n",
       "| 1 | 1 | 0 |\n",
       "| 1 | 1 | 0 |\n",
       "| 1 | 0 | 1 |\n",
       "| 1 | 0 | 1 |\n",
       "| 1 | 0 | 0 |\n",
       "| 1 | 0 | 0 |\n",
       "| 1 | 1 | 0 |\n",
       "| 1 | 1 | 0 |\n",
       "| 1 | 0 | 1 |\n",
       "| 1 | 0 | 1 |\n",
       "\n"
      ],
      "text/plain": [
       "   (Intercept) F2Drug_A F2Drug_B\n",
       "1  1           0        0       \n",
       "2  1           0        0       \n",
       "3  1           1        0       \n",
       "4  1           1        0       \n",
       "5  1           0        1       \n",
       "6  1           0        1       \n",
       "7  1           0        0       \n",
       "8  1           0        0       \n",
       "9  1           1        0       \n",
       "10 1           1        0       \n",
       "11 1           0        1       \n",
       "12 1           0        1       "
      ]
     },
     "metadata": {},
     "output_type": "display_data"
    }
   ],
   "source": [
    "model.matrix(~F2)"
   ]
  },
  {
   "cell_type": "code",
   "execution_count": 32,
   "metadata": {},
   "outputs": [
    {
     "data": {
      "text/html": [
       "<table>\n",
       "<thead><tr><th scope=col>F2Placebo</th><th scope=col>F2Drug_A</th><th scope=col>F2Drug_B</th></tr></thead>\n",
       "<tbody>\n",
       "\t<tr><td>1</td><td>0</td><td>0</td></tr>\n",
       "\t<tr><td>1</td><td>0</td><td>0</td></tr>\n",
       "\t<tr><td>0</td><td>1</td><td>0</td></tr>\n",
       "\t<tr><td>0</td><td>1</td><td>0</td></tr>\n",
       "\t<tr><td>0</td><td>0</td><td>1</td></tr>\n",
       "\t<tr><td>0</td><td>0</td><td>1</td></tr>\n",
       "\t<tr><td>1</td><td>0</td><td>0</td></tr>\n",
       "\t<tr><td>1</td><td>0</td><td>0</td></tr>\n",
       "\t<tr><td>0</td><td>1</td><td>0</td></tr>\n",
       "\t<tr><td>0</td><td>1</td><td>0</td></tr>\n",
       "\t<tr><td>0</td><td>0</td><td>1</td></tr>\n",
       "\t<tr><td>0</td><td>0</td><td>1</td></tr>\n",
       "</tbody>\n",
       "</table>\n"
      ],
      "text/latex": [
       "\\begin{tabular}{r|lll}\n",
       " F2Placebo & F2Drug\\_A & F2Drug\\_B\\\\\n",
       "\\hline\n",
       "\t 1 & 0 & 0\\\\\n",
       "\t 1 & 0 & 0\\\\\n",
       "\t 0 & 1 & 0\\\\\n",
       "\t 0 & 1 & 0\\\\\n",
       "\t 0 & 0 & 1\\\\\n",
       "\t 0 & 0 & 1\\\\\n",
       "\t 1 & 0 & 0\\\\\n",
       "\t 1 & 0 & 0\\\\\n",
       "\t 0 & 1 & 0\\\\\n",
       "\t 0 & 1 & 0\\\\\n",
       "\t 0 & 0 & 1\\\\\n",
       "\t 0 & 0 & 1\\\\\n",
       "\\end{tabular}\n"
      ],
      "text/markdown": [
       "\n",
       "| F2Placebo | F2Drug_A | F2Drug_B |\n",
       "|---|---|---|\n",
       "| 1 | 0 | 0 |\n",
       "| 1 | 0 | 0 |\n",
       "| 0 | 1 | 0 |\n",
       "| 0 | 1 | 0 |\n",
       "| 0 | 0 | 1 |\n",
       "| 0 | 0 | 1 |\n",
       "| 1 | 0 | 0 |\n",
       "| 1 | 0 | 0 |\n",
       "| 0 | 1 | 0 |\n",
       "| 0 | 1 | 0 |\n",
       "| 0 | 0 | 1 |\n",
       "| 0 | 0 | 1 |\n",
       "\n"
      ],
      "text/plain": [
       "   F2Placebo F2Drug_A F2Drug_B\n",
       "1  1         0        0       \n",
       "2  1         0        0       \n",
       "3  0         1        0       \n",
       "4  0         1        0       \n",
       "5  0         0        1       \n",
       "6  0         0        1       \n",
       "7  1         0        0       \n",
       "8  1         0        0       \n",
       "9  0         1        0       \n",
       "10 0         1        0       \n",
       "11 0         0        1       \n",
       "12 0         0        1       "
      ]
     },
     "metadata": {},
     "output_type": "display_data"
    }
   ],
   "source": [
    "model.matrix(~F2 - 1)"
   ]
  },
  {
   "cell_type": "markdown",
   "metadata": {},
   "source": [
    "**Toán tử tương tác**\n",
    "\n",
    "Toán tử * có công dụng biểu diễn một sự tương tác giữa 2 hay nhiều predictors, chúng có thể là biến liên tục hay yếu tố , thí dụ :\n",
    "\n",
    "Y ~ X1*X2\n",
    "\n",
    "Y ~ X*F\n",
    "\n",
    "Y ~ F1*F2\n",
    "\n",
    "Lưu ý rằng khi viết X1 * X2, thực ra ta muốn xét cả 3 hiệu ứng : 2 hiệu ứng riêng phần của X1 và X2, và hiệu ứng tương tác giữa chúng, do đó :\n",
    "\n",
    "Y ~ X1 * X2 tương đương : Y ~ X1 +X2 + X1:X2\n",
    "\n",
    "Tương tác giữa 2 factors F1 (k1 level) và F2 (k2 level) sẽ tạo ra design matrix (k1-1) * (k2-1)\n",
    "\n",
    "và (k1-1) + (k2-1) hay (k1 * k2)-1 cột dummy variable cho hiệu ứng chính và hiệu ứng tương tác.\n",
    "\n",
    "Thí dụ F1 có 2 level (a,b), F2 có 3 level là (1,2,3) thì sẽ có 5 dummy variable gồm F1b, F22, F23, F1B :F22, F1B :F23"
   ]
  },
  {
   "cell_type": "code",
   "execution_count": 33,
   "metadata": {},
   "outputs": [
    {
     "data": {
      "text/html": [
       "<table>\n",
       "<thead><tr><th scope=col>(Intercept)</th><th scope=col>F1Group2</th><th scope=col>F2Drug_A</th><th scope=col>F2Drug_B</th><th scope=col>F1Group2:F2Drug_A</th><th scope=col>F1Group2:F2Drug_B</th></tr></thead>\n",
       "<tbody>\n",
       "\t<tr><td>1</td><td>0</td><td>0</td><td>0</td><td>0</td><td>0</td></tr>\n",
       "\t<tr><td>1</td><td>1</td><td>0</td><td>0</td><td>0</td><td>0</td></tr>\n",
       "\t<tr><td>1</td><td>0</td><td>1</td><td>0</td><td>0</td><td>0</td></tr>\n",
       "\t<tr><td>1</td><td>1</td><td>1</td><td>0</td><td>1</td><td>0</td></tr>\n",
       "\t<tr><td>1</td><td>0</td><td>0</td><td>1</td><td>0</td><td>0</td></tr>\n",
       "\t<tr><td>1</td><td>1</td><td>0</td><td>1</td><td>0</td><td>1</td></tr>\n",
       "\t<tr><td>1</td><td>0</td><td>0</td><td>0</td><td>0</td><td>0</td></tr>\n",
       "\t<tr><td>1</td><td>1</td><td>0</td><td>0</td><td>0</td><td>0</td></tr>\n",
       "\t<tr><td>1</td><td>0</td><td>1</td><td>0</td><td>0</td><td>0</td></tr>\n",
       "\t<tr><td>1</td><td>1</td><td>1</td><td>0</td><td>1</td><td>0</td></tr>\n",
       "\t<tr><td>1</td><td>0</td><td>0</td><td>1</td><td>0</td><td>0</td></tr>\n",
       "\t<tr><td>1</td><td>1</td><td>0</td><td>1</td><td>0</td><td>1</td></tr>\n",
       "</tbody>\n",
       "</table>\n"
      ],
      "text/latex": [
       "\\begin{tabular}{r|llllll}\n",
       " (Intercept) & F1Group2 & F2Drug\\_A & F2Drug\\_B & F1Group2:F2Drug\\_A & F1Group2:F2Drug\\_B\\\\\n",
       "\\hline\n",
       "\t 1 & 0 & 0 & 0 & 0 & 0\\\\\n",
       "\t 1 & 1 & 0 & 0 & 0 & 0\\\\\n",
       "\t 1 & 0 & 1 & 0 & 0 & 0\\\\\n",
       "\t 1 & 1 & 1 & 0 & 1 & 0\\\\\n",
       "\t 1 & 0 & 0 & 1 & 0 & 0\\\\\n",
       "\t 1 & 1 & 0 & 1 & 0 & 1\\\\\n",
       "\t 1 & 0 & 0 & 0 & 0 & 0\\\\\n",
       "\t 1 & 1 & 0 & 0 & 0 & 0\\\\\n",
       "\t 1 & 0 & 1 & 0 & 0 & 0\\\\\n",
       "\t 1 & 1 & 1 & 0 & 1 & 0\\\\\n",
       "\t 1 & 0 & 0 & 1 & 0 & 0\\\\\n",
       "\t 1 & 1 & 0 & 1 & 0 & 1\\\\\n",
       "\\end{tabular}\n"
      ],
      "text/markdown": [
       "\n",
       "| (Intercept) | F1Group2 | F2Drug_A | F2Drug_B | F1Group2:F2Drug_A | F1Group2:F2Drug_B |\n",
       "|---|---|---|---|---|---|\n",
       "| 1 | 0 | 0 | 0 | 0 | 0 |\n",
       "| 1 | 1 | 0 | 0 | 0 | 0 |\n",
       "| 1 | 0 | 1 | 0 | 0 | 0 |\n",
       "| 1 | 1 | 1 | 0 | 1 | 0 |\n",
       "| 1 | 0 | 0 | 1 | 0 | 0 |\n",
       "| 1 | 1 | 0 | 1 | 0 | 1 |\n",
       "| 1 | 0 | 0 | 0 | 0 | 0 |\n",
       "| 1 | 1 | 0 | 0 | 0 | 0 |\n",
       "| 1 | 0 | 1 | 0 | 0 | 0 |\n",
       "| 1 | 1 | 1 | 0 | 1 | 0 |\n",
       "| 1 | 0 | 0 | 1 | 0 | 0 |\n",
       "| 1 | 1 | 0 | 1 | 0 | 1 |\n",
       "\n"
      ],
      "text/plain": [
       "   (Intercept) F1Group2 F2Drug_A F2Drug_B F1Group2:F2Drug_A F1Group2:F2Drug_B\n",
       "1  1           0        0        0        0                 0                \n",
       "2  1           1        0        0        0                 0                \n",
       "3  1           0        1        0        0                 0                \n",
       "4  1           1        1        0        1                 0                \n",
       "5  1           0        0        1        0                 0                \n",
       "6  1           1        0        1        0                 1                \n",
       "7  1           0        0        0        0                 0                \n",
       "8  1           1        0        0        0                 0                \n",
       "9  1           0        1        0        0                 0                \n",
       "10 1           1        1        0        1                 0                \n",
       "11 1           0        0        1        0                 0                \n",
       "12 1           1        0        1        0                 1                "
      ]
     },
     "metadata": {},
     "output_type": "display_data"
    }
   ],
   "source": [
    "model.matrix(~ F1 * F2)"
   ]
  },
  {
   "cell_type": "code",
   "execution_count": 34,
   "metadata": {},
   "outputs": [
    {
     "data": {
      "text/html": [
       "<table>\n",
       "<thead><tr><th scope=col>F1Group1</th><th scope=col>F1Group2</th><th scope=col>F2Drug_A</th><th scope=col>F2Drug_B</th><th scope=col>F1Group2:F2Drug_A</th><th scope=col>F1Group2:F2Drug_B</th></tr></thead>\n",
       "<tbody>\n",
       "\t<tr><td>1</td><td>0</td><td>0</td><td>0</td><td>0</td><td>0</td></tr>\n",
       "\t<tr><td>0</td><td>1</td><td>0</td><td>0</td><td>0</td><td>0</td></tr>\n",
       "\t<tr><td>1</td><td>0</td><td>1</td><td>0</td><td>0</td><td>0</td></tr>\n",
       "\t<tr><td>0</td><td>1</td><td>1</td><td>0</td><td>1</td><td>0</td></tr>\n",
       "\t<tr><td>1</td><td>0</td><td>0</td><td>1</td><td>0</td><td>0</td></tr>\n",
       "\t<tr><td>0</td><td>1</td><td>0</td><td>1</td><td>0</td><td>1</td></tr>\n",
       "\t<tr><td>1</td><td>0</td><td>0</td><td>0</td><td>0</td><td>0</td></tr>\n",
       "\t<tr><td>0</td><td>1</td><td>0</td><td>0</td><td>0</td><td>0</td></tr>\n",
       "\t<tr><td>1</td><td>0</td><td>1</td><td>0</td><td>0</td><td>0</td></tr>\n",
       "\t<tr><td>0</td><td>1</td><td>1</td><td>0</td><td>1</td><td>0</td></tr>\n",
       "\t<tr><td>1</td><td>0</td><td>0</td><td>1</td><td>0</td><td>0</td></tr>\n",
       "\t<tr><td>0</td><td>1</td><td>0</td><td>1</td><td>0</td><td>1</td></tr>\n",
       "</tbody>\n",
       "</table>\n"
      ],
      "text/latex": [
       "\\begin{tabular}{r|llllll}\n",
       " F1Group1 & F1Group2 & F2Drug\\_A & F2Drug\\_B & F1Group2:F2Drug\\_A & F1Group2:F2Drug\\_B\\\\\n",
       "\\hline\n",
       "\t 1 & 0 & 0 & 0 & 0 & 0\\\\\n",
       "\t 0 & 1 & 0 & 0 & 0 & 0\\\\\n",
       "\t 1 & 0 & 1 & 0 & 0 & 0\\\\\n",
       "\t 0 & 1 & 1 & 0 & 1 & 0\\\\\n",
       "\t 1 & 0 & 0 & 1 & 0 & 0\\\\\n",
       "\t 0 & 1 & 0 & 1 & 0 & 1\\\\\n",
       "\t 1 & 0 & 0 & 0 & 0 & 0\\\\\n",
       "\t 0 & 1 & 0 & 0 & 0 & 0\\\\\n",
       "\t 1 & 0 & 1 & 0 & 0 & 0\\\\\n",
       "\t 0 & 1 & 1 & 0 & 1 & 0\\\\\n",
       "\t 1 & 0 & 0 & 1 & 0 & 0\\\\\n",
       "\t 0 & 1 & 0 & 1 & 0 & 1\\\\\n",
       "\\end{tabular}\n"
      ],
      "text/markdown": [
       "\n",
       "| F1Group1 | F1Group2 | F2Drug_A | F2Drug_B | F1Group2:F2Drug_A | F1Group2:F2Drug_B |\n",
       "|---|---|---|---|---|---|\n",
       "| 1 | 0 | 0 | 0 | 0 | 0 |\n",
       "| 0 | 1 | 0 | 0 | 0 | 0 |\n",
       "| 1 | 0 | 1 | 0 | 0 | 0 |\n",
       "| 0 | 1 | 1 | 0 | 1 | 0 |\n",
       "| 1 | 0 | 0 | 1 | 0 | 0 |\n",
       "| 0 | 1 | 0 | 1 | 0 | 1 |\n",
       "| 1 | 0 | 0 | 0 | 0 | 0 |\n",
       "| 0 | 1 | 0 | 0 | 0 | 0 |\n",
       "| 1 | 0 | 1 | 0 | 0 | 0 |\n",
       "| 0 | 1 | 1 | 0 | 1 | 0 |\n",
       "| 1 | 0 | 0 | 1 | 0 | 0 |\n",
       "| 0 | 1 | 0 | 1 | 0 | 1 |\n",
       "\n"
      ],
      "text/plain": [
       "   F1Group1 F1Group2 F2Drug_A F2Drug_B F1Group2:F2Drug_A F1Group2:F2Drug_B\n",
       "1  1        0        0        0        0                 0                \n",
       "2  0        1        0        0        0                 0                \n",
       "3  1        0        1        0        0                 0                \n",
       "4  0        1        1        0        1                 0                \n",
       "5  1        0        0        1        0                 0                \n",
       "6  0        1        0        1        0                 1                \n",
       "7  1        0        0        0        0                 0                \n",
       "8  0        1        0        0        0                 0                \n",
       "9  1        0        1        0        0                 0                \n",
       "10 0        1        1        0        1                 0                \n",
       "11 1        0        0        1        0                 0                \n",
       "12 0        1        0        1        0                 1                "
      ]
     },
     "metadata": {},
     "output_type": "display_data"
    }
   ],
   "source": [
    "model.matrix(~ F1 * F2 - 1)"
   ]
  },
  {
   "cell_type": "code",
   "execution_count": 35,
   "metadata": {},
   "outputs": [
    {
     "data": {
      "text/html": [
       "<table>\n",
       "<thead><tr><th scope=col>(Intercept)</th><th scope=col>F1Group2</th><th scope=col>F2Drug_A</th><th scope=col>F2Drug_B</th><th scope=col>X1</th><th scope=col>X2</th><th scope=col>X3</th><th scope=col>F1Group2:F2Drug_A</th><th scope=col>F1Group2:F2Drug_B</th></tr></thead>\n",
       "<tbody>\n",
       "\t<tr><td>1         </td><td>0         </td><td>0         </td><td>0         </td><td> 8.879049 </td><td>3.400771  </td><td>-0.6250393</td><td>0         </td><td>0         </td></tr>\n",
       "\t<tr><td>1         </td><td>1         </td><td>0         </td><td>0         </td><td> 9.539645 </td><td>3.110683  </td><td>-1.6866933</td><td>0         </td><td>0         </td></tr>\n",
       "\t<tr><td>1         </td><td>0         </td><td>1         </td><td>0         </td><td>13.117417 </td><td>2.444159  </td><td> 0.8377870</td><td>0         </td><td>0         </td></tr>\n",
       "\t<tr><td>1         </td><td>1         </td><td>1         </td><td>0         </td><td>10.141017 </td><td>4.786913  </td><td> 0.1533731</td><td>1         </td><td>0         </td></tr>\n",
       "\t<tr><td>1         </td><td>0         </td><td>0         </td><td>1         </td><td>10.258575 </td><td>3.497850  </td><td>-1.1381369</td><td>0         </td><td>0         </td></tr>\n",
       "\t<tr><td>1         </td><td>1         </td><td>0         </td><td>1         </td><td>13.430130 </td><td>1.033383  </td><td> 1.2538149</td><td>0         </td><td>1         </td></tr>\n",
       "\t<tr><td>1         </td><td>0         </td><td>0         </td><td>0         </td><td>10.921832 </td><td>3.701356  </td><td> 0.4264642</td><td>0         </td><td>0         </td></tr>\n",
       "\t<tr><td>1         </td><td>1         </td><td>0         </td><td>0         </td><td> 7.469878 </td><td>2.527209  </td><td>-0.2950715</td><td>0         </td><td>0         </td></tr>\n",
       "\t<tr><td>1         </td><td>0         </td><td>1         </td><td>0         </td><td> 8.626294 </td><td>1.932176  </td><td> 0.8951257</td><td>0         </td><td>0         </td></tr>\n",
       "\t<tr><td>1         </td><td>1         </td><td>1         </td><td>0         </td><td> 9.108676 </td><td>2.782025  </td><td> 0.8781335</td><td>1         </td><td>0         </td></tr>\n",
       "\t<tr><td>1         </td><td>0         </td><td>0         </td><td>1         </td><td>12.448164 </td><td>1.973996  </td><td> 0.8215811</td><td>0         </td><td>0         </td></tr>\n",
       "\t<tr><td>1         </td><td>1         </td><td>0         </td><td>1         </td><td>10.719628 </td><td>2.271109  </td><td> 0.6886403</td><td>0         </td><td>1         </td></tr>\n",
       "</tbody>\n",
       "</table>\n"
      ],
      "text/latex": [
       "\\begin{tabular}{r|lllllllll}\n",
       " (Intercept) & F1Group2 & F2Drug\\_A & F2Drug\\_B & X1 & X2 & X3 & F1Group2:F2Drug\\_A & F1Group2:F2Drug\\_B\\\\\n",
       "\\hline\n",
       "\t 1          & 0          & 0          & 0          &  8.879049  & 3.400771   & -0.6250393 & 0          & 0         \\\\\n",
       "\t 1          & 1          & 0          & 0          &  9.539645  & 3.110683   & -1.6866933 & 0          & 0         \\\\\n",
       "\t 1          & 0          & 1          & 0          & 13.117417  & 2.444159   &  0.8377870 & 0          & 0         \\\\\n",
       "\t 1          & 1          & 1          & 0          & 10.141017  & 4.786913   &  0.1533731 & 1          & 0         \\\\\n",
       "\t 1          & 0          & 0          & 1          & 10.258575  & 3.497850   & -1.1381369 & 0          & 0         \\\\\n",
       "\t 1          & 1          & 0          & 1          & 13.430130  & 1.033383   &  1.2538149 & 0          & 1         \\\\\n",
       "\t 1          & 0          & 0          & 0          & 10.921832  & 3.701356   &  0.4264642 & 0          & 0         \\\\\n",
       "\t 1          & 1          & 0          & 0          &  7.469878  & 2.527209   & -0.2950715 & 0          & 0         \\\\\n",
       "\t 1          & 0          & 1          & 0          &  8.626294  & 1.932176   &  0.8951257 & 0          & 0         \\\\\n",
       "\t 1          & 1          & 1          & 0          &  9.108676  & 2.782025   &  0.8781335 & 1          & 0         \\\\\n",
       "\t 1          & 0          & 0          & 1          & 12.448164  & 1.973996   &  0.8215811 & 0          & 0         \\\\\n",
       "\t 1          & 1          & 0          & 1          & 10.719628  & 2.271109   &  0.6886403 & 0          & 1         \\\\\n",
       "\\end{tabular}\n"
      ],
      "text/markdown": [
       "\n",
       "| (Intercept) | F1Group2 | F2Drug_A | F2Drug_B | X1 | X2 | X3 | F1Group2:F2Drug_A | F1Group2:F2Drug_B |\n",
       "|---|---|---|---|---|---|---|---|---|\n",
       "| 1          | 0          | 0          | 0          |  8.879049  | 3.400771   | -0.6250393 | 0          | 0          |\n",
       "| 1          | 1          | 0          | 0          |  9.539645  | 3.110683   | -1.6866933 | 0          | 0          |\n",
       "| 1          | 0          | 1          | 0          | 13.117417  | 2.444159   |  0.8377870 | 0          | 0          |\n",
       "| 1          | 1          | 1          | 0          | 10.141017  | 4.786913   |  0.1533731 | 1          | 0          |\n",
       "| 1          | 0          | 0          | 1          | 10.258575  | 3.497850   | -1.1381369 | 0          | 0          |\n",
       "| 1          | 1          | 0          | 1          | 13.430130  | 1.033383   |  1.2538149 | 0          | 1          |\n",
       "| 1          | 0          | 0          | 0          | 10.921832  | 3.701356   |  0.4264642 | 0          | 0          |\n",
       "| 1          | 1          | 0          | 0          |  7.469878  | 2.527209   | -0.2950715 | 0          | 0          |\n",
       "| 1          | 0          | 1          | 0          |  8.626294  | 1.932176   |  0.8951257 | 0          | 0          |\n",
       "| 1          | 1          | 1          | 0          |  9.108676  | 2.782025   |  0.8781335 | 1          | 0          |\n",
       "| 1          | 0          | 0          | 1          | 12.448164  | 1.973996   |  0.8215811 | 0          | 0          |\n",
       "| 1          | 1          | 0          | 1          | 10.719628  | 2.271109   |  0.6886403 | 0          | 1          |\n",
       "\n"
      ],
      "text/plain": [
       "   (Intercept) F1Group2 F2Drug_A F2Drug_B X1        X2       X3        \n",
       "1  1           0        0        0         8.879049 3.400771 -0.6250393\n",
       "2  1           1        0        0         9.539645 3.110683 -1.6866933\n",
       "3  1           0        1        0        13.117417 2.444159  0.8377870\n",
       "4  1           1        1        0        10.141017 4.786913  0.1533731\n",
       "5  1           0        0        1        10.258575 3.497850 -1.1381369\n",
       "6  1           1        0        1        13.430130 1.033383  1.2538149\n",
       "7  1           0        0        0        10.921832 3.701356  0.4264642\n",
       "8  1           1        0        0         7.469878 2.527209 -0.2950715\n",
       "9  1           0        1        0         8.626294 1.932176  0.8951257\n",
       "10 1           1        1        0         9.108676 2.782025  0.8781335\n",
       "11 1           0        0        1        12.448164 1.973996  0.8215811\n",
       "12 1           1        0        1        10.719628 2.271109  0.6886403\n",
       "   F1Group2:F2Drug_A F1Group2:F2Drug_B\n",
       "1  0                 0                \n",
       "2  0                 0                \n",
       "3  0                 0                \n",
       "4  1                 0                \n",
       "5  0                 0                \n",
       "6  0                 1                \n",
       "7  0                 0                \n",
       "8  0                 0                \n",
       "9  0                 0                \n",
       "10 1                 0                \n",
       "11 0                 0                \n",
       "12 0                 1                "
      ]
     },
     "metadata": {},
     "output_type": "display_data"
    }
   ],
   "source": [
    "model.matrix(~F1 * F2 + (X1 + X2 + X3))"
   ]
  },
  {
   "cell_type": "markdown",
   "metadata": {},
   "source": [
    "Bây giờ, ta sẽ ứng dụng những điều vừa học vào một thí dụ: dựng một mô hình hồi quy tuyến tính để ước tính chiều dài cathater thông tim dựa vào chiều cao và cân năng của bệnh nhân, dataset này nằm trong package robustbase:"
   ]
  },
  {
   "cell_type": "code",
   "execution_count": 37,
   "metadata": {},
   "outputs": [
    {
     "data": {
      "text/html": [
       "<table>\n",
       "<thead><tr><th scope=col>height</th><th scope=col>weight</th><th scope=col>clength</th></tr></thead>\n",
       "<tbody>\n",
       "\t<tr><td>42.8</td><td>40.0</td><td>37  </td></tr>\n",
       "\t<tr><td>63.5</td><td>93.5</td><td>50  </td></tr>\n",
       "\t<tr><td>37.5</td><td>35.5</td><td>34  </td></tr>\n",
       "\t<tr><td>39.5</td><td>30.0</td><td>36  </td></tr>\n",
       "\t<tr><td>45.5</td><td>52.0</td><td>43  </td></tr>\n",
       "\t<tr><td>38.5</td><td>17.0</td><td>28  </td></tr>\n",
       "\t<tr><td>43.0</td><td>38.5</td><td>37  </td></tr>\n",
       "\t<tr><td>22.5</td><td> 8.5</td><td>20  </td></tr>\n",
       "\t<tr><td>37.0</td><td>33.0</td><td>34  </td></tr>\n",
       "\t<tr><td>23.5</td><td> 9.5</td><td>30  </td></tr>\n",
       "\t<tr><td>33.0</td><td>21.0</td><td>38  </td></tr>\n",
       "\t<tr><td>58.0</td><td>79.0</td><td>47  </td></tr>\n",
       "</tbody>\n",
       "</table>\n"
      ],
      "text/latex": [
       "\\begin{tabular}{r|lll}\n",
       " height & weight & clength\\\\\n",
       "\\hline\n",
       "\t 42.8 & 40.0 & 37  \\\\\n",
       "\t 63.5 & 93.5 & 50  \\\\\n",
       "\t 37.5 & 35.5 & 34  \\\\\n",
       "\t 39.5 & 30.0 & 36  \\\\\n",
       "\t 45.5 & 52.0 & 43  \\\\\n",
       "\t 38.5 & 17.0 & 28  \\\\\n",
       "\t 43.0 & 38.5 & 37  \\\\\n",
       "\t 22.5 &  8.5 & 20  \\\\\n",
       "\t 37.0 & 33.0 & 34  \\\\\n",
       "\t 23.5 &  9.5 & 30  \\\\\n",
       "\t 33.0 & 21.0 & 38  \\\\\n",
       "\t 58.0 & 79.0 & 47  \\\\\n",
       "\\end{tabular}\n"
      ],
      "text/markdown": [
       "\n",
       "| height | weight | clength |\n",
       "|---|---|---|\n",
       "| 42.8 | 40.0 | 37   |\n",
       "| 63.5 | 93.5 | 50   |\n",
       "| 37.5 | 35.5 | 34   |\n",
       "| 39.5 | 30.0 | 36   |\n",
       "| 45.5 | 52.0 | 43   |\n",
       "| 38.5 | 17.0 | 28   |\n",
       "| 43.0 | 38.5 | 37   |\n",
       "| 22.5 |  8.5 | 20   |\n",
       "| 37.0 | 33.0 | 34   |\n",
       "| 23.5 |  9.5 | 30   |\n",
       "| 33.0 | 21.0 | 38   |\n",
       "| 58.0 | 79.0 | 47   |\n",
       "\n"
      ],
      "text/plain": [
       "   height weight clength\n",
       "1  42.8   40.0   37     \n",
       "2  63.5   93.5   50     \n",
       "3  37.5   35.5   34     \n",
       "4  39.5   30.0   36     \n",
       "5  45.5   52.0   43     \n",
       "6  38.5   17.0   28     \n",
       "7  43.0   38.5   37     \n",
       "8  22.5    8.5   20     \n",
       "9  37.0   33.0   34     \n",
       "10 23.5    9.5   30     \n",
       "11 33.0   21.0   38     \n",
       "12 58.0   79.0   47     "
      ]
     },
     "metadata": {},
     "output_type": "display_data"
    }
   ],
   "source": [
    "data(heart,package=\"robustbase\")\n",
    "\n",
    "heart"
   ]
  },
  {
   "cell_type": "markdown",
   "metadata": {},
   "source": [
    "Ta đưa outcome clength vào vector Y:"
   ]
  },
  {
   "cell_type": "code",
   "execution_count": 38,
   "metadata": {},
   "outputs": [
    {
     "data": {
      "text/html": [
       "<ol class=list-inline>\n",
       "\t<li>37</li>\n",
       "\t<li>50</li>\n",
       "\t<li>34</li>\n",
       "\t<li>36</li>\n",
       "\t<li>43</li>\n",
       "\t<li>28</li>\n",
       "\t<li>37</li>\n",
       "\t<li>20</li>\n",
       "\t<li>34</li>\n",
       "\t<li>30</li>\n",
       "\t<li>38</li>\n",
       "\t<li>47</li>\n",
       "</ol>\n"
      ],
      "text/latex": [
       "\\begin{enumerate*}\n",
       "\\item 37\n",
       "\\item 50\n",
       "\\item 34\n",
       "\\item 36\n",
       "\\item 43\n",
       "\\item 28\n",
       "\\item 37\n",
       "\\item 20\n",
       "\\item 34\n",
       "\\item 30\n",
       "\\item 38\n",
       "\\item 47\n",
       "\\end{enumerate*}\n"
      ],
      "text/markdown": [
       "1. 37\n",
       "2. 50\n",
       "3. 34\n",
       "4. 36\n",
       "5. 43\n",
       "6. 28\n",
       "7. 37\n",
       "8. 20\n",
       "9. 34\n",
       "10. 30\n",
       "11. 38\n",
       "12. 47\n",
       "\n",
       "\n"
      ],
      "text/plain": [
       " [1] 37 50 34 36 43 28 37 20 34 30 38 47"
      ]
     },
     "metadata": {},
     "output_type": "display_data"
    },
    {
     "data": {
      "text/html": [
       "TRUE"
      ],
      "text/latex": [
       "TRUE"
      ],
      "text/markdown": [
       "TRUE"
      ],
      "text/plain": [
       "[1] TRUE"
      ]
     },
     "metadata": {},
     "output_type": "display_data"
    }
   ],
   "source": [
    "Y = heart$clength\n",
    "\n",
    "Y\n",
    "\n",
    "is.vector(Y)"
   ]
  },
  {
   "cell_type": "markdown",
   "metadata": {},
   "source": [
    "Và tạo model matrix với formula như sau:"
   ]
  },
  {
   "cell_type": "code",
   "execution_count": 43,
   "metadata": {},
   "outputs": [
    {
     "data": {
      "text/html": [
       "<table>\n",
       "<thead><tr><th scope=col>(Intercept)</th><th scope=col>height</th><th scope=col>weight</th></tr></thead>\n",
       "<tbody>\n",
       "\t<tr><td>1   </td><td>42.8</td><td>40.0</td></tr>\n",
       "\t<tr><td>1   </td><td>63.5</td><td>93.5</td></tr>\n",
       "\t<tr><td>1   </td><td>37.5</td><td>35.5</td></tr>\n",
       "\t<tr><td>1   </td><td>39.5</td><td>30.0</td></tr>\n",
       "\t<tr><td>1   </td><td>45.5</td><td>52.0</td></tr>\n",
       "\t<tr><td>1   </td><td>38.5</td><td>17.0</td></tr>\n",
       "\t<tr><td>1   </td><td>43.0</td><td>38.5</td></tr>\n",
       "\t<tr><td>1   </td><td>22.5</td><td> 8.5</td></tr>\n",
       "\t<tr><td>1   </td><td>37.0</td><td>33.0</td></tr>\n",
       "\t<tr><td>1   </td><td>23.5</td><td> 9.5</td></tr>\n",
       "\t<tr><td>1   </td><td>33.0</td><td>21.0</td></tr>\n",
       "\t<tr><td>1   </td><td>58.0</td><td>79.0</td></tr>\n",
       "</tbody>\n",
       "</table>\n"
      ],
      "text/latex": [
       "\\begin{tabular}{r|lll}\n",
       " (Intercept) & height & weight\\\\\n",
       "\\hline\n",
       "\t 1    & 42.8 & 40.0\\\\\n",
       "\t 1    & 63.5 & 93.5\\\\\n",
       "\t 1    & 37.5 & 35.5\\\\\n",
       "\t 1    & 39.5 & 30.0\\\\\n",
       "\t 1    & 45.5 & 52.0\\\\\n",
       "\t 1    & 38.5 & 17.0\\\\\n",
       "\t 1    & 43.0 & 38.5\\\\\n",
       "\t 1    & 22.5 &  8.5\\\\\n",
       "\t 1    & 37.0 & 33.0\\\\\n",
       "\t 1    & 23.5 &  9.5\\\\\n",
       "\t 1    & 33.0 & 21.0\\\\\n",
       "\t 1    & 58.0 & 79.0\\\\\n",
       "\\end{tabular}\n"
      ],
      "text/markdown": [
       "\n",
       "| (Intercept) | height | weight |\n",
       "|---|---|---|\n",
       "| 1    | 42.8 | 40.0 |\n",
       "| 1    | 63.5 | 93.5 |\n",
       "| 1    | 37.5 | 35.5 |\n",
       "| 1    | 39.5 | 30.0 |\n",
       "| 1    | 45.5 | 52.0 |\n",
       "| 1    | 38.5 | 17.0 |\n",
       "| 1    | 43.0 | 38.5 |\n",
       "| 1    | 22.5 |  8.5 |\n",
       "| 1    | 37.0 | 33.0 |\n",
       "| 1    | 23.5 |  9.5 |\n",
       "| 1    | 33.0 | 21.0 |\n",
       "| 1    | 58.0 | 79.0 |\n",
       "\n"
      ],
      "text/plain": [
       "   (Intercept) height weight\n",
       "1  1           42.8   40.0  \n",
       "2  1           63.5   93.5  \n",
       "3  1           37.5   35.5  \n",
       "4  1           39.5   30.0  \n",
       "5  1           45.5   52.0  \n",
       "6  1           38.5   17.0  \n",
       "7  1           43.0   38.5  \n",
       "8  1           22.5    8.5  \n",
       "9  1           37.0   33.0  \n",
       "10 1           23.5    9.5  \n",
       "11 1           33.0   21.0  \n",
       "12 1           58.0   79.0  "
      ]
     },
     "metadata": {},
     "output_type": "display_data"
    },
    {
     "data": {
      "text/html": [
       "'matrix'"
      ],
      "text/latex": [
       "'matrix'"
      ],
      "text/markdown": [
       "'matrix'"
      ],
      "text/plain": [
       "[1] \"matrix\""
      ]
     },
     "metadata": {},
     "output_type": "display_data"
    },
    {
     "data": {
      "text/html": [
       "<ol class=list-inline>\n",
       "\t<li>12</li>\n",
       "\t<li>3</li>\n",
       "</ol>\n"
      ],
      "text/latex": [
       "\\begin{enumerate*}\n",
       "\\item 12\n",
       "\\item 3\n",
       "\\end{enumerate*}\n"
      ],
      "text/markdown": [
       "1. 12\n",
       "2. 3\n",
       "\n",
       "\n"
      ],
      "text/plain": [
       "[1] 12  3"
      ]
     },
     "metadata": {},
     "output_type": "display_data"
    }
   ],
   "source": [
    "X=model.matrix(~height+weight,data=heart)\n",
    "\n",
    "X\n",
    "\n",
    "class(X)\n",
    "\n",
    "dim(X)"
   ]
  },
  {
   "cell_type": "markdown",
   "metadata": {},
   "source": [
    "Các tham số hồi quy trong mô hình tuyến tính có thể xác định bằng 2 cách:"
   ]
  },
  {
   "cell_type": "markdown",
   "metadata": {},
   "source": [
    "**Cách giải 1: Thông qua matrix transposing (XTX)**"
   ]
  },
  {
   "cell_type": "code",
   "execution_count": 272,
   "metadata": {},
   "outputs": [
    {
     "data": {
      "text/html": [
       "<table>\n",
       "<tbody>\n",
       "\t<tr><th scope=row>(Intercept)</th><td>20.3757645</td></tr>\n",
       "\t<tr><th scope=row>height</th><td> 0.2107473</td></tr>\n",
       "\t<tr><th scope=row>weight</th><td> 0.1910949</td></tr>\n",
       "</tbody>\n",
       "</table>\n"
      ],
      "text/latex": [
       "\\begin{tabular}{r|l}\n",
       "\t(Intercept) & 20.3757645\\\\\n",
       "\theight &  0.2107473\\\\\n",
       "\tweight &  0.1910949\\\\\n",
       "\\end{tabular}\n"
      ],
      "text/markdown": [
       "\n",
       "| (Intercept) | 20.3757645 |\n",
       "| height |  0.2107473 |\n",
       "| weight |  0.1910949 |\n",
       "\n"
      ],
      "text/plain": [
       "            [,1]      \n",
       "(Intercept) 20.3757645\n",
       "height       0.2107473\n",
       "weight       0.1910949"
      ]
     },
     "metadata": {},
     "output_type": "display_data"
    }
   ],
   "source": [
    "XTX=solve(t(X)%*% X)\n",
    "\n",
    "XTX %*% t(X) %*% Y"
   ]
  },
  {
   "cell_type": "markdown",
   "metadata": {},
   "source": [
    "**Cách giải 2: Dùng crossproduct**"
   ]
  },
  {
   "cell_type": "code",
   "execution_count": 273,
   "metadata": {},
   "outputs": [
    {
     "data": {
      "text/html": [
       "<table>\n",
       "<tbody>\n",
       "\t<tr><th scope=row>(Intercept)</th><td>20.3757645</td></tr>\n",
       "\t<tr><th scope=row>height</th><td> 0.2107473</td></tr>\n",
       "\t<tr><th scope=row>weight</th><td> 0.1910949</td></tr>\n",
       "</tbody>\n",
       "</table>\n"
      ],
      "text/latex": [
       "\\begin{tabular}{r|l}\n",
       "\t(Intercept) & 20.3757645\\\\\n",
       "\theight &  0.2107473\\\\\n",
       "\tweight &  0.1910949\\\\\n",
       "\\end{tabular}\n"
      ],
      "text/markdown": [
       "\n",
       "| (Intercept) | 20.3757645 |\n",
       "| height |  0.2107473 |\n",
       "| weight |  0.1910949 |\n",
       "\n"
      ],
      "text/plain": [
       "            [,1]      \n",
       "(Intercept) 20.3757645\n",
       "height       0.2107473\n",
       "weight       0.1910949"
      ]
     },
     "metadata": {},
     "output_type": "display_data"
    }
   ],
   "source": [
    "solve(crossprod(X,X),crossprod(X,Y))"
   ]
  },
  {
   "cell_type": "markdown",
   "metadata": {},
   "source": [
    "Kết quả thủ công này hoàn toàn giống với kết quả hàm lm() trong R:"
   ]
  },
  {
   "cell_type": "code",
   "execution_count": 281,
   "metadata": {},
   "outputs": [
    {
     "data": {
      "text/plain": [
       "\n",
       "Call:\n",
       "lm(formula = clength ~ height + weight, data = heart)\n",
       "\n",
       "Residuals:\n",
       "    Min      1Q  Median      3Q     Max \n",
       "-6.7419 -1.2034 -0.2595  1.8892  6.6566 \n",
       "\n",
       "Coefficients:\n",
       "            Estimate Std. Error t value Pr(>|t|)  \n",
       "(Intercept)  20.3758     8.3859   2.430    0.038 *\n",
       "height        0.2107     0.3455   0.610    0.557  \n",
       "weight        0.1911     0.1583   1.207    0.258  \n",
       "---\n",
       "Signif. codes:  0 '***' 0.001 '**' 0.01 '*' 0.05 '.' 0.1 ' ' 1\n",
       "\n",
       "Residual standard error: 3.778 on 9 degrees of freedom\n",
       "Multiple R-squared:  0.8254,\tAdjusted R-squared:  0.7865 \n",
       "F-statistic: 21.27 on 2 and 9 DF,  p-value: 0.0003888\n"
      ]
     },
     "metadata": {},
     "output_type": "display_data"
    }
   ],
   "source": [
    "summary(lm(data=heart,clength~height+weight))"
   ]
  },
  {
   "cell_type": "markdown",
   "metadata": {},
   "source": [
    "Ta thử dựng thủ công một mô hình khác với công thức clength ~ height * weight"
   ]
  },
  {
   "cell_type": "code",
   "execution_count": 283,
   "metadata": {},
   "outputs": [
    {
     "data": {
      "text/html": [
       "<table>\n",
       "<thead><tr><th scope=col>(Intercept)</th><th scope=col>height</th><th scope=col>weight</th><th scope=col>height:weight</th></tr></thead>\n",
       "<tbody>\n",
       "\t<tr><td>1      </td><td>42.8   </td><td>40.0   </td><td>1712.00</td></tr>\n",
       "\t<tr><td>1      </td><td>63.5   </td><td>93.5   </td><td>5937.25</td></tr>\n",
       "\t<tr><td>1      </td><td>37.5   </td><td>35.5   </td><td>1331.25</td></tr>\n",
       "\t<tr><td>1      </td><td>39.5   </td><td>30.0   </td><td>1185.00</td></tr>\n",
       "\t<tr><td>1      </td><td>45.5   </td><td>52.0   </td><td>2366.00</td></tr>\n",
       "\t<tr><td>1      </td><td>38.5   </td><td>17.0   </td><td> 654.50</td></tr>\n",
       "\t<tr><td>1      </td><td>43.0   </td><td>38.5   </td><td>1655.50</td></tr>\n",
       "\t<tr><td>1      </td><td>22.5   </td><td> 8.5   </td><td> 191.25</td></tr>\n",
       "\t<tr><td>1      </td><td>37.0   </td><td>33.0   </td><td>1221.00</td></tr>\n",
       "\t<tr><td>1      </td><td>23.5   </td><td> 9.5   </td><td> 223.25</td></tr>\n",
       "\t<tr><td>1      </td><td>33.0   </td><td>21.0   </td><td> 693.00</td></tr>\n",
       "\t<tr><td>1      </td><td>58.0   </td><td>79.0   </td><td>4582.00</td></tr>\n",
       "</tbody>\n",
       "</table>\n"
      ],
      "text/latex": [
       "\\begin{tabular}{r|llll}\n",
       " (Intercept) & height & weight & height:weight\\\\\n",
       "\\hline\n",
       "\t 1       & 42.8    & 40.0    & 1712.00\\\\\n",
       "\t 1       & 63.5    & 93.5    & 5937.25\\\\\n",
       "\t 1       & 37.5    & 35.5    & 1331.25\\\\\n",
       "\t 1       & 39.5    & 30.0    & 1185.00\\\\\n",
       "\t 1       & 45.5    & 52.0    & 2366.00\\\\\n",
       "\t 1       & 38.5    & 17.0    &  654.50\\\\\n",
       "\t 1       & 43.0    & 38.5    & 1655.50\\\\\n",
       "\t 1       & 22.5    &  8.5    &  191.25\\\\\n",
       "\t 1       & 37.0    & 33.0    & 1221.00\\\\\n",
       "\t 1       & 23.5    &  9.5    &  223.25\\\\\n",
       "\t 1       & 33.0    & 21.0    &  693.00\\\\\n",
       "\t 1       & 58.0    & 79.0    & 4582.00\\\\\n",
       "\\end{tabular}\n"
      ],
      "text/markdown": [
       "\n",
       "| (Intercept) | height | weight | height:weight |\n",
       "|---|---|---|---|\n",
       "| 1       | 42.8    | 40.0    | 1712.00 |\n",
       "| 1       | 63.5    | 93.5    | 5937.25 |\n",
       "| 1       | 37.5    | 35.5    | 1331.25 |\n",
       "| 1       | 39.5    | 30.0    | 1185.00 |\n",
       "| 1       | 45.5    | 52.0    | 2366.00 |\n",
       "| 1       | 38.5    | 17.0    |  654.50 |\n",
       "| 1       | 43.0    | 38.5    | 1655.50 |\n",
       "| 1       | 22.5    |  8.5    |  191.25 |\n",
       "| 1       | 37.0    | 33.0    | 1221.00 |\n",
       "| 1       | 23.5    |  9.5    |  223.25 |\n",
       "| 1       | 33.0    | 21.0    |  693.00 |\n",
       "| 1       | 58.0    | 79.0    | 4582.00 |\n",
       "\n"
      ],
      "text/plain": [
       "   (Intercept) height weight height:weight\n",
       "1  1           42.8   40.0   1712.00      \n",
       "2  1           63.5   93.5   5937.25      \n",
       "3  1           37.5   35.5   1331.25      \n",
       "4  1           39.5   30.0   1185.00      \n",
       "5  1           45.5   52.0   2366.00      \n",
       "6  1           38.5   17.0    654.50      \n",
       "7  1           43.0   38.5   1655.50      \n",
       "8  1           22.5    8.5    191.25      \n",
       "9  1           37.0   33.0   1221.00      \n",
       "10 1           23.5    9.5    223.25      \n",
       "11 1           33.0   21.0    693.00      \n",
       "12 1           58.0   79.0   4582.00      "
      ]
     },
     "metadata": {},
     "output_type": "display_data"
    },
    {
     "data": {
      "text/html": [
       "<table>\n",
       "<tbody>\n",
       "\t<tr><th scope=row>(Intercept)</th><td>18.567582223</td></tr>\n",
       "\t<tr><th scope=row>height</th><td> 0.147820579</td></tr>\n",
       "\t<tr><th scope=row>weight</th><td> 0.523400892</td></tr>\n",
       "\t<tr><th scope=row>height:weight</th><td>-0.004590677</td></tr>\n",
       "</tbody>\n",
       "</table>\n"
      ],
      "text/latex": [
       "\\begin{tabular}{r|l}\n",
       "\t(Intercept) & 18.567582223\\\\\n",
       "\theight &  0.147820579\\\\\n",
       "\tweight &  0.523400892\\\\\n",
       "\theight:weight & -0.004590677\\\\\n",
       "\\end{tabular}\n"
      ],
      "text/markdown": [
       "\n",
       "| (Intercept) | 18.567582223 |\n",
       "| height |  0.147820579 |\n",
       "| weight |  0.523400892 |\n",
       "| height:weight | -0.004590677 |\n",
       "\n"
      ],
      "text/plain": [
       "              [,1]        \n",
       "(Intercept)   18.567582223\n",
       "height         0.147820579\n",
       "weight         0.523400892\n",
       "height:weight -0.004590677"
      ]
     },
     "metadata": {},
     "output_type": "display_data"
    },
    {
     "data": {
      "text/plain": [
       "\n",
       "Call:\n",
       "lm(formula = clength ~ height * weight, data = heart)\n",
       "\n",
       "Residuals:\n",
       "    Min      1Q  Median      3Q     Max \n",
       "-5.4645 -1.8159 -0.4652  1.3364  6.7443 \n",
       "\n",
       "Coefficients:\n",
       "               Estimate Std. Error t value Pr(>|t|)  \n",
       "(Intercept)   18.567582   8.410597   2.208   0.0583 .\n",
       "height         0.147821   0.344757   0.429   0.6794  \n",
       "weight         0.523401   0.332306   1.575   0.1539  \n",
       "height:weight -0.004591   0.004054  -1.132   0.2903  \n",
       "---\n",
       "Signif. codes:  0 '***' 0.001 '**' 0.01 '*' 0.05 '.' 0.1 ' ' 1\n",
       "\n",
       "Residual standard error: 3.72 on 8 degrees of freedom\n",
       "Multiple R-squared:  0.8495,\tAdjusted R-squared:  0.793 \n",
       "F-statistic: 15.05 on 3 and 8 DF,  p-value: 0.001185\n"
      ]
     },
     "metadata": {},
     "output_type": "display_data"
    }
   ],
   "source": [
    "X2 = model.matrix(~height*weight,data=heart)\n",
    "\n",
    "X2\n",
    "\n",
    "solve(crossprod(X2,X2),crossprod(X2,Y))\n",
    "\n",
    "summary(lm(data=heart,clength~height*weight))"
   ]
  },
  {
   "cell_type": "markdown",
   "metadata": {},
   "source": [
    "### Confusion matrix"
   ]
  },
  {
   "cell_type": "markdown",
   "metadata": {},
   "source": [
    "Confusion matrix là một công cụ kiểm định quan trọng khi thực hành Machine learning, thí dụ mô phỏng sau đây giải thích cách tạo thủ công confusion matrix từ 2 vector: kết quả dự báo và giá trị thực tế:"
   ]
  },
  {
   "cell_type": "code",
   "execution_count": 45,
   "metadata": {},
   "outputs": [
    {
     "data": {
      "text/plain": [
       "     pred\n",
       "truth  A  B  C  D  E\n",
       "    A  7  1  5  4  3\n",
       "    B  2  1  1  6  2\n",
       "    C  2  0  2  7  3\n",
       "    D 11  2  5 12  5\n",
       "    E  1  1  7  5  5"
      ]
     },
     "metadata": {},
     "output_type": "display_data"
    }
   ],
   "source": [
    "set.seed(999)\n",
    "pred <- sample(LETTERS[1:5], 100, replace=TRUE, prob=c(0.2,0.1,0.2,0.35,0.15))\n",
    "set.seed(666)\n",
    "truth <- sample(LETTERS[1:5], 100, replace=TRUE, prob=c(0.2,0.1,0.2,0.35,0.15))\n",
    "\n",
    "conf.mat = table(truth,pred)\n",
    "\n",
    "conf.mat"
   ]
  },
  {
   "cell_type": "markdown",
   "metadata": {},
   "source": [
    "Đường chéo confusion matrix cho biết độ chính xác của mô hình phân loại 5 nhãn:"
   ]
  },
  {
   "cell_type": "code",
   "execution_count": 46,
   "metadata": {},
   "outputs": [
    {
     "data": {
      "text/html": [
       "<dl class=dl-horizontal>\n",
       "\t<dt>A</dt>\n",
       "\t\t<dd>7</dd>\n",
       "\t<dt>B</dt>\n",
       "\t\t<dd>1</dd>\n",
       "\t<dt>C</dt>\n",
       "\t\t<dd>2</dd>\n",
       "\t<dt>D</dt>\n",
       "\t\t<dd>12</dd>\n",
       "\t<dt>E</dt>\n",
       "\t\t<dd>5</dd>\n",
       "</dl>\n"
      ],
      "text/latex": [
       "\\begin{description*}\n",
       "\\item[A] 7\n",
       "\\item[B] 1\n",
       "\\item[C] 2\n",
       "\\item[D] 12\n",
       "\\item[E] 5\n",
       "\\end{description*}\n"
      ],
      "text/markdown": [
       "A\n",
       ":   7B\n",
       ":   1C\n",
       ":   2D\n",
       ":   12E\n",
       ":   5\n",
       "\n"
      ],
      "text/plain": [
       " A  B  C  D  E \n",
       " 7  1  2 12  5 "
      ]
     },
     "metadata": {},
     "output_type": "display_data"
    }
   ],
   "source": [
    "diag(conf.mat) "
   ]
  },
  {
   "cell_type": "markdown",
   "metadata": {},
   "source": [
    "Nội dung confusion matrix có thể được chuyển thành tỉ lệ % như sau:"
   ]
  },
  {
   "cell_type": "code",
   "execution_count": 47,
   "metadata": {},
   "outputs": [
    {
     "data": {
      "text/plain": [
       "     pred\n",
       "truth    A    B    C    D    E\n",
       "    A 0.07 0.01 0.05 0.04 0.03\n",
       "    B 0.02 0.01 0.01 0.06 0.02\n",
       "    C 0.02 0.00 0.02 0.07 0.03\n",
       "    D 0.11 0.02 0.05 0.12 0.05\n",
       "    E 0.01 0.01 0.07 0.05 0.05"
      ]
     },
     "metadata": {},
     "output_type": "display_data"
    }
   ],
   "source": [
    "conf.mat / sum(conf.mat)"
   ]
  },
  {
   "cell_type": "markdown",
   "metadata": {},
   "source": [
    "Việc nắm vững các phép tính trên matrix sẽ giúp bạn rất nhiều khi cần tính toán những trị số thống kê từ confusion matrix, thí dụ ta có thể tính thủ công hệ số tương hợp Kappa theo Cohen như sau:"
   ]
  },
  {
   "cell_type": "code",
   "execution_count": 48,
   "metadata": {},
   "outputs": [
    {
     "data": {
      "text/html": [
       "<table>\n",
       "<thead><tr><th scope=col>p0</th><th scope=col>pe</th><th scope=col>kappa</th></tr></thead>\n",
       "<tbody>\n",
       "\t<tr><td>0.27   </td><td>0.2332 </td><td>0.04799</td></tr>\n",
       "</tbody>\n",
       "</table>\n"
      ],
      "text/latex": [
       "\\begin{tabular}{lll}\n",
       " p0 & pe & kappa\\\\\n",
       "\\hline\n",
       "\t 0.27    & 0.2332  & 0.04799\\\\\n",
       "\\end{tabular}\n"
      ],
      "text/markdown": [
       "\n",
       "| p0 | pe | kappa |\n",
       "|---|---|---|\n",
       "| 0.27    | 0.2332  | 0.04799 |\n",
       "\n"
      ],
      "text/plain": [
       "     p0   pe     kappa  \n",
       "[1,] 0.27 0.2332 0.04799"
      ]
     },
     "metadata": {},
     "output_type": "display_data"
    }
   ],
   "source": [
    "conf.mat = table(truth,pred)\n",
    "std_conf.mat = conf.mat / sum(conf.mat)\n",
    "p0 = sum(diag(std_conf.mat))\n",
    "rowsum = rowSums(std_conf.mat)\n",
    "colsum = colSums(std_conf.mat)\n",
    "pe = sum(rowsum * colsum) / sum(std_conf.mat)^2\n",
    "# kappa\n",
    "kappa = 1 - (1 - p0) / (1 - pe)\n",
    "\n",
    "round(cbind(p0,pe,kappa),5)"
   ]
  },
  {
   "cell_type": "markdown",
   "metadata": {},
   "source": [
    "Tương tự, đây là cách tính Balanced accuracy metric:"
   ]
  },
  {
   "cell_type": "code",
   "execution_count": 70,
   "metadata": {},
   "outputs": [
    {
     "data": {
      "text/plain": [
       "     truth\n",
       "truth  A  B  C  D  E\n",
       "    A 20  0  0  0  0\n",
       "    B  0 12  0  0  0\n",
       "    C  0  0 14  0  0\n",
       "    D  0  0  0 35  0\n",
       "    E  0  0  0  0 19"
      ]
     },
     "metadata": {},
     "output_type": "display_data"
    },
    {
     "data": {
      "text/plain": [
       "    truth\n",
       "pred  A  B  C  D  E\n",
       "   A  7  2  2 11  1\n",
       "   B  1  1  0  2  1\n",
       "   C  5  1  2  5  7\n",
       "   D  4  6  7 12  5\n",
       "   E  3  2  3  5  5"
      ]
     },
     "metadata": {},
     "output_type": "display_data"
    },
    {
     "data": {
      "text/html": [
       "0.236441102756892"
      ],
      "text/latex": [
       "0.236441102756892"
      ],
      "text/markdown": [
       "0.236441102756892"
      ],
      "text/plain": [
       "[1] 0.2364411"
      ]
     },
     "metadata": {},
     "output_type": "display_data"
    }
   ],
   "source": [
    "identity_mat = table(truth, truth)\n",
    "\n",
    "identity_mat\n",
    "\n",
    "conf_mat = table(pred, truth)\n",
    "\n",
    "conf_mat\n",
    "\n",
    "bac = mean(diag(conf_mat / identity_mat))\n",
    "\n",
    "bac"
   ]
  },
  {
   "cell_type": "markdown",
   "metadata": {},
   "source": [
    "### Matrix và dữ liệu hình ảnh\n",
    "\n",
    "Hình ảnh kỹ thuật số được xử lý như những array 3D, với cấu trúc (số pixel x 3 kênh màu R,G,B). mặt khác, matrix có thể xem như trường hợp đặc biệt của array, vì chỉ có 2 chiều, do đó nếu sử dụng duy nhất 1 kênh màu đơn sắc (hay 1 phổ màu gradient), ta hoàn toàn có thể lưu trữ hình ảnh trong matrix và thao tác với chúng như những matrix.\n",
    "\n",
    "Thí dụ đơn giản nhất của matrix ảnh chính là biểu đồ heatmap, ta có thể vẽ heatmap bằng ggplot2 từ một matrix bất kì:\n",
    "\n",
    "Hình ảnh mà ta nhìn thấy là 1 tấm ảnh đơn sắc:"
   ]
  },
  {
   "cell_type": "code",
   "execution_count": 74,
   "metadata": {},
   "outputs": [
    {
     "data": {
      "text/html": [
       "<ol class=list-inline>\n",
       "\t<li>30</li>\n",
       "\t<li>30</li>\n",
       "</ol>\n"
      ],
      "text/latex": [
       "\\begin{enumerate*}\n",
       "\\item 30\n",
       "\\item 30\n",
       "\\end{enumerate*}\n"
      ],
      "text/markdown": [
       "1. 30\n",
       "2. 30\n",
       "\n",
       "\n"
      ],
      "text/plain": [
       "[1] 30 30"
      ]
     },
     "metadata": {},
     "output_type": "display_data"
    },
    {
     "data": {
      "image/png": "[encoded data removed]",
      "text/plain": [
       "plot without title"
      ]
     },
     "metadata": {},
     "output_type": "display_data"
    }
   ],
   "source": [
    "library(tidyverse)\n",
    "\n",
    "m = matrix(rnorm(n=900),30,30)\n",
    "\n",
    "dim(m)\n",
    "\n",
    "m%>%reshape2::melt()%>% \n",
    "ggplot(aes(x=Var1, y=Var2, fill=value)) + \n",
    "geom_tile()+\n",
    "scale_fill_gradient(low = \"white\", high = \"black\")+\n",
    "theme_void()"
   ]
  },
  {
   "cell_type": "markdown",
   "metadata": {},
   "source": [
    "Ta có thể dùng phổ màu bất kì, thí dụ viridis:"
   ]
  },
  {
   "cell_type": "code",
   "execution_count": 80,
   "metadata": {},
   "outputs": [
    {
     "data": {
      "image/png": "[encoded data removed]",
      "text/plain": [
       "plot without title"
      ]
     },
     "metadata": {},
     "output_type": "display_data"
    }
   ],
   "source": [
    "library('viridis')\n",
    "\n",
    "m%>%reshape2::melt()%>% \n",
    "ggplot(aes(x=Var1, y=Var2, fill=value)) + \n",
    "geom_tile()+\n",
    "scale_fill_viridis()+\n",
    "theme_void()"
   ]
  },
  {
   "cell_type": "markdown",
   "metadata": {},
   "source": [
    "Với một chút vọc phá trên matrix, ứng dụng cơ chế chọn mẫu ngẫu nhiên, ta có thể vẽ một bức tranh digital về những ngôi sao trong bầu trời đêm:"
   ]
  },
  {
   "cell_type": "code",
   "execution_count": 72,
   "metadata": {},
   "outputs": [
    {
     "data": {
      "image/png": "[encoded data removed]",
      "text/plain": [
       "plot without title"
      ]
     },
     "metadata": {},
     "output_type": "display_data"
    }
   ],
   "source": [
    "mat = matrix(rnorm(n=10000),100,100)\n",
    "\n",
    "mat[sample(1:length(mat), 300, replace = FALSE)] <- NA\n",
    "mat[sample(1:length(mat), 150, replace = FALSE)] <- 6\n",
    "\n",
    "mat%>%reshape2::melt()%>%\n",
    "ggplot(aes(x=Var1, y=Var2, fill=value)) + \n",
    "geom_tile(show.legend = F)+\n",
    "scale_fill_gradient2(low = \"black\", mid = \"darkblue\", high = \"blue\", midpoint = 2, na.value = \"white\")+\n",
    "theme_void()"
   ]
  },
  {
   "cell_type": "markdown",
   "metadata": {},
   "source": [
    "Package imager cho phép tải một tấm ảnh (jpg, png) vào R, nếu ta chỉ trích riêng 1 kênh màu ta sẽ có 1 cấu trúc dữ liệu đơn giản hơn, chính là matrix, như trong thí dụ sau:"
   ]
  },
  {
   "cell_type": "code",
   "execution_count": 88,
   "metadata": {},
   "outputs": [
    {
     "data": {
      "text/html": [
       "<ol class=list-inline>\n",
       "\t<li>205</li>\n",
       "\t<li>205</li>\n",
       "</ol>\n"
      ],
      "text/latex": [
       "\\begin{enumerate*}\n",
       "\\item 205\n",
       "\\item 205\n",
       "\\end{enumerate*}\n"
      ],
      "text/markdown": [
       "1. 205\n",
       "2. 205\n",
       "\n",
       "\n"
      ],
      "text/plain": [
       "[1] 205 205"
      ]
     },
     "metadata": {},
     "output_type": "display_data"
    },
    {
     "data": {
      "image/png": "[encoded data removed]",
      "text/plain": [
       "plot without title"
      ]
     },
     "metadata": {},
     "output_type": "display_data"
    }
   ],
   "source": [
    "library(imager)\n",
    "\n",
    "img = load.image('kurisu.png')\n",
    "\n",
    "imat = img[,,,1]\n",
    "\n",
    "dim(imat)\n",
    "\n",
    "mat2 = reshape2::melt(imat)\n",
    "\n",
    "mat2%>% ggplot(aes(x=(nrow(imat)+1-Var1), \n",
    "                   y=(nrow(imat)+1-Var2), \n",
    "                   fill=value)) + \n",
    "geom_tile(show.legend = F) + \n",
    "scale_fill_gradient(high = \"white\", low = \"black\") + \n",
    "theme_void() "
   ]
  },
  {
   "cell_type": "markdown",
   "metadata": {},
   "source": [
    "Ta có thể tạo một lớp nhiễu, với bản chất là matrix gồm toàn giá trị ngẫu nhiên, rồi chèn lớp nhiễu này vào tấm ảnh bằng phép cộng 2 matrices"
   ]
  },
  {
   "cell_type": "code",
   "execution_count": 89,
   "metadata": {},
   "outputs": [
    {
     "data": {
      "image/png": "[encoded data removed]",
      "text/plain": [
       "plot without title"
      ]
     },
     "metadata": {},
     "output_type": "display_data"
    }
   ],
   "source": [
    "noise_mask = rnorm(n = 205*205, mean = 0, sd = 0.1) %>% matrix(data = ., 205,205)\n",
    "\n",
    "imat_noise = imat + noise_mask\n",
    "\n",
    "imat_noise= imat_noise/ max(imat_noise)\n",
    "\n",
    "imat_noise%>%\n",
    "reshape2::melt()%>% \n",
    "ggplot(aes(x=(206-Var1), y=(206-Var2), fill=value)) + \n",
    "geom_tile(show.legend = F) + \n",
    "scale_fill_gradient(high = \"white\", low = \"black\") + \n",
    "theme_void() "
   ]
  },
  {
   "cell_type": "code",
   "execution_count": null,
   "metadata": {},
   "outputs": [],
   "source": []
  }
 ],
 "metadata": {
  "hide_input": false,
  "kernelspec": {
   "display_name": "R",
   "language": "R",
   "name": "ir"
  },
  "language_info": {
   "codemirror_mode": "r",
   "file_extension": ".r",
   "mimetype": "text/x-r-source",
   "name": "R",
   "pygments_lexer": "r",
   "version": "3.6.0"
  },
  "toc": {
   "base_numbering": 1,
   "nav_menu": {},
   "number_sections": true,
   "sideBar": true,
   "skip_h1_title": false,
   "title_cell": "Table of Contents",
   "title_sidebar": "Contents",
   "toc_cell": false,
   "toc_position": {},
   "toc_section_display": true,
   "toc_window_display": false
  }
 },
 "nbformat": 4,
 "nbformat_minor": 2
}

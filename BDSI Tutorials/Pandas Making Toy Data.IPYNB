{
 "cells": [
  {
   "cell_type": "markdown",
   "metadata": {},
   "source": [
    "# Tạo dữ liệu mô phỏng với Pandas\n",
    "\n",
    "### Lê Ngọc Khả Nhi\n",
    "\n",
    "Trong quá trình thực hành và làm việc, đôi khi chúng ta cần chuẩn bị các dữ liệu mô phỏng. \n",
    "\n",
    "Module util.testing của thư viện Pandas cung cấp một số method cho phép tạo ra dữ liệu mô phỏng một cách dễ dàng, thuận tiện:"
   ]
  },
  {
   "cell_type": "code",
   "execution_count": 11,
   "metadata": {},
   "outputs": [
    {
     "name": "stdout",
     "output_type": "stream",
     "text": [
      "Sử dụng pandas version 0.25.3\n",
      "Sử dụng numpy version 1.17.4\n"
     ]
    }
   ],
   "source": [
    "import pandas as pd\n",
    "import numpy as np\n",
    "\n",
    "print(f\"Sử dụng pandas version {pd.__version__}\")\n",
    "print(f\"Sử dụng numpy version {np.__version__}\")\n",
    "\n",
    "import pandas.util.testing as tm"
   ]
  },
  {
   "cell_type": "markdown",
   "metadata": {},
   "source": [
    "Liệt kê tất cả method mô phỏng dữ liệu trong module util.testing: chúng đều bắt đầu bằng từ \"make\""
   ]
  },
  {
   "cell_type": "code",
   "execution_count": 3,
   "metadata": {},
   "outputs": [
    {
     "data": {
      "text/plain": [
       "['makeBoolIndex',\n",
       " 'makeCategoricalIndex',\n",
       " 'makeCustomDataframe',\n",
       " 'makeCustomIndex',\n",
       " 'makeDataFrame',\n",
       " 'makeDateIndex',\n",
       " 'makeFloatIndex',\n",
       " 'makeFloatSeries',\n",
       " 'makeIntIndex',\n",
       " 'makeIntervalIndex',\n",
       " 'makeMissingCustomDataframe',\n",
       " 'makeMissingDataframe',\n",
       " 'makeMixedDataFrame',\n",
       " 'makeMultiIndex',\n",
       " 'makeObjectSeries',\n",
       " 'makePeriodFrame',\n",
       " 'makePeriodIndex',\n",
       " 'makePeriodSeries',\n",
       " 'makeRangeIndex',\n",
       " 'makeStringIndex',\n",
       " 'makeStringSeries',\n",
       " 'makeTimeDataFrame',\n",
       " 'makeTimeSeries',\n",
       " 'makeTimedeltaIndex',\n",
       " 'makeUIntIndex',\n",
       " 'makeUnicodeIndex']"
      ]
     },
     "execution_count": 3,
     "metadata": {},
     "output_type": "execute_result"
    }
   ],
   "source": [
    "[i for i in dir(tm) if i.startswith('make')]"
   ]
  },
  {
   "cell_type": "markdown",
   "metadata": {},
   "source": [
    "Đầu tiên, ta tùy chỉnh số hàng N và số cột K mặc định trong dataframe cần mô phỏng: Thí dụ 10 hàng và 5 cột"
   ]
  },
  {
   "cell_type": "code",
   "execution_count": 4,
   "metadata": {},
   "outputs": [],
   "source": [
    "tm.N = 10\n",
    "tm.K = 5"
   ]
  },
  {
   "cell_type": "markdown",
   "metadata": {},
   "source": [
    "Tạo một dataframe với tùy chỉnh N=10, k=5"
   ]
  },
  {
   "cell_type": "code",
   "execution_count": 5,
   "metadata": {},
   "outputs": [
    {
     "data": {
      "text/html": [
       "<div>\n",
       "<style scoped>\n",
       "    .dataframe tbody tr th:only-of-type {\n",
       "        vertical-align: middle;\n",
       "    }\n",
       "\n",
       "    .dataframe tbody tr th {\n",
       "        vertical-align: top;\n",
       "    }\n",
       "\n",
       "    .dataframe thead th {\n",
       "        text-align: right;\n",
       "    }\n",
       "</style>\n",
       "<table border=\"1\" class=\"dataframe\">\n",
       "  <thead>\n",
       "    <tr style=\"text-align: right;\">\n",
       "      <th></th>\n",
       "      <th>A</th>\n",
       "      <th>B</th>\n",
       "      <th>C</th>\n",
       "      <th>D</th>\n",
       "      <th>E</th>\n",
       "    </tr>\n",
       "  </thead>\n",
       "  <tbody>\n",
       "    <tr>\n",
       "      <th>Fi4ghSwobW</th>\n",
       "      <td>-0.361440</td>\n",
       "      <td>-0.250400</td>\n",
       "      <td>0.011905</td>\n",
       "      <td>0.608938</td>\n",
       "      <td>-0.872758</td>\n",
       "    </tr>\n",
       "    <tr>\n",
       "      <th>dNdsbhMwEX</th>\n",
       "      <td>-0.377503</td>\n",
       "      <td>0.436191</td>\n",
       "      <td>0.761339</td>\n",
       "      <td>2.107089</td>\n",
       "      <td>0.236963</td>\n",
       "    </tr>\n",
       "    <tr>\n",
       "      <th>TO8saIRecg</th>\n",
       "      <td>0.641810</td>\n",
       "      <td>-0.666242</td>\n",
       "      <td>-0.587668</td>\n",
       "      <td>0.150183</td>\n",
       "      <td>-0.652524</td>\n",
       "    </tr>\n",
       "    <tr>\n",
       "      <th>Sof9JvCYQB</th>\n",
       "      <td>0.884460</td>\n",
       "      <td>1.279219</td>\n",
       "      <td>1.043397</td>\n",
       "      <td>-0.996677</td>\n",
       "      <td>0.483124</td>\n",
       "    </tr>\n",
       "    <tr>\n",
       "      <th>JMpYRDQqOo</th>\n",
       "      <td>-0.960473</td>\n",
       "      <td>0.783801</td>\n",
       "      <td>0.838424</td>\n",
       "      <td>0.608756</td>\n",
       "      <td>0.172484</td>\n",
       "    </tr>\n",
       "    <tr>\n",
       "      <th>9PKnyqyquB</th>\n",
       "      <td>-0.064039</td>\n",
       "      <td>-1.129655</td>\n",
       "      <td>-1.604402</td>\n",
       "      <td>-0.159557</td>\n",
       "      <td>-1.199078</td>\n",
       "    </tr>\n",
       "    <tr>\n",
       "      <th>MT8uXca6nK</th>\n",
       "      <td>-1.005163</td>\n",
       "      <td>-1.259508</td>\n",
       "      <td>1.870591</td>\n",
       "      <td>1.103164</td>\n",
       "      <td>-0.482766</td>\n",
       "    </tr>\n",
       "    <tr>\n",
       "      <th>GIXo6vjqFE</th>\n",
       "      <td>0.365637</td>\n",
       "      <td>0.495038</td>\n",
       "      <td>2.658238</td>\n",
       "      <td>-1.019838</td>\n",
       "      <td>1.289235</td>\n",
       "    </tr>\n",
       "    <tr>\n",
       "      <th>STitFoM3fy</th>\n",
       "      <td>1.220569</td>\n",
       "      <td>1.266613</td>\n",
       "      <td>0.439279</td>\n",
       "      <td>2.826312</td>\n",
       "      <td>1.037450</td>\n",
       "    </tr>\n",
       "    <tr>\n",
       "      <th>HkxA5ckMsL</th>\n",
       "      <td>-0.393975</td>\n",
       "      <td>-0.219185</td>\n",
       "      <td>1.445569</td>\n",
       "      <td>-1.746426</td>\n",
       "      <td>1.436962</td>\n",
       "    </tr>\n",
       "  </tbody>\n",
       "</table>\n",
       "</div>"
      ],
      "text/plain": [
       "                   A         B         C         D         E\n",
       "Fi4ghSwobW -0.361440 -0.250400  0.011905  0.608938 -0.872758\n",
       "dNdsbhMwEX -0.377503  0.436191  0.761339  2.107089  0.236963\n",
       "TO8saIRecg  0.641810 -0.666242 -0.587668  0.150183 -0.652524\n",
       "Sof9JvCYQB  0.884460  1.279219  1.043397 -0.996677  0.483124\n",
       "JMpYRDQqOo -0.960473  0.783801  0.838424  0.608756  0.172484\n",
       "9PKnyqyquB -0.064039 -1.129655 -1.604402 -0.159557 -1.199078\n",
       "MT8uXca6nK -1.005163 -1.259508  1.870591  1.103164 -0.482766\n",
       "GIXo6vjqFE  0.365637  0.495038  2.658238 -1.019838  1.289235\n",
       "STitFoM3fy  1.220569  1.266613  0.439279  2.826312  1.037450\n",
       "HkxA5ckMsL -0.393975 -0.219185  1.445569 -1.746426  1.436962"
      ]
     },
     "execution_count": 5,
     "metadata": {},
     "output_type": "execute_result"
    }
   ],
   "source": [
    "tm.makeDataFrame()"
   ]
  },
  {
   "cell_type": "markdown",
   "metadata": {},
   "source": [
    "Tạo một dataframe 5 hàng, 3 cột, index số thứ tự, tên biến string, nội dung là float number tạo bằng hàm np.random.rand()"
   ]
  },
  {
   "cell_type": "code",
   "execution_count": 12,
   "metadata": {},
   "outputs": [
    {
     "data": {
      "text/html": [
       "<div>\n",
       "<style scoped>\n",
       "    .dataframe tbody tr th:only-of-type {\n",
       "        vertical-align: middle;\n",
       "    }\n",
       "\n",
       "    .dataframe tbody tr th {\n",
       "        vertical-align: top;\n",
       "    }\n",
       "\n",
       "    .dataframe thead th {\n",
       "        text-align: right;\n",
       "    }\n",
       "</style>\n",
       "<table border=\"1\" class=\"dataframe\">\n",
       "  <thead>\n",
       "    <tr style=\"text-align: right;\">\n",
       "      <th>C0</th>\n",
       "      <th>i0UGdcfLFj</th>\n",
       "      <th>2VLgZ6S3lQ</th>\n",
       "      <th>iF2ZIMjxWq</th>\n",
       "    </tr>\n",
       "    <tr>\n",
       "      <th>R0</th>\n",
       "      <th></th>\n",
       "      <th></th>\n",
       "      <th></th>\n",
       "    </tr>\n",
       "  </thead>\n",
       "  <tbody>\n",
       "    <tr>\n",
       "      <th>0</th>\n",
       "      <td>1.809467</td>\n",
       "      <td>-1.358010</td>\n",
       "      <td>-0.265166</td>\n",
       "    </tr>\n",
       "    <tr>\n",
       "      <th>1</th>\n",
       "      <td>-0.802223</td>\n",
       "      <td>-0.881011</td>\n",
       "      <td>-0.306661</td>\n",
       "    </tr>\n",
       "    <tr>\n",
       "      <th>2</th>\n",
       "      <td>1.920934</td>\n",
       "      <td>1.029130</td>\n",
       "      <td>-0.683362</td>\n",
       "    </tr>\n",
       "    <tr>\n",
       "      <th>3</th>\n",
       "      <td>-1.531888</td>\n",
       "      <td>-1.258191</td>\n",
       "      <td>-0.341000</td>\n",
       "    </tr>\n",
       "    <tr>\n",
       "      <th>4</th>\n",
       "      <td>0.614262</td>\n",
       "      <td>-0.601163</td>\n",
       "      <td>0.301808</td>\n",
       "    </tr>\n",
       "  </tbody>\n",
       "</table>\n",
       "</div>"
      ],
      "text/plain": [
       "C0  i0UGdcfLFj  2VLgZ6S3lQ  iF2ZIMjxWq\n",
       "R0                                    \n",
       "0     1.809467   -1.358010   -0.265166\n",
       "1    -0.802223   -0.881011   -0.306661\n",
       "2     1.920934    1.029130   -0.683362\n",
       "3    -1.531888   -1.258191   -0.341000\n",
       "4     0.614262   -0.601163    0.301808"
      ]
     },
     "execution_count": 12,
     "metadata": {},
     "output_type": "execute_result"
    }
   ],
   "source": [
    "tm.makeCustomDataframe(nrows = 5, ncols = 3,\n",
    "                       data_gen_f=lambda r,c:np.random.randn(),\n",
    "                       r_idx_type = 'i',\n",
    "                       c_idx_type = 's')"
   ]
  },
  {
   "cell_type": "markdown",
   "metadata": {},
   "source": [
    "Tạo hệ thống index giá trị boolean"
   ]
  },
  {
   "cell_type": "code",
   "execution_count": 8,
   "metadata": {},
   "outputs": [
    {
     "data": {
      "text/plain": [
       "Index([False, True, False, False, False, False, False, False, False, False], dtype='object')"
      ]
     },
     "execution_count": 8,
     "metadata": {},
     "output_type": "execute_result"
    }
   ],
   "source": [
    "tm.makeBoolIndex()"
   ]
  },
  {
   "cell_type": "markdown",
   "metadata": {},
   "source": [
    "Tạo index giá trị định tính (categorical)"
   ]
  },
  {
   "cell_type": "code",
   "execution_count": 9,
   "metadata": {},
   "outputs": [
    {
     "data": {
      "text/plain": [
       "CategoricalIndex(['Klp9', '248b', '0VOn', '0VOn', '0VOn', 'Klp9', '248b',\n",
       "                  '0VOn', '248b', 'Klp9'],\n",
       "                 categories=['0VOn', '248b', 'Klp9'], ordered=False, dtype='category')"
      ]
     },
     "execution_count": 9,
     "metadata": {},
     "output_type": "execute_result"
    }
   ],
   "source": [
    "tm.makeCategoricalIndex()"
   ]
  },
  {
   "cell_type": "markdown",
   "metadata": {},
   "source": [
    "Tạo index là số nguyên"
   ]
  },
  {
   "cell_type": "code",
   "execution_count": 24,
   "metadata": {},
   "outputs": [
    {
     "data": {
      "text/plain": [
       "Int64Index([0, 1, 2, 3, 4], dtype='int64', name='ID_number')"
      ]
     },
     "execution_count": 24,
     "metadata": {},
     "output_type": "execute_result"
    }
   ],
   "source": [
    "tm.makeIntIndex(k = 5, name = 'ID_number')"
   ]
  },
  {
   "cell_type": "markdown",
   "metadata": {},
   "source": [
    "Hàm CustomIndex cho phép tạo index theo kiểu tùy chọn, thí dụ integer:"
   ]
  },
  {
   "cell_type": "code",
   "execution_count": 32,
   "metadata": {},
   "outputs": [
    {
     "data": {
      "text/plain": [
       "Int64Index([0, 1, 2, 3, 4, 5, 6, 7, 8, 9], dtype='int64')"
      ]
     },
     "execution_count": 32,
     "metadata": {},
     "output_type": "execute_result"
    }
   ],
   "source": [
    "tm.makeCustomIndex(nentries = 10, nlevels = 1, idx_type = 'i')"
   ]
  },
  {
   "cell_type": "markdown",
   "metadata": {},
   "source": [
    "Hoặc datetime:"
   ]
  },
  {
   "cell_type": "code",
   "execution_count": 34,
   "metadata": {},
   "outputs": [
    {
     "data": {
      "text/plain": [
       "DatetimeIndex(['2000-01-03', '2000-01-04', '2000-01-05', '2000-01-06',\n",
       "               '2000-01-07', '2000-01-10', '2000-01-11', '2000-01-12',\n",
       "               '2000-01-13', '2000-01-14'],\n",
       "              dtype='datetime64[ns]', freq='B')"
      ]
     },
     "execution_count": 34,
     "metadata": {},
     "output_type": "execute_result"
    }
   ],
   "source": [
    "tm.makeCustomIndex(nentries = 10, nlevels = 1, idx_type = 'dt')"
   ]
  },
  {
   "cell_type": "markdown",
   "metadata": {},
   "source": [
    "Tạo index là chuỗi thời gian với chu kỳ là tháng (M)"
   ]
  },
  {
   "cell_type": "code",
   "execution_count": 15,
   "metadata": {},
   "outputs": [
    {
     "data": {
      "text/plain": [
       "DatetimeIndex(['2000-01-31', '2000-02-29', '2000-03-31', '2000-04-30',\n",
       "               '2000-05-31', '2000-06-30', '2000-07-31', '2000-08-31',\n",
       "               '2000-09-30', '2000-10-31', '2000-11-30', '2000-12-31',\n",
       "               '2001-01-31', '2001-02-28', '2001-03-31', '2001-04-30',\n",
       "               '2001-05-31', '2001-06-30', '2001-07-31', '2001-08-31'],\n",
       "              dtype='datetime64[ns]', name='Date', freq='M')"
      ]
     },
     "execution_count": 15,
     "metadata": {},
     "output_type": "execute_result"
    }
   ],
   "source": [
    "tm.makeDateIndex(k = 20, freq = 'M', name = \"Date\")"
   ]
  },
  {
   "cell_type": "markdown",
   "metadata": {},
   "source": [
    "Tạo index là các khoảng (interval)"
   ]
  },
  {
   "cell_type": "code",
   "execution_count": 23,
   "metadata": {},
   "outputs": [
    {
     "data": {
      "text/plain": [
       "IntervalIndex([(0.0, 20.0], (20.0, 40.0], (40.0, 60.0], (60.0, 80.0], (80.0, 100.0]],\n",
       "              closed='right',\n",
       "              name='Interval',\n",
       "              dtype='interval[float64]')"
      ]
     },
     "execution_count": 23,
     "metadata": {},
     "output_type": "execute_result"
    }
   ],
   "source": [
    "tm.makeIntervalIndex(k = 5, name = 'Interval')"
   ]
  },
  {
   "cell_type": "markdown",
   "metadata": {},
   "source": [
    "Tạo dataframe hỗn hợp nhiều kiểu dữ liệu:"
   ]
  },
  {
   "cell_type": "code",
   "execution_count": 25,
   "metadata": {},
   "outputs": [
    {
     "data": {
      "text/html": [
       "<div>\n",
       "<style scoped>\n",
       "    .dataframe tbody tr th:only-of-type {\n",
       "        vertical-align: middle;\n",
       "    }\n",
       "\n",
       "    .dataframe tbody tr th {\n",
       "        vertical-align: top;\n",
       "    }\n",
       "\n",
       "    .dataframe thead th {\n",
       "        text-align: right;\n",
       "    }\n",
       "</style>\n",
       "<table border=\"1\" class=\"dataframe\">\n",
       "  <thead>\n",
       "    <tr style=\"text-align: right;\">\n",
       "      <th></th>\n",
       "      <th>A</th>\n",
       "      <th>B</th>\n",
       "      <th>C</th>\n",
       "      <th>D</th>\n",
       "    </tr>\n",
       "  </thead>\n",
       "  <tbody>\n",
       "    <tr>\n",
       "      <th>0</th>\n",
       "      <td>0.0</td>\n",
       "      <td>0.0</td>\n",
       "      <td>foo1</td>\n",
       "      <td>2009-01-01</td>\n",
       "    </tr>\n",
       "    <tr>\n",
       "      <th>1</th>\n",
       "      <td>1.0</td>\n",
       "      <td>1.0</td>\n",
       "      <td>foo2</td>\n",
       "      <td>2009-01-02</td>\n",
       "    </tr>\n",
       "    <tr>\n",
       "      <th>2</th>\n",
       "      <td>2.0</td>\n",
       "      <td>0.0</td>\n",
       "      <td>foo3</td>\n",
       "      <td>2009-01-05</td>\n",
       "    </tr>\n",
       "    <tr>\n",
       "      <th>3</th>\n",
       "      <td>3.0</td>\n",
       "      <td>1.0</td>\n",
       "      <td>foo4</td>\n",
       "      <td>2009-01-06</td>\n",
       "    </tr>\n",
       "    <tr>\n",
       "      <th>4</th>\n",
       "      <td>4.0</td>\n",
       "      <td>0.0</td>\n",
       "      <td>foo5</td>\n",
       "      <td>2009-01-07</td>\n",
       "    </tr>\n",
       "  </tbody>\n",
       "</table>\n",
       "</div>"
      ],
      "text/plain": [
       "     A    B     C          D\n",
       "0  0.0  0.0  foo1 2009-01-01\n",
       "1  1.0  1.0  foo2 2009-01-02\n",
       "2  2.0  0.0  foo3 2009-01-05\n",
       "3  3.0  1.0  foo4 2009-01-06\n",
       "4  4.0  0.0  foo5 2009-01-07"
      ]
     },
     "execution_count": 25,
     "metadata": {},
     "output_type": "execute_result"
    }
   ],
   "source": [
    "tm.makeMixedDataFrame()"
   ]
  },
  {
   "cell_type": "markdown",
   "metadata": {},
   "source": [
    "Không chỉ mô phỏng dataframe và index, ta còn mô phỏng được Series, là cấu trúc dữ liệu 1 chiều trong pandas"
   ]
  },
  {
   "cell_type": "code",
   "execution_count": 22,
   "metadata": {},
   "outputs": [
    {
     "data": {
      "text/plain": [
       "ZbqM1dT450   -0.127528\n",
       "L6iIfDvYUe    0.125653\n",
       "G6IGp7NeUT    0.716625\n",
       "MB54DbqMWm   -0.179937\n",
       "lNVEDb5v6u   -1.134447\n",
       "YI8WU9X6RI    0.948029\n",
       "Name: Float_serie, dtype: float64"
      ]
     },
     "execution_count": 22,
     "metadata": {},
     "output_type": "execute_result"
    }
   ],
   "source": [
    "tm.N = 6\n",
    "tm.makeFloatSeries(name = \"Float_serie\")"
   ]
  },
  {
   "cell_type": "markdown",
   "metadata": {},
   "source": [
    "Mô phỏng chuỗi thời gian"
   ]
  },
  {
   "cell_type": "code",
   "execution_count": 26,
   "metadata": {},
   "outputs": [
    {
     "data": {
      "text/plain": [
       "2000-01-01    0.024760\n",
       "2000-01-02    0.885458\n",
       "2000-01-03    1.788251\n",
       "2000-01-04    1.463858\n",
       "2000-01-05   -0.616507\n",
       "2000-01-06    0.130840\n",
       "2000-01-07   -0.157863\n",
       "Freq: D, Name: Series, dtype: float64"
      ]
     },
     "execution_count": 26,
     "metadata": {},
     "output_type": "execute_result"
    }
   ],
   "source": [
    "tm.makeTimeSeries(nper = 7, freq = \"D\", name = \"Series\")"
   ]
  },
  {
   "cell_type": "code",
   "execution_count": 27,
   "metadata": {},
   "outputs": [
    {
     "data": {
      "text/plain": [
       "opXuI1uqxW   2000-01-03\n",
       "ToJlRcTFQE   2000-01-04\n",
       "LcqXZGmcGO   2000-01-05\n",
       "I1r3uiCGom   2000-01-06\n",
       "dAG4eBovjG   2000-01-07\n",
       "Cobc3Z10TQ   2000-01-10\n",
       "Name: Obj, dtype: datetime64[ns]"
      ]
     },
     "execution_count": 27,
     "metadata": {},
     "output_type": "execute_result"
    }
   ],
   "source": [
    "tm.makeObjectSeries(name = 'Obj')"
   ]
  },
  {
   "cell_type": "markdown",
   "metadata": {},
   "source": [
    "Về nội dung, dữ liệu mô phỏng là giả và vô nghĩa nhưng về hình thức thì lại rất hữu ích, vì chúng thỏa mãn các yếu tố kỹ thuật cho các mục tiêu như:\n",
    "\n",
    "+ Luyện tập method, function mới\n",
    "+ Kiểm tra code của chính mình viết\n",
    "+ Mô tả cấu trúc dữ liệu cho đồng nghiệp khi làm việc nhóm"
   ]
  },
  {
   "cell_type": "markdown",
   "metadata": {},
   "source": [
    "Ghi chú: Đây là tài liệu cho nhóm Biomedical Data Science Initiatives: \n",
    "https://www.facebook.com/groups/1042247899235421/"
   ]
  }
 ],
 "metadata": {
  "hide_input": false,
  "kernelspec": {
   "display_name": "Python 3",
   "language": "python",
   "name": "python3"
  },
  "language_info": {
   "codemirror_mode": {
    "name": "ipython",
    "version": 3
   },
   "file_extension": ".py",
   "mimetype": "text/x-python",
   "name": "python",
   "nbconvert_exporter": "python",
   "pygments_lexer": "ipython3",
   "version": "3.7.3"
  },
  "toc": {
   "base_numbering": 1,
   "nav_menu": {},
   "number_sections": true,
   "sideBar": true,
   "skip_h1_title": false,
   "title_cell": "Table of Contents",
   "title_sidebar": "Contents",
   "toc_cell": false,
   "toc_position": {},
   "toc_section_display": true,
   "toc_window_display": false
  }
 },
 "nbformat": 4,
 "nbformat_minor": 2
}
